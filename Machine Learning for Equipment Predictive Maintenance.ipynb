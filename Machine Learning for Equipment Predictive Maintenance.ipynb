{
  "cells": [
    {
      "cell_type": "markdown",
      "metadata": {
        "id": "view-in-github",
        "colab_type": "text"
      },
      "source": [
        "<a href=\"https://colab.research.google.com/github/rautnavnath/Data-Science-Machine-Learning-Projects/blob/main/Machine%20Learning%20for%20Equipment%20Predictive%20Maintenance.ipynb\" target=\"_parent\"><img src=\"https://colab.research.google.com/assets/colab-badge.svg\" alt=\"Open In Colab\"/></a>"
      ]
    },
    {
      "metadata": {
        "id": "fUZ_vbpmTtnm"
      },
      "cell_type": "markdown",
      "source": [
        "# Machine Learning for Equipment Failure Prediction and Equipment Maintenance (PM)"
      ]
    },
    {
      "metadata": {
        "id": "I65Srt3xTtno"
      },
      "cell_type": "markdown",
      "source": [
        "For more information on the topic please see the following article.\n",
        "\n",
        "https://medium.com/swlh/machine-learning-for-equipment-failure-prediction-and-predictive-maintenance-pm-e72b1ce42da1\n",
        "\n",
        "\n",
        "Published July 2020, Greatly revised February 2021.  Augmented and improved again in August 2022."
      ]
    },
    {
      "metadata": {
        "id": "zmF0nrb3Ttno"
      },
      "cell_type": "markdown",
      "source": [
        "In this notebook, I walk through a predictive maintenance problem in great detail.  These types of issues can be tricky for several reasons.  The first six sections deal with building a model.  The last sections deal with evaluating model effectiveness and ensuring it will be effective when deployed in production.\n",
        "\n",
        "\n",
        "When it comes to dealing with machines that require periodic maintenance, there are generally three possible outcomes.\n",
        "\n",
        "One, you can maintain a machine too frequently. In other words, the machine gets maintenance when it is not required. In this scenario, you are throwing money out the window, wasting resources providing unnecessary maintenance. For example, you could change the oil in your car every single day. This is not optimal, and you will waste a lot of money on unnecessary maintenance.\n",
        "\n",
        "Two, you don’t maintain your machine frequently enough. Failing to maintain a machine means that the machine will break while operating. Here, the costs could be substantial. Not only do you have the repair costs, but also costs associated with lost production. If a machine on the assembly line goes down, the line cannot produce anything. No production means lost profit. Also, you will incur legal and medical costs if injuries occurred as a result of the failure.\n",
        "\n",
        "Three, a machine is maintained when it needs maintenance. This is obviously the better alternative of the three. Note, that that there is still a cost associated with timely maintenance.\n",
        "\n",
        "So, we need to maintain machines when they need maintenance, right? Unfortunately, this is easier said than done. Fortunately, we can use predictive maintenance (PM) to predict when machines need maintenance.\n",
        "\n",
        "I should also mention that most machines come with manufacturer recommendations on maintenance. The problem with manufacturer recommendations is that they represent an average. For example, cars on average need an oil change every 3,000 miles, but how frequently does your car need an oil change? It may be more or less than 3,000 miles depending on several factors, including where your drive, how you drive, and how frequently you drive.\n",
        "\n",
        "Predictive maintenance (PM) can tell you, based on data, when a machine requires maintenance. An effective PM program will minimize under and over-maintaining your machine. For a large manufacturer with thousands of machines, being precise on machine maintenance can save millions of dollars every year.\n",
        "\n",
        "In this article, I will examine a typical Predictive Maintenance (PM) use case. As I walk through this example, I will describe some of the issues that arise with PM problems and suggest ways to solve them.\n",
        "\n",
        "An important note about the data used in this exercise. It is entirely fake. I created the data based on my experience of dealing with these types of problems. Although it is entirely artificial, I believe the data and use case is very realistic and consistent with many real PM problems.\n",
        "\n",
        "\n",
        "\n",
        "\n"
      ]
    },
    {
      "metadata": {
        "id": "-_eLqWtRTtnp"
      },
      "cell_type": "markdown",
      "source": [
        "The firm in our use case provided a sample of data that includes 421 machines that failed over two years. They spent 11.766M dollars on maintenance, most of which came from running machines until failure.\n",
        "\n",
        "Here is a summary of the maintained or repaired machines over the last two years."
      ]
    },
    {
      "metadata": {
        "id": "uoglS7rITtnq",
        "outputId": "6b247a8f-9067-48cb-dedf-764d683fc36f"
      },
      "cell_type": "code",
      "source": [
        "from IPython.display import Image\n",
        "from IPython.core.display import HTML\n",
        "Image(url= \"https://cdn-images-1.medium.com/max/1600/1*fUKUEUeqgIYU9xlxj4pwhw.png\")"
      ],
      "execution_count": null,
      "outputs": [
        {
          "output_type": "execute_result",
          "execution_count": 2,
          "data": {
            "text/html": "<img src=\"https://cdn-images-1.medium.com/max/1600/1*fUKUEUeqgIYU9xlxj4pwhw.png\"/>",
            "text/plain": "<IPython.core.display.Image object>"
          },
          "metadata": {}
        }
      ]
    },
    {
      "metadata": {
        "id": "qczNERn2Ttnr"
      },
      "cell_type": "markdown",
      "source": [
        "From the data above, it currently costs the firm about $28,000 per failed or maintained machine. Our goal is to lower this cost.\n",
        "\n",
        "In the chart above, Timely Maintenance costs more than Unnecessary Maintenance. There is a good reason for this. For this machine, unnecessary maintenance means that that machine was moved off-line and checked, but the part in question showed insufficient wear to replace. Because parts were not replaced, there are no material costs, only labor.\n",
        "\n",
        "Note that this company does very little predictive maintenance. Most of the time, they just run the machines to failure. Also, note that these machines will break in four to eight years if they don’t receive maintenance. When they fail, they must be pulled off-line and repaired.\n",
        "\n",
        "Our goal is to show the firm how a Predictive Maintenance program can save them money. To do this, we will build a predictive model that predicts machine failure within 90 days of actual failure. Note that an appropriate failure window will always depend on the context of the problem. If a machine breaks without maintenance in 6 months, a three-month window makes no sense. Here, where a machine will run between 4 to 6 years without maintenance, a 90-day window is reasonable.\n",
        "\n",
        "Our objective is to develop a solution that will lower the costs of failure. Again, it currently costs the firm about 28,000 per machine. We will attempt to reduce this cost.\n",
        "\n",
        "Note that I developed this exercise in Watson Studio on the IBM Cloud.  If you have issues running the notebook, please set up a free account on IBM Cloud and try it there.\n",
        "https://www.ibm.com/cloud/watson-studio\n"
      ]
    },
    {
      "metadata": {
        "id": "-m0_Byh2Ttnr"
      },
      "cell_type": "markdown",
      "source": [
        "## Table of Contents"
      ]
    },
    {
      "metadata": {
        "id": "zRcfoE81Ttnr"
      },
      "cell_type": "markdown",
      "source": [
        "1. [Getting Setup](#setup1)<br>\n",
        "\n",
        "2. [Data Exploration](#explore)<br>\n",
        "\n",
        "3. [Data Transformation and Feature Engineering](#trans)<br>\n",
        "\n",
        "4. [Dealing with the Small Number of Failures](#small)<br>\n",
        "    4.1 [Expand the Failure Window](#window)<br>\n",
        "    4.2 [Create Testing, Training and Validation Groups](#groups)<br>\n",
        "    4.3 [SMOTE the Training Data](#smote)<br>\n",
        "5. [More Data Transformations and Feature Engineering](#more)<br>\n",
        "6. [Build the Model on the Balanced Data Set](#build)<br>\n",
        "7. [Evaluate the model](#score)<br>\n",
        "    7.1 [Evaluate the model using an AUC and accuacy metrics](#7.1)<br>\n",
        "    7.2 [Evaluating with a Confusion Matrix](#7.2)<br>\n",
        "    7.3 [Using Heuristics to Define a False Positive, True Positive, False Negative and True Negative](#7.3)<br>\n",
        "    7.31 [Eliminate redundant failure signals](#7.31)<br>\n",
        "    7.32 [Identify the machine id for each signal.  Identify the date of the failure signal.](#7.32)<br>\n",
        "    7.33 [Create a realistic confusion matrix](#7.33)<br>\n",
        "    7.34 [Incorporating the Economics of the Problem.](#7.34)<br>\n",
        "    7.4 [Fine-Tuning  the solution.](#7.4)<br>\n",
        "11. [Conclusions](#conc)<br>"
      ]
    },
    {
      "metadata": {
        "id": "Ds33BBRETtns"
      },
      "cell_type": "markdown",
      "source": [
        "### 1.0 Getting Set-Up <a id=\"setup1\"></a>"
      ]
    },
    {
      "metadata": {
        "id": "Q05HV4XsTtns",
        "outputId": "312e5a70-c207-4182-c40b-a7ca903ca59c"
      },
      "cell_type": "code",
      "source": [
        "!pip uninstall imbalanced-learn -y"
      ],
      "execution_count": null,
      "outputs": [
        {
          "output_type": "stream",
          "text": "\u001b[33mWARNING: Skipping imbalanced-learn as it is not installed.\u001b[0m\r\n",
          "name": "stdout"
        }
      ]
    },
    {
      "metadata": {
        "id": "aD6Au7ZCTtns",
        "outputId": "3ef36ad3-3de3-437c-b380-48ec5631e3b8"
      },
      "cell_type": "code",
      "source": [
        "#!pip install plotly\n",
        "#!pip install chart-studio\n",
        "#!pip install -U scikit-learn\n",
        "\n",
        "!pip install imbalanced-learn\n",
        "\n",
        "\n"
      ],
      "execution_count": null,
      "outputs": [
        {
          "output_type": "stream",
          "text": "Collecting imbalanced-learn\n  Downloading imbalanced_learn-0.9.1-py3-none-any.whl (199 kB)\n\u001b[K     |████████████████████████████████| 199 kB 19.1 MB/s eta 0:00:01\n\u001b[?25hRequirement already satisfied: threadpoolctl>=2.0.0 in /opt/conda/envs/Python-3.9/lib/python3.9/site-packages (from imbalanced-learn) (2.2.0)\nCollecting joblib>=1.0.0\n  Downloading joblib-1.1.0-py2.py3-none-any.whl (306 kB)\n\u001b[K     |████████████████████████████████| 306 kB 38.5 MB/s eta 0:00:01\n\u001b[?25hRequirement already satisfied: numpy>=1.17.3 in /opt/conda/envs/Python-3.9/lib/python3.9/site-packages (from imbalanced-learn) (1.20.3)\nCollecting scikit-learn>=1.1.0\n  Downloading scikit_learn-1.1.2-cp39-cp39-manylinux_2_17_x86_64.manylinux2014_x86_64.whl (30.8 MB)\n\u001b[K     |████████████████████████████████| 30.8 MB 25.6 MB/s eta 0:00:01\n\u001b[?25hRequirement already satisfied: scipy>=1.3.2 in /opt/conda/envs/Python-3.9/lib/python3.9/site-packages (from imbalanced-learn) (1.7.3)\nInstalling collected packages: joblib, scikit-learn, imbalanced-learn\n  Attempting uninstall: joblib\n    Found existing installation: joblib 0.17.0\n    Uninstalling joblib-0.17.0:\n      Successfully uninstalled joblib-0.17.0\n  Attempting uninstall: scikit-learn\n    Found existing installation: scikit-learn 1.0.2\n    Uninstalling scikit-learn-1.0.2:\n      Successfully uninstalled scikit-learn-1.0.2\n\u001b[31mERROR: pip's dependency resolver does not currently take into account all the packages that are installed. This behaviour is the source of the following dependency conflicts.\nautoai-ts-libs 1.1.9 requires scikit-learn<1.1,>=1.0.2; python_version >= \"3.9\", but you have scikit-learn 1.1.2 which is incompatible.\nautoai-libs 1.13.2 requires scikit-learn<1.1,>=0.20.3; python_version >= \"3.9\", but you have scikit-learn 1.1.2 which is incompatible.\u001b[0m\nSuccessfully installed imbalanced-learn-0.9.1 joblib-1.1.0 scikit-learn-1.1.2\n",
          "name": "stdout"
        }
      ]
    },
    {
      "metadata": {
        "id": "_23OhVqPTtnt"
      },
      "cell_type": "markdown",
      "source": [
        " Install all of the relevant Python Libraries"
      ]
    },
    {
      "metadata": {
        "id": "nzoU1_cTTtnt"
      },
      "cell_type": "markdown",
      "source": [
        "Import required libraries"
      ]
    },
    {
      "metadata": {
        "scrolled": true,
        "id": "PE6D6F47Ttnt"
      },
      "cell_type": "code",
      "source": [
        "#import chart_studio.plotly as py\n",
        "#import plotly.graph_objs as go\n",
        "#import plotly as plotly\n",
        "import pandas as pd\n",
        "import numpy as np\n",
        "from imblearn.over_sampling import SMOTE\n",
        "from imblearn.over_sampling import SMOTENC\n",
        "from sklearn import metrics\n",
        "\n",
        "from sklearn.preprocessing import LabelEncoder\n",
        "\n",
        "import xgboost as xgb\n",
        "from xgboost.sklearn import XGBClassifier\n",
        "\n",
        "import types\n",
        "import pandas as pd\n",
        "\n",
        "def __iter__(self): return 0\n",
        "\n",
        "\n"
      ],
      "execution_count": null,
      "outputs": []
    },
    {
      "metadata": {
        "id": "oQkjASAqTtnt"
      },
      "cell_type": "markdown",
      "source": [
        "Import the data from GitHub."
      ]
    },
    {
      "metadata": {
        "id": "O7SEqO2qTtnt",
        "outputId": "de8bb756-bbfd-47cb-bf5f-93c0ee8d69ab"
      },
      "cell_type": "code",
      "source": [
        "#Remove the data if you run this notebook more than once\n",
        "!rm equipment_failure_data_1.csv"
      ],
      "execution_count": null,
      "outputs": [
        {
          "output_type": "stream",
          "text": "rm: cannot remove 'equipment_failure_data_1.csv': No such file or directory\r\n",
          "name": "stdout"
        }
      ]
    },
    {
      "metadata": {
        "id": "ZeTF0JxtTtnu",
        "outputId": "3d5dacc7-fe03-40fe-ef61-9c44ecc13f83"
      },
      "cell_type": "code",
      "source": [
        "#import first half from github\n",
        "!wget https://raw.githubusercontent.com/shadgriffin/machine_failure/master/equipment_failure_data_1.csv"
      ],
      "execution_count": null,
      "outputs": [
        {
          "output_type": "stream",
          "text": "--2022-08-12 20:25:18--  https://raw.githubusercontent.com/shadgriffin/machine_failure/master/equipment_failure_data_1.csv\nResolving raw.githubusercontent.com (raw.githubusercontent.com)... 185.199.109.133, 185.199.110.133, 185.199.111.133, ...\nConnecting to raw.githubusercontent.com (raw.githubusercontent.com)|185.199.109.133|:443... connected.\nHTTP request sent, awaiting response... 200 OK\nLength: 11219474 (11M) [text/plain]\nSaving to: ‘equipment_failure_data_1.csv’\n\nequipment_failure_d 100%[===================>]  10.70M  --.-KB/s    in 0.07s   \n\n2022-08-12 20:25:18 (159 MB/s) - ‘equipment_failure_data_1.csv’ saved [11219474/11219474]\n\n",
          "name": "stdout"
        }
      ]
    },
    {
      "metadata": {
        "id": "P2M8dHxITtnu"
      },
      "cell_type": "code",
      "source": [
        "# Convert csv to pandas dataframe\n",
        "pd_data_1 = pd.read_csv(\"equipment_failure_data_1.csv\", sep=\",\", header=0)"
      ],
      "execution_count": null,
      "outputs": []
    },
    {
      "metadata": {
        "id": "QqpfVjpHTtnu",
        "outputId": "b40a418c-2ba5-4523-c4ef-df2f9a49303a"
      },
      "cell_type": "code",
      "source": [
        "#Remove the data if you run this notebook more than once\n",
        "!rm equipment_failure_data_2.csv"
      ],
      "execution_count": null,
      "outputs": [
        {
          "output_type": "stream",
          "text": "rm: cannot remove 'equipment_failure_data_2.csv': No such file or directory\r\n",
          "name": "stdout"
        }
      ]
    },
    {
      "metadata": {
        "id": "ZBIsxizPTtnu",
        "outputId": "67188e6d-7105-4d54-90ac-770cd3774a08"
      },
      "cell_type": "code",
      "source": [
        "#Import the second half from github\n",
        "!wget https://raw.githubusercontent.com/shadgriffin/machine_failure/master/equipment_failure_data_2.csv"
      ],
      "execution_count": null,
      "outputs": [
        {
          "output_type": "stream",
          "text": "--2022-08-12 20:25:20--  https://raw.githubusercontent.com/shadgriffin/machine_failure/master/equipment_failure_data_2.csv\nResolving raw.githubusercontent.com (raw.githubusercontent.com)... 185.199.111.133, 185.199.109.133, 185.199.110.133, ...\nConnecting to raw.githubusercontent.com (raw.githubusercontent.com)|185.199.111.133|:443... connected.\nHTTP request sent, awaiting response... 200 OK\nLength: 11762512 (11M) [text/plain]\nSaving to: ‘equipment_failure_data_2.csv’\n\nequipment_failure_d 100%[===================>]  11.22M  --.-KB/s    in 0.07s   \n\n2022-08-12 20:25:21 (153 MB/s) - ‘equipment_failure_data_2.csv’ saved [11762512/11762512]\n\n",
          "name": "stdout"
        }
      ]
    },
    {
      "metadata": {
        "id": "6zBpv7pzTtnu"
      },
      "cell_type": "code",
      "source": [
        "# convert to pandas dataframe\n",
        "pd_data_2 = pd.read_csv(\"equipment_failure_data_2.csv\", sep=\",\", header=0)"
      ],
      "execution_count": null,
      "outputs": []
    },
    {
      "metadata": {
        "id": "X3WHDrXOTtnv"
      },
      "cell_type": "code",
      "source": [
        "#concatenate the two data files into one dataframe\n",
        "pd_data=pd.concat([pd_data_1, pd_data_2])\n",
        "\n"
      ],
      "execution_count": null,
      "outputs": []
    },
    {
      "metadata": {
        "id": "pByO0zRKTtnv"
      },
      "cell_type": "markdown",
      "source": [
        "### 2.0 Data Exporation <a id=\"explore\"></a>"
      ]
    },
    {
      "metadata": {
        "id": "JL4MPv_RTtnv",
        "outputId": "1a6deaf0-be16-425b-8b06-5f3d6470d509"
      },
      "cell_type": "code",
      "source": [
        "pd_data.head()"
      ],
      "execution_count": null,
      "outputs": [
        {
          "output_type": "execute_result",
          "execution_count": 13,
          "data": {
            "text/plain": "       ID     DATE REGION_CLUSTER MAINTENANCE_VENDOR MANUFACTURER  WELL_GROUP  \\\n0  100001  12/2/14              G                  O            Y           1   \n1  100001  12/3/14              G                  O            Y           1   \n2  100001  12/4/14              G                  O            Y           1   \n3  100001  12/5/14              G                  O            Y           1   \n4  100001  12/6/14              G                  O            Y           1   \n\n         S15         S17    S13      S5       S16  S19        S18  \\\n0  11.088000  145.223448  39.34  3501.0  8.426869  1.9  24.610345   \n1   8.877943  187.573214  39.20  3489.0  6.483714  1.9  24.671429   \n2   8.676444  148.363704  38.87  3459.0  6.159659  2.0  24.733333   \n3   9.988338  133.660000  39.47  3513.0  9.320308  2.0  24.773077   \n4   8.475264  197.181600  40.33  3589.0  8.022960  1.5  24.808000   \n\n   EQUIPMENT_FAILURE   S8  AGE_OF_EQUIPMENT  \n0                  0  0.0               880  \n1                  0  0.0               881  \n2                  0  0.0               882  \n3                  0  0.0               883  \n4                  0  0.0               884  ",
            "text/html": "<div>\n<style scoped>\n    .dataframe tbody tr th:only-of-type {\n        vertical-align: middle;\n    }\n\n    .dataframe tbody tr th {\n        vertical-align: top;\n    }\n\n    .dataframe thead th {\n        text-align: right;\n    }\n</style>\n<table border=\"1\" class=\"dataframe\">\n  <thead>\n    <tr style=\"text-align: right;\">\n      <th></th>\n      <th>ID</th>\n      <th>DATE</th>\n      <th>REGION_CLUSTER</th>\n      <th>MAINTENANCE_VENDOR</th>\n      <th>MANUFACTURER</th>\n      <th>WELL_GROUP</th>\n      <th>S15</th>\n      <th>S17</th>\n      <th>S13</th>\n      <th>S5</th>\n      <th>S16</th>\n      <th>S19</th>\n      <th>S18</th>\n      <th>EQUIPMENT_FAILURE</th>\n      <th>S8</th>\n      <th>AGE_OF_EQUIPMENT</th>\n    </tr>\n  </thead>\n  <tbody>\n    <tr>\n      <th>0</th>\n      <td>100001</td>\n      <td>12/2/14</td>\n      <td>G</td>\n      <td>O</td>\n      <td>Y</td>\n      <td>1</td>\n      <td>11.088000</td>\n      <td>145.223448</td>\n      <td>39.34</td>\n      <td>3501.0</td>\n      <td>8.426869</td>\n      <td>1.9</td>\n      <td>24.610345</td>\n      <td>0</td>\n      <td>0.0</td>\n      <td>880</td>\n    </tr>\n    <tr>\n      <th>1</th>\n      <td>100001</td>\n      <td>12/3/14</td>\n      <td>G</td>\n      <td>O</td>\n      <td>Y</td>\n      <td>1</td>\n      <td>8.877943</td>\n      <td>187.573214</td>\n      <td>39.20</td>\n      <td>3489.0</td>\n      <td>6.483714</td>\n      <td>1.9</td>\n      <td>24.671429</td>\n      <td>0</td>\n      <td>0.0</td>\n      <td>881</td>\n    </tr>\n    <tr>\n      <th>2</th>\n      <td>100001</td>\n      <td>12/4/14</td>\n      <td>G</td>\n      <td>O</td>\n      <td>Y</td>\n      <td>1</td>\n      <td>8.676444</td>\n      <td>148.363704</td>\n      <td>38.87</td>\n      <td>3459.0</td>\n      <td>6.159659</td>\n      <td>2.0</td>\n      <td>24.733333</td>\n      <td>0</td>\n      <td>0.0</td>\n      <td>882</td>\n    </tr>\n    <tr>\n      <th>3</th>\n      <td>100001</td>\n      <td>12/5/14</td>\n      <td>G</td>\n      <td>O</td>\n      <td>Y</td>\n      <td>1</td>\n      <td>9.988338</td>\n      <td>133.660000</td>\n      <td>39.47</td>\n      <td>3513.0</td>\n      <td>9.320308</td>\n      <td>2.0</td>\n      <td>24.773077</td>\n      <td>0</td>\n      <td>0.0</td>\n      <td>883</td>\n    </tr>\n    <tr>\n      <th>4</th>\n      <td>100001</td>\n      <td>12/6/14</td>\n      <td>G</td>\n      <td>O</td>\n      <td>Y</td>\n      <td>1</td>\n      <td>8.475264</td>\n      <td>197.181600</td>\n      <td>40.33</td>\n      <td>3589.0</td>\n      <td>8.022960</td>\n      <td>1.5</td>\n      <td>24.808000</td>\n      <td>0</td>\n      <td>0.0</td>\n      <td>884</td>\n    </tr>\n  </tbody>\n</table>\n</div>"
          },
          "metadata": {}
        }
      ]
    },
    {
      "metadata": {
        "id": "lYkMwjWVTtnv"
      },
      "cell_type": "markdown",
      "source": [
        "Now that we have the data imported into a Jupiter Notebook, we can explore it. Here is metadata explaining all of the fields in the data set.\n",
        "\n",
        "ID — ID field that represents a specific machine.\n",
        "\n",
        "DATE — The date of the observation.\n",
        "\n",
        "REGION_CLUSTER — a field that represents the region in which the machine resides.\n",
        "\n",
        "MAINTENANCE_VENDOR — a field that represents the company that provides maintenance and service to the machine.\n",
        "\n",
        "MANUFACTURER — the company that manufactured the equipment in question.\n",
        "\n",
        "WELL_GROUP — a field representing the type of machine.\n",
        "\n",
        "EQUIPMENT_AGE — Age of the machine, in days.\n",
        "\n",
        "S15 — A Sensor Value.\n",
        "\n",
        "S17 — A Sensor Value.\n",
        "\n",
        "S13 — A Sensor Value.\n",
        "\n",
        "S16 — A Sensor Value.\n",
        "\n",
        "S19 — A Sensor Value.\n",
        "\n",
        "S18 — A Sensor Value.\n",
        "\n",
        "S8 — A Sensor Value.\n",
        "\n",
        "EQUIPMENT_FAILURE — A ‘1’ means that the equipment failed. A ‘0’ means the equipment did not fail.\n",
        "\n",
        "Our first goal in this exercise is to build a model that predicts equipment failure. In other words, we will use the other variables in the data frame to predict EQUIPMENT_FAILURE.\n",
        "\n",
        "Now we will walk through the data.\n",
        "\n",
        "\n"
      ]
    },
    {
      "metadata": {
        "id": "yPiJHGhcTtnv"
      },
      "cell_type": "markdown",
      "source": [
        "Examine the number of rows and columns.  The data has 307,751 rows and 16 columns."
      ]
    },
    {
      "metadata": {
        "id": "S1WivXOoTtnv",
        "outputId": "a7586684-0271-4ec9-ba5b-1e047c741d2c"
      },
      "cell_type": "code",
      "source": [
        "\n",
        "pd_data.shape"
      ],
      "execution_count": null,
      "outputs": [
        {
          "output_type": "execute_result",
          "execution_count": 14,
          "data": {
            "text/plain": "(307751, 16)"
          },
          "metadata": {}
        }
      ]
    },
    {
      "metadata": {
        "id": "EI1BBl-XTtnw"
      },
      "cell_type": "markdown",
      "source": [
        "There are 421 machines in the data set."
      ]
    },
    {
      "metadata": {
        "id": "RRotVDxHTtnw",
        "outputId": "fc46d5c4-6ae4-46c7-97a1-c6d0a97c7280"
      },
      "cell_type": "code",
      "source": [
        "\n",
        "xxxx = pd.DataFrame(pd_data.groupby(['ID']).agg(['count']))\n",
        "xxxx.shape"
      ],
      "execution_count": null,
      "outputs": [
        {
          "output_type": "execute_result",
          "execution_count": 15,
          "data": {
            "text/plain": "(421, 15)"
          },
          "metadata": {}
        }
      ]
    },
    {
      "metadata": {
        "id": "86XwGELhTtnw"
      },
      "cell_type": "markdown",
      "source": [
        "there are 731 unique dates in the data set."
      ]
    },
    {
      "metadata": {
        "id": "ROllF92nTtnw",
        "outputId": "1adc701e-56e1-4ffc-dfac-903150eab5f3"
      },
      "cell_type": "code",
      "source": [
        "\n",
        "xxxx = pd.DataFrame(pd_data.groupby(['DATE']).agg(['count']))\n",
        "xxxx.shape"
      ],
      "execution_count": null,
      "outputs": [
        {
          "output_type": "execute_result",
          "execution_count": 16,
          "data": {
            "text/plain": "(731, 15)"
          },
          "metadata": {}
        }
      ]
    },
    {
      "metadata": {
        "id": "U11hkfGsTtnw"
      },
      "cell_type": "markdown",
      "source": [
        "We have 731 unique dates.  So if we have 421 machines and 731 unique dates, we should have 307,751 total records.  Based on the .shape command, we have one record per machine per date value.  There are no duplicates in the data frame.\n",
        "\n"
      ]
    },
    {
      "metadata": {
        "id": "qJBvKDmxTtnw"
      },
      "cell_type": "markdown",
      "source": [
        "And to triple confirm, remove all duplicates and count the rows again."
      ]
    },
    {
      "metadata": {
        "id": "TOrk5B3nTtnw",
        "outputId": "025805eb-b005-439a-efed-9f96f233dbf4"
      },
      "cell_type": "code",
      "source": [
        "df_failure_thingy=pd_data\n",
        "df_failure_thingy=df_failure_thingy.drop_duplicates(subset=['ID','DATE'])\n",
        "df_failure_thingy.shape\n"
      ],
      "execution_count": null,
      "outputs": [
        {
          "output_type": "execute_result",
          "execution_count": 17,
          "data": {
            "text/plain": "(307751, 16)"
          },
          "metadata": {}
        }
      ]
    },
    {
      "metadata": {
        "id": "vslODVAoTtnx"
      },
      "cell_type": "markdown",
      "source": [
        "Look for null values in the fields -- There are none."
      ]
    },
    {
      "metadata": {
        "scrolled": true,
        "id": "3sDa5ZdOTtnx",
        "outputId": "468dc621-1cf6-4409-f665-80a9cc29a20e"
      },
      "cell_type": "code",
      "source": [
        "pd_data.isnull().sum(axis = 0)"
      ],
      "execution_count": null,
      "outputs": [
        {
          "output_type": "execute_result",
          "execution_count": 18,
          "data": {
            "text/plain": "ID                    0\nDATE                  0\nREGION_CLUSTER        0\nMAINTENANCE_VENDOR    0\nMANUFACTURER          0\nWELL_GROUP            0\nS15                   0\nS17                   0\nS13                   0\nS5                    0\nS16                   0\nS19                   0\nS18                   0\nEQUIPMENT_FAILURE     0\nS8                    0\nAGE_OF_EQUIPMENT      0\ndtype: int64"
          },
          "metadata": {}
        }
      ]
    },
    {
      "metadata": {
        "id": "NUwQCs2vTtnx"
      },
      "cell_type": "markdown",
      "source": [
        "Now let’s examine the dependent variable in more detail. It appears that out of 307,751 records, we only have 421 failures. This corresponds to a failure rate of about .14%. In other words, for every failure, you have over 700 non-failures. This data set is very unbalanced. Later in this article, I will use a few techniques to mitigate the impact of a small number of observed failures."
      ]
    },
    {
      "metadata": {
        "id": "NX76NAU6Ttnx",
        "outputId": "0b106fa5-e85f-4443-80b7-d4fe90a30617"
      },
      "cell_type": "code",
      "source": [
        "xxxx = pd.DataFrame(pd_data.groupby(['EQUIPMENT_FAILURE'])['ID'].agg('count'))\n",
        "xxxx"
      ],
      "execution_count": null,
      "outputs": [
        {
          "output_type": "execute_result",
          "execution_count": 19,
          "data": {
            "text/plain": "                       ID\nEQUIPMENT_FAILURE        \n0                  307330\n1                     421",
            "text/html": "<div>\n<style scoped>\n    .dataframe tbody tr th:only-of-type {\n        vertical-align: middle;\n    }\n\n    .dataframe tbody tr th {\n        vertical-align: top;\n    }\n\n    .dataframe thead th {\n        text-align: right;\n    }\n</style>\n<table border=\"1\" class=\"dataframe\">\n  <thead>\n    <tr style=\"text-align: right;\">\n      <th></th>\n      <th>ID</th>\n    </tr>\n    <tr>\n      <th>EQUIPMENT_FAILURE</th>\n      <th></th>\n    </tr>\n  </thead>\n  <tbody>\n    <tr>\n      <th>0</th>\n      <td>307330</td>\n    </tr>\n    <tr>\n      <th>1</th>\n      <td>421</td>\n    </tr>\n  </tbody>\n</table>\n</div>"
          },
          "metadata": {}
        }
      ]
    },
    {
      "metadata": {
        "id": "S2_snRiDTtnx"
      },
      "cell_type": "markdown",
      "source": [
        "We can also explore the data with descriptive statistics."
      ]
    },
    {
      "metadata": {
        "id": "lEJL244wTtn2",
        "outputId": "360f1d5e-7e73-4c70-f847-256ba536692a"
      },
      "cell_type": "code",
      "source": [
        "\n",
        "pd_data.describe()"
      ],
      "execution_count": null,
      "outputs": [
        {
          "output_type": "execute_result",
          "execution_count": 20,
          "data": {
            "text/plain": "                  ID     WELL_GROUP            S15            S17  \\\ncount  307751.000000  307751.000000  307751.000000  307751.000000   \nmean   100310.826603       4.543943      14.585192      80.265541   \nstd       177.574390       2.284121       8.817056      85.804273   \nmin    100001.000000       1.000000       0.000000       0.000000   \n25%    100161.000000       3.000000       7.694100       0.000000   \n50%    100311.000000       5.000000      11.661600      31.680000   \n75%    100467.000000       6.000000      22.560000     160.080000   \nmax    100617.000000       8.000000      59.040000    2555.520000   \n\n                 S13             S5            S16            S19  \\\ncount  307751.000000  307751.000000  307751.000000  307751.000000   \nmean       35.018249    4675.848252       7.972097       9.069123   \nstd        14.446585    2521.074632       2.321949      16.898887   \nmin         0.000000       0.000000       0.000000       0.000000   \n25%        28.200000    3209.000000       6.621500       0.900000   \n50%        34.940000    4237.047619       8.004000       4.200000   \n75%        41.610000    5743.000000       9.460000      10.600000   \nmax       592.890000   52767.000000      24.600000     511.000000   \n\n                 S18  EQUIPMENT_FAILURE             S8  AGE_OF_EQUIPMENT  \ncount  307751.000000      307751.000000  307751.000000     307751.000000  \nmean      137.963064           0.001368     144.665715       2524.192399  \nstd       238.890128           0.036961     240.773926       3158.930976  \nmin         0.000000           0.000000     -16.490000          0.000000  \n25%        11.798276           0.000000       9.250000        721.000000  \n50%        38.200000           0.000000      53.080000       1113.000000  \n75%       150.900000           0.000000     165.092608       2784.000000  \nmax      4151.700000           1.000000    2068.110000      15170.000000  ",
            "text/html": "<div>\n<style scoped>\n    .dataframe tbody tr th:only-of-type {\n        vertical-align: middle;\n    }\n\n    .dataframe tbody tr th {\n        vertical-align: top;\n    }\n\n    .dataframe thead th {\n        text-align: right;\n    }\n</style>\n<table border=\"1\" class=\"dataframe\">\n  <thead>\n    <tr style=\"text-align: right;\">\n      <th></th>\n      <th>ID</th>\n      <th>WELL_GROUP</th>\n      <th>S15</th>\n      <th>S17</th>\n      <th>S13</th>\n      <th>S5</th>\n      <th>S16</th>\n      <th>S19</th>\n      <th>S18</th>\n      <th>EQUIPMENT_FAILURE</th>\n      <th>S8</th>\n      <th>AGE_OF_EQUIPMENT</th>\n    </tr>\n  </thead>\n  <tbody>\n    <tr>\n      <th>count</th>\n      <td>307751.000000</td>\n      <td>307751.000000</td>\n      <td>307751.000000</td>\n      <td>307751.000000</td>\n      <td>307751.000000</td>\n      <td>307751.000000</td>\n      <td>307751.000000</td>\n      <td>307751.000000</td>\n      <td>307751.000000</td>\n      <td>307751.000000</td>\n      <td>307751.000000</td>\n      <td>307751.000000</td>\n    </tr>\n    <tr>\n      <th>mean</th>\n      <td>100310.826603</td>\n      <td>4.543943</td>\n      <td>14.585192</td>\n      <td>80.265541</td>\n      <td>35.018249</td>\n      <td>4675.848252</td>\n      <td>7.972097</td>\n      <td>9.069123</td>\n      <td>137.963064</td>\n      <td>0.001368</td>\n      <td>144.665715</td>\n      <td>2524.192399</td>\n    </tr>\n    <tr>\n      <th>std</th>\n      <td>177.574390</td>\n      <td>2.284121</td>\n      <td>8.817056</td>\n      <td>85.804273</td>\n      <td>14.446585</td>\n      <td>2521.074632</td>\n      <td>2.321949</td>\n      <td>16.898887</td>\n      <td>238.890128</td>\n      <td>0.036961</td>\n      <td>240.773926</td>\n      <td>3158.930976</td>\n    </tr>\n    <tr>\n      <th>min</th>\n      <td>100001.000000</td>\n      <td>1.000000</td>\n      <td>0.000000</td>\n      <td>0.000000</td>\n      <td>0.000000</td>\n      <td>0.000000</td>\n      <td>0.000000</td>\n      <td>0.000000</td>\n      <td>0.000000</td>\n      <td>0.000000</td>\n      <td>-16.490000</td>\n      <td>0.000000</td>\n    </tr>\n    <tr>\n      <th>25%</th>\n      <td>100161.000000</td>\n      <td>3.000000</td>\n      <td>7.694100</td>\n      <td>0.000000</td>\n      <td>28.200000</td>\n      <td>3209.000000</td>\n      <td>6.621500</td>\n      <td>0.900000</td>\n      <td>11.798276</td>\n      <td>0.000000</td>\n      <td>9.250000</td>\n      <td>721.000000</td>\n    </tr>\n    <tr>\n      <th>50%</th>\n      <td>100311.000000</td>\n      <td>5.000000</td>\n      <td>11.661600</td>\n      <td>31.680000</td>\n      <td>34.940000</td>\n      <td>4237.047619</td>\n      <td>8.004000</td>\n      <td>4.200000</td>\n      <td>38.200000</td>\n      <td>0.000000</td>\n      <td>53.080000</td>\n      <td>1113.000000</td>\n    </tr>\n    <tr>\n      <th>75%</th>\n      <td>100467.000000</td>\n      <td>6.000000</td>\n      <td>22.560000</td>\n      <td>160.080000</td>\n      <td>41.610000</td>\n      <td>5743.000000</td>\n      <td>9.460000</td>\n      <td>10.600000</td>\n      <td>150.900000</td>\n      <td>0.000000</td>\n      <td>165.092608</td>\n      <td>2784.000000</td>\n    </tr>\n    <tr>\n      <th>max</th>\n      <td>100617.000000</td>\n      <td>8.000000</td>\n      <td>59.040000</td>\n      <td>2555.520000</td>\n      <td>592.890000</td>\n      <td>52767.000000</td>\n      <td>24.600000</td>\n      <td>511.000000</td>\n      <td>4151.700000</td>\n      <td>1.000000</td>\n      <td>2068.110000</td>\n      <td>15170.000000</td>\n    </tr>\n  </tbody>\n</table>\n</div>"
          },
          "metadata": {}
        }
      ]
    },
    {
      "metadata": {
        "id": "BsctzjDiTtn2"
      },
      "cell_type": "markdown",
      "source": [
        "Examine a simple correlation of the independent variable with the dependent variable.  "
      ]
    },
    {
      "metadata": {
        "id": "R1iFHDAVTtn2"
      },
      "cell_type": "code",
      "source": [
        "xxx=pd_data.corr( method='pearson')\n",
        "\n",
        "xxx=xxx[['EQUIPMENT_FAILURE']]\n",
        "xxx['ABS_EQUIPMENT_FAILURE']=abs(xxx['EQUIPMENT_FAILURE'])\n",
        "xxx=xxx.sort_values(by=['ABS_EQUIPMENT_FAILURE'], ascending=[False])"
      ],
      "execution_count": null,
      "outputs": []
    },
    {
      "metadata": {
        "scrolled": true,
        "id": "6p_1t2qxTtn3",
        "outputId": "e79ce472-bd4a-4201-8cb8-33817b8af86b"
      },
      "cell_type": "code",
      "source": [
        "xxx"
      ],
      "execution_count": null,
      "outputs": [
        {
          "output_type": "execute_result",
          "execution_count": 22,
          "data": {
            "text/plain": "                   EQUIPMENT_FAILURE  ABS_EQUIPMENT_FAILURE\nEQUIPMENT_FAILURE       1.000000e+00           1.000000e+00\nS15                    -6.036352e-02           6.036352e-02\nS17                    -3.429070e-02           3.429070e-02\nS18                     9.765002e-03           9.765002e-03\nS13                    -8.617761e-03           8.617761e-03\nS5                     -7.189979e-03           7.189979e-03\nS8                      6.517148e-03           6.517148e-03\nS16                    -6.138895e-03           6.138895e-03\nS19                    -6.087474e-03           6.087474e-03\nAGE_OF_EQUIPMENT        4.733368e-04           4.733368e-04\nID                      3.155090e-16           3.155090e-16\nWELL_GROUP              2.418628e-16           2.418628e-16",
            "text/html": "<div>\n<style scoped>\n    .dataframe tbody tr th:only-of-type {\n        vertical-align: middle;\n    }\n\n    .dataframe tbody tr th {\n        vertical-align: top;\n    }\n\n    .dataframe thead th {\n        text-align: right;\n    }\n</style>\n<table border=\"1\" class=\"dataframe\">\n  <thead>\n    <tr style=\"text-align: right;\">\n      <th></th>\n      <th>EQUIPMENT_FAILURE</th>\n      <th>ABS_EQUIPMENT_FAILURE</th>\n    </tr>\n  </thead>\n  <tbody>\n    <tr>\n      <th>EQUIPMENT_FAILURE</th>\n      <td>1.000000e+00</td>\n      <td>1.000000e+00</td>\n    </tr>\n    <tr>\n      <th>S15</th>\n      <td>-6.036352e-02</td>\n      <td>6.036352e-02</td>\n    </tr>\n    <tr>\n      <th>S17</th>\n      <td>-3.429070e-02</td>\n      <td>3.429070e-02</td>\n    </tr>\n    <tr>\n      <th>S18</th>\n      <td>9.765002e-03</td>\n      <td>9.765002e-03</td>\n    </tr>\n    <tr>\n      <th>S13</th>\n      <td>-8.617761e-03</td>\n      <td>8.617761e-03</td>\n    </tr>\n    <tr>\n      <th>S5</th>\n      <td>-7.189979e-03</td>\n      <td>7.189979e-03</td>\n    </tr>\n    <tr>\n      <th>S8</th>\n      <td>6.517148e-03</td>\n      <td>6.517148e-03</td>\n    </tr>\n    <tr>\n      <th>S16</th>\n      <td>-6.138895e-03</td>\n      <td>6.138895e-03</td>\n    </tr>\n    <tr>\n      <th>S19</th>\n      <td>-6.087474e-03</td>\n      <td>6.087474e-03</td>\n    </tr>\n    <tr>\n      <th>AGE_OF_EQUIPMENT</th>\n      <td>4.733368e-04</td>\n      <td>4.733368e-04</td>\n    </tr>\n    <tr>\n      <th>ID</th>\n      <td>3.155090e-16</td>\n      <td>3.155090e-16</td>\n    </tr>\n    <tr>\n      <th>WELL_GROUP</th>\n      <td>2.418628e-16</td>\n      <td>2.418628e-16</td>\n    </tr>\n  </tbody>\n</table>\n</div>"
          },
          "metadata": {}
        }
      ]
    },
    {
      "metadata": {
        "id": "5SHqYSjTTtn3"
      },
      "cell_type": "markdown",
      "source": [
        "### 3.0 Data transformations and Feature Engineering <a id=\"trans\"></a>"
      ]
    },
    {
      "metadata": {
        "id": "_COF75e4Ttn3"
      },
      "cell_type": "markdown",
      "source": [
        "Next, we can transform our data for a machine learning model. Specifically, we will create running summaries of the sensor values. Running summaries of sensor values are often useful in predicting equipment failure. For example, if a temperature gauge indicates a machine is warmer than average for the last five days, it may mean something is wrong.\n",
        "\n",
        "Remember that we are working with a panel data set. That is, we have multiple machines measured over two years. As we create our running summaries, we have to make sure that our summaries do not include more than one machine. For example, if we create a ten-day moving average, we do not want the first nine days of a machine to have values from the previous machine.\n",
        "\n",
        "Note that I create twenty-one-day summaries in this example. This works for this use case, but it may be advantageous to use more or different time intervals for other situations.\n"
      ]
    },
    {
      "metadata": {
        "id": "caVqEeGOTtn3"
      },
      "cell_type": "markdown",
      "source": [
        "Convert dates from character to date."
      ]
    },
    {
      "metadata": {
        "scrolled": true,
        "id": "vxIpq7NsTtn3"
      },
      "cell_type": "code",
      "source": [
        "\n",
        "\n",
        "pd_data['DATE'] = pd.to_datetime(pd_data['DATE'])\n",
        "\n",
        "\n",
        "\n"
      ],
      "execution_count": null,
      "outputs": []
    },
    {
      "metadata": {
        "id": "D9PQg3bNTtn3"
      },
      "cell_type": "markdown",
      "source": [
        "Create a new field called “flipper” that indicates when the id changes as the data are sorted by ID and DATE in ascending order. We will use this in a few other transformations."
      ]
    },
    {
      "metadata": {
        "id": "e6b_mU90Ttn3",
        "outputId": "a4701b16-bdec-4de6-c80a-6d8d307fe7f0"
      },
      "cell_type": "code",
      "source": [
        "pd_data=pd_data.sort_values(by=['ID','DATE'], ascending=[True, True])\n",
        "\n",
        "pd_data['flipper'] = np.where((pd_data.ID != pd_data.ID.shift(1)), 1, 0)\n",
        "pd_data.head()"
      ],
      "execution_count": null,
      "outputs": [
        {
          "output_type": "execute_result",
          "execution_count": 24,
          "data": {
            "text/plain": "       ID       DATE REGION_CLUSTER MAINTENANCE_VENDOR MANUFACTURER  \\\n0  100001 2014-12-02              G                  O            Y   \n1  100001 2014-12-03              G                  O            Y   \n2  100001 2014-12-04              G                  O            Y   \n3  100001 2014-12-05              G                  O            Y   \n4  100001 2014-12-06              G                  O            Y   \n\n   WELL_GROUP        S15         S17    S13      S5       S16  S19        S18  \\\n0           1  11.088000  145.223448  39.34  3501.0  8.426869  1.9  24.610345   \n1           1   8.877943  187.573214  39.20  3489.0  6.483714  1.9  24.671429   \n2           1   8.676444  148.363704  38.87  3459.0  6.159659  2.0  24.733333   \n3           1   9.988338  133.660000  39.47  3513.0  9.320308  2.0  24.773077   \n4           1   8.475264  197.181600  40.33  3589.0  8.022960  1.5  24.808000   \n\n   EQUIPMENT_FAILURE   S8  AGE_OF_EQUIPMENT  flipper  \n0                  0  0.0               880        1  \n1                  0  0.0               881        0  \n2                  0  0.0               882        0  \n3                  0  0.0               883        0  \n4                  0  0.0               884        0  ",
            "text/html": "<div>\n<style scoped>\n    .dataframe tbody tr th:only-of-type {\n        vertical-align: middle;\n    }\n\n    .dataframe tbody tr th {\n        vertical-align: top;\n    }\n\n    .dataframe thead th {\n        text-align: right;\n    }\n</style>\n<table border=\"1\" class=\"dataframe\">\n  <thead>\n    <tr style=\"text-align: right;\">\n      <th></th>\n      <th>ID</th>\n      <th>DATE</th>\n      <th>REGION_CLUSTER</th>\n      <th>MAINTENANCE_VENDOR</th>\n      <th>MANUFACTURER</th>\n      <th>WELL_GROUP</th>\n      <th>S15</th>\n      <th>S17</th>\n      <th>S13</th>\n      <th>S5</th>\n      <th>S16</th>\n      <th>S19</th>\n      <th>S18</th>\n      <th>EQUIPMENT_FAILURE</th>\n      <th>S8</th>\n      <th>AGE_OF_EQUIPMENT</th>\n      <th>flipper</th>\n    </tr>\n  </thead>\n  <tbody>\n    <tr>\n      <th>0</th>\n      <td>100001</td>\n      <td>2014-12-02</td>\n      <td>G</td>\n      <td>O</td>\n      <td>Y</td>\n      <td>1</td>\n      <td>11.088000</td>\n      <td>145.223448</td>\n      <td>39.34</td>\n      <td>3501.0</td>\n      <td>8.426869</td>\n      <td>1.9</td>\n      <td>24.610345</td>\n      <td>0</td>\n      <td>0.0</td>\n      <td>880</td>\n      <td>1</td>\n    </tr>\n    <tr>\n      <th>1</th>\n      <td>100001</td>\n      <td>2014-12-03</td>\n      <td>G</td>\n      <td>O</td>\n      <td>Y</td>\n      <td>1</td>\n      <td>8.877943</td>\n      <td>187.573214</td>\n      <td>39.20</td>\n      <td>3489.0</td>\n      <td>6.483714</td>\n      <td>1.9</td>\n      <td>24.671429</td>\n      <td>0</td>\n      <td>0.0</td>\n      <td>881</td>\n      <td>0</td>\n    </tr>\n    <tr>\n      <th>2</th>\n      <td>100001</td>\n      <td>2014-12-04</td>\n      <td>G</td>\n      <td>O</td>\n      <td>Y</td>\n      <td>1</td>\n      <td>8.676444</td>\n      <td>148.363704</td>\n      <td>38.87</td>\n      <td>3459.0</td>\n      <td>6.159659</td>\n      <td>2.0</td>\n      <td>24.733333</td>\n      <td>0</td>\n      <td>0.0</td>\n      <td>882</td>\n      <td>0</td>\n    </tr>\n    <tr>\n      <th>3</th>\n      <td>100001</td>\n      <td>2014-12-05</td>\n      <td>G</td>\n      <td>O</td>\n      <td>Y</td>\n      <td>1</td>\n      <td>9.988338</td>\n      <td>133.660000</td>\n      <td>39.47</td>\n      <td>3513.0</td>\n      <td>9.320308</td>\n      <td>2.0</td>\n      <td>24.773077</td>\n      <td>0</td>\n      <td>0.0</td>\n      <td>883</td>\n      <td>0</td>\n    </tr>\n    <tr>\n      <th>4</th>\n      <td>100001</td>\n      <td>2014-12-06</td>\n      <td>G</td>\n      <td>O</td>\n      <td>Y</td>\n      <td>1</td>\n      <td>8.475264</td>\n      <td>197.181600</td>\n      <td>40.33</td>\n      <td>3589.0</td>\n      <td>8.022960</td>\n      <td>1.5</td>\n      <td>24.808000</td>\n      <td>0</td>\n      <td>0.0</td>\n      <td>884</td>\n      <td>0</td>\n    </tr>\n  </tbody>\n</table>\n</div>"
          },
          "metadata": {}
        }
      ]
    },
    {
      "metadata": {
        "id": "Q_Ot0cDaTtn4"
      },
      "cell_type": "markdown",
      "source": [
        "Running summaries are often useful transformations for these types of problems.  For example, a running mean would be the average value over the last x days.  X, in this case, is the feature window.  The feature window is a parameter that depends on the context of the business problem.  I am setting the value to 21 days, but this may or may not work for your business problem."
      ]
    },
    {
      "metadata": {
        "id": "dpdvLDkSTtn4"
      },
      "cell_type": "code",
      "source": [
        "#define your feature window. This is the window by which we will aggregate our sensor values.\n",
        "feature_window=21"
      ],
      "execution_count": null,
      "outputs": []
    },
    {
      "metadata": {
        "id": "uUmtBPIrTtn4"
      },
      "cell_type": "markdown",
      "source": [
        "Calculate the number of days from the first day a machine appears to the current day. This field will be called “TIME_SINCE_START” Also, create a variable called “too_soon.” When “too_soon” is equal to 1, we have less than 21 days (feature_window) of history for the machine.\n",
        "\n",
        "We will use these new variables to create a running mean, median, max, and min.\n"
      ]
    },
    {
      "metadata": {
        "id": "1HG7h0eYTtn4"
      },
      "cell_type": "code",
      "source": [
        "dfx=pd_data"
      ],
      "execution_count": null,
      "outputs": []
    },
    {
      "metadata": {
        "id": "Rndw6VZvTtn4"
      },
      "cell_type": "code",
      "source": [
        "#Select the first record of each machine\n",
        "\n",
        "starter=dfx[dfx['flipper'] == 1]\n",
        "\n",
        "starter=starter[['DATE','ID']]"
      ],
      "execution_count": null,
      "outputs": []
    },
    {
      "metadata": {
        "id": "S5U_vYqoTtn4"
      },
      "cell_type": "code",
      "source": [
        "#rename date to start_date\n",
        "starter=starter.rename(index=str, columns={\"DATE\": \"START_DATE\"})"
      ],
      "execution_count": null,
      "outputs": []
    },
    {
      "metadata": {
        "id": "Fp75fTu7Ttn5"
      },
      "cell_type": "code",
      "source": [
        "#convert START_DATE to date\n",
        "starter['START_DATE'] = pd.to_datetime(starter['START_DATE'])"
      ],
      "execution_count": null,
      "outputs": []
    },
    {
      "metadata": {
        "id": "gGp_TsZvTtn5"
      },
      "cell_type": "code",
      "source": [
        "#Merge START_DATE to the original data set\n",
        "\n",
        "dfx=dfx.sort_values(by=['ID', 'DATE'], ascending=[True, True])\n",
        "starter=starter.sort_values(by=['ID'], ascending=[True])\n",
        "dfx =dfx.merge(starter, on=['ID'], how='left')"
      ],
      "execution_count": null,
      "outputs": []
    },
    {
      "metadata": {
        "id": "ujcFoUD2Ttn5"
      },
      "cell_type": "code",
      "source": [
        "# calculate the number of days since the beginning of each well.\n",
        "dfx['C'] = dfx['DATE'] - dfx['START_DATE']\n",
        "dfx['TIME_SINCE_START'] = dfx['C'] / np.timedelta64(1, 'D')\n",
        "dfx=dfx.drop(columns=['C'])\n",
        "dfx['too_soon'] = np.where((dfx.TIME_SINCE_START < feature_window) , 1, 0)"
      ],
      "execution_count": null,
      "outputs": []
    },
    {
      "metadata": {
        "id": "PcTXKM7PTtn5"
      },
      "cell_type": "markdown",
      "source": [
        "Create a running mean, max, min, and median for the sensor variables."
      ]
    },
    {
      "metadata": {
        "scrolled": true,
        "id": "cg4nyavHTtn5",
        "outputId": "c7a9600b-048d-4d12-c32e-e403ea471023"
      },
      "cell_type": "code",
      "source": [
        "dfx['S5_mean'] = np.where((dfx.too_soon == 0),(dfx['S5'].rolling(min_periods=1, window=feature_window).mean()) , dfx.S5)\n",
        "dfx['S5_median'] = np.where((dfx.too_soon == 0),(dfx['S5'].rolling(min_periods=1, window=feature_window).median()) , dfx.S5)\n",
        "dfx['S5_max'] = np.where((dfx.too_soon == 0),(dfx['S5'].rolling(min_periods=1, window=feature_window).max()) , dfx.S5)\n",
        "dfx['S5_min'] = np.where((dfx.too_soon == 0),(dfx['S5'].rolling(min_periods=1, window=feature_window).min()) , dfx.S5)\n",
        "\n",
        "\n",
        "dfx['S13_mean'] = np.where((dfx.too_soon == 0),(dfx['S13'].rolling(min_periods=1, window=feature_window).mean()) , dfx.S13)\n",
        "dfx['S13_median'] = np.where((dfx.too_soon == 0),(dfx['S13'].rolling(min_periods=1, window=feature_window).median()) , dfx.S13)\n",
        "dfx['S13_max'] = np.where((dfx.too_soon == 0),(dfx['S13'].rolling(min_periods=1, window=feature_window).max()) , dfx.S13)\n",
        "dfx['S13_min'] = np.where((dfx.too_soon == 0),(dfx['S13'].rolling(min_periods=1, window=feature_window).min()) , dfx.S13)\n",
        "\n",
        "\n",
        "dfx['S15_mean'] = np.where((dfx.too_soon == 0),(dfx['S15'].rolling(min_periods=1, window=feature_window).mean()) , dfx.S15)\n",
        "dfx['S15_median'] = np.where((dfx.too_soon == 0),(dfx['S15'].rolling(min_periods=1, window=feature_window).median()) , dfx.S15)\n",
        "dfx['S15_max'] = np.where((dfx.too_soon == 0),(dfx['S15'].rolling(min_periods=1, window=feature_window).max()) , dfx.S15)\n",
        "dfx['S15_min'] = np.where((dfx.too_soon == 0),(dfx['S15'].rolling(min_periods=1, window=feature_window).min()) , dfx.S15)\n",
        "\n",
        "dfx['S16_mean'] = np.where((dfx.too_soon == 0),(dfx['S16'].rolling(min_periods=1, window=feature_window).mean()) , dfx.S16)\n",
        "dfx['S16_median'] = np.where((dfx.too_soon == 0),(dfx['S16'].rolling(min_periods=1, window=feature_window).median()) , dfx.S16)\n",
        "dfx['S16_max'] = np.where((dfx.too_soon == 0),(dfx['S16'].rolling(min_periods=1, window=feature_window).max()) , dfx.S16)\n",
        "dfx['S16_min'] = np.where((dfx.too_soon == 0),(dfx['S16'].rolling(min_periods=1, window=feature_window).min()) , dfx.S16)\n",
        "\n",
        "\n",
        "dfx['S17_mean'] = np.where((dfx.too_soon == 0),(dfx['S17'].rolling(min_periods=1, window=feature_window).mean()) , dfx.S17)\n",
        "dfx['S17_median'] = np.where((dfx.too_soon == 0),(dfx['S17'].rolling(min_periods=1, window=feature_window).median()) , dfx.S17)\n",
        "dfx['S17_max'] = np.where((dfx.too_soon == 0),(dfx['S17'].rolling(min_periods=1, window=feature_window).max()) , dfx.S17)\n",
        "dfx['S17_min'] = np.where((dfx.too_soon == 0),(dfx['S17'].rolling(min_periods=1, window=feature_window).min()) , dfx.S17)\n",
        "\n",
        "dfx['S18_mean'] = np.where((dfx.too_soon == 0),(dfx['S18'].rolling(min_periods=1, window=feature_window).mean()) , dfx.S18)\n",
        "dfx['S18_median'] = np.where((dfx.too_soon == 0),(dfx['S18'].rolling(min_periods=1, window=feature_window).median()) , dfx.S18)\n",
        "dfx['S18_max'] = np.where((dfx.too_soon == 0),(dfx['S18'].rolling(min_periods=1, window=feature_window).max()) , dfx.S18)\n",
        "dfx['S18_min'] = np.where((dfx.too_soon == 0),(dfx['S18'].rolling(min_periods=1, window=feature_window).min()) , dfx.S18)\n",
        "\n",
        "\n",
        "\n",
        "dfx['S19_mean'] = np.where((dfx.too_soon == 0),(dfx['S19'].rolling(min_periods=1, window=feature_window).mean()) , dfx.S19)\n",
        "dfx['S19_median'] = np.where((dfx.too_soon == 0),(dfx['S19'].rolling(min_periods=1, window=feature_window).median()) , dfx.S19)\n",
        "dfx['S19_max'] = np.where((dfx.too_soon == 0),(dfx['S19'].rolling(min_periods=1, window=feature_window).max()) , dfx.S19)\n",
        "dfx['S19_min'] = np.where((dfx.too_soon == 0),(dfx['S19'].rolling(min_periods=1, window=feature_window).min()) , dfx.S19)\n",
        "\n",
        "\n",
        "dfx.head()"
      ],
      "execution_count": null,
      "outputs": [
        {
          "output_type": "execute_result",
          "execution_count": 32,
          "data": {
            "text/plain": "       ID       DATE REGION_CLUSTER MAINTENANCE_VENDOR MANUFACTURER  \\\n0  100001 2014-12-02              G                  O            Y   \n1  100001 2014-12-03              G                  O            Y   \n2  100001 2014-12-04              G                  O            Y   \n3  100001 2014-12-05              G                  O            Y   \n4  100001 2014-12-06              G                  O            Y   \n\n   WELL_GROUP        S15         S17    S13      S5  ...     S17_max  \\\n0           1  11.088000  145.223448  39.34  3501.0  ...  145.223448   \n1           1   8.877943  187.573214  39.20  3489.0  ...  187.573214   \n2           1   8.676444  148.363704  38.87  3459.0  ...  148.363704   \n3           1   9.988338  133.660000  39.47  3513.0  ...  133.660000   \n4           1   8.475264  197.181600  40.33  3589.0  ...  197.181600   \n\n      S17_min   S18_mean  S18_median    S18_max    S18_min  S19_mean  \\\n0  145.223448  24.610345   24.610345  24.610345  24.610345       1.9   \n1  187.573214  24.671429   24.671429  24.671429  24.671429       1.9   \n2  148.363704  24.733333   24.733333  24.733333  24.733333       2.0   \n3  133.660000  24.773077   24.773077  24.773077  24.773077       2.0   \n4  197.181600  24.808000   24.808000  24.808000  24.808000       1.5   \n\n  S19_median  S19_max  S19_min  \n0        1.9      1.9      1.9  \n1        1.9      1.9      1.9  \n2        2.0      2.0      2.0  \n3        2.0      2.0      2.0  \n4        1.5      1.5      1.5  \n\n[5 rows x 48 columns]",
            "text/html": "<div>\n<style scoped>\n    .dataframe tbody tr th:only-of-type {\n        vertical-align: middle;\n    }\n\n    .dataframe tbody tr th {\n        vertical-align: top;\n    }\n\n    .dataframe thead th {\n        text-align: right;\n    }\n</style>\n<table border=\"1\" class=\"dataframe\">\n  <thead>\n    <tr style=\"text-align: right;\">\n      <th></th>\n      <th>ID</th>\n      <th>DATE</th>\n      <th>REGION_CLUSTER</th>\n      <th>MAINTENANCE_VENDOR</th>\n      <th>MANUFACTURER</th>\n      <th>WELL_GROUP</th>\n      <th>S15</th>\n      <th>S17</th>\n      <th>S13</th>\n      <th>S5</th>\n      <th>...</th>\n      <th>S17_max</th>\n      <th>S17_min</th>\n      <th>S18_mean</th>\n      <th>S18_median</th>\n      <th>S18_max</th>\n      <th>S18_min</th>\n      <th>S19_mean</th>\n      <th>S19_median</th>\n      <th>S19_max</th>\n      <th>S19_min</th>\n    </tr>\n  </thead>\n  <tbody>\n    <tr>\n      <th>0</th>\n      <td>100001</td>\n      <td>2014-12-02</td>\n      <td>G</td>\n      <td>O</td>\n      <td>Y</td>\n      <td>1</td>\n      <td>11.088000</td>\n      <td>145.223448</td>\n      <td>39.34</td>\n      <td>3501.0</td>\n      <td>...</td>\n      <td>145.223448</td>\n      <td>145.223448</td>\n      <td>24.610345</td>\n      <td>24.610345</td>\n      <td>24.610345</td>\n      <td>24.610345</td>\n      <td>1.9</td>\n      <td>1.9</td>\n      <td>1.9</td>\n      <td>1.9</td>\n    </tr>\n    <tr>\n      <th>1</th>\n      <td>100001</td>\n      <td>2014-12-03</td>\n      <td>G</td>\n      <td>O</td>\n      <td>Y</td>\n      <td>1</td>\n      <td>8.877943</td>\n      <td>187.573214</td>\n      <td>39.20</td>\n      <td>3489.0</td>\n      <td>...</td>\n      <td>187.573214</td>\n      <td>187.573214</td>\n      <td>24.671429</td>\n      <td>24.671429</td>\n      <td>24.671429</td>\n      <td>24.671429</td>\n      <td>1.9</td>\n      <td>1.9</td>\n      <td>1.9</td>\n      <td>1.9</td>\n    </tr>\n    <tr>\n      <th>2</th>\n      <td>100001</td>\n      <td>2014-12-04</td>\n      <td>G</td>\n      <td>O</td>\n      <td>Y</td>\n      <td>1</td>\n      <td>8.676444</td>\n      <td>148.363704</td>\n      <td>38.87</td>\n      <td>3459.0</td>\n      <td>...</td>\n      <td>148.363704</td>\n      <td>148.363704</td>\n      <td>24.733333</td>\n      <td>24.733333</td>\n      <td>24.733333</td>\n      <td>24.733333</td>\n      <td>2.0</td>\n      <td>2.0</td>\n      <td>2.0</td>\n      <td>2.0</td>\n    </tr>\n    <tr>\n      <th>3</th>\n      <td>100001</td>\n      <td>2014-12-05</td>\n      <td>G</td>\n      <td>O</td>\n      <td>Y</td>\n      <td>1</td>\n      <td>9.988338</td>\n      <td>133.660000</td>\n      <td>39.47</td>\n      <td>3513.0</td>\n      <td>...</td>\n      <td>133.660000</td>\n      <td>133.660000</td>\n      <td>24.773077</td>\n      <td>24.773077</td>\n      <td>24.773077</td>\n      <td>24.773077</td>\n      <td>2.0</td>\n      <td>2.0</td>\n      <td>2.0</td>\n      <td>2.0</td>\n    </tr>\n    <tr>\n      <th>4</th>\n      <td>100001</td>\n      <td>2014-12-06</td>\n      <td>G</td>\n      <td>O</td>\n      <td>Y</td>\n      <td>1</td>\n      <td>8.475264</td>\n      <td>197.181600</td>\n      <td>40.33</td>\n      <td>3589.0</td>\n      <td>...</td>\n      <td>197.181600</td>\n      <td>197.181600</td>\n      <td>24.808000</td>\n      <td>24.808000</td>\n      <td>24.808000</td>\n      <td>24.808000</td>\n      <td>1.5</td>\n      <td>1.5</td>\n      <td>1.5</td>\n      <td>1.5</td>\n    </tr>\n  </tbody>\n</table>\n<p>5 rows × 48 columns</p>\n</div>"
          },
          "metadata": {}
        }
      ]
    },
    {
      "metadata": {
        "id": "sJOdaUz_Ttn6"
      },
      "cell_type": "markdown",
      "source": [
        "Another useful transformation is to look for sudden spikes in sensor values. This code creates a value indicating how far the current value is from the immediate norm."
      ]
    },
    {
      "metadata": {
        "scrolled": true,
        "id": "PXsxCj4PTtn6"
      },
      "cell_type": "code",
      "source": [
        "dfx['S5_chg'] = np.where((dfx.S5_mean == 0),0 , dfx.S5/dfx.S5_mean)\n",
        "\n",
        "\n",
        "dfx['S13_chg'] = np.where((dfx.S13_mean == 0),0 , dfx.S13/dfx.S13_mean)\n",
        "\n",
        "dfx['S15_chg'] = np.where((dfx.S15_mean==0),0 , dfx.S15/dfx.S15_mean)\n",
        "dfx['S16_chg'] = np.where((dfx.S16_mean == 0),0 , dfx.S16/dfx.S16_mean)\n",
        "dfx['S17_chg'] = np.where((dfx.S17_mean == 0),0 , dfx.S17/dfx.S17_mean)\n",
        "dfx['S18_chg'] = np.where((dfx.S18_mean == 0),0 , dfx.S18/dfx.S18_mean)\n",
        "dfx['S19_chg'] = np.where((dfx.S19_mean == 0),0 , dfx.S19/dfx.S19_mean)"
      ],
      "execution_count": null,
      "outputs": []
    },
    {
      "metadata": {
        "id": "4CPgtw4xTtn6"
      },
      "cell_type": "code",
      "source": [
        "#copy the data set to the original name\n",
        "pd_data=dfx"
      ],
      "execution_count": null,
      "outputs": []
    },
    {
      "metadata": {
        "id": "jBOOMkhxTtn6"
      },
      "cell_type": "markdown",
      "source": [
        "### 4.0 Dealing with the small number of failures. <a id=\"small\"></a>"
      ]
    },
    {
      "metadata": {
        "id": "WFsgfSH5Ttn6"
      },
      "cell_type": "markdown",
      "source": [
        "#### 4.1 Expand the Failure (Target) Window <a id=\"window\"></a>"
      ]
    },
    {
      "metadata": {
        "id": "G_xrLjR7Ttn6"
      },
      "cell_type": "markdown",
      "source": [
        "Machines are engineered to last. If something breaks all the time, you won’t buy it, would you?\n",
        "\n",
        "Because machines generally last a long time, we typically do not have many examples of failure. This means the data sets we use in PM are almost always unbalanced.\n",
        "\n",
        "One way to increase the number of failures is to expand the failure or target window. That is, make the dependent variable, not just the day the equipment failed but the 28 days (or another appropriate interval) leading up to the failure.\n",
        "\n",
        "In this example, I use a 28-day target window. We will use the 28 days leading up to a failure as the dependent variable in our model.\n"
      ]
    },
    {
      "metadata": {
        "id": "oW5oqqF5Ttn7"
      },
      "cell_type": "code",
      "source": [
        "target_window=28"
      ],
      "execution_count": null,
      "outputs": []
    },
    {
      "metadata": {
        "id": "tQ8voB4cTtn7"
      },
      "cell_type": "markdown",
      "source": [
        "Sort the data and reset the index."
      ]
    },
    {
      "metadata": {
        "scrolled": true,
        "id": "WUe69Ar6Ttn7"
      },
      "cell_type": "code",
      "source": [
        "pd_data=pd_data.sort_values(by=['ID', 'DATE'], ascending=[True, True])\n",
        "pd_data.reset_index(level=0, inplace=True)"
      ],
      "execution_count": null,
      "outputs": []
    },
    {
      "metadata": {
        "id": "zSuwscU1Ttn7"
      },
      "cell_type": "markdown",
      "source": [
        "Create a new data frame that contains the failure records.  Rename DATE to FAILURE_DATE"
      ]
    },
    {
      "metadata": {
        "scrolled": true,
        "id": "9TwxmvCtTtn7"
      },
      "cell_type": "code",
      "source": [
        "\n",
        "\n",
        "df_failure_thingy=pd_data[pd_data['EQUIPMENT_FAILURE'] == 1]\n",
        "\n",
        "df_failure_thingy=df_failure_thingy[['DATE','ID']]\n",
        "\n",
        "df_failure_thingy=df_failure_thingy.rename(index=str, columns={\"DATE\": \"FAILURE_DATE\"})\n",
        "\n",
        "pd_data=pd_data.sort_values(by=['ID'], ascending=[True])\n",
        "df_failure_thingy=df_failure_thingy.sort_values(by=['ID'], ascending=[True])\n"
      ],
      "execution_count": null,
      "outputs": []
    },
    {
      "metadata": {
        "id": "qFzvfsVWTtn7"
      },
      "cell_type": "markdown",
      "source": [
        "Append the FAILURE_DATE to each ID."
      ]
    },
    {
      "metadata": {
        "scrolled": true,
        "id": "lhjyHBIETtn7"
      },
      "cell_type": "code",
      "source": [
        "\n",
        "\n",
        "pd_data =pd_data.merge(df_failure_thingy, on=['ID'], how='left')"
      ],
      "execution_count": null,
      "outputs": []
    },
    {
      "metadata": {
        "id": "LjxLvB8FTtn8"
      },
      "cell_type": "markdown",
      "source": [
        "For each record, calculate the number of days until failure."
      ]
    },
    {
      "metadata": {
        "scrolled": true,
        "id": "-S1AqVu2Ttn8"
      },
      "cell_type": "code",
      "source": [
        "\n",
        "\n",
        "pd_data=pd_data.sort_values(by=['ID','DATE'], ascending=[True, True])\n",
        "\n",
        "pd_data['FAILURE_DATE'] = pd.to_datetime(pd_data['FAILURE_DATE'])\n",
        "pd_data['DATE'] = pd.to_datetime(pd_data['DATE'])\n",
        "pd_data['C'] = pd_data['FAILURE_DATE'] - pd_data['DATE']\n",
        "\n",
        "pd_data['TIME_TO_FAILURE'] = pd_data['C'] / np.timedelta64(1, 'D')"
      ],
      "execution_count": null,
      "outputs": []
    },
    {
      "metadata": {
        "id": "uUoQWtcZTtn8"
      },
      "cell_type": "markdown",
      "source": [
        "Clean up and sort the records by ID and DATE"
      ]
    },
    {
      "metadata": {
        "id": "hiAcCJ5iTtn8"
      },
      "cell_type": "code",
      "source": [
        "pd_data=pd_data.drop(columns=['index'])"
      ],
      "execution_count": null,
      "outputs": []
    },
    {
      "metadata": {
        "scrolled": true,
        "id": "MUixq6LpTtn8"
      },
      "cell_type": "code",
      "source": [
        "pd_data=pd_data.sort_values(by=['ID', 'DATE'], ascending=[True, True])\n",
        "\n"
      ],
      "execution_count": null,
      "outputs": []
    },
    {
      "metadata": {
        "id": "yHhe3OwVTtn8"
      },
      "cell_type": "code",
      "source": [
        "pd_data.reset_index(inplace=True)\n"
      ],
      "execution_count": null,
      "outputs": []
    },
    {
      "metadata": {
        "id": "ud_ML1BzTtn9",
        "outputId": "2e8f558c-8820-41db-d1e4-931f2a885af9"
      },
      "cell_type": "code",
      "source": [
        "pd_data.head()"
      ],
      "execution_count": null,
      "outputs": [
        {
          "output_type": "execute_result",
          "execution_count": 43,
          "data": {
            "text/plain": "   index      ID       DATE REGION_CLUSTER MAINTENANCE_VENDOR MANUFACTURER  \\\n0      0  100001 2014-12-02              G                  O            Y   \n1    549  100001 2014-12-03              G                  O            Y   \n2    483  100001 2014-12-04              G                  O            Y   \n3    484  100001 2014-12-05              G                  O            Y   \n4    485  100001 2014-12-06              G                  O            Y   \n\n   WELL_GROUP        S15         S17    S13  ...  S5_chg  S13_chg  S15_chg  \\\n0           1  11.088000  145.223448  39.34  ...     1.0      1.0      1.0   \n1           1   8.877943  187.573214  39.20  ...     1.0      1.0      1.0   \n2           1   8.676444  148.363704  38.87  ...     1.0      1.0      1.0   \n3           1   9.988338  133.660000  39.47  ...     1.0      1.0      1.0   \n4           1   8.475264  197.181600  40.33  ...     1.0      1.0      1.0   \n\n   S16_chg  S17_chg  S18_chg  S19_chg  FAILURE_DATE        C  TIME_TO_FAILURE  \n0      1.0      1.0      1.0      1.0    2015-04-24 143 days            143.0  \n1      1.0      1.0      1.0      1.0    2015-04-24 142 days            142.0  \n2      1.0      1.0      1.0      1.0    2015-04-24 141 days            141.0  \n3      1.0      1.0      1.0      1.0    2015-04-24 140 days            140.0  \n4      1.0      1.0      1.0      1.0    2015-04-24 139 days            139.0  \n\n[5 rows x 59 columns]",
            "text/html": "<div>\n<style scoped>\n    .dataframe tbody tr th:only-of-type {\n        vertical-align: middle;\n    }\n\n    .dataframe tbody tr th {\n        vertical-align: top;\n    }\n\n    .dataframe thead th {\n        text-align: right;\n    }\n</style>\n<table border=\"1\" class=\"dataframe\">\n  <thead>\n    <tr style=\"text-align: right;\">\n      <th></th>\n      <th>index</th>\n      <th>ID</th>\n      <th>DATE</th>\n      <th>REGION_CLUSTER</th>\n      <th>MAINTENANCE_VENDOR</th>\n      <th>MANUFACTURER</th>\n      <th>WELL_GROUP</th>\n      <th>S15</th>\n      <th>S17</th>\n      <th>S13</th>\n      <th>...</th>\n      <th>S5_chg</th>\n      <th>S13_chg</th>\n      <th>S15_chg</th>\n      <th>S16_chg</th>\n      <th>S17_chg</th>\n      <th>S18_chg</th>\n      <th>S19_chg</th>\n      <th>FAILURE_DATE</th>\n      <th>C</th>\n      <th>TIME_TO_FAILURE</th>\n    </tr>\n  </thead>\n  <tbody>\n    <tr>\n      <th>0</th>\n      <td>0</td>\n      <td>100001</td>\n      <td>2014-12-02</td>\n      <td>G</td>\n      <td>O</td>\n      <td>Y</td>\n      <td>1</td>\n      <td>11.088000</td>\n      <td>145.223448</td>\n      <td>39.34</td>\n      <td>...</td>\n      <td>1.0</td>\n      <td>1.0</td>\n      <td>1.0</td>\n      <td>1.0</td>\n      <td>1.0</td>\n      <td>1.0</td>\n      <td>1.0</td>\n      <td>2015-04-24</td>\n      <td>143 days</td>\n      <td>143.0</td>\n    </tr>\n    <tr>\n      <th>1</th>\n      <td>549</td>\n      <td>100001</td>\n      <td>2014-12-03</td>\n      <td>G</td>\n      <td>O</td>\n      <td>Y</td>\n      <td>1</td>\n      <td>8.877943</td>\n      <td>187.573214</td>\n      <td>39.20</td>\n      <td>...</td>\n      <td>1.0</td>\n      <td>1.0</td>\n      <td>1.0</td>\n      <td>1.0</td>\n      <td>1.0</td>\n      <td>1.0</td>\n      <td>1.0</td>\n      <td>2015-04-24</td>\n      <td>142 days</td>\n      <td>142.0</td>\n    </tr>\n    <tr>\n      <th>2</th>\n      <td>483</td>\n      <td>100001</td>\n      <td>2014-12-04</td>\n      <td>G</td>\n      <td>O</td>\n      <td>Y</td>\n      <td>1</td>\n      <td>8.676444</td>\n      <td>148.363704</td>\n      <td>38.87</td>\n      <td>...</td>\n      <td>1.0</td>\n      <td>1.0</td>\n      <td>1.0</td>\n      <td>1.0</td>\n      <td>1.0</td>\n      <td>1.0</td>\n      <td>1.0</td>\n      <td>2015-04-24</td>\n      <td>141 days</td>\n      <td>141.0</td>\n    </tr>\n    <tr>\n      <th>3</th>\n      <td>484</td>\n      <td>100001</td>\n      <td>2014-12-05</td>\n      <td>G</td>\n      <td>O</td>\n      <td>Y</td>\n      <td>1</td>\n      <td>9.988338</td>\n      <td>133.660000</td>\n      <td>39.47</td>\n      <td>...</td>\n      <td>1.0</td>\n      <td>1.0</td>\n      <td>1.0</td>\n      <td>1.0</td>\n      <td>1.0</td>\n      <td>1.0</td>\n      <td>1.0</td>\n      <td>2015-04-24</td>\n      <td>140 days</td>\n      <td>140.0</td>\n    </tr>\n    <tr>\n      <th>4</th>\n      <td>485</td>\n      <td>100001</td>\n      <td>2014-12-06</td>\n      <td>G</td>\n      <td>O</td>\n      <td>Y</td>\n      <td>1</td>\n      <td>8.475264</td>\n      <td>197.181600</td>\n      <td>40.33</td>\n      <td>...</td>\n      <td>1.0</td>\n      <td>1.0</td>\n      <td>1.0</td>\n      <td>1.0</td>\n      <td>1.0</td>\n      <td>1.0</td>\n      <td>1.0</td>\n      <td>2015-04-24</td>\n      <td>139 days</td>\n      <td>139.0</td>\n    </tr>\n  </tbody>\n</table>\n<p>5 rows × 59 columns</p>\n</div>"
          },
          "metadata": {}
        }
      ]
    },
    {
      "metadata": {
        "id": "Fx2RWLHSTtn9"
      },
      "cell_type": "markdown",
      "source": [
        "Create a new variable, FAILURE_TARGET.  It is equal to 1 if the record proceeds a failure by \"failure_window\" days or less."
      ]
    },
    {
      "metadata": {
        "scrolled": true,
        "id": "K7OhlAc0Ttn9",
        "outputId": "3bd7c332-34e5-4964-b6ca-bc7e95b39c14"
      },
      "cell_type": "code",
      "source": [
        "pd_data['FAILURE_TARGET'] = np.where(((pd_data.TIME_TO_FAILURE < target_window) & ((pd_data.TIME_TO_FAILURE>=0))), 1, 0)\n",
        "\n",
        "pd_data.head()"
      ],
      "execution_count": null,
      "outputs": [
        {
          "output_type": "execute_result",
          "execution_count": 44,
          "data": {
            "text/plain": "   index      ID       DATE REGION_CLUSTER MAINTENANCE_VENDOR MANUFACTURER  \\\n0      0  100001 2014-12-02              G                  O            Y   \n1    549  100001 2014-12-03              G                  O            Y   \n2    483  100001 2014-12-04              G                  O            Y   \n3    484  100001 2014-12-05              G                  O            Y   \n4    485  100001 2014-12-06              G                  O            Y   \n\n   WELL_GROUP        S15         S17    S13  ...  S13_chg  S15_chg  S16_chg  \\\n0           1  11.088000  145.223448  39.34  ...      1.0      1.0      1.0   \n1           1   8.877943  187.573214  39.20  ...      1.0      1.0      1.0   \n2           1   8.676444  148.363704  38.87  ...      1.0      1.0      1.0   \n3           1   9.988338  133.660000  39.47  ...      1.0      1.0      1.0   \n4           1   8.475264  197.181600  40.33  ...      1.0      1.0      1.0   \n\n   S17_chg  S18_chg  S19_chg  FAILURE_DATE        C TIME_TO_FAILURE  \\\n0      1.0      1.0      1.0    2015-04-24 143 days           143.0   \n1      1.0      1.0      1.0    2015-04-24 142 days           142.0   \n2      1.0      1.0      1.0    2015-04-24 141 days           141.0   \n3      1.0      1.0      1.0    2015-04-24 140 days           140.0   \n4      1.0      1.0      1.0    2015-04-24 139 days           139.0   \n\n   FAILURE_TARGET  \n0               0  \n1               0  \n2               0  \n3               0  \n4               0  \n\n[5 rows x 60 columns]",
            "text/html": "<div>\n<style scoped>\n    .dataframe tbody tr th:only-of-type {\n        vertical-align: middle;\n    }\n\n    .dataframe tbody tr th {\n        vertical-align: top;\n    }\n\n    .dataframe thead th {\n        text-align: right;\n    }\n</style>\n<table border=\"1\" class=\"dataframe\">\n  <thead>\n    <tr style=\"text-align: right;\">\n      <th></th>\n      <th>index</th>\n      <th>ID</th>\n      <th>DATE</th>\n      <th>REGION_CLUSTER</th>\n      <th>MAINTENANCE_VENDOR</th>\n      <th>MANUFACTURER</th>\n      <th>WELL_GROUP</th>\n      <th>S15</th>\n      <th>S17</th>\n      <th>S13</th>\n      <th>...</th>\n      <th>S13_chg</th>\n      <th>S15_chg</th>\n      <th>S16_chg</th>\n      <th>S17_chg</th>\n      <th>S18_chg</th>\n      <th>S19_chg</th>\n      <th>FAILURE_DATE</th>\n      <th>C</th>\n      <th>TIME_TO_FAILURE</th>\n      <th>FAILURE_TARGET</th>\n    </tr>\n  </thead>\n  <tbody>\n    <tr>\n      <th>0</th>\n      <td>0</td>\n      <td>100001</td>\n      <td>2014-12-02</td>\n      <td>G</td>\n      <td>O</td>\n      <td>Y</td>\n      <td>1</td>\n      <td>11.088000</td>\n      <td>145.223448</td>\n      <td>39.34</td>\n      <td>...</td>\n      <td>1.0</td>\n      <td>1.0</td>\n      <td>1.0</td>\n      <td>1.0</td>\n      <td>1.0</td>\n      <td>1.0</td>\n      <td>2015-04-24</td>\n      <td>143 days</td>\n      <td>143.0</td>\n      <td>0</td>\n    </tr>\n    <tr>\n      <th>1</th>\n      <td>549</td>\n      <td>100001</td>\n      <td>2014-12-03</td>\n      <td>G</td>\n      <td>O</td>\n      <td>Y</td>\n      <td>1</td>\n      <td>8.877943</td>\n      <td>187.573214</td>\n      <td>39.20</td>\n      <td>...</td>\n      <td>1.0</td>\n      <td>1.0</td>\n      <td>1.0</td>\n      <td>1.0</td>\n      <td>1.0</td>\n      <td>1.0</td>\n      <td>2015-04-24</td>\n      <td>142 days</td>\n      <td>142.0</td>\n      <td>0</td>\n    </tr>\n    <tr>\n      <th>2</th>\n      <td>483</td>\n      <td>100001</td>\n      <td>2014-12-04</td>\n      <td>G</td>\n      <td>O</td>\n      <td>Y</td>\n      <td>1</td>\n      <td>8.676444</td>\n      <td>148.363704</td>\n      <td>38.87</td>\n      <td>...</td>\n      <td>1.0</td>\n      <td>1.0</td>\n      <td>1.0</td>\n      <td>1.0</td>\n      <td>1.0</td>\n      <td>1.0</td>\n      <td>2015-04-24</td>\n      <td>141 days</td>\n      <td>141.0</td>\n      <td>0</td>\n    </tr>\n    <tr>\n      <th>3</th>\n      <td>484</td>\n      <td>100001</td>\n      <td>2014-12-05</td>\n      <td>G</td>\n      <td>O</td>\n      <td>Y</td>\n      <td>1</td>\n      <td>9.988338</td>\n      <td>133.660000</td>\n      <td>39.47</td>\n      <td>...</td>\n      <td>1.0</td>\n      <td>1.0</td>\n      <td>1.0</td>\n      <td>1.0</td>\n      <td>1.0</td>\n      <td>1.0</td>\n      <td>2015-04-24</td>\n      <td>140 days</td>\n      <td>140.0</td>\n      <td>0</td>\n    </tr>\n    <tr>\n      <th>4</th>\n      <td>485</td>\n      <td>100001</td>\n      <td>2014-12-06</td>\n      <td>G</td>\n      <td>O</td>\n      <td>Y</td>\n      <td>1</td>\n      <td>8.475264</td>\n      <td>197.181600</td>\n      <td>40.33</td>\n      <td>...</td>\n      <td>1.0</td>\n      <td>1.0</td>\n      <td>1.0</td>\n      <td>1.0</td>\n      <td>1.0</td>\n      <td>1.0</td>\n      <td>2015-04-24</td>\n      <td>139 days</td>\n      <td>139.0</td>\n      <td>0</td>\n    </tr>\n  </tbody>\n</table>\n<p>5 rows × 60 columns</p>\n</div>"
          },
          "metadata": {}
        }
      ]
    },
    {
      "metadata": {
        "id": "qwp8Vho1Ttn9",
        "outputId": "cd1d7266-bedd-4075-d2ef-ab0e7a1e0476"
      },
      "cell_type": "code",
      "source": [
        "tips_summed = pd_data.groupby(['FAILURE_TARGET'])['S5'].count()\n",
        "tips_summed"
      ],
      "execution_count": null,
      "outputs": [
        {
          "output_type": "execute_result",
          "execution_count": 45,
          "data": {
            "text/plain": "FAILURE_TARGET\n0    296011\n1     11740\nName: S5, dtype: int64"
          },
          "metadata": {}
        }
      ]
    },
    {
      "metadata": {
        "id": "5sudt_YUTtn9"
      },
      "cell_type": "markdown",
      "source": [
        "The new field occurs about 4% of the time."
      ]
    },
    {
      "metadata": {
        "id": "D8LzNt07Ttn-",
        "outputId": "c9b2b44d-c024-4a5f-f1b5-10f5c680784c"
      },
      "cell_type": "code",
      "source": [
        "pd_data['FAILURE_TARGET'].mean()"
      ],
      "execution_count": null,
      "outputs": [
        {
          "output_type": "execute_result",
          "execution_count": 46,
          "data": {
            "text/plain": "0.03814772332177637"
          },
          "metadata": {}
        }
      ]
    },
    {
      "metadata": {
        "id": "SaspbKAdTtn-"
      },
      "cell_type": "markdown",
      "source": [
        "Now we have 11,740 target observations. This is better, but the data set is far from balanced. In the next section, we will use SMOTE to increase the number of failures synthetically. However, let’s split our data into training, testing, and a validation sample before we do that."
      ]
    },
    {
      "metadata": {
        "id": "BpEAswuiTtn-"
      },
      "cell_type": "markdown",
      "source": [
        "#### 4.2 Create the Testing, Training and Validation Groupings <a id=\"groups\"></a>"
      ]
    },
    {
      "metadata": {
        "id": "8Gux-4LITtn-"
      },
      "cell_type": "markdown",
      "source": [
        "Because we are dealing with a panel data set (cross-sectional time-series), it is better not to take a random sample of all records. Doing so would put the records from one machine in all three sample data sets. To avoid this, we’ll randomly select IDs and place all of the records for each machine in either the training, testing, or validation data set."
      ]
    },
    {
      "metadata": {
        "scrolled": true,
        "id": "rIsjpoeITtn-",
        "outputId": "bca0061b-7cf1-4ab6-ca06-20a8379ddb57"
      },
      "cell_type": "code",
      "source": [
        "#Get a Unique List of All IDs\n",
        "\n",
        "\n",
        "aa=pd_data\n",
        "\n",
        "pd_id=aa.drop_duplicates(subset='ID')\n",
        "pd_id=pd_id[['ID']]\n",
        "pd_id.shape\n"
      ],
      "execution_count": null,
      "outputs": [
        {
          "output_type": "execute_result",
          "execution_count": 47,
          "data": {
            "text/plain": "(421, 1)"
          },
          "metadata": {}
        }
      ]
    },
    {
      "metadata": {
        "id": "Hbl3vX1fTtn-"
      },
      "cell_type": "markdown",
      "source": [
        "Create a new variable with a random number between 0 and 1"
      ]
    },
    {
      "metadata": {
        "id": "4qsO4_iBTtn_"
      },
      "cell_type": "code",
      "source": [
        "np.random.seed(42)"
      ],
      "execution_count": null,
      "outputs": []
    },
    {
      "metadata": {
        "scrolled": true,
        "id": "g4Y62XQ9Ttn_"
      },
      "cell_type": "code",
      "source": [
        "pd_id['wookie'] = (np.random.randint(0, 10000, pd_id.shape[0]))/10000"
      ],
      "execution_count": null,
      "outputs": []
    },
    {
      "metadata": {
        "scrolled": true,
        "id": "QxVk1sQYTtn_"
      },
      "cell_type": "code",
      "source": [
        "\n",
        "pd_id=pd_id[['ID', 'wookie']]"
      ],
      "execution_count": null,
      "outputs": []
    },
    {
      "metadata": {
        "id": "cMCCGea5Ttn_"
      },
      "cell_type": "markdown",
      "source": [
        "Give each record a 30% chance of being in the validation, a 35% chance of being in the testing, and a 35% chance of being in the training data set.\n"
      ]
    },
    {
      "metadata": {
        "scrolled": true,
        "id": "qMmMOBkWTtn_"
      },
      "cell_type": "code",
      "source": [
        "pd_id['MODELING_GROUP'] = np.where(((pd_id.wookie <= 0.35)), 'TRAINING', np.where(((pd_id.wookie <= 0.65)), 'VALIDATION', 'TESTING'))"
      ],
      "execution_count": null,
      "outputs": []
    },
    {
      "metadata": {
        "id": "pxLXcuHmTtn_"
      },
      "cell_type": "markdown",
      "source": [
        "This is how many machines fall in each group."
      ]
    },
    {
      "metadata": {
        "scrolled": true,
        "id": "XKfqrkf_Ttn_",
        "outputId": "fd49bdea-7967-4144-f6e0-ab50d7279a51"
      },
      "cell_type": "code",
      "source": [
        "tips_summed = pd_id.groupby(['MODELING_GROUP'])['wookie'].count()\n",
        "tips_summed"
      ],
      "execution_count": null,
      "outputs": [
        {
          "output_type": "execute_result",
          "execution_count": 52,
          "data": {
            "text/plain": "MODELING_GROUP\nTESTING       149\nTRAINING      146\nVALIDATION    126\nName: wookie, dtype: int64"
          },
          "metadata": {}
        }
      ]
    },
    {
      "metadata": {
        "id": "ElGdEogETtoA"
      },
      "cell_type": "markdown",
      "source": [
        "Append the Group of each id to each individual record."
      ]
    },
    {
      "metadata": {
        "scrolled": true,
        "id": "5YG4eCSATtoA"
      },
      "cell_type": "code",
      "source": [
        "pd_data=pd_data.sort_values(by=['ID'], ascending=[True])\n",
        "pd_id=pd_id.sort_values(by=['ID'], ascending=[True])"
      ],
      "execution_count": null,
      "outputs": []
    },
    {
      "metadata": {
        "scrolled": true,
        "id": "p_RPBplTTtoA",
        "outputId": "be83ce39-c600-48c9-fc6b-028eaf321df1"
      },
      "cell_type": "code",
      "source": [
        "pd_data =pd_data.merge(pd_id, on=['ID'], how='inner')\n",
        "\n",
        "pd_data.head()"
      ],
      "execution_count": null,
      "outputs": [
        {
          "output_type": "execute_result",
          "execution_count": 54,
          "data": {
            "text/plain": "   index      ID       DATE REGION_CLUSTER MAINTENANCE_VENDOR MANUFACTURER  \\\n0      0  100001 2014-12-02              G                  O            Y   \n1      1  100001 2016-03-29              G                  O            Y   \n2      2  100001 2016-03-30              G                  O            Y   \n3      3  100001 2016-03-31              G                  O            Y   \n4      4  100001 2016-04-01              G                  O            Y   \n\n   WELL_GROUP     S15         S17    S13  ...   S16_chg  S17_chg   S18_chg  \\\n0           1  11.088  145.223448  39.34  ...  1.000000      1.0  1.000000   \n1           1  18.960    0.000000  38.87  ...  1.080334      0.0  0.909801   \n2           1  29.040    0.000000  37.36  ...  1.093691      0.0  0.906040   \n3           1  18.000    0.000000  38.81  ...  0.910905      0.0  0.919466   \n4           1  26.160    0.000000  39.47  ...  1.160104      0.0  0.932363   \n\n    S19_chg  FAILURE_DATE         C  TIME_TO_FAILURE  FAILURE_TARGET wookie  \\\n0  1.000000    2015-04-24  143 days            143.0               0  0.727   \n1  0.613483    2015-04-24 -340 days           -340.0               0  0.727   \n2  0.677419    2015-04-24 -341 days           -341.0               0  0.727   \n3  0.695035    2015-04-24 -342 days           -342.0               0  0.727   \n4  0.690141    2015-04-24 -343 days           -343.0               0  0.727   \n\n   MODELING_GROUP  \n0         TESTING  \n1         TESTING  \n2         TESTING  \n3         TESTING  \n4         TESTING  \n\n[5 rows x 62 columns]",
            "text/html": "<div>\n<style scoped>\n    .dataframe tbody tr th:only-of-type {\n        vertical-align: middle;\n    }\n\n    .dataframe tbody tr th {\n        vertical-align: top;\n    }\n\n    .dataframe thead th {\n        text-align: right;\n    }\n</style>\n<table border=\"1\" class=\"dataframe\">\n  <thead>\n    <tr style=\"text-align: right;\">\n      <th></th>\n      <th>index</th>\n      <th>ID</th>\n      <th>DATE</th>\n      <th>REGION_CLUSTER</th>\n      <th>MAINTENANCE_VENDOR</th>\n      <th>MANUFACTURER</th>\n      <th>WELL_GROUP</th>\n      <th>S15</th>\n      <th>S17</th>\n      <th>S13</th>\n      <th>...</th>\n      <th>S16_chg</th>\n      <th>S17_chg</th>\n      <th>S18_chg</th>\n      <th>S19_chg</th>\n      <th>FAILURE_DATE</th>\n      <th>C</th>\n      <th>TIME_TO_FAILURE</th>\n      <th>FAILURE_TARGET</th>\n      <th>wookie</th>\n      <th>MODELING_GROUP</th>\n    </tr>\n  </thead>\n  <tbody>\n    <tr>\n      <th>0</th>\n      <td>0</td>\n      <td>100001</td>\n      <td>2014-12-02</td>\n      <td>G</td>\n      <td>O</td>\n      <td>Y</td>\n      <td>1</td>\n      <td>11.088</td>\n      <td>145.223448</td>\n      <td>39.34</td>\n      <td>...</td>\n      <td>1.000000</td>\n      <td>1.0</td>\n      <td>1.000000</td>\n      <td>1.000000</td>\n      <td>2015-04-24</td>\n      <td>143 days</td>\n      <td>143.0</td>\n      <td>0</td>\n      <td>0.727</td>\n      <td>TESTING</td>\n    </tr>\n    <tr>\n      <th>1</th>\n      <td>1</td>\n      <td>100001</td>\n      <td>2016-03-29</td>\n      <td>G</td>\n      <td>O</td>\n      <td>Y</td>\n      <td>1</td>\n      <td>18.960</td>\n      <td>0.000000</td>\n      <td>38.87</td>\n      <td>...</td>\n      <td>1.080334</td>\n      <td>0.0</td>\n      <td>0.909801</td>\n      <td>0.613483</td>\n      <td>2015-04-24</td>\n      <td>-340 days</td>\n      <td>-340.0</td>\n      <td>0</td>\n      <td>0.727</td>\n      <td>TESTING</td>\n    </tr>\n    <tr>\n      <th>2</th>\n      <td>2</td>\n      <td>100001</td>\n      <td>2016-03-30</td>\n      <td>G</td>\n      <td>O</td>\n      <td>Y</td>\n      <td>1</td>\n      <td>29.040</td>\n      <td>0.000000</td>\n      <td>37.36</td>\n      <td>...</td>\n      <td>1.093691</td>\n      <td>0.0</td>\n      <td>0.906040</td>\n      <td>0.677419</td>\n      <td>2015-04-24</td>\n      <td>-341 days</td>\n      <td>-341.0</td>\n      <td>0</td>\n      <td>0.727</td>\n      <td>TESTING</td>\n    </tr>\n    <tr>\n      <th>3</th>\n      <td>3</td>\n      <td>100001</td>\n      <td>2016-03-31</td>\n      <td>G</td>\n      <td>O</td>\n      <td>Y</td>\n      <td>1</td>\n      <td>18.000</td>\n      <td>0.000000</td>\n      <td>38.81</td>\n      <td>...</td>\n      <td>0.910905</td>\n      <td>0.0</td>\n      <td>0.919466</td>\n      <td>0.695035</td>\n      <td>2015-04-24</td>\n      <td>-342 days</td>\n      <td>-342.0</td>\n      <td>0</td>\n      <td>0.727</td>\n      <td>TESTING</td>\n    </tr>\n    <tr>\n      <th>4</th>\n      <td>4</td>\n      <td>100001</td>\n      <td>2016-04-01</td>\n      <td>G</td>\n      <td>O</td>\n      <td>Y</td>\n      <td>1</td>\n      <td>26.160</td>\n      <td>0.000000</td>\n      <td>39.47</td>\n      <td>...</td>\n      <td>1.160104</td>\n      <td>0.0</td>\n      <td>0.932363</td>\n      <td>0.690141</td>\n      <td>2015-04-24</td>\n      <td>-343 days</td>\n      <td>-343.0</td>\n      <td>0</td>\n      <td>0.727</td>\n      <td>TESTING</td>\n    </tr>\n  </tbody>\n</table>\n<p>5 rows × 62 columns</p>\n</div>"
          },
          "metadata": {}
        }
      ]
    },
    {
      "metadata": {
        "id": "afJiTZw8TtoA"
      },
      "cell_type": "markdown",
      "source": [
        "This is how many records are in each group."
      ]
    },
    {
      "metadata": {
        "scrolled": true,
        "id": "ah4FMwkuTtoA",
        "outputId": "9607b016-9ea5-4621-e4b8-9f155638c1c4"
      },
      "cell_type": "code",
      "source": [
        "tips_summed = pd_data.groupby(['MODELING_GROUP'])['wookie'].count()\n",
        "tips_summed"
      ],
      "execution_count": null,
      "outputs": [
        {
          "output_type": "execute_result",
          "execution_count": 55,
          "data": {
            "text/plain": "MODELING_GROUP\nTESTING       108919\nTRAINING      106726\nVALIDATION     92106\nName: wookie, dtype: int64"
          },
          "metadata": {}
        }
      ]
    },
    {
      "metadata": {
        "id": "7B_ioZuzTtoA"
      },
      "cell_type": "markdown",
      "source": [
        "This is how many failure targets are in each group."
      ]
    },
    {
      "metadata": {
        "scrolled": true,
        "id": "hJdCPMwlTtoB",
        "outputId": "ac39d496-46a7-4bee-952b-099a8d9bae8b"
      },
      "cell_type": "code",
      "source": [
        "tips_summed = pd_data.groupby(['MODELING_GROUP'])['FAILURE_TARGET'].sum()\n",
        "tips_summed"
      ],
      "execution_count": null,
      "outputs": [
        {
          "output_type": "execute_result",
          "execution_count": 56,
          "data": {
            "text/plain": "MODELING_GROUP\nTESTING       4151\nTRAINING      4071\nVALIDATION    3518\nName: FAILURE_TARGET, dtype: int64"
          },
          "metadata": {}
        }
      ]
    },
    {
      "metadata": {
        "id": "OFAsmB_-TtoB"
      },
      "cell_type": "markdown",
      "source": [
        "Create a separate data frame for the training data.  We will use this data set to build the model."
      ]
    },
    {
      "metadata": {
        "id": "GeZnr3S4TtoB",
        "outputId": "b906ce90-da97-4710-bb19-bbb78e404944"
      },
      "cell_type": "code",
      "source": [
        "df_training=pd_data[pd_data['MODELING_GROUP'] == 'TRAINING']\n",
        "df_training=df_training.drop(columns=['MODELING_GROUP','C','wookie','TIME_TO_FAILURE','flipper','START_DATE'])\n",
        "df_training.shape"
      ],
      "execution_count": null,
      "outputs": [
        {
          "output_type": "execute_result",
          "execution_count": 57,
          "data": {
            "text/plain": "(106726, 56)"
          },
          "metadata": {}
        }
      ]
    },
    {
      "metadata": {
        "id": "XYj49nGDTtoB"
      },
      "cell_type": "markdown",
      "source": [
        "Create a separate data frame for the training and testing data sets.  We will use this to tweak our modeling results."
      ]
    },
    {
      "metadata": {
        "scrolled": true,
        "id": "TtHVcY9pTtoB",
        "outputId": "81b7672b-6c73-4b36-e1a3-232c829dd5a7"
      },
      "cell_type": "code",
      "source": [
        "df_train_test=pd_data[pd_data['MODELING_GROUP'] != 'VALIDATION']\n",
        "\n",
        "df_train_test=df_train_test.drop(columns=['wookie','TIME_TO_FAILURE','flipper','START_DATE'])\n",
        "df_train_test.shape"
      ],
      "execution_count": null,
      "outputs": [
        {
          "output_type": "execute_result",
          "execution_count": 58,
          "data": {
            "text/plain": "(215645, 58)"
          },
          "metadata": {}
        }
      ]
    },
    {
      "metadata": {
        "id": "iWs3r3aiTtoB"
      },
      "cell_type": "markdown",
      "source": [
        "Create a separate data frame for all the data. We will use this to validate the model and compare the accuracy of all groups."
      ]
    },
    {
      "metadata": {
        "id": "Q7O5895XTtoC",
        "outputId": "1bee1ea9-0326-4a53-b872-d06e363af5ed"
      },
      "cell_type": "code",
      "source": [
        "df_total=pd_data.drop(columns=['C','wookie','TIME_TO_FAILURE','flipper','START_DATE'])\n",
        "df_total.shape"
      ],
      "execution_count": null,
      "outputs": [
        {
          "output_type": "execute_result",
          "execution_count": 59,
          "data": {
            "text/plain": "(307751, 57)"
          },
          "metadata": {}
        }
      ]
    },
    {
      "metadata": {
        "id": "uDoUChGqTtoC"
      },
      "cell_type": "markdown",
      "source": [
        "#### 4.3 SMOTE the Training Data <a id=\"smote\"></a>"
      ]
    },
    {
      "metadata": {
        "id": "l8HGnizhTtoC"
      },
      "cell_type": "markdown",
      "source": [
        "Note that we are only balancing the training data set. You may be asking why. Remember that our goal is to build a model the represents reality, right? When we SMOTE the data, we change the failure rate to 50%. This is nowhere near what we see in the actual machine data.  Thus, it makes sense to build the model on the SMOTE data but evaluate it on the unaltered data. The unaltered data will be a better reflection of what to expect when you deploy the model to production.\n",
        "\n",
        "Define the Training features and Target."
      ]
    },
    {
      "metadata": {
        "scrolled": true,
        "id": "7ZX8fJ_mTtoC"
      },
      "cell_type": "code",
      "source": [
        "training_features=df_training[['REGION_CLUSTER','MAINTENANCE_VENDOR','MANUFACTURER','WELL_GROUP','AGE_OF_EQUIPMENT','S15','S17','S13','S5',\n",
        " 'S16','S19','S18','S8','S5_mean','S5_median','S5_max','S5_min','S13_mean','S13_median','S13_max','S13_min','S15_mean','S15_median',\n",
        " 'S15_max','S15_min','S16_mean','S16_median','S16_max','S16_min','S17_mean','S17_median','S17_max','S17_min','S18_mean','S18_median','S18_max','S18_min','S19_mean','S19_median','S19_max','S19_min',\n",
        " 'S5_chg','S13_chg','S15_chg','S16_chg','S17_chg','S18_chg','S19_chg']]"
      ],
      "execution_count": null,
      "outputs": []
    },
    {
      "metadata": {
        "scrolled": true,
        "id": "nBRqEomZTtoC"
      },
      "cell_type": "code",
      "source": [
        "training_target=df_training[['FAILURE_TARGET']]"
      ],
      "execution_count": null,
      "outputs": []
    },
    {
      "metadata": {
        "id": "JACReD-HTtoC"
      },
      "cell_type": "markdown",
      "source": [
        "Synthetically Balance the training data sets with a SMOTE algorithm. After we apply the SMOTE algorithm, we will have a balanced data set. 50% Failures and 50% Non-Failures. Note that this takes a while to run."
      ]
    },
    {
      "metadata": {
        "id": "KSVYCes-TtoD"
      },
      "cell_type": "code",
      "source": [
        "#uncomment these options if you want to expand the number of rows and columns that appear visually on the screen.\n",
        "\n",
        "#pd.set_option('display.max_columns', None)\n",
        "#pd.set_option('display.max_rows', None)"
      ],
      "execution_count": null,
      "outputs": []
    },
    {
      "metadata": {
        "id": "DlA289igTtoD"
      },
      "cell_type": "code",
      "source": [
        "from imblearn.over_sampling import SMOTE\n",
        "from imblearn.over_sampling import SMOTENC\n",
        "smx = SMOTENC(random_state=12,  categorical_features=[0, 1, 2, 3])"
      ],
      "execution_count": null,
      "outputs": []
    },
    {
      "metadata": {
        "id": "6mAjbPFNTtoD"
      },
      "cell_type": "code",
      "source": [
        "x_res, y_res = smx.fit_resample(training_features, training_target.values.ravel())"
      ],
      "execution_count": null,
      "outputs": []
    },
    {
      "metadata": {
        "id": "vIUrgOfiTtoD"
      },
      "cell_type": "markdown",
      "source": [
        "Convert the SMOTE output back to complete data frames with independent and dependent variables.  Examine the results."
      ]
    },
    {
      "metadata": {
        "id": "0OAdpOCNTtoD"
      },
      "cell_type": "markdown",
      "source": [
        "Format the Independent Variables."
      ]
    },
    {
      "metadata": {
        "id": "UgKwO-AjTtoD",
        "outputId": "fc6e5667-810f-4a49-94b3-7264cd152aef"
      },
      "cell_type": "code",
      "source": [
        "df_x=pd.DataFrame(x_res)\n",
        "\n",
        "df_x.columns = [\n",
        " 'REGION_CLUSTER','MAINTENANCE_VENDOR','MANUFACTURER','WELL_GROUP','AGE_OF_EQUIPMENT','S15','S17','S13','S5','S16','S19',\n",
        " 'S18','S8','S5_mean','S5_median','S5_max','S5_min','S13_mean','S13_median','S13_max','S13_min','S15_mean','S15_median','S15_max',\n",
        " 'S15_min','S16_mean','S16_median','S16_max','S16_min','S17_mean','S17_median','S17_max','S17_min','S18_mean','S18_median','S18_max','S18_min',\n",
        " 'S19_mean','S19_median','S19_max','S19_min','S5_chg','S13_chg','S15_chg','S16_chg','S17_chg','S18_chg','S19_chg']\n",
        "df_x.head()"
      ],
      "execution_count": null,
      "outputs": [
        {
          "output_type": "execute_result",
          "execution_count": 65,
          "data": {
            "text/plain": "  REGION_CLUSTER MAINTENANCE_VENDOR MANUFACTURER  WELL_GROUP  \\\n0              D                  L            R           6   \n1              D                  L            R           6   \n2              D                  L            R           6   \n3              D                  L            R           6   \n4              D                  L            R           6   \n\n   AGE_OF_EQUIPMENT      S15     S17    S13      S5     S16  ...  S19_median  \\\n0              1308  15.5184  188.10  36.29  4318.0  8.0073  ...        22.4   \n1              1307  10.3032  149.24  36.78  4377.0  7.0766  ...        22.4   \n2              1306  11.4480  187.45  35.84  4265.0  8.0259  ...        22.4   \n3              1302  15.1368  148.33  37.53  4466.0  8.7163  ...        22.4   \n4              1304  14.3736  179.30  36.31  4321.0  7.9396  ...        22.4   \n\n   S19_max  S19_min    S5_chg   S13_chg   S15_chg   S16_chg   S17_chg  \\\n0     28.9     22.4  0.989654  0.989779  1.208706  0.913224  1.150727   \n1     28.9     22.4  1.001165  1.001141  0.800762  0.799231  0.931453   \n2     28.9     22.4  0.974444  0.974443  0.886546  0.906484  1.158515   \n3     28.9     22.4  1.015319  1.015344  1.168344  0.992329  0.922866   \n4     28.9     22.4  0.983099  0.983085  1.094500  0.902220  1.132530   \n\n    S18_chg   S19_chg  \n0  0.995684  0.911805  \n1  0.991996  0.911805  \n2  0.985806  0.911805  \n3  0.973863  0.911805  \n4  0.980886  0.911805  \n\n[5 rows x 48 columns]",
            "text/html": "<div>\n<style scoped>\n    .dataframe tbody tr th:only-of-type {\n        vertical-align: middle;\n    }\n\n    .dataframe tbody tr th {\n        vertical-align: top;\n    }\n\n    .dataframe thead th {\n        text-align: right;\n    }\n</style>\n<table border=\"1\" class=\"dataframe\">\n  <thead>\n    <tr style=\"text-align: right;\">\n      <th></th>\n      <th>REGION_CLUSTER</th>\n      <th>MAINTENANCE_VENDOR</th>\n      <th>MANUFACTURER</th>\n      <th>WELL_GROUP</th>\n      <th>AGE_OF_EQUIPMENT</th>\n      <th>S15</th>\n      <th>S17</th>\n      <th>S13</th>\n      <th>S5</th>\n      <th>S16</th>\n      <th>...</th>\n      <th>S19_median</th>\n      <th>S19_max</th>\n      <th>S19_min</th>\n      <th>S5_chg</th>\n      <th>S13_chg</th>\n      <th>S15_chg</th>\n      <th>S16_chg</th>\n      <th>S17_chg</th>\n      <th>S18_chg</th>\n      <th>S19_chg</th>\n    </tr>\n  </thead>\n  <tbody>\n    <tr>\n      <th>0</th>\n      <td>D</td>\n      <td>L</td>\n      <td>R</td>\n      <td>6</td>\n      <td>1308</td>\n      <td>15.5184</td>\n      <td>188.10</td>\n      <td>36.29</td>\n      <td>4318.0</td>\n      <td>8.0073</td>\n      <td>...</td>\n      <td>22.4</td>\n      <td>28.9</td>\n      <td>22.4</td>\n      <td>0.989654</td>\n      <td>0.989779</td>\n      <td>1.208706</td>\n      <td>0.913224</td>\n      <td>1.150727</td>\n      <td>0.995684</td>\n      <td>0.911805</td>\n    </tr>\n    <tr>\n      <th>1</th>\n      <td>D</td>\n      <td>L</td>\n      <td>R</td>\n      <td>6</td>\n      <td>1307</td>\n      <td>10.3032</td>\n      <td>149.24</td>\n      <td>36.78</td>\n      <td>4377.0</td>\n      <td>7.0766</td>\n      <td>...</td>\n      <td>22.4</td>\n      <td>28.9</td>\n      <td>22.4</td>\n      <td>1.001165</td>\n      <td>1.001141</td>\n      <td>0.800762</td>\n      <td>0.799231</td>\n      <td>0.931453</td>\n      <td>0.991996</td>\n      <td>0.911805</td>\n    </tr>\n    <tr>\n      <th>2</th>\n      <td>D</td>\n      <td>L</td>\n      <td>R</td>\n      <td>6</td>\n      <td>1306</td>\n      <td>11.4480</td>\n      <td>187.45</td>\n      <td>35.84</td>\n      <td>4265.0</td>\n      <td>8.0259</td>\n      <td>...</td>\n      <td>22.4</td>\n      <td>28.9</td>\n      <td>22.4</td>\n      <td>0.974444</td>\n      <td>0.974443</td>\n      <td>0.886546</td>\n      <td>0.906484</td>\n      <td>1.158515</td>\n      <td>0.985806</td>\n      <td>0.911805</td>\n    </tr>\n    <tr>\n      <th>3</th>\n      <td>D</td>\n      <td>L</td>\n      <td>R</td>\n      <td>6</td>\n      <td>1302</td>\n      <td>15.1368</td>\n      <td>148.33</td>\n      <td>37.53</td>\n      <td>4466.0</td>\n      <td>8.7163</td>\n      <td>...</td>\n      <td>22.4</td>\n      <td>28.9</td>\n      <td>22.4</td>\n      <td>1.015319</td>\n      <td>1.015344</td>\n      <td>1.168344</td>\n      <td>0.992329</td>\n      <td>0.922866</td>\n      <td>0.973863</td>\n      <td>0.911805</td>\n    </tr>\n    <tr>\n      <th>4</th>\n      <td>D</td>\n      <td>L</td>\n      <td>R</td>\n      <td>6</td>\n      <td>1304</td>\n      <td>14.3736</td>\n      <td>179.30</td>\n      <td>36.31</td>\n      <td>4321.0</td>\n      <td>7.9396</td>\n      <td>...</td>\n      <td>22.4</td>\n      <td>28.9</td>\n      <td>22.4</td>\n      <td>0.983099</td>\n      <td>0.983085</td>\n      <td>1.094500</td>\n      <td>0.902220</td>\n      <td>1.132530</td>\n      <td>0.980886</td>\n      <td>0.911805</td>\n    </tr>\n  </tbody>\n</table>\n<p>5 rows × 48 columns</p>\n</div>"
          },
          "metadata": {}
        }
      ]
    },
    {
      "metadata": {
        "id": "tByR2eB7TtoD"
      },
      "cell_type": "markdown",
      "source": [
        "Format the Dependent Variable."
      ]
    },
    {
      "metadata": {
        "id": "2Wk7IpwDTtoE"
      },
      "cell_type": "code",
      "source": [
        "df_y=pd.DataFrame(y_res)\n",
        "df_y.columns = ['FAILURE_TARGET']"
      ],
      "execution_count": null,
      "outputs": []
    },
    {
      "metadata": {
        "id": "KSC_9_5jTtoE"
      },
      "cell_type": "markdown",
      "source": [
        "Check that the dependent variable is balanced.  It is."
      ]
    },
    {
      "metadata": {
        "id": "12UTqCf8TtoE",
        "outputId": "e1ad1e19-00d8-4622-dfc8-5c48b6202f68"
      },
      "cell_type": "code",
      "source": [
        "df_y.mean(axis = 0)"
      ],
      "execution_count": null,
      "outputs": [
        {
          "output_type": "execute_result",
          "execution_count": 67,
          "data": {
            "text/plain": "FAILURE_TARGET    0.5\ndtype: float64"
          },
          "metadata": {}
        }
      ]
    },
    {
      "metadata": {
        "scrolled": true,
        "id": "bBxvtxEQTtoE"
      },
      "cell_type": "markdown",
      "source": [
        "Merge the dependent and independent variables post SMOTE into a data frame."
      ]
    },
    {
      "metadata": {
        "id": "RPNbZsfDTtoE",
        "outputId": "16d3192c-832e-4d11-b2e1-ba643bc41ac3"
      },
      "cell_type": "code",
      "source": [
        "df_balanced = pd.concat([df_y, df_x], axis=1)\n",
        "df_balanced.head()"
      ],
      "execution_count": null,
      "outputs": [
        {
          "output_type": "execute_result",
          "execution_count": 68,
          "data": {
            "text/plain": "   FAILURE_TARGET REGION_CLUSTER MAINTENANCE_VENDOR MANUFACTURER  WELL_GROUP  \\\n0               0              D                  L            R           6   \n1               0              D                  L            R           6   \n2               0              D                  L            R           6   \n3               0              D                  L            R           6   \n4               0              D                  L            R           6   \n\n   AGE_OF_EQUIPMENT      S15     S17    S13      S5  ...  S19_median  S19_max  \\\n0              1308  15.5184  188.10  36.29  4318.0  ...        22.4     28.9   \n1              1307  10.3032  149.24  36.78  4377.0  ...        22.4     28.9   \n2              1306  11.4480  187.45  35.84  4265.0  ...        22.4     28.9   \n3              1302  15.1368  148.33  37.53  4466.0  ...        22.4     28.9   \n4              1304  14.3736  179.30  36.31  4321.0  ...        22.4     28.9   \n\n   S19_min    S5_chg   S13_chg   S15_chg   S16_chg   S17_chg   S18_chg  \\\n0     22.4  0.989654  0.989779  1.208706  0.913224  1.150727  0.995684   \n1     22.4  1.001165  1.001141  0.800762  0.799231  0.931453  0.991996   \n2     22.4  0.974444  0.974443  0.886546  0.906484  1.158515  0.985806   \n3     22.4  1.015319  1.015344  1.168344  0.992329  0.922866  0.973863   \n4     22.4  0.983099  0.983085  1.094500  0.902220  1.132530  0.980886   \n\n    S19_chg  \n0  0.911805  \n1  0.911805  \n2  0.911805  \n3  0.911805  \n4  0.911805  \n\n[5 rows x 49 columns]",
            "text/html": "<div>\n<style scoped>\n    .dataframe tbody tr th:only-of-type {\n        vertical-align: middle;\n    }\n\n    .dataframe tbody tr th {\n        vertical-align: top;\n    }\n\n    .dataframe thead th {\n        text-align: right;\n    }\n</style>\n<table border=\"1\" class=\"dataframe\">\n  <thead>\n    <tr style=\"text-align: right;\">\n      <th></th>\n      <th>FAILURE_TARGET</th>\n      <th>REGION_CLUSTER</th>\n      <th>MAINTENANCE_VENDOR</th>\n      <th>MANUFACTURER</th>\n      <th>WELL_GROUP</th>\n      <th>AGE_OF_EQUIPMENT</th>\n      <th>S15</th>\n      <th>S17</th>\n      <th>S13</th>\n      <th>S5</th>\n      <th>...</th>\n      <th>S19_median</th>\n      <th>S19_max</th>\n      <th>S19_min</th>\n      <th>S5_chg</th>\n      <th>S13_chg</th>\n      <th>S15_chg</th>\n      <th>S16_chg</th>\n      <th>S17_chg</th>\n      <th>S18_chg</th>\n      <th>S19_chg</th>\n    </tr>\n  </thead>\n  <tbody>\n    <tr>\n      <th>0</th>\n      <td>0</td>\n      <td>D</td>\n      <td>L</td>\n      <td>R</td>\n      <td>6</td>\n      <td>1308</td>\n      <td>15.5184</td>\n      <td>188.10</td>\n      <td>36.29</td>\n      <td>4318.0</td>\n      <td>...</td>\n      <td>22.4</td>\n      <td>28.9</td>\n      <td>22.4</td>\n      <td>0.989654</td>\n      <td>0.989779</td>\n      <td>1.208706</td>\n      <td>0.913224</td>\n      <td>1.150727</td>\n      <td>0.995684</td>\n      <td>0.911805</td>\n    </tr>\n    <tr>\n      <th>1</th>\n      <td>0</td>\n      <td>D</td>\n      <td>L</td>\n      <td>R</td>\n      <td>6</td>\n      <td>1307</td>\n      <td>10.3032</td>\n      <td>149.24</td>\n      <td>36.78</td>\n      <td>4377.0</td>\n      <td>...</td>\n      <td>22.4</td>\n      <td>28.9</td>\n      <td>22.4</td>\n      <td>1.001165</td>\n      <td>1.001141</td>\n      <td>0.800762</td>\n      <td>0.799231</td>\n      <td>0.931453</td>\n      <td>0.991996</td>\n      <td>0.911805</td>\n    </tr>\n    <tr>\n      <th>2</th>\n      <td>0</td>\n      <td>D</td>\n      <td>L</td>\n      <td>R</td>\n      <td>6</td>\n      <td>1306</td>\n      <td>11.4480</td>\n      <td>187.45</td>\n      <td>35.84</td>\n      <td>4265.0</td>\n      <td>...</td>\n      <td>22.4</td>\n      <td>28.9</td>\n      <td>22.4</td>\n      <td>0.974444</td>\n      <td>0.974443</td>\n      <td>0.886546</td>\n      <td>0.906484</td>\n      <td>1.158515</td>\n      <td>0.985806</td>\n      <td>0.911805</td>\n    </tr>\n    <tr>\n      <th>3</th>\n      <td>0</td>\n      <td>D</td>\n      <td>L</td>\n      <td>R</td>\n      <td>6</td>\n      <td>1302</td>\n      <td>15.1368</td>\n      <td>148.33</td>\n      <td>37.53</td>\n      <td>4466.0</td>\n      <td>...</td>\n      <td>22.4</td>\n      <td>28.9</td>\n      <td>22.4</td>\n      <td>1.015319</td>\n      <td>1.015344</td>\n      <td>1.168344</td>\n      <td>0.992329</td>\n      <td>0.922866</td>\n      <td>0.973863</td>\n      <td>0.911805</td>\n    </tr>\n    <tr>\n      <th>4</th>\n      <td>0</td>\n      <td>D</td>\n      <td>L</td>\n      <td>R</td>\n      <td>6</td>\n      <td>1304</td>\n      <td>14.3736</td>\n      <td>179.30</td>\n      <td>36.31</td>\n      <td>4321.0</td>\n      <td>...</td>\n      <td>22.4</td>\n      <td>28.9</td>\n      <td>22.4</td>\n      <td>0.983099</td>\n      <td>0.983085</td>\n      <td>1.094500</td>\n      <td>0.902220</td>\n      <td>1.132530</td>\n      <td>0.980886</td>\n      <td>0.911805</td>\n    </tr>\n  </tbody>\n</table>\n<p>5 rows × 49 columns</p>\n</div>"
          },
          "metadata": {}
        }
      ]
    },
    {
      "metadata": {
        "id": "vKNQuzorTtoE"
      },
      "cell_type": "markdown",
      "source": [
        "### 5.0 More data transformation and feature engineering <a id=\"more\"></a>"
      ]
    },
    {
      "metadata": {
        "id": "YAlmoQzOTtoF"
      },
      "cell_type": "markdown",
      "source": [
        "Convert the categorical variables into binary dummy variables. We need to do this because the XGBT model (below) doesn't like categorical fields."
      ]
    },
    {
      "metadata": {
        "id": "EeHKi_bGTtoF"
      },
      "cell_type": "code",
      "source": [
        "df_dv = pd.get_dummies(df_balanced['REGION_CLUSTER'])\n",
        "\n",
        "df_dv=df_dv.rename(columns={\"A\": \"CLUSTER_A\",\"B\":\"CLUSTER_B\",\"C\":\"CLUSTER_C\",\"D\":\"CLUSTER_D\",\"E\":\"CLUSTER_E\",\"F\":\"CLUSTER_F\",\"G\":\"CLUSTER_G\",\"H\":\"CLUSTER_H\"})\n",
        "\n",
        "\n",
        "df_balanced= pd.concat([df_balanced, df_dv], axis=1)\n",
        "\n",
        "\n",
        "df_dv = pd.get_dummies(df_balanced['MAINTENANCE_VENDOR'])\n",
        "\n",
        "df_dv=df_dv.rename(columns={\"I\": \"MV_I\",\"J\":\"MV_J\",\"K\":\"MV_K\",\"L\":\"MV_L\",\"M\":\"MV_M\",\"N\":\"MV_N\",\"O\":\"MV_O\",\"P\":\"MV_P\"})\n",
        "\n",
        "\n",
        "df_balanced = pd.concat([df_balanced, df_dv], axis=1)\n",
        "\n",
        "\n",
        "\n",
        "df_dv = pd.get_dummies(df_balanced['MANUFACTURER'])\n",
        "\n",
        "df_dv=df_dv.rename(columns={\"Q\": \"MN_Q\",\"R\":\"MN_R\",\"S\":\"MN_S\",\"T\":\"MN_T\",\"U\":\"MN_U\",\"V\":\"MN_V\",\"W\":\"MN_W\",\"X\":\"MN_X\",\"Y\":\"MN_Y\",\"Z\":\"MN_Z\"})\n",
        "\n",
        "\n",
        "df_balanced = pd.concat([df_balanced, df_dv], axis=1)\n",
        "\n",
        "\n",
        "df_dv = pd.get_dummies(df_balanced['WELL_GROUP'])\n",
        "\n",
        "df_dv=df_dv.rename(columns={1: \"WG_1\",2:\"WG_2\",3:\"WG_3\",4:\"WG_4\",5:\"WG_5\",6:\"WG_6\",7:\"WG_7\",8:\"WG_8\"})\n",
        "\n",
        "\n",
        "df_balanced = pd.concat([df_balanced, df_dv], axis=1)\n"
      ],
      "execution_count": null,
      "outputs": []
    },
    {
      "metadata": {
        "id": "KJtRPg7ATtoF"
      },
      "cell_type": "markdown",
      "source": [
        "Execute the same transformation on the train_test data set."
      ]
    },
    {
      "metadata": {
        "id": "X7TgudCgTtoF"
      },
      "cell_type": "code",
      "source": [
        "df_dv = pd.get_dummies(df_train_test['REGION_CLUSTER'])\n",
        "\n",
        "df_dv=df_dv.rename(columns={\"A\": \"CLUSTER_A\",\"B\":\"CLUSTER_B\",\"C\":\"CLUSTER_C\",\"D\":\"CLUSTER_D\",\"E\":\"CLUSTER_E\",\"F\":\"CLUSTER_F\",\"G\":\"CLUSTER_G\",\"H\":\"CLUSTER_H\"})\n",
        "\n",
        "\n",
        "df_train_test= pd.concat([df_train_test, df_dv], axis=1)\n",
        "\n",
        "\n",
        "df_dv = pd.get_dummies(df_train_test['MAINTENANCE_VENDOR'])\n",
        "\n",
        "df_dv=df_dv.rename(columns={\"I\": \"MV_I\",\"J\":\"MV_J\",\"K\":\"MV_K\",\"L\":\"MV_L\",\"M\":\"MV_M\",\"N\":\"MV_N\",\"O\":\"MV_O\",\"P\":\"MV_P\"})\n",
        "\n",
        "\n",
        "df_train_test = pd.concat([df_train_test, df_dv], axis=1)\n",
        "\n",
        "\n",
        "\n",
        "df_dv = pd.get_dummies(df_train_test['MANUFACTURER'])\n",
        "\n",
        "df_dv=df_dv.rename(columns={\"Q\": \"MN_Q\",\"R\":\"MN_R\",\"S\":\"MN_S\",\"T\":\"MN_T\",\"U\":\"MN_U\",\"V\":\"MN_V\",\"W\":\"MN_W\",\"X\":\"MN_X\",\"Y\":\"MN_Y\",\"Z\":\"MN_Z\"})\n",
        "\n",
        "\n",
        "df_train_test = pd.concat([df_train_test, df_dv], axis=1)\n",
        "\n",
        "\n",
        "df_dv = pd.get_dummies(df_train_test['WELL_GROUP'])\n",
        "\n",
        "df_dv=df_dv.rename(columns={1: \"WG_1\",2:\"WG_2\",3:\"WG_3\",4:\"WG_4\",5:\"WG_5\",6:\"WG_6\",7:\"WG_7\",8:\"WG_8\"})\n",
        "\n",
        "\n",
        "df_train_test = pd.concat([df_train_test, df_dv], axis=1)\n",
        "\n"
      ],
      "execution_count": null,
      "outputs": []
    },
    {
      "metadata": {
        "id": "-OwzhrmWTtoF"
      },
      "cell_type": "markdown",
      "source": [
        "And, also on the df_total data set."
      ]
    },
    {
      "metadata": {
        "id": "aPRfEYkwTtoF"
      },
      "cell_type": "code",
      "source": [
        "df_dv = pd.get_dummies(df_total['REGION_CLUSTER'])\n",
        "\n",
        "df_dv=df_dv.rename(columns={\"A\": \"CLUSTER_A\",\"B\":\"CLUSTER_B\",\"C\":\"CLUSTER_C\",\"D\":\"CLUSTER_D\",\"E\":\"CLUSTER_E\",\"F\":\"CLUSTER_F\",\"G\":\"CLUSTER_G\",\"H\":\"CLUSTER_H\"})\n",
        "\n",
        "\n",
        "df_total= pd.concat([df_total, df_dv], axis=1)\n",
        "\n",
        "\n",
        "df_dv = pd.get_dummies(df_total['MAINTENANCE_VENDOR'])\n",
        "\n",
        "df_dv=df_dv.rename(columns={\"I\": \"MV_I\",\"J\":\"MV_J\",\"K\":\"MV_K\",\"L\":\"MV_L\",\"M\":\"MV_M\",\"N\":\"MV_N\",\"O\":\"MV_O\",\"P\":\"MV_P\"})\n",
        "\n",
        "\n",
        "df_total = pd.concat([df_total, df_dv], axis=1)\n",
        "\n",
        "\n",
        "\n",
        "df_dv = pd.get_dummies(df_total['MANUFACTURER'])\n",
        "\n",
        "df_dv=df_dv.rename(columns={\"Q\": \"MN_Q\",\"R\":\"MN_R\",\"S\":\"MN_S\",\"T\":\"MN_T\",\"U\":\"MN_U\",\"V\":\"MN_V\",\"W\":\"MN_W\",\"X\":\"MN_X\",\"Y\":\"MN_Y\",\"Z\":\"MN_Z\"})\n",
        "\n",
        "\n",
        "df_total = pd.concat([df_total, df_dv], axis=1)\n",
        "\n",
        "\n",
        "df_dv = pd.get_dummies(df_total['WELL_GROUP'])\n",
        "\n",
        "df_dv=df_dv.rename(columns={1: \"WG_1\",2:\"WG_2\",3:\"WG_3\",4:\"WG_4\",5:\"WG_5\",6:\"WG_6\",7:\"WG_7\",8:\"WG_8\"})\n",
        "\n",
        "\n",
        "df_total = pd.concat([df_total, df_dv], axis=1)"
      ],
      "execution_count": null,
      "outputs": []
    },
    {
      "metadata": {
        "id": "W9nD6n9xTtoG"
      },
      "cell_type": "markdown",
      "source": [
        "### 6.0 Build the model on the balanced training data set <a id=\"build\"></a>"
      ]
    },
    {
      "metadata": {
        "id": "jeEkj1MhTtoG"
      },
      "cell_type": "code",
      "source": [
        "# Remove the newly redundant categorical variables.  This are now represented by dummy variables.\n",
        "df_balanced=df_balanced.drop(columns=['REGION_CLUSTER','MAINTENANCE_VENDOR','MANUFACTURER','WELL_GROUP'])"
      ],
      "execution_count": null,
      "outputs": []
    },
    {
      "metadata": {
        "id": "mHV7JoeVTtoG"
      },
      "cell_type": "markdown",
      "source": [
        "In the balanced data set, separate the dependent and independent variables to feed the model development process."
      ]
    },
    {
      "metadata": {
        "id": "oBFeBp8nTtoG"
      },
      "cell_type": "code",
      "source": [
        "\n",
        "features = [x for x in df_balanced.columns if x not in ['FAILURE_TARGET']]\n",
        "dependent=pd.DataFrame(df_balanced['FAILURE_TARGET'])\n",
        "\n",
        "independent=df_balanced.drop(columns=['FAILURE_TARGET'])"
      ],
      "execution_count": null,
      "outputs": []
    },
    {
      "metadata": {
        "id": "A3AJQCHWTtoG"
      },
      "cell_type": "code",
      "source": [
        "#make sure everything is numeric for simplicity -- this caused issues with some operating environments, so it is commented out.\n",
        "#independent = independent.apply(pd.to_numeric)\n",
        "#df_balanced = df_balanced.apply(pd.to_numeric)"
      ],
      "execution_count": null,
      "outputs": []
    },
    {
      "metadata": {
        "id": "6E8fCKssTtoG"
      },
      "cell_type": "markdown",
      "source": [
        "Define model specs."
      ]
    },
    {
      "metadata": {
        "id": "Ga_NcmcDTtoH",
        "outputId": "5ad0c749-9efb-45b2-a664-d31672d56f0b"
      },
      "cell_type": "code",
      "source": [
        "df_balanced.head(1)"
      ],
      "execution_count": null,
      "outputs": [
        {
          "output_type": "execute_result",
          "execution_count": 75,
          "data": {
            "text/plain": "   FAILURE_TARGET  AGE_OF_EQUIPMENT      S15    S17    S13      S5     S16  \\\n0               0              1308  15.5184  188.1  36.29  4318.0  8.0073   \n\n    S19    S18      S8  ...  MN_Y  MN_Z  WG_1  WG_2  WG_3  WG_4  WG_5  WG_6  \\\n0  22.4  143.9  222.64  ...     0     0     0     0     0     0     0     1   \n\n   WG_7  WG_8  \n0     0     0  \n\n[1 rows x 79 columns]",
            "text/html": "<div>\n<style scoped>\n    .dataframe tbody tr th:only-of-type {\n        vertical-align: middle;\n    }\n\n    .dataframe tbody tr th {\n        vertical-align: top;\n    }\n\n    .dataframe thead th {\n        text-align: right;\n    }\n</style>\n<table border=\"1\" class=\"dataframe\">\n  <thead>\n    <tr style=\"text-align: right;\">\n      <th></th>\n      <th>FAILURE_TARGET</th>\n      <th>AGE_OF_EQUIPMENT</th>\n      <th>S15</th>\n      <th>S17</th>\n      <th>S13</th>\n      <th>S5</th>\n      <th>S16</th>\n      <th>S19</th>\n      <th>S18</th>\n      <th>S8</th>\n      <th>...</th>\n      <th>MN_Y</th>\n      <th>MN_Z</th>\n      <th>WG_1</th>\n      <th>WG_2</th>\n      <th>WG_3</th>\n      <th>WG_4</th>\n      <th>WG_5</th>\n      <th>WG_6</th>\n      <th>WG_7</th>\n      <th>WG_8</th>\n    </tr>\n  </thead>\n  <tbody>\n    <tr>\n      <th>0</th>\n      <td>0</td>\n      <td>1308</td>\n      <td>15.5184</td>\n      <td>188.1</td>\n      <td>36.29</td>\n      <td>4318.0</td>\n      <td>8.0073</td>\n      <td>22.4</td>\n      <td>143.9</td>\n      <td>222.64</td>\n      <td>...</td>\n      <td>0</td>\n      <td>0</td>\n      <td>0</td>\n      <td>0</td>\n      <td>0</td>\n      <td>0</td>\n      <td>0</td>\n      <td>1</td>\n      <td>0</td>\n      <td>0</td>\n    </tr>\n  </tbody>\n</table>\n<p>1 rows × 79 columns</p>\n</div>"
          },
          "metadata": {}
        }
      ]
    },
    {
      "metadata": {
        "id": "j__q1ibKTtoH"
      },
      "cell_type": "code",
      "source": [
        "import matplotlib.pylab as plt\n",
        "%matplotlib inline\n",
        "\n",
        "def evaluate_model(alg, train, target, predictors,  early_stopping_rounds=1):\n",
        "\n",
        "\n",
        "    #Fit the algorithm on the data\n",
        "    alg.fit(train[predictors], target['FAILURE_TARGET'], eval_metric='error')\n",
        "\n",
        "    #Predict training set:\n",
        "    dtrain_predictions = alg.predict(train[predictors])\n",
        "    dtrain_predprob = alg.predict_proba(train[predictors])[:,1]\n",
        "\n",
        "    feat_imp = pd.Series(alg.get_booster().get_fscore()).sort_values(ascending=False)\n",
        "    feat_imp.plot(kind='bar', title='Feature Importance', color='g')\n",
        "    plt.ylabel('Feature Importance Score')\n",
        "\n",
        "    #Print model report:\n",
        "    print(\"\\nModel Report\")\n",
        "    print(\"Accuracy : %.4g\" % metrics.accuracy_score(target['FAILURE_TARGET'].values, dtrain_predictions))\n",
        "    print(\"AUC Score (Balanced): %f\" % metrics.roc_auc_score(target['FAILURE_TARGET'], dtrain_predprob))"
      ],
      "execution_count": null,
      "outputs": []
    },
    {
      "metadata": {
        "id": "rlmjOKsgTtoH"
      },
      "cell_type": "markdown",
      "source": [
        "Define the parameter values for a xgbt model"
      ]
    },
    {
      "metadata": {
        "id": "BW_gVl42TtoH"
      },
      "cell_type": "code",
      "source": [
        "estimator_vals=160\n",
        "lr_vals = 0.8\n",
        "md_vals = 12\n",
        "mcw_vals = 0.5\n",
        "gamma_vals =.1\n",
        "subsample_vals = .5\n",
        "c_bt_vals = 1\n",
        "reg_lambda_vals = 1\n",
        "reg_alpha_vals = 1"
      ],
      "execution_count": null,
      "outputs": []
    },
    {
      "metadata": {
        "id": "Scw5K5YFTtoH"
      },
      "cell_type": "markdown",
      "source": [
        "Define the model"
      ]
    },
    {
      "metadata": {
        "id": "u9AyWe-MTtoH"
      },
      "cell_type": "code",
      "source": [
        "xgb0 = XGBClassifier(objective = 'binary:logistic',use_label_encoder=False,learning_rate = lr_vals,\n",
        "n_estimators=estimator_vals,max_depth=md_vals,min_child_weight=mcw_vals,\n",
        "gamma=gamma_vals,subsample=subsample_vals,colsample_bytree=c_bt_vals,\n",
        "reg_lambda=reg_lambda_vals,reg_alpha=reg_alpha_vals);\n"
      ],
      "execution_count": null,
      "outputs": []
    },
    {
      "metadata": {
        "id": "yiI4q21WTtoI"
      },
      "cell_type": "markdown",
      "source": [
        "Build the model on the balanced training data set."
      ]
    },
    {
      "metadata": {
        "id": "3aUzS52ATtoI",
        "outputId": "bf9c05be-ed1a-40c4-8c86-c18f534b5919"
      },
      "cell_type": "code",
      "source": [
        "evaluate_model(xgb0, independent, dependent,features)"
      ],
      "execution_count": null,
      "outputs": [
        {
          "output_type": "stream",
          "text": "\nModel Report\nAccuracy : 1\nAUC Score (Balanced): 1.000000\n",
          "name": "stdout"
        },
        {
          "output_type": "display_data",
          "data": {
            "text/plain": "<Figure size 432x288 with 1 Axes>",
            "image/png": "[encoded data removed]"
          },
          "metadata": {
            "needs_background": "light"
          }
        }
      ]
    },
    {
      "metadata": {
        "id": "7YfhMoIWTtoI"
      },
      "cell_type": "markdown",
      "source": [
        "Well, the model is perfect! So we can go home and celebrate?\n",
        "\n",
        "\n",
        "Ummm, ..., not so fast. Let's see how the model performs on the original non-balanced training data and the hold-out testing data."
      ]
    },
    {
      "metadata": {
        "id": "h8xsSUJyTtoI"
      },
      "cell_type": "markdown",
      "source": [
        "### 7.0 Evaluate the Model <a id=\"score\"></a>"
      ]
    },
    {
      "metadata": {
        "id": "ata3MGhfTtoI"
      },
      "cell_type": "markdown",
      "source": [
        "The most confusing element of PM problems is building a realistic model assessment.  Because of timing and the small number of failures, understanding how the model will work once deployed in production is challenging.\n",
        "\n",
        "There are standard metrics for evaluating models like accuracy, AUC, and a confusion matrix.  In the sections below, I will show how, given the transformations we used to build our model and the complexity of the problem, these metrics do not give us a realistic view of model performance when deployed into production.  These standard metrics are helpful but are not sufficient.\n"
      ]
    },
    {
      "metadata": {
        "id": "SZgS6o8qTtoI"
      },
      "cell_type": "markdown",
      "source": [
        "#### 7.1 Evaluate the model using an AUC and accuacy metrics.<a id=\"7.1\"></a>"
      ]
    },
    {
      "metadata": {
        "id": "MrDj0yGKTtoI"
      },
      "cell_type": "markdown",
      "source": [
        "We've already established that the model predicts the balanced training data with 100 percent accuracy. In this section, we will gauge the model's accuracy using unbalanced training and testing data. The first step is to split the original data frame into two—one data frame for testing and a second for training."
      ]
    },
    {
      "metadata": {
        "id": "t5CisM78TtoI"
      },
      "cell_type": "code",
      "source": [
        "\n",
        "df_testing=df_train_test[df_train_test['MODELING_GROUP'] == 'TESTING'].copy()\n",
        "df_training=df_train_test[df_train_test['MODELING_GROUP'] != 'TESTING'].copy()"
      ],
      "execution_count": null,
      "outputs": []
    },
    {
      "metadata": {
        "id": "5VNl1l3UTtoJ"
      },
      "cell_type": "markdown",
      "source": [
        "Now, we will evaluate the unbalanced training data."
      ]
    },
    {
      "metadata": {
        "id": "J8IgnSAHTtoJ",
        "outputId": "b543919d-a614-4299-ec68-ecc168d1a65d"
      },
      "cell_type": "code",
      "source": [
        "\n",
        "\n",
        "df_training['P_FAIL']= xgb0.predict_proba(df_training[features])[:,1];\n",
        "df_training['Y_FAIL'] = np.where(((df_training.P_FAIL <= .50)), 0, 1)\n",
        "#Print model report:\n",
        "print(\"Accuracy : %.4g\" % metrics.accuracy_score(df_training['FAILURE_TARGET'].values, df_training['Y_FAIL']))\n",
        "print(\"AUC Score (Train): %f\" % metrics.roc_auc_score(df_training['FAILURE_TARGET'], df_training['P_FAIL']))"
      ],
      "execution_count": null,
      "outputs": [
        {
          "output_type": "stream",
          "text": "Accuracy : 1\nAUC Score (Train): 1.000000\n",
          "name": "stdout"
        }
      ]
    },
    {
      "metadata": {
        "id": "AxjoRsIMTtoJ"
      },
      "cell_type": "markdown",
      "source": [
        "Yeah Baby! Still perfect!  "
      ]
    },
    {
      "metadata": {
        "id": "Jj8GwTqGTtoJ"
      },
      "cell_type": "markdown",
      "source": [
        "Ok, don't get too excited.  Let's take a look at the hold-out testing data set.  Let's look at the testing data set with a .50 cut-off."
      ]
    },
    {
      "metadata": {
        "id": "PBhRCmY1TtoJ",
        "outputId": "3153073b-8a4c-42c9-c823-256fb6201dcb"
      },
      "cell_type": "code",
      "source": [
        "df_testing['P_FAIL']= xgb0.predict_proba(df_testing[features])[:,1];\n",
        "df_testing['Y_FAIL'] = np.where(((df_testing.P_FAIL <= .50)), 0, 1)\n",
        "#Print model report:\n",
        "print(\"Accuracy : %.4g\" % metrics.accuracy_score(df_testing['FAILURE_TARGET'].values, df_testing['Y_FAIL']))\n",
        "print(\"AUC Score (Train): %f\" % metrics.roc_auc_score(df_testing['FAILURE_TARGET'], df_testing['P_FAIL']))"
      ],
      "execution_count": null,
      "outputs": [
        {
          "output_type": "stream",
          "text": "Accuracy : 0.9537\nAUC Score (Train): 0.530242\n",
          "name": "stdout"
        }
      ]
    },
    {
      "metadata": {
        "id": "aft1SI4hTtoJ"
      },
      "cell_type": "markdown",
      "source": [
        "Before we go any further, let's take a step back and consider what we have done.  Our model validates with an accuracy of .9537.  \n",
        "\n",
        "Is that good or bad?  \n",
        "\n",
        "At this point, I honestly have no idea.  What does this say about how this model will perform in production?  How much will this model improve operations over \"Business as Usual\"?\n",
        "\n",
        "We can not answer the questions above with an accuracy metric.  It is not possible.  To fully grasp how a PM model will perform, you must put it into the context of its deployment.  "
      ]
    },
    {
      "metadata": {
        "id": "J0e1gayLTtoJ"
      },
      "cell_type": "markdown",
      "source": [
        "#### 7.2 Evaluate the model using a simple confusion matrix.<a id=\"7.2\"></a>"
      ]
    },
    {
      "metadata": {
        "id": "hbQ-P23qTtoK"
      },
      "cell_type": "markdown",
      "source": [
        "We've established that the model perfectly fits the training data, so we won't waste time evaluating the training data."
      ]
    },
    {
      "metadata": {
        "id": "Mqw5vHnITtoK"
      },
      "cell_type": "markdown",
      "source": [
        "Let's take a look at the testing data.  First, we will cross-tabulate predicted failure with the original failure variable, 'EQUIPMENT_FAILURE\".  Note this is the initial failure variable.  The one with only 421 values.  The other side of the confusion matrix is the predicted binary variable \"Y_FAIL.\"  Remember, we used a 0.50 cut-off to define this variable."
      ]
    },
    {
      "metadata": {
        "id": "oKGyStRLTtoK",
        "outputId": "026ec3f4-ffcc-48cf-b082-7b36422c0caa"
      },
      "cell_type": "code",
      "source": [
        "\n",
        "print(pd.crosstab(df_testing.Y_FAIL, df_testing.EQUIPMENT_FAILURE, dropna=False))"
      ],
      "execution_count": null,
      "outputs": [
        {
          "output_type": "stream",
          "text": "EQUIPMENT_FAILURE       0    1\nY_FAIL                        \n0                  107793  138\n1                     977   11\n",
          "name": "stdout"
        }
      ]
    },
    {
      "metadata": {
        "id": "RmIzWxOVTtoK"
      },
      "cell_type": "markdown",
      "source": [
        "The 'EQUIPMENT_FAILURE' variable identifies a failure on the day it occurs. Let's say that failure occurs on Friday, and we have failure signals on Monday, Tuesday, Wednesday, and Thursday, but not on Friday. I would argue that the failure on Friday is a True Positive, given that there were four failure signals in the days leading up to the failure. However, the confusion matrix above counts Monday, Tuesday, Wednesday, and Thursday as false positives and Friday as a false negative. This cross-tab alone doesn't give us a realistic view of how the model will perform in production.\n",
        "\n",
        "Now, we will create a confusion matrix using 'FAILURE_TARGET.' This variable is the predicted binary variable where the 28 days leading up to a failure are flagged as failures."
      ]
    },
    {
      "metadata": {
        "id": "_NLY2jq1TtoK",
        "outputId": "a385364c-e310-4845-9e11-09f26989a3d4"
      },
      "cell_type": "code",
      "source": [
        "print(pd.crosstab(df_testing.Y_FAIL, df_testing.FAILURE_TARGET, dropna=False))"
      ],
      "execution_count": null,
      "outputs": [
        {
          "output_type": "stream",
          "text": "FAILURE_TARGET       0     1\nY_FAIL                      \n0               103828  4103\n1                  940    48\n",
          "name": "stdout"
        }
      ]
    },
    {
      "metadata": {
        "id": "U3uemyP9TtoK"
      },
      "cell_type": "markdown",
      "source": [
        "With 'FAILURE_TARGET,' we have 48 True Positives, 4,103 False Negatives, 940 False Positives, and 103,328 True Negatives.  \n",
        "\n",
        "Does this work?  \n",
        "\n",
        "Not really, huh?  Think about it.  \n",
        "\n",
        "Each failure is represented 28 different times.  If a machine fails on Friday the 28th, the previous twenty-seven days of the month are also flagged as a failure.  This clearly won't work, will it?\n",
        "\n",
        "The example above clearly does not reflect what we can expect when we push this model into production.  To get a realistic evaluation of the model, we must have practical definitions of false positives, false negatives, true negatives, and false negatives.     "
      ]
    },
    {
      "metadata": {
        "id": "PCFtjER0TtoL"
      },
      "cell_type": "markdown",
      "source": [
        "#### 7.3 Using Heuristics to Define a False Positive, True Positive, False Negative, and True Negative.<a id=\"7.3\"></a>"
      ]
    },
    {
      "metadata": {
        "id": "Y2T8_Zz2TtoL"
      },
      "cell_type": "markdown",
      "source": [
        "We first need to define a few parameters to evaluate our machine learning model accurately.  I usually fine-tune these parameters with the testing and training data sets, then confirm the accuracy with the validation data set.\n",
        "\n",
        "The first parameter is the Forecast Window.  \n",
        "\n",
        "The Forecast Window is the length of time a failure signal projects into the future.  \n",
        "\n",
        "For example, if there is a failure signal on June 1st, how long is that signal last?  \n",
        "\n",
        "Does it mean the machine will break in the next second, minute, hour, day, or month?\n",
        "\n",
        "Note that the forecast window length depends on the problem's context.  If a machine runs to failure in 10 years, the forecast window will be relatively long, perhaps as long as six or nine months.  If a machine runs to failure in 1 day, the forecast window will be much shorter, maybe an hour or a few minutes.  The length of the forecast window must be helpful to the problem.  For example, a twenty-eight-day forecast window for a machine that runs to failure in thirty days is of little value.  \n",
        "\n",
        "In our current use case, the machine runs to failure in four to six years, so a ninety-day forecast window is reasonable.\n",
        "\n",
        "We also need to define a cut-off value.  In this first example, we will use a cut-off value of .50.  The cut-off value determines if a prediction is a failure or a non-failure.  In the current example, if the probability of failure is less than .5, it is a predicted non-failure.  If the likelihood of failure is greater than .5, it is an expected failure."
      ]
    },
    {
      "metadata": {
        "id": "XnnjooBYTtoL"
      },
      "cell_type": "code",
      "source": [
        "forecast_window=90\n",
        "cutoff=0.50\n"
      ],
      "execution_count": null,
      "outputs": []
    },
    {
      "metadata": {
        "id": "X6DIoM-pTtoL"
      },
      "cell_type": "markdown",
      "source": [
        "Create a probability of failure for the df_train_test data set.  Note this has both the unbalanced training data and the unbalanced testing data.  Once the probability is defined, create a \"Fail/No Fail\" binary variable using the cut-off value."
      ]
    },
    {
      "metadata": {
        "id": "iNVC3eSpTtoL"
      },
      "cell_type": "code",
      "source": [
        "df=df_train_test"
      ],
      "execution_count": null,
      "outputs": []
    },
    {
      "metadata": {
        "id": "5qzDv8UZTtoM"
      },
      "cell_type": "code",
      "source": [
        "df['P_FAIL']= xgb0.predict_proba(df[features])[:,1];\n",
        "df['Y_FAIL'] = np.where(((df.P_FAIL <= cutoff)), 0, 1)"
      ],
      "execution_count": null,
      "outputs": []
    },
    {
      "metadata": {
        "id": "-ro9wa_HTtoM"
      },
      "cell_type": "markdown",
      "source": [
        "To effectively evaluate the model, we must do three things.  One, we need to remove redundant failure signals.  That is, ensure at least 90 days (the forecast window) exist between each failure signal in the data.  Two, we must ensure failure signals from a specific machine align with failures from the same machine.  Three, we must understand the time between signals and failures."
      ]
    },
    {
      "metadata": {
        "id": "eZnOyutBTtoM"
      },
      "cell_type": "markdown",
      "source": [
        "\n",
        "\n",
        "\n"
      ]
    },
    {
      "metadata": {
        "id": "WYF8BM6WTtoM"
      },
      "cell_type": "markdown",
      "source": [
        "Note there are many ways to do what I am doing in the next few steps.  It is straightforward data processing.  I'm not saying this is the best way.  I am saying it works."
      ]
    },
    {
      "metadata": {
        "id": "9C4a-3inTtoM"
      },
      "cell_type": "markdown",
      "source": [
        "##### 7.31 Eliminate redundant failure signals<a id=\"7.31\"></a>"
      ]
    },
    {
      "metadata": {
        "id": "CGFKlbDBTtoM"
      },
      "cell_type": "markdown",
      "source": [
        "Based on context, there can only be one failure every 90 days. If multiple failure signals occur in a ninety-day window, these signals will be aggregated and associated with the first signal.\n",
        "\n",
        "For example, assume you have a signal on Monday, Tuesday, Wednesday, and Thursday. Here, we have a single failure signal measured over four days, not four different signals measured over four different days. The latter situation really doesn’t make sense. The problem on Tuesday, Wednesday and Thursday are not indpendent from the one on Monday. The four are connected. They have to be and even if they are not, you should have checked and repaired the machine after the first signal.\n",
        "\n",
        "Given this, to get an accurate model assessment, we must consolidate the four signals and associate them with the first day in the series of signals (Monday). In other words, Tuesday, Wednesday, and Thursday signals are redundant and subject to removal.\n",
        "Again, a signal of failure is good for 90 days (forecast window), so a signal that occurs inside the 90-day window of an earlier signal is not, by definition, NOT a separate signal of failure.\n",
        "\n",
        "Let’s take a step back and look at this pragmatically. If you get a failure signal today, you will take action and check the machine immediately, right? Isn’t the whole point here? We only have consecutive signals in the historical data because the model does not exist yet. In a real-world situation, successive failure signals should not occur. A signal will prompt the business to check the machine. At that point, the signal becomes either a false positive or a true positive, end of the story.\n"
      ]
    },
    {
      "metadata": {
        "id": "eV44f4eGTtoN"
      },
      "cell_type": "markdown",
      "source": [
        "Sort the data by id and date."
      ]
    },
    {
      "metadata": {
        "id": "U2Lcj9Y7TtoN"
      },
      "cell_type": "code",
      "source": [
        "\n",
        "xx=df\n",
        "xx=xx.sort_values(by=['ID','DATE'], ascending=[True, True])"
      ],
      "execution_count": null,
      "outputs": []
    },
    {
      "metadata": {
        "id": "JaQoiMUvTtoN"
      },
      "cell_type": "markdown",
      "source": [
        "Create a unique list of machines"
      ]
    },
    {
      "metadata": {
        "id": "O1PiVKL2TtoN",
        "outputId": "59136b14-4a8e-4426-a14c-884a04ffa64c"
      },
      "cell_type": "code",
      "source": [
        "\n",
        "aa=xx\n",
        "\n",
        "pd_id=aa.drop_duplicates(subset='ID')\n",
        "pd_id=pd_id[['ID']]\n",
        "pd_id.shape"
      ],
      "execution_count": null,
      "outputs": [
        {
          "output_type": "execute_result",
          "execution_count": 89,
          "data": {
            "text/plain": "(295, 1)"
          },
          "metadata": {}
        }
      ]
    },
    {
      "metadata": {
        "id": "DTah2UR2TtoN"
      },
      "cell_type": "markdown",
      "source": [
        "Label each machine with a sequential number.  We need the id to be sequential for use in a later step."
      ]
    },
    {
      "metadata": {
        "id": "XVeosHUWTtoN",
        "outputId": "5d39dfe0-5954-42dd-e0cb-815fcb594488"
      },
      "cell_type": "code",
      "source": [
        "\n",
        "pd_id=pd_id.reset_index(drop=True)\n",
        "pd_id=pd_id.reset_index(drop=False)\n",
        "pd_id=pd_id.rename(columns={\"index\": \"SCOOBYDOO\"})\n",
        "pd_id['SCOOBYDOO']=pd_id['SCOOBYDOO']+1\n",
        "pd_id.head()"
      ],
      "execution_count": null,
      "outputs": [
        {
          "output_type": "execute_result",
          "execution_count": 90,
          "data": {
            "text/plain": "   SCOOBYDOO      ID\n0          1  100001\n1          2  100002\n2          3  100014\n3          4  100017\n4          5  100018",
            "text/html": "<div>\n<style scoped>\n    .dataframe tbody tr th:only-of-type {\n        vertical-align: middle;\n    }\n\n    .dataframe tbody tr th {\n        vertical-align: top;\n    }\n\n    .dataframe thead th {\n        text-align: right;\n    }\n</style>\n<table border=\"1\" class=\"dataframe\">\n  <thead>\n    <tr style=\"text-align: right;\">\n      <th></th>\n      <th>SCOOBYDOO</th>\n      <th>ID</th>\n    </tr>\n  </thead>\n  <tbody>\n    <tr>\n      <th>0</th>\n      <td>1</td>\n      <td>100001</td>\n    </tr>\n    <tr>\n      <th>1</th>\n      <td>2</td>\n      <td>100002</td>\n    </tr>\n    <tr>\n      <th>2</th>\n      <td>3</td>\n      <td>100014</td>\n    </tr>\n    <tr>\n      <th>3</th>\n      <td>4</td>\n      <td>100017</td>\n    </tr>\n    <tr>\n      <th>4</th>\n      <td>5</td>\n      <td>100018</td>\n    </tr>\n  </tbody>\n</table>\n</div>"
          },
          "metadata": {}
        }
      ]
    },
    {
      "metadata": {
        "id": "xBfOkNzPTtoO"
      },
      "cell_type": "markdown",
      "source": [
        "Grab the max number of machines.  We will use this in a loop in a later step."
      ]
    },
    {
      "metadata": {
        "id": "Tr8pKUqvTtoO",
        "outputId": "3d43c4c2-8e81-421b-b263-f7bcdd487951"
      },
      "cell_type": "code",
      "source": [
        "\n",
        "\n",
        "column = pd_id[\"SCOOBYDOO\"]\n",
        "max_value = column.max()+1\n",
        "max_value"
      ],
      "execution_count": null,
      "outputs": [
        {
          "output_type": "execute_result",
          "execution_count": 91,
          "data": {
            "text/plain": "296"
          },
          "metadata": {}
        }
      ]
    },
    {
      "metadata": {
        "id": "8wCfJ5wITtoO"
      },
      "cell_type": "markdown",
      "source": [
        "Append the sequencial number to the main file.  Now each machine a sequencial id."
      ]
    },
    {
      "metadata": {
        "id": "zVcPmZclTtoO",
        "outputId": "5f841bad-bf88-424c-a07f-225f158e9e54"
      },
      "cell_type": "code",
      "source": [
        "\n",
        "xx=xx.sort_values(by=['ID'], ascending=[True])\n",
        "pd_id=pd_id.sort_values(by=['ID'], ascending=[True])\n",
        "xx =xx.merge(pd_id, on=['ID'], how='inner')\n",
        "xx.head()"
      ],
      "execution_count": null,
      "outputs": [
        {
          "output_type": "execute_result",
          "execution_count": 92,
          "data": {
            "text/plain": "   index      ID       DATE REGION_CLUSTER MAINTENANCE_VENDOR MANUFACTURER  \\\n0      0  100001 2014-12-02              G                  O            Y   \n1      1  100001 2016-03-29              G                  O            Y   \n2      2  100001 2016-03-30              G                  O            Y   \n3      3  100001 2016-03-31              G                  O            Y   \n4      4  100001 2016-04-01              G                  O            Y   \n\n   WELL_GROUP     S15         S17    S13  ...  WG_2  WG_3  WG_4  WG_5  WG_6  \\\n0           1  11.088  145.223448  39.34  ...     0     0     0     0     0   \n1           1  18.960    0.000000  38.87  ...     0     0     0     0     0   \n2           1  29.040    0.000000  37.36  ...     0     0     0     0     0   \n3           1  18.000    0.000000  38.81  ...     0     0     0     0     0   \n4           1  26.160    0.000000  39.47  ...     0     0     0     0     0   \n\n   WG_7  WG_8    P_FAIL  Y_FAIL  SCOOBYDOO  \n0     0     0  0.000067       0          1  \n1     0     0  0.000131       0          1  \n2     0     0  0.000429       0          1  \n3     0     0  0.000127       0          1  \n4     0     0  0.000001       0          1  \n\n[5 rows x 95 columns]",
            "text/html": "<div>\n<style scoped>\n    .dataframe tbody tr th:only-of-type {\n        vertical-align: middle;\n    }\n\n    .dataframe tbody tr th {\n        vertical-align: top;\n    }\n\n    .dataframe thead th {\n        text-align: right;\n    }\n</style>\n<table border=\"1\" class=\"dataframe\">\n  <thead>\n    <tr style=\"text-align: right;\">\n      <th></th>\n      <th>index</th>\n      <th>ID</th>\n      <th>DATE</th>\n      <th>REGION_CLUSTER</th>\n      <th>MAINTENANCE_VENDOR</th>\n      <th>MANUFACTURER</th>\n      <th>WELL_GROUP</th>\n      <th>S15</th>\n      <th>S17</th>\n      <th>S13</th>\n      <th>...</th>\n      <th>WG_2</th>\n      <th>WG_3</th>\n      <th>WG_4</th>\n      <th>WG_5</th>\n      <th>WG_6</th>\n      <th>WG_7</th>\n      <th>WG_8</th>\n      <th>P_FAIL</th>\n      <th>Y_FAIL</th>\n      <th>SCOOBYDOO</th>\n    </tr>\n  </thead>\n  <tbody>\n    <tr>\n      <th>0</th>\n      <td>0</td>\n      <td>100001</td>\n      <td>2014-12-02</td>\n      <td>G</td>\n      <td>O</td>\n      <td>Y</td>\n      <td>1</td>\n      <td>11.088</td>\n      <td>145.223448</td>\n      <td>39.34</td>\n      <td>...</td>\n      <td>0</td>\n      <td>0</td>\n      <td>0</td>\n      <td>0</td>\n      <td>0</td>\n      <td>0</td>\n      <td>0</td>\n      <td>0.000067</td>\n      <td>0</td>\n      <td>1</td>\n    </tr>\n    <tr>\n      <th>1</th>\n      <td>1</td>\n      <td>100001</td>\n      <td>2016-03-29</td>\n      <td>G</td>\n      <td>O</td>\n      <td>Y</td>\n      <td>1</td>\n      <td>18.960</td>\n      <td>0.000000</td>\n      <td>38.87</td>\n      <td>...</td>\n      <td>0</td>\n      <td>0</td>\n      <td>0</td>\n      <td>0</td>\n      <td>0</td>\n      <td>0</td>\n      <td>0</td>\n      <td>0.000131</td>\n      <td>0</td>\n      <td>1</td>\n    </tr>\n    <tr>\n      <th>2</th>\n      <td>2</td>\n      <td>100001</td>\n      <td>2016-03-30</td>\n      <td>G</td>\n      <td>O</td>\n      <td>Y</td>\n      <td>1</td>\n      <td>29.040</td>\n      <td>0.000000</td>\n      <td>37.36</td>\n      <td>...</td>\n      <td>0</td>\n      <td>0</td>\n      <td>0</td>\n      <td>0</td>\n      <td>0</td>\n      <td>0</td>\n      <td>0</td>\n      <td>0.000429</td>\n      <td>0</td>\n      <td>1</td>\n    </tr>\n    <tr>\n      <th>3</th>\n      <td>3</td>\n      <td>100001</td>\n      <td>2016-03-31</td>\n      <td>G</td>\n      <td>O</td>\n      <td>Y</td>\n      <td>1</td>\n      <td>18.000</td>\n      <td>0.000000</td>\n      <td>38.81</td>\n      <td>...</td>\n      <td>0</td>\n      <td>0</td>\n      <td>0</td>\n      <td>0</td>\n      <td>0</td>\n      <td>0</td>\n      <td>0</td>\n      <td>0.000127</td>\n      <td>0</td>\n      <td>1</td>\n    </tr>\n    <tr>\n      <th>4</th>\n      <td>4</td>\n      <td>100001</td>\n      <td>2016-04-01</td>\n      <td>G</td>\n      <td>O</td>\n      <td>Y</td>\n      <td>1</td>\n      <td>26.160</td>\n      <td>0.000000</td>\n      <td>39.47</td>\n      <td>...</td>\n      <td>0</td>\n      <td>0</td>\n      <td>0</td>\n      <td>0</td>\n      <td>0</td>\n      <td>0</td>\n      <td>0</td>\n      <td>0.000001</td>\n      <td>0</td>\n      <td>1</td>\n    </tr>\n  </tbody>\n</table>\n<p>5 rows × 95 columns</p>\n</div>"
          },
          "metadata": {}
        }
      ]
    },
    {
      "metadata": {
        "id": "F4Nf3t1mTtoO"
      },
      "cell_type": "markdown",
      "source": [
        "Sort the data by ID and Date and reset the index of the dataframe so it matches the sort."
      ]
    },
    {
      "metadata": {
        "id": "RsVo3cgUTtoO"
      },
      "cell_type": "code",
      "source": [
        "\n",
        "xx=xx.sort_values(by=['ID','DATE'], ascending=[True,True])\n",
        "\n",
        "#reset index\n",
        "xx=xx.reset_index(drop=True)"
      ],
      "execution_count": null,
      "outputs": []
    },
    {
      "metadata": {
        "id": "JAJk3NZvTtoO"
      },
      "cell_type": "markdown",
      "source": [
        "The next few steps assign a new failure indicator that incorporates the forecast window.  Note that this calculation occurs at a machine level.  Doing this keeps a signal from one machine affecting another machine.\n",
        "\n",
        " This loop takes a while to run.\n",
        "\n",
        " The output is a new failure indicator called \"Y_FAILZ.\"  This failure signal incorporates the forecast window and will not occur more than once every 90 days."
      ]
    },
    {
      "metadata": {
        "id": "UCdJ6qRNTtoO"
      },
      "cell_type": "code",
      "source": [
        "#create a null dataframe for the next step\n",
        "df_fred=xx\n",
        "df_fred['Y_FAIL_sumxx']=0\n",
        "df_fred=df_fred[df_fred['SCOOBYDOO'] == max_value+1]\n",
        "df_fred.shape\n",
        "\n",
        "\n",
        "\n",
        "#sum the number of signals occuring over the last 90 days for each machine individually\n",
        "\n",
        "for x in range(max_value):\n",
        "        dffx=xx[xx['SCOOBYDOO'] ==x]\n",
        "        dff=dffx.copy()\n",
        "        dff['Y_FAIL_sumxx'] =(dff['Y_FAIL'].rolling(min_periods=1, window=(forecast_window)).sum())\n",
        "        df_fred= pd.concat([df_fred,dff])\n",
        "\n",
        "xx=df_fred\n",
        "\n",
        "# if a signal has occured in the last 90 days, the signal is 0.\n",
        "xx['Y_FAILZ']=np.where((xx.Y_FAIL_sumxx>1), 0, xx.Y_FAIL)\n",
        "\n",
        "\n",
        "df=xx"
      ],
      "execution_count": null,
      "outputs": []
    },
    {
      "metadata": {
        "id": "d-3lLqqeTtoP"
      },
      "cell_type": "markdown",
      "source": [
        "##### 7.32 Identify the machine id for each signal.  Identify the date of the failure signal.<a id=\"7.32\"></a>"
      ]
    },
    {
      "metadata": {
        "id": "4NHV8FE3TtoP"
      },
      "cell_type": "markdown",
      "source": [
        "To determine if a signal is accurate, we need to collect two more pieces of information.  \n",
        "\n",
        "The first is the date of the failure signal. We'll need to compare the failure date to the failure signal date to ensure that the signal is within the forecast window.\n",
        "\n",
        "Remember that we are working with a panel data set. We have multiple machines measured over time. We have to align the signals and failures by machine. In other words, we don't want a signal from machine 1 associated with a failure in machine 2. The signals from machine 1 are meant to predict failures in machine 1, not machine 2.   If we have a machine id for each failure signal, we can ensure that it aligns with the machine id of the failure.\n"
      ]
    },
    {
      "metadata": {
        "id": "4ZrPMvLvTtoP"
      },
      "cell_type": "markdown",
      "source": [
        "Sort the data by id and date."
      ]
    },
    {
      "metadata": {
        "id": "nGa8qNBhTtoP"
      },
      "cell_type": "code",
      "source": [
        "\n",
        "xx=df\n",
        "xx=xx.sort_values(by=['ID','DATE'], ascending=[True, True])\n"
      ],
      "execution_count": null,
      "outputs": []
    },
    {
      "metadata": {
        "id": "ne5841HbTtoP"
      },
      "cell_type": "markdown",
      "source": [
        "Create signal id with the cumsum function."
      ]
    },
    {
      "metadata": {
        "id": "qtnhw9KeTtoP"
      },
      "cell_type": "code",
      "source": [
        "\n",
        "xx['SIGNAL_ID'] = xx['Y_FAILZ'].cumsum()\n",
        "\n"
      ],
      "execution_count": null,
      "outputs": []
    },
    {
      "metadata": {
        "id": "vx1YCmHeTtoQ"
      },
      "cell_type": "markdown",
      "source": [
        "Now we will pull the records with a signal into a different data frame.\n",
        "\n",
        "Here we will create a new field that identifies the date of each signal (SIGNAL_DATE).\n",
        "\n",
        "Also, we will identify the machine ID Associated with each signal (ID_OF_SIGNAL)\n",
        "\n"
      ]
    },
    {
      "metadata": {
        "id": "35jKEnw0TtoQ"
      },
      "cell_type": "code",
      "source": [
        "df_signals=xx[xx['Y_FAILZ'] == 1]\n",
        "df_signal_date=df_signals[['SIGNAL_ID','DATE','ID']]\n",
        "df_signal_date=df_signal_date.rename(index=str, columns={\"DATE\": \"SIGNAL_DATE\"})\n",
        "df_signal_date=df_signal_date.rename(index=str, columns={\"ID\": \"ID_OF_SIGNAL\"})"
      ],
      "execution_count": null,
      "outputs": []
    },
    {
      "metadata": {
        "id": "BzvaRoghTtoQ"
      },
      "cell_type": "markdown",
      "source": [
        "We have a total of 282 signals.  Now each has a unique id and an data associated with the signal."
      ]
    },
    {
      "metadata": {
        "scrolled": true,
        "id": "aJitXH_pTtoQ",
        "outputId": "757257f1-5333-4819-a9a2-e0d1c52ccd78"
      },
      "cell_type": "code",
      "source": [
        "df_signal_date.shape"
      ],
      "execution_count": null,
      "outputs": [
        {
          "output_type": "execute_result",
          "execution_count": 98,
          "data": {
            "text/plain": "(282, 3)"
          },
          "metadata": {}
        }
      ]
    },
    {
      "metadata": {
        "id": "HQCz2OXnTtoQ"
      },
      "cell_type": "markdown",
      "source": [
        "Append ID_OF_SIGNAL and SIGNAL_DATE to the original Dataframe base on the SIGNAL_ID.  "
      ]
    },
    {
      "metadata": {
        "id": "hgCarBMPTtoR"
      },
      "cell_type": "code",
      "source": [
        "xx =xx.merge(df_signal_date, on=['SIGNAL_ID'], how='outer')"
      ],
      "execution_count": null,
      "outputs": []
    },
    {
      "metadata": {
        "id": "SE7eB8pyTtoR"
      },
      "cell_type": "code",
      "source": [
        "df=xx.copy()"
      ],
      "execution_count": null,
      "outputs": []
    },
    {
      "metadata": {
        "id": "8PtDG5PKTtoR"
      },
      "cell_type": "markdown",
      "source": [
        "Simplify by only keeping the fields we need going forward."
      ]
    },
    {
      "metadata": {
        "id": "drF1mOsNTtoR"
      },
      "cell_type": "code",
      "source": [
        "df=df[['DATE', 'ID', 'EQUIPMENT_FAILURE', 'FAILURE_TARGET','FAILURE_DATE',\n",
        "       'P_FAIL', 'Y_FAILZ','SIGNAL_ID',\n",
        "       'SIGNAL_DATE','ID_OF_SIGNAL','MODELING_GROUP']]"
      ],
      "execution_count": null,
      "outputs": []
    },
    {
      "metadata": {
        "id": "GaKP4SXqTtoR"
      },
      "cell_type": "markdown",
      "source": [
        " Create a field called \"Warning\" that indicates the time from signal to failure."
      ]
    },
    {
      "metadata": {
        "id": "LS13ONU3TtoR"
      },
      "cell_type": "code",
      "source": [
        "\n",
        "df['C'] = df['FAILURE_DATE'] - df['SIGNAL_DATE'].copy()\n",
        "df['WARNING'] = df['C'] / np.timedelta64(1, 'D').copy()\n",
        "\n"
      ],
      "execution_count": null,
      "outputs": []
    },
    {
      "metadata": {
        "id": "47uWTafwTtoR",
        "outputId": "aee33236-22f2-4a7e-ba50-fc36f48a1051"
      },
      "cell_type": "code",
      "source": [
        "df.head()"
      ],
      "execution_count": null,
      "outputs": [
        {
          "output_type": "execute_result",
          "execution_count": 103,
          "data": {
            "text/plain": "        DATE      ID  EQUIPMENT_FAILURE  FAILURE_TARGET FAILURE_DATE  \\\n0 2014-12-02  100001                  0               0   2015-04-24   \n1 2014-12-03  100001                  0               0   2015-04-24   \n2 2014-12-04  100001                  0               0   2015-04-24   \n3 2014-12-05  100001                  0               0   2015-04-24   \n4 2014-12-06  100001                  0               0   2015-04-24   \n\n         P_FAIL  Y_FAILZ  SIGNAL_ID SIGNAL_DATE  ID_OF_SIGNAL MODELING_GROUP  \\\n0  6.742268e-05        0          0         NaT           NaN        TESTING   \n1  1.272625e-07        0          0         NaT           NaN        TESTING   \n2  3.604172e-06        0          0         NaT           NaN        TESTING   \n3  6.413501e-04        0          0         NaT           NaN        TESTING   \n4  4.513898e-05        0          0         NaT           NaN        TESTING   \n\n    C  WARNING  \n0 NaT      NaN  \n1 NaT      NaN  \n2 NaT      NaN  \n3 NaT      NaN  \n4 NaT      NaN  ",
            "text/html": "<div>\n<style scoped>\n    .dataframe tbody tr th:only-of-type {\n        vertical-align: middle;\n    }\n\n    .dataframe tbody tr th {\n        vertical-align: top;\n    }\n\n    .dataframe thead th {\n        text-align: right;\n    }\n</style>\n<table border=\"1\" class=\"dataframe\">\n  <thead>\n    <tr style=\"text-align: right;\">\n      <th></th>\n      <th>DATE</th>\n      <th>ID</th>\n      <th>EQUIPMENT_FAILURE</th>\n      <th>FAILURE_TARGET</th>\n      <th>FAILURE_DATE</th>\n      <th>P_FAIL</th>\n      <th>Y_FAILZ</th>\n      <th>SIGNAL_ID</th>\n      <th>SIGNAL_DATE</th>\n      <th>ID_OF_SIGNAL</th>\n      <th>MODELING_GROUP</th>\n      <th>C</th>\n      <th>WARNING</th>\n    </tr>\n  </thead>\n  <tbody>\n    <tr>\n      <th>0</th>\n      <td>2014-12-02</td>\n      <td>100001</td>\n      <td>0</td>\n      <td>0</td>\n      <td>2015-04-24</td>\n      <td>6.742268e-05</td>\n      <td>0</td>\n      <td>0</td>\n      <td>NaT</td>\n      <td>NaN</td>\n      <td>TESTING</td>\n      <td>NaT</td>\n      <td>NaN</td>\n    </tr>\n    <tr>\n      <th>1</th>\n      <td>2014-12-03</td>\n      <td>100001</td>\n      <td>0</td>\n      <td>0</td>\n      <td>2015-04-24</td>\n      <td>1.272625e-07</td>\n      <td>0</td>\n      <td>0</td>\n      <td>NaT</td>\n      <td>NaN</td>\n      <td>TESTING</td>\n      <td>NaT</td>\n      <td>NaN</td>\n    </tr>\n    <tr>\n      <th>2</th>\n      <td>2014-12-04</td>\n      <td>100001</td>\n      <td>0</td>\n      <td>0</td>\n      <td>2015-04-24</td>\n      <td>3.604172e-06</td>\n      <td>0</td>\n      <td>0</td>\n      <td>NaT</td>\n      <td>NaN</td>\n      <td>TESTING</td>\n      <td>NaT</td>\n      <td>NaN</td>\n    </tr>\n    <tr>\n      <th>3</th>\n      <td>2014-12-05</td>\n      <td>100001</td>\n      <td>0</td>\n      <td>0</td>\n      <td>2015-04-24</td>\n      <td>6.413501e-04</td>\n      <td>0</td>\n      <td>0</td>\n      <td>NaT</td>\n      <td>NaN</td>\n      <td>TESTING</td>\n      <td>NaT</td>\n      <td>NaN</td>\n    </tr>\n    <tr>\n      <th>4</th>\n      <td>2014-12-06</td>\n      <td>100001</td>\n      <td>0</td>\n      <td>0</td>\n      <td>2015-04-24</td>\n      <td>4.513898e-05</td>\n      <td>0</td>\n      <td>0</td>\n      <td>NaT</td>\n      <td>NaN</td>\n      <td>TESTING</td>\n      <td>NaT</td>\n      <td>NaN</td>\n    </tr>\n  </tbody>\n</table>\n</div>"
          },
          "metadata": {}
        }
      ]
    },
    {
      "metadata": {
        "id": "Pu--_B7XTtoS"
      },
      "cell_type": "markdown",
      "source": [
        "##### 7.33 Create a realistic confusion matrix.<a id=\"7.33\"></a>"
      ]
    },
    {
      "metadata": {
        "id": "uNheicJITtoS"
      },
      "cell_type": "markdown",
      "source": [
        "Finally, we have enough information to define a false positive, false negative, true positive, and true negative.\n",
        "\n",
        "\n",
        "\n",
        "A true positive occurs if and only if the machine fails, and there was a signal within the last 90 days. Also, we have to ensure that the signal id belongs to the machine (ID). Note that this prohibits a signal from another machine from being applied to the machine in question.\n",
        "\n",
        "A false negative occurs if and only if the machine fails, and it is not a true positive.\n",
        "\n",
        "A False Positive occurs if there is a failure signal, and a failure does not happen in the next 90 days. Also, if a signal occurs after the failure, this is a false positive. We also must ensure that the signal ID belongs to the machine ID.\n",
        "\n",
        "If an observation is not a False Positive, a False Negative, or a True Positive, it is a True Negative.\n",
        "\n"
      ]
    },
    {
      "metadata": {
        "id": "CTM7X28oTtoS"
      },
      "cell_type": "code",
      "source": [
        "# define a true positive\n",
        "df['TRUE_POSITIVE'] = np.where(((df.EQUIPMENT_FAILURE == 1) & (df.WARNING<=forecast_window) &(df.WARNING>=0) & (df.ID_OF_SIGNAL==df.ID)), 1, 0)"
      ],
      "execution_count": null,
      "outputs": []
    },
    {
      "metadata": {
        "id": "7CAsRDCvTtoS"
      },
      "cell_type": "code",
      "source": [
        "# define a false negative\n",
        "df['FALSE_NEGATIVE'] = np.where((df.TRUE_POSITIVE==0) & (df.EQUIPMENT_FAILURE==1), 1, 0)"
      ],
      "execution_count": null,
      "outputs": []
    },
    {
      "metadata": {
        "id": "eQdYMZDtTtoS"
      },
      "cell_type": "code",
      "source": [
        "# define a false positive\n",
        "df['BAD_S']=np.where((df.WARNING<0) | (df.WARNING>=forecast_window | df.WARNING.isnull().values.any()), 1, 0)\n",
        "#note that the\n",
        "\n",
        "df['FALSE_POSITIVE'] = np.where(((df.Y_FAILZ == 1) & (df.BAD_S==1) & (df.ID_OF_SIGNAL==xx.ID)), 1, 0)"
      ],
      "execution_count": null,
      "outputs": []
    },
    {
      "metadata": {
        "id": "ISkB6AGyTtoS"
      },
      "cell_type": "code",
      "source": [
        "df['bootie']=1"
      ],
      "execution_count": null,
      "outputs": []
    },
    {
      "metadata": {
        "id": "HEsCRV0DTtoS"
      },
      "cell_type": "code",
      "source": [
        "df['CATEGORY']=np.where((df.FALSE_POSITIVE==1),'FALSE_POSITIVE',\n",
        "                                      (np.where((df.FALSE_NEGATIVE==1),'FALSE_NEGATIVE',\n",
        "                                                (np.where((df.TRUE_POSITIVE==1),'TRUE_POSITIVE','TRUE_NEGATIVE')))))"
      ],
      "execution_count": null,
      "outputs": []
    },
    {
      "metadata": {
        "id": "ngz1jmgqTtoT"
      },
      "cell_type": "markdown",
      "source": [
        "Before we evaluate the confusion matrix, let's look at one machine to confirm our logic is correct."
      ]
    },
    {
      "metadata": {
        "id": "qM8FvIuOTtoT",
        "outputId": "20e186c9-bb84-4341-dd2f-3c5b2d16f984"
      },
      "cell_type": "code",
      "source": [
        "pd.options.display.max_rows = 1000\n",
        "dd=df[df['ID']==100002]\n",
        "dd.head(1000)"
      ],
      "execution_count": null,
      "outputs": [
        {
          "output_type": "execute_result",
          "execution_count": 109,
          "data": {
            "text/plain": "           DATE      ID  EQUIPMENT_FAILURE  FAILURE_TARGET FAILURE_DATE  \\\n731  2014-12-02  100002                  0               0   2015-10-27   \n732  2014-12-03  100002                  0               0   2015-10-27   \n733  2014-12-04  100002                  0               0   2015-10-27   \n734  2014-12-05  100002                  0               0   2015-10-27   \n735  2014-12-06  100002                  0               0   2015-10-27   \n736  2014-12-07  100002                  0               0   2015-10-27   \n737  2014-12-08  100002                  0               0   2015-10-27   \n738  2014-12-09  100002                  0               0   2015-10-27   \n739  2014-12-10  100002                  0               0   2015-10-27   \n740  2014-12-11  100002                  0               0   2015-10-27   \n741  2014-12-12  100002                  0               0   2015-10-27   \n742  2014-12-13  100002                  0               0   2015-10-27   \n743  2014-12-14  100002                  0               0   2015-10-27   \n744  2014-12-15  100002                  0               0   2015-10-27   \n745  2014-12-16  100002                  0               0   2015-10-27   \n746  2014-12-17  100002                  0               0   2015-10-27   \n747  2014-12-18  100002                  0               0   2015-10-27   \n748  2014-12-19  100002                  0               0   2015-10-27   \n749  2014-12-20  100002                  0               0   2015-10-27   \n750  2014-12-21  100002                  0               0   2015-10-27   \n751  2014-12-22  100002                  0               0   2015-10-27   \n752  2014-12-23  100002                  0               0   2015-10-27   \n753  2014-12-24  100002                  0               0   2015-10-27   \n754  2014-12-25  100002                  0               0   2015-10-27   \n755  2014-12-26  100002                  0               0   2015-10-27   \n756  2014-12-27  100002                  0               0   2015-10-27   \n757  2014-12-28  100002                  0               0   2015-10-27   \n758  2014-12-29  100002                  0               0   2015-10-27   \n759  2014-12-30  100002                  0               0   2015-10-27   \n760  2014-12-31  100002                  0               0   2015-10-27   \n761  2015-01-01  100002                  0               0   2015-10-27   \n762  2015-01-02  100002                  0               0   2015-10-27   \n763  2015-01-03  100002                  0               0   2015-10-27   \n764  2015-01-04  100002                  0               0   2015-10-27   \n765  2015-01-05  100002                  0               0   2015-10-27   \n766  2015-01-06  100002                  0               0   2015-10-27   \n767  2015-01-07  100002                  0               0   2015-10-27   \n768  2015-01-08  100002                  0               0   2015-10-27   \n769  2015-01-09  100002                  0               0   2015-10-27   \n770  2015-01-10  100002                  0               0   2015-10-27   \n771  2015-01-11  100002                  0               0   2015-10-27   \n772  2015-01-12  100002                  0               0   2015-10-27   \n773  2015-01-13  100002                  0               0   2015-10-27   \n774  2015-01-14  100002                  0               0   2015-10-27   \n775  2015-01-15  100002                  0               0   2015-10-27   \n776  2015-01-16  100002                  0               0   2015-10-27   \n777  2015-01-17  100002                  0               0   2015-10-27   \n778  2015-01-18  100002                  0               0   2015-10-27   \n779  2015-01-19  100002                  0               0   2015-10-27   \n780  2015-01-20  100002                  0               0   2015-10-27   \n781  2015-01-21  100002                  0               0   2015-10-27   \n782  2015-01-22  100002                  0               0   2015-10-27   \n783  2015-01-23  100002                  0               0   2015-10-27   \n784  2015-01-24  100002                  0               0   2015-10-27   \n785  2015-01-25  100002                  0               0   2015-10-27   \n786  2015-01-26  100002                  0               0   2015-10-27   \n787  2015-01-27  100002                  0               0   2015-10-27   \n788  2015-01-28  100002                  0               0   2015-10-27   \n789  2015-01-29  100002                  0               0   2015-10-27   \n790  2015-01-30  100002                  0               0   2015-10-27   \n791  2015-01-31  100002                  0               0   2015-10-27   \n792  2015-02-01  100002                  0               0   2015-10-27   \n793  2015-02-02  100002                  0               0   2015-10-27   \n794  2015-02-03  100002                  0               0   2015-10-27   \n795  2015-02-04  100002                  0               0   2015-10-27   \n796  2015-02-05  100002                  0               0   2015-10-27   \n797  2015-02-06  100002                  0               0   2015-10-27   \n798  2015-02-07  100002                  0               0   2015-10-27   \n799  2015-02-08  100002                  0               0   2015-10-27   \n800  2015-02-09  100002                  0               0   2015-10-27   \n801  2015-02-10  100002                  0               0   2015-10-27   \n802  2015-02-11  100002                  0               0   2015-10-27   \n803  2015-02-12  100002                  0               0   2015-10-27   \n804  2015-02-13  100002                  0               0   2015-10-27   \n805  2015-02-14  100002                  0               0   2015-10-27   \n806  2015-02-15  100002                  0               0   2015-10-27   \n807  2015-02-16  100002                  0               0   2015-10-27   \n808  2015-02-17  100002                  0               0   2015-10-27   \n809  2015-02-18  100002                  0               0   2015-10-27   \n810  2015-02-19  100002                  0               0   2015-10-27   \n811  2015-02-20  100002                  0               0   2015-10-27   \n812  2015-02-21  100002                  0               0   2015-10-27   \n813  2015-02-22  100002                  0               0   2015-10-27   \n814  2015-02-23  100002                  0               0   2015-10-27   \n815  2015-02-24  100002                  0               0   2015-10-27   \n816  2015-02-25  100002                  0               0   2015-10-27   \n817  2015-02-26  100002                  0               0   2015-10-27   \n818  2015-02-27  100002                  0               0   2015-10-27   \n819  2015-02-28  100002                  0               0   2015-10-27   \n820  2015-03-01  100002                  0               0   2015-10-27   \n821  2015-03-02  100002                  0               0   2015-10-27   \n822  2015-03-03  100002                  0               0   2015-10-27   \n823  2015-03-04  100002                  0               0   2015-10-27   \n824  2015-03-05  100002                  0               0   2015-10-27   \n825  2015-03-06  100002                  0               0   2015-10-27   \n826  2015-03-07  100002                  0               0   2015-10-27   \n827  2015-03-08  100002                  0               0   2015-10-27   \n828  2015-03-09  100002                  0               0   2015-10-27   \n829  2015-03-10  100002                  0               0   2015-10-27   \n830  2015-03-11  100002                  0               0   2015-10-27   \n831  2015-03-12  100002                  0               0   2015-10-27   \n832  2015-03-13  100002                  0               0   2015-10-27   \n833  2015-03-14  100002                  0               0   2015-10-27   \n834  2015-03-15  100002                  0               0   2015-10-27   \n835  2015-03-16  100002                  0               0   2015-10-27   \n836  2015-03-17  100002                  0               0   2015-10-27   \n837  2015-03-18  100002                  0               0   2015-10-27   \n838  2015-03-19  100002                  0               0   2015-10-27   \n839  2015-03-20  100002                  0               0   2015-10-27   \n840  2015-03-21  100002                  0               0   2015-10-27   \n841  2015-03-22  100002                  0               0   2015-10-27   \n842  2015-03-23  100002                  0               0   2015-10-27   \n843  2015-03-24  100002                  0               0   2015-10-27   \n844  2015-03-25  100002                  0               0   2015-10-27   \n845  2015-03-26  100002                  0               0   2015-10-27   \n846  2015-03-27  100002                  0               0   2015-10-27   \n847  2015-03-28  100002                  0               0   2015-10-27   \n848  2015-03-29  100002                  0               0   2015-10-27   \n849  2015-03-30  100002                  0               0   2015-10-27   \n850  2015-03-31  100002                  0               0   2015-10-27   \n851  2015-04-01  100002                  0               0   2015-10-27   \n852  2015-04-02  100002                  0               0   2015-10-27   \n853  2015-04-03  100002                  0               0   2015-10-27   \n854  2015-04-04  100002                  0               0   2015-10-27   \n855  2015-04-05  100002                  0               0   2015-10-27   \n856  2015-04-06  100002                  0               0   2015-10-27   \n857  2015-04-07  100002                  0               0   2015-10-27   \n858  2015-04-08  100002                  0               0   2015-10-27   \n859  2015-04-09  100002                  0               0   2015-10-27   \n860  2015-04-10  100002                  0               0   2015-10-27   \n861  2015-04-11  100002                  0               0   2015-10-27   \n862  2015-04-12  100002                  0               0   2015-10-27   \n863  2015-04-13  100002                  0               0   2015-10-27   \n864  2015-04-14  100002                  0               0   2015-10-27   \n865  2015-04-15  100002                  0               0   2015-10-27   \n866  2015-04-16  100002                  0               0   2015-10-27   \n867  2015-04-17  100002                  0               0   2015-10-27   \n868  2015-04-18  100002                  0               0   2015-10-27   \n869  2015-04-19  100002                  0               0   2015-10-27   \n870  2015-04-20  100002                  0               0   2015-10-27   \n871  2015-04-21  100002                  0               0   2015-10-27   \n872  2015-04-22  100002                  0               0   2015-10-27   \n873  2015-04-23  100002                  0               0   2015-10-27   \n874  2015-04-24  100002                  0               0   2015-10-27   \n875  2015-04-25  100002                  0               0   2015-10-27   \n876  2015-04-26  100002                  0               0   2015-10-27   \n877  2015-04-27  100002                  0               0   2015-10-27   \n878  2015-04-28  100002                  0               0   2015-10-27   \n879  2015-04-29  100002                  0               0   2015-10-27   \n880  2015-04-30  100002                  0               0   2015-10-27   \n881  2015-05-01  100002                  0               0   2015-10-27   \n882  2015-05-02  100002                  0               0   2015-10-27   \n883  2015-05-03  100002                  0               0   2015-10-27   \n884  2015-05-04  100002                  0               0   2015-10-27   \n885  2015-05-05  100002                  0               0   2015-10-27   \n886  2015-05-06  100002                  0               0   2015-10-27   \n887  2015-05-07  100002                  0               0   2015-10-27   \n888  2015-05-08  100002                  0               0   2015-10-27   \n889  2015-05-09  100002                  0               0   2015-10-27   \n890  2015-05-10  100002                  0               0   2015-10-27   \n891  2015-05-11  100002                  0               0   2015-10-27   \n892  2015-05-12  100002                  0               0   2015-10-27   \n893  2015-05-13  100002                  0               0   2015-10-27   \n894  2015-05-14  100002                  0               0   2015-10-27   \n895  2015-05-15  100002                  0               0   2015-10-27   \n896  2015-05-16  100002                  0               0   2015-10-27   \n897  2015-05-17  100002                  0               0   2015-10-27   \n898  2015-05-18  100002                  0               0   2015-10-27   \n899  2015-05-19  100002                  0               0   2015-10-27   \n900  2015-05-20  100002                  0               0   2015-10-27   \n901  2015-05-21  100002                  0               0   2015-10-27   \n902  2015-05-22  100002                  0               0   2015-10-27   \n903  2015-05-23  100002                  0               0   2015-10-27   \n904  2015-05-24  100002                  0               0   2015-10-27   \n905  2015-05-25  100002                  0               0   2015-10-27   \n906  2015-05-26  100002                  0               0   2015-10-27   \n907  2015-05-27  100002                  0               0   2015-10-27   \n908  2015-05-28  100002                  0               0   2015-10-27   \n909  2015-05-29  100002                  0               0   2015-10-27   \n910  2015-05-30  100002                  0               0   2015-10-27   \n911  2015-05-31  100002                  0               0   2015-10-27   \n912  2015-06-01  100002                  0               0   2015-10-27   \n913  2015-06-02  100002                  0               0   2015-10-27   \n914  2015-06-03  100002                  0               0   2015-10-27   \n915  2015-06-04  100002                  0               0   2015-10-27   \n916  2015-06-05  100002                  0               0   2015-10-27   \n917  2015-06-06  100002                  0               0   2015-10-27   \n918  2015-06-07  100002                  0               0   2015-10-27   \n919  2015-06-08  100002                  0               0   2015-10-27   \n920  2015-06-09  100002                  0               0   2015-10-27   \n921  2015-06-10  100002                  0               0   2015-10-27   \n922  2015-06-11  100002                  0               0   2015-10-27   \n923  2015-06-12  100002                  0               0   2015-10-27   \n924  2015-06-13  100002                  0               0   2015-10-27   \n925  2015-06-14  100002                  0               0   2015-10-27   \n926  2015-06-15  100002                  0               0   2015-10-27   \n927  2015-06-16  100002                  0               0   2015-10-27   \n928  2015-06-17  100002                  0               0   2015-10-27   \n929  2015-06-18  100002                  0               0   2015-10-27   \n930  2015-06-19  100002                  0               0   2015-10-27   \n931  2015-06-20  100002                  0               0   2015-10-27   \n932  2015-06-21  100002                  0               0   2015-10-27   \n933  2015-06-22  100002                  0               0   2015-10-27   \n934  2015-06-23  100002                  0               0   2015-10-27   \n935  2015-06-24  100002                  0               0   2015-10-27   \n936  2015-06-25  100002                  0               0   2015-10-27   \n937  2015-06-26  100002                  0               0   2015-10-27   \n938  2015-06-27  100002                  0               0   2015-10-27   \n939  2015-06-28  100002                  0               0   2015-10-27   \n940  2015-06-29  100002                  0               0   2015-10-27   \n941  2015-06-30  100002                  0               0   2015-10-27   \n942  2015-07-01  100002                  0               0   2015-10-27   \n943  2015-07-02  100002                  0               0   2015-10-27   \n944  2015-07-03  100002                  0               0   2015-10-27   \n945  2015-07-04  100002                  0               0   2015-10-27   \n946  2015-07-05  100002                  0               0   2015-10-27   \n947  2015-07-06  100002                  0               0   2015-10-27   \n948  2015-07-07  100002                  0               0   2015-10-27   \n949  2015-07-08  100002                  0               0   2015-10-27   \n950  2015-07-09  100002                  0               0   2015-10-27   \n951  2015-07-10  100002                  0               0   2015-10-27   \n952  2015-07-11  100002                  0               0   2015-10-27   \n953  2015-07-12  100002                  0               0   2015-10-27   \n954  2015-07-13  100002                  0               0   2015-10-27   \n955  2015-07-14  100002                  0               0   2015-10-27   \n956  2015-07-15  100002                  0               0   2015-10-27   \n957  2015-07-16  100002                  0               0   2015-10-27   \n958  2015-07-17  100002                  0               0   2015-10-27   \n959  2015-07-18  100002                  0               0   2015-10-27   \n960  2015-07-19  100002                  0               0   2015-10-27   \n961  2015-07-20  100002                  0               0   2015-10-27   \n962  2015-07-21  100002                  0               0   2015-10-27   \n963  2015-07-22  100002                  0               0   2015-10-27   \n964  2015-07-23  100002                  0               0   2015-10-27   \n965  2015-07-24  100002                  0               0   2015-10-27   \n966  2015-07-25  100002                  0               0   2015-10-27   \n967  2015-07-26  100002                  0               0   2015-10-27   \n968  2015-07-27  100002                  0               0   2015-10-27   \n969  2015-07-28  100002                  0               0   2015-10-27   \n970  2015-07-29  100002                  0               0   2015-10-27   \n971  2015-07-30  100002                  0               0   2015-10-27   \n972  2015-07-31  100002                  0               0   2015-10-27   \n973  2015-08-01  100002                  0               0   2015-10-27   \n974  2015-08-02  100002                  0               0   2015-10-27   \n975  2015-08-03  100002                  0               0   2015-10-27   \n976  2015-08-04  100002                  0               0   2015-10-27   \n977  2015-08-05  100002                  0               0   2015-10-27   \n978  2015-08-06  100002                  0               0   2015-10-27   \n979  2015-08-07  100002                  0               0   2015-10-27   \n980  2015-08-08  100002                  0               0   2015-10-27   \n981  2015-08-09  100002                  0               0   2015-10-27   \n982  2015-08-10  100002                  0               0   2015-10-27   \n983  2015-08-11  100002                  0               0   2015-10-27   \n984  2015-08-12  100002                  0               0   2015-10-27   \n985  2015-08-13  100002                  0               0   2015-10-27   \n986  2015-08-14  100002                  0               0   2015-10-27   \n987  2015-08-15  100002                  0               0   2015-10-27   \n988  2015-08-16  100002                  0               0   2015-10-27   \n989  2015-08-17  100002                  0               0   2015-10-27   \n990  2015-08-18  100002                  0               0   2015-10-27   \n991  2015-08-19  100002                  0               0   2015-10-27   \n992  2015-08-20  100002                  0               0   2015-10-27   \n993  2015-08-21  100002                  0               0   2015-10-27   \n994  2015-08-22  100002                  0               0   2015-10-27   \n995  2015-08-23  100002                  0               0   2015-10-27   \n996  2015-08-24  100002                  0               0   2015-10-27   \n997  2015-08-25  100002                  0               0   2015-10-27   \n998  2015-08-26  100002                  0               0   2015-10-27   \n999  2015-08-27  100002                  0               0   2015-10-27   \n1000 2015-08-28  100002                  0               0   2015-10-27   \n1001 2015-08-29  100002                  0               0   2015-10-27   \n1002 2015-08-30  100002                  0               0   2015-10-27   \n1003 2015-08-31  100002                  0               0   2015-10-27   \n1004 2015-09-01  100002                  0               0   2015-10-27   \n1005 2015-09-02  100002                  0               0   2015-10-27   \n1006 2015-09-03  100002                  0               0   2015-10-27   \n1007 2015-09-04  100002                  0               0   2015-10-27   \n1008 2015-09-05  100002                  0               0   2015-10-27   \n1009 2015-09-06  100002                  0               0   2015-10-27   \n1010 2015-09-07  100002                  0               0   2015-10-27   \n1011 2015-09-08  100002                  0               0   2015-10-27   \n1012 2015-09-09  100002                  0               0   2015-10-27   \n1013 2015-09-10  100002                  0               0   2015-10-27   \n1014 2015-09-11  100002                  0               0   2015-10-27   \n1015 2015-09-12  100002                  0               0   2015-10-27   \n1016 2015-09-13  100002                  0               0   2015-10-27   \n1017 2015-09-14  100002                  0               0   2015-10-27   \n1018 2015-09-15  100002                  0               0   2015-10-27   \n1019 2015-09-16  100002                  0               0   2015-10-27   \n1020 2015-09-17  100002                  0               0   2015-10-27   \n1021 2015-09-18  100002                  0               0   2015-10-27   \n1022 2015-09-19  100002                  0               0   2015-10-27   \n1023 2015-09-20  100002                  0               0   2015-10-27   \n1024 2015-09-21  100002                  0               0   2015-10-27   \n1025 2015-09-22  100002                  0               0   2015-10-27   \n1026 2015-09-23  100002                  0               0   2015-10-27   \n1027 2015-09-24  100002                  0               0   2015-10-27   \n1028 2015-09-25  100002                  0               0   2015-10-27   \n1029 2015-09-26  100002                  0               0   2015-10-27   \n1030 2015-09-27  100002                  0               0   2015-10-27   \n1031 2015-09-28  100002                  0               0   2015-10-27   \n1032 2015-09-29  100002                  0               0   2015-10-27   \n1033 2015-09-30  100002                  0               1   2015-10-27   \n1034 2015-10-01  100002                  0               1   2015-10-27   \n1035 2015-10-02  100002                  0               1   2015-10-27   \n1036 2015-10-03  100002                  0               1   2015-10-27   \n1037 2015-10-04  100002                  0               1   2015-10-27   \n1038 2015-10-05  100002                  0               1   2015-10-27   \n1039 2015-10-06  100002                  0               1   2015-10-27   \n1040 2015-10-07  100002                  0               1   2015-10-27   \n1041 2015-10-08  100002                  0               1   2015-10-27   \n1042 2015-10-09  100002                  0               1   2015-10-27   \n1043 2015-10-10  100002                  0               1   2015-10-27   \n1044 2015-10-11  100002                  0               1   2015-10-27   \n1045 2015-10-12  100002                  0               1   2015-10-27   \n1046 2015-10-13  100002                  0               1   2015-10-27   \n1047 2015-10-14  100002                  0               1   2015-10-27   \n1048 2015-10-15  100002                  0               1   2015-10-27   \n1049 2015-10-16  100002                  0               1   2015-10-27   \n1050 2015-10-17  100002                  0               1   2015-10-27   \n1051 2015-10-18  100002                  0               1   2015-10-27   \n1052 2015-10-19  100002                  0               1   2015-10-27   \n1053 2015-10-20  100002                  0               1   2015-10-27   \n1054 2015-10-21  100002                  0               1   2015-10-27   \n1055 2015-10-22  100002                  0               1   2015-10-27   \n1056 2015-10-23  100002                  0               1   2015-10-27   \n1057 2015-10-24  100002                  0               1   2015-10-27   \n1058 2015-10-25  100002                  0               1   2015-10-27   \n1059 2015-10-26  100002                  0               1   2015-10-27   \n1060 2015-10-27  100002                  1               1   2015-10-27   \n1061 2015-10-28  100002                  0               0   2015-10-27   \n1062 2015-10-29  100002                  0               0   2015-10-27   \n1063 2015-10-30  100002                  0               0   2015-10-27   \n1064 2015-10-31  100002                  0               0   2015-10-27   \n1065 2015-11-01  100002                  0               0   2015-10-27   \n1066 2015-11-02  100002                  0               0   2015-10-27   \n1067 2015-11-03  100002                  0               0   2015-10-27   \n1068 2015-11-04  100002                  0               0   2015-10-27   \n1069 2015-11-05  100002                  0               0   2015-10-27   \n1070 2015-11-06  100002                  0               0   2015-10-27   \n1071 2015-11-07  100002                  0               0   2015-10-27   \n1072 2015-11-08  100002                  0               0   2015-10-27   \n1073 2015-11-09  100002                  0               0   2015-10-27   \n1074 2015-11-10  100002                  0               0   2015-10-27   \n1075 2015-11-11  100002                  0               0   2015-10-27   \n1076 2015-11-12  100002                  0               0   2015-10-27   \n1077 2015-11-13  100002                  0               0   2015-10-27   \n1078 2015-11-14  100002                  0               0   2015-10-27   \n1079 2015-11-15  100002                  0               0   2015-10-27   \n1080 2015-11-16  100002                  0               0   2015-10-27   \n1081 2015-11-17  100002                  0               0   2015-10-27   \n1082 2015-11-18  100002                  0               0   2015-10-27   \n1083 2015-11-19  100002                  0               0   2015-10-27   \n1084 2015-11-20  100002                  0               0   2015-10-27   \n1085 2015-11-21  100002                  0               0   2015-10-27   \n1086 2015-11-22  100002                  0               0   2015-10-27   \n1087 2015-11-23  100002                  0               0   2015-10-27   \n1088 2015-11-24  100002                  0               0   2015-10-27   \n1089 2015-11-25  100002                  0               0   2015-10-27   \n1090 2015-11-26  100002                  0               0   2015-10-27   \n1091 2015-11-27  100002                  0               0   2015-10-27   \n1092 2015-11-28  100002                  0               0   2015-10-27   \n1093 2015-11-29  100002                  0               0   2015-10-27   \n1094 2015-11-30  100002                  0               0   2015-10-27   \n1095 2015-12-01  100002                  0               0   2015-10-27   \n1096 2015-12-02  100002                  0               0   2015-10-27   \n1097 2015-12-03  100002                  0               0   2015-10-27   \n1098 2015-12-04  100002                  0               0   2015-10-27   \n1099 2015-12-05  100002                  0               0   2015-10-27   \n1100 2015-12-06  100002                  0               0   2015-10-27   \n1101 2015-12-07  100002                  0               0   2015-10-27   \n1102 2015-12-08  100002                  0               0   2015-10-27   \n1103 2015-12-09  100002                  0               0   2015-10-27   \n1104 2015-12-10  100002                  0               0   2015-10-27   \n1105 2015-12-11  100002                  0               0   2015-10-27   \n1106 2015-12-12  100002                  0               0   2015-10-27   \n1107 2015-12-13  100002                  0               0   2015-10-27   \n1108 2015-12-14  100002                  0               0   2015-10-27   \n1109 2015-12-15  100002                  0               0   2015-10-27   \n1110 2015-12-16  100002                  0               0   2015-10-27   \n1111 2015-12-17  100002                  0               0   2015-10-27   \n1112 2015-12-18  100002                  0               0   2015-10-27   \n1113 2015-12-19  100002                  0               0   2015-10-27   \n1114 2015-12-20  100002                  0               0   2015-10-27   \n1115 2015-12-21  100002                  0               0   2015-10-27   \n1116 2015-12-22  100002                  0               0   2015-10-27   \n1117 2015-12-23  100002                  0               0   2015-10-27   \n1118 2015-12-24  100002                  0               0   2015-10-27   \n1119 2015-12-25  100002                  0               0   2015-10-27   \n1120 2015-12-26  100002                  0               0   2015-10-27   \n1121 2015-12-27  100002                  0               0   2015-10-27   \n1122 2015-12-28  100002                  0               0   2015-10-27   \n1123 2015-12-29  100002                  0               0   2015-10-27   \n1124 2015-12-30  100002                  0               0   2015-10-27   \n1125 2015-12-31  100002                  0               0   2015-10-27   \n1126 2016-01-01  100002                  0               0   2015-10-27   \n1127 2016-01-02  100002                  0               0   2015-10-27   \n1128 2016-01-03  100002                  0               0   2015-10-27   \n1129 2016-01-04  100002                  0               0   2015-10-27   \n1130 2016-01-05  100002                  0               0   2015-10-27   \n1131 2016-01-06  100002                  0               0   2015-10-27   \n1132 2016-01-07  100002                  0               0   2015-10-27   \n1133 2016-01-08  100002                  0               0   2015-10-27   \n1134 2016-01-09  100002                  0               0   2015-10-27   \n1135 2016-01-10  100002                  0               0   2015-10-27   \n1136 2016-01-11  100002                  0               0   2015-10-27   \n1137 2016-01-12  100002                  0               0   2015-10-27   \n1138 2016-01-13  100002                  0               0   2015-10-27   \n1139 2016-01-14  100002                  0               0   2015-10-27   \n1140 2016-01-15  100002                  0               0   2015-10-27   \n1141 2016-01-16  100002                  0               0   2015-10-27   \n1142 2016-01-17  100002                  0               0   2015-10-27   \n1143 2016-01-18  100002                  0               0   2015-10-27   \n1144 2016-01-19  100002                  0               0   2015-10-27   \n1145 2016-01-20  100002                  0               0   2015-10-27   \n1146 2016-01-21  100002                  0               0   2015-10-27   \n1147 2016-01-22  100002                  0               0   2015-10-27   \n1148 2016-01-23  100002                  0               0   2015-10-27   \n1149 2016-01-24  100002                  0               0   2015-10-27   \n1150 2016-01-25  100002                  0               0   2015-10-27   \n1151 2016-01-26  100002                  0               0   2015-10-27   \n1152 2016-01-27  100002                  0               0   2015-10-27   \n1153 2016-01-28  100002                  0               0   2015-10-27   \n1154 2016-01-29  100002                  0               0   2015-10-27   \n1155 2016-01-30  100002                  0               0   2015-10-27   \n1156 2016-01-31  100002                  0               0   2015-10-27   \n1157 2016-02-01  100002                  0               0   2015-10-27   \n1158 2016-02-02  100002                  0               0   2015-10-27   \n1159 2016-02-03  100002                  0               0   2015-10-27   \n1160 2016-02-04  100002                  0               0   2015-10-27   \n1161 2016-02-05  100002                  0               0   2015-10-27   \n1162 2016-02-06  100002                  0               0   2015-10-27   \n1163 2016-02-07  100002                  0               0   2015-10-27   \n1164 2016-02-08  100002                  0               0   2015-10-27   \n1165 2016-02-09  100002                  0               0   2015-10-27   \n1166 2016-02-10  100002                  0               0   2015-10-27   \n1167 2016-02-11  100002                  0               0   2015-10-27   \n1168 2016-02-12  100002                  0               0   2015-10-27   \n1169 2016-02-13  100002                  0               0   2015-10-27   \n1170 2016-02-14  100002                  0               0   2015-10-27   \n1171 2016-02-15  100002                  0               0   2015-10-27   \n1172 2016-02-16  100002                  0               0   2015-10-27   \n1173 2016-02-17  100002                  0               0   2015-10-27   \n1174 2016-02-18  100002                  0               0   2015-10-27   \n1175 2016-02-19  100002                  0               0   2015-10-27   \n1176 2016-02-20  100002                  0               0   2015-10-27   \n1177 2016-02-21  100002                  0               0   2015-10-27   \n1178 2016-02-22  100002                  0               0   2015-10-27   \n1179 2016-02-23  100002                  0               0   2015-10-27   \n1180 2016-02-24  100002                  0               0   2015-10-27   \n1181 2016-02-25  100002                  0               0   2015-10-27   \n1182 2016-02-26  100002                  0               0   2015-10-27   \n1183 2016-02-27  100002                  0               0   2015-10-27   \n1184 2016-02-28  100002                  0               0   2015-10-27   \n1185 2016-02-29  100002                  0               0   2015-10-27   \n1186 2016-03-01  100002                  0               0   2015-10-27   \n1187 2016-03-02  100002                  0               0   2015-10-27   \n1188 2016-03-03  100002                  0               0   2015-10-27   \n1189 2016-03-04  100002                  0               0   2015-10-27   \n1190 2016-03-05  100002                  0               0   2015-10-27   \n1191 2016-03-06  100002                  0               0   2015-10-27   \n1192 2016-03-07  100002                  0               0   2015-10-27   \n1193 2016-03-08  100002                  0               0   2015-10-27   \n1194 2016-03-09  100002                  0               0   2015-10-27   \n1195 2016-03-10  100002                  0               0   2015-10-27   \n1196 2016-03-11  100002                  0               0   2015-10-27   \n1197 2016-03-12  100002                  0               0   2015-10-27   \n1198 2016-03-13  100002                  0               0   2015-10-27   \n1199 2016-03-14  100002                  0               0   2015-10-27   \n1200 2016-03-15  100002                  0               0   2015-10-27   \n1201 2016-03-16  100002                  0               0   2015-10-27   \n1202 2016-03-17  100002                  0               0   2015-10-27   \n1203 2016-03-18  100002                  0               0   2015-10-27   \n1204 2016-03-19  100002                  0               0   2015-10-27   \n1205 2016-03-20  100002                  0               0   2015-10-27   \n1206 2016-03-21  100002                  0               0   2015-10-27   \n1207 2016-03-22  100002                  0               0   2015-10-27   \n1208 2016-03-23  100002                  0               0   2015-10-27   \n1209 2016-03-24  100002                  0               0   2015-10-27   \n1210 2016-03-25  100002                  0               0   2015-10-27   \n1211 2016-03-26  100002                  0               0   2015-10-27   \n1212 2016-03-27  100002                  0               0   2015-10-27   \n1213 2016-03-28  100002                  0               0   2015-10-27   \n1214 2016-03-29  100002                  0               0   2015-10-27   \n1215 2016-03-30  100002                  0               0   2015-10-27   \n1216 2016-03-31  100002                  0               0   2015-10-27   \n1217 2016-04-01  100002                  0               0   2015-10-27   \n1218 2016-04-02  100002                  0               0   2015-10-27   \n1219 2016-04-03  100002                  0               0   2015-10-27   \n1220 2016-04-04  100002                  0               0   2015-10-27   \n1221 2016-04-05  100002                  0               0   2015-10-27   \n1222 2016-04-06  100002                  0               0   2015-10-27   \n1223 2016-04-07  100002                  0               0   2015-10-27   \n1224 2016-04-08  100002                  0               0   2015-10-27   \n1225 2016-04-09  100002                  0               0   2015-10-27   \n1226 2016-04-10  100002                  0               0   2015-10-27   \n1227 2016-04-11  100002                  0               0   2015-10-27   \n1228 2016-04-12  100002                  0               0   2015-10-27   \n1229 2016-04-13  100002                  0               0   2015-10-27   \n1230 2016-04-14  100002                  0               0   2015-10-27   \n1231 2016-04-15  100002                  0               0   2015-10-27   \n1232 2016-04-16  100002                  0               0   2015-10-27   \n1233 2016-04-17  100002                  0               0   2015-10-27   \n1234 2016-04-18  100002                  0               0   2015-10-27   \n1235 2016-04-19  100002                  0               0   2015-10-27   \n1236 2016-04-20  100002                  0               0   2015-10-27   \n1237 2016-04-21  100002                  0               0   2015-10-27   \n1238 2016-04-22  100002                  0               0   2015-10-27   \n1239 2016-04-23  100002                  0               0   2015-10-27   \n1240 2016-04-24  100002                  0               0   2015-10-27   \n1241 2016-04-25  100002                  0               0   2015-10-27   \n1242 2016-04-26  100002                  0               0   2015-10-27   \n1243 2016-04-27  100002                  0               0   2015-10-27   \n1244 2016-04-28  100002                  0               0   2015-10-27   \n1245 2016-04-29  100002                  0               0   2015-10-27   \n1246 2016-04-30  100002                  0               0   2015-10-27   \n1247 2016-05-01  100002                  0               0   2015-10-27   \n1248 2016-05-02  100002                  0               0   2015-10-27   \n1249 2016-05-03  100002                  0               0   2015-10-27   \n1250 2016-05-04  100002                  0               0   2015-10-27   \n1251 2016-05-05  100002                  0               0   2015-10-27   \n1252 2016-05-06  100002                  0               0   2015-10-27   \n1253 2016-05-07  100002                  0               0   2015-10-27   \n1254 2016-05-08  100002                  0               0   2015-10-27   \n1255 2016-05-09  100002                  0               0   2015-10-27   \n1256 2016-05-10  100002                  0               0   2015-10-27   \n1257 2016-05-11  100002                  0               0   2015-10-27   \n1258 2016-05-12  100002                  0               0   2015-10-27   \n1259 2016-05-13  100002                  0               0   2015-10-27   \n1260 2016-05-14  100002                  0               0   2015-10-27   \n1261 2016-05-15  100002                  0               0   2015-10-27   \n1262 2016-05-16  100002                  0               0   2015-10-27   \n1263 2016-05-17  100002                  0               0   2015-10-27   \n1264 2016-05-18  100002                  0               0   2015-10-27   \n1265 2016-05-19  100002                  0               0   2015-10-27   \n1266 2016-05-20  100002                  0               0   2015-10-27   \n1267 2016-05-21  100002                  0               0   2015-10-27   \n1268 2016-05-22  100002                  0               0   2015-10-27   \n1269 2016-05-23  100002                  0               0   2015-10-27   \n1270 2016-05-24  100002                  0               0   2015-10-27   \n1271 2016-05-25  100002                  0               0   2015-10-27   \n1272 2016-05-26  100002                  0               0   2015-10-27   \n1273 2016-05-27  100002                  0               0   2015-10-27   \n1274 2016-05-28  100002                  0               0   2015-10-27   \n1275 2016-05-29  100002                  0               0   2015-10-27   \n1276 2016-05-30  100002                  0               0   2015-10-27   \n1277 2016-05-31  100002                  0               0   2015-10-27   \n1278 2016-06-01  100002                  0               0   2015-10-27   \n1279 2016-06-02  100002                  0               0   2015-10-27   \n1280 2016-06-03  100002                  0               0   2015-10-27   \n1281 2016-06-04  100002                  0               0   2015-10-27   \n1282 2016-06-05  100002                  0               0   2015-10-27   \n1283 2016-06-06  100002                  0               0   2015-10-27   \n1284 2016-06-07  100002                  0               0   2015-10-27   \n1285 2016-06-08  100002                  0               0   2015-10-27   \n1286 2016-06-09  100002                  0               0   2015-10-27   \n1287 2016-06-10  100002                  0               0   2015-10-27   \n1288 2016-06-11  100002                  0               0   2015-10-27   \n1289 2016-06-12  100002                  0               0   2015-10-27   \n1290 2016-06-13  100002                  0               0   2015-10-27   \n1291 2016-06-14  100002                  0               0   2015-10-27   \n1292 2016-06-15  100002                  0               0   2015-10-27   \n1293 2016-06-16  100002                  0               0   2015-10-27   \n1294 2016-06-17  100002                  0               0   2015-10-27   \n1295 2016-06-18  100002                  0               0   2015-10-27   \n1296 2016-06-19  100002                  0               0   2015-10-27   \n1297 2016-06-20  100002                  0               0   2015-10-27   \n1298 2016-06-21  100002                  0               0   2015-10-27   \n1299 2016-06-22  100002                  0               0   2015-10-27   \n1300 2016-06-23  100002                  0               0   2015-10-27   \n1301 2016-06-24  100002                  0               0   2015-10-27   \n1302 2016-06-25  100002                  0               0   2015-10-27   \n1303 2016-06-26  100002                  0               0   2015-10-27   \n1304 2016-06-27  100002                  0               0   2015-10-27   \n1305 2016-06-28  100002                  0               0   2015-10-27   \n1306 2016-06-29  100002                  0               0   2015-10-27   \n1307 2016-06-30  100002                  0               0   2015-10-27   \n1308 2016-07-01  100002                  0               0   2015-10-27   \n1309 2016-07-02  100002                  0               0   2015-10-27   \n1310 2016-07-03  100002                  0               0   2015-10-27   \n1311 2016-07-04  100002                  0               0   2015-10-27   \n1312 2016-07-05  100002                  0               0   2015-10-27   \n1313 2016-07-06  100002                  0               0   2015-10-27   \n1314 2016-07-07  100002                  0               0   2015-10-27   \n1315 2016-07-08  100002                  0               0   2015-10-27   \n1316 2016-07-09  100002                  0               0   2015-10-27   \n1317 2016-07-10  100002                  0               0   2015-10-27   \n1318 2016-07-11  100002                  0               0   2015-10-27   \n1319 2016-07-12  100002                  0               0   2015-10-27   \n1320 2016-07-13  100002                  0               0   2015-10-27   \n1321 2016-07-14  100002                  0               0   2015-10-27   \n1322 2016-07-15  100002                  0               0   2015-10-27   \n1323 2016-07-16  100002                  0               0   2015-10-27   \n1324 2016-07-17  100002                  0               0   2015-10-27   \n1325 2016-07-18  100002                  0               0   2015-10-27   \n1326 2016-07-19  100002                  0               0   2015-10-27   \n1327 2016-07-20  100002                  0               0   2015-10-27   \n1328 2016-07-21  100002                  0               0   2015-10-27   \n1329 2016-07-22  100002                  0               0   2015-10-27   \n1330 2016-07-23  100002                  0               0   2015-10-27   \n1331 2016-07-24  100002                  0               0   2015-10-27   \n1332 2016-07-25  100002                  0               0   2015-10-27   \n1333 2016-07-26  100002                  0               0   2015-10-27   \n1334 2016-07-27  100002                  0               0   2015-10-27   \n1335 2016-07-28  100002                  0               0   2015-10-27   \n1336 2016-07-29  100002                  0               0   2015-10-27   \n1337 2016-07-30  100002                  0               0   2015-10-27   \n1338 2016-07-31  100002                  0               0   2015-10-27   \n1339 2016-08-01  100002                  0               0   2015-10-27   \n1340 2016-08-02  100002                  0               0   2015-10-27   \n1341 2016-08-03  100002                  0               0   2015-10-27   \n1342 2016-08-04  100002                  0               0   2015-10-27   \n1343 2016-08-05  100002                  0               0   2015-10-27   \n1344 2016-08-06  100002                  0               0   2015-10-27   \n1345 2016-08-07  100002                  0               0   2015-10-27   \n1346 2016-08-08  100002                  0               0   2015-10-27   \n1347 2016-08-09  100002                  0               0   2015-10-27   \n1348 2016-08-10  100002                  0               0   2015-10-27   \n1349 2016-08-11  100002                  0               0   2015-10-27   \n1350 2016-08-12  100002                  0               0   2015-10-27   \n1351 2016-08-13  100002                  0               0   2015-10-27   \n1352 2016-08-14  100002                  0               0   2015-10-27   \n1353 2016-08-15  100002                  0               0   2015-10-27   \n1354 2016-08-16  100002                  0               0   2015-10-27   \n1355 2016-08-17  100002                  0               0   2015-10-27   \n1356 2016-08-18  100002                  0               0   2015-10-27   \n1357 2016-08-19  100002                  0               0   2015-10-27   \n1358 2016-08-20  100002                  0               0   2015-10-27   \n1359 2016-08-21  100002                  0               0   2015-10-27   \n1360 2016-08-22  100002                  0               0   2015-10-27   \n1361 2016-08-23  100002                  0               0   2015-10-27   \n1362 2016-08-24  100002                  0               0   2015-10-27   \n1363 2016-08-25  100002                  0               0   2015-10-27   \n1364 2016-08-26  100002                  0               0   2015-10-27   \n1365 2016-08-27  100002                  0               0   2015-10-27   \n1366 2016-08-28  100002                  0               0   2015-10-27   \n1367 2016-08-29  100002                  0               0   2015-10-27   \n1368 2016-08-30  100002                  0               0   2015-10-27   \n1369 2016-08-31  100002                  0               0   2015-10-27   \n1370 2016-09-01  100002                  0               0   2015-10-27   \n1371 2016-09-02  100002                  0               0   2015-10-27   \n1372 2016-09-03  100002                  0               0   2015-10-27   \n1373 2016-09-04  100002                  0               0   2015-10-27   \n1374 2016-09-05  100002                  0               0   2015-10-27   \n1375 2016-09-06  100002                  0               0   2015-10-27   \n1376 2016-09-07  100002                  0               0   2015-10-27   \n1377 2016-09-08  100002                  0               0   2015-10-27   \n1378 2016-09-09  100002                  0               0   2015-10-27   \n1379 2016-09-10  100002                  0               0   2015-10-27   \n1380 2016-09-11  100002                  0               0   2015-10-27   \n1381 2016-09-12  100002                  0               0   2015-10-27   \n1382 2016-09-13  100002                  0               0   2015-10-27   \n1383 2016-09-14  100002                  0               0   2015-10-27   \n1384 2016-09-15  100002                  0               0   2015-10-27   \n1385 2016-09-16  100002                  0               0   2015-10-27   \n1386 2016-09-17  100002                  0               0   2015-10-27   \n1387 2016-09-18  100002                  0               0   2015-10-27   \n1388 2016-09-19  100002                  0               0   2015-10-27   \n1389 2016-09-20  100002                  0               0   2015-10-27   \n1390 2016-09-21  100002                  0               0   2015-10-27   \n1391 2016-09-22  100002                  0               0   2015-10-27   \n1392 2016-09-23  100002                  0               0   2015-10-27   \n1393 2016-09-24  100002                  0               0   2015-10-27   \n1394 2016-09-25  100002                  0               0   2015-10-27   \n1395 2016-09-26  100002                  0               0   2015-10-27   \n1396 2016-09-27  100002                  0               0   2015-10-27   \n1397 2016-09-28  100002                  0               0   2015-10-27   \n1398 2016-09-29  100002                  0               0   2015-10-27   \n1399 2016-09-30  100002                  0               0   2015-10-27   \n1400 2016-10-01  100002                  0               0   2015-10-27   \n1401 2016-10-02  100002                  0               0   2015-10-27   \n1402 2016-10-03  100002                  0               0   2015-10-27   \n1403 2016-10-04  100002                  0               0   2015-10-27   \n1404 2016-10-05  100002                  0               0   2015-10-27   \n1405 2016-10-06  100002                  0               0   2015-10-27   \n1406 2016-10-07  100002                  0               0   2015-10-27   \n1407 2016-10-08  100002                  0               0   2015-10-27   \n1408 2016-10-09  100002                  0               0   2015-10-27   \n1409 2016-10-10  100002                  0               0   2015-10-27   \n1410 2016-10-11  100002                  0               0   2015-10-27   \n1411 2016-10-12  100002                  0               0   2015-10-27   \n1412 2016-10-13  100002                  0               0   2015-10-27   \n1413 2016-10-14  100002                  0               0   2015-10-27   \n1414 2016-10-15  100002                  0               0   2015-10-27   \n1415 2016-10-16  100002                  0               0   2015-10-27   \n1416 2016-10-17  100002                  0               0   2015-10-27   \n1417 2016-10-18  100002                  0               0   2015-10-27   \n1418 2016-10-19  100002                  0               0   2015-10-27   \n1419 2016-10-20  100002                  0               0   2015-10-27   \n1420 2016-10-21  100002                  0               0   2015-10-27   \n1421 2016-10-22  100002                  0               0   2015-10-27   \n1422 2016-10-23  100002                  0               0   2015-10-27   \n1423 2016-10-24  100002                  0               0   2015-10-27   \n1424 2016-10-25  100002                  0               0   2015-10-27   \n1425 2016-10-26  100002                  0               0   2015-10-27   \n1426 2016-10-27  100002                  0               0   2015-10-27   \n1427 2016-10-28  100002                  0               0   2015-10-27   \n1428 2016-10-29  100002                  0               0   2015-10-27   \n1429 2016-10-30  100002                  0               0   2015-10-27   \n1430 2016-10-31  100002                  0               0   2015-10-27   \n1431 2016-11-01  100002                  0               0   2015-10-27   \n1432 2016-11-02  100002                  0               0   2015-10-27   \n1433 2016-11-03  100002                  0               0   2015-10-27   \n1434 2016-11-04  100002                  0               0   2015-10-27   \n1435 2016-11-05  100002                  0               0   2015-10-27   \n1436 2016-11-06  100002                  0               0   2015-10-27   \n1437 2016-11-07  100002                  0               0   2015-10-27   \n1438 2016-11-08  100002                  0               0   2015-10-27   \n1439 2016-11-09  100002                  0               0   2015-10-27   \n1440 2016-11-10  100002                  0               0   2015-10-27   \n1441 2016-11-11  100002                  0               0   2015-10-27   \n1442 2016-11-12  100002                  0               0   2015-10-27   \n1443 2016-11-13  100002                  0               0   2015-10-27   \n1444 2016-11-14  100002                  0               0   2015-10-27   \n1445 2016-11-15  100002                  0               0   2015-10-27   \n1446 2016-11-16  100002                  0               0   2015-10-27   \n1447 2016-11-17  100002                  0               0   2015-10-27   \n1448 2016-11-18  100002                  0               0   2015-10-27   \n1449 2016-11-19  100002                  0               0   2015-10-27   \n1450 2016-11-20  100002                  0               0   2015-10-27   \n1451 2016-11-21  100002                  0               0   2015-10-27   \n1452 2016-11-22  100002                  0               0   2015-10-27   \n1453 2016-11-23  100002                  0               0   2015-10-27   \n1454 2016-11-24  100002                  0               0   2015-10-27   \n1455 2016-11-25  100002                  0               0   2015-10-27   \n1456 2016-11-26  100002                  0               0   2015-10-27   \n1457 2016-11-27  100002                  0               0   2015-10-27   \n1458 2016-11-28  100002                  0               0   2015-10-27   \n1459 2016-11-29  100002                  0               0   2015-10-27   \n1460 2016-11-30  100002                  0               0   2015-10-27   \n1461 2016-12-01  100002                  0               0   2015-10-27   \n\n            P_FAIL  Y_FAILZ  SIGNAL_ID SIGNAL_DATE  ID_OF_SIGNAL  \\\n731   2.163792e-07        0          0         NaT           NaN   \n732   9.729876e-07        0          0         NaT           NaN   \n733   3.035230e-06        0          0         NaT           NaN   \n734   1.146297e-05        0          0         NaT           NaN   \n735   3.133712e-06        0          0         NaT           NaN   \n736   3.506304e-06        0          0         NaT           NaN   \n737   5.355337e-07        0          0         NaT           NaN   \n738   4.773395e-06        0          0         NaT           NaN   \n739   1.429524e-07        0          0         NaT           NaN   \n740   1.671091e-06        0          0         NaT           NaN   \n741   1.410572e-06        0          0         NaT           NaN   \n742   9.790153e-07        0          0         NaT           NaN   \n743   5.092905e-07        0          0         NaT           NaN   \n744   5.339375e-07        0          0         NaT           NaN   \n745   2.485238e-05        0          0         NaT           NaN   \n746   2.306670e-05        0          0         NaT           NaN   \n747   2.770239e-05        0          0         NaT           NaN   \n748   6.060831e-06        0          0         NaT           NaN   \n749   1.752984e-04        0          0         NaT           NaN   \n750   7.082959e-07        0          0         NaT           NaN   \n751   1.357255e-06        0          0         NaT           NaN   \n752   5.034621e-05        0          0         NaT           NaN   \n753   2.377817e-05        0          0         NaT           NaN   \n754   2.237799e-06        0          0         NaT           NaN   \n755   4.487335e-06        0          0         NaT           NaN   \n756   2.665266e-07        0          0         NaT           NaN   \n757   5.204911e-05        0          0         NaT           NaN   \n758   8.745220e-06        0          0         NaT           NaN   \n759   4.019078e-05        0          0         NaT           NaN   \n760   6.157466e-06        0          0         NaT           NaN   \n761   5.059583e-06        0          0         NaT           NaN   \n762   8.021963e-06        0          0         NaT           NaN   \n763   2.250381e-05        0          0         NaT           NaN   \n764   6.694411e-05        0          0         NaT           NaN   \n765   7.261483e-06        0          0         NaT           NaN   \n766   3.454513e-05        0          0         NaT           NaN   \n767   9.065575e-05        0          0         NaT           NaN   \n768   5.605075e-05        0          0         NaT           NaN   \n769   1.366539e-06        0          0         NaT           NaN   \n770   2.413449e-05        0          0         NaT           NaN   \n771   3.500930e-05        0          0         NaT           NaN   \n772   1.463862e-04        0          0         NaT           NaN   \n773   2.747298e-05        0          0         NaT           NaN   \n774   1.548595e-03        0          0         NaT           NaN   \n775   1.428635e-04        0          0         NaT           NaN   \n776   1.903213e-04        0          0         NaT           NaN   \n777   4.738719e-04        0          0         NaT           NaN   \n778   9.116487e-04        0          0         NaT           NaN   \n779   1.194306e-05        0          0         NaT           NaN   \n780   8.562970e-05        0          0         NaT           NaN   \n781   1.962981e-06        0          0         NaT           NaN   \n782   4.070701e-07        0          0         NaT           NaN   \n783   1.546380e-08        0          0         NaT           NaN   \n784   8.149642e-09        0          0         NaT           NaN   \n785   6.806126e-09        0          0         NaT           NaN   \n786   3.947185e-06        0          0         NaT           NaN   \n787   2.508293e-06        0          0         NaT           NaN   \n788   3.250209e-07        0          0         NaT           NaN   \n789   1.479704e-06        0          0         NaT           NaN   \n790   1.075925e-05        0          0         NaT           NaN   \n791   1.607336e-05        0          0         NaT           NaN   \n792   1.918182e-05        0          0         NaT           NaN   \n793   1.705946e-06        0          0         NaT           NaN   \n794   7.613422e-06        0          0         NaT           NaN   \n795   1.389780e-06        0          0         NaT           NaN   \n796   2.251188e-06        0          0         NaT           NaN   \n797   2.894600e-07        0          0         NaT           NaN   \n798   1.670360e-05        0          0         NaT           NaN   \n799   1.168630e-06        0          0         NaT           NaN   \n800   6.816248e-07        0          0         NaT           NaN   \n801   1.585891e-06        0          0         NaT           NaN   \n802   4.911433e-06        0          0         NaT           NaN   \n803   4.230093e-06        0          0         NaT           NaN   \n804   2.511299e-06        0          0         NaT           NaN   \n805   6.199998e-06        0          0         NaT           NaN   \n806   5.047549e-06        0          0         NaT           NaN   \n807   6.938844e-06        0          0         NaT           NaN   \n808   9.323884e-06        0          0         NaT           NaN   \n809   6.141949e-06        0          0         NaT           NaN   \n810   4.362742e-06        0          0         NaT           NaN   \n811   5.221748e-06        0          0         NaT           NaN   \n812   3.107212e-06        0          0         NaT           NaN   \n813   3.521548e-06        0          0         NaT           NaN   \n814   8.413856e-06        0          0         NaT           NaN   \n815   9.894304e-06        0          0         NaT           NaN   \n816   8.698200e-06        0          0         NaT           NaN   \n817   5.209722e-06        0          0         NaT           NaN   \n818   1.556173e-06        0          0         NaT           NaN   \n819   1.278493e-06        0          0         NaT           NaN   \n820   1.587130e-06        0          0         NaT           NaN   \n821   1.804341e-06        0          0         NaT           NaN   \n822   3.156185e-06        0          0         NaT           NaN   \n823   4.342606e-06        0          0         NaT           NaN   \n824   1.148199e-05        0          0         NaT           NaN   \n825   1.469371e-05        0          0         NaT           NaN   \n826   3.889123e-06        0          0         NaT           NaN   \n827   1.117929e-05        0          0         NaT           NaN   \n828   7.757232e-06        0          0         NaT           NaN   \n829   9.633780e-06        0          0         NaT           NaN   \n830   3.137468e-05        0          0         NaT           NaN   \n831   2.688451e-05        0          0         NaT           NaN   \n832   1.759289e-05        0          0         NaT           NaN   \n833   1.013099e-05        0          0         NaT           NaN   \n834   2.092822e-05        0          0         NaT           NaN   \n835   1.137939e-05        0          0         NaT           NaN   \n836   5.425961e-05        0          0         NaT           NaN   \n837   5.408902e-05        0          0         NaT           NaN   \n838   4.551547e-05        0          0         NaT           NaN   \n839   2.106833e-05        0          0         NaT           NaN   \n840   1.492923e-04        0          0         NaT           NaN   \n841   2.334539e-05        0          0         NaT           NaN   \n842   2.571462e-05        0          0         NaT           NaN   \n843   4.640319e-05        0          0         NaT           NaN   \n844   8.675366e-07        0          0         NaT           NaN   \n845   6.856089e-06        0          0         NaT           NaN   \n846   3.403627e-05        0          0         NaT           NaN   \n847   3.883870e-05        0          0         NaT           NaN   \n848   7.309954e-06        0          0         NaT           NaN   \n849   3.433339e-06        0          0         NaT           NaN   \n850   1.030832e-05        0          0         NaT           NaN   \n851   2.224816e-05        0          0         NaT           NaN   \n852   5.195833e-06        0          0         NaT           NaN   \n853   5.790213e-06        0          0         NaT           NaN   \n854   5.421939e-06        0          0         NaT           NaN   \n855   2.693396e-06        0          0         NaT           NaN   \n856   1.159303e-06        0          0         NaT           NaN   \n857   2.127734e-05        0          0         NaT           NaN   \n858   9.554617e-06        0          0         NaT           NaN   \n859   5.023336e-06        0          0         NaT           NaN   \n860   1.170114e-06        0          0         NaT           NaN   \n861   1.560186e-06        0          0         NaT           NaN   \n862   2.472436e-06        0          0         NaT           NaN   \n863   9.810228e-07        0          0         NaT           NaN   \n864   9.554503e-07        0          0         NaT           NaN   \n865   8.230389e-07        0          0         NaT           NaN   \n866   7.399973e-06        0          0         NaT           NaN   \n867   3.760143e-07        0          0         NaT           NaN   \n868   1.125971e-06        0          0         NaT           NaN   \n869   1.044102e-05        0          0         NaT           NaN   \n870   1.411059e-06        0          0         NaT           NaN   \n871   4.244102e-06        0          0         NaT           NaN   \n872   1.356050e-05        0          0         NaT           NaN   \n873   2.092551e-06        0          0         NaT           NaN   \n874   2.069451e-06        0          0         NaT           NaN   \n875   2.820612e-06        0          0         NaT           NaN   \n876   6.222423e-05        0          0         NaT           NaN   \n877   4.048770e-06        0          0         NaT           NaN   \n878   3.000267e-06        0          0         NaT           NaN   \n879   5.863346e-04        0          0         NaT           NaN   \n880   1.001935e-05        0          0         NaT           NaN   \n881   1.146431e-05        0          0         NaT           NaN   \n882   1.129168e-05        0          0         NaT           NaN   \n883   8.630470e-06        0          0         NaT           NaN   \n884   7.638964e-06        0          0         NaT           NaN   \n885   9.435841e-06        0          0         NaT           NaN   \n886   1.284639e-05        0          0         NaT           NaN   \n887   1.466385e-05        0          0         NaT           NaN   \n888   3.305459e-05        0          0         NaT           NaN   \n889   8.952656e-05        0          0         NaT           NaN   \n890   1.313303e-05        0          0         NaT           NaN   \n891   1.520008e-06        0          0         NaT           NaN   \n892   3.690269e-06        0          0         NaT           NaN   \n893   7.148096e-07        0          0         NaT           NaN   \n894   7.407849e-07        0          0         NaT           NaN   \n895   1.463041e-06        0          0         NaT           NaN   \n896   7.007233e-07        0          0         NaT           NaN   \n897   2.340831e-06        0          0         NaT           NaN   \n898   2.569660e-06        0          0         NaT           NaN   \n899   9.056450e-07        0          0         NaT           NaN   \n900   1.469949e-06        0          0         NaT           NaN   \n901   6.069236e-07        0          0         NaT           NaN   \n902   1.755910e-07        0          0         NaT           NaN   \n903   1.176551e-07        0          0         NaT           NaN   \n904   3.434540e-06        0          0         NaT           NaN   \n905   5.399473e-06        0          0         NaT           NaN   \n906   1.181137e-04        0          0         NaT           NaN   \n907   1.636720e-05        0          0         NaT           NaN   \n908   1.177140e-05        0          0         NaT           NaN   \n909   1.905440e-05        0          0         NaT           NaN   \n910   1.249086e-05        0          0         NaT           NaN   \n911   5.450600e-05        0          0         NaT           NaN   \n912   1.880915e-05        0          0         NaT           NaN   \n913   1.349967e-04        0          0         NaT           NaN   \n914   1.986470e-05        0          0         NaT           NaN   \n915   1.874451e-06        0          0         NaT           NaN   \n916   2.884038e-06        0          0         NaT           NaN   \n917   1.310268e-05        0          0         NaT           NaN   \n918   1.167432e-04        0          0         NaT           NaN   \n919   9.238879e-05        0          0         NaT           NaN   \n920   3.211954e-05        0          0         NaT           NaN   \n921   3.976755e-05        0          0         NaT           NaN   \n922   2.104984e-05        0          0         NaT           NaN   \n923   4.746461e-05        0          0         NaT           NaN   \n924   1.147390e-04        0          0         NaT           NaN   \n925   2.548788e-05        0          0         NaT           NaN   \n926   2.299339e-05        0          0         NaT           NaN   \n927   2.865720e-05        0          0         NaT           NaN   \n928   6.516349e-05        0          0         NaT           NaN   \n929   1.151798e-05        0          0         NaT           NaN   \n930   2.567314e-04        0          0         NaT           NaN   \n931   3.054424e-04        0          0         NaT           NaN   \n932   8.866422e-05        0          0         NaT           NaN   \n933   7.392161e-04        0          0         NaT           NaN   \n934   7.310929e-04        0          0         NaT           NaN   \n935   1.450456e-03        0          0         NaT           NaN   \n936   6.799685e-07        0          0         NaT           NaN   \n937   1.176007e-03        0          0         NaT           NaN   \n938   2.286895e-04        0          0         NaT           NaN   \n939   7.581513e-05        0          0         NaT           NaN   \n940   4.853291e-05        0          0         NaT           NaN   \n941   4.521618e-05        0          0         NaT           NaN   \n942   4.656132e-04        0          0         NaT           NaN   \n943   3.511726e-05        0          0         NaT           NaN   \n944   3.042673e-04        0          0         NaT           NaN   \n945   2.191466e-03        0          0         NaT           NaN   \n946   4.110121e-05        0          0         NaT           NaN   \n947   1.198314e-03        0          0         NaT           NaN   \n948   2.488676e-04        0          0         NaT           NaN   \n949   5.853662e-04        0          0         NaT           NaN   \n950   1.052611e-03        0          0         NaT           NaN   \n951   8.915223e-05        0          0         NaT           NaN   \n952   8.189806e-04        0          0         NaT           NaN   \n953   2.085786e-03        0          0         NaT           NaN   \n954   6.922896e-05        0          0         NaT           NaN   \n955   2.505474e-05        0          0         NaT           NaN   \n956   4.357592e-05        0          0         NaT           NaN   \n957   5.962750e-05        0          0         NaT           NaN   \n958   2.292877e-05        0          0         NaT           NaN   \n959   1.553159e-03        0          0         NaT           NaN   \n960   1.276279e-03        0          0         NaT           NaN   \n961   4.335277e-04        0          0         NaT           NaN   \n962   3.478626e-04        0          0         NaT           NaN   \n963   5.453499e-04        0          0         NaT           NaN   \n964   4.033946e-05        0          0         NaT           NaN   \n965   9.449355e-04        0          0         NaT           NaN   \n966   4.145199e-06        0          0         NaT           NaN   \n967   1.785088e-04        0          0         NaT           NaN   \n968   9.000438e-05        0          0         NaT           NaN   \n969   1.238319e-04        0          0         NaT           NaN   \n970   1.438781e-04        0          0         NaT           NaN   \n971   5.508841e-04        0          0         NaT           NaN   \n972   5.059080e-05        0          0         NaT           NaN   \n973   2.132020e-04        0          0         NaT           NaN   \n974   8.549812e-04        0          0         NaT           NaN   \n975   1.634939e-03        0          0         NaT           NaN   \n976   2.031775e-04        0          0         NaT           NaN   \n977   6.322508e-04        0          0         NaT           NaN   \n978   4.601606e-05        0          0         NaT           NaN   \n979   1.017620e-05        0          0         NaT           NaN   \n980   5.740379e-05        0          0         NaT           NaN   \n981   3.042513e-05        0          0         NaT           NaN   \n982   3.215671e-04        0          0         NaT           NaN   \n983   2.351963e-04        0          0         NaT           NaN   \n984   6.176781e-06        0          0         NaT           NaN   \n985   8.004982e-05        0          0         NaT           NaN   \n986   1.604689e-06        0          0         NaT           NaN   \n987   2.406323e-06        0          0         NaT           NaN   \n988   2.614675e-06        0          0         NaT           NaN   \n989   1.174563e-06        0          0         NaT           NaN   \n990   1.969017e-04        0          0         NaT           NaN   \n991   2.086531e-05        0          0         NaT           NaN   \n992   2.118050e-04        0          0         NaT           NaN   \n993   3.456705e-03        0          0         NaT           NaN   \n994   2.905791e-05        0          0         NaT           NaN   \n995   2.910428e-05        0          0         NaT           NaN   \n996   5.762982e-06        0          0         NaT           NaN   \n997   5.477335e-05        0          0         NaT           NaN   \n998   1.200229e-05        0          0         NaT           NaN   \n999   1.161118e-03        0          0         NaT           NaN   \n1000  5.731858e-05        0          0         NaT           NaN   \n1001  5.495175e-05        0          0         NaT           NaN   \n1002  3.031600e-05        0          0         NaT           NaN   \n1003  3.178434e-06        0          0         NaT           NaN   \n1004  1.474153e-06        0          0         NaT           NaN   \n1005  1.252543e-05        0          0         NaT           NaN   \n1006  6.157228e-05        0          0         NaT           NaN   \n1007  1.556686e-05        0          0         NaT           NaN   \n1008  1.542042e-05        0          0         NaT           NaN   \n1009  2.208216e-05        0          0         NaT           NaN   \n1010  1.051389e-05        0          0         NaT           NaN   \n1011  2.769763e-03        0          0         NaT           NaN   \n1012  1.094514e-03        0          0         NaT           NaN   \n1013  2.337988e-04        0          0         NaT           NaN   \n1014  5.172217e-04        0          0         NaT           NaN   \n1015  5.839976e-05        0          0         NaT           NaN   \n1016  2.378842e-04        0          0         NaT           NaN   \n1017  1.787264e-03        0          0         NaT           NaN   \n1018  5.556440e-03        0          0         NaT           NaN   \n1019  1.988616e-03        0          0         NaT           NaN   \n1020  4.083402e-04        0          0         NaT           NaN   \n1021  3.933029e-03        0          0         NaT           NaN   \n1022  8.527761e-03        0          0         NaT           NaN   \n1023  2.324084e-03        0          0         NaT           NaN   \n1024  1.999269e-03        0          0         NaT           NaN   \n1025  1.014028e-03        0          0         NaT           NaN   \n1026  3.525617e-03        0          0         NaT           NaN   \n1027  9.019536e-04        0          0         NaT           NaN   \n1028  7.436720e-03        0          0         NaT           NaN   \n1029  3.665394e-03        0          0         NaT           NaN   \n1030  1.893368e-03        0          0         NaT           NaN   \n1031  4.163574e-03        0          0         NaT           NaN   \n1032  1.212157e-01        0          0         NaT           NaN   \n1033  9.960163e-01        1          1  2015-09-30      100002.0   \n1034  9.994253e-01        0          1  2015-09-30      100002.0   \n1035  9.907562e-01        0          1  2015-09-30      100002.0   \n1036  9.993165e-01        0          1  2015-09-30      100002.0   \n1037  9.983823e-01        0          1  2015-09-30      100002.0   \n1038  9.949369e-01        0          1  2015-09-30      100002.0   \n1039  9.956546e-01        0          1  2015-09-30      100002.0   \n1040  9.997701e-01        0          1  2015-09-30      100002.0   \n1041  9.998689e-01        0          1  2015-09-30      100002.0   \n1042  9.998958e-01        0          1  2015-09-30      100002.0   \n1043  9.996367e-01        0          1  2015-09-30      100002.0   \n1044  9.990008e-01        0          1  2015-09-30      100002.0   \n1045  9.999260e-01        0          1  2015-09-30      100002.0   \n1046  9.996116e-01        0          1  2015-09-30      100002.0   \n1047  9.999769e-01        0          1  2015-09-30      100002.0   \n1048  9.999564e-01        0          1  2015-09-30      100002.0   \n1049  9.994507e-01        0          1  2015-09-30      100002.0   \n1050  9.999262e-01        0          1  2015-09-30      100002.0   \n1051  9.995618e-01        0          1  2015-09-30      100002.0   \n1052  9.999865e-01        0          1  2015-09-30      100002.0   \n1053  9.999863e-01        0          1  2015-09-30      100002.0   \n1054  9.999602e-01        0          1  2015-09-30      100002.0   \n1055  9.995721e-01        0          1  2015-09-30      100002.0   \n1056  9.998890e-01        0          1  2015-09-30      100002.0   \n1057  9.993760e-01        0          1  2015-09-30      100002.0   \n1058  9.885806e-01        0          1  2015-09-30      100002.0   \n1059  9.998137e-01        0          1  2015-09-30      100002.0   \n1060  9.727628e-01        0          1  2015-09-30      100002.0   \n1061  4.639841e-02        0          1  2015-09-30      100002.0   \n1062  1.661814e-03        0          1  2015-09-30      100002.0   \n1063  5.099390e-03        0          1  2015-09-30      100002.0   \n1064  2.024391e-02        0          1  2015-09-30      100002.0   \n1065  4.162070e-03        0          1  2015-09-30      100002.0   \n1066  2.805097e-03        0          1  2015-09-30      100002.0   \n1067  1.018363e-03        0          1  2015-09-30      100002.0   \n1068  1.148700e-04        0          1  2015-09-30      100002.0   \n1069  2.716017e-04        0          1  2015-09-30      100002.0   \n1070  1.375620e-04        0          1  2015-09-30      100002.0   \n1071  2.802938e-04        0          1  2015-09-30      100002.0   \n1072  2.405813e-05        0          1  2015-09-30      100002.0   \n1073  3.152635e-06        0          1  2015-09-30      100002.0   \n1074  5.427140e-05        0          1  2015-09-30      100002.0   \n1075  6.207500e-05        0          1  2015-09-30      100002.0   \n1076  9.218910e-05        0          1  2015-09-30      100002.0   \n1077  1.878280e-05        0          1  2015-09-30      100002.0   \n1078  5.061793e-06        0          1  2015-09-30      100002.0   \n1079  5.407685e-05        0          1  2015-09-30      100002.0   \n1080  1.805704e-05        0          1  2015-09-30      100002.0   \n1081  9.293229e-05        0          1  2015-09-30      100002.0   \n1082  2.599593e-05        0          1  2015-09-30      100002.0   \n1083  2.583860e-04        0          1  2015-09-30      100002.0   \n1084  8.151487e-03        0          1  2015-09-30      100002.0   \n1085  5.693799e-05        0          1  2015-09-30      100002.0   \n1086  3.964974e-05        0          1  2015-09-30      100002.0   \n1087  2.878762e-06        0          1  2015-09-30      100002.0   \n1088  7.585910e-05        0          1  2015-09-30      100002.0   \n1089  1.478355e-04        0          1  2015-09-30      100002.0   \n1090  2.224774e-03        0          1  2015-09-30      100002.0   \n1091  1.444911e-03        0          1  2015-09-30      100002.0   \n1092  2.216216e-05        0          1  2015-09-30      100002.0   \n1093  2.054618e-03        0          1  2015-09-30      100002.0   \n1094  2.048492e-04        0          1  2015-09-30      100002.0   \n1095  1.375541e-03        0          1  2015-09-30      100002.0   \n1096  1.157995e-03        0          1  2015-09-30      100002.0   \n1097  6.738249e-03        0          1  2015-09-30      100002.0   \n1098  9.958138e-03        0          1  2015-09-30      100002.0   \n1099  3.984847e-03        0          1  2015-09-30      100002.0   \n1100  8.973860e-04        0          1  2015-09-30      100002.0   \n1101  1.505377e-03        0          1  2015-09-30      100002.0   \n1102  4.476336e-04        0          1  2015-09-30      100002.0   \n1103  1.275169e-04        0          1  2015-09-30      100002.0   \n1104  8.643368e-05        0          1  2015-09-30      100002.0   \n1105  2.253601e-05        0          1  2015-09-30      100002.0   \n1106  1.965088e-05        0          1  2015-09-30      100002.0   \n1107  6.252968e-05        0          1  2015-09-30      100002.0   \n1108  9.462902e-06        0          1  2015-09-30      100002.0   \n1109  3.164755e-07        0          1  2015-09-30      100002.0   \n1110  3.864076e-06        0          1  2015-09-30      100002.0   \n1111  4.080724e-06        0          1  2015-09-30      100002.0   \n1112  1.036305e-05        0          1  2015-09-30      100002.0   \n1113  3.036336e-04        0          1  2015-09-30      100002.0   \n1114  8.463006e-07        0          1  2015-09-30      100002.0   \n1115  5.138883e-07        0          1  2015-09-30      100002.0   \n1116  6.346303e-07        0          1  2015-09-30      100002.0   \n1117  6.721929e-06        0          1  2015-09-30      100002.0   \n1118  3.797357e-05        0          1  2015-09-30      100002.0   \n1119  6.721929e-06        0          1  2015-09-30      100002.0   \n1120  4.143181e-07        0          1  2015-09-30      100002.0   \n1121  1.170331e-06        0          1  2015-09-30      100002.0   \n1122  1.850132e-06        0          1  2015-09-30      100002.0   \n1123  5.897420e-03        0          1  2015-09-30      100002.0   \n1124  3.432133e-03        0          1  2015-09-30      100002.0   \n1125  8.534428e-03        0          1  2015-09-30      100002.0   \n1126  9.939010e-04        0          1  2015-09-30      100002.0   \n1127  4.376721e-03        0          1  2015-09-30      100002.0   \n1128  2.105940e-03        0          1  2015-09-30      100002.0   \n1129  2.274749e-03        0          1  2015-09-30      100002.0   \n1130  1.423114e-03        0          1  2015-09-30      100002.0   \n1131  1.070491e-05        0          1  2015-09-30      100002.0   \n1132  4.654736e-05        0          1  2015-09-30      100002.0   \n1133  8.632561e-05        0          1  2015-09-30      100002.0   \n1134  9.510361e-05        0          1  2015-09-30      100002.0   \n1135  4.462104e-05        0          1  2015-09-30      100002.0   \n1136  3.292108e-05        0          1  2015-09-30      100002.0   \n1137  6.844506e-05        0          1  2015-09-30      100002.0   \n1138  3.170716e-05        0          1  2015-09-30      100002.0   \n1139  9.209017e-05        0          1  2015-09-30      100002.0   \n1140  1.595659e-04        0          1  2015-09-30      100002.0   \n1141  6.171127e-04        0          1  2015-09-30      100002.0   \n1142  6.336633e-04        0          1  2015-09-30      100002.0   \n1143  9.725404e-05        0          1  2015-09-30      100002.0   \n1144  3.236971e-04        0          1  2015-09-30      100002.0   \n1145  4.970080e-04        0          1  2015-09-30      100002.0   \n1146  2.416803e-03        0          1  2015-09-30      100002.0   \n1147  1.205876e-02        0          1  2015-09-30      100002.0   \n1148  4.644901e-03        0          1  2015-09-30      100002.0   \n1149  1.686875e-03        0          1  2015-09-30      100002.0   \n1150  2.028411e-03        0          1  2015-09-30      100002.0   \n1151  1.672229e-03        0          1  2015-09-30      100002.0   \n1152  1.611144e-03        0          1  2015-09-30      100002.0   \n1153  3.311960e-03        0          1  2015-09-30      100002.0   \n1154  1.399382e-02        0          1  2015-09-30      100002.0   \n1155  5.816485e-04        0          1  2015-09-30      100002.0   \n1156  1.700722e-04        0          1  2015-09-30      100002.0   \n1157  5.110625e-05        0          1  2015-09-30      100002.0   \n1158  1.352385e-05        0          1  2015-09-30      100002.0   \n1159  1.446507e-04        0          1  2015-09-30      100002.0   \n1160  2.080048e-04        0          1  2015-09-30      100002.0   \n1161  2.527847e-04        0          1  2015-09-30      100002.0   \n1162  1.117447e-03        0          1  2015-09-30      100002.0   \n1163  3.591649e-04        0          1  2015-09-30      100002.0   \n1164  2.248610e-04        0          1  2015-09-30      100002.0   \n1165  4.827166e-05        0          1  2015-09-30      100002.0   \n1166  7.771050e-05        0          1  2015-09-30      100002.0   \n1167  4.251253e-05        0          1  2015-09-30      100002.0   \n1168  2.929829e-05        0          1  2015-09-30      100002.0   \n1169  3.436283e-05        0          1  2015-09-30      100002.0   \n1170  1.641650e-05        0          1  2015-09-30      100002.0   \n1171  1.665179e-05        0          1  2015-09-30      100002.0   \n1172  1.407468e-05        0          1  2015-09-30      100002.0   \n1173  3.704711e-05        0          1  2015-09-30      100002.0   \n1174  7.001173e-06        0          1  2015-09-30      100002.0   \n1175  1.966694e-05        0          1  2015-09-30      100002.0   \n1176  2.119374e-05        0          1  2015-09-30      100002.0   \n1177  8.793697e-05        0          1  2015-09-30      100002.0   \n1178  1.290497e-04        0          1  2015-09-30      100002.0   \n1179  2.792498e-06        0          1  2015-09-30      100002.0   \n1180  9.594823e-04        0          1  2015-09-30      100002.0   \n1181  1.902600e-03        0          1  2015-09-30      100002.0   \n1182  4.986725e-04        0          1  2015-09-30      100002.0   \n1183  6.542619e-04        0          1  2015-09-30      100002.0   \n1184  4.440924e-04        0          1  2015-09-30      100002.0   \n1185  6.167144e-04        0          1  2015-09-30      100002.0   \n1186  1.338105e-04        0          1  2015-09-30      100002.0   \n1187  2.066220e-05        0          1  2015-09-30      100002.0   \n1188  4.800366e-05        0          1  2015-09-30      100002.0   \n1189  9.951391e-05        0          1  2015-09-30      100002.0   \n1190  6.494723e-05        0          1  2015-09-30      100002.0   \n1191  9.557683e-05        0          1  2015-09-30      100002.0   \n1192  4.908007e-05        0          1  2015-09-30      100002.0   \n1193  9.634878e-05        0          1  2015-09-30      100002.0   \n1194  8.806200e-05        0          1  2015-09-30      100002.0   \n1195  1.428335e-04        0          1  2015-09-30      100002.0   \n1196  7.045359e-05        0          1  2015-09-30      100002.0   \n1197  1.634913e-05        0          1  2015-09-30      100002.0   \n1198  9.703441e-05        0          1  2015-09-30      100002.0   \n1199  1.329863e-05        0          1  2015-09-30      100002.0   \n1200  5.204519e-05        0          1  2015-09-30      100002.0   \n1201  4.140061e-05        0          1  2015-09-30      100002.0   \n1202  2.038411e-05        0          1  2015-09-30      100002.0   \n1203  1.868139e-05        0          1  2015-09-30      100002.0   \n1204  3.141380e-05        0          1  2015-09-30      100002.0   \n1205  7.902365e-06        0          1  2015-09-30      100002.0   \n1206  1.580460e-05        0          1  2015-09-30      100002.0   \n1207  2.533076e-05        0          1  2015-09-30      100002.0   \n1208  1.788124e-05        0          1  2015-09-30      100002.0   \n1209  9.119323e-05        0          1  2015-09-30      100002.0   \n1210  1.227625e-05        0          1  2015-09-30      100002.0   \n1211  9.459928e-05        0          1  2015-09-30      100002.0   \n1212  5.634523e-05        0          1  2015-09-30      100002.0   \n1213  1.585201e-05        0          1  2015-09-30      100002.0   \n1214  1.427653e-05        0          1  2015-09-30      100002.0   \n1215  4.121523e-05        0          1  2015-09-30      100002.0   \n1216  3.861622e-05        0          1  2015-09-30      100002.0   \n1217  2.965583e-05        0          1  2015-09-30      100002.0   \n1218  1.480148e-05        0          1  2015-09-30      100002.0   \n1219  3.744531e-05        0          1  2015-09-30      100002.0   \n1220  1.529622e-04        0          1  2015-09-30      100002.0   \n1221  1.623038e-05        0          1  2015-09-30      100002.0   \n1222  2.188897e-04        0          1  2015-09-30      100002.0   \n1223  7.160935e-05        0          1  2015-09-30      100002.0   \n1224  3.171378e-05        0          1  2015-09-30      100002.0   \n1225  6.749131e-04        0          1  2015-09-30      100002.0   \n1226  2.315578e-03        0          1  2015-09-30      100002.0   \n1227  1.560340e-04        0          1  2015-09-30      100002.0   \n1228  3.763590e-04        0          1  2015-09-30      100002.0   \n1229  1.295889e-03        0          1  2015-09-30      100002.0   \n1230  1.775200e-04        0          1  2015-09-30      100002.0   \n1231  4.106375e-04        0          1  2015-09-30      100002.0   \n1232  6.502074e-04        0          1  2015-09-30      100002.0   \n1233  2.293304e-03        0          1  2015-09-30      100002.0   \n1234  2.949450e-04        0          1  2015-09-30      100002.0   \n1235  9.852777e-04        0          1  2015-09-30      100002.0   \n1236  3.524590e-03        0          1  2015-09-30      100002.0   \n1237  1.139253e-02        0          1  2015-09-30      100002.0   \n1238  8.732204e-04        0          1  2015-09-30      100002.0   \n1239  1.521145e-02        0          1  2015-09-30      100002.0   \n1240  1.435199e-03        0          1  2015-09-30      100002.0   \n1241  1.856023e-03        0          1  2015-09-30      100002.0   \n1242  1.275040e-04        0          1  2015-09-30      100002.0   \n1243  1.486229e-03        0          1  2015-09-30      100002.0   \n1244  2.589150e-04        0          1  2015-09-30      100002.0   \n1245  3.890746e-04        0          1  2015-09-30      100002.0   \n1246  7.023963e-04        0          1  2015-09-30      100002.0   \n1247  5.890754e-04        0          1  2015-09-30      100002.0   \n1248  2.787085e-04        0          1  2015-09-30      100002.0   \n1249  4.399923e-03        0          1  2015-09-30      100002.0   \n1250  4.616388e-05        0          1  2015-09-30      100002.0   \n1251  9.339114e-05        0          1  2015-09-30      100002.0   \n1252  2.974822e-04        0          1  2015-09-30      100002.0   \n1253  5.757076e-04        0          1  2015-09-30      100002.0   \n1254  1.808771e-03        0          1  2015-09-30      100002.0   \n1255  9.210440e-05        0          1  2015-09-30      100002.0   \n1256  5.573516e-05        0          1  2015-09-30      100002.0   \n1257  7.170612e-04        0          1  2015-09-30      100002.0   \n1258  7.568565e-03        0          1  2015-09-30      100002.0   \n1259  9.288879e-04        0          1  2015-09-30      100002.0   \n1260  2.537262e-03        0          1  2015-09-30      100002.0   \n1261  5.006181e-03        0          1  2015-09-30      100002.0   \n1262  9.099803e-03        0          1  2015-09-30      100002.0   \n1263  1.815825e-03        0          1  2015-09-30      100002.0   \n1264  3.315677e-03        0          1  2015-09-30      100002.0   \n1265  1.332034e-04        0          1  2015-09-30      100002.0   \n1266  6.340520e-05        0          1  2015-09-30      100002.0   \n1267  3.002085e-04        0          1  2015-09-30      100002.0   \n1268  7.113700e-05        0          1  2015-09-30      100002.0   \n1269  7.999659e-04        0          1  2015-09-30      100002.0   \n1270  5.679130e-05        0          1  2015-09-30      100002.0   \n1271  8.865826e-04        0          1  2015-09-30      100002.0   \n1272  1.378339e-05        0          1  2015-09-30      100002.0   \n1273  1.099517e-04        0          1  2015-09-30      100002.0   \n1274  1.073093e-05        0          1  2015-09-30      100002.0   \n1275  9.348513e-05        0          1  2015-09-30      100002.0   \n1276  4.951566e-04        0          1  2015-09-30      100002.0   \n1277  1.678691e-05        0          1  2015-09-30      100002.0   \n1278  9.607512e-06        0          1  2015-09-30      100002.0   \n1279  1.386983e-05        0          1  2015-09-30      100002.0   \n1280  1.263821e-05        0          1  2015-09-30      100002.0   \n1281  4.830302e-06        0          1  2015-09-30      100002.0   \n1282  3.307942e-04        0          1  2015-09-30      100002.0   \n1283  4.812501e-03        0          1  2015-09-30      100002.0   \n1284  1.688743e-03        0          1  2015-09-30      100002.0   \n1285  3.324596e-03        0          1  2015-09-30      100002.0   \n1286  3.889148e-04        0          1  2015-09-30      100002.0   \n1287  3.569436e-04        0          1  2015-09-30      100002.0   \n1288  2.331882e-05        0          1  2015-09-30      100002.0   \n1289  6.526517e-05        0          1  2015-09-30      100002.0   \n1290  2.606191e-06        0          1  2015-09-30      100002.0   \n1291  3.989005e-06        0          1  2015-09-30      100002.0   \n1292  5.880957e-06        0          1  2015-09-30      100002.0   \n1293  2.433692e-06        0          1  2015-09-30      100002.0   \n1294  1.310065e-06        0          1  2015-09-30      100002.0   \n1295  1.051402e-05        0          1  2015-09-30      100002.0   \n1296  1.734359e-06        0          1  2015-09-30      100002.0   \n1297  4.569721e-06        0          1  2015-09-30      100002.0   \n1298  2.740542e-06        0          1  2015-09-30      100002.0   \n1299  1.343559e-05        0          1  2015-09-30      100002.0   \n1300  7.921598e-06        0          1  2015-09-30      100002.0   \n1301  1.427573e-06        0          1  2015-09-30      100002.0   \n1302  2.522442e-06        0          1  2015-09-30      100002.0   \n1303  5.050178e-06        0          1  2015-09-30      100002.0   \n1304  7.796829e-07        0          1  2015-09-30      100002.0   \n1305  4.303823e-04        0          1  2015-09-30      100002.0   \n1306  1.386973e-06        0          1  2015-09-30      100002.0   \n1307  1.562174e-05        0          1  2015-09-30      100002.0   \n1308  2.771292e-07        0          1  2015-09-30      100002.0   \n1309  1.215679e-05        0          1  2015-09-30      100002.0   \n1310  2.023222e-05        0          1  2015-09-30      100002.0   \n1311  1.055273e-06        0          1  2015-09-30      100002.0   \n1312  6.674875e-06        0          1  2015-09-30      100002.0   \n1313  5.661016e-06        0          1  2015-09-30      100002.0   \n1314  1.451125e-05        0          1  2015-09-30      100002.0   \n1315  2.432435e-05        0          1  2015-09-30      100002.0   \n1316  7.583502e-06        0          1  2015-09-30      100002.0   \n1317  8.433473e-06        0          1  2015-09-30      100002.0   \n1318  2.502036e-05        0          1  2015-09-30      100002.0   \n1319  7.907490e-05        0          1  2015-09-30      100002.0   \n1320  3.028593e-04        0          1  2015-09-30      100002.0   \n1321  1.115968e-04        0          1  2015-09-30      100002.0   \n1322  2.426631e-05        0          1  2015-09-30      100002.0   \n1323  3.424785e-04        0          1  2015-09-30      100002.0   \n1324  6.887096e-05        0          1  2015-09-30      100002.0   \n1325  1.921430e-04        0          1  2015-09-30      100002.0   \n1326  6.991703e-05        0          1  2015-09-30      100002.0   \n1327  4.079725e-04        0          1  2015-09-30      100002.0   \n1328  5.433976e-05        0          1  2015-09-30      100002.0   \n1329  1.200150e-04        0          1  2015-09-30      100002.0   \n1330  3.701607e-04        0          1  2015-09-30      100002.0   \n1331  1.986485e-05        0          1  2015-09-30      100002.0   \n1332  2.113817e-05        0          1  2015-09-30      100002.0   \n1333  4.215827e-05        0          1  2015-09-30      100002.0   \n1334  2.301935e-04        0          1  2015-09-30      100002.0   \n1335  2.449448e-04        0          1  2015-09-30      100002.0   \n1336  6.133389e-05        0          1  2015-09-30      100002.0   \n1337  1.432733e-04        0          1  2015-09-30      100002.0   \n1338  4.298292e-05        0          1  2015-09-30      100002.0   \n1339  1.431687e-05        0          1  2015-09-30      100002.0   \n1340  7.718078e-06        0          1  2015-09-30      100002.0   \n1341  3.222050e-05        0          1  2015-09-30      100002.0   \n1342  2.817794e-05        0          1  2015-09-30      100002.0   \n1343  1.158159e-05        0          1  2015-09-30      100002.0   \n1344  1.264222e-05        0          1  2015-09-30      100002.0   \n1345  6.009188e-06        0          1  2015-09-30      100002.0   \n1346  2.581169e-06        0          1  2015-09-30      100002.0   \n1347  7.634686e-05        0          1  2015-09-30      100002.0   \n1348  3.081233e-05        0          1  2015-09-30      100002.0   \n1349  3.296563e-05        0          1  2015-09-30      100002.0   \n1350  4.487879e-05        0          1  2015-09-30      100002.0   \n1351  1.432728e-05        0          1  2015-09-30      100002.0   \n1352  1.008199e-04        0          1  2015-09-30      100002.0   \n1353  8.104488e-06        0          1  2015-09-30      100002.0   \n1354  1.158692e-06        0          1  2015-09-30      100002.0   \n1355  1.527684e-07        0          1  2015-09-30      100002.0   \n1356  1.865607e-07        0          1  2015-09-30      100002.0   \n1357  4.331259e-07        0          1  2015-09-30      100002.0   \n1358  4.951852e-07        0          1  2015-09-30      100002.0   \n1359  1.176362e-06        0          1  2015-09-30      100002.0   \n1360  7.625540e-07        0          1  2015-09-30      100002.0   \n1361  1.368963e-06        0          1  2015-09-30      100002.0   \n1362  1.332212e-06        0          1  2015-09-30      100002.0   \n1363  2.824413e-07        0          1  2015-09-30      100002.0   \n1364  3.114442e-07        0          1  2015-09-30      100002.0   \n1365  3.418261e-06        0          1  2015-09-30      100002.0   \n1366  5.004153e-06        0          1  2015-09-30      100002.0   \n1367  3.828784e-06        0          1  2015-09-30      100002.0   \n1368  1.588246e-06        0          1  2015-09-30      100002.0   \n1369  2.144607e-06        0          1  2015-09-30      100002.0   \n1370  5.311131e-06        0          1  2015-09-30      100002.0   \n1371  3.273910e-06        0          1  2015-09-30      100002.0   \n1372  3.139883e-06        0          1  2015-09-30      100002.0   \n1373  3.188926e-07        0          1  2015-09-30      100002.0   \n1374  5.245033e-07        0          1  2015-09-30      100002.0   \n1375  1.976091e-07        0          1  2015-09-30      100002.0   \n1376  5.113023e-07        0          1  2015-09-30      100002.0   \n1377  2.382558e-07        0          1  2015-09-30      100002.0   \n1378  5.063673e-07        0          1  2015-09-30      100002.0   \n1379  4.084389e-07        0          1  2015-09-30      100002.0   \n1380  1.202838e-07        0          1  2015-09-30      100002.0   \n1381  1.663178e-07        0          1  2015-09-30      100002.0   \n1382  4.188782e-07        0          1  2015-09-30      100002.0   \n1383  8.575579e-07        0          1  2015-09-30      100002.0   \n1384  5.127800e-07        0          1  2015-09-30      100002.0   \n1385  3.090359e-07        0          1  2015-09-30      100002.0   \n1386  1.864700e-07        0          1  2015-09-30      100002.0   \n1387  3.652410e-07        0          1  2015-09-30      100002.0   \n1388  3.295617e-07        0          1  2015-09-30      100002.0   \n1389  5.386284e-07        0          1  2015-09-30      100002.0   \n1390  4.872269e-07        0          1  2015-09-30      100002.0   \n1391  7.635131e-07        0          1  2015-09-30      100002.0   \n1392  4.182068e-07        0          1  2015-09-30      100002.0   \n1393  4.671841e-07        0          1  2015-09-30      100002.0   \n1394  1.317500e-06        0          1  2015-09-30      100002.0   \n1395  2.114016e-07        0          1  2015-09-30      100002.0   \n1396  1.291048e-06        0          1  2015-09-30      100002.0   \n1397  1.257507e-06        0          1  2015-09-30      100002.0   \n1398  2.631932e-07        0          1  2015-09-30      100002.0   \n1399  2.399900e-07        0          1  2015-09-30      100002.0   \n1400  4.814422e-07        0          1  2015-09-30      100002.0   \n1401  1.060775e-06        0          1  2015-09-30      100002.0   \n1402  1.339834e-06        0          1  2015-09-30      100002.0   \n1403  5.466965e-07        0          1  2015-09-30      100002.0   \n1404  3.548771e-07        0          1  2015-09-30      100002.0   \n1405  3.657708e-07        0          1  2015-09-30      100002.0   \n1406  1.364089e-06        0          1  2015-09-30      100002.0   \n1407  1.019839e-06        0          1  2015-09-30      100002.0   \n1408  1.052055e-06        0          1  2015-09-30      100002.0   \n1409  5.808364e-07        0          1  2015-09-30      100002.0   \n1410  1.675242e-06        0          1  2015-09-30      100002.0   \n1411  2.716905e-07        0          1  2015-09-30      100002.0   \n1412  9.383814e-07        0          1  2015-09-30      100002.0   \n1413  1.286172e-06        0          1  2015-09-30      100002.0   \n1414  4.015253e-07        0          1  2015-09-30      100002.0   \n1415  1.425888e-06        0          1  2015-09-30      100002.0   \n1416  1.912271e-06        0          1  2015-09-30      100002.0   \n1417  2.156683e-06        0          1  2015-09-30      100002.0   \n1418  1.233836e-06        0          1  2015-09-30      100002.0   \n1419  6.252544e-07        0          1  2015-09-30      100002.0   \n1420  2.833388e-06        0          1  2015-09-30      100002.0   \n1421  5.035016e-07        0          1  2015-09-30      100002.0   \n1422  3.753476e-06        0          1  2015-09-30      100002.0   \n1423  1.487680e-06        0          1  2015-09-30      100002.0   \n1424  1.190216e-06        0          1  2015-09-30      100002.0   \n1425  2.623699e-06        0          1  2015-09-30      100002.0   \n1426  2.593805e-06        0          1  2015-09-30      100002.0   \n1427  5.334565e-07        0          1  2015-09-30      100002.0   \n1428  1.746273e-06        0          1  2015-09-30      100002.0   \n1429  2.588562e-06        0          1  2015-09-30      100002.0   \n1430  3.599380e-06        0          1  2015-09-30      100002.0   \n1431  5.589675e-07        0          1  2015-09-30      100002.0   \n1432  1.102035e-07        0          1  2015-09-30      100002.0   \n1433  3.333417e-06        0          1  2015-09-30      100002.0   \n1434  6.960066e-07        0          1  2015-09-30      100002.0   \n1435  2.692669e-06        0          1  2015-09-30      100002.0   \n1436  1.789163e-06        0          1  2015-09-30      100002.0   \n1437  5.642173e-06        0          1  2015-09-30      100002.0   \n1438  2.487879e-06        0          1  2015-09-30      100002.0   \n1439  5.071012e-06        0          1  2015-09-30      100002.0   \n1440  8.902670e-06        0          1  2015-09-30      100002.0   \n1441  1.024843e-06        0          1  2015-09-30      100002.0   \n1442  1.205360e-06        0          1  2015-09-30      100002.0   \n1443  1.014449e-05        0          1  2015-09-30      100002.0   \n1444  2.220367e-05        0          1  2015-09-30      100002.0   \n1445  1.491319e-05        0          1  2015-09-30      100002.0   \n1446  5.201123e-06        0          1  2015-09-30      100002.0   \n1447  5.570450e-06        0          1  2015-09-30      100002.0   \n1448  3.657813e-06        0          1  2015-09-30      100002.0   \n1449  6.866559e-06        0          1  2015-09-30      100002.0   \n1450  1.048248e-05        0          1  2015-09-30      100002.0   \n1451  2.320447e-05        0          1  2015-09-30      100002.0   \n1452  1.191536e-04        0          1  2015-09-30      100002.0   \n1453  1.129983e-04        0          1  2015-09-30      100002.0   \n1454  6.768991e-05        0          1  2015-09-30      100002.0   \n1455  6.330232e-05        0          1  2015-09-30      100002.0   \n1456  4.431281e-06        0          1  2015-09-30      100002.0   \n1457  1.403233e-04        0          1  2015-09-30      100002.0   \n1458  1.550319e-03        0          1  2015-09-30      100002.0   \n1459  1.519948e-04        0          1  2015-09-30      100002.0   \n1460  1.883596e-03        0          1  2015-09-30      100002.0   \n1461  2.634133e-04        0          1  2015-09-30      100002.0   \n\n     MODELING_GROUP       C  WARNING  TRUE_POSITIVE  FALSE_NEGATIVE  BAD_S  \\\n731        TRAINING     NaT      NaN              0               0      0   \n732        TRAINING     NaT      NaN              0               0      0   \n733        TRAINING     NaT      NaN              0               0      0   \n734        TRAINING     NaT      NaN              0               0      0   \n735        TRAINING     NaT      NaN              0               0      0   \n736        TRAINING     NaT      NaN              0               0      0   \n737        TRAINING     NaT      NaN              0               0      0   \n738        TRAINING     NaT      NaN              0               0      0   \n739        TRAINING     NaT      NaN              0               0      0   \n740        TRAINING     NaT      NaN              0               0      0   \n741        TRAINING     NaT      NaN              0               0      0   \n742        TRAINING     NaT      NaN              0               0      0   \n743        TRAINING     NaT      NaN              0               0      0   \n744        TRAINING     NaT      NaN              0               0      0   \n745        TRAINING     NaT      NaN              0               0      0   \n746        TRAINING     NaT      NaN              0               0      0   \n747        TRAINING     NaT      NaN              0               0      0   \n748        TRAINING     NaT      NaN              0               0      0   \n749        TRAINING     NaT      NaN              0               0      0   \n750        TRAINING     NaT      NaN              0               0      0   \n751        TRAINING     NaT      NaN              0               0      0   \n752        TRAINING     NaT      NaN              0               0      0   \n753        TRAINING     NaT      NaN              0               0      0   \n754        TRAINING     NaT      NaN              0               0      0   \n755        TRAINING     NaT      NaN              0               0      0   \n756        TRAINING     NaT      NaN              0               0      0   \n757        TRAINING     NaT      NaN              0               0      0   \n758        TRAINING     NaT      NaN              0               0      0   \n759        TRAINING     NaT      NaN              0               0      0   \n760        TRAINING     NaT      NaN              0               0      0   \n761        TRAINING     NaT      NaN              0               0      0   \n762        TRAINING     NaT      NaN              0               0      0   \n763        TRAINING     NaT      NaN              0               0      0   \n764        TRAINING     NaT      NaN              0               0      0   \n765        TRAINING     NaT      NaN              0               0      0   \n766        TRAINING     NaT      NaN              0               0      0   \n767        TRAINING     NaT      NaN              0               0      0   \n768        TRAINING     NaT      NaN              0               0      0   \n769        TRAINING     NaT      NaN              0               0      0   \n770        TRAINING     NaT      NaN              0               0      0   \n771        TRAINING     NaT      NaN              0               0      0   \n772        TRAINING     NaT      NaN              0               0      0   \n773        TRAINING     NaT      NaN              0               0      0   \n774        TRAINING     NaT      NaN              0               0      0   \n775        TRAINING     NaT      NaN              0               0      0   \n776        TRAINING     NaT      NaN              0               0      0   \n777        TRAINING     NaT      NaN              0               0      0   \n778        TRAINING     NaT      NaN              0               0      0   \n779        TRAINING     NaT      NaN              0               0      0   \n780        TRAINING     NaT      NaN              0               0      0   \n781        TRAINING     NaT      NaN              0               0      0   \n782        TRAINING     NaT      NaN              0               0      0   \n783        TRAINING     NaT      NaN              0               0      0   \n784        TRAINING     NaT      NaN              0               0      0   \n785        TRAINING     NaT      NaN              0               0      0   \n786        TRAINING     NaT      NaN              0               0      0   \n787        TRAINING     NaT      NaN              0               0      0   \n788        TRAINING     NaT      NaN              0               0      0   \n789        TRAINING     NaT      NaN              0               0      0   \n790        TRAINING     NaT      NaN              0               0      0   \n791        TRAINING     NaT      NaN              0               0      0   \n792        TRAINING     NaT      NaN              0               0      0   \n793        TRAINING     NaT      NaN              0               0      0   \n794        TRAINING     NaT      NaN              0               0      0   \n795        TRAINING     NaT      NaN              0               0      0   \n796        TRAINING     NaT      NaN              0               0      0   \n797        TRAINING     NaT      NaN              0               0      0   \n798        TRAINING     NaT      NaN              0               0      0   \n799        TRAINING     NaT      NaN              0               0      0   \n800        TRAINING     NaT      NaN              0               0      0   \n801        TRAINING     NaT      NaN              0               0      0   \n802        TRAINING     NaT      NaN              0               0      0   \n803        TRAINING     NaT      NaN              0               0      0   \n804        TRAINING     NaT      NaN              0               0      0   \n805        TRAINING     NaT      NaN              0               0      0   \n806        TRAINING     NaT      NaN              0               0      0   \n807        TRAINING     NaT      NaN              0               0      0   \n808        TRAINING     NaT      NaN              0               0      0   \n809        TRAINING     NaT      NaN              0               0      0   \n810        TRAINING     NaT      NaN              0               0      0   \n811        TRAINING     NaT      NaN              0               0      0   \n812        TRAINING     NaT      NaN              0               0      0   \n813        TRAINING     NaT      NaN              0               0      0   \n814        TRAINING     NaT      NaN              0               0      0   \n815        TRAINING     NaT      NaN              0               0      0   \n816        TRAINING     NaT      NaN              0               0      0   \n817        TRAINING     NaT      NaN              0               0      0   \n818        TRAINING     NaT      NaN              0               0      0   \n819        TRAINING     NaT      NaN              0               0      0   \n820        TRAINING     NaT      NaN              0               0      0   \n821        TRAINING     NaT      NaN              0               0      0   \n822        TRAINING     NaT      NaN              0               0      0   \n823        TRAINING     NaT      NaN              0               0      0   \n824        TRAINING     NaT      NaN              0               0      0   \n825        TRAINING     NaT      NaN              0               0      0   \n826        TRAINING     NaT      NaN              0               0      0   \n827        TRAINING     NaT      NaN              0               0      0   \n828        TRAINING     NaT      NaN              0               0      0   \n829        TRAINING     NaT      NaN              0               0      0   \n830        TRAINING     NaT      NaN              0               0      0   \n831        TRAINING     NaT      NaN              0               0      0   \n832        TRAINING     NaT      NaN              0               0      0   \n833        TRAINING     NaT      NaN              0               0      0   \n834        TRAINING     NaT      NaN              0               0      0   \n835        TRAINING     NaT      NaN              0               0      0   \n836        TRAINING     NaT      NaN              0               0      0   \n837        TRAINING     NaT      NaN              0               0      0   \n838        TRAINING     NaT      NaN              0               0      0   \n839        TRAINING     NaT      NaN              0               0      0   \n840        TRAINING     NaT      NaN              0               0      0   \n841        TRAINING     NaT      NaN              0               0      0   \n842        TRAINING     NaT      NaN              0               0      0   \n843        TRAINING     NaT      NaN              0               0      0   \n844        TRAINING     NaT      NaN              0               0      0   \n845        TRAINING     NaT      NaN              0               0      0   \n846        TRAINING     NaT      NaN              0               0      0   \n847        TRAINING     NaT      NaN              0               0      0   \n848        TRAINING     NaT      NaN              0               0      0   \n849        TRAINING     NaT      NaN              0               0      0   \n850        TRAINING     NaT      NaN              0               0      0   \n851        TRAINING     NaT      NaN              0               0      0   \n852        TRAINING     NaT      NaN              0               0      0   \n853        TRAINING     NaT      NaN              0               0      0   \n854        TRAINING     NaT      NaN              0               0      0   \n855        TRAINING     NaT      NaN              0               0      0   \n856        TRAINING     NaT      NaN              0               0      0   \n857        TRAINING     NaT      NaN              0               0      0   \n858        TRAINING     NaT      NaN              0               0      0   \n859        TRAINING     NaT      NaN              0               0      0   \n860        TRAINING     NaT      NaN              0               0      0   \n861        TRAINING     NaT      NaN              0               0      0   \n862        TRAINING     NaT      NaN              0               0      0   \n863        TRAINING     NaT      NaN              0               0      0   \n864        TRAINING     NaT      NaN              0               0      0   \n865        TRAINING     NaT      NaN              0               0      0   \n866        TRAINING     NaT      NaN              0               0      0   \n867        TRAINING     NaT      NaN              0               0      0   \n868        TRAINING     NaT      NaN              0               0      0   \n869        TRAINING     NaT      NaN              0               0      0   \n870        TRAINING     NaT      NaN              0               0      0   \n871        TRAINING     NaT      NaN              0               0      0   \n872        TRAINING     NaT      NaN              0               0      0   \n873        TRAINING     NaT      NaN              0               0      0   \n874        TRAINING     NaT      NaN              0               0      0   \n875        TRAINING     NaT      NaN              0               0      0   \n876        TRAINING     NaT      NaN              0               0      0   \n877        TRAINING     NaT      NaN              0               0      0   \n878        TRAINING     NaT      NaN              0               0      0   \n879        TRAINING     NaT      NaN              0               0      0   \n880        TRAINING     NaT      NaN              0               0      0   \n881        TRAINING     NaT      NaN              0               0      0   \n882        TRAINING     NaT      NaN              0               0      0   \n883        TRAINING     NaT      NaN              0               0      0   \n884        TRAINING     NaT      NaN              0               0      0   \n885        TRAINING     NaT      NaN              0               0      0   \n886        TRAINING     NaT      NaN              0               0      0   \n887        TRAINING     NaT      NaN              0               0      0   \n888        TRAINING     NaT      NaN              0               0      0   \n889        TRAINING     NaT      NaN              0               0      0   \n890        TRAINING     NaT      NaN              0               0      0   \n891        TRAINING     NaT      NaN              0               0      0   \n892        TRAINING     NaT      NaN              0               0      0   \n893        TRAINING     NaT      NaN              0               0      0   \n894        TRAINING     NaT      NaN              0               0      0   \n895        TRAINING     NaT      NaN              0               0      0   \n896        TRAINING     NaT      NaN              0               0      0   \n897        TRAINING     NaT      NaN              0               0      0   \n898        TRAINING     NaT      NaN              0               0      0   \n899        TRAINING     NaT      NaN              0               0      0   \n900        TRAINING     NaT      NaN              0               0      0   \n901        TRAINING     NaT      NaN              0               0      0   \n902        TRAINING     NaT      NaN              0               0      0   \n903        TRAINING     NaT      NaN              0               0      0   \n904        TRAINING     NaT      NaN              0               0      0   \n905        TRAINING     NaT      NaN              0               0      0   \n906        TRAINING     NaT      NaN              0               0      0   \n907        TRAINING     NaT      NaN              0               0      0   \n908        TRAINING     NaT      NaN              0               0      0   \n909        TRAINING     NaT      NaN              0               0      0   \n910        TRAINING     NaT      NaN              0               0      0   \n911        TRAINING     NaT      NaN              0               0      0   \n912        TRAINING     NaT      NaN              0               0      0   \n913        TRAINING     NaT      NaN              0               0      0   \n914        TRAINING     NaT      NaN              0               0      0   \n915        TRAINING     NaT      NaN              0               0      0   \n916        TRAINING     NaT      NaN              0               0      0   \n917        TRAINING     NaT      NaN              0               0      0   \n918        TRAINING     NaT      NaN              0               0      0   \n919        TRAINING     NaT      NaN              0               0      0   \n920        TRAINING     NaT      NaN              0               0      0   \n921        TRAINING     NaT      NaN              0               0      0   \n922        TRAINING     NaT      NaN              0               0      0   \n923        TRAINING     NaT      NaN              0               0      0   \n924        TRAINING     NaT      NaN              0               0      0   \n925        TRAINING     NaT      NaN              0               0      0   \n926        TRAINING     NaT      NaN              0               0      0   \n927        TRAINING     NaT      NaN              0               0      0   \n928        TRAINING     NaT      NaN              0               0      0   \n929        TRAINING     NaT      NaN              0               0      0   \n930        TRAINING     NaT      NaN              0               0      0   \n931        TRAINING     NaT      NaN              0               0      0   \n932        TRAINING     NaT      NaN              0               0      0   \n933        TRAINING     NaT      NaN              0               0      0   \n934        TRAINING     NaT      NaN              0               0      0   \n935        TRAINING     NaT      NaN              0               0      0   \n936        TRAINING     NaT      NaN              0               0      0   \n937        TRAINING     NaT      NaN              0               0      0   \n938        TRAINING     NaT      NaN              0               0      0   \n939        TRAINING     NaT      NaN              0               0      0   \n940        TRAINING     NaT      NaN              0               0      0   \n941        TRAINING     NaT      NaN              0               0      0   \n942        TRAINING     NaT      NaN              0               0      0   \n943        TRAINING     NaT      NaN              0               0      0   \n944        TRAINING     NaT      NaN              0               0      0   \n945        TRAINING     NaT      NaN              0               0      0   \n946        TRAINING     NaT      NaN              0               0      0   \n947        TRAINING     NaT      NaN              0               0      0   \n948        TRAINING     NaT      NaN              0               0      0   \n949        TRAINING     NaT      NaN              0               0      0   \n950        TRAINING     NaT      NaN              0               0      0   \n951        TRAINING     NaT      NaN              0               0      0   \n952        TRAINING     NaT      NaN              0               0      0   \n953        TRAINING     NaT      NaN              0               0      0   \n954        TRAINING     NaT      NaN              0               0      0   \n955        TRAINING     NaT      NaN              0               0      0   \n956        TRAINING     NaT      NaN              0               0      0   \n957        TRAINING     NaT      NaN              0               0      0   \n958        TRAINING     NaT      NaN              0               0      0   \n959        TRAINING     NaT      NaN              0               0      0   \n960        TRAINING     NaT      NaN              0               0      0   \n961        TRAINING     NaT      NaN              0               0      0   \n962        TRAINING     NaT      NaN              0               0      0   \n963        TRAINING     NaT      NaN              0               0      0   \n964        TRAINING     NaT      NaN              0               0      0   \n965        TRAINING     NaT      NaN              0               0      0   \n966        TRAINING     NaT      NaN              0               0      0   \n967        TRAINING     NaT      NaN              0               0      0   \n968        TRAINING     NaT      NaN              0               0      0   \n969        TRAINING     NaT      NaN              0               0      0   \n970        TRAINING     NaT      NaN              0               0      0   \n971        TRAINING     NaT      NaN              0               0      0   \n972        TRAINING     NaT      NaN              0               0      0   \n973        TRAINING     NaT      NaN              0               0      0   \n974        TRAINING     NaT      NaN              0               0      0   \n975        TRAINING     NaT      NaN              0               0      0   \n976        TRAINING     NaT      NaN              0               0      0   \n977        TRAINING     NaT      NaN              0               0      0   \n978        TRAINING     NaT      NaN              0               0      0   \n979        TRAINING     NaT      NaN              0               0      0   \n980        TRAINING     NaT      NaN              0               0      0   \n981        TRAINING     NaT      NaN              0               0      0   \n982        TRAINING     NaT      NaN              0               0      0   \n983        TRAINING     NaT      NaN              0               0      0   \n984        TRAINING     NaT      NaN              0               0      0   \n985        TRAINING     NaT      NaN              0               0      0   \n986        TRAINING     NaT      NaN              0               0      0   \n987        TRAINING     NaT      NaN              0               0      0   \n988        TRAINING     NaT      NaN              0               0      0   \n989        TRAINING     NaT      NaN              0               0      0   \n990        TRAINING     NaT      NaN              0               0      0   \n991        TRAINING     NaT      NaN              0               0      0   \n992        TRAINING     NaT      NaN              0               0      0   \n993        TRAINING     NaT      NaN              0               0      0   \n994        TRAINING     NaT      NaN              0               0      0   \n995        TRAINING     NaT      NaN              0               0      0   \n996        TRAINING     NaT      NaN              0               0      0   \n997        TRAINING     NaT      NaN              0               0      0   \n998        TRAINING     NaT      NaN              0               0      0   \n999        TRAINING     NaT      NaN              0               0      0   \n1000       TRAINING     NaT      NaN              0               0      0   \n1001       TRAINING     NaT      NaN              0               0      0   \n1002       TRAINING     NaT      NaN              0               0      0   \n1003       TRAINING     NaT      NaN              0               0      0   \n1004       TRAINING     NaT      NaN              0               0      0   \n1005       TRAINING     NaT      NaN              0               0      0   \n1006       TRAINING     NaT      NaN              0               0      0   \n1007       TRAINING     NaT      NaN              0               0      0   \n1008       TRAINING     NaT      NaN              0               0      0   \n1009       TRAINING     NaT      NaN              0               0      0   \n1010       TRAINING     NaT      NaN              0               0      0   \n1011       TRAINING     NaT      NaN              0               0      0   \n1012       TRAINING     NaT      NaN              0               0      0   \n1013       TRAINING     NaT      NaN              0               0      0   \n1014       TRAINING     NaT      NaN              0               0      0   \n1015       TRAINING     NaT      NaN              0               0      0   \n1016       TRAINING     NaT      NaN              0               0      0   \n1017       TRAINING     NaT      NaN              0               0      0   \n1018       TRAINING     NaT      NaN              0               0      0   \n1019       TRAINING     NaT      NaN              0               0      0   \n1020       TRAINING     NaT      NaN              0               0      0   \n1021       TRAINING     NaT      NaN              0               0      0   \n1022       TRAINING     NaT      NaN              0               0      0   \n1023       TRAINING     NaT      NaN              0               0      0   \n1024       TRAINING     NaT      NaN              0               0      0   \n1025       TRAINING     NaT      NaN              0               0      0   \n1026       TRAINING     NaT      NaN              0               0      0   \n1027       TRAINING     NaT      NaN              0               0      0   \n1028       TRAINING     NaT      NaN              0               0      0   \n1029       TRAINING     NaT      NaN              0               0      0   \n1030       TRAINING     NaT      NaN              0               0      0   \n1031       TRAINING     NaT      NaN              0               0      0   \n1032       TRAINING     NaT      NaN              0               0      0   \n1033       TRAINING 27 days     27.0              0               0      0   \n1034       TRAINING 27 days     27.0              0               0      0   \n1035       TRAINING 27 days     27.0              0               0      0   \n1036       TRAINING 27 days     27.0              0               0      0   \n1037       TRAINING 27 days     27.0              0               0      0   \n1038       TRAINING 27 days     27.0              0               0      0   \n1039       TRAINING 27 days     27.0              0               0      0   \n1040       TRAINING 27 days     27.0              0               0      0   \n1041       TRAINING 27 days     27.0              0               0      0   \n1042       TRAINING 27 days     27.0              0               0      0   \n1043       TRAINING 27 days     27.0              0               0      0   \n1044       TRAINING 27 days     27.0              0               0      0   \n1045       TRAINING 27 days     27.0              0               0      0   \n1046       TRAINING 27 days     27.0              0               0      0   \n1047       TRAINING 27 days     27.0              0               0      0   \n1048       TRAINING 27 days     27.0              0               0      0   \n1049       TRAINING 27 days     27.0              0               0      0   \n1050       TRAINING 27 days     27.0              0               0      0   \n1051       TRAINING 27 days     27.0              0               0      0   \n1052       TRAINING 27 days     27.0              0               0      0   \n1053       TRAINING 27 days     27.0              0               0      0   \n1054       TRAINING 27 days     27.0              0               0      0   \n1055       TRAINING 27 days     27.0              0               0      0   \n1056       TRAINING 27 days     27.0              0               0      0   \n1057       TRAINING 27 days     27.0              0               0      0   \n1058       TRAINING 27 days     27.0              0               0      0   \n1059       TRAINING 27 days     27.0              0               0      0   \n1060       TRAINING 27 days     27.0              1               0      0   \n1061       TRAINING 27 days     27.0              0               0      0   \n1062       TRAINING 27 days     27.0              0               0      0   \n1063       TRAINING 27 days     27.0              0               0      0   \n1064       TRAINING 27 days     27.0              0               0      0   \n1065       TRAINING 27 days     27.0              0               0      0   \n1066       TRAINING 27 days     27.0              0               0      0   \n1067       TRAINING 27 days     27.0              0               0      0   \n1068       TRAINING 27 days     27.0              0               0      0   \n1069       TRAINING 27 days     27.0              0               0      0   \n1070       TRAINING 27 days     27.0              0               0      0   \n1071       TRAINING 27 days     27.0              0               0      0   \n1072       TRAINING 27 days     27.0              0               0      0   \n1073       TRAINING 27 days     27.0              0               0      0   \n1074       TRAINING 27 days     27.0              0               0      0   \n1075       TRAINING 27 days     27.0              0               0      0   \n1076       TRAINING 27 days     27.0              0               0      0   \n1077       TRAINING 27 days     27.0              0               0      0   \n1078       TRAINING 27 days     27.0              0               0      0   \n1079       TRAINING 27 days     27.0              0               0      0   \n1080       TRAINING 27 days     27.0              0               0      0   \n1081       TRAINING 27 days     27.0              0               0      0   \n1082       TRAINING 27 days     27.0              0               0      0   \n1083       TRAINING 27 days     27.0              0               0      0   \n1084       TRAINING 27 days     27.0              0               0      0   \n1085       TRAINING 27 days     27.0              0               0      0   \n1086       TRAINING 27 days     27.0              0               0      0   \n1087       TRAINING 27 days     27.0              0               0      0   \n1088       TRAINING 27 days     27.0              0               0      0   \n1089       TRAINING 27 days     27.0              0               0      0   \n1090       TRAINING 27 days     27.0              0               0      0   \n1091       TRAINING 27 days     27.0              0               0      0   \n1092       TRAINING 27 days     27.0              0               0      0   \n1093       TRAINING 27 days     27.0              0               0      0   \n1094       TRAINING 27 days     27.0              0               0      0   \n1095       TRAINING 27 days     27.0              0               0      0   \n1096       TRAINING 27 days     27.0              0               0      0   \n1097       TRAINING 27 days     27.0              0               0      0   \n1098       TRAINING 27 days     27.0              0               0      0   \n1099       TRAINING 27 days     27.0              0               0      0   \n1100       TRAINING 27 days     27.0              0               0      0   \n1101       TRAINING 27 days     27.0              0               0      0   \n1102       TRAINING 27 days     27.0              0               0      0   \n1103       TRAINING 27 days     27.0              0               0      0   \n1104       TRAINING 27 days     27.0              0               0      0   \n1105       TRAINING 27 days     27.0              0               0      0   \n1106       TRAINING 27 days     27.0              0               0      0   \n1107       TRAINING 27 days     27.0              0               0      0   \n1108       TRAINING 27 days     27.0              0               0      0   \n1109       TRAINING 27 days     27.0              0               0      0   \n1110       TRAINING 27 days     27.0              0               0      0   \n1111       TRAINING 27 days     27.0              0               0      0   \n1112       TRAINING 27 days     27.0              0               0      0   \n1113       TRAINING 27 days     27.0              0               0      0   \n1114       TRAINING 27 days     27.0              0               0      0   \n1115       TRAINING 27 days     27.0              0               0      0   \n1116       TRAINING 27 days     27.0              0               0      0   \n1117       TRAINING 27 days     27.0              0               0      0   \n1118       TRAINING 27 days     27.0              0               0      0   \n1119       TRAINING 27 days     27.0              0               0      0   \n1120       TRAINING 27 days     27.0              0               0      0   \n1121       TRAINING 27 days     27.0              0               0      0   \n1122       TRAINING 27 days     27.0              0               0      0   \n1123       TRAINING 27 days     27.0              0               0      0   \n1124       TRAINING 27 days     27.0              0               0      0   \n1125       TRAINING 27 days     27.0              0               0      0   \n1126       TRAINING 27 days     27.0              0               0      0   \n1127       TRAINING 27 days     27.0              0               0      0   \n1128       TRAINING 27 days     27.0              0               0      0   \n1129       TRAINING 27 days     27.0              0               0      0   \n1130       TRAINING 27 days     27.0              0               0      0   \n1131       TRAINING 27 days     27.0              0               0      0   \n1132       TRAINING 27 days     27.0              0               0      0   \n1133       TRAINING 27 days     27.0              0               0      0   \n1134       TRAINING 27 days     27.0              0               0      0   \n1135       TRAINING 27 days     27.0              0               0      0   \n1136       TRAINING 27 days     27.0              0               0      0   \n1137       TRAINING 27 days     27.0              0               0      0   \n1138       TRAINING 27 days     27.0              0               0      0   \n1139       TRAINING 27 days     27.0              0               0      0   \n1140       TRAINING 27 days     27.0              0               0      0   \n1141       TRAINING 27 days     27.0              0               0      0   \n1142       TRAINING 27 days     27.0              0               0      0   \n1143       TRAINING 27 days     27.0              0               0      0   \n1144       TRAINING 27 days     27.0              0               0      0   \n1145       TRAINING 27 days     27.0              0               0      0   \n1146       TRAINING 27 days     27.0              0               0      0   \n1147       TRAINING 27 days     27.0              0               0      0   \n1148       TRAINING 27 days     27.0              0               0      0   \n1149       TRAINING 27 days     27.0              0               0      0   \n1150       TRAINING 27 days     27.0              0               0      0   \n1151       TRAINING 27 days     27.0              0               0      0   \n1152       TRAINING 27 days     27.0              0               0      0   \n1153       TRAINING 27 days     27.0              0               0      0   \n1154       TRAINING 27 days     27.0              0               0      0   \n1155       TRAINING 27 days     27.0              0               0      0   \n1156       TRAINING 27 days     27.0              0               0      0   \n1157       TRAINING 27 days     27.0              0               0      0   \n1158       TRAINING 27 days     27.0              0               0      0   \n1159       TRAINING 27 days     27.0              0               0      0   \n1160       TRAINING 27 days     27.0              0               0      0   \n1161       TRAINING 27 days     27.0              0               0      0   \n1162       TRAINING 27 days     27.0              0               0      0   \n1163       TRAINING 27 days     27.0              0               0      0   \n1164       TRAINING 27 days     27.0              0               0      0   \n1165       TRAINING 27 days     27.0              0               0      0   \n1166       TRAINING 27 days     27.0              0               0      0   \n1167       TRAINING 27 days     27.0              0               0      0   \n1168       TRAINING 27 days     27.0              0               0      0   \n1169       TRAINING 27 days     27.0              0               0      0   \n1170       TRAINING 27 days     27.0              0               0      0   \n1171       TRAINING 27 days     27.0              0               0      0   \n1172       TRAINING 27 days     27.0              0               0      0   \n1173       TRAINING 27 days     27.0              0               0      0   \n1174       TRAINING 27 days     27.0              0               0      0   \n1175       TRAINING 27 days     27.0              0               0      0   \n1176       TRAINING 27 days     27.0              0               0      0   \n1177       TRAINING 27 days     27.0              0               0      0   \n1178       TRAINING 27 days     27.0              0               0      0   \n1179       TRAINING 27 days     27.0              0               0      0   \n1180       TRAINING 27 days     27.0              0               0      0   \n1181       TRAINING 27 days     27.0              0               0      0   \n1182       TRAINING 27 days     27.0              0               0      0   \n1183       TRAINING 27 days     27.0              0               0      0   \n1184       TRAINING 27 days     27.0              0               0      0   \n1185       TRAINING 27 days     27.0              0               0      0   \n1186       TRAINING 27 days     27.0              0               0      0   \n1187       TRAINING 27 days     27.0              0               0      0   \n1188       TRAINING 27 days     27.0              0               0      0   \n1189       TRAINING 27 days     27.0              0               0      0   \n1190       TRAINING 27 days     27.0              0               0      0   \n1191       TRAINING 27 days     27.0              0               0      0   \n1192       TRAINING 27 days     27.0              0               0      0   \n1193       TRAINING 27 days     27.0              0               0      0   \n1194       TRAINING 27 days     27.0              0               0      0   \n1195       TRAINING 27 days     27.0              0               0      0   \n1196       TRAINING 27 days     27.0              0               0      0   \n1197       TRAINING 27 days     27.0              0               0      0   \n1198       TRAINING 27 days     27.0              0               0      0   \n1199       TRAINING 27 days     27.0              0               0      0   \n1200       TRAINING 27 days     27.0              0               0      0   \n1201       TRAINING 27 days     27.0              0               0      0   \n1202       TRAINING 27 days     27.0              0               0      0   \n1203       TRAINING 27 days     27.0              0               0      0   \n1204       TRAINING 27 days     27.0              0               0      0   \n1205       TRAINING 27 days     27.0              0               0      0   \n1206       TRAINING 27 days     27.0              0               0      0   \n1207       TRAINING 27 days     27.0              0               0      0   \n1208       TRAINING 27 days     27.0              0               0      0   \n1209       TRAINING 27 days     27.0              0               0      0   \n1210       TRAINING 27 days     27.0              0               0      0   \n1211       TRAINING 27 days     27.0              0               0      0   \n1212       TRAINING 27 days     27.0              0               0      0   \n1213       TRAINING 27 days     27.0              0               0      0   \n1214       TRAINING 27 days     27.0              0               0      0   \n1215       TRAINING 27 days     27.0              0               0      0   \n1216       TRAINING 27 days     27.0              0               0      0   \n1217       TRAINING 27 days     27.0              0               0      0   \n1218       TRAINING 27 days     27.0              0               0      0   \n1219       TRAINING 27 days     27.0              0               0      0   \n1220       TRAINING 27 days     27.0              0               0      0   \n1221       TRAINING 27 days     27.0              0               0      0   \n1222       TRAINING 27 days     27.0              0               0      0   \n1223       TRAINING 27 days     27.0              0               0      0   \n1224       TRAINING 27 days     27.0              0               0      0   \n1225       TRAINING 27 days     27.0              0               0      0   \n1226       TRAINING 27 days     27.0              0               0      0   \n1227       TRAINING 27 days     27.0              0               0      0   \n1228       TRAINING 27 days     27.0              0               0      0   \n1229       TRAINING 27 days     27.0              0               0      0   \n1230       TRAINING 27 days     27.0              0               0      0   \n1231       TRAINING 27 days     27.0              0               0      0   \n1232       TRAINING 27 days     27.0              0               0      0   \n1233       TRAINING 27 days     27.0              0               0      0   \n1234       TRAINING 27 days     27.0              0               0      0   \n1235       TRAINING 27 days     27.0              0               0      0   \n1236       TRAINING 27 days     27.0              0               0      0   \n1237       TRAINING 27 days     27.0              0               0      0   \n1238       TRAINING 27 days     27.0              0               0      0   \n1239       TRAINING 27 days     27.0              0               0      0   \n1240       TRAINING 27 days     27.0              0               0      0   \n1241       TRAINING 27 days     27.0              0               0      0   \n1242       TRAINING 27 days     27.0              0               0      0   \n1243       TRAINING 27 days     27.0              0               0      0   \n1244       TRAINING 27 days     27.0              0               0      0   \n1245       TRAINING 27 days     27.0              0               0      0   \n1246       TRAINING 27 days     27.0              0               0      0   \n1247       TRAINING 27 days     27.0              0               0      0   \n1248       TRAINING 27 days     27.0              0               0      0   \n1249       TRAINING 27 days     27.0              0               0      0   \n1250       TRAINING 27 days     27.0              0               0      0   \n1251       TRAINING 27 days     27.0              0               0      0   \n1252       TRAINING 27 days     27.0              0               0      0   \n1253       TRAINING 27 days     27.0              0               0      0   \n1254       TRAINING 27 days     27.0              0               0      0   \n1255       TRAINING 27 days     27.0              0               0      0   \n1256       TRAINING 27 days     27.0              0               0      0   \n1257       TRAINING 27 days     27.0              0               0      0   \n1258       TRAINING 27 days     27.0              0               0      0   \n1259       TRAINING 27 days     27.0              0               0      0   \n1260       TRAINING 27 days     27.0              0               0      0   \n1261       TRAINING 27 days     27.0              0               0      0   \n1262       TRAINING 27 days     27.0              0               0      0   \n1263       TRAINING 27 days     27.0              0               0      0   \n1264       TRAINING 27 days     27.0              0               0      0   \n1265       TRAINING 27 days     27.0              0               0      0   \n1266       TRAINING 27 days     27.0              0               0      0   \n1267       TRAINING 27 days     27.0              0               0      0   \n1268       TRAINING 27 days     27.0              0               0      0   \n1269       TRAINING 27 days     27.0              0               0      0   \n1270       TRAINING 27 days     27.0              0               0      0   \n1271       TRAINING 27 days     27.0              0               0      0   \n1272       TRAINING 27 days     27.0              0               0      0   \n1273       TRAINING 27 days     27.0              0               0      0   \n1274       TRAINING 27 days     27.0              0               0      0   \n1275       TRAINING 27 days     27.0              0               0      0   \n1276       TRAINING 27 days     27.0              0               0      0   \n1277       TRAINING 27 days     27.0              0               0      0   \n1278       TRAINING 27 days     27.0              0               0      0   \n1279       TRAINING 27 days     27.0              0               0      0   \n1280       TRAINING 27 days     27.0              0               0      0   \n1281       TRAINING 27 days     27.0              0               0      0   \n1282       TRAINING 27 days     27.0              0               0      0   \n1283       TRAINING 27 days     27.0              0               0      0   \n1284       TRAINING 27 days     27.0              0               0      0   \n1285       TRAINING 27 days     27.0              0               0      0   \n1286       TRAINING 27 days     27.0              0               0      0   \n1287       TRAINING 27 days     27.0              0               0      0   \n1288       TRAINING 27 days     27.0              0               0      0   \n1289       TRAINING 27 days     27.0              0               0      0   \n1290       TRAINING 27 days     27.0              0               0      0   \n1291       TRAINING 27 days     27.0              0               0      0   \n1292       TRAINING 27 days     27.0              0               0      0   \n1293       TRAINING 27 days     27.0              0               0      0   \n1294       TRAINING 27 days     27.0              0               0      0   \n1295       TRAINING 27 days     27.0              0               0      0   \n1296       TRAINING 27 days     27.0              0               0      0   \n1297       TRAINING 27 days     27.0              0               0      0   \n1298       TRAINING 27 days     27.0              0               0      0   \n1299       TRAINING 27 days     27.0              0               0      0   \n1300       TRAINING 27 days     27.0              0               0      0   \n1301       TRAINING 27 days     27.0              0               0      0   \n1302       TRAINING 27 days     27.0              0               0      0   \n1303       TRAINING 27 days     27.0              0               0      0   \n1304       TRAINING 27 days     27.0              0               0      0   \n1305       TRAINING 27 days     27.0              0               0      0   \n1306       TRAINING 27 days     27.0              0               0      0   \n1307       TRAINING 27 days     27.0              0               0      0   \n1308       TRAINING 27 days     27.0              0               0      0   \n1309       TRAINING 27 days     27.0              0               0      0   \n1310       TRAINING 27 days     27.0              0               0      0   \n1311       TRAINING 27 days     27.0              0               0      0   \n1312       TRAINING 27 days     27.0              0               0      0   \n1313       TRAINING 27 days     27.0              0               0      0   \n1314       TRAINING 27 days     27.0              0               0      0   \n1315       TRAINING 27 days     27.0              0               0      0   \n1316       TRAINING 27 days     27.0              0               0      0   \n1317       TRAINING 27 days     27.0              0               0      0   \n1318       TRAINING 27 days     27.0              0               0      0   \n1319       TRAINING 27 days     27.0              0               0      0   \n1320       TRAINING 27 days     27.0              0               0      0   \n1321       TRAINING 27 days     27.0              0               0      0   \n1322       TRAINING 27 days     27.0              0               0      0   \n1323       TRAINING 27 days     27.0              0               0      0   \n1324       TRAINING 27 days     27.0              0               0      0   \n1325       TRAINING 27 days     27.0              0               0      0   \n1326       TRAINING 27 days     27.0              0               0      0   \n1327       TRAINING 27 days     27.0              0               0      0   \n1328       TRAINING 27 days     27.0              0               0      0   \n1329       TRAINING 27 days     27.0              0               0      0   \n1330       TRAINING 27 days     27.0              0               0      0   \n1331       TRAINING 27 days     27.0              0               0      0   \n1332       TRAINING 27 days     27.0              0               0      0   \n1333       TRAINING 27 days     27.0              0               0      0   \n1334       TRAINING 27 days     27.0              0               0      0   \n1335       TRAINING 27 days     27.0              0               0      0   \n1336       TRAINING 27 days     27.0              0               0      0   \n1337       TRAINING 27 days     27.0              0               0      0   \n1338       TRAINING 27 days     27.0              0               0      0   \n1339       TRAINING 27 days     27.0              0               0      0   \n1340       TRAINING 27 days     27.0              0               0      0   \n1341       TRAINING 27 days     27.0              0               0      0   \n1342       TRAINING 27 days     27.0              0               0      0   \n1343       TRAINING 27 days     27.0              0               0      0   \n1344       TRAINING 27 days     27.0              0               0      0   \n1345       TRAINING 27 days     27.0              0               0      0   \n1346       TRAINING 27 days     27.0              0               0      0   \n1347       TRAINING 27 days     27.0              0               0      0   \n1348       TRAINING 27 days     27.0              0               0      0   \n1349       TRAINING 27 days     27.0              0               0      0   \n1350       TRAINING 27 days     27.0              0               0      0   \n1351       TRAINING 27 days     27.0              0               0      0   \n1352       TRAINING 27 days     27.0              0               0      0   \n1353       TRAINING 27 days     27.0              0               0      0   \n1354       TRAINING 27 days     27.0              0               0      0   \n1355       TRAINING 27 days     27.0              0               0      0   \n1356       TRAINING 27 days     27.0              0               0      0   \n1357       TRAINING 27 days     27.0              0               0      0   \n1358       TRAINING 27 days     27.0              0               0      0   \n1359       TRAINING 27 days     27.0              0               0      0   \n1360       TRAINING 27 days     27.0              0               0      0   \n1361       TRAINING 27 days     27.0              0               0      0   \n1362       TRAINING 27 days     27.0              0               0      0   \n1363       TRAINING 27 days     27.0              0               0      0   \n1364       TRAINING 27 days     27.0              0               0      0   \n1365       TRAINING 27 days     27.0              0               0      0   \n1366       TRAINING 27 days     27.0              0               0      0   \n1367       TRAINING 27 days     27.0              0               0      0   \n1368       TRAINING 27 days     27.0              0               0      0   \n1369       TRAINING 27 days     27.0              0               0      0   \n1370       TRAINING 27 days     27.0              0               0      0   \n1371       TRAINING 27 days     27.0              0               0      0   \n1372       TRAINING 27 days     27.0              0               0      0   \n1373       TRAINING 27 days     27.0              0               0      0   \n1374       TRAINING 27 days     27.0              0               0      0   \n1375       TRAINING 27 days     27.0              0               0      0   \n1376       TRAINING 27 days     27.0              0               0      0   \n1377       TRAINING 27 days     27.0              0               0      0   \n1378       TRAINING 27 days     27.0              0               0      0   \n1379       TRAINING 27 days     27.0              0               0      0   \n1380       TRAINING 27 days     27.0              0               0      0   \n1381       TRAINING 27 days     27.0              0               0      0   \n1382       TRAINING 27 days     27.0              0               0      0   \n1383       TRAINING 27 days     27.0              0               0      0   \n1384       TRAINING 27 days     27.0              0               0      0   \n1385       TRAINING 27 days     27.0              0               0      0   \n1386       TRAINING 27 days     27.0              0               0      0   \n1387       TRAINING 27 days     27.0              0               0      0   \n1388       TRAINING 27 days     27.0              0               0      0   \n1389       TRAINING 27 days     27.0              0               0      0   \n1390       TRAINING 27 days     27.0              0               0      0   \n1391       TRAINING 27 days     27.0              0               0      0   \n1392       TRAINING 27 days     27.0              0               0      0   \n1393       TRAINING 27 days     27.0              0               0      0   \n1394       TRAINING 27 days     27.0              0               0      0   \n1395       TRAINING 27 days     27.0              0               0      0   \n1396       TRAINING 27 days     27.0              0               0      0   \n1397       TRAINING 27 days     27.0              0               0      0   \n1398       TRAINING 27 days     27.0              0               0      0   \n1399       TRAINING 27 days     27.0              0               0      0   \n1400       TRAINING 27 days     27.0              0               0      0   \n1401       TRAINING 27 days     27.0              0               0      0   \n1402       TRAINING 27 days     27.0              0               0      0   \n1403       TRAINING 27 days     27.0              0               0      0   \n1404       TRAINING 27 days     27.0              0               0      0   \n1405       TRAINING 27 days     27.0              0               0      0   \n1406       TRAINING 27 days     27.0              0               0      0   \n1407       TRAINING 27 days     27.0              0               0      0   \n1408       TRAINING 27 days     27.0              0               0      0   \n1409       TRAINING 27 days     27.0              0               0      0   \n1410       TRAINING 27 days     27.0              0               0      0   \n1411       TRAINING 27 days     27.0              0               0      0   \n1412       TRAINING 27 days     27.0              0               0      0   \n1413       TRAINING 27 days     27.0              0               0      0   \n1414       TRAINING 27 days     27.0              0               0      0   \n1415       TRAINING 27 days     27.0              0               0      0   \n1416       TRAINING 27 days     27.0              0               0      0   \n1417       TRAINING 27 days     27.0              0               0      0   \n1418       TRAINING 27 days     27.0              0               0      0   \n1419       TRAINING 27 days     27.0              0               0      0   \n1420       TRAINING 27 days     27.0              0               0      0   \n1421       TRAINING 27 days     27.0              0               0      0   \n1422       TRAINING 27 days     27.0              0               0      0   \n1423       TRAINING 27 days     27.0              0               0      0   \n1424       TRAINING 27 days     27.0              0               0      0   \n1425       TRAINING 27 days     27.0              0               0      0   \n1426       TRAINING 27 days     27.0              0               0      0   \n1427       TRAINING 27 days     27.0              0               0      0   \n1428       TRAINING 27 days     27.0              0               0      0   \n1429       TRAINING 27 days     27.0              0               0      0   \n1430       TRAINING 27 days     27.0              0               0      0   \n1431       TRAINING 27 days     27.0              0               0      0   \n1432       TRAINING 27 days     27.0              0               0      0   \n1433       TRAINING 27 days     27.0              0               0      0   \n1434       TRAINING 27 days     27.0              0               0      0   \n1435       TRAINING 27 days     27.0              0               0      0   \n1436       TRAINING 27 days     27.0              0               0      0   \n1437       TRAINING 27 days     27.0              0               0      0   \n1438       TRAINING 27 days     27.0              0               0      0   \n1439       TRAINING 27 days     27.0              0               0      0   \n1440       TRAINING 27 days     27.0              0               0      0   \n1441       TRAINING 27 days     27.0              0               0      0   \n1442       TRAINING 27 days     27.0              0               0      0   \n1443       TRAINING 27 days     27.0              0               0      0   \n1444       TRAINING 27 days     27.0              0               0      0   \n1445       TRAINING 27 days     27.0              0               0      0   \n1446       TRAINING 27 days     27.0              0               0      0   \n1447       TRAINING 27 days     27.0              0               0      0   \n1448       TRAINING 27 days     27.0              0               0      0   \n1449       TRAINING 27 days     27.0              0               0      0   \n1450       TRAINING 27 days     27.0              0               0      0   \n1451       TRAINING 27 days     27.0              0               0      0   \n1452       TRAINING 27 days     27.0              0               0      0   \n1453       TRAINING 27 days     27.0              0               0      0   \n1454       TRAINING 27 days     27.0              0               0      0   \n1455       TRAINING 27 days     27.0              0               0      0   \n1456       TRAINING 27 days     27.0              0               0      0   \n1457       TRAINING 27 days     27.0              0               0      0   \n1458       TRAINING 27 days     27.0              0               0      0   \n1459       TRAINING 27 days     27.0              0               0      0   \n1460       TRAINING 27 days     27.0              0               0      0   \n1461       TRAINING 27 days     27.0              0               0      0   \n\n      FALSE_POSITIVE  bootie       CATEGORY  \n731                0       1  TRUE_NEGATIVE  \n732                0       1  TRUE_NEGATIVE  \n733                0       1  TRUE_NEGATIVE  \n734                0       1  TRUE_NEGATIVE  \n735                0       1  TRUE_NEGATIVE  \n736                0       1  TRUE_NEGATIVE  \n737                0       1  TRUE_NEGATIVE  \n738                0       1  TRUE_NEGATIVE  \n739                0       1  TRUE_NEGATIVE  \n740                0       1  TRUE_NEGATIVE  \n741                0       1  TRUE_NEGATIVE  \n742                0       1  TRUE_NEGATIVE  \n743                0       1  TRUE_NEGATIVE  \n744                0       1  TRUE_NEGATIVE  \n745                0       1  TRUE_NEGATIVE  \n746                0       1  TRUE_NEGATIVE  \n747                0       1  TRUE_NEGATIVE  \n748                0       1  TRUE_NEGATIVE  \n749                0       1  TRUE_NEGATIVE  \n750                0       1  TRUE_NEGATIVE  \n751                0       1  TRUE_NEGATIVE  \n752                0       1  TRUE_NEGATIVE  \n753                0       1  TRUE_NEGATIVE  \n754                0       1  TRUE_NEGATIVE  \n755                0       1  TRUE_NEGATIVE  \n756                0       1  TRUE_NEGATIVE  \n757                0       1  TRUE_NEGATIVE  \n758                0       1  TRUE_NEGATIVE  \n759                0       1  TRUE_NEGATIVE  \n760                0       1  TRUE_NEGATIVE  \n761                0       1  TRUE_NEGATIVE  \n762                0       1  TRUE_NEGATIVE  \n763                0       1  TRUE_NEGATIVE  \n764                0       1  TRUE_NEGATIVE  \n765                0       1  TRUE_NEGATIVE  \n766                0       1  TRUE_NEGATIVE  \n767                0       1  TRUE_NEGATIVE  \n768                0       1  TRUE_NEGATIVE  \n769                0       1  TRUE_NEGATIVE  \n770                0       1  TRUE_NEGATIVE  \n771                0       1  TRUE_NEGATIVE  \n772                0       1  TRUE_NEGATIVE  \n773                0       1  TRUE_NEGATIVE  \n774                0       1  TRUE_NEGATIVE  \n775                0       1  TRUE_NEGATIVE  \n776                0       1  TRUE_NEGATIVE  \n777                0       1  TRUE_NEGATIVE  \n778                0       1  TRUE_NEGATIVE  \n779                0       1  TRUE_NEGATIVE  \n780                0       1  TRUE_NEGATIVE  \n781                0       1  TRUE_NEGATIVE  \n782                0       1  TRUE_NEGATIVE  \n783                0       1  TRUE_NEGATIVE  \n784                0       1  TRUE_NEGATIVE  \n785                0       1  TRUE_NEGATIVE  \n786                0       1  TRUE_NEGATIVE  \n787                0       1  TRUE_NEGATIVE  \n788                0       1  TRUE_NEGATIVE  \n789                0       1  TRUE_NEGATIVE  \n790                0       1  TRUE_NEGATIVE  \n791                0       1  TRUE_NEGATIVE  \n792                0       1  TRUE_NEGATIVE  \n793                0       1  TRUE_NEGATIVE  \n794                0       1  TRUE_NEGATIVE  \n795                0       1  TRUE_NEGATIVE  \n796                0       1  TRUE_NEGATIVE  \n797                0       1  TRUE_NEGATIVE  \n798                0       1  TRUE_NEGATIVE  \n799                0       1  TRUE_NEGATIVE  \n800                0       1  TRUE_NEGATIVE  \n801                0       1  TRUE_NEGATIVE  \n802                0       1  TRUE_NEGATIVE  \n803                0       1  TRUE_NEGATIVE  \n804                0       1  TRUE_NEGATIVE  \n805                0       1  TRUE_NEGATIVE  \n806                0       1  TRUE_NEGATIVE  \n807                0       1  TRUE_NEGATIVE  \n808                0       1  TRUE_NEGATIVE  \n809                0       1  TRUE_NEGATIVE  \n810                0       1  TRUE_NEGATIVE  \n811                0       1  TRUE_NEGATIVE  \n812                0       1  TRUE_NEGATIVE  \n813                0       1  TRUE_NEGATIVE  \n814                0       1  TRUE_NEGATIVE  \n815                0       1  TRUE_NEGATIVE  \n816                0       1  TRUE_NEGATIVE  \n817                0       1  TRUE_NEGATIVE  \n818                0       1  TRUE_NEGATIVE  \n819                0       1  TRUE_NEGATIVE  \n820                0       1  TRUE_NEGATIVE  \n821                0       1  TRUE_NEGATIVE  \n822                0       1  TRUE_NEGATIVE  \n823                0       1  TRUE_NEGATIVE  \n824                0       1  TRUE_NEGATIVE  \n825                0       1  TRUE_NEGATIVE  \n826                0       1  TRUE_NEGATIVE  \n827                0       1  TRUE_NEGATIVE  \n828                0       1  TRUE_NEGATIVE  \n829                0       1  TRUE_NEGATIVE  \n830                0       1  TRUE_NEGATIVE  \n831                0       1  TRUE_NEGATIVE  \n832                0       1  TRUE_NEGATIVE  \n833                0       1  TRUE_NEGATIVE  \n834                0       1  TRUE_NEGATIVE  \n835                0       1  TRUE_NEGATIVE  \n836                0       1  TRUE_NEGATIVE  \n837                0       1  TRUE_NEGATIVE  \n838                0       1  TRUE_NEGATIVE  \n839                0       1  TRUE_NEGATIVE  \n840                0       1  TRUE_NEGATIVE  \n841                0       1  TRUE_NEGATIVE  \n842                0       1  TRUE_NEGATIVE  \n843                0       1  TRUE_NEGATIVE  \n844                0       1  TRUE_NEGATIVE  \n845                0       1  TRUE_NEGATIVE  \n846                0       1  TRUE_NEGATIVE  \n847                0       1  TRUE_NEGATIVE  \n848                0       1  TRUE_NEGATIVE  \n849                0       1  TRUE_NEGATIVE  \n850                0       1  TRUE_NEGATIVE  \n851                0       1  TRUE_NEGATIVE  \n852                0       1  TRUE_NEGATIVE  \n853                0       1  TRUE_NEGATIVE  \n854                0       1  TRUE_NEGATIVE  \n855                0       1  TRUE_NEGATIVE  \n856                0       1  TRUE_NEGATIVE  \n857                0       1  TRUE_NEGATIVE  \n858                0       1  TRUE_NEGATIVE  \n859                0       1  TRUE_NEGATIVE  \n860                0       1  TRUE_NEGATIVE  \n861                0       1  TRUE_NEGATIVE  \n862                0       1  TRUE_NEGATIVE  \n863                0       1  TRUE_NEGATIVE  \n864                0       1  TRUE_NEGATIVE  \n865                0       1  TRUE_NEGATIVE  \n866                0       1  TRUE_NEGATIVE  \n867                0       1  TRUE_NEGATIVE  \n868                0       1  TRUE_NEGATIVE  \n869                0       1  TRUE_NEGATIVE  \n870                0       1  TRUE_NEGATIVE  \n871                0       1  TRUE_NEGATIVE  \n872                0       1  TRUE_NEGATIVE  \n873                0       1  TRUE_NEGATIVE  \n874                0       1  TRUE_NEGATIVE  \n875                0       1  TRUE_NEGATIVE  \n876                0       1  TRUE_NEGATIVE  \n877                0       1  TRUE_NEGATIVE  \n878                0       1  TRUE_NEGATIVE  \n879                0       1  TRUE_NEGATIVE  \n880                0       1  TRUE_NEGATIVE  \n881                0       1  TRUE_NEGATIVE  \n882                0       1  TRUE_NEGATIVE  \n883                0       1  TRUE_NEGATIVE  \n884                0       1  TRUE_NEGATIVE  \n885                0       1  TRUE_NEGATIVE  \n886                0       1  TRUE_NEGATIVE  \n887                0       1  TRUE_NEGATIVE  \n888                0       1  TRUE_NEGATIVE  \n889                0       1  TRUE_NEGATIVE  \n890                0       1  TRUE_NEGATIVE  \n891                0       1  TRUE_NEGATIVE  \n892                0       1  TRUE_NEGATIVE  \n893                0       1  TRUE_NEGATIVE  \n894                0       1  TRUE_NEGATIVE  \n895                0       1  TRUE_NEGATIVE  \n896                0       1  TRUE_NEGATIVE  \n897                0       1  TRUE_NEGATIVE  \n898                0       1  TRUE_NEGATIVE  \n899                0       1  TRUE_NEGATIVE  \n900                0       1  TRUE_NEGATIVE  \n901                0       1  TRUE_NEGATIVE  \n902                0       1  TRUE_NEGATIVE  \n903                0       1  TRUE_NEGATIVE  \n904                0       1  TRUE_NEGATIVE  \n905                0       1  TRUE_NEGATIVE  \n906                0       1  TRUE_NEGATIVE  \n907                0       1  TRUE_NEGATIVE  \n908                0       1  TRUE_NEGATIVE  \n909                0       1  TRUE_NEGATIVE  \n910                0       1  TRUE_NEGATIVE  \n911                0       1  TRUE_NEGATIVE  \n912                0       1  TRUE_NEGATIVE  \n913                0       1  TRUE_NEGATIVE  \n914                0       1  TRUE_NEGATIVE  \n915                0       1  TRUE_NEGATIVE  \n916                0       1  TRUE_NEGATIVE  \n917                0       1  TRUE_NEGATIVE  \n918                0       1  TRUE_NEGATIVE  \n919                0       1  TRUE_NEGATIVE  \n920                0       1  TRUE_NEGATIVE  \n921                0       1  TRUE_NEGATIVE  \n922                0       1  TRUE_NEGATIVE  \n923                0       1  TRUE_NEGATIVE  \n924                0       1  TRUE_NEGATIVE  \n925                0       1  TRUE_NEGATIVE  \n926                0       1  TRUE_NEGATIVE  \n927                0       1  TRUE_NEGATIVE  \n928                0       1  TRUE_NEGATIVE  \n929                0       1  TRUE_NEGATIVE  \n930                0       1  TRUE_NEGATIVE  \n931                0       1  TRUE_NEGATIVE  \n932                0       1  TRUE_NEGATIVE  \n933                0       1  TRUE_NEGATIVE  \n934                0       1  TRUE_NEGATIVE  \n935                0       1  TRUE_NEGATIVE  \n936                0       1  TRUE_NEGATIVE  \n937                0       1  TRUE_NEGATIVE  \n938                0       1  TRUE_NEGATIVE  \n939                0       1  TRUE_NEGATIVE  \n940                0       1  TRUE_NEGATIVE  \n941                0       1  TRUE_NEGATIVE  \n942                0       1  TRUE_NEGATIVE  \n943                0       1  TRUE_NEGATIVE  \n944                0       1  TRUE_NEGATIVE  \n945                0       1  TRUE_NEGATIVE  \n946                0       1  TRUE_NEGATIVE  \n947                0       1  TRUE_NEGATIVE  \n948                0       1  TRUE_NEGATIVE  \n949                0       1  TRUE_NEGATIVE  \n950                0       1  TRUE_NEGATIVE  \n951                0       1  TRUE_NEGATIVE  \n952                0       1  TRUE_NEGATIVE  \n953                0       1  TRUE_NEGATIVE  \n954                0       1  TRUE_NEGATIVE  \n955                0       1  TRUE_NEGATIVE  \n956                0       1  TRUE_NEGATIVE  \n957                0       1  TRUE_NEGATIVE  \n958                0       1  TRUE_NEGATIVE  \n959                0       1  TRUE_NEGATIVE  \n960                0       1  TRUE_NEGATIVE  \n961                0       1  TRUE_NEGATIVE  \n962                0       1  TRUE_NEGATIVE  \n963                0       1  TRUE_NEGATIVE  \n964                0       1  TRUE_NEGATIVE  \n965                0       1  TRUE_NEGATIVE  \n966                0       1  TRUE_NEGATIVE  \n967                0       1  TRUE_NEGATIVE  \n968                0       1  TRUE_NEGATIVE  \n969                0       1  TRUE_NEGATIVE  \n970                0       1  TRUE_NEGATIVE  \n971                0       1  TRUE_NEGATIVE  \n972                0       1  TRUE_NEGATIVE  \n973                0       1  TRUE_NEGATIVE  \n974                0       1  TRUE_NEGATIVE  \n975                0       1  TRUE_NEGATIVE  \n976                0       1  TRUE_NEGATIVE  \n977                0       1  TRUE_NEGATIVE  \n978                0       1  TRUE_NEGATIVE  \n979                0       1  TRUE_NEGATIVE  \n980                0       1  TRUE_NEGATIVE  \n981                0       1  TRUE_NEGATIVE  \n982                0       1  TRUE_NEGATIVE  \n983                0       1  TRUE_NEGATIVE  \n984                0       1  TRUE_NEGATIVE  \n985                0       1  TRUE_NEGATIVE  \n986                0       1  TRUE_NEGATIVE  \n987                0       1  TRUE_NEGATIVE  \n988                0       1  TRUE_NEGATIVE  \n989                0       1  TRUE_NEGATIVE  \n990                0       1  TRUE_NEGATIVE  \n991                0       1  TRUE_NEGATIVE  \n992                0       1  TRUE_NEGATIVE  \n993                0       1  TRUE_NEGATIVE  \n994                0       1  TRUE_NEGATIVE  \n995                0       1  TRUE_NEGATIVE  \n996                0       1  TRUE_NEGATIVE  \n997                0       1  TRUE_NEGATIVE  \n998                0       1  TRUE_NEGATIVE  \n999                0       1  TRUE_NEGATIVE  \n1000               0       1  TRUE_NEGATIVE  \n1001               0       1  TRUE_NEGATIVE  \n1002               0       1  TRUE_NEGATIVE  \n1003               0       1  TRUE_NEGATIVE  \n1004               0       1  TRUE_NEGATIVE  \n1005               0       1  TRUE_NEGATIVE  \n1006               0       1  TRUE_NEGATIVE  \n1007               0       1  TRUE_NEGATIVE  \n1008               0       1  TRUE_NEGATIVE  \n1009               0       1  TRUE_NEGATIVE  \n1010               0       1  TRUE_NEGATIVE  \n1011               0       1  TRUE_NEGATIVE  \n1012               0       1  TRUE_NEGATIVE  \n1013               0       1  TRUE_NEGATIVE  \n1014               0       1  TRUE_NEGATIVE  \n1015               0       1  TRUE_NEGATIVE  \n1016               0       1  TRUE_NEGATIVE  \n1017               0       1  TRUE_NEGATIVE  \n1018               0       1  TRUE_NEGATIVE  \n1019               0       1  TRUE_NEGATIVE  \n1020               0       1  TRUE_NEGATIVE  \n1021               0       1  TRUE_NEGATIVE  \n1022               0       1  TRUE_NEGATIVE  \n1023               0       1  TRUE_NEGATIVE  \n1024               0       1  TRUE_NEGATIVE  \n1025               0       1  TRUE_NEGATIVE  \n1026               0       1  TRUE_NEGATIVE  \n1027               0       1  TRUE_NEGATIVE  \n1028               0       1  TRUE_NEGATIVE  \n1029               0       1  TRUE_NEGATIVE  \n1030               0       1  TRUE_NEGATIVE  \n1031               0       1  TRUE_NEGATIVE  \n1032               0       1  TRUE_NEGATIVE  \n1033               0       1  TRUE_NEGATIVE  \n1034               0       1  TRUE_NEGATIVE  \n1035               0       1  TRUE_NEGATIVE  \n1036               0       1  TRUE_NEGATIVE  \n1037               0       1  TRUE_NEGATIVE  \n1038               0       1  TRUE_NEGATIVE  \n1039               0       1  TRUE_NEGATIVE  \n1040               0       1  TRUE_NEGATIVE  \n1041               0       1  TRUE_NEGATIVE  \n1042               0       1  TRUE_NEGATIVE  \n1043               0       1  TRUE_NEGATIVE  \n1044               0       1  TRUE_NEGATIVE  \n1045               0       1  TRUE_NEGATIVE  \n1046               0       1  TRUE_NEGATIVE  \n1047               0       1  TRUE_NEGATIVE  \n1048               0       1  TRUE_NEGATIVE  \n1049               0       1  TRUE_NEGATIVE  \n1050               0       1  TRUE_NEGATIVE  \n1051               0       1  TRUE_NEGATIVE  \n1052               0       1  TRUE_NEGATIVE  \n1053               0       1  TRUE_NEGATIVE  \n1054               0       1  TRUE_NEGATIVE  \n1055               0       1  TRUE_NEGATIVE  \n1056               0       1  TRUE_NEGATIVE  \n1057               0       1  TRUE_NEGATIVE  \n1058               0       1  TRUE_NEGATIVE  \n1059               0       1  TRUE_NEGATIVE  \n1060               0       1  TRUE_POSITIVE  \n1061               0       1  TRUE_NEGATIVE  \n1062               0       1  TRUE_NEGATIVE  \n1063               0       1  TRUE_NEGATIVE  \n1064               0       1  TRUE_NEGATIVE  \n1065               0       1  TRUE_NEGATIVE  \n1066               0       1  TRUE_NEGATIVE  \n1067               0       1  TRUE_NEGATIVE  \n1068               0       1  TRUE_NEGATIVE  \n1069               0       1  TRUE_NEGATIVE  \n1070               0       1  TRUE_NEGATIVE  \n1071               0       1  TRUE_NEGATIVE  \n1072               0       1  TRUE_NEGATIVE  \n1073               0       1  TRUE_NEGATIVE  \n1074               0       1  TRUE_NEGATIVE  \n1075               0       1  TRUE_NEGATIVE  \n1076               0       1  TRUE_NEGATIVE  \n1077               0       1  TRUE_NEGATIVE  \n1078               0       1  TRUE_NEGATIVE  \n1079               0       1  TRUE_NEGATIVE  \n1080               0       1  TRUE_NEGATIVE  \n1081               0       1  TRUE_NEGATIVE  \n1082               0       1  TRUE_NEGATIVE  \n1083               0       1  TRUE_NEGATIVE  \n1084               0       1  TRUE_NEGATIVE  \n1085               0       1  TRUE_NEGATIVE  \n1086               0       1  TRUE_NEGATIVE  \n1087               0       1  TRUE_NEGATIVE  \n1088               0       1  TRUE_NEGATIVE  \n1089               0       1  TRUE_NEGATIVE  \n1090               0       1  TRUE_NEGATIVE  \n1091               0       1  TRUE_NEGATIVE  \n1092               0       1  TRUE_NEGATIVE  \n1093               0       1  TRUE_NEGATIVE  \n1094               0       1  TRUE_NEGATIVE  \n1095               0       1  TRUE_NEGATIVE  \n1096               0       1  TRUE_NEGATIVE  \n1097               0       1  TRUE_NEGATIVE  \n1098               0       1  TRUE_NEGATIVE  \n1099               0       1  TRUE_NEGATIVE  \n1100               0       1  TRUE_NEGATIVE  \n1101               0       1  TRUE_NEGATIVE  \n1102               0       1  TRUE_NEGATIVE  \n1103               0       1  TRUE_NEGATIVE  \n1104               0       1  TRUE_NEGATIVE  \n1105               0       1  TRUE_NEGATIVE  \n1106               0       1  TRUE_NEGATIVE  \n1107               0       1  TRUE_NEGATIVE  \n1108               0       1  TRUE_NEGATIVE  \n1109               0       1  TRUE_NEGATIVE  \n1110               0       1  TRUE_NEGATIVE  \n1111               0       1  TRUE_NEGATIVE  \n1112               0       1  TRUE_NEGATIVE  \n1113               0       1  TRUE_NEGATIVE  \n1114               0       1  TRUE_NEGATIVE  \n1115               0       1  TRUE_NEGATIVE  \n1116               0       1  TRUE_NEGATIVE  \n1117               0       1  TRUE_NEGATIVE  \n1118               0       1  TRUE_NEGATIVE  \n1119               0       1  TRUE_NEGATIVE  \n1120               0       1  TRUE_NEGATIVE  \n1121               0       1  TRUE_NEGATIVE  \n1122               0       1  TRUE_NEGATIVE  \n1123               0       1  TRUE_NEGATIVE  \n1124               0       1  TRUE_NEGATIVE  \n1125               0       1  TRUE_NEGATIVE  \n1126               0       1  TRUE_NEGATIVE  \n1127               0       1  TRUE_NEGATIVE  \n1128               0       1  TRUE_NEGATIVE  \n1129               0       1  TRUE_NEGATIVE  \n1130               0       1  TRUE_NEGATIVE  \n1131               0       1  TRUE_NEGATIVE  \n1132               0       1  TRUE_NEGATIVE  \n1133               0       1  TRUE_NEGATIVE  \n1134               0       1  TRUE_NEGATIVE  \n1135               0       1  TRUE_NEGATIVE  \n1136               0       1  TRUE_NEGATIVE  \n1137               0       1  TRUE_NEGATIVE  \n1138               0       1  TRUE_NEGATIVE  \n1139               0       1  TRUE_NEGATIVE  \n1140               0       1  TRUE_NEGATIVE  \n1141               0       1  TRUE_NEGATIVE  \n1142               0       1  TRUE_NEGATIVE  \n1143               0       1  TRUE_NEGATIVE  \n1144               0       1  TRUE_NEGATIVE  \n1145               0       1  TRUE_NEGATIVE  \n1146               0       1  TRUE_NEGATIVE  \n1147               0       1  TRUE_NEGATIVE  \n1148               0       1  TRUE_NEGATIVE  \n1149               0       1  TRUE_NEGATIVE  \n1150               0       1  TRUE_NEGATIVE  \n1151               0       1  TRUE_NEGATIVE  \n1152               0       1  TRUE_NEGATIVE  \n1153               0       1  TRUE_NEGATIVE  \n1154               0       1  TRUE_NEGATIVE  \n1155               0       1  TRUE_NEGATIVE  \n1156               0       1  TRUE_NEGATIVE  \n1157               0       1  TRUE_NEGATIVE  \n1158               0       1  TRUE_NEGATIVE  \n1159               0       1  TRUE_NEGATIVE  \n1160               0       1  TRUE_NEGATIVE  \n1161               0       1  TRUE_NEGATIVE  \n1162               0       1  TRUE_NEGATIVE  \n1163               0       1  TRUE_NEGATIVE  \n1164               0       1  TRUE_NEGATIVE  \n1165               0       1  TRUE_NEGATIVE  \n1166               0       1  TRUE_NEGATIVE  \n1167               0       1  TRUE_NEGATIVE  \n1168               0       1  TRUE_NEGATIVE  \n1169               0       1  TRUE_NEGATIVE  \n1170               0       1  TRUE_NEGATIVE  \n1171               0       1  TRUE_NEGATIVE  \n1172               0       1  TRUE_NEGATIVE  \n1173               0       1  TRUE_NEGATIVE  \n1174               0       1  TRUE_NEGATIVE  \n1175               0       1  TRUE_NEGATIVE  \n1176               0       1  TRUE_NEGATIVE  \n1177               0       1  TRUE_NEGATIVE  \n1178               0       1  TRUE_NEGATIVE  \n1179               0       1  TRUE_NEGATIVE  \n1180               0       1  TRUE_NEGATIVE  \n1181               0       1  TRUE_NEGATIVE  \n1182               0       1  TRUE_NEGATIVE  \n1183               0       1  TRUE_NEGATIVE  \n1184               0       1  TRUE_NEGATIVE  \n1185               0       1  TRUE_NEGATIVE  \n1186               0       1  TRUE_NEGATIVE  \n1187               0       1  TRUE_NEGATIVE  \n1188               0       1  TRUE_NEGATIVE  \n1189               0       1  TRUE_NEGATIVE  \n1190               0       1  TRUE_NEGATIVE  \n1191               0       1  TRUE_NEGATIVE  \n1192               0       1  TRUE_NEGATIVE  \n1193               0       1  TRUE_NEGATIVE  \n1194               0       1  TRUE_NEGATIVE  \n1195               0       1  TRUE_NEGATIVE  \n1196               0       1  TRUE_NEGATIVE  \n1197               0       1  TRUE_NEGATIVE  \n1198               0       1  TRUE_NEGATIVE  \n1199               0       1  TRUE_NEGATIVE  \n1200               0       1  TRUE_NEGATIVE  \n1201               0       1  TRUE_NEGATIVE  \n1202               0       1  TRUE_NEGATIVE  \n1203               0       1  TRUE_NEGATIVE  \n1204               0       1  TRUE_NEGATIVE  \n1205               0       1  TRUE_NEGATIVE  \n1206               0       1  TRUE_NEGATIVE  \n1207               0       1  TRUE_NEGATIVE  \n1208               0       1  TRUE_NEGATIVE  \n1209               0       1  TRUE_NEGATIVE  \n1210               0       1  TRUE_NEGATIVE  \n1211               0       1  TRUE_NEGATIVE  \n1212               0       1  TRUE_NEGATIVE  \n1213               0       1  TRUE_NEGATIVE  \n1214               0       1  TRUE_NEGATIVE  \n1215               0       1  TRUE_NEGATIVE  \n1216               0       1  TRUE_NEGATIVE  \n1217               0       1  TRUE_NEGATIVE  \n1218               0       1  TRUE_NEGATIVE  \n1219               0       1  TRUE_NEGATIVE  \n1220               0       1  TRUE_NEGATIVE  \n1221               0       1  TRUE_NEGATIVE  \n1222               0       1  TRUE_NEGATIVE  \n1223               0       1  TRUE_NEGATIVE  \n1224               0       1  TRUE_NEGATIVE  \n1225               0       1  TRUE_NEGATIVE  \n1226               0       1  TRUE_NEGATIVE  \n1227               0       1  TRUE_NEGATIVE  \n1228               0       1  TRUE_NEGATIVE  \n1229               0       1  TRUE_NEGATIVE  \n1230               0       1  TRUE_NEGATIVE  \n1231               0       1  TRUE_NEGATIVE  \n1232               0       1  TRUE_NEGATIVE  \n1233               0       1  TRUE_NEGATIVE  \n1234               0       1  TRUE_NEGATIVE  \n1235               0       1  TRUE_NEGATIVE  \n1236               0       1  TRUE_NEGATIVE  \n1237               0       1  TRUE_NEGATIVE  \n1238               0       1  TRUE_NEGATIVE  \n1239               0       1  TRUE_NEGATIVE  \n1240               0       1  TRUE_NEGATIVE  \n1241               0       1  TRUE_NEGATIVE  \n1242               0       1  TRUE_NEGATIVE  \n1243               0       1  TRUE_NEGATIVE  \n1244               0       1  TRUE_NEGATIVE  \n1245               0       1  TRUE_NEGATIVE  \n1246               0       1  TRUE_NEGATIVE  \n1247               0       1  TRUE_NEGATIVE  \n1248               0       1  TRUE_NEGATIVE  \n1249               0       1  TRUE_NEGATIVE  \n1250               0       1  TRUE_NEGATIVE  \n1251               0       1  TRUE_NEGATIVE  \n1252               0       1  TRUE_NEGATIVE  \n1253               0       1  TRUE_NEGATIVE  \n1254               0       1  TRUE_NEGATIVE  \n1255               0       1  TRUE_NEGATIVE  \n1256               0       1  TRUE_NEGATIVE  \n1257               0       1  TRUE_NEGATIVE  \n1258               0       1  TRUE_NEGATIVE  \n1259               0       1  TRUE_NEGATIVE  \n1260               0       1  TRUE_NEGATIVE  \n1261               0       1  TRUE_NEGATIVE  \n1262               0       1  TRUE_NEGATIVE  \n1263               0       1  TRUE_NEGATIVE  \n1264               0       1  TRUE_NEGATIVE  \n1265               0       1  TRUE_NEGATIVE  \n1266               0       1  TRUE_NEGATIVE  \n1267               0       1  TRUE_NEGATIVE  \n1268               0       1  TRUE_NEGATIVE  \n1269               0       1  TRUE_NEGATIVE  \n1270               0       1  TRUE_NEGATIVE  \n1271               0       1  TRUE_NEGATIVE  \n1272               0       1  TRUE_NEGATIVE  \n1273               0       1  TRUE_NEGATIVE  \n1274               0       1  TRUE_NEGATIVE  \n1275               0       1  TRUE_NEGATIVE  \n1276               0       1  TRUE_NEGATIVE  \n1277               0       1  TRUE_NEGATIVE  \n1278               0       1  TRUE_NEGATIVE  \n1279               0       1  TRUE_NEGATIVE  \n1280               0       1  TRUE_NEGATIVE  \n1281               0       1  TRUE_NEGATIVE  \n1282               0       1  TRUE_NEGATIVE  \n1283               0       1  TRUE_NEGATIVE  \n1284               0       1  TRUE_NEGATIVE  \n1285               0       1  TRUE_NEGATIVE  \n1286               0       1  TRUE_NEGATIVE  \n1287               0       1  TRUE_NEGATIVE  \n1288               0       1  TRUE_NEGATIVE  \n1289               0       1  TRUE_NEGATIVE  \n1290               0       1  TRUE_NEGATIVE  \n1291               0       1  TRUE_NEGATIVE  \n1292               0       1  TRUE_NEGATIVE  \n1293               0       1  TRUE_NEGATIVE  \n1294               0       1  TRUE_NEGATIVE  \n1295               0       1  TRUE_NEGATIVE  \n1296               0       1  TRUE_NEGATIVE  \n1297               0       1  TRUE_NEGATIVE  \n1298               0       1  TRUE_NEGATIVE  \n1299               0       1  TRUE_NEGATIVE  \n1300               0       1  TRUE_NEGATIVE  \n1301               0       1  TRUE_NEGATIVE  \n1302               0       1  TRUE_NEGATIVE  \n1303               0       1  TRUE_NEGATIVE  \n1304               0       1  TRUE_NEGATIVE  \n1305               0       1  TRUE_NEGATIVE  \n1306               0       1  TRUE_NEGATIVE  \n1307               0       1  TRUE_NEGATIVE  \n1308               0       1  TRUE_NEGATIVE  \n1309               0       1  TRUE_NEGATIVE  \n1310               0       1  TRUE_NEGATIVE  \n1311               0       1  TRUE_NEGATIVE  \n1312               0       1  TRUE_NEGATIVE  \n1313               0       1  TRUE_NEGATIVE  \n1314               0       1  TRUE_NEGATIVE  \n1315               0       1  TRUE_NEGATIVE  \n1316               0       1  TRUE_NEGATIVE  \n1317               0       1  TRUE_NEGATIVE  \n1318               0       1  TRUE_NEGATIVE  \n1319               0       1  TRUE_NEGATIVE  \n1320               0       1  TRUE_NEGATIVE  \n1321               0       1  TRUE_NEGATIVE  \n1322               0       1  TRUE_NEGATIVE  \n1323               0       1  TRUE_NEGATIVE  \n1324               0       1  TRUE_NEGATIVE  \n1325               0       1  TRUE_NEGATIVE  \n1326               0       1  TRUE_NEGATIVE  \n1327               0       1  TRUE_NEGATIVE  \n1328               0       1  TRUE_NEGATIVE  \n1329               0       1  TRUE_NEGATIVE  \n1330               0       1  TRUE_NEGATIVE  \n1331               0       1  TRUE_NEGATIVE  \n1332               0       1  TRUE_NEGATIVE  \n1333               0       1  TRUE_NEGATIVE  \n1334               0       1  TRUE_NEGATIVE  \n1335               0       1  TRUE_NEGATIVE  \n1336               0       1  TRUE_NEGATIVE  \n1337               0       1  TRUE_NEGATIVE  \n1338               0       1  TRUE_NEGATIVE  \n1339               0       1  TRUE_NEGATIVE  \n1340               0       1  TRUE_NEGATIVE  \n1341               0       1  TRUE_NEGATIVE  \n1342               0       1  TRUE_NEGATIVE  \n1343               0       1  TRUE_NEGATIVE  \n1344               0       1  TRUE_NEGATIVE  \n1345               0       1  TRUE_NEGATIVE  \n1346               0       1  TRUE_NEGATIVE  \n1347               0       1  TRUE_NEGATIVE  \n1348               0       1  TRUE_NEGATIVE  \n1349               0       1  TRUE_NEGATIVE  \n1350               0       1  TRUE_NEGATIVE  \n1351               0       1  TRUE_NEGATIVE  \n1352               0       1  TRUE_NEGATIVE  \n1353               0       1  TRUE_NEGATIVE  \n1354               0       1  TRUE_NEGATIVE  \n1355               0       1  TRUE_NEGATIVE  \n1356               0       1  TRUE_NEGATIVE  \n1357               0       1  TRUE_NEGATIVE  \n1358               0       1  TRUE_NEGATIVE  \n1359               0       1  TRUE_NEGATIVE  \n1360               0       1  TRUE_NEGATIVE  \n1361               0       1  TRUE_NEGATIVE  \n1362               0       1  TRUE_NEGATIVE  \n1363               0       1  TRUE_NEGATIVE  \n1364               0       1  TRUE_NEGATIVE  \n1365               0       1  TRUE_NEGATIVE  \n1366               0       1  TRUE_NEGATIVE  \n1367               0       1  TRUE_NEGATIVE  \n1368               0       1  TRUE_NEGATIVE  \n1369               0       1  TRUE_NEGATIVE  \n1370               0       1  TRUE_NEGATIVE  \n1371               0       1  TRUE_NEGATIVE  \n1372               0       1  TRUE_NEGATIVE  \n1373               0       1  TRUE_NEGATIVE  \n1374               0       1  TRUE_NEGATIVE  \n1375               0       1  TRUE_NEGATIVE  \n1376               0       1  TRUE_NEGATIVE  \n1377               0       1  TRUE_NEGATIVE  \n1378               0       1  TRUE_NEGATIVE  \n1379               0       1  TRUE_NEGATIVE  \n1380               0       1  TRUE_NEGATIVE  \n1381               0       1  TRUE_NEGATIVE  \n1382               0       1  TRUE_NEGATIVE  \n1383               0       1  TRUE_NEGATIVE  \n1384               0       1  TRUE_NEGATIVE  \n1385               0       1  TRUE_NEGATIVE  \n1386               0       1  TRUE_NEGATIVE  \n1387               0       1  TRUE_NEGATIVE  \n1388               0       1  TRUE_NEGATIVE  \n1389               0       1  TRUE_NEGATIVE  \n1390               0       1  TRUE_NEGATIVE  \n1391               0       1  TRUE_NEGATIVE  \n1392               0       1  TRUE_NEGATIVE  \n1393               0       1  TRUE_NEGATIVE  \n1394               0       1  TRUE_NEGATIVE  \n1395               0       1  TRUE_NEGATIVE  \n1396               0       1  TRUE_NEGATIVE  \n1397               0       1  TRUE_NEGATIVE  \n1398               0       1  TRUE_NEGATIVE  \n1399               0       1  TRUE_NEGATIVE  \n1400               0       1  TRUE_NEGATIVE  \n1401               0       1  TRUE_NEGATIVE  \n1402               0       1  TRUE_NEGATIVE  \n1403               0       1  TRUE_NEGATIVE  \n1404               0       1  TRUE_NEGATIVE  \n1405               0       1  TRUE_NEGATIVE  \n1406               0       1  TRUE_NEGATIVE  \n1407               0       1  TRUE_NEGATIVE  \n1408               0       1  TRUE_NEGATIVE  \n1409               0       1  TRUE_NEGATIVE  \n1410               0       1  TRUE_NEGATIVE  \n1411               0       1  TRUE_NEGATIVE  \n1412               0       1  TRUE_NEGATIVE  \n1413               0       1  TRUE_NEGATIVE  \n1414               0       1  TRUE_NEGATIVE  \n1415               0       1  TRUE_NEGATIVE  \n1416               0       1  TRUE_NEGATIVE  \n1417               0       1  TRUE_NEGATIVE  \n1418               0       1  TRUE_NEGATIVE  \n1419               0       1  TRUE_NEGATIVE  \n1420               0       1  TRUE_NEGATIVE  \n1421               0       1  TRUE_NEGATIVE  \n1422               0       1  TRUE_NEGATIVE  \n1423               0       1  TRUE_NEGATIVE  \n1424               0       1  TRUE_NEGATIVE  \n1425               0       1  TRUE_NEGATIVE  \n1426               0       1  TRUE_NEGATIVE  \n1427               0       1  TRUE_NEGATIVE  \n1428               0       1  TRUE_NEGATIVE  \n1429               0       1  TRUE_NEGATIVE  \n1430               0       1  TRUE_NEGATIVE  \n1431               0       1  TRUE_NEGATIVE  \n1432               0       1  TRUE_NEGATIVE  \n1433               0       1  TRUE_NEGATIVE  \n1434               0       1  TRUE_NEGATIVE  \n1435               0       1  TRUE_NEGATIVE  \n1436               0       1  TRUE_NEGATIVE  \n1437               0       1  TRUE_NEGATIVE  \n1438               0       1  TRUE_NEGATIVE  \n1439               0       1  TRUE_NEGATIVE  \n1440               0       1  TRUE_NEGATIVE  \n1441               0       1  TRUE_NEGATIVE  \n1442               0       1  TRUE_NEGATIVE  \n1443               0       1  TRUE_NEGATIVE  \n1444               0       1  TRUE_NEGATIVE  \n1445               0       1  TRUE_NEGATIVE  \n1446               0       1  TRUE_NEGATIVE  \n1447               0       1  TRUE_NEGATIVE  \n1448               0       1  TRUE_NEGATIVE  \n1449               0       1  TRUE_NEGATIVE  \n1450               0       1  TRUE_NEGATIVE  \n1451               0       1  TRUE_NEGATIVE  \n1452               0       1  TRUE_NEGATIVE  \n1453               0       1  TRUE_NEGATIVE  \n1454               0       1  TRUE_NEGATIVE  \n1455               0       1  TRUE_NEGATIVE  \n1456               0       1  TRUE_NEGATIVE  \n1457               0       1  TRUE_NEGATIVE  \n1458               0       1  TRUE_NEGATIVE  \n1459               0       1  TRUE_NEGATIVE  \n1460               0       1  TRUE_NEGATIVE  \n1461               0       1  TRUE_NEGATIVE  ",
            "text/html": "<div>\n<style scoped>\n    .dataframe tbody tr th:only-of-type {\n        vertical-align: middle;\n    }\n\n    .dataframe tbody tr th {\n        vertical-align: top;\n    }\n\n    .dataframe thead th {\n        text-align: right;\n    }\n</style>\n<table border=\"1\" class=\"dataframe\">\n  <thead>\n    <tr style=\"text-align: right;\">\n      <th></th>\n      <th>DATE</th>\n      <th>ID</th>\n      <th>EQUIPMENT_FAILURE</th>\n      <th>FAILURE_TARGET</th>\n      <th>FAILURE_DATE</th>\n      <th>P_FAIL</th>\n      <th>Y_FAILZ</th>\n      <th>SIGNAL_ID</th>\n      <th>SIGNAL_DATE</th>\n      <th>ID_OF_SIGNAL</th>\n      <th>MODELING_GROUP</th>\n      <th>C</th>\n      <th>WARNING</th>\n      <th>TRUE_POSITIVE</th>\n      <th>FALSE_NEGATIVE</th>\n      <th>BAD_S</th>\n      <th>FALSE_POSITIVE</th>\n      <th>bootie</th>\n      <th>CATEGORY</th>\n    </tr>\n  </thead>\n  <tbody>\n    <tr>\n      <th>731</th>\n      <td>2014-12-02</td>\n      <td>100002</td>\n      <td>0</td>\n      <td>0</td>\n      <td>2015-10-27</td>\n      <td>2.163792e-07</td>\n      <td>0</td>\n      <td>0</td>\n      <td>NaT</td>\n      <td>NaN</td>\n      <td>TRAINING</td>\n      <td>NaT</td>\n      <td>NaN</td>\n      <td>0</td>\n      <td>0</td>\n      <td>0</td>\n      <td>0</td>\n      <td>1</td>\n      <td>TRUE_NEGATIVE</td>\n    </tr>\n    <tr>\n      <th>732</th>\n      <td>2014-12-03</td>\n      <td>100002</td>\n      <td>0</td>\n      <td>0</td>\n      <td>2015-10-27</td>\n      <td>9.729876e-07</td>\n      <td>0</td>\n      <td>0</td>\n      <td>NaT</td>\n      <td>NaN</td>\n      <td>TRAINING</td>\n      <td>NaT</td>\n      <td>NaN</td>\n      <td>0</td>\n      <td>0</td>\n      <td>0</td>\n      <td>0</td>\n      <td>1</td>\n      <td>TRUE_NEGATIVE</td>\n    </tr>\n    <tr>\n      <th>733</th>\n      <td>2014-12-04</td>\n      <td>100002</td>\n      <td>0</td>\n      <td>0</td>\n      <td>2015-10-27</td>\n      <td>3.035230e-06</td>\n      <td>0</td>\n      <td>0</td>\n      <td>NaT</td>\n      <td>NaN</td>\n      <td>TRAINING</td>\n      <td>NaT</td>\n      <td>NaN</td>\n      <td>0</td>\n      <td>0</td>\n      <td>0</td>\n      <td>0</td>\n      <td>1</td>\n      <td>TRUE_NEGATIVE</td>\n    </tr>\n    <tr>\n      <th>734</th>\n      <td>2014-12-05</td>\n      <td>100002</td>\n      <td>0</td>\n      <td>0</td>\n      <td>2015-10-27</td>\n      <td>1.146297e-05</td>\n      <td>0</td>\n      <td>0</td>\n      <td>NaT</td>\n      <td>NaN</td>\n      <td>TRAINING</td>\n      <td>NaT</td>\n      <td>NaN</td>\n      <td>0</td>\n      <td>0</td>\n      <td>0</td>\n      <td>0</td>\n      <td>1</td>\n      <td>TRUE_NEGATIVE</td>\n    </tr>\n    <tr>\n      <th>735</th>\n      <td>2014-12-06</td>\n      <td>100002</td>\n      <td>0</td>\n      <td>0</td>\n      <td>2015-10-27</td>\n      <td>3.133712e-06</td>\n      <td>0</td>\n      <td>0</td>\n      <td>NaT</td>\n      <td>NaN</td>\n      <td>TRAINING</td>\n      <td>NaT</td>\n      <td>NaN</td>\n      <td>0</td>\n      <td>0</td>\n      <td>0</td>\n      <td>0</td>\n      <td>1</td>\n      <td>TRUE_NEGATIVE</td>\n    </tr>\n    <tr>\n      <th>736</th>\n      <td>2014-12-07</td>\n      <td>100002</td>\n      <td>0</td>\n      <td>0</td>\n      <td>2015-10-27</td>\n      <td>3.506304e-06</td>\n      <td>0</td>\n      <td>0</td>\n      <td>NaT</td>\n      <td>NaN</td>\n      <td>TRAINING</td>\n      <td>NaT</td>\n      <td>NaN</td>\n      <td>0</td>\n      <td>0</td>\n      <td>0</td>\n      <td>0</td>\n      <td>1</td>\n      <td>TRUE_NEGATIVE</td>\n    </tr>\n    <tr>\n      <th>737</th>\n      <td>2014-12-08</td>\n      <td>100002</td>\n      <td>0</td>\n      <td>0</td>\n      <td>2015-10-27</td>\n      <td>5.355337e-07</td>\n      <td>0</td>\n      <td>0</td>\n      <td>NaT</td>\n      <td>NaN</td>\n      <td>TRAINING</td>\n      <td>NaT</td>\n      <td>NaN</td>\n      <td>0</td>\n      <td>0</td>\n      <td>0</td>\n      <td>0</td>\n      <td>1</td>\n      <td>TRUE_NEGATIVE</td>\n    </tr>\n    <tr>\n      <th>738</th>\n      <td>2014-12-09</td>\n      <td>100002</td>\n      <td>0</td>\n      <td>0</td>\n      <td>2015-10-27</td>\n      <td>4.773395e-06</td>\n      <td>0</td>\n      <td>0</td>\n      <td>NaT</td>\n      <td>NaN</td>\n      <td>TRAINING</td>\n      <td>NaT</td>\n      <td>NaN</td>\n      <td>0</td>\n      <td>0</td>\n      <td>0</td>\n      <td>0</td>\n      <td>1</td>\n      <td>TRUE_NEGATIVE</td>\n    </tr>\n    <tr>\n      <th>739</th>\n      <td>2014-12-10</td>\n      <td>100002</td>\n      <td>0</td>\n      <td>0</td>\n      <td>2015-10-27</td>\n      <td>1.429524e-07</td>\n      <td>0</td>\n      <td>0</td>\n      <td>NaT</td>\n      <td>NaN</td>\n      <td>TRAINING</td>\n      <td>NaT</td>\n      <td>NaN</td>\n      <td>0</td>\n      <td>0</td>\n      <td>0</td>\n      <td>0</td>\n      <td>1</td>\n      <td>TRUE_NEGATIVE</td>\n    </tr>\n    <tr>\n      <th>740</th>\n      <td>2014-12-11</td>\n      <td>100002</td>\n      <td>0</td>\n      <td>0</td>\n      <td>2015-10-27</td>\n      <td>1.671091e-06</td>\n      <td>0</td>\n      <td>0</td>\n      <td>NaT</td>\n      <td>NaN</td>\n      <td>TRAINING</td>\n      <td>NaT</td>\n      <td>NaN</td>\n      <td>0</td>\n      <td>0</td>\n      <td>0</td>\n      <td>0</td>\n      <td>1</td>\n      <td>TRUE_NEGATIVE</td>\n    </tr>\n    <tr>\n      <th>741</th>\n      <td>2014-12-12</td>\n      <td>100002</td>\n      <td>0</td>\n      <td>0</td>\n      <td>2015-10-27</td>\n      <td>1.410572e-06</td>\n      <td>0</td>\n      <td>0</td>\n      <td>NaT</td>\n      <td>NaN</td>\n      <td>TRAINING</td>\n      <td>NaT</td>\n      <td>NaN</td>\n      <td>0</td>\n      <td>0</td>\n      <td>0</td>\n      <td>0</td>\n      <td>1</td>\n      <td>TRUE_NEGATIVE</td>\n    </tr>\n    <tr>\n      <th>742</th>\n      <td>2014-12-13</td>\n      <td>100002</td>\n      <td>0</td>\n      <td>0</td>\n      <td>2015-10-27</td>\n      <td>9.790153e-07</td>\n      <td>0</td>\n      <td>0</td>\n      <td>NaT</td>\n      <td>NaN</td>\n      <td>TRAINING</td>\n      <td>NaT</td>\n      <td>NaN</td>\n      <td>0</td>\n      <td>0</td>\n      <td>0</td>\n      <td>0</td>\n      <td>1</td>\n      <td>TRUE_NEGATIVE</td>\n    </tr>\n    <tr>\n      <th>743</th>\n      <td>2014-12-14</td>\n      <td>100002</td>\n      <td>0</td>\n      <td>0</td>\n      <td>2015-10-27</td>\n      <td>5.092905e-07</td>\n      <td>0</td>\n      <td>0</td>\n      <td>NaT</td>\n      <td>NaN</td>\n      <td>TRAINING</td>\n      <td>NaT</td>\n      <td>NaN</td>\n      <td>0</td>\n      <td>0</td>\n      <td>0</td>\n      <td>0</td>\n      <td>1</td>\n      <td>TRUE_NEGATIVE</td>\n    </tr>\n    <tr>\n      <th>744</th>\n      <td>2014-12-15</td>\n      <td>100002</td>\n      <td>0</td>\n      <td>0</td>\n      <td>2015-10-27</td>\n      <td>5.339375e-07</td>\n      <td>0</td>\n      <td>0</td>\n      <td>NaT</td>\n      <td>NaN</td>\n      <td>TRAINING</td>\n      <td>NaT</td>\n      <td>NaN</td>\n      <td>0</td>\n      <td>0</td>\n      <td>0</td>\n      <td>0</td>\n      <td>1</td>\n      <td>TRUE_NEGATIVE</td>\n    </tr>\n    <tr>\n      <th>745</th>\n      <td>2014-12-16</td>\n      <td>100002</td>\n      <td>0</td>\n      <td>0</td>\n      <td>2015-10-27</td>\n      <td>2.485238e-05</td>\n      <td>0</td>\n      <td>0</td>\n      <td>NaT</td>\n      <td>NaN</td>\n      <td>TRAINING</td>\n      <td>NaT</td>\n      <td>NaN</td>\n      <td>0</td>\n      <td>0</td>\n      <td>0</td>\n      <td>0</td>\n      <td>1</td>\n      <td>TRUE_NEGATIVE</td>\n    </tr>\n    <tr>\n      <th>746</th>\n      <td>2014-12-17</td>\n      <td>100002</td>\n      <td>0</td>\n      <td>0</td>\n      <td>2015-10-27</td>\n      <td>2.306670e-05</td>\n      <td>0</td>\n      <td>0</td>\n      <td>NaT</td>\n      <td>NaN</td>\n      <td>TRAINING</td>\n      <td>NaT</td>\n      <td>NaN</td>\n      <td>0</td>\n      <td>0</td>\n      <td>0</td>\n      <td>0</td>\n      <td>1</td>\n      <td>TRUE_NEGATIVE</td>\n    </tr>\n    <tr>\n      <th>747</th>\n      <td>2014-12-18</td>\n      <td>100002</td>\n      <td>0</td>\n      <td>0</td>\n      <td>2015-10-27</td>\n      <td>2.770239e-05</td>\n      <td>0</td>\n      <td>0</td>\n      <td>NaT</td>\n      <td>NaN</td>\n      <td>TRAINING</td>\n      <td>NaT</td>\n      <td>NaN</td>\n      <td>0</td>\n      <td>0</td>\n      <td>0</td>\n      <td>0</td>\n      <td>1</td>\n      <td>TRUE_NEGATIVE</td>\n    </tr>\n    <tr>\n      <th>748</th>\n      <td>2014-12-19</td>\n      <td>100002</td>\n      <td>0</td>\n      <td>0</td>\n      <td>2015-10-27</td>\n      <td>6.060831e-06</td>\n      <td>0</td>\n      <td>0</td>\n      <td>NaT</td>\n      <td>NaN</td>\n      <td>TRAINING</td>\n      <td>NaT</td>\n      <td>NaN</td>\n      <td>0</td>\n      <td>0</td>\n      <td>0</td>\n      <td>0</td>\n      <td>1</td>\n      <td>TRUE_NEGATIVE</td>\n    </tr>\n    <tr>\n      <th>749</th>\n      <td>2014-12-20</td>\n      <td>100002</td>\n      <td>0</td>\n      <td>0</td>\n      <td>2015-10-27</td>\n      <td>1.752984e-04</td>\n      <td>0</td>\n      <td>0</td>\n      <td>NaT</td>\n      <td>NaN</td>\n      <td>TRAINING</td>\n      <td>NaT</td>\n      <td>NaN</td>\n      <td>0</td>\n      <td>0</td>\n      <td>0</td>\n      <td>0</td>\n      <td>1</td>\n      <td>TRUE_NEGATIVE</td>\n    </tr>\n    <tr>\n      <th>750</th>\n      <td>2014-12-21</td>\n      <td>100002</td>\n      <td>0</td>\n      <td>0</td>\n      <td>2015-10-27</td>\n      <td>7.082959e-07</td>\n      <td>0</td>\n      <td>0</td>\n      <td>NaT</td>\n      <td>NaN</td>\n      <td>TRAINING</td>\n      <td>NaT</td>\n      <td>NaN</td>\n      <td>0</td>\n      <td>0</td>\n      <td>0</td>\n      <td>0</td>\n      <td>1</td>\n      <td>TRUE_NEGATIVE</td>\n    </tr>\n    <tr>\n      <th>751</th>\n      <td>2014-12-22</td>\n      <td>100002</td>\n      <td>0</td>\n      <td>0</td>\n      <td>2015-10-27</td>\n      <td>1.357255e-06</td>\n      <td>0</td>\n      <td>0</td>\n      <td>NaT</td>\n      <td>NaN</td>\n      <td>TRAINING</td>\n      <td>NaT</td>\n      <td>NaN</td>\n      <td>0</td>\n      <td>0</td>\n      <td>0</td>\n      <td>0</td>\n      <td>1</td>\n      <td>TRUE_NEGATIVE</td>\n    </tr>\n    <tr>\n      <th>752</th>\n      <td>2014-12-23</td>\n      <td>100002</td>\n      <td>0</td>\n      <td>0</td>\n      <td>2015-10-27</td>\n      <td>5.034621e-05</td>\n      <td>0</td>\n      <td>0</td>\n      <td>NaT</td>\n      <td>NaN</td>\n      <td>TRAINING</td>\n      <td>NaT</td>\n      <td>NaN</td>\n      <td>0</td>\n      <td>0</td>\n      <td>0</td>\n      <td>0</td>\n      <td>1</td>\n      <td>TRUE_NEGATIVE</td>\n    </tr>\n    <tr>\n      <th>753</th>\n      <td>2014-12-24</td>\n      <td>100002</td>\n      <td>0</td>\n      <td>0</td>\n      <td>2015-10-27</td>\n      <td>2.377817e-05</td>\n      <td>0</td>\n      <td>0</td>\n      <td>NaT</td>\n      <td>NaN</td>\n      <td>TRAINING</td>\n      <td>NaT</td>\n      <td>NaN</td>\n      <td>0</td>\n      <td>0</td>\n      <td>0</td>\n      <td>0</td>\n      <td>1</td>\n      <td>TRUE_NEGATIVE</td>\n    </tr>\n    <tr>\n      <th>754</th>\n      <td>2014-12-25</td>\n      <td>100002</td>\n      <td>0</td>\n      <td>0</td>\n      <td>2015-10-27</td>\n      <td>2.237799e-06</td>\n      <td>0</td>\n      <td>0</td>\n      <td>NaT</td>\n      <td>NaN</td>\n      <td>TRAINING</td>\n      <td>NaT</td>\n      <td>NaN</td>\n      <td>0</td>\n      <td>0</td>\n      <td>0</td>\n      <td>0</td>\n      <td>1</td>\n      <td>TRUE_NEGATIVE</td>\n    </tr>\n    <tr>\n      <th>755</th>\n      <td>2014-12-26</td>\n      <td>100002</td>\n      <td>0</td>\n      <td>0</td>\n      <td>2015-10-27</td>\n      <td>4.487335e-06</td>\n      <td>0</td>\n      <td>0</td>\n      <td>NaT</td>\n      <td>NaN</td>\n      <td>TRAINING</td>\n      <td>NaT</td>\n      <td>NaN</td>\n      <td>0</td>\n      <td>0</td>\n      <td>0</td>\n      <td>0</td>\n      <td>1</td>\n      <td>TRUE_NEGATIVE</td>\n    </tr>\n    <tr>\n      <th>756</th>\n      <td>2014-12-27</td>\n      <td>100002</td>\n      <td>0</td>\n      <td>0</td>\n      <td>2015-10-27</td>\n      <td>2.665266e-07</td>\n      <td>0</td>\n      <td>0</td>\n      <td>NaT</td>\n      <td>NaN</td>\n      <td>TRAINING</td>\n      <td>NaT</td>\n      <td>NaN</td>\n      <td>0</td>\n      <td>0</td>\n      <td>0</td>\n      <td>0</td>\n      <td>1</td>\n      <td>TRUE_NEGATIVE</td>\n    </tr>\n    <tr>\n      <th>757</th>\n      <td>2014-12-28</td>\n      <td>100002</td>\n      <td>0</td>\n      <td>0</td>\n      <td>2015-10-27</td>\n      <td>5.204911e-05</td>\n      <td>0</td>\n      <td>0</td>\n      <td>NaT</td>\n      <td>NaN</td>\n      <td>TRAINING</td>\n      <td>NaT</td>\n      <td>NaN</td>\n      <td>0</td>\n      <td>0</td>\n      <td>0</td>\n      <td>0</td>\n      <td>1</td>\n      <td>TRUE_NEGATIVE</td>\n    </tr>\n    <tr>\n      <th>758</th>\n      <td>2014-12-29</td>\n      <td>100002</td>\n      <td>0</td>\n      <td>0</td>\n      <td>2015-10-27</td>\n      <td>8.745220e-06</td>\n      <td>0</td>\n      <td>0</td>\n      <td>NaT</td>\n      <td>NaN</td>\n      <td>TRAINING</td>\n      <td>NaT</td>\n      <td>NaN</td>\n      <td>0</td>\n      <td>0</td>\n      <td>0</td>\n      <td>0</td>\n      <td>1</td>\n      <td>TRUE_NEGATIVE</td>\n    </tr>\n    <tr>\n      <th>759</th>\n      <td>2014-12-30</td>\n      <td>100002</td>\n      <td>0</td>\n      <td>0</td>\n      <td>2015-10-27</td>\n      <td>4.019078e-05</td>\n      <td>0</td>\n      <td>0</td>\n      <td>NaT</td>\n      <td>NaN</td>\n      <td>TRAINING</td>\n      <td>NaT</td>\n      <td>NaN</td>\n      <td>0</td>\n      <td>0</td>\n      <td>0</td>\n      <td>0</td>\n      <td>1</td>\n      <td>TRUE_NEGATIVE</td>\n    </tr>\n    <tr>\n      <th>760</th>\n      <td>2014-12-31</td>\n      <td>100002</td>\n      <td>0</td>\n      <td>0</td>\n      <td>2015-10-27</td>\n      <td>6.157466e-06</td>\n      <td>0</td>\n      <td>0</td>\n      <td>NaT</td>\n      <td>NaN</td>\n      <td>TRAINING</td>\n      <td>NaT</td>\n      <td>NaN</td>\n      <td>0</td>\n      <td>0</td>\n      <td>0</td>\n      <td>0</td>\n      <td>1</td>\n      <td>TRUE_NEGATIVE</td>\n    </tr>\n    <tr>\n      <th>761</th>\n      <td>2015-01-01</td>\n      <td>100002</td>\n      <td>0</td>\n      <td>0</td>\n      <td>2015-10-27</td>\n      <td>5.059583e-06</td>\n      <td>0</td>\n      <td>0</td>\n      <td>NaT</td>\n      <td>NaN</td>\n      <td>TRAINING</td>\n      <td>NaT</td>\n      <td>NaN</td>\n      <td>0</td>\n      <td>0</td>\n      <td>0</td>\n      <td>0</td>\n      <td>1</td>\n      <td>TRUE_NEGATIVE</td>\n    </tr>\n    <tr>\n      <th>762</th>\n      <td>2015-01-02</td>\n      <td>100002</td>\n      <td>0</td>\n      <td>0</td>\n      <td>2015-10-27</td>\n      <td>8.021963e-06</td>\n      <td>0</td>\n      <td>0</td>\n      <td>NaT</td>\n      <td>NaN</td>\n      <td>TRAINING</td>\n      <td>NaT</td>\n      <td>NaN</td>\n      <td>0</td>\n      <td>0</td>\n      <td>0</td>\n      <td>0</td>\n      <td>1</td>\n      <td>TRUE_NEGATIVE</td>\n    </tr>\n    <tr>\n      <th>763</th>\n      <td>2015-01-03</td>\n      <td>100002</td>\n      <td>0</td>\n      <td>0</td>\n      <td>2015-10-27</td>\n      <td>2.250381e-05</td>\n      <td>0</td>\n      <td>0</td>\n      <td>NaT</td>\n      <td>NaN</td>\n      <td>TRAINING</td>\n      <td>NaT</td>\n      <td>NaN</td>\n      <td>0</td>\n      <td>0</td>\n      <td>0</td>\n      <td>0</td>\n      <td>1</td>\n      <td>TRUE_NEGATIVE</td>\n    </tr>\n    <tr>\n      <th>764</th>\n      <td>2015-01-04</td>\n      <td>100002</td>\n      <td>0</td>\n      <td>0</td>\n      <td>2015-10-27</td>\n      <td>6.694411e-05</td>\n      <td>0</td>\n      <td>0</td>\n      <td>NaT</td>\n      <td>NaN</td>\n      <td>TRAINING</td>\n      <td>NaT</td>\n      <td>NaN</td>\n      <td>0</td>\n      <td>0</td>\n      <td>0</td>\n      <td>0</td>\n      <td>1</td>\n      <td>TRUE_NEGATIVE</td>\n    </tr>\n    <tr>\n      <th>765</th>\n      <td>2015-01-05</td>\n      <td>100002</td>\n      <td>0</td>\n      <td>0</td>\n      <td>2015-10-27</td>\n      <td>7.261483e-06</td>\n      <td>0</td>\n      <td>0</td>\n      <td>NaT</td>\n      <td>NaN</td>\n      <td>TRAINING</td>\n      <td>NaT</td>\n      <td>NaN</td>\n      <td>0</td>\n      <td>0</td>\n      <td>0</td>\n      <td>0</td>\n      <td>1</td>\n      <td>TRUE_NEGATIVE</td>\n    </tr>\n    <tr>\n      <th>766</th>\n      <td>2015-01-06</td>\n      <td>100002</td>\n      <td>0</td>\n      <td>0</td>\n      <td>2015-10-27</td>\n      <td>3.454513e-05</td>\n      <td>0</td>\n      <td>0</td>\n      <td>NaT</td>\n      <td>NaN</td>\n      <td>TRAINING</td>\n      <td>NaT</td>\n      <td>NaN</td>\n      <td>0</td>\n      <td>0</td>\n      <td>0</td>\n      <td>0</td>\n      <td>1</td>\n      <td>TRUE_NEGATIVE</td>\n    </tr>\n    <tr>\n      <th>767</th>\n      <td>2015-01-07</td>\n      <td>100002</td>\n      <td>0</td>\n      <td>0</td>\n      <td>2015-10-27</td>\n      <td>9.065575e-05</td>\n      <td>0</td>\n      <td>0</td>\n      <td>NaT</td>\n      <td>NaN</td>\n      <td>TRAINING</td>\n      <td>NaT</td>\n      <td>NaN</td>\n      <td>0</td>\n      <td>0</td>\n      <td>0</td>\n      <td>0</td>\n      <td>1</td>\n      <td>TRUE_NEGATIVE</td>\n    </tr>\n    <tr>\n      <th>768</th>\n      <td>2015-01-08</td>\n      <td>100002</td>\n      <td>0</td>\n      <td>0</td>\n      <td>2015-10-27</td>\n      <td>5.605075e-05</td>\n      <td>0</td>\n      <td>0</td>\n      <td>NaT</td>\n      <td>NaN</td>\n      <td>TRAINING</td>\n      <td>NaT</td>\n      <td>NaN</td>\n      <td>0</td>\n      <td>0</td>\n      <td>0</td>\n      <td>0</td>\n      <td>1</td>\n      <td>TRUE_NEGATIVE</td>\n    </tr>\n    <tr>\n      <th>769</th>\n      <td>2015-01-09</td>\n      <td>100002</td>\n      <td>0</td>\n      <td>0</td>\n      <td>2015-10-27</td>\n      <td>1.366539e-06</td>\n      <td>0</td>\n      <td>0</td>\n      <td>NaT</td>\n      <td>NaN</td>\n      <td>TRAINING</td>\n      <td>NaT</td>\n      <td>NaN</td>\n      <td>0</td>\n      <td>0</td>\n      <td>0</td>\n      <td>0</td>\n      <td>1</td>\n      <td>TRUE_NEGATIVE</td>\n    </tr>\n    <tr>\n      <th>770</th>\n      <td>2015-01-10</td>\n      <td>100002</td>\n      <td>0</td>\n      <td>0</td>\n      <td>2015-10-27</td>\n      <td>2.413449e-05</td>\n      <td>0</td>\n      <td>0</td>\n      <td>NaT</td>\n      <td>NaN</td>\n      <td>TRAINING</td>\n      <td>NaT</td>\n      <td>NaN</td>\n      <td>0</td>\n      <td>0</td>\n      <td>0</td>\n      <td>0</td>\n      <td>1</td>\n      <td>TRUE_NEGATIVE</td>\n    </tr>\n    <tr>\n      <th>771</th>\n      <td>2015-01-11</td>\n      <td>100002</td>\n      <td>0</td>\n      <td>0</td>\n      <td>2015-10-27</td>\n      <td>3.500930e-05</td>\n      <td>0</td>\n      <td>0</td>\n      <td>NaT</td>\n      <td>NaN</td>\n      <td>TRAINING</td>\n      <td>NaT</td>\n      <td>NaN</td>\n      <td>0</td>\n      <td>0</td>\n      <td>0</td>\n      <td>0</td>\n      <td>1</td>\n      <td>TRUE_NEGATIVE</td>\n    </tr>\n    <tr>\n      <th>772</th>\n      <td>2015-01-12</td>\n      <td>100002</td>\n      <td>0</td>\n      <td>0</td>\n      <td>2015-10-27</td>\n      <td>1.463862e-04</td>\n      <td>0</td>\n      <td>0</td>\n      <td>NaT</td>\n      <td>NaN</td>\n      <td>TRAINING</td>\n      <td>NaT</td>\n      <td>NaN</td>\n      <td>0</td>\n      <td>0</td>\n      <td>0</td>\n      <td>0</td>\n      <td>1</td>\n      <td>TRUE_NEGATIVE</td>\n    </tr>\n    <tr>\n      <th>773</th>\n      <td>2015-01-13</td>\n      <td>100002</td>\n      <td>0</td>\n      <td>0</td>\n      <td>2015-10-27</td>\n      <td>2.747298e-05</td>\n      <td>0</td>\n      <td>0</td>\n      <td>NaT</td>\n      <td>NaN</td>\n      <td>TRAINING</td>\n      <td>NaT</td>\n      <td>NaN</td>\n      <td>0</td>\n      <td>0</td>\n      <td>0</td>\n      <td>0</td>\n      <td>1</td>\n      <td>TRUE_NEGATIVE</td>\n    </tr>\n    <tr>\n      <th>774</th>\n      <td>2015-01-14</td>\n      <td>100002</td>\n      <td>0</td>\n      <td>0</td>\n      <td>2015-10-27</td>\n      <td>1.548595e-03</td>\n      <td>0</td>\n      <td>0</td>\n      <td>NaT</td>\n      <td>NaN</td>\n      <td>TRAINING</td>\n      <td>NaT</td>\n      <td>NaN</td>\n      <td>0</td>\n      <td>0</td>\n      <td>0</td>\n      <td>0</td>\n      <td>1</td>\n      <td>TRUE_NEGATIVE</td>\n    </tr>\n    <tr>\n      <th>775</th>\n      <td>2015-01-15</td>\n      <td>100002</td>\n      <td>0</td>\n      <td>0</td>\n      <td>2015-10-27</td>\n      <td>1.428635e-04</td>\n      <td>0</td>\n      <td>0</td>\n      <td>NaT</td>\n      <td>NaN</td>\n      <td>TRAINING</td>\n      <td>NaT</td>\n      <td>NaN</td>\n      <td>0</td>\n      <td>0</td>\n      <td>0</td>\n      <td>0</td>\n      <td>1</td>\n      <td>TRUE_NEGATIVE</td>\n    </tr>\n    <tr>\n      <th>776</th>\n      <td>2015-01-16</td>\n      <td>100002</td>\n      <td>0</td>\n      <td>0</td>\n      <td>2015-10-27</td>\n      <td>1.903213e-04</td>\n      <td>0</td>\n      <td>0</td>\n      <td>NaT</td>\n      <td>NaN</td>\n      <td>TRAINING</td>\n      <td>NaT</td>\n      <td>NaN</td>\n      <td>0</td>\n      <td>0</td>\n      <td>0</td>\n      <td>0</td>\n      <td>1</td>\n      <td>TRUE_NEGATIVE</td>\n    </tr>\n    <tr>\n      <th>777</th>\n      <td>2015-01-17</td>\n      <td>100002</td>\n      <td>0</td>\n      <td>0</td>\n      <td>2015-10-27</td>\n      <td>4.738719e-04</td>\n      <td>0</td>\n      <td>0</td>\n      <td>NaT</td>\n      <td>NaN</td>\n      <td>TRAINING</td>\n      <td>NaT</td>\n      <td>NaN</td>\n      <td>0</td>\n      <td>0</td>\n      <td>0</td>\n      <td>0</td>\n      <td>1</td>\n      <td>TRUE_NEGATIVE</td>\n    </tr>\n    <tr>\n      <th>778</th>\n      <td>2015-01-18</td>\n      <td>100002</td>\n      <td>0</td>\n      <td>0</td>\n      <td>2015-10-27</td>\n      <td>9.116487e-04</td>\n      <td>0</td>\n      <td>0</td>\n      <td>NaT</td>\n      <td>NaN</td>\n      <td>TRAINING</td>\n      <td>NaT</td>\n      <td>NaN</td>\n      <td>0</td>\n      <td>0</td>\n      <td>0</td>\n      <td>0</td>\n      <td>1</td>\n      <td>TRUE_NEGATIVE</td>\n    </tr>\n    <tr>\n      <th>779</th>\n      <td>2015-01-19</td>\n      <td>100002</td>\n      <td>0</td>\n      <td>0</td>\n      <td>2015-10-27</td>\n      <td>1.194306e-05</td>\n      <td>0</td>\n      <td>0</td>\n      <td>NaT</td>\n      <td>NaN</td>\n      <td>TRAINING</td>\n      <td>NaT</td>\n      <td>NaN</td>\n      <td>0</td>\n      <td>0</td>\n      <td>0</td>\n      <td>0</td>\n      <td>1</td>\n      <td>TRUE_NEGATIVE</td>\n    </tr>\n    <tr>\n      <th>780</th>\n      <td>2015-01-20</td>\n      <td>100002</td>\n      <td>0</td>\n      <td>0</td>\n      <td>2015-10-27</td>\n      <td>8.562970e-05</td>\n      <td>0</td>\n      <td>0</td>\n      <td>NaT</td>\n      <td>NaN</td>\n      <td>TRAINING</td>\n      <td>NaT</td>\n      <td>NaN</td>\n      <td>0</td>\n      <td>0</td>\n      <td>0</td>\n      <td>0</td>\n      <td>1</td>\n      <td>TRUE_NEGATIVE</td>\n    </tr>\n    <tr>\n      <th>781</th>\n      <td>2015-01-21</td>\n      <td>100002</td>\n      <td>0</td>\n      <td>0</td>\n      <td>2015-10-27</td>\n      <td>1.962981e-06</td>\n      <td>0</td>\n      <td>0</td>\n      <td>NaT</td>\n      <td>NaN</td>\n      <td>TRAINING</td>\n      <td>NaT</td>\n      <td>NaN</td>\n      <td>0</td>\n      <td>0</td>\n      <td>0</td>\n      <td>0</td>\n      <td>1</td>\n      <td>TRUE_NEGATIVE</td>\n    </tr>\n    <tr>\n      <th>782</th>\n      <td>2015-01-22</td>\n      <td>100002</td>\n      <td>0</td>\n      <td>0</td>\n      <td>2015-10-27</td>\n      <td>4.070701e-07</td>\n      <td>0</td>\n      <td>0</td>\n      <td>NaT</td>\n      <td>NaN</td>\n      <td>TRAINING</td>\n      <td>NaT</td>\n      <td>NaN</td>\n      <td>0</td>\n      <td>0</td>\n      <td>0</td>\n      <td>0</td>\n      <td>1</td>\n      <td>TRUE_NEGATIVE</td>\n    </tr>\n    <tr>\n      <th>783</th>\n      <td>2015-01-23</td>\n      <td>100002</td>\n      <td>0</td>\n      <td>0</td>\n      <td>2015-10-27</td>\n      <td>1.546380e-08</td>\n      <td>0</td>\n      <td>0</td>\n      <td>NaT</td>\n      <td>NaN</td>\n      <td>TRAINING</td>\n      <td>NaT</td>\n      <td>NaN</td>\n      <td>0</td>\n      <td>0</td>\n      <td>0</td>\n      <td>0</td>\n      <td>1</td>\n      <td>TRUE_NEGATIVE</td>\n    </tr>\n    <tr>\n      <th>784</th>\n      <td>2015-01-24</td>\n      <td>100002</td>\n      <td>0</td>\n      <td>0</td>\n      <td>2015-10-27</td>\n      <td>8.149642e-09</td>\n      <td>0</td>\n      <td>0</td>\n      <td>NaT</td>\n      <td>NaN</td>\n      <td>TRAINING</td>\n      <td>NaT</td>\n      <td>NaN</td>\n      <td>0</td>\n      <td>0</td>\n      <td>0</td>\n      <td>0</td>\n      <td>1</td>\n      <td>TRUE_NEGATIVE</td>\n    </tr>\n    <tr>\n      <th>785</th>\n      <td>2015-01-25</td>\n      <td>100002</td>\n      <td>0</td>\n      <td>0</td>\n      <td>2015-10-27</td>\n      <td>6.806126e-09</td>\n      <td>0</td>\n      <td>0</td>\n      <td>NaT</td>\n      <td>NaN</td>\n      <td>TRAINING</td>\n      <td>NaT</td>\n      <td>NaN</td>\n      <td>0</td>\n      <td>0</td>\n      <td>0</td>\n      <td>0</td>\n      <td>1</td>\n      <td>TRUE_NEGATIVE</td>\n    </tr>\n    <tr>\n      <th>786</th>\n      <td>2015-01-26</td>\n      <td>100002</td>\n      <td>0</td>\n      <td>0</td>\n      <td>2015-10-27</td>\n      <td>3.947185e-06</td>\n      <td>0</td>\n      <td>0</td>\n      <td>NaT</td>\n      <td>NaN</td>\n      <td>TRAINING</td>\n      <td>NaT</td>\n      <td>NaN</td>\n      <td>0</td>\n      <td>0</td>\n      <td>0</td>\n      <td>0</td>\n      <td>1</td>\n      <td>TRUE_NEGATIVE</td>\n    </tr>\n    <tr>\n      <th>787</th>\n      <td>2015-01-27</td>\n      <td>100002</td>\n      <td>0</td>\n      <td>0</td>\n      <td>2015-10-27</td>\n      <td>2.508293e-06</td>\n      <td>0</td>\n      <td>0</td>\n      <td>NaT</td>\n      <td>NaN</td>\n      <td>TRAINING</td>\n      <td>NaT</td>\n      <td>NaN</td>\n      <td>0</td>\n      <td>0</td>\n      <td>0</td>\n      <td>0</td>\n      <td>1</td>\n      <td>TRUE_NEGATIVE</td>\n    </tr>\n    <tr>\n      <th>788</th>\n      <td>2015-01-28</td>\n      <td>100002</td>\n      <td>0</td>\n      <td>0</td>\n      <td>2015-10-27</td>\n      <td>3.250209e-07</td>\n      <td>0</td>\n      <td>0</td>\n      <td>NaT</td>\n      <td>NaN</td>\n      <td>TRAINING</td>\n      <td>NaT</td>\n      <td>NaN</td>\n      <td>0</td>\n      <td>0</td>\n      <td>0</td>\n      <td>0</td>\n      <td>1</td>\n      <td>TRUE_NEGATIVE</td>\n    </tr>\n    <tr>\n      <th>789</th>\n      <td>2015-01-29</td>\n      <td>100002</td>\n      <td>0</td>\n      <td>0</td>\n      <td>2015-10-27</td>\n      <td>1.479704e-06</td>\n      <td>0</td>\n      <td>0</td>\n      <td>NaT</td>\n      <td>NaN</td>\n      <td>TRAINING</td>\n      <td>NaT</td>\n      <td>NaN</td>\n      <td>0</td>\n      <td>0</td>\n      <td>0</td>\n      <td>0</td>\n      <td>1</td>\n      <td>TRUE_NEGATIVE</td>\n    </tr>\n    <tr>\n      <th>790</th>\n      <td>2015-01-30</td>\n      <td>100002</td>\n      <td>0</td>\n      <td>0</td>\n      <td>2015-10-27</td>\n      <td>1.075925e-05</td>\n      <td>0</td>\n      <td>0</td>\n      <td>NaT</td>\n      <td>NaN</td>\n      <td>TRAINING</td>\n      <td>NaT</td>\n      <td>NaN</td>\n      <td>0</td>\n      <td>0</td>\n      <td>0</td>\n      <td>0</td>\n      <td>1</td>\n      <td>TRUE_NEGATIVE</td>\n    </tr>\n    <tr>\n      <th>791</th>\n      <td>2015-01-31</td>\n      <td>100002</td>\n      <td>0</td>\n      <td>0</td>\n      <td>2015-10-27</td>\n      <td>1.607336e-05</td>\n      <td>0</td>\n      <td>0</td>\n      <td>NaT</td>\n      <td>NaN</td>\n      <td>TRAINING</td>\n      <td>NaT</td>\n      <td>NaN</td>\n      <td>0</td>\n      <td>0</td>\n      <td>0</td>\n      <td>0</td>\n      <td>1</td>\n      <td>TRUE_NEGATIVE</td>\n    </tr>\n    <tr>\n      <th>792</th>\n      <td>2015-02-01</td>\n      <td>100002</td>\n      <td>0</td>\n      <td>0</td>\n      <td>2015-10-27</td>\n      <td>1.918182e-05</td>\n      <td>0</td>\n      <td>0</td>\n      <td>NaT</td>\n      <td>NaN</td>\n      <td>TRAINING</td>\n      <td>NaT</td>\n      <td>NaN</td>\n      <td>0</td>\n      <td>0</td>\n      <td>0</td>\n      <td>0</td>\n      <td>1</td>\n      <td>TRUE_NEGATIVE</td>\n    </tr>\n    <tr>\n      <th>793</th>\n      <td>2015-02-02</td>\n      <td>100002</td>\n      <td>0</td>\n      <td>0</td>\n      <td>2015-10-27</td>\n      <td>1.705946e-06</td>\n      <td>0</td>\n      <td>0</td>\n      <td>NaT</td>\n      <td>NaN</td>\n      <td>TRAINING</td>\n      <td>NaT</td>\n      <td>NaN</td>\n      <td>0</td>\n      <td>0</td>\n      <td>0</td>\n      <td>0</td>\n      <td>1</td>\n      <td>TRUE_NEGATIVE</td>\n    </tr>\n    <tr>\n      <th>794</th>\n      <td>2015-02-03</td>\n      <td>100002</td>\n      <td>0</td>\n      <td>0</td>\n      <td>2015-10-27</td>\n      <td>7.613422e-06</td>\n      <td>0</td>\n      <td>0</td>\n      <td>NaT</td>\n      <td>NaN</td>\n      <td>TRAINING</td>\n      <td>NaT</td>\n      <td>NaN</td>\n      <td>0</td>\n      <td>0</td>\n      <td>0</td>\n      <td>0</td>\n      <td>1</td>\n      <td>TRUE_NEGATIVE</td>\n    </tr>\n    <tr>\n      <th>795</th>\n      <td>2015-02-04</td>\n      <td>100002</td>\n      <td>0</td>\n      <td>0</td>\n      <td>2015-10-27</td>\n      <td>1.389780e-06</td>\n      <td>0</td>\n      <td>0</td>\n      <td>NaT</td>\n      <td>NaN</td>\n      <td>TRAINING</td>\n      <td>NaT</td>\n      <td>NaN</td>\n      <td>0</td>\n      <td>0</td>\n      <td>0</td>\n      <td>0</td>\n      <td>1</td>\n      <td>TRUE_NEGATIVE</td>\n    </tr>\n    <tr>\n      <th>796</th>\n      <td>2015-02-05</td>\n      <td>100002</td>\n      <td>0</td>\n      <td>0</td>\n      <td>2015-10-27</td>\n      <td>2.251188e-06</td>\n      <td>0</td>\n      <td>0</td>\n      <td>NaT</td>\n      <td>NaN</td>\n      <td>TRAINING</td>\n      <td>NaT</td>\n      <td>NaN</td>\n      <td>0</td>\n      <td>0</td>\n      <td>0</td>\n      <td>0</td>\n      <td>1</td>\n      <td>TRUE_NEGATIVE</td>\n    </tr>\n    <tr>\n      <th>797</th>\n      <td>2015-02-06</td>\n      <td>100002</td>\n      <td>0</td>\n      <td>0</td>\n      <td>2015-10-27</td>\n      <td>2.894600e-07</td>\n      <td>0</td>\n      <td>0</td>\n      <td>NaT</td>\n      <td>NaN</td>\n      <td>TRAINING</td>\n      <td>NaT</td>\n      <td>NaN</td>\n      <td>0</td>\n      <td>0</td>\n      <td>0</td>\n      <td>0</td>\n      <td>1</td>\n      <td>TRUE_NEGATIVE</td>\n    </tr>\n    <tr>\n      <th>798</th>\n      <td>2015-02-07</td>\n      <td>100002</td>\n      <td>0</td>\n      <td>0</td>\n      <td>2015-10-27</td>\n      <td>1.670360e-05</td>\n      <td>0</td>\n      <td>0</td>\n      <td>NaT</td>\n      <td>NaN</td>\n      <td>TRAINING</td>\n      <td>NaT</td>\n      <td>NaN</td>\n      <td>0</td>\n      <td>0</td>\n      <td>0</td>\n      <td>0</td>\n      <td>1</td>\n      <td>TRUE_NEGATIVE</td>\n    </tr>\n    <tr>\n      <th>799</th>\n      <td>2015-02-08</td>\n      <td>100002</td>\n      <td>0</td>\n      <td>0</td>\n      <td>2015-10-27</td>\n      <td>1.168630e-06</td>\n      <td>0</td>\n      <td>0</td>\n      <td>NaT</td>\n      <td>NaN</td>\n      <td>TRAINING</td>\n      <td>NaT</td>\n      <td>NaN</td>\n      <td>0</td>\n      <td>0</td>\n      <td>0</td>\n      <td>0</td>\n      <td>1</td>\n      <td>TRUE_NEGATIVE</td>\n    </tr>\n    <tr>\n      <th>800</th>\n      <td>2015-02-09</td>\n      <td>100002</td>\n      <td>0</td>\n      <td>0</td>\n      <td>2015-10-27</td>\n      <td>6.816248e-07</td>\n      <td>0</td>\n      <td>0</td>\n      <td>NaT</td>\n      <td>NaN</td>\n      <td>TRAINING</td>\n      <td>NaT</td>\n      <td>NaN</td>\n      <td>0</td>\n      <td>0</td>\n      <td>0</td>\n      <td>0</td>\n      <td>1</td>\n      <td>TRUE_NEGATIVE</td>\n    </tr>\n    <tr>\n      <th>801</th>\n      <td>2015-02-10</td>\n      <td>100002</td>\n      <td>0</td>\n      <td>0</td>\n      <td>2015-10-27</td>\n      <td>1.585891e-06</td>\n      <td>0</td>\n      <td>0</td>\n      <td>NaT</td>\n      <td>NaN</td>\n      <td>TRAINING</td>\n      <td>NaT</td>\n      <td>NaN</td>\n      <td>0</td>\n      <td>0</td>\n      <td>0</td>\n      <td>0</td>\n      <td>1</td>\n      <td>TRUE_NEGATIVE</td>\n    </tr>\n    <tr>\n      <th>802</th>\n      <td>2015-02-11</td>\n      <td>100002</td>\n      <td>0</td>\n      <td>0</td>\n      <td>2015-10-27</td>\n      <td>4.911433e-06</td>\n      <td>0</td>\n      <td>0</td>\n      <td>NaT</td>\n      <td>NaN</td>\n      <td>TRAINING</td>\n      <td>NaT</td>\n      <td>NaN</td>\n      <td>0</td>\n      <td>0</td>\n      <td>0</td>\n      <td>0</td>\n      <td>1</td>\n      <td>TRUE_NEGATIVE</td>\n    </tr>\n    <tr>\n      <th>803</th>\n      <td>2015-02-12</td>\n      <td>100002</td>\n      <td>0</td>\n      <td>0</td>\n      <td>2015-10-27</td>\n      <td>4.230093e-06</td>\n      <td>0</td>\n      <td>0</td>\n      <td>NaT</td>\n      <td>NaN</td>\n      <td>TRAINING</td>\n      <td>NaT</td>\n      <td>NaN</td>\n      <td>0</td>\n      <td>0</td>\n      <td>0</td>\n      <td>0</td>\n      <td>1</td>\n      <td>TRUE_NEGATIVE</td>\n    </tr>\n    <tr>\n      <th>804</th>\n      <td>2015-02-13</td>\n      <td>100002</td>\n      <td>0</td>\n      <td>0</td>\n      <td>2015-10-27</td>\n      <td>2.511299e-06</td>\n      <td>0</td>\n      <td>0</td>\n      <td>NaT</td>\n      <td>NaN</td>\n      <td>TRAINING</td>\n      <td>NaT</td>\n      <td>NaN</td>\n      <td>0</td>\n      <td>0</td>\n      <td>0</td>\n      <td>0</td>\n      <td>1</td>\n      <td>TRUE_NEGATIVE</td>\n    </tr>\n    <tr>\n      <th>805</th>\n      <td>2015-02-14</td>\n      <td>100002</td>\n      <td>0</td>\n      <td>0</td>\n      <td>2015-10-27</td>\n      <td>6.199998e-06</td>\n      <td>0</td>\n      <td>0</td>\n      <td>NaT</td>\n      <td>NaN</td>\n      <td>TRAINING</td>\n      <td>NaT</td>\n      <td>NaN</td>\n      <td>0</td>\n      <td>0</td>\n      <td>0</td>\n      <td>0</td>\n      <td>1</td>\n      <td>TRUE_NEGATIVE</td>\n    </tr>\n    <tr>\n      <th>806</th>\n      <td>2015-02-15</td>\n      <td>100002</td>\n      <td>0</td>\n      <td>0</td>\n      <td>2015-10-27</td>\n      <td>5.047549e-06</td>\n      <td>0</td>\n      <td>0</td>\n      <td>NaT</td>\n      <td>NaN</td>\n      <td>TRAINING</td>\n      <td>NaT</td>\n      <td>NaN</td>\n      <td>0</td>\n      <td>0</td>\n      <td>0</td>\n      <td>0</td>\n      <td>1</td>\n      <td>TRUE_NEGATIVE</td>\n    </tr>\n    <tr>\n      <th>807</th>\n      <td>2015-02-16</td>\n      <td>100002</td>\n      <td>0</td>\n      <td>0</td>\n      <td>2015-10-27</td>\n      <td>6.938844e-06</td>\n      <td>0</td>\n      <td>0</td>\n      <td>NaT</td>\n      <td>NaN</td>\n      <td>TRAINING</td>\n      <td>NaT</td>\n      <td>NaN</td>\n      <td>0</td>\n      <td>0</td>\n      <td>0</td>\n      <td>0</td>\n      <td>1</td>\n      <td>TRUE_NEGATIVE</td>\n    </tr>\n    <tr>\n      <th>808</th>\n      <td>2015-02-17</td>\n      <td>100002</td>\n      <td>0</td>\n      <td>0</td>\n      <td>2015-10-27</td>\n      <td>9.323884e-06</td>\n      <td>0</td>\n      <td>0</td>\n      <td>NaT</td>\n      <td>NaN</td>\n      <td>TRAINING</td>\n      <td>NaT</td>\n      <td>NaN</td>\n      <td>0</td>\n      <td>0</td>\n      <td>0</td>\n      <td>0</td>\n      <td>1</td>\n      <td>TRUE_NEGATIVE</td>\n    </tr>\n    <tr>\n      <th>809</th>\n      <td>2015-02-18</td>\n      <td>100002</td>\n      <td>0</td>\n      <td>0</td>\n      <td>2015-10-27</td>\n      <td>6.141949e-06</td>\n      <td>0</td>\n      <td>0</td>\n      <td>NaT</td>\n      <td>NaN</td>\n      <td>TRAINING</td>\n      <td>NaT</td>\n      <td>NaN</td>\n      <td>0</td>\n      <td>0</td>\n      <td>0</td>\n      <td>0</td>\n      <td>1</td>\n      <td>TRUE_NEGATIVE</td>\n    </tr>\n    <tr>\n      <th>810</th>\n      <td>2015-02-19</td>\n      <td>100002</td>\n      <td>0</td>\n      <td>0</td>\n      <td>2015-10-27</td>\n      <td>4.362742e-06</td>\n      <td>0</td>\n      <td>0</td>\n      <td>NaT</td>\n      <td>NaN</td>\n      <td>TRAINING</td>\n      <td>NaT</td>\n      <td>NaN</td>\n      <td>0</td>\n      <td>0</td>\n      <td>0</td>\n      <td>0</td>\n      <td>1</td>\n      <td>TRUE_NEGATIVE</td>\n    </tr>\n    <tr>\n      <th>811</th>\n      <td>2015-02-20</td>\n      <td>100002</td>\n      <td>0</td>\n      <td>0</td>\n      <td>2015-10-27</td>\n      <td>5.221748e-06</td>\n      <td>0</td>\n      <td>0</td>\n      <td>NaT</td>\n      <td>NaN</td>\n      <td>TRAINING</td>\n      <td>NaT</td>\n      <td>NaN</td>\n      <td>0</td>\n      <td>0</td>\n      <td>0</td>\n      <td>0</td>\n      <td>1</td>\n      <td>TRUE_NEGATIVE</td>\n    </tr>\n    <tr>\n      <th>812</th>\n      <td>2015-02-21</td>\n      <td>100002</td>\n      <td>0</td>\n      <td>0</td>\n      <td>2015-10-27</td>\n      <td>3.107212e-06</td>\n      <td>0</td>\n      <td>0</td>\n      <td>NaT</td>\n      <td>NaN</td>\n      <td>TRAINING</td>\n      <td>NaT</td>\n      <td>NaN</td>\n      <td>0</td>\n      <td>0</td>\n      <td>0</td>\n      <td>0</td>\n      <td>1</td>\n      <td>TRUE_NEGATIVE</td>\n    </tr>\n    <tr>\n      <th>813</th>\n      <td>2015-02-22</td>\n      <td>100002</td>\n      <td>0</td>\n      <td>0</td>\n      <td>2015-10-27</td>\n      <td>3.521548e-06</td>\n      <td>0</td>\n      <td>0</td>\n      <td>NaT</td>\n      <td>NaN</td>\n      <td>TRAINING</td>\n      <td>NaT</td>\n      <td>NaN</td>\n      <td>0</td>\n      <td>0</td>\n      <td>0</td>\n      <td>0</td>\n      <td>1</td>\n      <td>TRUE_NEGATIVE</td>\n    </tr>\n    <tr>\n      <th>814</th>\n      <td>2015-02-23</td>\n      <td>100002</td>\n      <td>0</td>\n      <td>0</td>\n      <td>2015-10-27</td>\n      <td>8.413856e-06</td>\n      <td>0</td>\n      <td>0</td>\n      <td>NaT</td>\n      <td>NaN</td>\n      <td>TRAINING</td>\n      <td>NaT</td>\n      <td>NaN</td>\n      <td>0</td>\n      <td>0</td>\n      <td>0</td>\n      <td>0</td>\n      <td>1</td>\n      <td>TRUE_NEGATIVE</td>\n    </tr>\n    <tr>\n      <th>815</th>\n      <td>2015-02-24</td>\n      <td>100002</td>\n      <td>0</td>\n      <td>0</td>\n      <td>2015-10-27</td>\n      <td>9.894304e-06</td>\n      <td>0</td>\n      <td>0</td>\n      <td>NaT</td>\n      <td>NaN</td>\n      <td>TRAINING</td>\n      <td>NaT</td>\n      <td>NaN</td>\n      <td>0</td>\n      <td>0</td>\n      <td>0</td>\n      <td>0</td>\n      <td>1</td>\n      <td>TRUE_NEGATIVE</td>\n    </tr>\n    <tr>\n      <th>816</th>\n      <td>2015-02-25</td>\n      <td>100002</td>\n      <td>0</td>\n      <td>0</td>\n      <td>2015-10-27</td>\n      <td>8.698200e-06</td>\n      <td>0</td>\n      <td>0</td>\n      <td>NaT</td>\n      <td>NaN</td>\n      <td>TRAINING</td>\n      <td>NaT</td>\n      <td>NaN</td>\n      <td>0</td>\n      <td>0</td>\n      <td>0</td>\n      <td>0</td>\n      <td>1</td>\n      <td>TRUE_NEGATIVE</td>\n    </tr>\n    <tr>\n      <th>817</th>\n      <td>2015-02-26</td>\n      <td>100002</td>\n      <td>0</td>\n      <td>0</td>\n      <td>2015-10-27</td>\n      <td>5.209722e-06</td>\n      <td>0</td>\n      <td>0</td>\n      <td>NaT</td>\n      <td>NaN</td>\n      <td>TRAINING</td>\n      <td>NaT</td>\n      <td>NaN</td>\n      <td>0</td>\n      <td>0</td>\n      <td>0</td>\n      <td>0</td>\n      <td>1</td>\n      <td>TRUE_NEGATIVE</td>\n    </tr>\n    <tr>\n      <th>818</th>\n      <td>2015-02-27</td>\n      <td>100002</td>\n      <td>0</td>\n      <td>0</td>\n      <td>2015-10-27</td>\n      <td>1.556173e-06</td>\n      <td>0</td>\n      <td>0</td>\n      <td>NaT</td>\n      <td>NaN</td>\n      <td>TRAINING</td>\n      <td>NaT</td>\n      <td>NaN</td>\n      <td>0</td>\n      <td>0</td>\n      <td>0</td>\n      <td>0</td>\n      <td>1</td>\n      <td>TRUE_NEGATIVE</td>\n    </tr>\n    <tr>\n      <th>819</th>\n      <td>2015-02-28</td>\n      <td>100002</td>\n      <td>0</td>\n      <td>0</td>\n      <td>2015-10-27</td>\n      <td>1.278493e-06</td>\n      <td>0</td>\n      <td>0</td>\n      <td>NaT</td>\n      <td>NaN</td>\n      <td>TRAINING</td>\n      <td>NaT</td>\n      <td>NaN</td>\n      <td>0</td>\n      <td>0</td>\n      <td>0</td>\n      <td>0</td>\n      <td>1</td>\n      <td>TRUE_NEGATIVE</td>\n    </tr>\n    <tr>\n      <th>820</th>\n      <td>2015-03-01</td>\n      <td>100002</td>\n      <td>0</td>\n      <td>0</td>\n      <td>2015-10-27</td>\n      <td>1.587130e-06</td>\n      <td>0</td>\n      <td>0</td>\n      <td>NaT</td>\n      <td>NaN</td>\n      <td>TRAINING</td>\n      <td>NaT</td>\n      <td>NaN</td>\n      <td>0</td>\n      <td>0</td>\n      <td>0</td>\n      <td>0</td>\n      <td>1</td>\n      <td>TRUE_NEGATIVE</td>\n    </tr>\n    <tr>\n      <th>821</th>\n      <td>2015-03-02</td>\n      <td>100002</td>\n      <td>0</td>\n      <td>0</td>\n      <td>2015-10-27</td>\n      <td>1.804341e-06</td>\n      <td>0</td>\n      <td>0</td>\n      <td>NaT</td>\n      <td>NaN</td>\n      <td>TRAINING</td>\n      <td>NaT</td>\n      <td>NaN</td>\n      <td>0</td>\n      <td>0</td>\n      <td>0</td>\n      <td>0</td>\n      <td>1</td>\n      <td>TRUE_NEGATIVE</td>\n    </tr>\n    <tr>\n      <th>822</th>\n      <td>2015-03-03</td>\n      <td>100002</td>\n      <td>0</td>\n      <td>0</td>\n      <td>2015-10-27</td>\n      <td>3.156185e-06</td>\n      <td>0</td>\n      <td>0</td>\n      <td>NaT</td>\n      <td>NaN</td>\n      <td>TRAINING</td>\n      <td>NaT</td>\n      <td>NaN</td>\n      <td>0</td>\n      <td>0</td>\n      <td>0</td>\n      <td>0</td>\n      <td>1</td>\n      <td>TRUE_NEGATIVE</td>\n    </tr>\n    <tr>\n      <th>823</th>\n      <td>2015-03-04</td>\n      <td>100002</td>\n      <td>0</td>\n      <td>0</td>\n      <td>2015-10-27</td>\n      <td>4.342606e-06</td>\n      <td>0</td>\n      <td>0</td>\n      <td>NaT</td>\n      <td>NaN</td>\n      <td>TRAINING</td>\n      <td>NaT</td>\n      <td>NaN</td>\n      <td>0</td>\n      <td>0</td>\n      <td>0</td>\n      <td>0</td>\n      <td>1</td>\n      <td>TRUE_NEGATIVE</td>\n    </tr>\n    <tr>\n      <th>824</th>\n      <td>2015-03-05</td>\n      <td>100002</td>\n      <td>0</td>\n      <td>0</td>\n      <td>2015-10-27</td>\n      <td>1.148199e-05</td>\n      <td>0</td>\n      <td>0</td>\n      <td>NaT</td>\n      <td>NaN</td>\n      <td>TRAINING</td>\n      <td>NaT</td>\n      <td>NaN</td>\n      <td>0</td>\n      <td>0</td>\n      <td>0</td>\n      <td>0</td>\n      <td>1</td>\n      <td>TRUE_NEGATIVE</td>\n    </tr>\n    <tr>\n      <th>825</th>\n      <td>2015-03-06</td>\n      <td>100002</td>\n      <td>0</td>\n      <td>0</td>\n      <td>2015-10-27</td>\n      <td>1.469371e-05</td>\n      <td>0</td>\n      <td>0</td>\n      <td>NaT</td>\n      <td>NaN</td>\n      <td>TRAINING</td>\n      <td>NaT</td>\n      <td>NaN</td>\n      <td>0</td>\n      <td>0</td>\n      <td>0</td>\n      <td>0</td>\n      <td>1</td>\n      <td>TRUE_NEGATIVE</td>\n    </tr>\n    <tr>\n      <th>826</th>\n      <td>2015-03-07</td>\n      <td>100002</td>\n      <td>0</td>\n      <td>0</td>\n      <td>2015-10-27</td>\n      <td>3.889123e-06</td>\n      <td>0</td>\n      <td>0</td>\n      <td>NaT</td>\n      <td>NaN</td>\n      <td>TRAINING</td>\n      <td>NaT</td>\n      <td>NaN</td>\n      <td>0</td>\n      <td>0</td>\n      <td>0</td>\n      <td>0</td>\n      <td>1</td>\n      <td>TRUE_NEGATIVE</td>\n    </tr>\n    <tr>\n      <th>827</th>\n      <td>2015-03-08</td>\n      <td>100002</td>\n      <td>0</td>\n      <td>0</td>\n      <td>2015-10-27</td>\n      <td>1.117929e-05</td>\n      <td>0</td>\n      <td>0</td>\n      <td>NaT</td>\n      <td>NaN</td>\n      <td>TRAINING</td>\n      <td>NaT</td>\n      <td>NaN</td>\n      <td>0</td>\n      <td>0</td>\n      <td>0</td>\n      <td>0</td>\n      <td>1</td>\n      <td>TRUE_NEGATIVE</td>\n    </tr>\n    <tr>\n      <th>828</th>\n      <td>2015-03-09</td>\n      <td>100002</td>\n      <td>0</td>\n      <td>0</td>\n      <td>2015-10-27</td>\n      <td>7.757232e-06</td>\n      <td>0</td>\n      <td>0</td>\n      <td>NaT</td>\n      <td>NaN</td>\n      <td>TRAINING</td>\n      <td>NaT</td>\n      <td>NaN</td>\n      <td>0</td>\n      <td>0</td>\n      <td>0</td>\n      <td>0</td>\n      <td>1</td>\n      <td>TRUE_NEGATIVE</td>\n    </tr>\n    <tr>\n      <th>829</th>\n      <td>2015-03-10</td>\n      <td>100002</td>\n      <td>0</td>\n      <td>0</td>\n      <td>2015-10-27</td>\n      <td>9.633780e-06</td>\n      <td>0</td>\n      <td>0</td>\n      <td>NaT</td>\n      <td>NaN</td>\n      <td>TRAINING</td>\n      <td>NaT</td>\n      <td>NaN</td>\n      <td>0</td>\n      <td>0</td>\n      <td>0</td>\n      <td>0</td>\n      <td>1</td>\n      <td>TRUE_NEGATIVE</td>\n    </tr>\n    <tr>\n      <th>830</th>\n      <td>2015-03-11</td>\n      <td>100002</td>\n      <td>0</td>\n      <td>0</td>\n      <td>2015-10-27</td>\n      <td>3.137468e-05</td>\n      <td>0</td>\n      <td>0</td>\n      <td>NaT</td>\n      <td>NaN</td>\n      <td>TRAINING</td>\n      <td>NaT</td>\n      <td>NaN</td>\n      <td>0</td>\n      <td>0</td>\n      <td>0</td>\n      <td>0</td>\n      <td>1</td>\n      <td>TRUE_NEGATIVE</td>\n    </tr>\n    <tr>\n      <th>831</th>\n      <td>2015-03-12</td>\n      <td>100002</td>\n      <td>0</td>\n      <td>0</td>\n      <td>2015-10-27</td>\n      <td>2.688451e-05</td>\n      <td>0</td>\n      <td>0</td>\n      <td>NaT</td>\n      <td>NaN</td>\n      <td>TRAINING</td>\n      <td>NaT</td>\n      <td>NaN</td>\n      <td>0</td>\n      <td>0</td>\n      <td>0</td>\n      <td>0</td>\n      <td>1</td>\n      <td>TRUE_NEGATIVE</td>\n    </tr>\n    <tr>\n      <th>832</th>\n      <td>2015-03-13</td>\n      <td>100002</td>\n      <td>0</td>\n      <td>0</td>\n      <td>2015-10-27</td>\n      <td>1.759289e-05</td>\n      <td>0</td>\n      <td>0</td>\n      <td>NaT</td>\n      <td>NaN</td>\n      <td>TRAINING</td>\n      <td>NaT</td>\n      <td>NaN</td>\n      <td>0</td>\n      <td>0</td>\n      <td>0</td>\n      <td>0</td>\n      <td>1</td>\n      <td>TRUE_NEGATIVE</td>\n    </tr>\n    <tr>\n      <th>833</th>\n      <td>2015-03-14</td>\n      <td>100002</td>\n      <td>0</td>\n      <td>0</td>\n      <td>2015-10-27</td>\n      <td>1.013099e-05</td>\n      <td>0</td>\n      <td>0</td>\n      <td>NaT</td>\n      <td>NaN</td>\n      <td>TRAINING</td>\n      <td>NaT</td>\n      <td>NaN</td>\n      <td>0</td>\n      <td>0</td>\n      <td>0</td>\n      <td>0</td>\n      <td>1</td>\n      <td>TRUE_NEGATIVE</td>\n    </tr>\n    <tr>\n      <th>834</th>\n      <td>2015-03-15</td>\n      <td>100002</td>\n      <td>0</td>\n      <td>0</td>\n      <td>2015-10-27</td>\n      <td>2.092822e-05</td>\n      <td>0</td>\n      <td>0</td>\n      <td>NaT</td>\n      <td>NaN</td>\n      <td>TRAINING</td>\n      <td>NaT</td>\n      <td>NaN</td>\n      <td>0</td>\n      <td>0</td>\n      <td>0</td>\n      <td>0</td>\n      <td>1</td>\n      <td>TRUE_NEGATIVE</td>\n    </tr>\n    <tr>\n      <th>835</th>\n      <td>2015-03-16</td>\n      <td>100002</td>\n      <td>0</td>\n      <td>0</td>\n      <td>2015-10-27</td>\n      <td>1.137939e-05</td>\n      <td>0</td>\n      <td>0</td>\n      <td>NaT</td>\n      <td>NaN</td>\n      <td>TRAINING</td>\n      <td>NaT</td>\n      <td>NaN</td>\n      <td>0</td>\n      <td>0</td>\n      <td>0</td>\n      <td>0</td>\n      <td>1</td>\n      <td>TRUE_NEGATIVE</td>\n    </tr>\n    <tr>\n      <th>836</th>\n      <td>2015-03-17</td>\n      <td>100002</td>\n      <td>0</td>\n      <td>0</td>\n      <td>2015-10-27</td>\n      <td>5.425961e-05</td>\n      <td>0</td>\n      <td>0</td>\n      <td>NaT</td>\n      <td>NaN</td>\n      <td>TRAINING</td>\n      <td>NaT</td>\n      <td>NaN</td>\n      <td>0</td>\n      <td>0</td>\n      <td>0</td>\n      <td>0</td>\n      <td>1</td>\n      <td>TRUE_NEGATIVE</td>\n    </tr>\n    <tr>\n      <th>837</th>\n      <td>2015-03-18</td>\n      <td>100002</td>\n      <td>0</td>\n      <td>0</td>\n      <td>2015-10-27</td>\n      <td>5.408902e-05</td>\n      <td>0</td>\n      <td>0</td>\n      <td>NaT</td>\n      <td>NaN</td>\n      <td>TRAINING</td>\n      <td>NaT</td>\n      <td>NaN</td>\n      <td>0</td>\n      <td>0</td>\n      <td>0</td>\n      <td>0</td>\n      <td>1</td>\n      <td>TRUE_NEGATIVE</td>\n    </tr>\n    <tr>\n      <th>838</th>\n      <td>2015-03-19</td>\n      <td>100002</td>\n      <td>0</td>\n      <td>0</td>\n      <td>2015-10-27</td>\n      <td>4.551547e-05</td>\n      <td>0</td>\n      <td>0</td>\n      <td>NaT</td>\n      <td>NaN</td>\n      <td>TRAINING</td>\n      <td>NaT</td>\n      <td>NaN</td>\n      <td>0</td>\n      <td>0</td>\n      <td>0</td>\n      <td>0</td>\n      <td>1</td>\n      <td>TRUE_NEGATIVE</td>\n    </tr>\n    <tr>\n      <th>839</th>\n      <td>2015-03-20</td>\n      <td>100002</td>\n      <td>0</td>\n      <td>0</td>\n      <td>2015-10-27</td>\n      <td>2.106833e-05</td>\n      <td>0</td>\n      <td>0</td>\n      <td>NaT</td>\n      <td>NaN</td>\n      <td>TRAINING</td>\n      <td>NaT</td>\n      <td>NaN</td>\n      <td>0</td>\n      <td>0</td>\n      <td>0</td>\n      <td>0</td>\n      <td>1</td>\n      <td>TRUE_NEGATIVE</td>\n    </tr>\n    <tr>\n      <th>840</th>\n      <td>2015-03-21</td>\n      <td>100002</td>\n      <td>0</td>\n      <td>0</td>\n      <td>2015-10-27</td>\n      <td>1.492923e-04</td>\n      <td>0</td>\n      <td>0</td>\n      <td>NaT</td>\n      <td>NaN</td>\n      <td>TRAINING</td>\n      <td>NaT</td>\n      <td>NaN</td>\n      <td>0</td>\n      <td>0</td>\n      <td>0</td>\n      <td>0</td>\n      <td>1</td>\n      <td>TRUE_NEGATIVE</td>\n    </tr>\n    <tr>\n      <th>841</th>\n      <td>2015-03-22</td>\n      <td>100002</td>\n      <td>0</td>\n      <td>0</td>\n      <td>2015-10-27</td>\n      <td>2.334539e-05</td>\n      <td>0</td>\n      <td>0</td>\n      <td>NaT</td>\n      <td>NaN</td>\n      <td>TRAINING</td>\n      <td>NaT</td>\n      <td>NaN</td>\n      <td>0</td>\n      <td>0</td>\n      <td>0</td>\n      <td>0</td>\n      <td>1</td>\n      <td>TRUE_NEGATIVE</td>\n    </tr>\n    <tr>\n      <th>842</th>\n      <td>2015-03-23</td>\n      <td>100002</td>\n      <td>0</td>\n      <td>0</td>\n      <td>2015-10-27</td>\n      <td>2.571462e-05</td>\n      <td>0</td>\n      <td>0</td>\n      <td>NaT</td>\n      <td>NaN</td>\n      <td>TRAINING</td>\n      <td>NaT</td>\n      <td>NaN</td>\n      <td>0</td>\n      <td>0</td>\n      <td>0</td>\n      <td>0</td>\n      <td>1</td>\n      <td>TRUE_NEGATIVE</td>\n    </tr>\n    <tr>\n      <th>843</th>\n      <td>2015-03-24</td>\n      <td>100002</td>\n      <td>0</td>\n      <td>0</td>\n      <td>2015-10-27</td>\n      <td>4.640319e-05</td>\n      <td>0</td>\n      <td>0</td>\n      <td>NaT</td>\n      <td>NaN</td>\n      <td>TRAINING</td>\n      <td>NaT</td>\n      <td>NaN</td>\n      <td>0</td>\n      <td>0</td>\n      <td>0</td>\n      <td>0</td>\n      <td>1</td>\n      <td>TRUE_NEGATIVE</td>\n    </tr>\n    <tr>\n      <th>844</th>\n      <td>2015-03-25</td>\n      <td>100002</td>\n      <td>0</td>\n      <td>0</td>\n      <td>2015-10-27</td>\n      <td>8.675366e-07</td>\n      <td>0</td>\n      <td>0</td>\n      <td>NaT</td>\n      <td>NaN</td>\n      <td>TRAINING</td>\n      <td>NaT</td>\n      <td>NaN</td>\n      <td>0</td>\n      <td>0</td>\n      <td>0</td>\n      <td>0</td>\n      <td>1</td>\n      <td>TRUE_NEGATIVE</td>\n    </tr>\n    <tr>\n      <th>845</th>\n      <td>2015-03-26</td>\n      <td>100002</td>\n      <td>0</td>\n      <td>0</td>\n      <td>2015-10-27</td>\n      <td>6.856089e-06</td>\n      <td>0</td>\n      <td>0</td>\n      <td>NaT</td>\n      <td>NaN</td>\n      <td>TRAINING</td>\n      <td>NaT</td>\n      <td>NaN</td>\n      <td>0</td>\n      <td>0</td>\n      <td>0</td>\n      <td>0</td>\n      <td>1</td>\n      <td>TRUE_NEGATIVE</td>\n    </tr>\n    <tr>\n      <th>846</th>\n      <td>2015-03-27</td>\n      <td>100002</td>\n      <td>0</td>\n      <td>0</td>\n      <td>2015-10-27</td>\n      <td>3.403627e-05</td>\n      <td>0</td>\n      <td>0</td>\n      <td>NaT</td>\n      <td>NaN</td>\n      <td>TRAINING</td>\n      <td>NaT</td>\n      <td>NaN</td>\n      <td>0</td>\n      <td>0</td>\n      <td>0</td>\n      <td>0</td>\n      <td>1</td>\n      <td>TRUE_NEGATIVE</td>\n    </tr>\n    <tr>\n      <th>847</th>\n      <td>2015-03-28</td>\n      <td>100002</td>\n      <td>0</td>\n      <td>0</td>\n      <td>2015-10-27</td>\n      <td>3.883870e-05</td>\n      <td>0</td>\n      <td>0</td>\n      <td>NaT</td>\n      <td>NaN</td>\n      <td>TRAINING</td>\n      <td>NaT</td>\n      <td>NaN</td>\n      <td>0</td>\n      <td>0</td>\n      <td>0</td>\n      <td>0</td>\n      <td>1</td>\n      <td>TRUE_NEGATIVE</td>\n    </tr>\n    <tr>\n      <th>848</th>\n      <td>2015-03-29</td>\n      <td>100002</td>\n      <td>0</td>\n      <td>0</td>\n      <td>2015-10-27</td>\n      <td>7.309954e-06</td>\n      <td>0</td>\n      <td>0</td>\n      <td>NaT</td>\n      <td>NaN</td>\n      <td>TRAINING</td>\n      <td>NaT</td>\n      <td>NaN</td>\n      <td>0</td>\n      <td>0</td>\n      <td>0</td>\n      <td>0</td>\n      <td>1</td>\n      <td>TRUE_NEGATIVE</td>\n    </tr>\n    <tr>\n      <th>849</th>\n      <td>2015-03-30</td>\n      <td>100002</td>\n      <td>0</td>\n      <td>0</td>\n      <td>2015-10-27</td>\n      <td>3.433339e-06</td>\n      <td>0</td>\n      <td>0</td>\n      <td>NaT</td>\n      <td>NaN</td>\n      <td>TRAINING</td>\n      <td>NaT</td>\n      <td>NaN</td>\n      <td>0</td>\n      <td>0</td>\n      <td>0</td>\n      <td>0</td>\n      <td>1</td>\n      <td>TRUE_NEGATIVE</td>\n    </tr>\n    <tr>\n      <th>850</th>\n      <td>2015-03-31</td>\n      <td>100002</td>\n      <td>0</td>\n      <td>0</td>\n      <td>2015-10-27</td>\n      <td>1.030832e-05</td>\n      <td>0</td>\n      <td>0</td>\n      <td>NaT</td>\n      <td>NaN</td>\n      <td>TRAINING</td>\n      <td>NaT</td>\n      <td>NaN</td>\n      <td>0</td>\n      <td>0</td>\n      <td>0</td>\n      <td>0</td>\n      <td>1</td>\n      <td>TRUE_NEGATIVE</td>\n    </tr>\n    <tr>\n      <th>851</th>\n      <td>2015-04-01</td>\n      <td>100002</td>\n      <td>0</td>\n      <td>0</td>\n      <td>2015-10-27</td>\n      <td>2.224816e-05</td>\n      <td>0</td>\n      <td>0</td>\n      <td>NaT</td>\n      <td>NaN</td>\n      <td>TRAINING</td>\n      <td>NaT</td>\n      <td>NaN</td>\n      <td>0</td>\n      <td>0</td>\n      <td>0</td>\n      <td>0</td>\n      <td>1</td>\n      <td>TRUE_NEGATIVE</td>\n    </tr>\n    <tr>\n      <th>852</th>\n      <td>2015-04-02</td>\n      <td>100002</td>\n      <td>0</td>\n      <td>0</td>\n      <td>2015-10-27</td>\n      <td>5.195833e-06</td>\n      <td>0</td>\n      <td>0</td>\n      <td>NaT</td>\n      <td>NaN</td>\n      <td>TRAINING</td>\n      <td>NaT</td>\n      <td>NaN</td>\n      <td>0</td>\n      <td>0</td>\n      <td>0</td>\n      <td>0</td>\n      <td>1</td>\n      <td>TRUE_NEGATIVE</td>\n    </tr>\n    <tr>\n      <th>853</th>\n      <td>2015-04-03</td>\n      <td>100002</td>\n      <td>0</td>\n      <td>0</td>\n      <td>2015-10-27</td>\n      <td>5.790213e-06</td>\n      <td>0</td>\n      <td>0</td>\n      <td>NaT</td>\n      <td>NaN</td>\n      <td>TRAINING</td>\n      <td>NaT</td>\n      <td>NaN</td>\n      <td>0</td>\n      <td>0</td>\n      <td>0</td>\n      <td>0</td>\n      <td>1</td>\n      <td>TRUE_NEGATIVE</td>\n    </tr>\n    <tr>\n      <th>854</th>\n      <td>2015-04-04</td>\n      <td>100002</td>\n      <td>0</td>\n      <td>0</td>\n      <td>2015-10-27</td>\n      <td>5.421939e-06</td>\n      <td>0</td>\n      <td>0</td>\n      <td>NaT</td>\n      <td>NaN</td>\n      <td>TRAINING</td>\n      <td>NaT</td>\n      <td>NaN</td>\n      <td>0</td>\n      <td>0</td>\n      <td>0</td>\n      <td>0</td>\n      <td>1</td>\n      <td>TRUE_NEGATIVE</td>\n    </tr>\n    <tr>\n      <th>855</th>\n      <td>2015-04-05</td>\n      <td>100002</td>\n      <td>0</td>\n      <td>0</td>\n      <td>2015-10-27</td>\n      <td>2.693396e-06</td>\n      <td>0</td>\n      <td>0</td>\n      <td>NaT</td>\n      <td>NaN</td>\n      <td>TRAINING</td>\n      <td>NaT</td>\n      <td>NaN</td>\n      <td>0</td>\n      <td>0</td>\n      <td>0</td>\n      <td>0</td>\n      <td>1</td>\n      <td>TRUE_NEGATIVE</td>\n    </tr>\n    <tr>\n      <th>856</th>\n      <td>2015-04-06</td>\n      <td>100002</td>\n      <td>0</td>\n      <td>0</td>\n      <td>2015-10-27</td>\n      <td>1.159303e-06</td>\n      <td>0</td>\n      <td>0</td>\n      <td>NaT</td>\n      <td>NaN</td>\n      <td>TRAINING</td>\n      <td>NaT</td>\n      <td>NaN</td>\n      <td>0</td>\n      <td>0</td>\n      <td>0</td>\n      <td>0</td>\n      <td>1</td>\n      <td>TRUE_NEGATIVE</td>\n    </tr>\n    <tr>\n      <th>857</th>\n      <td>2015-04-07</td>\n      <td>100002</td>\n      <td>0</td>\n      <td>0</td>\n      <td>2015-10-27</td>\n      <td>2.127734e-05</td>\n      <td>0</td>\n      <td>0</td>\n      <td>NaT</td>\n      <td>NaN</td>\n      <td>TRAINING</td>\n      <td>NaT</td>\n      <td>NaN</td>\n      <td>0</td>\n      <td>0</td>\n      <td>0</td>\n      <td>0</td>\n      <td>1</td>\n      <td>TRUE_NEGATIVE</td>\n    </tr>\n    <tr>\n      <th>858</th>\n      <td>2015-04-08</td>\n      <td>100002</td>\n      <td>0</td>\n      <td>0</td>\n      <td>2015-10-27</td>\n      <td>9.554617e-06</td>\n      <td>0</td>\n      <td>0</td>\n      <td>NaT</td>\n      <td>NaN</td>\n      <td>TRAINING</td>\n      <td>NaT</td>\n      <td>NaN</td>\n      <td>0</td>\n      <td>0</td>\n      <td>0</td>\n      <td>0</td>\n      <td>1</td>\n      <td>TRUE_NEGATIVE</td>\n    </tr>\n    <tr>\n      <th>859</th>\n      <td>2015-04-09</td>\n      <td>100002</td>\n      <td>0</td>\n      <td>0</td>\n      <td>2015-10-27</td>\n      <td>5.023336e-06</td>\n      <td>0</td>\n      <td>0</td>\n      <td>NaT</td>\n      <td>NaN</td>\n      <td>TRAINING</td>\n      <td>NaT</td>\n      <td>NaN</td>\n      <td>0</td>\n      <td>0</td>\n      <td>0</td>\n      <td>0</td>\n      <td>1</td>\n      <td>TRUE_NEGATIVE</td>\n    </tr>\n    <tr>\n      <th>860</th>\n      <td>2015-04-10</td>\n      <td>100002</td>\n      <td>0</td>\n      <td>0</td>\n      <td>2015-10-27</td>\n      <td>1.170114e-06</td>\n      <td>0</td>\n      <td>0</td>\n      <td>NaT</td>\n      <td>NaN</td>\n      <td>TRAINING</td>\n      <td>NaT</td>\n      <td>NaN</td>\n      <td>0</td>\n      <td>0</td>\n      <td>0</td>\n      <td>0</td>\n      <td>1</td>\n      <td>TRUE_NEGATIVE</td>\n    </tr>\n    <tr>\n      <th>861</th>\n      <td>2015-04-11</td>\n      <td>100002</td>\n      <td>0</td>\n      <td>0</td>\n      <td>2015-10-27</td>\n      <td>1.560186e-06</td>\n      <td>0</td>\n      <td>0</td>\n      <td>NaT</td>\n      <td>NaN</td>\n      <td>TRAINING</td>\n      <td>NaT</td>\n      <td>NaN</td>\n      <td>0</td>\n      <td>0</td>\n      <td>0</td>\n      <td>0</td>\n      <td>1</td>\n      <td>TRUE_NEGATIVE</td>\n    </tr>\n    <tr>\n      <th>862</th>\n      <td>2015-04-12</td>\n      <td>100002</td>\n      <td>0</td>\n      <td>0</td>\n      <td>2015-10-27</td>\n      <td>2.472436e-06</td>\n      <td>0</td>\n      <td>0</td>\n      <td>NaT</td>\n      <td>NaN</td>\n      <td>TRAINING</td>\n      <td>NaT</td>\n      <td>NaN</td>\n      <td>0</td>\n      <td>0</td>\n      <td>0</td>\n      <td>0</td>\n      <td>1</td>\n      <td>TRUE_NEGATIVE</td>\n    </tr>\n    <tr>\n      <th>863</th>\n      <td>2015-04-13</td>\n      <td>100002</td>\n      <td>0</td>\n      <td>0</td>\n      <td>2015-10-27</td>\n      <td>9.810228e-07</td>\n      <td>0</td>\n      <td>0</td>\n      <td>NaT</td>\n      <td>NaN</td>\n      <td>TRAINING</td>\n      <td>NaT</td>\n      <td>NaN</td>\n      <td>0</td>\n      <td>0</td>\n      <td>0</td>\n      <td>0</td>\n      <td>1</td>\n      <td>TRUE_NEGATIVE</td>\n    </tr>\n    <tr>\n      <th>864</th>\n      <td>2015-04-14</td>\n      <td>100002</td>\n      <td>0</td>\n      <td>0</td>\n      <td>2015-10-27</td>\n      <td>9.554503e-07</td>\n      <td>0</td>\n      <td>0</td>\n      <td>NaT</td>\n      <td>NaN</td>\n      <td>TRAINING</td>\n      <td>NaT</td>\n      <td>NaN</td>\n      <td>0</td>\n      <td>0</td>\n      <td>0</td>\n      <td>0</td>\n      <td>1</td>\n      <td>TRUE_NEGATIVE</td>\n    </tr>\n    <tr>\n      <th>865</th>\n      <td>2015-04-15</td>\n      <td>100002</td>\n      <td>0</td>\n      <td>0</td>\n      <td>2015-10-27</td>\n      <td>8.230389e-07</td>\n      <td>0</td>\n      <td>0</td>\n      <td>NaT</td>\n      <td>NaN</td>\n      <td>TRAINING</td>\n      <td>NaT</td>\n      <td>NaN</td>\n      <td>0</td>\n      <td>0</td>\n      <td>0</td>\n      <td>0</td>\n      <td>1</td>\n      <td>TRUE_NEGATIVE</td>\n    </tr>\n    <tr>\n      <th>866</th>\n      <td>2015-04-16</td>\n      <td>100002</td>\n      <td>0</td>\n      <td>0</td>\n      <td>2015-10-27</td>\n      <td>7.399973e-06</td>\n      <td>0</td>\n      <td>0</td>\n      <td>NaT</td>\n      <td>NaN</td>\n      <td>TRAINING</td>\n      <td>NaT</td>\n      <td>NaN</td>\n      <td>0</td>\n      <td>0</td>\n      <td>0</td>\n      <td>0</td>\n      <td>1</td>\n      <td>TRUE_NEGATIVE</td>\n    </tr>\n    <tr>\n      <th>867</th>\n      <td>2015-04-17</td>\n      <td>100002</td>\n      <td>0</td>\n      <td>0</td>\n      <td>2015-10-27</td>\n      <td>3.760143e-07</td>\n      <td>0</td>\n      <td>0</td>\n      <td>NaT</td>\n      <td>NaN</td>\n      <td>TRAINING</td>\n      <td>NaT</td>\n      <td>NaN</td>\n      <td>0</td>\n      <td>0</td>\n      <td>0</td>\n      <td>0</td>\n      <td>1</td>\n      <td>TRUE_NEGATIVE</td>\n    </tr>\n    <tr>\n      <th>868</th>\n      <td>2015-04-18</td>\n      <td>100002</td>\n      <td>0</td>\n      <td>0</td>\n      <td>2015-10-27</td>\n      <td>1.125971e-06</td>\n      <td>0</td>\n      <td>0</td>\n      <td>NaT</td>\n      <td>NaN</td>\n      <td>TRAINING</td>\n      <td>NaT</td>\n      <td>NaN</td>\n      <td>0</td>\n      <td>0</td>\n      <td>0</td>\n      <td>0</td>\n      <td>1</td>\n      <td>TRUE_NEGATIVE</td>\n    </tr>\n    <tr>\n      <th>869</th>\n      <td>2015-04-19</td>\n      <td>100002</td>\n      <td>0</td>\n      <td>0</td>\n      <td>2015-10-27</td>\n      <td>1.044102e-05</td>\n      <td>0</td>\n      <td>0</td>\n      <td>NaT</td>\n      <td>NaN</td>\n      <td>TRAINING</td>\n      <td>NaT</td>\n      <td>NaN</td>\n      <td>0</td>\n      <td>0</td>\n      <td>0</td>\n      <td>0</td>\n      <td>1</td>\n      <td>TRUE_NEGATIVE</td>\n    </tr>\n    <tr>\n      <th>870</th>\n      <td>2015-04-20</td>\n      <td>100002</td>\n      <td>0</td>\n      <td>0</td>\n      <td>2015-10-27</td>\n      <td>1.411059e-06</td>\n      <td>0</td>\n      <td>0</td>\n      <td>NaT</td>\n      <td>NaN</td>\n      <td>TRAINING</td>\n      <td>NaT</td>\n      <td>NaN</td>\n      <td>0</td>\n      <td>0</td>\n      <td>0</td>\n      <td>0</td>\n      <td>1</td>\n      <td>TRUE_NEGATIVE</td>\n    </tr>\n    <tr>\n      <th>871</th>\n      <td>2015-04-21</td>\n      <td>100002</td>\n      <td>0</td>\n      <td>0</td>\n      <td>2015-10-27</td>\n      <td>4.244102e-06</td>\n      <td>0</td>\n      <td>0</td>\n      <td>NaT</td>\n      <td>NaN</td>\n      <td>TRAINING</td>\n      <td>NaT</td>\n      <td>NaN</td>\n      <td>0</td>\n      <td>0</td>\n      <td>0</td>\n      <td>0</td>\n      <td>1</td>\n      <td>TRUE_NEGATIVE</td>\n    </tr>\n    <tr>\n      <th>872</th>\n      <td>2015-04-22</td>\n      <td>100002</td>\n      <td>0</td>\n      <td>0</td>\n      <td>2015-10-27</td>\n      <td>1.356050e-05</td>\n      <td>0</td>\n      <td>0</td>\n      <td>NaT</td>\n      <td>NaN</td>\n      <td>TRAINING</td>\n      <td>NaT</td>\n      <td>NaN</td>\n      <td>0</td>\n      <td>0</td>\n      <td>0</td>\n      <td>0</td>\n      <td>1</td>\n      <td>TRUE_NEGATIVE</td>\n    </tr>\n    <tr>\n      <th>873</th>\n      <td>2015-04-23</td>\n      <td>100002</td>\n      <td>0</td>\n      <td>0</td>\n      <td>2015-10-27</td>\n      <td>2.092551e-06</td>\n      <td>0</td>\n      <td>0</td>\n      <td>NaT</td>\n      <td>NaN</td>\n      <td>TRAINING</td>\n      <td>NaT</td>\n      <td>NaN</td>\n      <td>0</td>\n      <td>0</td>\n      <td>0</td>\n      <td>0</td>\n      <td>1</td>\n      <td>TRUE_NEGATIVE</td>\n    </tr>\n    <tr>\n      <th>874</th>\n      <td>2015-04-24</td>\n      <td>100002</td>\n      <td>0</td>\n      <td>0</td>\n      <td>2015-10-27</td>\n      <td>2.069451e-06</td>\n      <td>0</td>\n      <td>0</td>\n      <td>NaT</td>\n      <td>NaN</td>\n      <td>TRAINING</td>\n      <td>NaT</td>\n      <td>NaN</td>\n      <td>0</td>\n      <td>0</td>\n      <td>0</td>\n      <td>0</td>\n      <td>1</td>\n      <td>TRUE_NEGATIVE</td>\n    </tr>\n    <tr>\n      <th>875</th>\n      <td>2015-04-25</td>\n      <td>100002</td>\n      <td>0</td>\n      <td>0</td>\n      <td>2015-10-27</td>\n      <td>2.820612e-06</td>\n      <td>0</td>\n      <td>0</td>\n      <td>NaT</td>\n      <td>NaN</td>\n      <td>TRAINING</td>\n      <td>NaT</td>\n      <td>NaN</td>\n      <td>0</td>\n      <td>0</td>\n      <td>0</td>\n      <td>0</td>\n      <td>1</td>\n      <td>TRUE_NEGATIVE</td>\n    </tr>\n    <tr>\n      <th>876</th>\n      <td>2015-04-26</td>\n      <td>100002</td>\n      <td>0</td>\n      <td>0</td>\n      <td>2015-10-27</td>\n      <td>6.222423e-05</td>\n      <td>0</td>\n      <td>0</td>\n      <td>NaT</td>\n      <td>NaN</td>\n      <td>TRAINING</td>\n      <td>NaT</td>\n      <td>NaN</td>\n      <td>0</td>\n      <td>0</td>\n      <td>0</td>\n      <td>0</td>\n      <td>1</td>\n      <td>TRUE_NEGATIVE</td>\n    </tr>\n    <tr>\n      <th>877</th>\n      <td>2015-04-27</td>\n      <td>100002</td>\n      <td>0</td>\n      <td>0</td>\n      <td>2015-10-27</td>\n      <td>4.048770e-06</td>\n      <td>0</td>\n      <td>0</td>\n      <td>NaT</td>\n      <td>NaN</td>\n      <td>TRAINING</td>\n      <td>NaT</td>\n      <td>NaN</td>\n      <td>0</td>\n      <td>0</td>\n      <td>0</td>\n      <td>0</td>\n      <td>1</td>\n      <td>TRUE_NEGATIVE</td>\n    </tr>\n    <tr>\n      <th>878</th>\n      <td>2015-04-28</td>\n      <td>100002</td>\n      <td>0</td>\n      <td>0</td>\n      <td>2015-10-27</td>\n      <td>3.000267e-06</td>\n      <td>0</td>\n      <td>0</td>\n      <td>NaT</td>\n      <td>NaN</td>\n      <td>TRAINING</td>\n      <td>NaT</td>\n      <td>NaN</td>\n      <td>0</td>\n      <td>0</td>\n      <td>0</td>\n      <td>0</td>\n      <td>1</td>\n      <td>TRUE_NEGATIVE</td>\n    </tr>\n    <tr>\n      <th>879</th>\n      <td>2015-04-29</td>\n      <td>100002</td>\n      <td>0</td>\n      <td>0</td>\n      <td>2015-10-27</td>\n      <td>5.863346e-04</td>\n      <td>0</td>\n      <td>0</td>\n      <td>NaT</td>\n      <td>NaN</td>\n      <td>TRAINING</td>\n      <td>NaT</td>\n      <td>NaN</td>\n      <td>0</td>\n      <td>0</td>\n      <td>0</td>\n      <td>0</td>\n      <td>1</td>\n      <td>TRUE_NEGATIVE</td>\n    </tr>\n    <tr>\n      <th>880</th>\n      <td>2015-04-30</td>\n      <td>100002</td>\n      <td>0</td>\n      <td>0</td>\n      <td>2015-10-27</td>\n      <td>1.001935e-05</td>\n      <td>0</td>\n      <td>0</td>\n      <td>NaT</td>\n      <td>NaN</td>\n      <td>TRAINING</td>\n      <td>NaT</td>\n      <td>NaN</td>\n      <td>0</td>\n      <td>0</td>\n      <td>0</td>\n      <td>0</td>\n      <td>1</td>\n      <td>TRUE_NEGATIVE</td>\n    </tr>\n    <tr>\n      <th>881</th>\n      <td>2015-05-01</td>\n      <td>100002</td>\n      <td>0</td>\n      <td>0</td>\n      <td>2015-10-27</td>\n      <td>1.146431e-05</td>\n      <td>0</td>\n      <td>0</td>\n      <td>NaT</td>\n      <td>NaN</td>\n      <td>TRAINING</td>\n      <td>NaT</td>\n      <td>NaN</td>\n      <td>0</td>\n      <td>0</td>\n      <td>0</td>\n      <td>0</td>\n      <td>1</td>\n      <td>TRUE_NEGATIVE</td>\n    </tr>\n    <tr>\n      <th>882</th>\n      <td>2015-05-02</td>\n      <td>100002</td>\n      <td>0</td>\n      <td>0</td>\n      <td>2015-10-27</td>\n      <td>1.129168e-05</td>\n      <td>0</td>\n      <td>0</td>\n      <td>NaT</td>\n      <td>NaN</td>\n      <td>TRAINING</td>\n      <td>NaT</td>\n      <td>NaN</td>\n      <td>0</td>\n      <td>0</td>\n      <td>0</td>\n      <td>0</td>\n      <td>1</td>\n      <td>TRUE_NEGATIVE</td>\n    </tr>\n    <tr>\n      <th>883</th>\n      <td>2015-05-03</td>\n      <td>100002</td>\n      <td>0</td>\n      <td>0</td>\n      <td>2015-10-27</td>\n      <td>8.630470e-06</td>\n      <td>0</td>\n      <td>0</td>\n      <td>NaT</td>\n      <td>NaN</td>\n      <td>TRAINING</td>\n      <td>NaT</td>\n      <td>NaN</td>\n      <td>0</td>\n      <td>0</td>\n      <td>0</td>\n      <td>0</td>\n      <td>1</td>\n      <td>TRUE_NEGATIVE</td>\n    </tr>\n    <tr>\n      <th>884</th>\n      <td>2015-05-04</td>\n      <td>100002</td>\n      <td>0</td>\n      <td>0</td>\n      <td>2015-10-27</td>\n      <td>7.638964e-06</td>\n      <td>0</td>\n      <td>0</td>\n      <td>NaT</td>\n      <td>NaN</td>\n      <td>TRAINING</td>\n      <td>NaT</td>\n      <td>NaN</td>\n      <td>0</td>\n      <td>0</td>\n      <td>0</td>\n      <td>0</td>\n      <td>1</td>\n      <td>TRUE_NEGATIVE</td>\n    </tr>\n    <tr>\n      <th>885</th>\n      <td>2015-05-05</td>\n      <td>100002</td>\n      <td>0</td>\n      <td>0</td>\n      <td>2015-10-27</td>\n      <td>9.435841e-06</td>\n      <td>0</td>\n      <td>0</td>\n      <td>NaT</td>\n      <td>NaN</td>\n      <td>TRAINING</td>\n      <td>NaT</td>\n      <td>NaN</td>\n      <td>0</td>\n      <td>0</td>\n      <td>0</td>\n      <td>0</td>\n      <td>1</td>\n      <td>TRUE_NEGATIVE</td>\n    </tr>\n    <tr>\n      <th>886</th>\n      <td>2015-05-06</td>\n      <td>100002</td>\n      <td>0</td>\n      <td>0</td>\n      <td>2015-10-27</td>\n      <td>1.284639e-05</td>\n      <td>0</td>\n      <td>0</td>\n      <td>NaT</td>\n      <td>NaN</td>\n      <td>TRAINING</td>\n      <td>NaT</td>\n      <td>NaN</td>\n      <td>0</td>\n      <td>0</td>\n      <td>0</td>\n      <td>0</td>\n      <td>1</td>\n      <td>TRUE_NEGATIVE</td>\n    </tr>\n    <tr>\n      <th>887</th>\n      <td>2015-05-07</td>\n      <td>100002</td>\n      <td>0</td>\n      <td>0</td>\n      <td>2015-10-27</td>\n      <td>1.466385e-05</td>\n      <td>0</td>\n      <td>0</td>\n      <td>NaT</td>\n      <td>NaN</td>\n      <td>TRAINING</td>\n      <td>NaT</td>\n      <td>NaN</td>\n      <td>0</td>\n      <td>0</td>\n      <td>0</td>\n      <td>0</td>\n      <td>1</td>\n      <td>TRUE_NEGATIVE</td>\n    </tr>\n    <tr>\n      <th>888</th>\n      <td>2015-05-08</td>\n      <td>100002</td>\n      <td>0</td>\n      <td>0</td>\n      <td>2015-10-27</td>\n      <td>3.305459e-05</td>\n      <td>0</td>\n      <td>0</td>\n      <td>NaT</td>\n      <td>NaN</td>\n      <td>TRAINING</td>\n      <td>NaT</td>\n      <td>NaN</td>\n      <td>0</td>\n      <td>0</td>\n      <td>0</td>\n      <td>0</td>\n      <td>1</td>\n      <td>TRUE_NEGATIVE</td>\n    </tr>\n    <tr>\n      <th>889</th>\n      <td>2015-05-09</td>\n      <td>100002</td>\n      <td>0</td>\n      <td>0</td>\n      <td>2015-10-27</td>\n      <td>8.952656e-05</td>\n      <td>0</td>\n      <td>0</td>\n      <td>NaT</td>\n      <td>NaN</td>\n      <td>TRAINING</td>\n      <td>NaT</td>\n      <td>NaN</td>\n      <td>0</td>\n      <td>0</td>\n      <td>0</td>\n      <td>0</td>\n      <td>1</td>\n      <td>TRUE_NEGATIVE</td>\n    </tr>\n    <tr>\n      <th>890</th>\n      <td>2015-05-10</td>\n      <td>100002</td>\n      <td>0</td>\n      <td>0</td>\n      <td>2015-10-27</td>\n      <td>1.313303e-05</td>\n      <td>0</td>\n      <td>0</td>\n      <td>NaT</td>\n      <td>NaN</td>\n      <td>TRAINING</td>\n      <td>NaT</td>\n      <td>NaN</td>\n      <td>0</td>\n      <td>0</td>\n      <td>0</td>\n      <td>0</td>\n      <td>1</td>\n      <td>TRUE_NEGATIVE</td>\n    </tr>\n    <tr>\n      <th>891</th>\n      <td>2015-05-11</td>\n      <td>100002</td>\n      <td>0</td>\n      <td>0</td>\n      <td>2015-10-27</td>\n      <td>1.520008e-06</td>\n      <td>0</td>\n      <td>0</td>\n      <td>NaT</td>\n      <td>NaN</td>\n      <td>TRAINING</td>\n      <td>NaT</td>\n      <td>NaN</td>\n      <td>0</td>\n      <td>0</td>\n      <td>0</td>\n      <td>0</td>\n      <td>1</td>\n      <td>TRUE_NEGATIVE</td>\n    </tr>\n    <tr>\n      <th>892</th>\n      <td>2015-05-12</td>\n      <td>100002</td>\n      <td>0</td>\n      <td>0</td>\n      <td>2015-10-27</td>\n      <td>3.690269e-06</td>\n      <td>0</td>\n      <td>0</td>\n      <td>NaT</td>\n      <td>NaN</td>\n      <td>TRAINING</td>\n      <td>NaT</td>\n      <td>NaN</td>\n      <td>0</td>\n      <td>0</td>\n      <td>0</td>\n      <td>0</td>\n      <td>1</td>\n      <td>TRUE_NEGATIVE</td>\n    </tr>\n    <tr>\n      <th>893</th>\n      <td>2015-05-13</td>\n      <td>100002</td>\n      <td>0</td>\n      <td>0</td>\n      <td>2015-10-27</td>\n      <td>7.148096e-07</td>\n      <td>0</td>\n      <td>0</td>\n      <td>NaT</td>\n      <td>NaN</td>\n      <td>TRAINING</td>\n      <td>NaT</td>\n      <td>NaN</td>\n      <td>0</td>\n      <td>0</td>\n      <td>0</td>\n      <td>0</td>\n      <td>1</td>\n      <td>TRUE_NEGATIVE</td>\n    </tr>\n    <tr>\n      <th>894</th>\n      <td>2015-05-14</td>\n      <td>100002</td>\n      <td>0</td>\n      <td>0</td>\n      <td>2015-10-27</td>\n      <td>7.407849e-07</td>\n      <td>0</td>\n      <td>0</td>\n      <td>NaT</td>\n      <td>NaN</td>\n      <td>TRAINING</td>\n      <td>NaT</td>\n      <td>NaN</td>\n      <td>0</td>\n      <td>0</td>\n      <td>0</td>\n      <td>0</td>\n      <td>1</td>\n      <td>TRUE_NEGATIVE</td>\n    </tr>\n    <tr>\n      <th>895</th>\n      <td>2015-05-15</td>\n      <td>100002</td>\n      <td>0</td>\n      <td>0</td>\n      <td>2015-10-27</td>\n      <td>1.463041e-06</td>\n      <td>0</td>\n      <td>0</td>\n      <td>NaT</td>\n      <td>NaN</td>\n      <td>TRAINING</td>\n      <td>NaT</td>\n      <td>NaN</td>\n      <td>0</td>\n      <td>0</td>\n      <td>0</td>\n      <td>0</td>\n      <td>1</td>\n      <td>TRUE_NEGATIVE</td>\n    </tr>\n    <tr>\n      <th>896</th>\n      <td>2015-05-16</td>\n      <td>100002</td>\n      <td>0</td>\n      <td>0</td>\n      <td>2015-10-27</td>\n      <td>7.007233e-07</td>\n      <td>0</td>\n      <td>0</td>\n      <td>NaT</td>\n      <td>NaN</td>\n      <td>TRAINING</td>\n      <td>NaT</td>\n      <td>NaN</td>\n      <td>0</td>\n      <td>0</td>\n      <td>0</td>\n      <td>0</td>\n      <td>1</td>\n      <td>TRUE_NEGATIVE</td>\n    </tr>\n    <tr>\n      <th>897</th>\n      <td>2015-05-17</td>\n      <td>100002</td>\n      <td>0</td>\n      <td>0</td>\n      <td>2015-10-27</td>\n      <td>2.340831e-06</td>\n      <td>0</td>\n      <td>0</td>\n      <td>NaT</td>\n      <td>NaN</td>\n      <td>TRAINING</td>\n      <td>NaT</td>\n      <td>NaN</td>\n      <td>0</td>\n      <td>0</td>\n      <td>0</td>\n      <td>0</td>\n      <td>1</td>\n      <td>TRUE_NEGATIVE</td>\n    </tr>\n    <tr>\n      <th>898</th>\n      <td>2015-05-18</td>\n      <td>100002</td>\n      <td>0</td>\n      <td>0</td>\n      <td>2015-10-27</td>\n      <td>2.569660e-06</td>\n      <td>0</td>\n      <td>0</td>\n      <td>NaT</td>\n      <td>NaN</td>\n      <td>TRAINING</td>\n      <td>NaT</td>\n      <td>NaN</td>\n      <td>0</td>\n      <td>0</td>\n      <td>0</td>\n      <td>0</td>\n      <td>1</td>\n      <td>TRUE_NEGATIVE</td>\n    </tr>\n    <tr>\n      <th>899</th>\n      <td>2015-05-19</td>\n      <td>100002</td>\n      <td>0</td>\n      <td>0</td>\n      <td>2015-10-27</td>\n      <td>9.056450e-07</td>\n      <td>0</td>\n      <td>0</td>\n      <td>NaT</td>\n      <td>NaN</td>\n      <td>TRAINING</td>\n      <td>NaT</td>\n      <td>NaN</td>\n      <td>0</td>\n      <td>0</td>\n      <td>0</td>\n      <td>0</td>\n      <td>1</td>\n      <td>TRUE_NEGATIVE</td>\n    </tr>\n    <tr>\n      <th>900</th>\n      <td>2015-05-20</td>\n      <td>100002</td>\n      <td>0</td>\n      <td>0</td>\n      <td>2015-10-27</td>\n      <td>1.469949e-06</td>\n      <td>0</td>\n      <td>0</td>\n      <td>NaT</td>\n      <td>NaN</td>\n      <td>TRAINING</td>\n      <td>NaT</td>\n      <td>NaN</td>\n      <td>0</td>\n      <td>0</td>\n      <td>0</td>\n      <td>0</td>\n      <td>1</td>\n      <td>TRUE_NEGATIVE</td>\n    </tr>\n    <tr>\n      <th>901</th>\n      <td>2015-05-21</td>\n      <td>100002</td>\n      <td>0</td>\n      <td>0</td>\n      <td>2015-10-27</td>\n      <td>6.069236e-07</td>\n      <td>0</td>\n      <td>0</td>\n      <td>NaT</td>\n      <td>NaN</td>\n      <td>TRAINING</td>\n      <td>NaT</td>\n      <td>NaN</td>\n      <td>0</td>\n      <td>0</td>\n      <td>0</td>\n      <td>0</td>\n      <td>1</td>\n      <td>TRUE_NEGATIVE</td>\n    </tr>\n    <tr>\n      <th>902</th>\n      <td>2015-05-22</td>\n      <td>100002</td>\n      <td>0</td>\n      <td>0</td>\n      <td>2015-10-27</td>\n      <td>1.755910e-07</td>\n      <td>0</td>\n      <td>0</td>\n      <td>NaT</td>\n      <td>NaN</td>\n      <td>TRAINING</td>\n      <td>NaT</td>\n      <td>NaN</td>\n      <td>0</td>\n      <td>0</td>\n      <td>0</td>\n      <td>0</td>\n      <td>1</td>\n      <td>TRUE_NEGATIVE</td>\n    </tr>\n    <tr>\n      <th>903</th>\n      <td>2015-05-23</td>\n      <td>100002</td>\n      <td>0</td>\n      <td>0</td>\n      <td>2015-10-27</td>\n      <td>1.176551e-07</td>\n      <td>0</td>\n      <td>0</td>\n      <td>NaT</td>\n      <td>NaN</td>\n      <td>TRAINING</td>\n      <td>NaT</td>\n      <td>NaN</td>\n      <td>0</td>\n      <td>0</td>\n      <td>0</td>\n      <td>0</td>\n      <td>1</td>\n      <td>TRUE_NEGATIVE</td>\n    </tr>\n    <tr>\n      <th>904</th>\n      <td>2015-05-24</td>\n      <td>100002</td>\n      <td>0</td>\n      <td>0</td>\n      <td>2015-10-27</td>\n      <td>3.434540e-06</td>\n      <td>0</td>\n      <td>0</td>\n      <td>NaT</td>\n      <td>NaN</td>\n      <td>TRAINING</td>\n      <td>NaT</td>\n      <td>NaN</td>\n      <td>0</td>\n      <td>0</td>\n      <td>0</td>\n      <td>0</td>\n      <td>1</td>\n      <td>TRUE_NEGATIVE</td>\n    </tr>\n    <tr>\n      <th>905</th>\n      <td>2015-05-25</td>\n      <td>100002</td>\n      <td>0</td>\n      <td>0</td>\n      <td>2015-10-27</td>\n      <td>5.399473e-06</td>\n      <td>0</td>\n      <td>0</td>\n      <td>NaT</td>\n      <td>NaN</td>\n      <td>TRAINING</td>\n      <td>NaT</td>\n      <td>NaN</td>\n      <td>0</td>\n      <td>0</td>\n      <td>0</td>\n      <td>0</td>\n      <td>1</td>\n      <td>TRUE_NEGATIVE</td>\n    </tr>\n    <tr>\n      <th>906</th>\n      <td>2015-05-26</td>\n      <td>100002</td>\n      <td>0</td>\n      <td>0</td>\n      <td>2015-10-27</td>\n      <td>1.181137e-04</td>\n      <td>0</td>\n      <td>0</td>\n      <td>NaT</td>\n      <td>NaN</td>\n      <td>TRAINING</td>\n      <td>NaT</td>\n      <td>NaN</td>\n      <td>0</td>\n      <td>0</td>\n      <td>0</td>\n      <td>0</td>\n      <td>1</td>\n      <td>TRUE_NEGATIVE</td>\n    </tr>\n    <tr>\n      <th>907</th>\n      <td>2015-05-27</td>\n      <td>100002</td>\n      <td>0</td>\n      <td>0</td>\n      <td>2015-10-27</td>\n      <td>1.636720e-05</td>\n      <td>0</td>\n      <td>0</td>\n      <td>NaT</td>\n      <td>NaN</td>\n      <td>TRAINING</td>\n      <td>NaT</td>\n      <td>NaN</td>\n      <td>0</td>\n      <td>0</td>\n      <td>0</td>\n      <td>0</td>\n      <td>1</td>\n      <td>TRUE_NEGATIVE</td>\n    </tr>\n    <tr>\n      <th>908</th>\n      <td>2015-05-28</td>\n      <td>100002</td>\n      <td>0</td>\n      <td>0</td>\n      <td>2015-10-27</td>\n      <td>1.177140e-05</td>\n      <td>0</td>\n      <td>0</td>\n      <td>NaT</td>\n      <td>NaN</td>\n      <td>TRAINING</td>\n      <td>NaT</td>\n      <td>NaN</td>\n      <td>0</td>\n      <td>0</td>\n      <td>0</td>\n      <td>0</td>\n      <td>1</td>\n      <td>TRUE_NEGATIVE</td>\n    </tr>\n    <tr>\n      <th>909</th>\n      <td>2015-05-29</td>\n      <td>100002</td>\n      <td>0</td>\n      <td>0</td>\n      <td>2015-10-27</td>\n      <td>1.905440e-05</td>\n      <td>0</td>\n      <td>0</td>\n      <td>NaT</td>\n      <td>NaN</td>\n      <td>TRAINING</td>\n      <td>NaT</td>\n      <td>NaN</td>\n      <td>0</td>\n      <td>0</td>\n      <td>0</td>\n      <td>0</td>\n      <td>1</td>\n      <td>TRUE_NEGATIVE</td>\n    </tr>\n    <tr>\n      <th>910</th>\n      <td>2015-05-30</td>\n      <td>100002</td>\n      <td>0</td>\n      <td>0</td>\n      <td>2015-10-27</td>\n      <td>1.249086e-05</td>\n      <td>0</td>\n      <td>0</td>\n      <td>NaT</td>\n      <td>NaN</td>\n      <td>TRAINING</td>\n      <td>NaT</td>\n      <td>NaN</td>\n      <td>0</td>\n      <td>0</td>\n      <td>0</td>\n      <td>0</td>\n      <td>1</td>\n      <td>TRUE_NEGATIVE</td>\n    </tr>\n    <tr>\n      <th>911</th>\n      <td>2015-05-31</td>\n      <td>100002</td>\n      <td>0</td>\n      <td>0</td>\n      <td>2015-10-27</td>\n      <td>5.450600e-05</td>\n      <td>0</td>\n      <td>0</td>\n      <td>NaT</td>\n      <td>NaN</td>\n      <td>TRAINING</td>\n      <td>NaT</td>\n      <td>NaN</td>\n      <td>0</td>\n      <td>0</td>\n      <td>0</td>\n      <td>0</td>\n      <td>1</td>\n      <td>TRUE_NEGATIVE</td>\n    </tr>\n    <tr>\n      <th>912</th>\n      <td>2015-06-01</td>\n      <td>100002</td>\n      <td>0</td>\n      <td>0</td>\n      <td>2015-10-27</td>\n      <td>1.880915e-05</td>\n      <td>0</td>\n      <td>0</td>\n      <td>NaT</td>\n      <td>NaN</td>\n      <td>TRAINING</td>\n      <td>NaT</td>\n      <td>NaN</td>\n      <td>0</td>\n      <td>0</td>\n      <td>0</td>\n      <td>0</td>\n      <td>1</td>\n      <td>TRUE_NEGATIVE</td>\n    </tr>\n    <tr>\n      <th>913</th>\n      <td>2015-06-02</td>\n      <td>100002</td>\n      <td>0</td>\n      <td>0</td>\n      <td>2015-10-27</td>\n      <td>1.349967e-04</td>\n      <td>0</td>\n      <td>0</td>\n      <td>NaT</td>\n      <td>NaN</td>\n      <td>TRAINING</td>\n      <td>NaT</td>\n      <td>NaN</td>\n      <td>0</td>\n      <td>0</td>\n      <td>0</td>\n      <td>0</td>\n      <td>1</td>\n      <td>TRUE_NEGATIVE</td>\n    </tr>\n    <tr>\n      <th>914</th>\n      <td>2015-06-03</td>\n      <td>100002</td>\n      <td>0</td>\n      <td>0</td>\n      <td>2015-10-27</td>\n      <td>1.986470e-05</td>\n      <td>0</td>\n      <td>0</td>\n      <td>NaT</td>\n      <td>NaN</td>\n      <td>TRAINING</td>\n      <td>NaT</td>\n      <td>NaN</td>\n      <td>0</td>\n      <td>0</td>\n      <td>0</td>\n      <td>0</td>\n      <td>1</td>\n      <td>TRUE_NEGATIVE</td>\n    </tr>\n    <tr>\n      <th>915</th>\n      <td>2015-06-04</td>\n      <td>100002</td>\n      <td>0</td>\n      <td>0</td>\n      <td>2015-10-27</td>\n      <td>1.874451e-06</td>\n      <td>0</td>\n      <td>0</td>\n      <td>NaT</td>\n      <td>NaN</td>\n      <td>TRAINING</td>\n      <td>NaT</td>\n      <td>NaN</td>\n      <td>0</td>\n      <td>0</td>\n      <td>0</td>\n      <td>0</td>\n      <td>1</td>\n      <td>TRUE_NEGATIVE</td>\n    </tr>\n    <tr>\n      <th>916</th>\n      <td>2015-06-05</td>\n      <td>100002</td>\n      <td>0</td>\n      <td>0</td>\n      <td>2015-10-27</td>\n      <td>2.884038e-06</td>\n      <td>0</td>\n      <td>0</td>\n      <td>NaT</td>\n      <td>NaN</td>\n      <td>TRAINING</td>\n      <td>NaT</td>\n      <td>NaN</td>\n      <td>0</td>\n      <td>0</td>\n      <td>0</td>\n      <td>0</td>\n      <td>1</td>\n      <td>TRUE_NEGATIVE</td>\n    </tr>\n    <tr>\n      <th>917</th>\n      <td>2015-06-06</td>\n      <td>100002</td>\n      <td>0</td>\n      <td>0</td>\n      <td>2015-10-27</td>\n      <td>1.310268e-05</td>\n      <td>0</td>\n      <td>0</td>\n      <td>NaT</td>\n      <td>NaN</td>\n      <td>TRAINING</td>\n      <td>NaT</td>\n      <td>NaN</td>\n      <td>0</td>\n      <td>0</td>\n      <td>0</td>\n      <td>0</td>\n      <td>1</td>\n      <td>TRUE_NEGATIVE</td>\n    </tr>\n    <tr>\n      <th>918</th>\n      <td>2015-06-07</td>\n      <td>100002</td>\n      <td>0</td>\n      <td>0</td>\n      <td>2015-10-27</td>\n      <td>1.167432e-04</td>\n      <td>0</td>\n      <td>0</td>\n      <td>NaT</td>\n      <td>NaN</td>\n      <td>TRAINING</td>\n      <td>NaT</td>\n      <td>NaN</td>\n      <td>0</td>\n      <td>0</td>\n      <td>0</td>\n      <td>0</td>\n      <td>1</td>\n      <td>TRUE_NEGATIVE</td>\n    </tr>\n    <tr>\n      <th>919</th>\n      <td>2015-06-08</td>\n      <td>100002</td>\n      <td>0</td>\n      <td>0</td>\n      <td>2015-10-27</td>\n      <td>9.238879e-05</td>\n      <td>0</td>\n      <td>0</td>\n      <td>NaT</td>\n      <td>NaN</td>\n      <td>TRAINING</td>\n      <td>NaT</td>\n      <td>NaN</td>\n      <td>0</td>\n      <td>0</td>\n      <td>0</td>\n      <td>0</td>\n      <td>1</td>\n      <td>TRUE_NEGATIVE</td>\n    </tr>\n    <tr>\n      <th>920</th>\n      <td>2015-06-09</td>\n      <td>100002</td>\n      <td>0</td>\n      <td>0</td>\n      <td>2015-10-27</td>\n      <td>3.211954e-05</td>\n      <td>0</td>\n      <td>0</td>\n      <td>NaT</td>\n      <td>NaN</td>\n      <td>TRAINING</td>\n      <td>NaT</td>\n      <td>NaN</td>\n      <td>0</td>\n      <td>0</td>\n      <td>0</td>\n      <td>0</td>\n      <td>1</td>\n      <td>TRUE_NEGATIVE</td>\n    </tr>\n    <tr>\n      <th>921</th>\n      <td>2015-06-10</td>\n      <td>100002</td>\n      <td>0</td>\n      <td>0</td>\n      <td>2015-10-27</td>\n      <td>3.976755e-05</td>\n      <td>0</td>\n      <td>0</td>\n      <td>NaT</td>\n      <td>NaN</td>\n      <td>TRAINING</td>\n      <td>NaT</td>\n      <td>NaN</td>\n      <td>0</td>\n      <td>0</td>\n      <td>0</td>\n      <td>0</td>\n      <td>1</td>\n      <td>TRUE_NEGATIVE</td>\n    </tr>\n    <tr>\n      <th>922</th>\n      <td>2015-06-11</td>\n      <td>100002</td>\n      <td>0</td>\n      <td>0</td>\n      <td>2015-10-27</td>\n      <td>2.104984e-05</td>\n      <td>0</td>\n      <td>0</td>\n      <td>NaT</td>\n      <td>NaN</td>\n      <td>TRAINING</td>\n      <td>NaT</td>\n      <td>NaN</td>\n      <td>0</td>\n      <td>0</td>\n      <td>0</td>\n      <td>0</td>\n      <td>1</td>\n      <td>TRUE_NEGATIVE</td>\n    </tr>\n    <tr>\n      <th>923</th>\n      <td>2015-06-12</td>\n      <td>100002</td>\n      <td>0</td>\n      <td>0</td>\n      <td>2015-10-27</td>\n      <td>4.746461e-05</td>\n      <td>0</td>\n      <td>0</td>\n      <td>NaT</td>\n      <td>NaN</td>\n      <td>TRAINING</td>\n      <td>NaT</td>\n      <td>NaN</td>\n      <td>0</td>\n      <td>0</td>\n      <td>0</td>\n      <td>0</td>\n      <td>1</td>\n      <td>TRUE_NEGATIVE</td>\n    </tr>\n    <tr>\n      <th>924</th>\n      <td>2015-06-13</td>\n      <td>100002</td>\n      <td>0</td>\n      <td>0</td>\n      <td>2015-10-27</td>\n      <td>1.147390e-04</td>\n      <td>0</td>\n      <td>0</td>\n      <td>NaT</td>\n      <td>NaN</td>\n      <td>TRAINING</td>\n      <td>NaT</td>\n      <td>NaN</td>\n      <td>0</td>\n      <td>0</td>\n      <td>0</td>\n      <td>0</td>\n      <td>1</td>\n      <td>TRUE_NEGATIVE</td>\n    </tr>\n    <tr>\n      <th>925</th>\n      <td>2015-06-14</td>\n      <td>100002</td>\n      <td>0</td>\n      <td>0</td>\n      <td>2015-10-27</td>\n      <td>2.548788e-05</td>\n      <td>0</td>\n      <td>0</td>\n      <td>NaT</td>\n      <td>NaN</td>\n      <td>TRAINING</td>\n      <td>NaT</td>\n      <td>NaN</td>\n      <td>0</td>\n      <td>0</td>\n      <td>0</td>\n      <td>0</td>\n      <td>1</td>\n      <td>TRUE_NEGATIVE</td>\n    </tr>\n    <tr>\n      <th>926</th>\n      <td>2015-06-15</td>\n      <td>100002</td>\n      <td>0</td>\n      <td>0</td>\n      <td>2015-10-27</td>\n      <td>2.299339e-05</td>\n      <td>0</td>\n      <td>0</td>\n      <td>NaT</td>\n      <td>NaN</td>\n      <td>TRAINING</td>\n      <td>NaT</td>\n      <td>NaN</td>\n      <td>0</td>\n      <td>0</td>\n      <td>0</td>\n      <td>0</td>\n      <td>1</td>\n      <td>TRUE_NEGATIVE</td>\n    </tr>\n    <tr>\n      <th>927</th>\n      <td>2015-06-16</td>\n      <td>100002</td>\n      <td>0</td>\n      <td>0</td>\n      <td>2015-10-27</td>\n      <td>2.865720e-05</td>\n      <td>0</td>\n      <td>0</td>\n      <td>NaT</td>\n      <td>NaN</td>\n      <td>TRAINING</td>\n      <td>NaT</td>\n      <td>NaN</td>\n      <td>0</td>\n      <td>0</td>\n      <td>0</td>\n      <td>0</td>\n      <td>1</td>\n      <td>TRUE_NEGATIVE</td>\n    </tr>\n    <tr>\n      <th>928</th>\n      <td>2015-06-17</td>\n      <td>100002</td>\n      <td>0</td>\n      <td>0</td>\n      <td>2015-10-27</td>\n      <td>6.516349e-05</td>\n      <td>0</td>\n      <td>0</td>\n      <td>NaT</td>\n      <td>NaN</td>\n      <td>TRAINING</td>\n      <td>NaT</td>\n      <td>NaN</td>\n      <td>0</td>\n      <td>0</td>\n      <td>0</td>\n      <td>0</td>\n      <td>1</td>\n      <td>TRUE_NEGATIVE</td>\n    </tr>\n    <tr>\n      <th>929</th>\n      <td>2015-06-18</td>\n      <td>100002</td>\n      <td>0</td>\n      <td>0</td>\n      <td>2015-10-27</td>\n      <td>1.151798e-05</td>\n      <td>0</td>\n      <td>0</td>\n      <td>NaT</td>\n      <td>NaN</td>\n      <td>TRAINING</td>\n      <td>NaT</td>\n      <td>NaN</td>\n      <td>0</td>\n      <td>0</td>\n      <td>0</td>\n      <td>0</td>\n      <td>1</td>\n      <td>TRUE_NEGATIVE</td>\n    </tr>\n    <tr>\n      <th>930</th>\n      <td>2015-06-19</td>\n      <td>100002</td>\n      <td>0</td>\n      <td>0</td>\n      <td>2015-10-27</td>\n      <td>2.567314e-04</td>\n      <td>0</td>\n      <td>0</td>\n      <td>NaT</td>\n      <td>NaN</td>\n      <td>TRAINING</td>\n      <td>NaT</td>\n      <td>NaN</td>\n      <td>0</td>\n      <td>0</td>\n      <td>0</td>\n      <td>0</td>\n      <td>1</td>\n      <td>TRUE_NEGATIVE</td>\n    </tr>\n    <tr>\n      <th>931</th>\n      <td>2015-06-20</td>\n      <td>100002</td>\n      <td>0</td>\n      <td>0</td>\n      <td>2015-10-27</td>\n      <td>3.054424e-04</td>\n      <td>0</td>\n      <td>0</td>\n      <td>NaT</td>\n      <td>NaN</td>\n      <td>TRAINING</td>\n      <td>NaT</td>\n      <td>NaN</td>\n      <td>0</td>\n      <td>0</td>\n      <td>0</td>\n      <td>0</td>\n      <td>1</td>\n      <td>TRUE_NEGATIVE</td>\n    </tr>\n    <tr>\n      <th>932</th>\n      <td>2015-06-21</td>\n      <td>100002</td>\n      <td>0</td>\n      <td>0</td>\n      <td>2015-10-27</td>\n      <td>8.866422e-05</td>\n      <td>0</td>\n      <td>0</td>\n      <td>NaT</td>\n      <td>NaN</td>\n      <td>TRAINING</td>\n      <td>NaT</td>\n      <td>NaN</td>\n      <td>0</td>\n      <td>0</td>\n      <td>0</td>\n      <td>0</td>\n      <td>1</td>\n      <td>TRUE_NEGATIVE</td>\n    </tr>\n    <tr>\n      <th>933</th>\n      <td>2015-06-22</td>\n      <td>100002</td>\n      <td>0</td>\n      <td>0</td>\n      <td>2015-10-27</td>\n      <td>7.392161e-04</td>\n      <td>0</td>\n      <td>0</td>\n      <td>NaT</td>\n      <td>NaN</td>\n      <td>TRAINING</td>\n      <td>NaT</td>\n      <td>NaN</td>\n      <td>0</td>\n      <td>0</td>\n      <td>0</td>\n      <td>0</td>\n      <td>1</td>\n      <td>TRUE_NEGATIVE</td>\n    </tr>\n    <tr>\n      <th>934</th>\n      <td>2015-06-23</td>\n      <td>100002</td>\n      <td>0</td>\n      <td>0</td>\n      <td>2015-10-27</td>\n      <td>7.310929e-04</td>\n      <td>0</td>\n      <td>0</td>\n      <td>NaT</td>\n      <td>NaN</td>\n      <td>TRAINING</td>\n      <td>NaT</td>\n      <td>NaN</td>\n      <td>0</td>\n      <td>0</td>\n      <td>0</td>\n      <td>0</td>\n      <td>1</td>\n      <td>TRUE_NEGATIVE</td>\n    </tr>\n    <tr>\n      <th>935</th>\n      <td>2015-06-24</td>\n      <td>100002</td>\n      <td>0</td>\n      <td>0</td>\n      <td>2015-10-27</td>\n      <td>1.450456e-03</td>\n      <td>0</td>\n      <td>0</td>\n      <td>NaT</td>\n      <td>NaN</td>\n      <td>TRAINING</td>\n      <td>NaT</td>\n      <td>NaN</td>\n      <td>0</td>\n      <td>0</td>\n      <td>0</td>\n      <td>0</td>\n      <td>1</td>\n      <td>TRUE_NEGATIVE</td>\n    </tr>\n    <tr>\n      <th>936</th>\n      <td>2015-06-25</td>\n      <td>100002</td>\n      <td>0</td>\n      <td>0</td>\n      <td>2015-10-27</td>\n      <td>6.799685e-07</td>\n      <td>0</td>\n      <td>0</td>\n      <td>NaT</td>\n      <td>NaN</td>\n      <td>TRAINING</td>\n      <td>NaT</td>\n      <td>NaN</td>\n      <td>0</td>\n      <td>0</td>\n      <td>0</td>\n      <td>0</td>\n      <td>1</td>\n      <td>TRUE_NEGATIVE</td>\n    </tr>\n    <tr>\n      <th>937</th>\n      <td>2015-06-26</td>\n      <td>100002</td>\n      <td>0</td>\n      <td>0</td>\n      <td>2015-10-27</td>\n      <td>1.176007e-03</td>\n      <td>0</td>\n      <td>0</td>\n      <td>NaT</td>\n      <td>NaN</td>\n      <td>TRAINING</td>\n      <td>NaT</td>\n      <td>NaN</td>\n      <td>0</td>\n      <td>0</td>\n      <td>0</td>\n      <td>0</td>\n      <td>1</td>\n      <td>TRUE_NEGATIVE</td>\n    </tr>\n    <tr>\n      <th>938</th>\n      <td>2015-06-27</td>\n      <td>100002</td>\n      <td>0</td>\n      <td>0</td>\n      <td>2015-10-27</td>\n      <td>2.286895e-04</td>\n      <td>0</td>\n      <td>0</td>\n      <td>NaT</td>\n      <td>NaN</td>\n      <td>TRAINING</td>\n      <td>NaT</td>\n      <td>NaN</td>\n      <td>0</td>\n      <td>0</td>\n      <td>0</td>\n      <td>0</td>\n      <td>1</td>\n      <td>TRUE_NEGATIVE</td>\n    </tr>\n    <tr>\n      <th>939</th>\n      <td>2015-06-28</td>\n      <td>100002</td>\n      <td>0</td>\n      <td>0</td>\n      <td>2015-10-27</td>\n      <td>7.581513e-05</td>\n      <td>0</td>\n      <td>0</td>\n      <td>NaT</td>\n      <td>NaN</td>\n      <td>TRAINING</td>\n      <td>NaT</td>\n      <td>NaN</td>\n      <td>0</td>\n      <td>0</td>\n      <td>0</td>\n      <td>0</td>\n      <td>1</td>\n      <td>TRUE_NEGATIVE</td>\n    </tr>\n    <tr>\n      <th>940</th>\n      <td>2015-06-29</td>\n      <td>100002</td>\n      <td>0</td>\n      <td>0</td>\n      <td>2015-10-27</td>\n      <td>4.853291e-05</td>\n      <td>0</td>\n      <td>0</td>\n      <td>NaT</td>\n      <td>NaN</td>\n      <td>TRAINING</td>\n      <td>NaT</td>\n      <td>NaN</td>\n      <td>0</td>\n      <td>0</td>\n      <td>0</td>\n      <td>0</td>\n      <td>1</td>\n      <td>TRUE_NEGATIVE</td>\n    </tr>\n    <tr>\n      <th>941</th>\n      <td>2015-06-30</td>\n      <td>100002</td>\n      <td>0</td>\n      <td>0</td>\n      <td>2015-10-27</td>\n      <td>4.521618e-05</td>\n      <td>0</td>\n      <td>0</td>\n      <td>NaT</td>\n      <td>NaN</td>\n      <td>TRAINING</td>\n      <td>NaT</td>\n      <td>NaN</td>\n      <td>0</td>\n      <td>0</td>\n      <td>0</td>\n      <td>0</td>\n      <td>1</td>\n      <td>TRUE_NEGATIVE</td>\n    </tr>\n    <tr>\n      <th>942</th>\n      <td>2015-07-01</td>\n      <td>100002</td>\n      <td>0</td>\n      <td>0</td>\n      <td>2015-10-27</td>\n      <td>4.656132e-04</td>\n      <td>0</td>\n      <td>0</td>\n      <td>NaT</td>\n      <td>NaN</td>\n      <td>TRAINING</td>\n      <td>NaT</td>\n      <td>NaN</td>\n      <td>0</td>\n      <td>0</td>\n      <td>0</td>\n      <td>0</td>\n      <td>1</td>\n      <td>TRUE_NEGATIVE</td>\n    </tr>\n    <tr>\n      <th>943</th>\n      <td>2015-07-02</td>\n      <td>100002</td>\n      <td>0</td>\n      <td>0</td>\n      <td>2015-10-27</td>\n      <td>3.511726e-05</td>\n      <td>0</td>\n      <td>0</td>\n      <td>NaT</td>\n      <td>NaN</td>\n      <td>TRAINING</td>\n      <td>NaT</td>\n      <td>NaN</td>\n      <td>0</td>\n      <td>0</td>\n      <td>0</td>\n      <td>0</td>\n      <td>1</td>\n      <td>TRUE_NEGATIVE</td>\n    </tr>\n    <tr>\n      <th>944</th>\n      <td>2015-07-03</td>\n      <td>100002</td>\n      <td>0</td>\n      <td>0</td>\n      <td>2015-10-27</td>\n      <td>3.042673e-04</td>\n      <td>0</td>\n      <td>0</td>\n      <td>NaT</td>\n      <td>NaN</td>\n      <td>TRAINING</td>\n      <td>NaT</td>\n      <td>NaN</td>\n      <td>0</td>\n      <td>0</td>\n      <td>0</td>\n      <td>0</td>\n      <td>1</td>\n      <td>TRUE_NEGATIVE</td>\n    </tr>\n    <tr>\n      <th>945</th>\n      <td>2015-07-04</td>\n      <td>100002</td>\n      <td>0</td>\n      <td>0</td>\n      <td>2015-10-27</td>\n      <td>2.191466e-03</td>\n      <td>0</td>\n      <td>0</td>\n      <td>NaT</td>\n      <td>NaN</td>\n      <td>TRAINING</td>\n      <td>NaT</td>\n      <td>NaN</td>\n      <td>0</td>\n      <td>0</td>\n      <td>0</td>\n      <td>0</td>\n      <td>1</td>\n      <td>TRUE_NEGATIVE</td>\n    </tr>\n    <tr>\n      <th>946</th>\n      <td>2015-07-05</td>\n      <td>100002</td>\n      <td>0</td>\n      <td>0</td>\n      <td>2015-10-27</td>\n      <td>4.110121e-05</td>\n      <td>0</td>\n      <td>0</td>\n      <td>NaT</td>\n      <td>NaN</td>\n      <td>TRAINING</td>\n      <td>NaT</td>\n      <td>NaN</td>\n      <td>0</td>\n      <td>0</td>\n      <td>0</td>\n      <td>0</td>\n      <td>1</td>\n      <td>TRUE_NEGATIVE</td>\n    </tr>\n    <tr>\n      <th>947</th>\n      <td>2015-07-06</td>\n      <td>100002</td>\n      <td>0</td>\n      <td>0</td>\n      <td>2015-10-27</td>\n      <td>1.198314e-03</td>\n      <td>0</td>\n      <td>0</td>\n      <td>NaT</td>\n      <td>NaN</td>\n      <td>TRAINING</td>\n      <td>NaT</td>\n      <td>NaN</td>\n      <td>0</td>\n      <td>0</td>\n      <td>0</td>\n      <td>0</td>\n      <td>1</td>\n      <td>TRUE_NEGATIVE</td>\n    </tr>\n    <tr>\n      <th>948</th>\n      <td>2015-07-07</td>\n      <td>100002</td>\n      <td>0</td>\n      <td>0</td>\n      <td>2015-10-27</td>\n      <td>2.488676e-04</td>\n      <td>0</td>\n      <td>0</td>\n      <td>NaT</td>\n      <td>NaN</td>\n      <td>TRAINING</td>\n      <td>NaT</td>\n      <td>NaN</td>\n      <td>0</td>\n      <td>0</td>\n      <td>0</td>\n      <td>0</td>\n      <td>1</td>\n      <td>TRUE_NEGATIVE</td>\n    </tr>\n    <tr>\n      <th>949</th>\n      <td>2015-07-08</td>\n      <td>100002</td>\n      <td>0</td>\n      <td>0</td>\n      <td>2015-10-27</td>\n      <td>5.853662e-04</td>\n      <td>0</td>\n      <td>0</td>\n      <td>NaT</td>\n      <td>NaN</td>\n      <td>TRAINING</td>\n      <td>NaT</td>\n      <td>NaN</td>\n      <td>0</td>\n      <td>0</td>\n      <td>0</td>\n      <td>0</td>\n      <td>1</td>\n      <td>TRUE_NEGATIVE</td>\n    </tr>\n    <tr>\n      <th>950</th>\n      <td>2015-07-09</td>\n      <td>100002</td>\n      <td>0</td>\n      <td>0</td>\n      <td>2015-10-27</td>\n      <td>1.052611e-03</td>\n      <td>0</td>\n      <td>0</td>\n      <td>NaT</td>\n      <td>NaN</td>\n      <td>TRAINING</td>\n      <td>NaT</td>\n      <td>NaN</td>\n      <td>0</td>\n      <td>0</td>\n      <td>0</td>\n      <td>0</td>\n      <td>1</td>\n      <td>TRUE_NEGATIVE</td>\n    </tr>\n    <tr>\n      <th>951</th>\n      <td>2015-07-10</td>\n      <td>100002</td>\n      <td>0</td>\n      <td>0</td>\n      <td>2015-10-27</td>\n      <td>8.915223e-05</td>\n      <td>0</td>\n      <td>0</td>\n      <td>NaT</td>\n      <td>NaN</td>\n      <td>TRAINING</td>\n      <td>NaT</td>\n      <td>NaN</td>\n      <td>0</td>\n      <td>0</td>\n      <td>0</td>\n      <td>0</td>\n      <td>1</td>\n      <td>TRUE_NEGATIVE</td>\n    </tr>\n    <tr>\n      <th>952</th>\n      <td>2015-07-11</td>\n      <td>100002</td>\n      <td>0</td>\n      <td>0</td>\n      <td>2015-10-27</td>\n      <td>8.189806e-04</td>\n      <td>0</td>\n      <td>0</td>\n      <td>NaT</td>\n      <td>NaN</td>\n      <td>TRAINING</td>\n      <td>NaT</td>\n      <td>NaN</td>\n      <td>0</td>\n      <td>0</td>\n      <td>0</td>\n      <td>0</td>\n      <td>1</td>\n      <td>TRUE_NEGATIVE</td>\n    </tr>\n    <tr>\n      <th>953</th>\n      <td>2015-07-12</td>\n      <td>100002</td>\n      <td>0</td>\n      <td>0</td>\n      <td>2015-10-27</td>\n      <td>2.085786e-03</td>\n      <td>0</td>\n      <td>0</td>\n      <td>NaT</td>\n      <td>NaN</td>\n      <td>TRAINING</td>\n      <td>NaT</td>\n      <td>NaN</td>\n      <td>0</td>\n      <td>0</td>\n      <td>0</td>\n      <td>0</td>\n      <td>1</td>\n      <td>TRUE_NEGATIVE</td>\n    </tr>\n    <tr>\n      <th>954</th>\n      <td>2015-07-13</td>\n      <td>100002</td>\n      <td>0</td>\n      <td>0</td>\n      <td>2015-10-27</td>\n      <td>6.922896e-05</td>\n      <td>0</td>\n      <td>0</td>\n      <td>NaT</td>\n      <td>NaN</td>\n      <td>TRAINING</td>\n      <td>NaT</td>\n      <td>NaN</td>\n      <td>0</td>\n      <td>0</td>\n      <td>0</td>\n      <td>0</td>\n      <td>1</td>\n      <td>TRUE_NEGATIVE</td>\n    </tr>\n    <tr>\n      <th>955</th>\n      <td>2015-07-14</td>\n      <td>100002</td>\n      <td>0</td>\n      <td>0</td>\n      <td>2015-10-27</td>\n      <td>2.505474e-05</td>\n      <td>0</td>\n      <td>0</td>\n      <td>NaT</td>\n      <td>NaN</td>\n      <td>TRAINING</td>\n      <td>NaT</td>\n      <td>NaN</td>\n      <td>0</td>\n      <td>0</td>\n      <td>0</td>\n      <td>0</td>\n      <td>1</td>\n      <td>TRUE_NEGATIVE</td>\n    </tr>\n    <tr>\n      <th>956</th>\n      <td>2015-07-15</td>\n      <td>100002</td>\n      <td>0</td>\n      <td>0</td>\n      <td>2015-10-27</td>\n      <td>4.357592e-05</td>\n      <td>0</td>\n      <td>0</td>\n      <td>NaT</td>\n      <td>NaN</td>\n      <td>TRAINING</td>\n      <td>NaT</td>\n      <td>NaN</td>\n      <td>0</td>\n      <td>0</td>\n      <td>0</td>\n      <td>0</td>\n      <td>1</td>\n      <td>TRUE_NEGATIVE</td>\n    </tr>\n    <tr>\n      <th>957</th>\n      <td>2015-07-16</td>\n      <td>100002</td>\n      <td>0</td>\n      <td>0</td>\n      <td>2015-10-27</td>\n      <td>5.962750e-05</td>\n      <td>0</td>\n      <td>0</td>\n      <td>NaT</td>\n      <td>NaN</td>\n      <td>TRAINING</td>\n      <td>NaT</td>\n      <td>NaN</td>\n      <td>0</td>\n      <td>0</td>\n      <td>0</td>\n      <td>0</td>\n      <td>1</td>\n      <td>TRUE_NEGATIVE</td>\n    </tr>\n    <tr>\n      <th>958</th>\n      <td>2015-07-17</td>\n      <td>100002</td>\n      <td>0</td>\n      <td>0</td>\n      <td>2015-10-27</td>\n      <td>2.292877e-05</td>\n      <td>0</td>\n      <td>0</td>\n      <td>NaT</td>\n      <td>NaN</td>\n      <td>TRAINING</td>\n      <td>NaT</td>\n      <td>NaN</td>\n      <td>0</td>\n      <td>0</td>\n      <td>0</td>\n      <td>0</td>\n      <td>1</td>\n      <td>TRUE_NEGATIVE</td>\n    </tr>\n    <tr>\n      <th>959</th>\n      <td>2015-07-18</td>\n      <td>100002</td>\n      <td>0</td>\n      <td>0</td>\n      <td>2015-10-27</td>\n      <td>1.553159e-03</td>\n      <td>0</td>\n      <td>0</td>\n      <td>NaT</td>\n      <td>NaN</td>\n      <td>TRAINING</td>\n      <td>NaT</td>\n      <td>NaN</td>\n      <td>0</td>\n      <td>0</td>\n      <td>0</td>\n      <td>0</td>\n      <td>1</td>\n      <td>TRUE_NEGATIVE</td>\n    </tr>\n    <tr>\n      <th>960</th>\n      <td>2015-07-19</td>\n      <td>100002</td>\n      <td>0</td>\n      <td>0</td>\n      <td>2015-10-27</td>\n      <td>1.276279e-03</td>\n      <td>0</td>\n      <td>0</td>\n      <td>NaT</td>\n      <td>NaN</td>\n      <td>TRAINING</td>\n      <td>NaT</td>\n      <td>NaN</td>\n      <td>0</td>\n      <td>0</td>\n      <td>0</td>\n      <td>0</td>\n      <td>1</td>\n      <td>TRUE_NEGATIVE</td>\n    </tr>\n    <tr>\n      <th>961</th>\n      <td>2015-07-20</td>\n      <td>100002</td>\n      <td>0</td>\n      <td>0</td>\n      <td>2015-10-27</td>\n      <td>4.335277e-04</td>\n      <td>0</td>\n      <td>0</td>\n      <td>NaT</td>\n      <td>NaN</td>\n      <td>TRAINING</td>\n      <td>NaT</td>\n      <td>NaN</td>\n      <td>0</td>\n      <td>0</td>\n      <td>0</td>\n      <td>0</td>\n      <td>1</td>\n      <td>TRUE_NEGATIVE</td>\n    </tr>\n    <tr>\n      <th>962</th>\n      <td>2015-07-21</td>\n      <td>100002</td>\n      <td>0</td>\n      <td>0</td>\n      <td>2015-10-27</td>\n      <td>3.478626e-04</td>\n      <td>0</td>\n      <td>0</td>\n      <td>NaT</td>\n      <td>NaN</td>\n      <td>TRAINING</td>\n      <td>NaT</td>\n      <td>NaN</td>\n      <td>0</td>\n      <td>0</td>\n      <td>0</td>\n      <td>0</td>\n      <td>1</td>\n      <td>TRUE_NEGATIVE</td>\n    </tr>\n    <tr>\n      <th>963</th>\n      <td>2015-07-22</td>\n      <td>100002</td>\n      <td>0</td>\n      <td>0</td>\n      <td>2015-10-27</td>\n      <td>5.453499e-04</td>\n      <td>0</td>\n      <td>0</td>\n      <td>NaT</td>\n      <td>NaN</td>\n      <td>TRAINING</td>\n      <td>NaT</td>\n      <td>NaN</td>\n      <td>0</td>\n      <td>0</td>\n      <td>0</td>\n      <td>0</td>\n      <td>1</td>\n      <td>TRUE_NEGATIVE</td>\n    </tr>\n    <tr>\n      <th>964</th>\n      <td>2015-07-23</td>\n      <td>100002</td>\n      <td>0</td>\n      <td>0</td>\n      <td>2015-10-27</td>\n      <td>4.033946e-05</td>\n      <td>0</td>\n      <td>0</td>\n      <td>NaT</td>\n      <td>NaN</td>\n      <td>TRAINING</td>\n      <td>NaT</td>\n      <td>NaN</td>\n      <td>0</td>\n      <td>0</td>\n      <td>0</td>\n      <td>0</td>\n      <td>1</td>\n      <td>TRUE_NEGATIVE</td>\n    </tr>\n    <tr>\n      <th>965</th>\n      <td>2015-07-24</td>\n      <td>100002</td>\n      <td>0</td>\n      <td>0</td>\n      <td>2015-10-27</td>\n      <td>9.449355e-04</td>\n      <td>0</td>\n      <td>0</td>\n      <td>NaT</td>\n      <td>NaN</td>\n      <td>TRAINING</td>\n      <td>NaT</td>\n      <td>NaN</td>\n      <td>0</td>\n      <td>0</td>\n      <td>0</td>\n      <td>0</td>\n      <td>1</td>\n      <td>TRUE_NEGATIVE</td>\n    </tr>\n    <tr>\n      <th>966</th>\n      <td>2015-07-25</td>\n      <td>100002</td>\n      <td>0</td>\n      <td>0</td>\n      <td>2015-10-27</td>\n      <td>4.145199e-06</td>\n      <td>0</td>\n      <td>0</td>\n      <td>NaT</td>\n      <td>NaN</td>\n      <td>TRAINING</td>\n      <td>NaT</td>\n      <td>NaN</td>\n      <td>0</td>\n      <td>0</td>\n      <td>0</td>\n      <td>0</td>\n      <td>1</td>\n      <td>TRUE_NEGATIVE</td>\n    </tr>\n    <tr>\n      <th>967</th>\n      <td>2015-07-26</td>\n      <td>100002</td>\n      <td>0</td>\n      <td>0</td>\n      <td>2015-10-27</td>\n      <td>1.785088e-04</td>\n      <td>0</td>\n      <td>0</td>\n      <td>NaT</td>\n      <td>NaN</td>\n      <td>TRAINING</td>\n      <td>NaT</td>\n      <td>NaN</td>\n      <td>0</td>\n      <td>0</td>\n      <td>0</td>\n      <td>0</td>\n      <td>1</td>\n      <td>TRUE_NEGATIVE</td>\n    </tr>\n    <tr>\n      <th>968</th>\n      <td>2015-07-27</td>\n      <td>100002</td>\n      <td>0</td>\n      <td>0</td>\n      <td>2015-10-27</td>\n      <td>9.000438e-05</td>\n      <td>0</td>\n      <td>0</td>\n      <td>NaT</td>\n      <td>NaN</td>\n      <td>TRAINING</td>\n      <td>NaT</td>\n      <td>NaN</td>\n      <td>0</td>\n      <td>0</td>\n      <td>0</td>\n      <td>0</td>\n      <td>1</td>\n      <td>TRUE_NEGATIVE</td>\n    </tr>\n    <tr>\n      <th>969</th>\n      <td>2015-07-28</td>\n      <td>100002</td>\n      <td>0</td>\n      <td>0</td>\n      <td>2015-10-27</td>\n      <td>1.238319e-04</td>\n      <td>0</td>\n      <td>0</td>\n      <td>NaT</td>\n      <td>NaN</td>\n      <td>TRAINING</td>\n      <td>NaT</td>\n      <td>NaN</td>\n      <td>0</td>\n      <td>0</td>\n      <td>0</td>\n      <td>0</td>\n      <td>1</td>\n      <td>TRUE_NEGATIVE</td>\n    </tr>\n    <tr>\n      <th>970</th>\n      <td>2015-07-29</td>\n      <td>100002</td>\n      <td>0</td>\n      <td>0</td>\n      <td>2015-10-27</td>\n      <td>1.438781e-04</td>\n      <td>0</td>\n      <td>0</td>\n      <td>NaT</td>\n      <td>NaN</td>\n      <td>TRAINING</td>\n      <td>NaT</td>\n      <td>NaN</td>\n      <td>0</td>\n      <td>0</td>\n      <td>0</td>\n      <td>0</td>\n      <td>1</td>\n      <td>TRUE_NEGATIVE</td>\n    </tr>\n    <tr>\n      <th>971</th>\n      <td>2015-07-30</td>\n      <td>100002</td>\n      <td>0</td>\n      <td>0</td>\n      <td>2015-10-27</td>\n      <td>5.508841e-04</td>\n      <td>0</td>\n      <td>0</td>\n      <td>NaT</td>\n      <td>NaN</td>\n      <td>TRAINING</td>\n      <td>NaT</td>\n      <td>NaN</td>\n      <td>0</td>\n      <td>0</td>\n      <td>0</td>\n      <td>0</td>\n      <td>1</td>\n      <td>TRUE_NEGATIVE</td>\n    </tr>\n    <tr>\n      <th>972</th>\n      <td>2015-07-31</td>\n      <td>100002</td>\n      <td>0</td>\n      <td>0</td>\n      <td>2015-10-27</td>\n      <td>5.059080e-05</td>\n      <td>0</td>\n      <td>0</td>\n      <td>NaT</td>\n      <td>NaN</td>\n      <td>TRAINING</td>\n      <td>NaT</td>\n      <td>NaN</td>\n      <td>0</td>\n      <td>0</td>\n      <td>0</td>\n      <td>0</td>\n      <td>1</td>\n      <td>TRUE_NEGATIVE</td>\n    </tr>\n    <tr>\n      <th>973</th>\n      <td>2015-08-01</td>\n      <td>100002</td>\n      <td>0</td>\n      <td>0</td>\n      <td>2015-10-27</td>\n      <td>2.132020e-04</td>\n      <td>0</td>\n      <td>0</td>\n      <td>NaT</td>\n      <td>NaN</td>\n      <td>TRAINING</td>\n      <td>NaT</td>\n      <td>NaN</td>\n      <td>0</td>\n      <td>0</td>\n      <td>0</td>\n      <td>0</td>\n      <td>1</td>\n      <td>TRUE_NEGATIVE</td>\n    </tr>\n    <tr>\n      <th>974</th>\n      <td>2015-08-02</td>\n      <td>100002</td>\n      <td>0</td>\n      <td>0</td>\n      <td>2015-10-27</td>\n      <td>8.549812e-04</td>\n      <td>0</td>\n      <td>0</td>\n      <td>NaT</td>\n      <td>NaN</td>\n      <td>TRAINING</td>\n      <td>NaT</td>\n      <td>NaN</td>\n      <td>0</td>\n      <td>0</td>\n      <td>0</td>\n      <td>0</td>\n      <td>1</td>\n      <td>TRUE_NEGATIVE</td>\n    </tr>\n    <tr>\n      <th>975</th>\n      <td>2015-08-03</td>\n      <td>100002</td>\n      <td>0</td>\n      <td>0</td>\n      <td>2015-10-27</td>\n      <td>1.634939e-03</td>\n      <td>0</td>\n      <td>0</td>\n      <td>NaT</td>\n      <td>NaN</td>\n      <td>TRAINING</td>\n      <td>NaT</td>\n      <td>NaN</td>\n      <td>0</td>\n      <td>0</td>\n      <td>0</td>\n      <td>0</td>\n      <td>1</td>\n      <td>TRUE_NEGATIVE</td>\n    </tr>\n    <tr>\n      <th>976</th>\n      <td>2015-08-04</td>\n      <td>100002</td>\n      <td>0</td>\n      <td>0</td>\n      <td>2015-10-27</td>\n      <td>2.031775e-04</td>\n      <td>0</td>\n      <td>0</td>\n      <td>NaT</td>\n      <td>NaN</td>\n      <td>TRAINING</td>\n      <td>NaT</td>\n      <td>NaN</td>\n      <td>0</td>\n      <td>0</td>\n      <td>0</td>\n      <td>0</td>\n      <td>1</td>\n      <td>TRUE_NEGATIVE</td>\n    </tr>\n    <tr>\n      <th>977</th>\n      <td>2015-08-05</td>\n      <td>100002</td>\n      <td>0</td>\n      <td>0</td>\n      <td>2015-10-27</td>\n      <td>6.322508e-04</td>\n      <td>0</td>\n      <td>0</td>\n      <td>NaT</td>\n      <td>NaN</td>\n      <td>TRAINING</td>\n      <td>NaT</td>\n      <td>NaN</td>\n      <td>0</td>\n      <td>0</td>\n      <td>0</td>\n      <td>0</td>\n      <td>1</td>\n      <td>TRUE_NEGATIVE</td>\n    </tr>\n    <tr>\n      <th>978</th>\n      <td>2015-08-06</td>\n      <td>100002</td>\n      <td>0</td>\n      <td>0</td>\n      <td>2015-10-27</td>\n      <td>4.601606e-05</td>\n      <td>0</td>\n      <td>0</td>\n      <td>NaT</td>\n      <td>NaN</td>\n      <td>TRAINING</td>\n      <td>NaT</td>\n      <td>NaN</td>\n      <td>0</td>\n      <td>0</td>\n      <td>0</td>\n      <td>0</td>\n      <td>1</td>\n      <td>TRUE_NEGATIVE</td>\n    </tr>\n    <tr>\n      <th>979</th>\n      <td>2015-08-07</td>\n      <td>100002</td>\n      <td>0</td>\n      <td>0</td>\n      <td>2015-10-27</td>\n      <td>1.017620e-05</td>\n      <td>0</td>\n      <td>0</td>\n      <td>NaT</td>\n      <td>NaN</td>\n      <td>TRAINING</td>\n      <td>NaT</td>\n      <td>NaN</td>\n      <td>0</td>\n      <td>0</td>\n      <td>0</td>\n      <td>0</td>\n      <td>1</td>\n      <td>TRUE_NEGATIVE</td>\n    </tr>\n    <tr>\n      <th>980</th>\n      <td>2015-08-08</td>\n      <td>100002</td>\n      <td>0</td>\n      <td>0</td>\n      <td>2015-10-27</td>\n      <td>5.740379e-05</td>\n      <td>0</td>\n      <td>0</td>\n      <td>NaT</td>\n      <td>NaN</td>\n      <td>TRAINING</td>\n      <td>NaT</td>\n      <td>NaN</td>\n      <td>0</td>\n      <td>0</td>\n      <td>0</td>\n      <td>0</td>\n      <td>1</td>\n      <td>TRUE_NEGATIVE</td>\n    </tr>\n    <tr>\n      <th>981</th>\n      <td>2015-08-09</td>\n      <td>100002</td>\n      <td>0</td>\n      <td>0</td>\n      <td>2015-10-27</td>\n      <td>3.042513e-05</td>\n      <td>0</td>\n      <td>0</td>\n      <td>NaT</td>\n      <td>NaN</td>\n      <td>TRAINING</td>\n      <td>NaT</td>\n      <td>NaN</td>\n      <td>0</td>\n      <td>0</td>\n      <td>0</td>\n      <td>0</td>\n      <td>1</td>\n      <td>TRUE_NEGATIVE</td>\n    </tr>\n    <tr>\n      <th>982</th>\n      <td>2015-08-10</td>\n      <td>100002</td>\n      <td>0</td>\n      <td>0</td>\n      <td>2015-10-27</td>\n      <td>3.215671e-04</td>\n      <td>0</td>\n      <td>0</td>\n      <td>NaT</td>\n      <td>NaN</td>\n      <td>TRAINING</td>\n      <td>NaT</td>\n      <td>NaN</td>\n      <td>0</td>\n      <td>0</td>\n      <td>0</td>\n      <td>0</td>\n      <td>1</td>\n      <td>TRUE_NEGATIVE</td>\n    </tr>\n    <tr>\n      <th>983</th>\n      <td>2015-08-11</td>\n      <td>100002</td>\n      <td>0</td>\n      <td>0</td>\n      <td>2015-10-27</td>\n      <td>2.351963e-04</td>\n      <td>0</td>\n      <td>0</td>\n      <td>NaT</td>\n      <td>NaN</td>\n      <td>TRAINING</td>\n      <td>NaT</td>\n      <td>NaN</td>\n      <td>0</td>\n      <td>0</td>\n      <td>0</td>\n      <td>0</td>\n      <td>1</td>\n      <td>TRUE_NEGATIVE</td>\n    </tr>\n    <tr>\n      <th>984</th>\n      <td>2015-08-12</td>\n      <td>100002</td>\n      <td>0</td>\n      <td>0</td>\n      <td>2015-10-27</td>\n      <td>6.176781e-06</td>\n      <td>0</td>\n      <td>0</td>\n      <td>NaT</td>\n      <td>NaN</td>\n      <td>TRAINING</td>\n      <td>NaT</td>\n      <td>NaN</td>\n      <td>0</td>\n      <td>0</td>\n      <td>0</td>\n      <td>0</td>\n      <td>1</td>\n      <td>TRUE_NEGATIVE</td>\n    </tr>\n    <tr>\n      <th>985</th>\n      <td>2015-08-13</td>\n      <td>100002</td>\n      <td>0</td>\n      <td>0</td>\n      <td>2015-10-27</td>\n      <td>8.004982e-05</td>\n      <td>0</td>\n      <td>0</td>\n      <td>NaT</td>\n      <td>NaN</td>\n      <td>TRAINING</td>\n      <td>NaT</td>\n      <td>NaN</td>\n      <td>0</td>\n      <td>0</td>\n      <td>0</td>\n      <td>0</td>\n      <td>1</td>\n      <td>TRUE_NEGATIVE</td>\n    </tr>\n    <tr>\n      <th>986</th>\n      <td>2015-08-14</td>\n      <td>100002</td>\n      <td>0</td>\n      <td>0</td>\n      <td>2015-10-27</td>\n      <td>1.604689e-06</td>\n      <td>0</td>\n      <td>0</td>\n      <td>NaT</td>\n      <td>NaN</td>\n      <td>TRAINING</td>\n      <td>NaT</td>\n      <td>NaN</td>\n      <td>0</td>\n      <td>0</td>\n      <td>0</td>\n      <td>0</td>\n      <td>1</td>\n      <td>TRUE_NEGATIVE</td>\n    </tr>\n    <tr>\n      <th>987</th>\n      <td>2015-08-15</td>\n      <td>100002</td>\n      <td>0</td>\n      <td>0</td>\n      <td>2015-10-27</td>\n      <td>2.406323e-06</td>\n      <td>0</td>\n      <td>0</td>\n      <td>NaT</td>\n      <td>NaN</td>\n      <td>TRAINING</td>\n      <td>NaT</td>\n      <td>NaN</td>\n      <td>0</td>\n      <td>0</td>\n      <td>0</td>\n      <td>0</td>\n      <td>1</td>\n      <td>TRUE_NEGATIVE</td>\n    </tr>\n    <tr>\n      <th>988</th>\n      <td>2015-08-16</td>\n      <td>100002</td>\n      <td>0</td>\n      <td>0</td>\n      <td>2015-10-27</td>\n      <td>2.614675e-06</td>\n      <td>0</td>\n      <td>0</td>\n      <td>NaT</td>\n      <td>NaN</td>\n      <td>TRAINING</td>\n      <td>NaT</td>\n      <td>NaN</td>\n      <td>0</td>\n      <td>0</td>\n      <td>0</td>\n      <td>0</td>\n      <td>1</td>\n      <td>TRUE_NEGATIVE</td>\n    </tr>\n    <tr>\n      <th>989</th>\n      <td>2015-08-17</td>\n      <td>100002</td>\n      <td>0</td>\n      <td>0</td>\n      <td>2015-10-27</td>\n      <td>1.174563e-06</td>\n      <td>0</td>\n      <td>0</td>\n      <td>NaT</td>\n      <td>NaN</td>\n      <td>TRAINING</td>\n      <td>NaT</td>\n      <td>NaN</td>\n      <td>0</td>\n      <td>0</td>\n      <td>0</td>\n      <td>0</td>\n      <td>1</td>\n      <td>TRUE_NEGATIVE</td>\n    </tr>\n    <tr>\n      <th>990</th>\n      <td>2015-08-18</td>\n      <td>100002</td>\n      <td>0</td>\n      <td>0</td>\n      <td>2015-10-27</td>\n      <td>1.969017e-04</td>\n      <td>0</td>\n      <td>0</td>\n      <td>NaT</td>\n      <td>NaN</td>\n      <td>TRAINING</td>\n      <td>NaT</td>\n      <td>NaN</td>\n      <td>0</td>\n      <td>0</td>\n      <td>0</td>\n      <td>0</td>\n      <td>1</td>\n      <td>TRUE_NEGATIVE</td>\n    </tr>\n    <tr>\n      <th>991</th>\n      <td>2015-08-19</td>\n      <td>100002</td>\n      <td>0</td>\n      <td>0</td>\n      <td>2015-10-27</td>\n      <td>2.086531e-05</td>\n      <td>0</td>\n      <td>0</td>\n      <td>NaT</td>\n      <td>NaN</td>\n      <td>TRAINING</td>\n      <td>NaT</td>\n      <td>NaN</td>\n      <td>0</td>\n      <td>0</td>\n      <td>0</td>\n      <td>0</td>\n      <td>1</td>\n      <td>TRUE_NEGATIVE</td>\n    </tr>\n    <tr>\n      <th>992</th>\n      <td>2015-08-20</td>\n      <td>100002</td>\n      <td>0</td>\n      <td>0</td>\n      <td>2015-10-27</td>\n      <td>2.118050e-04</td>\n      <td>0</td>\n      <td>0</td>\n      <td>NaT</td>\n      <td>NaN</td>\n      <td>TRAINING</td>\n      <td>NaT</td>\n      <td>NaN</td>\n      <td>0</td>\n      <td>0</td>\n      <td>0</td>\n      <td>0</td>\n      <td>1</td>\n      <td>TRUE_NEGATIVE</td>\n    </tr>\n    <tr>\n      <th>993</th>\n      <td>2015-08-21</td>\n      <td>100002</td>\n      <td>0</td>\n      <td>0</td>\n      <td>2015-10-27</td>\n      <td>3.456705e-03</td>\n      <td>0</td>\n      <td>0</td>\n      <td>NaT</td>\n      <td>NaN</td>\n      <td>TRAINING</td>\n      <td>NaT</td>\n      <td>NaN</td>\n      <td>0</td>\n      <td>0</td>\n      <td>0</td>\n      <td>0</td>\n      <td>1</td>\n      <td>TRUE_NEGATIVE</td>\n    </tr>\n    <tr>\n      <th>994</th>\n      <td>2015-08-22</td>\n      <td>100002</td>\n      <td>0</td>\n      <td>0</td>\n      <td>2015-10-27</td>\n      <td>2.905791e-05</td>\n      <td>0</td>\n      <td>0</td>\n      <td>NaT</td>\n      <td>NaN</td>\n      <td>TRAINING</td>\n      <td>NaT</td>\n      <td>NaN</td>\n      <td>0</td>\n      <td>0</td>\n      <td>0</td>\n      <td>0</td>\n      <td>1</td>\n      <td>TRUE_NEGATIVE</td>\n    </tr>\n    <tr>\n      <th>995</th>\n      <td>2015-08-23</td>\n      <td>100002</td>\n      <td>0</td>\n      <td>0</td>\n      <td>2015-10-27</td>\n      <td>2.910428e-05</td>\n      <td>0</td>\n      <td>0</td>\n      <td>NaT</td>\n      <td>NaN</td>\n      <td>TRAINING</td>\n      <td>NaT</td>\n      <td>NaN</td>\n      <td>0</td>\n      <td>0</td>\n      <td>0</td>\n      <td>0</td>\n      <td>1</td>\n      <td>TRUE_NEGATIVE</td>\n    </tr>\n    <tr>\n      <th>996</th>\n      <td>2015-08-24</td>\n      <td>100002</td>\n      <td>0</td>\n      <td>0</td>\n      <td>2015-10-27</td>\n      <td>5.762982e-06</td>\n      <td>0</td>\n      <td>0</td>\n      <td>NaT</td>\n      <td>NaN</td>\n      <td>TRAINING</td>\n      <td>NaT</td>\n      <td>NaN</td>\n      <td>0</td>\n      <td>0</td>\n      <td>0</td>\n      <td>0</td>\n      <td>1</td>\n      <td>TRUE_NEGATIVE</td>\n    </tr>\n    <tr>\n      <th>997</th>\n      <td>2015-08-25</td>\n      <td>100002</td>\n      <td>0</td>\n      <td>0</td>\n      <td>2015-10-27</td>\n      <td>5.477335e-05</td>\n      <td>0</td>\n      <td>0</td>\n      <td>NaT</td>\n      <td>NaN</td>\n      <td>TRAINING</td>\n      <td>NaT</td>\n      <td>NaN</td>\n      <td>0</td>\n      <td>0</td>\n      <td>0</td>\n      <td>0</td>\n      <td>1</td>\n      <td>TRUE_NEGATIVE</td>\n    </tr>\n    <tr>\n      <th>998</th>\n      <td>2015-08-26</td>\n      <td>100002</td>\n      <td>0</td>\n      <td>0</td>\n      <td>2015-10-27</td>\n      <td>1.200229e-05</td>\n      <td>0</td>\n      <td>0</td>\n      <td>NaT</td>\n      <td>NaN</td>\n      <td>TRAINING</td>\n      <td>NaT</td>\n      <td>NaN</td>\n      <td>0</td>\n      <td>0</td>\n      <td>0</td>\n      <td>0</td>\n      <td>1</td>\n      <td>TRUE_NEGATIVE</td>\n    </tr>\n    <tr>\n      <th>999</th>\n      <td>2015-08-27</td>\n      <td>100002</td>\n      <td>0</td>\n      <td>0</td>\n      <td>2015-10-27</td>\n      <td>1.161118e-03</td>\n      <td>0</td>\n      <td>0</td>\n      <td>NaT</td>\n      <td>NaN</td>\n      <td>TRAINING</td>\n      <td>NaT</td>\n      <td>NaN</td>\n      <td>0</td>\n      <td>0</td>\n      <td>0</td>\n      <td>0</td>\n      <td>1</td>\n      <td>TRUE_NEGATIVE</td>\n    </tr>\n    <tr>\n      <th>1000</th>\n      <td>2015-08-28</td>\n      <td>100002</td>\n      <td>0</td>\n      <td>0</td>\n      <td>2015-10-27</td>\n      <td>5.731858e-05</td>\n      <td>0</td>\n      <td>0</td>\n      <td>NaT</td>\n      <td>NaN</td>\n      <td>TRAINING</td>\n      <td>NaT</td>\n      <td>NaN</td>\n      <td>0</td>\n      <td>0</td>\n      <td>0</td>\n      <td>0</td>\n      <td>1</td>\n      <td>TRUE_NEGATIVE</td>\n    </tr>\n    <tr>\n      <th>1001</th>\n      <td>2015-08-29</td>\n      <td>100002</td>\n      <td>0</td>\n      <td>0</td>\n      <td>2015-10-27</td>\n      <td>5.495175e-05</td>\n      <td>0</td>\n      <td>0</td>\n      <td>NaT</td>\n      <td>NaN</td>\n      <td>TRAINING</td>\n      <td>NaT</td>\n      <td>NaN</td>\n      <td>0</td>\n      <td>0</td>\n      <td>0</td>\n      <td>0</td>\n      <td>1</td>\n      <td>TRUE_NEGATIVE</td>\n    </tr>\n    <tr>\n      <th>1002</th>\n      <td>2015-08-30</td>\n      <td>100002</td>\n      <td>0</td>\n      <td>0</td>\n      <td>2015-10-27</td>\n      <td>3.031600e-05</td>\n      <td>0</td>\n      <td>0</td>\n      <td>NaT</td>\n      <td>NaN</td>\n      <td>TRAINING</td>\n      <td>NaT</td>\n      <td>NaN</td>\n      <td>0</td>\n      <td>0</td>\n      <td>0</td>\n      <td>0</td>\n      <td>1</td>\n      <td>TRUE_NEGATIVE</td>\n    </tr>\n    <tr>\n      <th>1003</th>\n      <td>2015-08-31</td>\n      <td>100002</td>\n      <td>0</td>\n      <td>0</td>\n      <td>2015-10-27</td>\n      <td>3.178434e-06</td>\n      <td>0</td>\n      <td>0</td>\n      <td>NaT</td>\n      <td>NaN</td>\n      <td>TRAINING</td>\n      <td>NaT</td>\n      <td>NaN</td>\n      <td>0</td>\n      <td>0</td>\n      <td>0</td>\n      <td>0</td>\n      <td>1</td>\n      <td>TRUE_NEGATIVE</td>\n    </tr>\n    <tr>\n      <th>1004</th>\n      <td>2015-09-01</td>\n      <td>100002</td>\n      <td>0</td>\n      <td>0</td>\n      <td>2015-10-27</td>\n      <td>1.474153e-06</td>\n      <td>0</td>\n      <td>0</td>\n      <td>NaT</td>\n      <td>NaN</td>\n      <td>TRAINING</td>\n      <td>NaT</td>\n      <td>NaN</td>\n      <td>0</td>\n      <td>0</td>\n      <td>0</td>\n      <td>0</td>\n      <td>1</td>\n      <td>TRUE_NEGATIVE</td>\n    </tr>\n    <tr>\n      <th>1005</th>\n      <td>2015-09-02</td>\n      <td>100002</td>\n      <td>0</td>\n      <td>0</td>\n      <td>2015-10-27</td>\n      <td>1.252543e-05</td>\n      <td>0</td>\n      <td>0</td>\n      <td>NaT</td>\n      <td>NaN</td>\n      <td>TRAINING</td>\n      <td>NaT</td>\n      <td>NaN</td>\n      <td>0</td>\n      <td>0</td>\n      <td>0</td>\n      <td>0</td>\n      <td>1</td>\n      <td>TRUE_NEGATIVE</td>\n    </tr>\n    <tr>\n      <th>1006</th>\n      <td>2015-09-03</td>\n      <td>100002</td>\n      <td>0</td>\n      <td>0</td>\n      <td>2015-10-27</td>\n      <td>6.157228e-05</td>\n      <td>0</td>\n      <td>0</td>\n      <td>NaT</td>\n      <td>NaN</td>\n      <td>TRAINING</td>\n      <td>NaT</td>\n      <td>NaN</td>\n      <td>0</td>\n      <td>0</td>\n      <td>0</td>\n      <td>0</td>\n      <td>1</td>\n      <td>TRUE_NEGATIVE</td>\n    </tr>\n    <tr>\n      <th>1007</th>\n      <td>2015-09-04</td>\n      <td>100002</td>\n      <td>0</td>\n      <td>0</td>\n      <td>2015-10-27</td>\n      <td>1.556686e-05</td>\n      <td>0</td>\n      <td>0</td>\n      <td>NaT</td>\n      <td>NaN</td>\n      <td>TRAINING</td>\n      <td>NaT</td>\n      <td>NaN</td>\n      <td>0</td>\n      <td>0</td>\n      <td>0</td>\n      <td>0</td>\n      <td>1</td>\n      <td>TRUE_NEGATIVE</td>\n    </tr>\n    <tr>\n      <th>1008</th>\n      <td>2015-09-05</td>\n      <td>100002</td>\n      <td>0</td>\n      <td>0</td>\n      <td>2015-10-27</td>\n      <td>1.542042e-05</td>\n      <td>0</td>\n      <td>0</td>\n      <td>NaT</td>\n      <td>NaN</td>\n      <td>TRAINING</td>\n      <td>NaT</td>\n      <td>NaN</td>\n      <td>0</td>\n      <td>0</td>\n      <td>0</td>\n      <td>0</td>\n      <td>1</td>\n      <td>TRUE_NEGATIVE</td>\n    </tr>\n    <tr>\n      <th>1009</th>\n      <td>2015-09-06</td>\n      <td>100002</td>\n      <td>0</td>\n      <td>0</td>\n      <td>2015-10-27</td>\n      <td>2.208216e-05</td>\n      <td>0</td>\n      <td>0</td>\n      <td>NaT</td>\n      <td>NaN</td>\n      <td>TRAINING</td>\n      <td>NaT</td>\n      <td>NaN</td>\n      <td>0</td>\n      <td>0</td>\n      <td>0</td>\n      <td>0</td>\n      <td>1</td>\n      <td>TRUE_NEGATIVE</td>\n    </tr>\n    <tr>\n      <th>1010</th>\n      <td>2015-09-07</td>\n      <td>100002</td>\n      <td>0</td>\n      <td>0</td>\n      <td>2015-10-27</td>\n      <td>1.051389e-05</td>\n      <td>0</td>\n      <td>0</td>\n      <td>NaT</td>\n      <td>NaN</td>\n      <td>TRAINING</td>\n      <td>NaT</td>\n      <td>NaN</td>\n      <td>0</td>\n      <td>0</td>\n      <td>0</td>\n      <td>0</td>\n      <td>1</td>\n      <td>TRUE_NEGATIVE</td>\n    </tr>\n    <tr>\n      <th>1011</th>\n      <td>2015-09-08</td>\n      <td>100002</td>\n      <td>0</td>\n      <td>0</td>\n      <td>2015-10-27</td>\n      <td>2.769763e-03</td>\n      <td>0</td>\n      <td>0</td>\n      <td>NaT</td>\n      <td>NaN</td>\n      <td>TRAINING</td>\n      <td>NaT</td>\n      <td>NaN</td>\n      <td>0</td>\n      <td>0</td>\n      <td>0</td>\n      <td>0</td>\n      <td>1</td>\n      <td>TRUE_NEGATIVE</td>\n    </tr>\n    <tr>\n      <th>1012</th>\n      <td>2015-09-09</td>\n      <td>100002</td>\n      <td>0</td>\n      <td>0</td>\n      <td>2015-10-27</td>\n      <td>1.094514e-03</td>\n      <td>0</td>\n      <td>0</td>\n      <td>NaT</td>\n      <td>NaN</td>\n      <td>TRAINING</td>\n      <td>NaT</td>\n      <td>NaN</td>\n      <td>0</td>\n      <td>0</td>\n      <td>0</td>\n      <td>0</td>\n      <td>1</td>\n      <td>TRUE_NEGATIVE</td>\n    </tr>\n    <tr>\n      <th>1013</th>\n      <td>2015-09-10</td>\n      <td>100002</td>\n      <td>0</td>\n      <td>0</td>\n      <td>2015-10-27</td>\n      <td>2.337988e-04</td>\n      <td>0</td>\n      <td>0</td>\n      <td>NaT</td>\n      <td>NaN</td>\n      <td>TRAINING</td>\n      <td>NaT</td>\n      <td>NaN</td>\n      <td>0</td>\n      <td>0</td>\n      <td>0</td>\n      <td>0</td>\n      <td>1</td>\n      <td>TRUE_NEGATIVE</td>\n    </tr>\n    <tr>\n      <th>1014</th>\n      <td>2015-09-11</td>\n      <td>100002</td>\n      <td>0</td>\n      <td>0</td>\n      <td>2015-10-27</td>\n      <td>5.172217e-04</td>\n      <td>0</td>\n      <td>0</td>\n      <td>NaT</td>\n      <td>NaN</td>\n      <td>TRAINING</td>\n      <td>NaT</td>\n      <td>NaN</td>\n      <td>0</td>\n      <td>0</td>\n      <td>0</td>\n      <td>0</td>\n      <td>1</td>\n      <td>TRUE_NEGATIVE</td>\n    </tr>\n    <tr>\n      <th>1015</th>\n      <td>2015-09-12</td>\n      <td>100002</td>\n      <td>0</td>\n      <td>0</td>\n      <td>2015-10-27</td>\n      <td>5.839976e-05</td>\n      <td>0</td>\n      <td>0</td>\n      <td>NaT</td>\n      <td>NaN</td>\n      <td>TRAINING</td>\n      <td>NaT</td>\n      <td>NaN</td>\n      <td>0</td>\n      <td>0</td>\n      <td>0</td>\n      <td>0</td>\n      <td>1</td>\n      <td>TRUE_NEGATIVE</td>\n    </tr>\n    <tr>\n      <th>1016</th>\n      <td>2015-09-13</td>\n      <td>100002</td>\n      <td>0</td>\n      <td>0</td>\n      <td>2015-10-27</td>\n      <td>2.378842e-04</td>\n      <td>0</td>\n      <td>0</td>\n      <td>NaT</td>\n      <td>NaN</td>\n      <td>TRAINING</td>\n      <td>NaT</td>\n      <td>NaN</td>\n      <td>0</td>\n      <td>0</td>\n      <td>0</td>\n      <td>0</td>\n      <td>1</td>\n      <td>TRUE_NEGATIVE</td>\n    </tr>\n    <tr>\n      <th>1017</th>\n      <td>2015-09-14</td>\n      <td>100002</td>\n      <td>0</td>\n      <td>0</td>\n      <td>2015-10-27</td>\n      <td>1.787264e-03</td>\n      <td>0</td>\n      <td>0</td>\n      <td>NaT</td>\n      <td>NaN</td>\n      <td>TRAINING</td>\n      <td>NaT</td>\n      <td>NaN</td>\n      <td>0</td>\n      <td>0</td>\n      <td>0</td>\n      <td>0</td>\n      <td>1</td>\n      <td>TRUE_NEGATIVE</td>\n    </tr>\n    <tr>\n      <th>1018</th>\n      <td>2015-09-15</td>\n      <td>100002</td>\n      <td>0</td>\n      <td>0</td>\n      <td>2015-10-27</td>\n      <td>5.556440e-03</td>\n      <td>0</td>\n      <td>0</td>\n      <td>NaT</td>\n      <td>NaN</td>\n      <td>TRAINING</td>\n      <td>NaT</td>\n      <td>NaN</td>\n      <td>0</td>\n      <td>0</td>\n      <td>0</td>\n      <td>0</td>\n      <td>1</td>\n      <td>TRUE_NEGATIVE</td>\n    </tr>\n    <tr>\n      <th>1019</th>\n      <td>2015-09-16</td>\n      <td>100002</td>\n      <td>0</td>\n      <td>0</td>\n      <td>2015-10-27</td>\n      <td>1.988616e-03</td>\n      <td>0</td>\n      <td>0</td>\n      <td>NaT</td>\n      <td>NaN</td>\n      <td>TRAINING</td>\n      <td>NaT</td>\n      <td>NaN</td>\n      <td>0</td>\n      <td>0</td>\n      <td>0</td>\n      <td>0</td>\n      <td>1</td>\n      <td>TRUE_NEGATIVE</td>\n    </tr>\n    <tr>\n      <th>1020</th>\n      <td>2015-09-17</td>\n      <td>100002</td>\n      <td>0</td>\n      <td>0</td>\n      <td>2015-10-27</td>\n      <td>4.083402e-04</td>\n      <td>0</td>\n      <td>0</td>\n      <td>NaT</td>\n      <td>NaN</td>\n      <td>TRAINING</td>\n      <td>NaT</td>\n      <td>NaN</td>\n      <td>0</td>\n      <td>0</td>\n      <td>0</td>\n      <td>0</td>\n      <td>1</td>\n      <td>TRUE_NEGATIVE</td>\n    </tr>\n    <tr>\n      <th>1021</th>\n      <td>2015-09-18</td>\n      <td>100002</td>\n      <td>0</td>\n      <td>0</td>\n      <td>2015-10-27</td>\n      <td>3.933029e-03</td>\n      <td>0</td>\n      <td>0</td>\n      <td>NaT</td>\n      <td>NaN</td>\n      <td>TRAINING</td>\n      <td>NaT</td>\n      <td>NaN</td>\n      <td>0</td>\n      <td>0</td>\n      <td>0</td>\n      <td>0</td>\n      <td>1</td>\n      <td>TRUE_NEGATIVE</td>\n    </tr>\n    <tr>\n      <th>1022</th>\n      <td>2015-09-19</td>\n      <td>100002</td>\n      <td>0</td>\n      <td>0</td>\n      <td>2015-10-27</td>\n      <td>8.527761e-03</td>\n      <td>0</td>\n      <td>0</td>\n      <td>NaT</td>\n      <td>NaN</td>\n      <td>TRAINING</td>\n      <td>NaT</td>\n      <td>NaN</td>\n      <td>0</td>\n      <td>0</td>\n      <td>0</td>\n      <td>0</td>\n      <td>1</td>\n      <td>TRUE_NEGATIVE</td>\n    </tr>\n    <tr>\n      <th>1023</th>\n      <td>2015-09-20</td>\n      <td>100002</td>\n      <td>0</td>\n      <td>0</td>\n      <td>2015-10-27</td>\n      <td>2.324084e-03</td>\n      <td>0</td>\n      <td>0</td>\n      <td>NaT</td>\n      <td>NaN</td>\n      <td>TRAINING</td>\n      <td>NaT</td>\n      <td>NaN</td>\n      <td>0</td>\n      <td>0</td>\n      <td>0</td>\n      <td>0</td>\n      <td>1</td>\n      <td>TRUE_NEGATIVE</td>\n    </tr>\n    <tr>\n      <th>1024</th>\n      <td>2015-09-21</td>\n      <td>100002</td>\n      <td>0</td>\n      <td>0</td>\n      <td>2015-10-27</td>\n      <td>1.999269e-03</td>\n      <td>0</td>\n      <td>0</td>\n      <td>NaT</td>\n      <td>NaN</td>\n      <td>TRAINING</td>\n      <td>NaT</td>\n      <td>NaN</td>\n      <td>0</td>\n      <td>0</td>\n      <td>0</td>\n      <td>0</td>\n      <td>1</td>\n      <td>TRUE_NEGATIVE</td>\n    </tr>\n    <tr>\n      <th>1025</th>\n      <td>2015-09-22</td>\n      <td>100002</td>\n      <td>0</td>\n      <td>0</td>\n      <td>2015-10-27</td>\n      <td>1.014028e-03</td>\n      <td>0</td>\n      <td>0</td>\n      <td>NaT</td>\n      <td>NaN</td>\n      <td>TRAINING</td>\n      <td>NaT</td>\n      <td>NaN</td>\n      <td>0</td>\n      <td>0</td>\n      <td>0</td>\n      <td>0</td>\n      <td>1</td>\n      <td>TRUE_NEGATIVE</td>\n    </tr>\n    <tr>\n      <th>1026</th>\n      <td>2015-09-23</td>\n      <td>100002</td>\n      <td>0</td>\n      <td>0</td>\n      <td>2015-10-27</td>\n      <td>3.525617e-03</td>\n      <td>0</td>\n      <td>0</td>\n      <td>NaT</td>\n      <td>NaN</td>\n      <td>TRAINING</td>\n      <td>NaT</td>\n      <td>NaN</td>\n      <td>0</td>\n      <td>0</td>\n      <td>0</td>\n      <td>0</td>\n      <td>1</td>\n      <td>TRUE_NEGATIVE</td>\n    </tr>\n    <tr>\n      <th>1027</th>\n      <td>2015-09-24</td>\n      <td>100002</td>\n      <td>0</td>\n      <td>0</td>\n      <td>2015-10-27</td>\n      <td>9.019536e-04</td>\n      <td>0</td>\n      <td>0</td>\n      <td>NaT</td>\n      <td>NaN</td>\n      <td>TRAINING</td>\n      <td>NaT</td>\n      <td>NaN</td>\n      <td>0</td>\n      <td>0</td>\n      <td>0</td>\n      <td>0</td>\n      <td>1</td>\n      <td>TRUE_NEGATIVE</td>\n    </tr>\n    <tr>\n      <th>1028</th>\n      <td>2015-09-25</td>\n      <td>100002</td>\n      <td>0</td>\n      <td>0</td>\n      <td>2015-10-27</td>\n      <td>7.436720e-03</td>\n      <td>0</td>\n      <td>0</td>\n      <td>NaT</td>\n      <td>NaN</td>\n      <td>TRAINING</td>\n      <td>NaT</td>\n      <td>NaN</td>\n      <td>0</td>\n      <td>0</td>\n      <td>0</td>\n      <td>0</td>\n      <td>1</td>\n      <td>TRUE_NEGATIVE</td>\n    </tr>\n    <tr>\n      <th>1029</th>\n      <td>2015-09-26</td>\n      <td>100002</td>\n      <td>0</td>\n      <td>0</td>\n      <td>2015-10-27</td>\n      <td>3.665394e-03</td>\n      <td>0</td>\n      <td>0</td>\n      <td>NaT</td>\n      <td>NaN</td>\n      <td>TRAINING</td>\n      <td>NaT</td>\n      <td>NaN</td>\n      <td>0</td>\n      <td>0</td>\n      <td>0</td>\n      <td>0</td>\n      <td>1</td>\n      <td>TRUE_NEGATIVE</td>\n    </tr>\n    <tr>\n      <th>1030</th>\n      <td>2015-09-27</td>\n      <td>100002</td>\n      <td>0</td>\n      <td>0</td>\n      <td>2015-10-27</td>\n      <td>1.893368e-03</td>\n      <td>0</td>\n      <td>0</td>\n      <td>NaT</td>\n      <td>NaN</td>\n      <td>TRAINING</td>\n      <td>NaT</td>\n      <td>NaN</td>\n      <td>0</td>\n      <td>0</td>\n      <td>0</td>\n      <td>0</td>\n      <td>1</td>\n      <td>TRUE_NEGATIVE</td>\n    </tr>\n    <tr>\n      <th>1031</th>\n      <td>2015-09-28</td>\n      <td>100002</td>\n      <td>0</td>\n      <td>0</td>\n      <td>2015-10-27</td>\n      <td>4.163574e-03</td>\n      <td>0</td>\n      <td>0</td>\n      <td>NaT</td>\n      <td>NaN</td>\n      <td>TRAINING</td>\n      <td>NaT</td>\n      <td>NaN</td>\n      <td>0</td>\n      <td>0</td>\n      <td>0</td>\n      <td>0</td>\n      <td>1</td>\n      <td>TRUE_NEGATIVE</td>\n    </tr>\n    <tr>\n      <th>1032</th>\n      <td>2015-09-29</td>\n      <td>100002</td>\n      <td>0</td>\n      <td>0</td>\n      <td>2015-10-27</td>\n      <td>1.212157e-01</td>\n      <td>0</td>\n      <td>0</td>\n      <td>NaT</td>\n      <td>NaN</td>\n      <td>TRAINING</td>\n      <td>NaT</td>\n      <td>NaN</td>\n      <td>0</td>\n      <td>0</td>\n      <td>0</td>\n      <td>0</td>\n      <td>1</td>\n      <td>TRUE_NEGATIVE</td>\n    </tr>\n    <tr>\n      <th>1033</th>\n      <td>2015-09-30</td>\n      <td>100002</td>\n      <td>0</td>\n      <td>1</td>\n      <td>2015-10-27</td>\n      <td>9.960163e-01</td>\n      <td>1</td>\n      <td>1</td>\n      <td>2015-09-30</td>\n      <td>100002.0</td>\n      <td>TRAINING</td>\n      <td>27 days</td>\n      <td>27.0</td>\n      <td>0</td>\n      <td>0</td>\n      <td>0</td>\n      <td>0</td>\n      <td>1</td>\n      <td>TRUE_NEGATIVE</td>\n    </tr>\n    <tr>\n      <th>1034</th>\n      <td>2015-10-01</td>\n      <td>100002</td>\n      <td>0</td>\n      <td>1</td>\n      <td>2015-10-27</td>\n      <td>9.994253e-01</td>\n      <td>0</td>\n      <td>1</td>\n      <td>2015-09-30</td>\n      <td>100002.0</td>\n      <td>TRAINING</td>\n      <td>27 days</td>\n      <td>27.0</td>\n      <td>0</td>\n      <td>0</td>\n      <td>0</td>\n      <td>0</td>\n      <td>1</td>\n      <td>TRUE_NEGATIVE</td>\n    </tr>\n    <tr>\n      <th>1035</th>\n      <td>2015-10-02</td>\n      <td>100002</td>\n      <td>0</td>\n      <td>1</td>\n      <td>2015-10-27</td>\n      <td>9.907562e-01</td>\n      <td>0</td>\n      <td>1</td>\n      <td>2015-09-30</td>\n      <td>100002.0</td>\n      <td>TRAINING</td>\n      <td>27 days</td>\n      <td>27.0</td>\n      <td>0</td>\n      <td>0</td>\n      <td>0</td>\n      <td>0</td>\n      <td>1</td>\n      <td>TRUE_NEGATIVE</td>\n    </tr>\n    <tr>\n      <th>1036</th>\n      <td>2015-10-03</td>\n      <td>100002</td>\n      <td>0</td>\n      <td>1</td>\n      <td>2015-10-27</td>\n      <td>9.993165e-01</td>\n      <td>0</td>\n      <td>1</td>\n      <td>2015-09-30</td>\n      <td>100002.0</td>\n      <td>TRAINING</td>\n      <td>27 days</td>\n      <td>27.0</td>\n      <td>0</td>\n      <td>0</td>\n      <td>0</td>\n      <td>0</td>\n      <td>1</td>\n      <td>TRUE_NEGATIVE</td>\n    </tr>\n    <tr>\n      <th>1037</th>\n      <td>2015-10-04</td>\n      <td>100002</td>\n      <td>0</td>\n      <td>1</td>\n      <td>2015-10-27</td>\n      <td>9.983823e-01</td>\n      <td>0</td>\n      <td>1</td>\n      <td>2015-09-30</td>\n      <td>100002.0</td>\n      <td>TRAINING</td>\n      <td>27 days</td>\n      <td>27.0</td>\n      <td>0</td>\n      <td>0</td>\n      <td>0</td>\n      <td>0</td>\n      <td>1</td>\n      <td>TRUE_NEGATIVE</td>\n    </tr>\n    <tr>\n      <th>1038</th>\n      <td>2015-10-05</td>\n      <td>100002</td>\n      <td>0</td>\n      <td>1</td>\n      <td>2015-10-27</td>\n      <td>9.949369e-01</td>\n      <td>0</td>\n      <td>1</td>\n      <td>2015-09-30</td>\n      <td>100002.0</td>\n      <td>TRAINING</td>\n      <td>27 days</td>\n      <td>27.0</td>\n      <td>0</td>\n      <td>0</td>\n      <td>0</td>\n      <td>0</td>\n      <td>1</td>\n      <td>TRUE_NEGATIVE</td>\n    </tr>\n    <tr>\n      <th>1039</th>\n      <td>2015-10-06</td>\n      <td>100002</td>\n      <td>0</td>\n      <td>1</td>\n      <td>2015-10-27</td>\n      <td>9.956546e-01</td>\n      <td>0</td>\n      <td>1</td>\n      <td>2015-09-30</td>\n      <td>100002.0</td>\n      <td>TRAINING</td>\n      <td>27 days</td>\n      <td>27.0</td>\n      <td>0</td>\n      <td>0</td>\n      <td>0</td>\n      <td>0</td>\n      <td>1</td>\n      <td>TRUE_NEGATIVE</td>\n    </tr>\n    <tr>\n      <th>1040</th>\n      <td>2015-10-07</td>\n      <td>100002</td>\n      <td>0</td>\n      <td>1</td>\n      <td>2015-10-27</td>\n      <td>9.997701e-01</td>\n      <td>0</td>\n      <td>1</td>\n      <td>2015-09-30</td>\n      <td>100002.0</td>\n      <td>TRAINING</td>\n      <td>27 days</td>\n      <td>27.0</td>\n      <td>0</td>\n      <td>0</td>\n      <td>0</td>\n      <td>0</td>\n      <td>1</td>\n      <td>TRUE_NEGATIVE</td>\n    </tr>\n    <tr>\n      <th>1041</th>\n      <td>2015-10-08</td>\n      <td>100002</td>\n      <td>0</td>\n      <td>1</td>\n      <td>2015-10-27</td>\n      <td>9.998689e-01</td>\n      <td>0</td>\n      <td>1</td>\n      <td>2015-09-30</td>\n      <td>100002.0</td>\n      <td>TRAINING</td>\n      <td>27 days</td>\n      <td>27.0</td>\n      <td>0</td>\n      <td>0</td>\n      <td>0</td>\n      <td>0</td>\n      <td>1</td>\n      <td>TRUE_NEGATIVE</td>\n    </tr>\n    <tr>\n      <th>1042</th>\n      <td>2015-10-09</td>\n      <td>100002</td>\n      <td>0</td>\n      <td>1</td>\n      <td>2015-10-27</td>\n      <td>9.998958e-01</td>\n      <td>0</td>\n      <td>1</td>\n      <td>2015-09-30</td>\n      <td>100002.0</td>\n      <td>TRAINING</td>\n      <td>27 days</td>\n      <td>27.0</td>\n      <td>0</td>\n      <td>0</td>\n      <td>0</td>\n      <td>0</td>\n      <td>1</td>\n      <td>TRUE_NEGATIVE</td>\n    </tr>\n    <tr>\n      <th>1043</th>\n      <td>2015-10-10</td>\n      <td>100002</td>\n      <td>0</td>\n      <td>1</td>\n      <td>2015-10-27</td>\n      <td>9.996367e-01</td>\n      <td>0</td>\n      <td>1</td>\n      <td>2015-09-30</td>\n      <td>100002.0</td>\n      <td>TRAINING</td>\n      <td>27 days</td>\n      <td>27.0</td>\n      <td>0</td>\n      <td>0</td>\n      <td>0</td>\n      <td>0</td>\n      <td>1</td>\n      <td>TRUE_NEGATIVE</td>\n    </tr>\n    <tr>\n      <th>1044</th>\n      <td>2015-10-11</td>\n      <td>100002</td>\n      <td>0</td>\n      <td>1</td>\n      <td>2015-10-27</td>\n      <td>9.990008e-01</td>\n      <td>0</td>\n      <td>1</td>\n      <td>2015-09-30</td>\n      <td>100002.0</td>\n      <td>TRAINING</td>\n      <td>27 days</td>\n      <td>27.0</td>\n      <td>0</td>\n      <td>0</td>\n      <td>0</td>\n      <td>0</td>\n      <td>1</td>\n      <td>TRUE_NEGATIVE</td>\n    </tr>\n    <tr>\n      <th>1045</th>\n      <td>2015-10-12</td>\n      <td>100002</td>\n      <td>0</td>\n      <td>1</td>\n      <td>2015-10-27</td>\n      <td>9.999260e-01</td>\n      <td>0</td>\n      <td>1</td>\n      <td>2015-09-30</td>\n      <td>100002.0</td>\n      <td>TRAINING</td>\n      <td>27 days</td>\n      <td>27.0</td>\n      <td>0</td>\n      <td>0</td>\n      <td>0</td>\n      <td>0</td>\n      <td>1</td>\n      <td>TRUE_NEGATIVE</td>\n    </tr>\n    <tr>\n      <th>1046</th>\n      <td>2015-10-13</td>\n      <td>100002</td>\n      <td>0</td>\n      <td>1</td>\n      <td>2015-10-27</td>\n      <td>9.996116e-01</td>\n      <td>0</td>\n      <td>1</td>\n      <td>2015-09-30</td>\n      <td>100002.0</td>\n      <td>TRAINING</td>\n      <td>27 days</td>\n      <td>27.0</td>\n      <td>0</td>\n      <td>0</td>\n      <td>0</td>\n      <td>0</td>\n      <td>1</td>\n      <td>TRUE_NEGATIVE</td>\n    </tr>\n    <tr>\n      <th>1047</th>\n      <td>2015-10-14</td>\n      <td>100002</td>\n      <td>0</td>\n      <td>1</td>\n      <td>2015-10-27</td>\n      <td>9.999769e-01</td>\n      <td>0</td>\n      <td>1</td>\n      <td>2015-09-30</td>\n      <td>100002.0</td>\n      <td>TRAINING</td>\n      <td>27 days</td>\n      <td>27.0</td>\n      <td>0</td>\n      <td>0</td>\n      <td>0</td>\n      <td>0</td>\n      <td>1</td>\n      <td>TRUE_NEGATIVE</td>\n    </tr>\n    <tr>\n      <th>1048</th>\n      <td>2015-10-15</td>\n      <td>100002</td>\n      <td>0</td>\n      <td>1</td>\n      <td>2015-10-27</td>\n      <td>9.999564e-01</td>\n      <td>0</td>\n      <td>1</td>\n      <td>2015-09-30</td>\n      <td>100002.0</td>\n      <td>TRAINING</td>\n      <td>27 days</td>\n      <td>27.0</td>\n      <td>0</td>\n      <td>0</td>\n      <td>0</td>\n      <td>0</td>\n      <td>1</td>\n      <td>TRUE_NEGATIVE</td>\n    </tr>\n    <tr>\n      <th>1049</th>\n      <td>2015-10-16</td>\n      <td>100002</td>\n      <td>0</td>\n      <td>1</td>\n      <td>2015-10-27</td>\n      <td>9.994507e-01</td>\n      <td>0</td>\n      <td>1</td>\n      <td>2015-09-30</td>\n      <td>100002.0</td>\n      <td>TRAINING</td>\n      <td>27 days</td>\n      <td>27.0</td>\n      <td>0</td>\n      <td>0</td>\n      <td>0</td>\n      <td>0</td>\n      <td>1</td>\n      <td>TRUE_NEGATIVE</td>\n    </tr>\n    <tr>\n      <th>1050</th>\n      <td>2015-10-17</td>\n      <td>100002</td>\n      <td>0</td>\n      <td>1</td>\n      <td>2015-10-27</td>\n      <td>9.999262e-01</td>\n      <td>0</td>\n      <td>1</td>\n      <td>2015-09-30</td>\n      <td>100002.0</td>\n      <td>TRAINING</td>\n      <td>27 days</td>\n      <td>27.0</td>\n      <td>0</td>\n      <td>0</td>\n      <td>0</td>\n      <td>0</td>\n      <td>1</td>\n      <td>TRUE_NEGATIVE</td>\n    </tr>\n    <tr>\n      <th>1051</th>\n      <td>2015-10-18</td>\n      <td>100002</td>\n      <td>0</td>\n      <td>1</td>\n      <td>2015-10-27</td>\n      <td>9.995618e-01</td>\n      <td>0</td>\n      <td>1</td>\n      <td>2015-09-30</td>\n      <td>100002.0</td>\n      <td>TRAINING</td>\n      <td>27 days</td>\n      <td>27.0</td>\n      <td>0</td>\n      <td>0</td>\n      <td>0</td>\n      <td>0</td>\n      <td>1</td>\n      <td>TRUE_NEGATIVE</td>\n    </tr>\n    <tr>\n      <th>1052</th>\n      <td>2015-10-19</td>\n      <td>100002</td>\n      <td>0</td>\n      <td>1</td>\n      <td>2015-10-27</td>\n      <td>9.999865e-01</td>\n      <td>0</td>\n      <td>1</td>\n      <td>2015-09-30</td>\n      <td>100002.0</td>\n      <td>TRAINING</td>\n      <td>27 days</td>\n      <td>27.0</td>\n      <td>0</td>\n      <td>0</td>\n      <td>0</td>\n      <td>0</td>\n      <td>1</td>\n      <td>TRUE_NEGATIVE</td>\n    </tr>\n    <tr>\n      <th>1053</th>\n      <td>2015-10-20</td>\n      <td>100002</td>\n      <td>0</td>\n      <td>1</td>\n      <td>2015-10-27</td>\n      <td>9.999863e-01</td>\n      <td>0</td>\n      <td>1</td>\n      <td>2015-09-30</td>\n      <td>100002.0</td>\n      <td>TRAINING</td>\n      <td>27 days</td>\n      <td>27.0</td>\n      <td>0</td>\n      <td>0</td>\n      <td>0</td>\n      <td>0</td>\n      <td>1</td>\n      <td>TRUE_NEGATIVE</td>\n    </tr>\n    <tr>\n      <th>1054</th>\n      <td>2015-10-21</td>\n      <td>100002</td>\n      <td>0</td>\n      <td>1</td>\n      <td>2015-10-27</td>\n      <td>9.999602e-01</td>\n      <td>0</td>\n      <td>1</td>\n      <td>2015-09-30</td>\n      <td>100002.0</td>\n      <td>TRAINING</td>\n      <td>27 days</td>\n      <td>27.0</td>\n      <td>0</td>\n      <td>0</td>\n      <td>0</td>\n      <td>0</td>\n      <td>1</td>\n      <td>TRUE_NEGATIVE</td>\n    </tr>\n    <tr>\n      <th>1055</th>\n      <td>2015-10-22</td>\n      <td>100002</td>\n      <td>0</td>\n      <td>1</td>\n      <td>2015-10-27</td>\n      <td>9.995721e-01</td>\n      <td>0</td>\n      <td>1</td>\n      <td>2015-09-30</td>\n      <td>100002.0</td>\n      <td>TRAINING</td>\n      <td>27 days</td>\n      <td>27.0</td>\n      <td>0</td>\n      <td>0</td>\n      <td>0</td>\n      <td>0</td>\n      <td>1</td>\n      <td>TRUE_NEGATIVE</td>\n    </tr>\n    <tr>\n      <th>1056</th>\n      <td>2015-10-23</td>\n      <td>100002</td>\n      <td>0</td>\n      <td>1</td>\n      <td>2015-10-27</td>\n      <td>9.998890e-01</td>\n      <td>0</td>\n      <td>1</td>\n      <td>2015-09-30</td>\n      <td>100002.0</td>\n      <td>TRAINING</td>\n      <td>27 days</td>\n      <td>27.0</td>\n      <td>0</td>\n      <td>0</td>\n      <td>0</td>\n      <td>0</td>\n      <td>1</td>\n      <td>TRUE_NEGATIVE</td>\n    </tr>\n    <tr>\n      <th>1057</th>\n      <td>2015-10-24</td>\n      <td>100002</td>\n      <td>0</td>\n      <td>1</td>\n      <td>2015-10-27</td>\n      <td>9.993760e-01</td>\n      <td>0</td>\n      <td>1</td>\n      <td>2015-09-30</td>\n      <td>100002.0</td>\n      <td>TRAINING</td>\n      <td>27 days</td>\n      <td>27.0</td>\n      <td>0</td>\n      <td>0</td>\n      <td>0</td>\n      <td>0</td>\n      <td>1</td>\n      <td>TRUE_NEGATIVE</td>\n    </tr>\n    <tr>\n      <th>1058</th>\n      <td>2015-10-25</td>\n      <td>100002</td>\n      <td>0</td>\n      <td>1</td>\n      <td>2015-10-27</td>\n      <td>9.885806e-01</td>\n      <td>0</td>\n      <td>1</td>\n      <td>2015-09-30</td>\n      <td>100002.0</td>\n      <td>TRAINING</td>\n      <td>27 days</td>\n      <td>27.0</td>\n      <td>0</td>\n      <td>0</td>\n      <td>0</td>\n      <td>0</td>\n      <td>1</td>\n      <td>TRUE_NEGATIVE</td>\n    </tr>\n    <tr>\n      <th>1059</th>\n      <td>2015-10-26</td>\n      <td>100002</td>\n      <td>0</td>\n      <td>1</td>\n      <td>2015-10-27</td>\n      <td>9.998137e-01</td>\n      <td>0</td>\n      <td>1</td>\n      <td>2015-09-30</td>\n      <td>100002.0</td>\n      <td>TRAINING</td>\n      <td>27 days</td>\n      <td>27.0</td>\n      <td>0</td>\n      <td>0</td>\n      <td>0</td>\n      <td>0</td>\n      <td>1</td>\n      <td>TRUE_NEGATIVE</td>\n    </tr>\n    <tr>\n      <th>1060</th>\n      <td>2015-10-27</td>\n      <td>100002</td>\n      <td>1</td>\n      <td>1</td>\n      <td>2015-10-27</td>\n      <td>9.727628e-01</td>\n      <td>0</td>\n      <td>1</td>\n      <td>2015-09-30</td>\n      <td>100002.0</td>\n      <td>TRAINING</td>\n      <td>27 days</td>\n      <td>27.0</td>\n      <td>1</td>\n      <td>0</td>\n      <td>0</td>\n      <td>0</td>\n      <td>1</td>\n      <td>TRUE_POSITIVE</td>\n    </tr>\n    <tr>\n      <th>1061</th>\n      <td>2015-10-28</td>\n      <td>100002</td>\n      <td>0</td>\n      <td>0</td>\n      <td>2015-10-27</td>\n      <td>4.639841e-02</td>\n      <td>0</td>\n      <td>1</td>\n      <td>2015-09-30</td>\n      <td>100002.0</td>\n      <td>TRAINING</td>\n      <td>27 days</td>\n      <td>27.0</td>\n      <td>0</td>\n      <td>0</td>\n      <td>0</td>\n      <td>0</td>\n      <td>1</td>\n      <td>TRUE_NEGATIVE</td>\n    </tr>\n    <tr>\n      <th>1062</th>\n      <td>2015-10-29</td>\n      <td>100002</td>\n      <td>0</td>\n      <td>0</td>\n      <td>2015-10-27</td>\n      <td>1.661814e-03</td>\n      <td>0</td>\n      <td>1</td>\n      <td>2015-09-30</td>\n      <td>100002.0</td>\n      <td>TRAINING</td>\n      <td>27 days</td>\n      <td>27.0</td>\n      <td>0</td>\n      <td>0</td>\n      <td>0</td>\n      <td>0</td>\n      <td>1</td>\n      <td>TRUE_NEGATIVE</td>\n    </tr>\n    <tr>\n      <th>1063</th>\n      <td>2015-10-30</td>\n      <td>100002</td>\n      <td>0</td>\n      <td>0</td>\n      <td>2015-10-27</td>\n      <td>5.099390e-03</td>\n      <td>0</td>\n      <td>1</td>\n      <td>2015-09-30</td>\n      <td>100002.0</td>\n      <td>TRAINING</td>\n      <td>27 days</td>\n      <td>27.0</td>\n      <td>0</td>\n      <td>0</td>\n      <td>0</td>\n      <td>0</td>\n      <td>1</td>\n      <td>TRUE_NEGATIVE</td>\n    </tr>\n    <tr>\n      <th>1064</th>\n      <td>2015-10-31</td>\n      <td>100002</td>\n      <td>0</td>\n      <td>0</td>\n      <td>2015-10-27</td>\n      <td>2.024391e-02</td>\n      <td>0</td>\n      <td>1</td>\n      <td>2015-09-30</td>\n      <td>100002.0</td>\n      <td>TRAINING</td>\n      <td>27 days</td>\n      <td>27.0</td>\n      <td>0</td>\n      <td>0</td>\n      <td>0</td>\n      <td>0</td>\n      <td>1</td>\n      <td>TRUE_NEGATIVE</td>\n    </tr>\n    <tr>\n      <th>1065</th>\n      <td>2015-11-01</td>\n      <td>100002</td>\n      <td>0</td>\n      <td>0</td>\n      <td>2015-10-27</td>\n      <td>4.162070e-03</td>\n      <td>0</td>\n      <td>1</td>\n      <td>2015-09-30</td>\n      <td>100002.0</td>\n      <td>TRAINING</td>\n      <td>27 days</td>\n      <td>27.0</td>\n      <td>0</td>\n      <td>0</td>\n      <td>0</td>\n      <td>0</td>\n      <td>1</td>\n      <td>TRUE_NEGATIVE</td>\n    </tr>\n    <tr>\n      <th>1066</th>\n      <td>2015-11-02</td>\n      <td>100002</td>\n      <td>0</td>\n      <td>0</td>\n      <td>2015-10-27</td>\n      <td>2.805097e-03</td>\n      <td>0</td>\n      <td>1</td>\n      <td>2015-09-30</td>\n      <td>100002.0</td>\n      <td>TRAINING</td>\n      <td>27 days</td>\n      <td>27.0</td>\n      <td>0</td>\n      <td>0</td>\n      <td>0</td>\n      <td>0</td>\n      <td>1</td>\n      <td>TRUE_NEGATIVE</td>\n    </tr>\n    <tr>\n      <th>1067</th>\n      <td>2015-11-03</td>\n      <td>100002</td>\n      <td>0</td>\n      <td>0</td>\n      <td>2015-10-27</td>\n      <td>1.018363e-03</td>\n      <td>0</td>\n      <td>1</td>\n      <td>2015-09-30</td>\n      <td>100002.0</td>\n      <td>TRAINING</td>\n      <td>27 days</td>\n      <td>27.0</td>\n      <td>0</td>\n      <td>0</td>\n      <td>0</td>\n      <td>0</td>\n      <td>1</td>\n      <td>TRUE_NEGATIVE</td>\n    </tr>\n    <tr>\n      <th>1068</th>\n      <td>2015-11-04</td>\n      <td>100002</td>\n      <td>0</td>\n      <td>0</td>\n      <td>2015-10-27</td>\n      <td>1.148700e-04</td>\n      <td>0</td>\n      <td>1</td>\n      <td>2015-09-30</td>\n      <td>100002.0</td>\n      <td>TRAINING</td>\n      <td>27 days</td>\n      <td>27.0</td>\n      <td>0</td>\n      <td>0</td>\n      <td>0</td>\n      <td>0</td>\n      <td>1</td>\n      <td>TRUE_NEGATIVE</td>\n    </tr>\n    <tr>\n      <th>1069</th>\n      <td>2015-11-05</td>\n      <td>100002</td>\n      <td>0</td>\n      <td>0</td>\n      <td>2015-10-27</td>\n      <td>2.716017e-04</td>\n      <td>0</td>\n      <td>1</td>\n      <td>2015-09-30</td>\n      <td>100002.0</td>\n      <td>TRAINING</td>\n      <td>27 days</td>\n      <td>27.0</td>\n      <td>0</td>\n      <td>0</td>\n      <td>0</td>\n      <td>0</td>\n      <td>1</td>\n      <td>TRUE_NEGATIVE</td>\n    </tr>\n    <tr>\n      <th>1070</th>\n      <td>2015-11-06</td>\n      <td>100002</td>\n      <td>0</td>\n      <td>0</td>\n      <td>2015-10-27</td>\n      <td>1.375620e-04</td>\n      <td>0</td>\n      <td>1</td>\n      <td>2015-09-30</td>\n      <td>100002.0</td>\n      <td>TRAINING</td>\n      <td>27 days</td>\n      <td>27.0</td>\n      <td>0</td>\n      <td>0</td>\n      <td>0</td>\n      <td>0</td>\n      <td>1</td>\n      <td>TRUE_NEGATIVE</td>\n    </tr>\n    <tr>\n      <th>1071</th>\n      <td>2015-11-07</td>\n      <td>100002</td>\n      <td>0</td>\n      <td>0</td>\n      <td>2015-10-27</td>\n      <td>2.802938e-04</td>\n      <td>0</td>\n      <td>1</td>\n      <td>2015-09-30</td>\n      <td>100002.0</td>\n      <td>TRAINING</td>\n      <td>27 days</td>\n      <td>27.0</td>\n      <td>0</td>\n      <td>0</td>\n      <td>0</td>\n      <td>0</td>\n      <td>1</td>\n      <td>TRUE_NEGATIVE</td>\n    </tr>\n    <tr>\n      <th>1072</th>\n      <td>2015-11-08</td>\n      <td>100002</td>\n      <td>0</td>\n      <td>0</td>\n      <td>2015-10-27</td>\n      <td>2.405813e-05</td>\n      <td>0</td>\n      <td>1</td>\n      <td>2015-09-30</td>\n      <td>100002.0</td>\n      <td>TRAINING</td>\n      <td>27 days</td>\n      <td>27.0</td>\n      <td>0</td>\n      <td>0</td>\n      <td>0</td>\n      <td>0</td>\n      <td>1</td>\n      <td>TRUE_NEGATIVE</td>\n    </tr>\n    <tr>\n      <th>1073</th>\n      <td>2015-11-09</td>\n      <td>100002</td>\n      <td>0</td>\n      <td>0</td>\n      <td>2015-10-27</td>\n      <td>3.152635e-06</td>\n      <td>0</td>\n      <td>1</td>\n      <td>2015-09-30</td>\n      <td>100002.0</td>\n      <td>TRAINING</td>\n      <td>27 days</td>\n      <td>27.0</td>\n      <td>0</td>\n      <td>0</td>\n      <td>0</td>\n      <td>0</td>\n      <td>1</td>\n      <td>TRUE_NEGATIVE</td>\n    </tr>\n    <tr>\n      <th>1074</th>\n      <td>2015-11-10</td>\n      <td>100002</td>\n      <td>0</td>\n      <td>0</td>\n      <td>2015-10-27</td>\n      <td>5.427140e-05</td>\n      <td>0</td>\n      <td>1</td>\n      <td>2015-09-30</td>\n      <td>100002.0</td>\n      <td>TRAINING</td>\n      <td>27 days</td>\n      <td>27.0</td>\n      <td>0</td>\n      <td>0</td>\n      <td>0</td>\n      <td>0</td>\n      <td>1</td>\n      <td>TRUE_NEGATIVE</td>\n    </tr>\n    <tr>\n      <th>1075</th>\n      <td>2015-11-11</td>\n      <td>100002</td>\n      <td>0</td>\n      <td>0</td>\n      <td>2015-10-27</td>\n      <td>6.207500e-05</td>\n      <td>0</td>\n      <td>1</td>\n      <td>2015-09-30</td>\n      <td>100002.0</td>\n      <td>TRAINING</td>\n      <td>27 days</td>\n      <td>27.0</td>\n      <td>0</td>\n      <td>0</td>\n      <td>0</td>\n      <td>0</td>\n      <td>1</td>\n      <td>TRUE_NEGATIVE</td>\n    </tr>\n    <tr>\n      <th>1076</th>\n      <td>2015-11-12</td>\n      <td>100002</td>\n      <td>0</td>\n      <td>0</td>\n      <td>2015-10-27</td>\n      <td>9.218910e-05</td>\n      <td>0</td>\n      <td>1</td>\n      <td>2015-09-30</td>\n      <td>100002.0</td>\n      <td>TRAINING</td>\n      <td>27 days</td>\n      <td>27.0</td>\n      <td>0</td>\n      <td>0</td>\n      <td>0</td>\n      <td>0</td>\n      <td>1</td>\n      <td>TRUE_NEGATIVE</td>\n    </tr>\n    <tr>\n      <th>1077</th>\n      <td>2015-11-13</td>\n      <td>100002</td>\n      <td>0</td>\n      <td>0</td>\n      <td>2015-10-27</td>\n      <td>1.878280e-05</td>\n      <td>0</td>\n      <td>1</td>\n      <td>2015-09-30</td>\n      <td>100002.0</td>\n      <td>TRAINING</td>\n      <td>27 days</td>\n      <td>27.0</td>\n      <td>0</td>\n      <td>0</td>\n      <td>0</td>\n      <td>0</td>\n      <td>1</td>\n      <td>TRUE_NEGATIVE</td>\n    </tr>\n    <tr>\n      <th>1078</th>\n      <td>2015-11-14</td>\n      <td>100002</td>\n      <td>0</td>\n      <td>0</td>\n      <td>2015-10-27</td>\n      <td>5.061793e-06</td>\n      <td>0</td>\n      <td>1</td>\n      <td>2015-09-30</td>\n      <td>100002.0</td>\n      <td>TRAINING</td>\n      <td>27 days</td>\n      <td>27.0</td>\n      <td>0</td>\n      <td>0</td>\n      <td>0</td>\n      <td>0</td>\n      <td>1</td>\n      <td>TRUE_NEGATIVE</td>\n    </tr>\n    <tr>\n      <th>1079</th>\n      <td>2015-11-15</td>\n      <td>100002</td>\n      <td>0</td>\n      <td>0</td>\n      <td>2015-10-27</td>\n      <td>5.407685e-05</td>\n      <td>0</td>\n      <td>1</td>\n      <td>2015-09-30</td>\n      <td>100002.0</td>\n      <td>TRAINING</td>\n      <td>27 days</td>\n      <td>27.0</td>\n      <td>0</td>\n      <td>0</td>\n      <td>0</td>\n      <td>0</td>\n      <td>1</td>\n      <td>TRUE_NEGATIVE</td>\n    </tr>\n    <tr>\n      <th>1080</th>\n      <td>2015-11-16</td>\n      <td>100002</td>\n      <td>0</td>\n      <td>0</td>\n      <td>2015-10-27</td>\n      <td>1.805704e-05</td>\n      <td>0</td>\n      <td>1</td>\n      <td>2015-09-30</td>\n      <td>100002.0</td>\n      <td>TRAINING</td>\n      <td>27 days</td>\n      <td>27.0</td>\n      <td>0</td>\n      <td>0</td>\n      <td>0</td>\n      <td>0</td>\n      <td>1</td>\n      <td>TRUE_NEGATIVE</td>\n    </tr>\n    <tr>\n      <th>1081</th>\n      <td>2015-11-17</td>\n      <td>100002</td>\n      <td>0</td>\n      <td>0</td>\n      <td>2015-10-27</td>\n      <td>9.293229e-05</td>\n      <td>0</td>\n      <td>1</td>\n      <td>2015-09-30</td>\n      <td>100002.0</td>\n      <td>TRAINING</td>\n      <td>27 days</td>\n      <td>27.0</td>\n      <td>0</td>\n      <td>0</td>\n      <td>0</td>\n      <td>0</td>\n      <td>1</td>\n      <td>TRUE_NEGATIVE</td>\n    </tr>\n    <tr>\n      <th>1082</th>\n      <td>2015-11-18</td>\n      <td>100002</td>\n      <td>0</td>\n      <td>0</td>\n      <td>2015-10-27</td>\n      <td>2.599593e-05</td>\n      <td>0</td>\n      <td>1</td>\n      <td>2015-09-30</td>\n      <td>100002.0</td>\n      <td>TRAINING</td>\n      <td>27 days</td>\n      <td>27.0</td>\n      <td>0</td>\n      <td>0</td>\n      <td>0</td>\n      <td>0</td>\n      <td>1</td>\n      <td>TRUE_NEGATIVE</td>\n    </tr>\n    <tr>\n      <th>1083</th>\n      <td>2015-11-19</td>\n      <td>100002</td>\n      <td>0</td>\n      <td>0</td>\n      <td>2015-10-27</td>\n      <td>2.583860e-04</td>\n      <td>0</td>\n      <td>1</td>\n      <td>2015-09-30</td>\n      <td>100002.0</td>\n      <td>TRAINING</td>\n      <td>27 days</td>\n      <td>27.0</td>\n      <td>0</td>\n      <td>0</td>\n      <td>0</td>\n      <td>0</td>\n      <td>1</td>\n      <td>TRUE_NEGATIVE</td>\n    </tr>\n    <tr>\n      <th>1084</th>\n      <td>2015-11-20</td>\n      <td>100002</td>\n      <td>0</td>\n      <td>0</td>\n      <td>2015-10-27</td>\n      <td>8.151487e-03</td>\n      <td>0</td>\n      <td>1</td>\n      <td>2015-09-30</td>\n      <td>100002.0</td>\n      <td>TRAINING</td>\n      <td>27 days</td>\n      <td>27.0</td>\n      <td>0</td>\n      <td>0</td>\n      <td>0</td>\n      <td>0</td>\n      <td>1</td>\n      <td>TRUE_NEGATIVE</td>\n    </tr>\n    <tr>\n      <th>1085</th>\n      <td>2015-11-21</td>\n      <td>100002</td>\n      <td>0</td>\n      <td>0</td>\n      <td>2015-10-27</td>\n      <td>5.693799e-05</td>\n      <td>0</td>\n      <td>1</td>\n      <td>2015-09-30</td>\n      <td>100002.0</td>\n      <td>TRAINING</td>\n      <td>27 days</td>\n      <td>27.0</td>\n      <td>0</td>\n      <td>0</td>\n      <td>0</td>\n      <td>0</td>\n      <td>1</td>\n      <td>TRUE_NEGATIVE</td>\n    </tr>\n    <tr>\n      <th>1086</th>\n      <td>2015-11-22</td>\n      <td>100002</td>\n      <td>0</td>\n      <td>0</td>\n      <td>2015-10-27</td>\n      <td>3.964974e-05</td>\n      <td>0</td>\n      <td>1</td>\n      <td>2015-09-30</td>\n      <td>100002.0</td>\n      <td>TRAINING</td>\n      <td>27 days</td>\n      <td>27.0</td>\n      <td>0</td>\n      <td>0</td>\n      <td>0</td>\n      <td>0</td>\n      <td>1</td>\n      <td>TRUE_NEGATIVE</td>\n    </tr>\n    <tr>\n      <th>1087</th>\n      <td>2015-11-23</td>\n      <td>100002</td>\n      <td>0</td>\n      <td>0</td>\n      <td>2015-10-27</td>\n      <td>2.878762e-06</td>\n      <td>0</td>\n      <td>1</td>\n      <td>2015-09-30</td>\n      <td>100002.0</td>\n      <td>TRAINING</td>\n      <td>27 days</td>\n      <td>27.0</td>\n      <td>0</td>\n      <td>0</td>\n      <td>0</td>\n      <td>0</td>\n      <td>1</td>\n      <td>TRUE_NEGATIVE</td>\n    </tr>\n    <tr>\n      <th>1088</th>\n      <td>2015-11-24</td>\n      <td>100002</td>\n      <td>0</td>\n      <td>0</td>\n      <td>2015-10-27</td>\n      <td>7.585910e-05</td>\n      <td>0</td>\n      <td>1</td>\n      <td>2015-09-30</td>\n      <td>100002.0</td>\n      <td>TRAINING</td>\n      <td>27 days</td>\n      <td>27.0</td>\n      <td>0</td>\n      <td>0</td>\n      <td>0</td>\n      <td>0</td>\n      <td>1</td>\n      <td>TRUE_NEGATIVE</td>\n    </tr>\n    <tr>\n      <th>1089</th>\n      <td>2015-11-25</td>\n      <td>100002</td>\n      <td>0</td>\n      <td>0</td>\n      <td>2015-10-27</td>\n      <td>1.478355e-04</td>\n      <td>0</td>\n      <td>1</td>\n      <td>2015-09-30</td>\n      <td>100002.0</td>\n      <td>TRAINING</td>\n      <td>27 days</td>\n      <td>27.0</td>\n      <td>0</td>\n      <td>0</td>\n      <td>0</td>\n      <td>0</td>\n      <td>1</td>\n      <td>TRUE_NEGATIVE</td>\n    </tr>\n    <tr>\n      <th>1090</th>\n      <td>2015-11-26</td>\n      <td>100002</td>\n      <td>0</td>\n      <td>0</td>\n      <td>2015-10-27</td>\n      <td>2.224774e-03</td>\n      <td>0</td>\n      <td>1</td>\n      <td>2015-09-30</td>\n      <td>100002.0</td>\n      <td>TRAINING</td>\n      <td>27 days</td>\n      <td>27.0</td>\n      <td>0</td>\n      <td>0</td>\n      <td>0</td>\n      <td>0</td>\n      <td>1</td>\n      <td>TRUE_NEGATIVE</td>\n    </tr>\n    <tr>\n      <th>1091</th>\n      <td>2015-11-27</td>\n      <td>100002</td>\n      <td>0</td>\n      <td>0</td>\n      <td>2015-10-27</td>\n      <td>1.444911e-03</td>\n      <td>0</td>\n      <td>1</td>\n      <td>2015-09-30</td>\n      <td>100002.0</td>\n      <td>TRAINING</td>\n      <td>27 days</td>\n      <td>27.0</td>\n      <td>0</td>\n      <td>0</td>\n      <td>0</td>\n      <td>0</td>\n      <td>1</td>\n      <td>TRUE_NEGATIVE</td>\n    </tr>\n    <tr>\n      <th>1092</th>\n      <td>2015-11-28</td>\n      <td>100002</td>\n      <td>0</td>\n      <td>0</td>\n      <td>2015-10-27</td>\n      <td>2.216216e-05</td>\n      <td>0</td>\n      <td>1</td>\n      <td>2015-09-30</td>\n      <td>100002.0</td>\n      <td>TRAINING</td>\n      <td>27 days</td>\n      <td>27.0</td>\n      <td>0</td>\n      <td>0</td>\n      <td>0</td>\n      <td>0</td>\n      <td>1</td>\n      <td>TRUE_NEGATIVE</td>\n    </tr>\n    <tr>\n      <th>1093</th>\n      <td>2015-11-29</td>\n      <td>100002</td>\n      <td>0</td>\n      <td>0</td>\n      <td>2015-10-27</td>\n      <td>2.054618e-03</td>\n      <td>0</td>\n      <td>1</td>\n      <td>2015-09-30</td>\n      <td>100002.0</td>\n      <td>TRAINING</td>\n      <td>27 days</td>\n      <td>27.0</td>\n      <td>0</td>\n      <td>0</td>\n      <td>0</td>\n      <td>0</td>\n      <td>1</td>\n      <td>TRUE_NEGATIVE</td>\n    </tr>\n    <tr>\n      <th>1094</th>\n      <td>2015-11-30</td>\n      <td>100002</td>\n      <td>0</td>\n      <td>0</td>\n      <td>2015-10-27</td>\n      <td>2.048492e-04</td>\n      <td>0</td>\n      <td>1</td>\n      <td>2015-09-30</td>\n      <td>100002.0</td>\n      <td>TRAINING</td>\n      <td>27 days</td>\n      <td>27.0</td>\n      <td>0</td>\n      <td>0</td>\n      <td>0</td>\n      <td>0</td>\n      <td>1</td>\n      <td>TRUE_NEGATIVE</td>\n    </tr>\n    <tr>\n      <th>1095</th>\n      <td>2015-12-01</td>\n      <td>100002</td>\n      <td>0</td>\n      <td>0</td>\n      <td>2015-10-27</td>\n      <td>1.375541e-03</td>\n      <td>0</td>\n      <td>1</td>\n      <td>2015-09-30</td>\n      <td>100002.0</td>\n      <td>TRAINING</td>\n      <td>27 days</td>\n      <td>27.0</td>\n      <td>0</td>\n      <td>0</td>\n      <td>0</td>\n      <td>0</td>\n      <td>1</td>\n      <td>TRUE_NEGATIVE</td>\n    </tr>\n    <tr>\n      <th>1096</th>\n      <td>2015-12-02</td>\n      <td>100002</td>\n      <td>0</td>\n      <td>0</td>\n      <td>2015-10-27</td>\n      <td>1.157995e-03</td>\n      <td>0</td>\n      <td>1</td>\n      <td>2015-09-30</td>\n      <td>100002.0</td>\n      <td>TRAINING</td>\n      <td>27 days</td>\n      <td>27.0</td>\n      <td>0</td>\n      <td>0</td>\n      <td>0</td>\n      <td>0</td>\n      <td>1</td>\n      <td>TRUE_NEGATIVE</td>\n    </tr>\n    <tr>\n      <th>1097</th>\n      <td>2015-12-03</td>\n      <td>100002</td>\n      <td>0</td>\n      <td>0</td>\n      <td>2015-10-27</td>\n      <td>6.738249e-03</td>\n      <td>0</td>\n      <td>1</td>\n      <td>2015-09-30</td>\n      <td>100002.0</td>\n      <td>TRAINING</td>\n      <td>27 days</td>\n      <td>27.0</td>\n      <td>0</td>\n      <td>0</td>\n      <td>0</td>\n      <td>0</td>\n      <td>1</td>\n      <td>TRUE_NEGATIVE</td>\n    </tr>\n    <tr>\n      <th>1098</th>\n      <td>2015-12-04</td>\n      <td>100002</td>\n      <td>0</td>\n      <td>0</td>\n      <td>2015-10-27</td>\n      <td>9.958138e-03</td>\n      <td>0</td>\n      <td>1</td>\n      <td>2015-09-30</td>\n      <td>100002.0</td>\n      <td>TRAINING</td>\n      <td>27 days</td>\n      <td>27.0</td>\n      <td>0</td>\n      <td>0</td>\n      <td>0</td>\n      <td>0</td>\n      <td>1</td>\n      <td>TRUE_NEGATIVE</td>\n    </tr>\n    <tr>\n      <th>1099</th>\n      <td>2015-12-05</td>\n      <td>100002</td>\n      <td>0</td>\n      <td>0</td>\n      <td>2015-10-27</td>\n      <td>3.984847e-03</td>\n      <td>0</td>\n      <td>1</td>\n      <td>2015-09-30</td>\n      <td>100002.0</td>\n      <td>TRAINING</td>\n      <td>27 days</td>\n      <td>27.0</td>\n      <td>0</td>\n      <td>0</td>\n      <td>0</td>\n      <td>0</td>\n      <td>1</td>\n      <td>TRUE_NEGATIVE</td>\n    </tr>\n    <tr>\n      <th>1100</th>\n      <td>2015-12-06</td>\n      <td>100002</td>\n      <td>0</td>\n      <td>0</td>\n      <td>2015-10-27</td>\n      <td>8.973860e-04</td>\n      <td>0</td>\n      <td>1</td>\n      <td>2015-09-30</td>\n      <td>100002.0</td>\n      <td>TRAINING</td>\n      <td>27 days</td>\n      <td>27.0</td>\n      <td>0</td>\n      <td>0</td>\n      <td>0</td>\n      <td>0</td>\n      <td>1</td>\n      <td>TRUE_NEGATIVE</td>\n    </tr>\n    <tr>\n      <th>1101</th>\n      <td>2015-12-07</td>\n      <td>100002</td>\n      <td>0</td>\n      <td>0</td>\n      <td>2015-10-27</td>\n      <td>1.505377e-03</td>\n      <td>0</td>\n      <td>1</td>\n      <td>2015-09-30</td>\n      <td>100002.0</td>\n      <td>TRAINING</td>\n      <td>27 days</td>\n      <td>27.0</td>\n      <td>0</td>\n      <td>0</td>\n      <td>0</td>\n      <td>0</td>\n      <td>1</td>\n      <td>TRUE_NEGATIVE</td>\n    </tr>\n    <tr>\n      <th>1102</th>\n      <td>2015-12-08</td>\n      <td>100002</td>\n      <td>0</td>\n      <td>0</td>\n      <td>2015-10-27</td>\n      <td>4.476336e-04</td>\n      <td>0</td>\n      <td>1</td>\n      <td>2015-09-30</td>\n      <td>100002.0</td>\n      <td>TRAINING</td>\n      <td>27 days</td>\n      <td>27.0</td>\n      <td>0</td>\n      <td>0</td>\n      <td>0</td>\n      <td>0</td>\n      <td>1</td>\n      <td>TRUE_NEGATIVE</td>\n    </tr>\n    <tr>\n      <th>1103</th>\n      <td>2015-12-09</td>\n      <td>100002</td>\n      <td>0</td>\n      <td>0</td>\n      <td>2015-10-27</td>\n      <td>1.275169e-04</td>\n      <td>0</td>\n      <td>1</td>\n      <td>2015-09-30</td>\n      <td>100002.0</td>\n      <td>TRAINING</td>\n      <td>27 days</td>\n      <td>27.0</td>\n      <td>0</td>\n      <td>0</td>\n      <td>0</td>\n      <td>0</td>\n      <td>1</td>\n      <td>TRUE_NEGATIVE</td>\n    </tr>\n    <tr>\n      <th>1104</th>\n      <td>2015-12-10</td>\n      <td>100002</td>\n      <td>0</td>\n      <td>0</td>\n      <td>2015-10-27</td>\n      <td>8.643368e-05</td>\n      <td>0</td>\n      <td>1</td>\n      <td>2015-09-30</td>\n      <td>100002.0</td>\n      <td>TRAINING</td>\n      <td>27 days</td>\n      <td>27.0</td>\n      <td>0</td>\n      <td>0</td>\n      <td>0</td>\n      <td>0</td>\n      <td>1</td>\n      <td>TRUE_NEGATIVE</td>\n    </tr>\n    <tr>\n      <th>1105</th>\n      <td>2015-12-11</td>\n      <td>100002</td>\n      <td>0</td>\n      <td>0</td>\n      <td>2015-10-27</td>\n      <td>2.253601e-05</td>\n      <td>0</td>\n      <td>1</td>\n      <td>2015-09-30</td>\n      <td>100002.0</td>\n      <td>TRAINING</td>\n      <td>27 days</td>\n      <td>27.0</td>\n      <td>0</td>\n      <td>0</td>\n      <td>0</td>\n      <td>0</td>\n      <td>1</td>\n      <td>TRUE_NEGATIVE</td>\n    </tr>\n    <tr>\n      <th>1106</th>\n      <td>2015-12-12</td>\n      <td>100002</td>\n      <td>0</td>\n      <td>0</td>\n      <td>2015-10-27</td>\n      <td>1.965088e-05</td>\n      <td>0</td>\n      <td>1</td>\n      <td>2015-09-30</td>\n      <td>100002.0</td>\n      <td>TRAINING</td>\n      <td>27 days</td>\n      <td>27.0</td>\n      <td>0</td>\n      <td>0</td>\n      <td>0</td>\n      <td>0</td>\n      <td>1</td>\n      <td>TRUE_NEGATIVE</td>\n    </tr>\n    <tr>\n      <th>1107</th>\n      <td>2015-12-13</td>\n      <td>100002</td>\n      <td>0</td>\n      <td>0</td>\n      <td>2015-10-27</td>\n      <td>6.252968e-05</td>\n      <td>0</td>\n      <td>1</td>\n      <td>2015-09-30</td>\n      <td>100002.0</td>\n      <td>TRAINING</td>\n      <td>27 days</td>\n      <td>27.0</td>\n      <td>0</td>\n      <td>0</td>\n      <td>0</td>\n      <td>0</td>\n      <td>1</td>\n      <td>TRUE_NEGATIVE</td>\n    </tr>\n    <tr>\n      <th>1108</th>\n      <td>2015-12-14</td>\n      <td>100002</td>\n      <td>0</td>\n      <td>0</td>\n      <td>2015-10-27</td>\n      <td>9.462902e-06</td>\n      <td>0</td>\n      <td>1</td>\n      <td>2015-09-30</td>\n      <td>100002.0</td>\n      <td>TRAINING</td>\n      <td>27 days</td>\n      <td>27.0</td>\n      <td>0</td>\n      <td>0</td>\n      <td>0</td>\n      <td>0</td>\n      <td>1</td>\n      <td>TRUE_NEGATIVE</td>\n    </tr>\n    <tr>\n      <th>1109</th>\n      <td>2015-12-15</td>\n      <td>100002</td>\n      <td>0</td>\n      <td>0</td>\n      <td>2015-10-27</td>\n      <td>3.164755e-07</td>\n      <td>0</td>\n      <td>1</td>\n      <td>2015-09-30</td>\n      <td>100002.0</td>\n      <td>TRAINING</td>\n      <td>27 days</td>\n      <td>27.0</td>\n      <td>0</td>\n      <td>0</td>\n      <td>0</td>\n      <td>0</td>\n      <td>1</td>\n      <td>TRUE_NEGATIVE</td>\n    </tr>\n    <tr>\n      <th>1110</th>\n      <td>2015-12-16</td>\n      <td>100002</td>\n      <td>0</td>\n      <td>0</td>\n      <td>2015-10-27</td>\n      <td>3.864076e-06</td>\n      <td>0</td>\n      <td>1</td>\n      <td>2015-09-30</td>\n      <td>100002.0</td>\n      <td>TRAINING</td>\n      <td>27 days</td>\n      <td>27.0</td>\n      <td>0</td>\n      <td>0</td>\n      <td>0</td>\n      <td>0</td>\n      <td>1</td>\n      <td>TRUE_NEGATIVE</td>\n    </tr>\n    <tr>\n      <th>1111</th>\n      <td>2015-12-17</td>\n      <td>100002</td>\n      <td>0</td>\n      <td>0</td>\n      <td>2015-10-27</td>\n      <td>4.080724e-06</td>\n      <td>0</td>\n      <td>1</td>\n      <td>2015-09-30</td>\n      <td>100002.0</td>\n      <td>TRAINING</td>\n      <td>27 days</td>\n      <td>27.0</td>\n      <td>0</td>\n      <td>0</td>\n      <td>0</td>\n      <td>0</td>\n      <td>1</td>\n      <td>TRUE_NEGATIVE</td>\n    </tr>\n    <tr>\n      <th>1112</th>\n      <td>2015-12-18</td>\n      <td>100002</td>\n      <td>0</td>\n      <td>0</td>\n      <td>2015-10-27</td>\n      <td>1.036305e-05</td>\n      <td>0</td>\n      <td>1</td>\n      <td>2015-09-30</td>\n      <td>100002.0</td>\n      <td>TRAINING</td>\n      <td>27 days</td>\n      <td>27.0</td>\n      <td>0</td>\n      <td>0</td>\n      <td>0</td>\n      <td>0</td>\n      <td>1</td>\n      <td>TRUE_NEGATIVE</td>\n    </tr>\n    <tr>\n      <th>1113</th>\n      <td>2015-12-19</td>\n      <td>100002</td>\n      <td>0</td>\n      <td>0</td>\n      <td>2015-10-27</td>\n      <td>3.036336e-04</td>\n      <td>0</td>\n      <td>1</td>\n      <td>2015-09-30</td>\n      <td>100002.0</td>\n      <td>TRAINING</td>\n      <td>27 days</td>\n      <td>27.0</td>\n      <td>0</td>\n      <td>0</td>\n      <td>0</td>\n      <td>0</td>\n      <td>1</td>\n      <td>TRUE_NEGATIVE</td>\n    </tr>\n    <tr>\n      <th>1114</th>\n      <td>2015-12-20</td>\n      <td>100002</td>\n      <td>0</td>\n      <td>0</td>\n      <td>2015-10-27</td>\n      <td>8.463006e-07</td>\n      <td>0</td>\n      <td>1</td>\n      <td>2015-09-30</td>\n      <td>100002.0</td>\n      <td>TRAINING</td>\n      <td>27 days</td>\n      <td>27.0</td>\n      <td>0</td>\n      <td>0</td>\n      <td>0</td>\n      <td>0</td>\n      <td>1</td>\n      <td>TRUE_NEGATIVE</td>\n    </tr>\n    <tr>\n      <th>1115</th>\n      <td>2015-12-21</td>\n      <td>100002</td>\n      <td>0</td>\n      <td>0</td>\n      <td>2015-10-27</td>\n      <td>5.138883e-07</td>\n      <td>0</td>\n      <td>1</td>\n      <td>2015-09-30</td>\n      <td>100002.0</td>\n      <td>TRAINING</td>\n      <td>27 days</td>\n      <td>27.0</td>\n      <td>0</td>\n      <td>0</td>\n      <td>0</td>\n      <td>0</td>\n      <td>1</td>\n      <td>TRUE_NEGATIVE</td>\n    </tr>\n    <tr>\n      <th>1116</th>\n      <td>2015-12-22</td>\n      <td>100002</td>\n      <td>0</td>\n      <td>0</td>\n      <td>2015-10-27</td>\n      <td>6.346303e-07</td>\n      <td>0</td>\n      <td>1</td>\n      <td>2015-09-30</td>\n      <td>100002.0</td>\n      <td>TRAINING</td>\n      <td>27 days</td>\n      <td>27.0</td>\n      <td>0</td>\n      <td>0</td>\n      <td>0</td>\n      <td>0</td>\n      <td>1</td>\n      <td>TRUE_NEGATIVE</td>\n    </tr>\n    <tr>\n      <th>1117</th>\n      <td>2015-12-23</td>\n      <td>100002</td>\n      <td>0</td>\n      <td>0</td>\n      <td>2015-10-27</td>\n      <td>6.721929e-06</td>\n      <td>0</td>\n      <td>1</td>\n      <td>2015-09-30</td>\n      <td>100002.0</td>\n      <td>TRAINING</td>\n      <td>27 days</td>\n      <td>27.0</td>\n      <td>0</td>\n      <td>0</td>\n      <td>0</td>\n      <td>0</td>\n      <td>1</td>\n      <td>TRUE_NEGATIVE</td>\n    </tr>\n    <tr>\n      <th>1118</th>\n      <td>2015-12-24</td>\n      <td>100002</td>\n      <td>0</td>\n      <td>0</td>\n      <td>2015-10-27</td>\n      <td>3.797357e-05</td>\n      <td>0</td>\n      <td>1</td>\n      <td>2015-09-30</td>\n      <td>100002.0</td>\n      <td>TRAINING</td>\n      <td>27 days</td>\n      <td>27.0</td>\n      <td>0</td>\n      <td>0</td>\n      <td>0</td>\n      <td>0</td>\n      <td>1</td>\n      <td>TRUE_NEGATIVE</td>\n    </tr>\n    <tr>\n      <th>1119</th>\n      <td>2015-12-25</td>\n      <td>100002</td>\n      <td>0</td>\n      <td>0</td>\n      <td>2015-10-27</td>\n      <td>6.721929e-06</td>\n      <td>0</td>\n      <td>1</td>\n      <td>2015-09-30</td>\n      <td>100002.0</td>\n      <td>TRAINING</td>\n      <td>27 days</td>\n      <td>27.0</td>\n      <td>0</td>\n      <td>0</td>\n      <td>0</td>\n      <td>0</td>\n      <td>1</td>\n      <td>TRUE_NEGATIVE</td>\n    </tr>\n    <tr>\n      <th>1120</th>\n      <td>2015-12-26</td>\n      <td>100002</td>\n      <td>0</td>\n      <td>0</td>\n      <td>2015-10-27</td>\n      <td>4.143181e-07</td>\n      <td>0</td>\n      <td>1</td>\n      <td>2015-09-30</td>\n      <td>100002.0</td>\n      <td>TRAINING</td>\n      <td>27 days</td>\n      <td>27.0</td>\n      <td>0</td>\n      <td>0</td>\n      <td>0</td>\n      <td>0</td>\n      <td>1</td>\n      <td>TRUE_NEGATIVE</td>\n    </tr>\n    <tr>\n      <th>1121</th>\n      <td>2015-12-27</td>\n      <td>100002</td>\n      <td>0</td>\n      <td>0</td>\n      <td>2015-10-27</td>\n      <td>1.170331e-06</td>\n      <td>0</td>\n      <td>1</td>\n      <td>2015-09-30</td>\n      <td>100002.0</td>\n      <td>TRAINING</td>\n      <td>27 days</td>\n      <td>27.0</td>\n      <td>0</td>\n      <td>0</td>\n      <td>0</td>\n      <td>0</td>\n      <td>1</td>\n      <td>TRUE_NEGATIVE</td>\n    </tr>\n    <tr>\n      <th>1122</th>\n      <td>2015-12-28</td>\n      <td>100002</td>\n      <td>0</td>\n      <td>0</td>\n      <td>2015-10-27</td>\n      <td>1.850132e-06</td>\n      <td>0</td>\n      <td>1</td>\n      <td>2015-09-30</td>\n      <td>100002.0</td>\n      <td>TRAINING</td>\n      <td>27 days</td>\n      <td>27.0</td>\n      <td>0</td>\n      <td>0</td>\n      <td>0</td>\n      <td>0</td>\n      <td>1</td>\n      <td>TRUE_NEGATIVE</td>\n    </tr>\n    <tr>\n      <th>1123</th>\n      <td>2015-12-29</td>\n      <td>100002</td>\n      <td>0</td>\n      <td>0</td>\n      <td>2015-10-27</td>\n      <td>5.897420e-03</td>\n      <td>0</td>\n      <td>1</td>\n      <td>2015-09-30</td>\n      <td>100002.0</td>\n      <td>TRAINING</td>\n      <td>27 days</td>\n      <td>27.0</td>\n      <td>0</td>\n      <td>0</td>\n      <td>0</td>\n      <td>0</td>\n      <td>1</td>\n      <td>TRUE_NEGATIVE</td>\n    </tr>\n    <tr>\n      <th>1124</th>\n      <td>2015-12-30</td>\n      <td>100002</td>\n      <td>0</td>\n      <td>0</td>\n      <td>2015-10-27</td>\n      <td>3.432133e-03</td>\n      <td>0</td>\n      <td>1</td>\n      <td>2015-09-30</td>\n      <td>100002.0</td>\n      <td>TRAINING</td>\n      <td>27 days</td>\n      <td>27.0</td>\n      <td>0</td>\n      <td>0</td>\n      <td>0</td>\n      <td>0</td>\n      <td>1</td>\n      <td>TRUE_NEGATIVE</td>\n    </tr>\n    <tr>\n      <th>1125</th>\n      <td>2015-12-31</td>\n      <td>100002</td>\n      <td>0</td>\n      <td>0</td>\n      <td>2015-10-27</td>\n      <td>8.534428e-03</td>\n      <td>0</td>\n      <td>1</td>\n      <td>2015-09-30</td>\n      <td>100002.0</td>\n      <td>TRAINING</td>\n      <td>27 days</td>\n      <td>27.0</td>\n      <td>0</td>\n      <td>0</td>\n      <td>0</td>\n      <td>0</td>\n      <td>1</td>\n      <td>TRUE_NEGATIVE</td>\n    </tr>\n    <tr>\n      <th>1126</th>\n      <td>2016-01-01</td>\n      <td>100002</td>\n      <td>0</td>\n      <td>0</td>\n      <td>2015-10-27</td>\n      <td>9.939010e-04</td>\n      <td>0</td>\n      <td>1</td>\n      <td>2015-09-30</td>\n      <td>100002.0</td>\n      <td>TRAINING</td>\n      <td>27 days</td>\n      <td>27.0</td>\n      <td>0</td>\n      <td>0</td>\n      <td>0</td>\n      <td>0</td>\n      <td>1</td>\n      <td>TRUE_NEGATIVE</td>\n    </tr>\n    <tr>\n      <th>1127</th>\n      <td>2016-01-02</td>\n      <td>100002</td>\n      <td>0</td>\n      <td>0</td>\n      <td>2015-10-27</td>\n      <td>4.376721e-03</td>\n      <td>0</td>\n      <td>1</td>\n      <td>2015-09-30</td>\n      <td>100002.0</td>\n      <td>TRAINING</td>\n      <td>27 days</td>\n      <td>27.0</td>\n      <td>0</td>\n      <td>0</td>\n      <td>0</td>\n      <td>0</td>\n      <td>1</td>\n      <td>TRUE_NEGATIVE</td>\n    </tr>\n    <tr>\n      <th>1128</th>\n      <td>2016-01-03</td>\n      <td>100002</td>\n      <td>0</td>\n      <td>0</td>\n      <td>2015-10-27</td>\n      <td>2.105940e-03</td>\n      <td>0</td>\n      <td>1</td>\n      <td>2015-09-30</td>\n      <td>100002.0</td>\n      <td>TRAINING</td>\n      <td>27 days</td>\n      <td>27.0</td>\n      <td>0</td>\n      <td>0</td>\n      <td>0</td>\n      <td>0</td>\n      <td>1</td>\n      <td>TRUE_NEGATIVE</td>\n    </tr>\n    <tr>\n      <th>1129</th>\n      <td>2016-01-04</td>\n      <td>100002</td>\n      <td>0</td>\n      <td>0</td>\n      <td>2015-10-27</td>\n      <td>2.274749e-03</td>\n      <td>0</td>\n      <td>1</td>\n      <td>2015-09-30</td>\n      <td>100002.0</td>\n      <td>TRAINING</td>\n      <td>27 days</td>\n      <td>27.0</td>\n      <td>0</td>\n      <td>0</td>\n      <td>0</td>\n      <td>0</td>\n      <td>1</td>\n      <td>TRUE_NEGATIVE</td>\n    </tr>\n    <tr>\n      <th>1130</th>\n      <td>2016-01-05</td>\n      <td>100002</td>\n      <td>0</td>\n      <td>0</td>\n      <td>2015-10-27</td>\n      <td>1.423114e-03</td>\n      <td>0</td>\n      <td>1</td>\n      <td>2015-09-30</td>\n      <td>100002.0</td>\n      <td>TRAINING</td>\n      <td>27 days</td>\n      <td>27.0</td>\n      <td>0</td>\n      <td>0</td>\n      <td>0</td>\n      <td>0</td>\n      <td>1</td>\n      <td>TRUE_NEGATIVE</td>\n    </tr>\n    <tr>\n      <th>1131</th>\n      <td>2016-01-06</td>\n      <td>100002</td>\n      <td>0</td>\n      <td>0</td>\n      <td>2015-10-27</td>\n      <td>1.070491e-05</td>\n      <td>0</td>\n      <td>1</td>\n      <td>2015-09-30</td>\n      <td>100002.0</td>\n      <td>TRAINING</td>\n      <td>27 days</td>\n      <td>27.0</td>\n      <td>0</td>\n      <td>0</td>\n      <td>0</td>\n      <td>0</td>\n      <td>1</td>\n      <td>TRUE_NEGATIVE</td>\n    </tr>\n    <tr>\n      <th>1132</th>\n      <td>2016-01-07</td>\n      <td>100002</td>\n      <td>0</td>\n      <td>0</td>\n      <td>2015-10-27</td>\n      <td>4.654736e-05</td>\n      <td>0</td>\n      <td>1</td>\n      <td>2015-09-30</td>\n      <td>100002.0</td>\n      <td>TRAINING</td>\n      <td>27 days</td>\n      <td>27.0</td>\n      <td>0</td>\n      <td>0</td>\n      <td>0</td>\n      <td>0</td>\n      <td>1</td>\n      <td>TRUE_NEGATIVE</td>\n    </tr>\n    <tr>\n      <th>1133</th>\n      <td>2016-01-08</td>\n      <td>100002</td>\n      <td>0</td>\n      <td>0</td>\n      <td>2015-10-27</td>\n      <td>8.632561e-05</td>\n      <td>0</td>\n      <td>1</td>\n      <td>2015-09-30</td>\n      <td>100002.0</td>\n      <td>TRAINING</td>\n      <td>27 days</td>\n      <td>27.0</td>\n      <td>0</td>\n      <td>0</td>\n      <td>0</td>\n      <td>0</td>\n      <td>1</td>\n      <td>TRUE_NEGATIVE</td>\n    </tr>\n    <tr>\n      <th>1134</th>\n      <td>2016-01-09</td>\n      <td>100002</td>\n      <td>0</td>\n      <td>0</td>\n      <td>2015-10-27</td>\n      <td>9.510361e-05</td>\n      <td>0</td>\n      <td>1</td>\n      <td>2015-09-30</td>\n      <td>100002.0</td>\n      <td>TRAINING</td>\n      <td>27 days</td>\n      <td>27.0</td>\n      <td>0</td>\n      <td>0</td>\n      <td>0</td>\n      <td>0</td>\n      <td>1</td>\n      <td>TRUE_NEGATIVE</td>\n    </tr>\n    <tr>\n      <th>1135</th>\n      <td>2016-01-10</td>\n      <td>100002</td>\n      <td>0</td>\n      <td>0</td>\n      <td>2015-10-27</td>\n      <td>4.462104e-05</td>\n      <td>0</td>\n      <td>1</td>\n      <td>2015-09-30</td>\n      <td>100002.0</td>\n      <td>TRAINING</td>\n      <td>27 days</td>\n      <td>27.0</td>\n      <td>0</td>\n      <td>0</td>\n      <td>0</td>\n      <td>0</td>\n      <td>1</td>\n      <td>TRUE_NEGATIVE</td>\n    </tr>\n    <tr>\n      <th>1136</th>\n      <td>2016-01-11</td>\n      <td>100002</td>\n      <td>0</td>\n      <td>0</td>\n      <td>2015-10-27</td>\n      <td>3.292108e-05</td>\n      <td>0</td>\n      <td>1</td>\n      <td>2015-09-30</td>\n      <td>100002.0</td>\n      <td>TRAINING</td>\n      <td>27 days</td>\n      <td>27.0</td>\n      <td>0</td>\n      <td>0</td>\n      <td>0</td>\n      <td>0</td>\n      <td>1</td>\n      <td>TRUE_NEGATIVE</td>\n    </tr>\n    <tr>\n      <th>1137</th>\n      <td>2016-01-12</td>\n      <td>100002</td>\n      <td>0</td>\n      <td>0</td>\n      <td>2015-10-27</td>\n      <td>6.844506e-05</td>\n      <td>0</td>\n      <td>1</td>\n      <td>2015-09-30</td>\n      <td>100002.0</td>\n      <td>TRAINING</td>\n      <td>27 days</td>\n      <td>27.0</td>\n      <td>0</td>\n      <td>0</td>\n      <td>0</td>\n      <td>0</td>\n      <td>1</td>\n      <td>TRUE_NEGATIVE</td>\n    </tr>\n    <tr>\n      <th>1138</th>\n      <td>2016-01-13</td>\n      <td>100002</td>\n      <td>0</td>\n      <td>0</td>\n      <td>2015-10-27</td>\n      <td>3.170716e-05</td>\n      <td>0</td>\n      <td>1</td>\n      <td>2015-09-30</td>\n      <td>100002.0</td>\n      <td>TRAINING</td>\n      <td>27 days</td>\n      <td>27.0</td>\n      <td>0</td>\n      <td>0</td>\n      <td>0</td>\n      <td>0</td>\n      <td>1</td>\n      <td>TRUE_NEGATIVE</td>\n    </tr>\n    <tr>\n      <th>1139</th>\n      <td>2016-01-14</td>\n      <td>100002</td>\n      <td>0</td>\n      <td>0</td>\n      <td>2015-10-27</td>\n      <td>9.209017e-05</td>\n      <td>0</td>\n      <td>1</td>\n      <td>2015-09-30</td>\n      <td>100002.0</td>\n      <td>TRAINING</td>\n      <td>27 days</td>\n      <td>27.0</td>\n      <td>0</td>\n      <td>0</td>\n      <td>0</td>\n      <td>0</td>\n      <td>1</td>\n      <td>TRUE_NEGATIVE</td>\n    </tr>\n    <tr>\n      <th>1140</th>\n      <td>2016-01-15</td>\n      <td>100002</td>\n      <td>0</td>\n      <td>0</td>\n      <td>2015-10-27</td>\n      <td>1.595659e-04</td>\n      <td>0</td>\n      <td>1</td>\n      <td>2015-09-30</td>\n      <td>100002.0</td>\n      <td>TRAINING</td>\n      <td>27 days</td>\n      <td>27.0</td>\n      <td>0</td>\n      <td>0</td>\n      <td>0</td>\n      <td>0</td>\n      <td>1</td>\n      <td>TRUE_NEGATIVE</td>\n    </tr>\n    <tr>\n      <th>1141</th>\n      <td>2016-01-16</td>\n      <td>100002</td>\n      <td>0</td>\n      <td>0</td>\n      <td>2015-10-27</td>\n      <td>6.171127e-04</td>\n      <td>0</td>\n      <td>1</td>\n      <td>2015-09-30</td>\n      <td>100002.0</td>\n      <td>TRAINING</td>\n      <td>27 days</td>\n      <td>27.0</td>\n      <td>0</td>\n      <td>0</td>\n      <td>0</td>\n      <td>0</td>\n      <td>1</td>\n      <td>TRUE_NEGATIVE</td>\n    </tr>\n    <tr>\n      <th>1142</th>\n      <td>2016-01-17</td>\n      <td>100002</td>\n      <td>0</td>\n      <td>0</td>\n      <td>2015-10-27</td>\n      <td>6.336633e-04</td>\n      <td>0</td>\n      <td>1</td>\n      <td>2015-09-30</td>\n      <td>100002.0</td>\n      <td>TRAINING</td>\n      <td>27 days</td>\n      <td>27.0</td>\n      <td>0</td>\n      <td>0</td>\n      <td>0</td>\n      <td>0</td>\n      <td>1</td>\n      <td>TRUE_NEGATIVE</td>\n    </tr>\n    <tr>\n      <th>1143</th>\n      <td>2016-01-18</td>\n      <td>100002</td>\n      <td>0</td>\n      <td>0</td>\n      <td>2015-10-27</td>\n      <td>9.725404e-05</td>\n      <td>0</td>\n      <td>1</td>\n      <td>2015-09-30</td>\n      <td>100002.0</td>\n      <td>TRAINING</td>\n      <td>27 days</td>\n      <td>27.0</td>\n      <td>0</td>\n      <td>0</td>\n      <td>0</td>\n      <td>0</td>\n      <td>1</td>\n      <td>TRUE_NEGATIVE</td>\n    </tr>\n    <tr>\n      <th>1144</th>\n      <td>2016-01-19</td>\n      <td>100002</td>\n      <td>0</td>\n      <td>0</td>\n      <td>2015-10-27</td>\n      <td>3.236971e-04</td>\n      <td>0</td>\n      <td>1</td>\n      <td>2015-09-30</td>\n      <td>100002.0</td>\n      <td>TRAINING</td>\n      <td>27 days</td>\n      <td>27.0</td>\n      <td>0</td>\n      <td>0</td>\n      <td>0</td>\n      <td>0</td>\n      <td>1</td>\n      <td>TRUE_NEGATIVE</td>\n    </tr>\n    <tr>\n      <th>1145</th>\n      <td>2016-01-20</td>\n      <td>100002</td>\n      <td>0</td>\n      <td>0</td>\n      <td>2015-10-27</td>\n      <td>4.970080e-04</td>\n      <td>0</td>\n      <td>1</td>\n      <td>2015-09-30</td>\n      <td>100002.0</td>\n      <td>TRAINING</td>\n      <td>27 days</td>\n      <td>27.0</td>\n      <td>0</td>\n      <td>0</td>\n      <td>0</td>\n      <td>0</td>\n      <td>1</td>\n      <td>TRUE_NEGATIVE</td>\n    </tr>\n    <tr>\n      <th>1146</th>\n      <td>2016-01-21</td>\n      <td>100002</td>\n      <td>0</td>\n      <td>0</td>\n      <td>2015-10-27</td>\n      <td>2.416803e-03</td>\n      <td>0</td>\n      <td>1</td>\n      <td>2015-09-30</td>\n      <td>100002.0</td>\n      <td>TRAINING</td>\n      <td>27 days</td>\n      <td>27.0</td>\n      <td>0</td>\n      <td>0</td>\n      <td>0</td>\n      <td>0</td>\n      <td>1</td>\n      <td>TRUE_NEGATIVE</td>\n    </tr>\n    <tr>\n      <th>1147</th>\n      <td>2016-01-22</td>\n      <td>100002</td>\n      <td>0</td>\n      <td>0</td>\n      <td>2015-10-27</td>\n      <td>1.205876e-02</td>\n      <td>0</td>\n      <td>1</td>\n      <td>2015-09-30</td>\n      <td>100002.0</td>\n      <td>TRAINING</td>\n      <td>27 days</td>\n      <td>27.0</td>\n      <td>0</td>\n      <td>0</td>\n      <td>0</td>\n      <td>0</td>\n      <td>1</td>\n      <td>TRUE_NEGATIVE</td>\n    </tr>\n    <tr>\n      <th>1148</th>\n      <td>2016-01-23</td>\n      <td>100002</td>\n      <td>0</td>\n      <td>0</td>\n      <td>2015-10-27</td>\n      <td>4.644901e-03</td>\n      <td>0</td>\n      <td>1</td>\n      <td>2015-09-30</td>\n      <td>100002.0</td>\n      <td>TRAINING</td>\n      <td>27 days</td>\n      <td>27.0</td>\n      <td>0</td>\n      <td>0</td>\n      <td>0</td>\n      <td>0</td>\n      <td>1</td>\n      <td>TRUE_NEGATIVE</td>\n    </tr>\n    <tr>\n      <th>1149</th>\n      <td>2016-01-24</td>\n      <td>100002</td>\n      <td>0</td>\n      <td>0</td>\n      <td>2015-10-27</td>\n      <td>1.686875e-03</td>\n      <td>0</td>\n      <td>1</td>\n      <td>2015-09-30</td>\n      <td>100002.0</td>\n      <td>TRAINING</td>\n      <td>27 days</td>\n      <td>27.0</td>\n      <td>0</td>\n      <td>0</td>\n      <td>0</td>\n      <td>0</td>\n      <td>1</td>\n      <td>TRUE_NEGATIVE</td>\n    </tr>\n    <tr>\n      <th>1150</th>\n      <td>2016-01-25</td>\n      <td>100002</td>\n      <td>0</td>\n      <td>0</td>\n      <td>2015-10-27</td>\n      <td>2.028411e-03</td>\n      <td>0</td>\n      <td>1</td>\n      <td>2015-09-30</td>\n      <td>100002.0</td>\n      <td>TRAINING</td>\n      <td>27 days</td>\n      <td>27.0</td>\n      <td>0</td>\n      <td>0</td>\n      <td>0</td>\n      <td>0</td>\n      <td>1</td>\n      <td>TRUE_NEGATIVE</td>\n    </tr>\n    <tr>\n      <th>1151</th>\n      <td>2016-01-26</td>\n      <td>100002</td>\n      <td>0</td>\n      <td>0</td>\n      <td>2015-10-27</td>\n      <td>1.672229e-03</td>\n      <td>0</td>\n      <td>1</td>\n      <td>2015-09-30</td>\n      <td>100002.0</td>\n      <td>TRAINING</td>\n      <td>27 days</td>\n      <td>27.0</td>\n      <td>0</td>\n      <td>0</td>\n      <td>0</td>\n      <td>0</td>\n      <td>1</td>\n      <td>TRUE_NEGATIVE</td>\n    </tr>\n    <tr>\n      <th>1152</th>\n      <td>2016-01-27</td>\n      <td>100002</td>\n      <td>0</td>\n      <td>0</td>\n      <td>2015-10-27</td>\n      <td>1.611144e-03</td>\n      <td>0</td>\n      <td>1</td>\n      <td>2015-09-30</td>\n      <td>100002.0</td>\n      <td>TRAINING</td>\n      <td>27 days</td>\n      <td>27.0</td>\n      <td>0</td>\n      <td>0</td>\n      <td>0</td>\n      <td>0</td>\n      <td>1</td>\n      <td>TRUE_NEGATIVE</td>\n    </tr>\n    <tr>\n      <th>1153</th>\n      <td>2016-01-28</td>\n      <td>100002</td>\n      <td>0</td>\n      <td>0</td>\n      <td>2015-10-27</td>\n      <td>3.311960e-03</td>\n      <td>0</td>\n      <td>1</td>\n      <td>2015-09-30</td>\n      <td>100002.0</td>\n      <td>TRAINING</td>\n      <td>27 days</td>\n      <td>27.0</td>\n      <td>0</td>\n      <td>0</td>\n      <td>0</td>\n      <td>0</td>\n      <td>1</td>\n      <td>TRUE_NEGATIVE</td>\n    </tr>\n    <tr>\n      <th>1154</th>\n      <td>2016-01-29</td>\n      <td>100002</td>\n      <td>0</td>\n      <td>0</td>\n      <td>2015-10-27</td>\n      <td>1.399382e-02</td>\n      <td>0</td>\n      <td>1</td>\n      <td>2015-09-30</td>\n      <td>100002.0</td>\n      <td>TRAINING</td>\n      <td>27 days</td>\n      <td>27.0</td>\n      <td>0</td>\n      <td>0</td>\n      <td>0</td>\n      <td>0</td>\n      <td>1</td>\n      <td>TRUE_NEGATIVE</td>\n    </tr>\n    <tr>\n      <th>1155</th>\n      <td>2016-01-30</td>\n      <td>100002</td>\n      <td>0</td>\n      <td>0</td>\n      <td>2015-10-27</td>\n      <td>5.816485e-04</td>\n      <td>0</td>\n      <td>1</td>\n      <td>2015-09-30</td>\n      <td>100002.0</td>\n      <td>TRAINING</td>\n      <td>27 days</td>\n      <td>27.0</td>\n      <td>0</td>\n      <td>0</td>\n      <td>0</td>\n      <td>0</td>\n      <td>1</td>\n      <td>TRUE_NEGATIVE</td>\n    </tr>\n    <tr>\n      <th>1156</th>\n      <td>2016-01-31</td>\n      <td>100002</td>\n      <td>0</td>\n      <td>0</td>\n      <td>2015-10-27</td>\n      <td>1.700722e-04</td>\n      <td>0</td>\n      <td>1</td>\n      <td>2015-09-30</td>\n      <td>100002.0</td>\n      <td>TRAINING</td>\n      <td>27 days</td>\n      <td>27.0</td>\n      <td>0</td>\n      <td>0</td>\n      <td>0</td>\n      <td>0</td>\n      <td>1</td>\n      <td>TRUE_NEGATIVE</td>\n    </tr>\n    <tr>\n      <th>1157</th>\n      <td>2016-02-01</td>\n      <td>100002</td>\n      <td>0</td>\n      <td>0</td>\n      <td>2015-10-27</td>\n      <td>5.110625e-05</td>\n      <td>0</td>\n      <td>1</td>\n      <td>2015-09-30</td>\n      <td>100002.0</td>\n      <td>TRAINING</td>\n      <td>27 days</td>\n      <td>27.0</td>\n      <td>0</td>\n      <td>0</td>\n      <td>0</td>\n      <td>0</td>\n      <td>1</td>\n      <td>TRUE_NEGATIVE</td>\n    </tr>\n    <tr>\n      <th>1158</th>\n      <td>2016-02-02</td>\n      <td>100002</td>\n      <td>0</td>\n      <td>0</td>\n      <td>2015-10-27</td>\n      <td>1.352385e-05</td>\n      <td>0</td>\n      <td>1</td>\n      <td>2015-09-30</td>\n      <td>100002.0</td>\n      <td>TRAINING</td>\n      <td>27 days</td>\n      <td>27.0</td>\n      <td>0</td>\n      <td>0</td>\n      <td>0</td>\n      <td>0</td>\n      <td>1</td>\n      <td>TRUE_NEGATIVE</td>\n    </tr>\n    <tr>\n      <th>1159</th>\n      <td>2016-02-03</td>\n      <td>100002</td>\n      <td>0</td>\n      <td>0</td>\n      <td>2015-10-27</td>\n      <td>1.446507e-04</td>\n      <td>0</td>\n      <td>1</td>\n      <td>2015-09-30</td>\n      <td>100002.0</td>\n      <td>TRAINING</td>\n      <td>27 days</td>\n      <td>27.0</td>\n      <td>0</td>\n      <td>0</td>\n      <td>0</td>\n      <td>0</td>\n      <td>1</td>\n      <td>TRUE_NEGATIVE</td>\n    </tr>\n    <tr>\n      <th>1160</th>\n      <td>2016-02-04</td>\n      <td>100002</td>\n      <td>0</td>\n      <td>0</td>\n      <td>2015-10-27</td>\n      <td>2.080048e-04</td>\n      <td>0</td>\n      <td>1</td>\n      <td>2015-09-30</td>\n      <td>100002.0</td>\n      <td>TRAINING</td>\n      <td>27 days</td>\n      <td>27.0</td>\n      <td>0</td>\n      <td>0</td>\n      <td>0</td>\n      <td>0</td>\n      <td>1</td>\n      <td>TRUE_NEGATIVE</td>\n    </tr>\n    <tr>\n      <th>1161</th>\n      <td>2016-02-05</td>\n      <td>100002</td>\n      <td>0</td>\n      <td>0</td>\n      <td>2015-10-27</td>\n      <td>2.527847e-04</td>\n      <td>0</td>\n      <td>1</td>\n      <td>2015-09-30</td>\n      <td>100002.0</td>\n      <td>TRAINING</td>\n      <td>27 days</td>\n      <td>27.0</td>\n      <td>0</td>\n      <td>0</td>\n      <td>0</td>\n      <td>0</td>\n      <td>1</td>\n      <td>TRUE_NEGATIVE</td>\n    </tr>\n    <tr>\n      <th>1162</th>\n      <td>2016-02-06</td>\n      <td>100002</td>\n      <td>0</td>\n      <td>0</td>\n      <td>2015-10-27</td>\n      <td>1.117447e-03</td>\n      <td>0</td>\n      <td>1</td>\n      <td>2015-09-30</td>\n      <td>100002.0</td>\n      <td>TRAINING</td>\n      <td>27 days</td>\n      <td>27.0</td>\n      <td>0</td>\n      <td>0</td>\n      <td>0</td>\n      <td>0</td>\n      <td>1</td>\n      <td>TRUE_NEGATIVE</td>\n    </tr>\n    <tr>\n      <th>1163</th>\n      <td>2016-02-07</td>\n      <td>100002</td>\n      <td>0</td>\n      <td>0</td>\n      <td>2015-10-27</td>\n      <td>3.591649e-04</td>\n      <td>0</td>\n      <td>1</td>\n      <td>2015-09-30</td>\n      <td>100002.0</td>\n      <td>TRAINING</td>\n      <td>27 days</td>\n      <td>27.0</td>\n      <td>0</td>\n      <td>0</td>\n      <td>0</td>\n      <td>0</td>\n      <td>1</td>\n      <td>TRUE_NEGATIVE</td>\n    </tr>\n    <tr>\n      <th>1164</th>\n      <td>2016-02-08</td>\n      <td>100002</td>\n      <td>0</td>\n      <td>0</td>\n      <td>2015-10-27</td>\n      <td>2.248610e-04</td>\n      <td>0</td>\n      <td>1</td>\n      <td>2015-09-30</td>\n      <td>100002.0</td>\n      <td>TRAINING</td>\n      <td>27 days</td>\n      <td>27.0</td>\n      <td>0</td>\n      <td>0</td>\n      <td>0</td>\n      <td>0</td>\n      <td>1</td>\n      <td>TRUE_NEGATIVE</td>\n    </tr>\n    <tr>\n      <th>1165</th>\n      <td>2016-02-09</td>\n      <td>100002</td>\n      <td>0</td>\n      <td>0</td>\n      <td>2015-10-27</td>\n      <td>4.827166e-05</td>\n      <td>0</td>\n      <td>1</td>\n      <td>2015-09-30</td>\n      <td>100002.0</td>\n      <td>TRAINING</td>\n      <td>27 days</td>\n      <td>27.0</td>\n      <td>0</td>\n      <td>0</td>\n      <td>0</td>\n      <td>0</td>\n      <td>1</td>\n      <td>TRUE_NEGATIVE</td>\n    </tr>\n    <tr>\n      <th>1166</th>\n      <td>2016-02-10</td>\n      <td>100002</td>\n      <td>0</td>\n      <td>0</td>\n      <td>2015-10-27</td>\n      <td>7.771050e-05</td>\n      <td>0</td>\n      <td>1</td>\n      <td>2015-09-30</td>\n      <td>100002.0</td>\n      <td>TRAINING</td>\n      <td>27 days</td>\n      <td>27.0</td>\n      <td>0</td>\n      <td>0</td>\n      <td>0</td>\n      <td>0</td>\n      <td>1</td>\n      <td>TRUE_NEGATIVE</td>\n    </tr>\n    <tr>\n      <th>1167</th>\n      <td>2016-02-11</td>\n      <td>100002</td>\n      <td>0</td>\n      <td>0</td>\n      <td>2015-10-27</td>\n      <td>4.251253e-05</td>\n      <td>0</td>\n      <td>1</td>\n      <td>2015-09-30</td>\n      <td>100002.0</td>\n      <td>TRAINING</td>\n      <td>27 days</td>\n      <td>27.0</td>\n      <td>0</td>\n      <td>0</td>\n      <td>0</td>\n      <td>0</td>\n      <td>1</td>\n      <td>TRUE_NEGATIVE</td>\n    </tr>\n    <tr>\n      <th>1168</th>\n      <td>2016-02-12</td>\n      <td>100002</td>\n      <td>0</td>\n      <td>0</td>\n      <td>2015-10-27</td>\n      <td>2.929829e-05</td>\n      <td>0</td>\n      <td>1</td>\n      <td>2015-09-30</td>\n      <td>100002.0</td>\n      <td>TRAINING</td>\n      <td>27 days</td>\n      <td>27.0</td>\n      <td>0</td>\n      <td>0</td>\n      <td>0</td>\n      <td>0</td>\n      <td>1</td>\n      <td>TRUE_NEGATIVE</td>\n    </tr>\n    <tr>\n      <th>1169</th>\n      <td>2016-02-13</td>\n      <td>100002</td>\n      <td>0</td>\n      <td>0</td>\n      <td>2015-10-27</td>\n      <td>3.436283e-05</td>\n      <td>0</td>\n      <td>1</td>\n      <td>2015-09-30</td>\n      <td>100002.0</td>\n      <td>TRAINING</td>\n      <td>27 days</td>\n      <td>27.0</td>\n      <td>0</td>\n      <td>0</td>\n      <td>0</td>\n      <td>0</td>\n      <td>1</td>\n      <td>TRUE_NEGATIVE</td>\n    </tr>\n    <tr>\n      <th>1170</th>\n      <td>2016-02-14</td>\n      <td>100002</td>\n      <td>0</td>\n      <td>0</td>\n      <td>2015-10-27</td>\n      <td>1.641650e-05</td>\n      <td>0</td>\n      <td>1</td>\n      <td>2015-09-30</td>\n      <td>100002.0</td>\n      <td>TRAINING</td>\n      <td>27 days</td>\n      <td>27.0</td>\n      <td>0</td>\n      <td>0</td>\n      <td>0</td>\n      <td>0</td>\n      <td>1</td>\n      <td>TRUE_NEGATIVE</td>\n    </tr>\n    <tr>\n      <th>1171</th>\n      <td>2016-02-15</td>\n      <td>100002</td>\n      <td>0</td>\n      <td>0</td>\n      <td>2015-10-27</td>\n      <td>1.665179e-05</td>\n      <td>0</td>\n      <td>1</td>\n      <td>2015-09-30</td>\n      <td>100002.0</td>\n      <td>TRAINING</td>\n      <td>27 days</td>\n      <td>27.0</td>\n      <td>0</td>\n      <td>0</td>\n      <td>0</td>\n      <td>0</td>\n      <td>1</td>\n      <td>TRUE_NEGATIVE</td>\n    </tr>\n    <tr>\n      <th>1172</th>\n      <td>2016-02-16</td>\n      <td>100002</td>\n      <td>0</td>\n      <td>0</td>\n      <td>2015-10-27</td>\n      <td>1.407468e-05</td>\n      <td>0</td>\n      <td>1</td>\n      <td>2015-09-30</td>\n      <td>100002.0</td>\n      <td>TRAINING</td>\n      <td>27 days</td>\n      <td>27.0</td>\n      <td>0</td>\n      <td>0</td>\n      <td>0</td>\n      <td>0</td>\n      <td>1</td>\n      <td>TRUE_NEGATIVE</td>\n    </tr>\n    <tr>\n      <th>1173</th>\n      <td>2016-02-17</td>\n      <td>100002</td>\n      <td>0</td>\n      <td>0</td>\n      <td>2015-10-27</td>\n      <td>3.704711e-05</td>\n      <td>0</td>\n      <td>1</td>\n      <td>2015-09-30</td>\n      <td>100002.0</td>\n      <td>TRAINING</td>\n      <td>27 days</td>\n      <td>27.0</td>\n      <td>0</td>\n      <td>0</td>\n      <td>0</td>\n      <td>0</td>\n      <td>1</td>\n      <td>TRUE_NEGATIVE</td>\n    </tr>\n    <tr>\n      <th>1174</th>\n      <td>2016-02-18</td>\n      <td>100002</td>\n      <td>0</td>\n      <td>0</td>\n      <td>2015-10-27</td>\n      <td>7.001173e-06</td>\n      <td>0</td>\n      <td>1</td>\n      <td>2015-09-30</td>\n      <td>100002.0</td>\n      <td>TRAINING</td>\n      <td>27 days</td>\n      <td>27.0</td>\n      <td>0</td>\n      <td>0</td>\n      <td>0</td>\n      <td>0</td>\n      <td>1</td>\n      <td>TRUE_NEGATIVE</td>\n    </tr>\n    <tr>\n      <th>1175</th>\n      <td>2016-02-19</td>\n      <td>100002</td>\n      <td>0</td>\n      <td>0</td>\n      <td>2015-10-27</td>\n      <td>1.966694e-05</td>\n      <td>0</td>\n      <td>1</td>\n      <td>2015-09-30</td>\n      <td>100002.0</td>\n      <td>TRAINING</td>\n      <td>27 days</td>\n      <td>27.0</td>\n      <td>0</td>\n      <td>0</td>\n      <td>0</td>\n      <td>0</td>\n      <td>1</td>\n      <td>TRUE_NEGATIVE</td>\n    </tr>\n    <tr>\n      <th>1176</th>\n      <td>2016-02-20</td>\n      <td>100002</td>\n      <td>0</td>\n      <td>0</td>\n      <td>2015-10-27</td>\n      <td>2.119374e-05</td>\n      <td>0</td>\n      <td>1</td>\n      <td>2015-09-30</td>\n      <td>100002.0</td>\n      <td>TRAINING</td>\n      <td>27 days</td>\n      <td>27.0</td>\n      <td>0</td>\n      <td>0</td>\n      <td>0</td>\n      <td>0</td>\n      <td>1</td>\n      <td>TRUE_NEGATIVE</td>\n    </tr>\n    <tr>\n      <th>1177</th>\n      <td>2016-02-21</td>\n      <td>100002</td>\n      <td>0</td>\n      <td>0</td>\n      <td>2015-10-27</td>\n      <td>8.793697e-05</td>\n      <td>0</td>\n      <td>1</td>\n      <td>2015-09-30</td>\n      <td>100002.0</td>\n      <td>TRAINING</td>\n      <td>27 days</td>\n      <td>27.0</td>\n      <td>0</td>\n      <td>0</td>\n      <td>0</td>\n      <td>0</td>\n      <td>1</td>\n      <td>TRUE_NEGATIVE</td>\n    </tr>\n    <tr>\n      <th>1178</th>\n      <td>2016-02-22</td>\n      <td>100002</td>\n      <td>0</td>\n      <td>0</td>\n      <td>2015-10-27</td>\n      <td>1.290497e-04</td>\n      <td>0</td>\n      <td>1</td>\n      <td>2015-09-30</td>\n      <td>100002.0</td>\n      <td>TRAINING</td>\n      <td>27 days</td>\n      <td>27.0</td>\n      <td>0</td>\n      <td>0</td>\n      <td>0</td>\n      <td>0</td>\n      <td>1</td>\n      <td>TRUE_NEGATIVE</td>\n    </tr>\n    <tr>\n      <th>1179</th>\n      <td>2016-02-23</td>\n      <td>100002</td>\n      <td>0</td>\n      <td>0</td>\n      <td>2015-10-27</td>\n      <td>2.792498e-06</td>\n      <td>0</td>\n      <td>1</td>\n      <td>2015-09-30</td>\n      <td>100002.0</td>\n      <td>TRAINING</td>\n      <td>27 days</td>\n      <td>27.0</td>\n      <td>0</td>\n      <td>0</td>\n      <td>0</td>\n      <td>0</td>\n      <td>1</td>\n      <td>TRUE_NEGATIVE</td>\n    </tr>\n    <tr>\n      <th>1180</th>\n      <td>2016-02-24</td>\n      <td>100002</td>\n      <td>0</td>\n      <td>0</td>\n      <td>2015-10-27</td>\n      <td>9.594823e-04</td>\n      <td>0</td>\n      <td>1</td>\n      <td>2015-09-30</td>\n      <td>100002.0</td>\n      <td>TRAINING</td>\n      <td>27 days</td>\n      <td>27.0</td>\n      <td>0</td>\n      <td>0</td>\n      <td>0</td>\n      <td>0</td>\n      <td>1</td>\n      <td>TRUE_NEGATIVE</td>\n    </tr>\n    <tr>\n      <th>1181</th>\n      <td>2016-02-25</td>\n      <td>100002</td>\n      <td>0</td>\n      <td>0</td>\n      <td>2015-10-27</td>\n      <td>1.902600e-03</td>\n      <td>0</td>\n      <td>1</td>\n      <td>2015-09-30</td>\n      <td>100002.0</td>\n      <td>TRAINING</td>\n      <td>27 days</td>\n      <td>27.0</td>\n      <td>0</td>\n      <td>0</td>\n      <td>0</td>\n      <td>0</td>\n      <td>1</td>\n      <td>TRUE_NEGATIVE</td>\n    </tr>\n    <tr>\n      <th>1182</th>\n      <td>2016-02-26</td>\n      <td>100002</td>\n      <td>0</td>\n      <td>0</td>\n      <td>2015-10-27</td>\n      <td>4.986725e-04</td>\n      <td>0</td>\n      <td>1</td>\n      <td>2015-09-30</td>\n      <td>100002.0</td>\n      <td>TRAINING</td>\n      <td>27 days</td>\n      <td>27.0</td>\n      <td>0</td>\n      <td>0</td>\n      <td>0</td>\n      <td>0</td>\n      <td>1</td>\n      <td>TRUE_NEGATIVE</td>\n    </tr>\n    <tr>\n      <th>1183</th>\n      <td>2016-02-27</td>\n      <td>100002</td>\n      <td>0</td>\n      <td>0</td>\n      <td>2015-10-27</td>\n      <td>6.542619e-04</td>\n      <td>0</td>\n      <td>1</td>\n      <td>2015-09-30</td>\n      <td>100002.0</td>\n      <td>TRAINING</td>\n      <td>27 days</td>\n      <td>27.0</td>\n      <td>0</td>\n      <td>0</td>\n      <td>0</td>\n      <td>0</td>\n      <td>1</td>\n      <td>TRUE_NEGATIVE</td>\n    </tr>\n    <tr>\n      <th>1184</th>\n      <td>2016-02-28</td>\n      <td>100002</td>\n      <td>0</td>\n      <td>0</td>\n      <td>2015-10-27</td>\n      <td>4.440924e-04</td>\n      <td>0</td>\n      <td>1</td>\n      <td>2015-09-30</td>\n      <td>100002.0</td>\n      <td>TRAINING</td>\n      <td>27 days</td>\n      <td>27.0</td>\n      <td>0</td>\n      <td>0</td>\n      <td>0</td>\n      <td>0</td>\n      <td>1</td>\n      <td>TRUE_NEGATIVE</td>\n    </tr>\n    <tr>\n      <th>1185</th>\n      <td>2016-02-29</td>\n      <td>100002</td>\n      <td>0</td>\n      <td>0</td>\n      <td>2015-10-27</td>\n      <td>6.167144e-04</td>\n      <td>0</td>\n      <td>1</td>\n      <td>2015-09-30</td>\n      <td>100002.0</td>\n      <td>TRAINING</td>\n      <td>27 days</td>\n      <td>27.0</td>\n      <td>0</td>\n      <td>0</td>\n      <td>0</td>\n      <td>0</td>\n      <td>1</td>\n      <td>TRUE_NEGATIVE</td>\n    </tr>\n    <tr>\n      <th>1186</th>\n      <td>2016-03-01</td>\n      <td>100002</td>\n      <td>0</td>\n      <td>0</td>\n      <td>2015-10-27</td>\n      <td>1.338105e-04</td>\n      <td>0</td>\n      <td>1</td>\n      <td>2015-09-30</td>\n      <td>100002.0</td>\n      <td>TRAINING</td>\n      <td>27 days</td>\n      <td>27.0</td>\n      <td>0</td>\n      <td>0</td>\n      <td>0</td>\n      <td>0</td>\n      <td>1</td>\n      <td>TRUE_NEGATIVE</td>\n    </tr>\n    <tr>\n      <th>1187</th>\n      <td>2016-03-02</td>\n      <td>100002</td>\n      <td>0</td>\n      <td>0</td>\n      <td>2015-10-27</td>\n      <td>2.066220e-05</td>\n      <td>0</td>\n      <td>1</td>\n      <td>2015-09-30</td>\n      <td>100002.0</td>\n      <td>TRAINING</td>\n      <td>27 days</td>\n      <td>27.0</td>\n      <td>0</td>\n      <td>0</td>\n      <td>0</td>\n      <td>0</td>\n      <td>1</td>\n      <td>TRUE_NEGATIVE</td>\n    </tr>\n    <tr>\n      <th>1188</th>\n      <td>2016-03-03</td>\n      <td>100002</td>\n      <td>0</td>\n      <td>0</td>\n      <td>2015-10-27</td>\n      <td>4.800366e-05</td>\n      <td>0</td>\n      <td>1</td>\n      <td>2015-09-30</td>\n      <td>100002.0</td>\n      <td>TRAINING</td>\n      <td>27 days</td>\n      <td>27.0</td>\n      <td>0</td>\n      <td>0</td>\n      <td>0</td>\n      <td>0</td>\n      <td>1</td>\n      <td>TRUE_NEGATIVE</td>\n    </tr>\n    <tr>\n      <th>1189</th>\n      <td>2016-03-04</td>\n      <td>100002</td>\n      <td>0</td>\n      <td>0</td>\n      <td>2015-10-27</td>\n      <td>9.951391e-05</td>\n      <td>0</td>\n      <td>1</td>\n      <td>2015-09-30</td>\n      <td>100002.0</td>\n      <td>TRAINING</td>\n      <td>27 days</td>\n      <td>27.0</td>\n      <td>0</td>\n      <td>0</td>\n      <td>0</td>\n      <td>0</td>\n      <td>1</td>\n      <td>TRUE_NEGATIVE</td>\n    </tr>\n    <tr>\n      <th>1190</th>\n      <td>2016-03-05</td>\n      <td>100002</td>\n      <td>0</td>\n      <td>0</td>\n      <td>2015-10-27</td>\n      <td>6.494723e-05</td>\n      <td>0</td>\n      <td>1</td>\n      <td>2015-09-30</td>\n      <td>100002.0</td>\n      <td>TRAINING</td>\n      <td>27 days</td>\n      <td>27.0</td>\n      <td>0</td>\n      <td>0</td>\n      <td>0</td>\n      <td>0</td>\n      <td>1</td>\n      <td>TRUE_NEGATIVE</td>\n    </tr>\n    <tr>\n      <th>1191</th>\n      <td>2016-03-06</td>\n      <td>100002</td>\n      <td>0</td>\n      <td>0</td>\n      <td>2015-10-27</td>\n      <td>9.557683e-05</td>\n      <td>0</td>\n      <td>1</td>\n      <td>2015-09-30</td>\n      <td>100002.0</td>\n      <td>TRAINING</td>\n      <td>27 days</td>\n      <td>27.0</td>\n      <td>0</td>\n      <td>0</td>\n      <td>0</td>\n      <td>0</td>\n      <td>1</td>\n      <td>TRUE_NEGATIVE</td>\n    </tr>\n    <tr>\n      <th>1192</th>\n      <td>2016-03-07</td>\n      <td>100002</td>\n      <td>0</td>\n      <td>0</td>\n      <td>2015-10-27</td>\n      <td>4.908007e-05</td>\n      <td>0</td>\n      <td>1</td>\n      <td>2015-09-30</td>\n      <td>100002.0</td>\n      <td>TRAINING</td>\n      <td>27 days</td>\n      <td>27.0</td>\n      <td>0</td>\n      <td>0</td>\n      <td>0</td>\n      <td>0</td>\n      <td>1</td>\n      <td>TRUE_NEGATIVE</td>\n    </tr>\n    <tr>\n      <th>1193</th>\n      <td>2016-03-08</td>\n      <td>100002</td>\n      <td>0</td>\n      <td>0</td>\n      <td>2015-10-27</td>\n      <td>9.634878e-05</td>\n      <td>0</td>\n      <td>1</td>\n      <td>2015-09-30</td>\n      <td>100002.0</td>\n      <td>TRAINING</td>\n      <td>27 days</td>\n      <td>27.0</td>\n      <td>0</td>\n      <td>0</td>\n      <td>0</td>\n      <td>0</td>\n      <td>1</td>\n      <td>TRUE_NEGATIVE</td>\n    </tr>\n    <tr>\n      <th>1194</th>\n      <td>2016-03-09</td>\n      <td>100002</td>\n      <td>0</td>\n      <td>0</td>\n      <td>2015-10-27</td>\n      <td>8.806200e-05</td>\n      <td>0</td>\n      <td>1</td>\n      <td>2015-09-30</td>\n      <td>100002.0</td>\n      <td>TRAINING</td>\n      <td>27 days</td>\n      <td>27.0</td>\n      <td>0</td>\n      <td>0</td>\n      <td>0</td>\n      <td>0</td>\n      <td>1</td>\n      <td>TRUE_NEGATIVE</td>\n    </tr>\n    <tr>\n      <th>1195</th>\n      <td>2016-03-10</td>\n      <td>100002</td>\n      <td>0</td>\n      <td>0</td>\n      <td>2015-10-27</td>\n      <td>1.428335e-04</td>\n      <td>0</td>\n      <td>1</td>\n      <td>2015-09-30</td>\n      <td>100002.0</td>\n      <td>TRAINING</td>\n      <td>27 days</td>\n      <td>27.0</td>\n      <td>0</td>\n      <td>0</td>\n      <td>0</td>\n      <td>0</td>\n      <td>1</td>\n      <td>TRUE_NEGATIVE</td>\n    </tr>\n    <tr>\n      <th>1196</th>\n      <td>2016-03-11</td>\n      <td>100002</td>\n      <td>0</td>\n      <td>0</td>\n      <td>2015-10-27</td>\n      <td>7.045359e-05</td>\n      <td>0</td>\n      <td>1</td>\n      <td>2015-09-30</td>\n      <td>100002.0</td>\n      <td>TRAINING</td>\n      <td>27 days</td>\n      <td>27.0</td>\n      <td>0</td>\n      <td>0</td>\n      <td>0</td>\n      <td>0</td>\n      <td>1</td>\n      <td>TRUE_NEGATIVE</td>\n    </tr>\n    <tr>\n      <th>1197</th>\n      <td>2016-03-12</td>\n      <td>100002</td>\n      <td>0</td>\n      <td>0</td>\n      <td>2015-10-27</td>\n      <td>1.634913e-05</td>\n      <td>0</td>\n      <td>1</td>\n      <td>2015-09-30</td>\n      <td>100002.0</td>\n      <td>TRAINING</td>\n      <td>27 days</td>\n      <td>27.0</td>\n      <td>0</td>\n      <td>0</td>\n      <td>0</td>\n      <td>0</td>\n      <td>1</td>\n      <td>TRUE_NEGATIVE</td>\n    </tr>\n    <tr>\n      <th>1198</th>\n      <td>2016-03-13</td>\n      <td>100002</td>\n      <td>0</td>\n      <td>0</td>\n      <td>2015-10-27</td>\n      <td>9.703441e-05</td>\n      <td>0</td>\n      <td>1</td>\n      <td>2015-09-30</td>\n      <td>100002.0</td>\n      <td>TRAINING</td>\n      <td>27 days</td>\n      <td>27.0</td>\n      <td>0</td>\n      <td>0</td>\n      <td>0</td>\n      <td>0</td>\n      <td>1</td>\n      <td>TRUE_NEGATIVE</td>\n    </tr>\n    <tr>\n      <th>1199</th>\n      <td>2016-03-14</td>\n      <td>100002</td>\n      <td>0</td>\n      <td>0</td>\n      <td>2015-10-27</td>\n      <td>1.329863e-05</td>\n      <td>0</td>\n      <td>1</td>\n      <td>2015-09-30</td>\n      <td>100002.0</td>\n      <td>TRAINING</td>\n      <td>27 days</td>\n      <td>27.0</td>\n      <td>0</td>\n      <td>0</td>\n      <td>0</td>\n      <td>0</td>\n      <td>1</td>\n      <td>TRUE_NEGATIVE</td>\n    </tr>\n    <tr>\n      <th>1200</th>\n      <td>2016-03-15</td>\n      <td>100002</td>\n      <td>0</td>\n      <td>0</td>\n      <td>2015-10-27</td>\n      <td>5.204519e-05</td>\n      <td>0</td>\n      <td>1</td>\n      <td>2015-09-30</td>\n      <td>100002.0</td>\n      <td>TRAINING</td>\n      <td>27 days</td>\n      <td>27.0</td>\n      <td>0</td>\n      <td>0</td>\n      <td>0</td>\n      <td>0</td>\n      <td>1</td>\n      <td>TRUE_NEGATIVE</td>\n    </tr>\n    <tr>\n      <th>1201</th>\n      <td>2016-03-16</td>\n      <td>100002</td>\n      <td>0</td>\n      <td>0</td>\n      <td>2015-10-27</td>\n      <td>4.140061e-05</td>\n      <td>0</td>\n      <td>1</td>\n      <td>2015-09-30</td>\n      <td>100002.0</td>\n      <td>TRAINING</td>\n      <td>27 days</td>\n      <td>27.0</td>\n      <td>0</td>\n      <td>0</td>\n      <td>0</td>\n      <td>0</td>\n      <td>1</td>\n      <td>TRUE_NEGATIVE</td>\n    </tr>\n    <tr>\n      <th>1202</th>\n      <td>2016-03-17</td>\n      <td>100002</td>\n      <td>0</td>\n      <td>0</td>\n      <td>2015-10-27</td>\n      <td>2.038411e-05</td>\n      <td>0</td>\n      <td>1</td>\n      <td>2015-09-30</td>\n      <td>100002.0</td>\n      <td>TRAINING</td>\n      <td>27 days</td>\n      <td>27.0</td>\n      <td>0</td>\n      <td>0</td>\n      <td>0</td>\n      <td>0</td>\n      <td>1</td>\n      <td>TRUE_NEGATIVE</td>\n    </tr>\n    <tr>\n      <th>1203</th>\n      <td>2016-03-18</td>\n      <td>100002</td>\n      <td>0</td>\n      <td>0</td>\n      <td>2015-10-27</td>\n      <td>1.868139e-05</td>\n      <td>0</td>\n      <td>1</td>\n      <td>2015-09-30</td>\n      <td>100002.0</td>\n      <td>TRAINING</td>\n      <td>27 days</td>\n      <td>27.0</td>\n      <td>0</td>\n      <td>0</td>\n      <td>0</td>\n      <td>0</td>\n      <td>1</td>\n      <td>TRUE_NEGATIVE</td>\n    </tr>\n    <tr>\n      <th>1204</th>\n      <td>2016-03-19</td>\n      <td>100002</td>\n      <td>0</td>\n      <td>0</td>\n      <td>2015-10-27</td>\n      <td>3.141380e-05</td>\n      <td>0</td>\n      <td>1</td>\n      <td>2015-09-30</td>\n      <td>100002.0</td>\n      <td>TRAINING</td>\n      <td>27 days</td>\n      <td>27.0</td>\n      <td>0</td>\n      <td>0</td>\n      <td>0</td>\n      <td>0</td>\n      <td>1</td>\n      <td>TRUE_NEGATIVE</td>\n    </tr>\n    <tr>\n      <th>1205</th>\n      <td>2016-03-20</td>\n      <td>100002</td>\n      <td>0</td>\n      <td>0</td>\n      <td>2015-10-27</td>\n      <td>7.902365e-06</td>\n      <td>0</td>\n      <td>1</td>\n      <td>2015-09-30</td>\n      <td>100002.0</td>\n      <td>TRAINING</td>\n      <td>27 days</td>\n      <td>27.0</td>\n      <td>0</td>\n      <td>0</td>\n      <td>0</td>\n      <td>0</td>\n      <td>1</td>\n      <td>TRUE_NEGATIVE</td>\n    </tr>\n    <tr>\n      <th>1206</th>\n      <td>2016-03-21</td>\n      <td>100002</td>\n      <td>0</td>\n      <td>0</td>\n      <td>2015-10-27</td>\n      <td>1.580460e-05</td>\n      <td>0</td>\n      <td>1</td>\n      <td>2015-09-30</td>\n      <td>100002.0</td>\n      <td>TRAINING</td>\n      <td>27 days</td>\n      <td>27.0</td>\n      <td>0</td>\n      <td>0</td>\n      <td>0</td>\n      <td>0</td>\n      <td>1</td>\n      <td>TRUE_NEGATIVE</td>\n    </tr>\n    <tr>\n      <th>1207</th>\n      <td>2016-03-22</td>\n      <td>100002</td>\n      <td>0</td>\n      <td>0</td>\n      <td>2015-10-27</td>\n      <td>2.533076e-05</td>\n      <td>0</td>\n      <td>1</td>\n      <td>2015-09-30</td>\n      <td>100002.0</td>\n      <td>TRAINING</td>\n      <td>27 days</td>\n      <td>27.0</td>\n      <td>0</td>\n      <td>0</td>\n      <td>0</td>\n      <td>0</td>\n      <td>1</td>\n      <td>TRUE_NEGATIVE</td>\n    </tr>\n    <tr>\n      <th>1208</th>\n      <td>2016-03-23</td>\n      <td>100002</td>\n      <td>0</td>\n      <td>0</td>\n      <td>2015-10-27</td>\n      <td>1.788124e-05</td>\n      <td>0</td>\n      <td>1</td>\n      <td>2015-09-30</td>\n      <td>100002.0</td>\n      <td>TRAINING</td>\n      <td>27 days</td>\n      <td>27.0</td>\n      <td>0</td>\n      <td>0</td>\n      <td>0</td>\n      <td>0</td>\n      <td>1</td>\n      <td>TRUE_NEGATIVE</td>\n    </tr>\n    <tr>\n      <th>1209</th>\n      <td>2016-03-24</td>\n      <td>100002</td>\n      <td>0</td>\n      <td>0</td>\n      <td>2015-10-27</td>\n      <td>9.119323e-05</td>\n      <td>0</td>\n      <td>1</td>\n      <td>2015-09-30</td>\n      <td>100002.0</td>\n      <td>TRAINING</td>\n      <td>27 days</td>\n      <td>27.0</td>\n      <td>0</td>\n      <td>0</td>\n      <td>0</td>\n      <td>0</td>\n      <td>1</td>\n      <td>TRUE_NEGATIVE</td>\n    </tr>\n    <tr>\n      <th>1210</th>\n      <td>2016-03-25</td>\n      <td>100002</td>\n      <td>0</td>\n      <td>0</td>\n      <td>2015-10-27</td>\n      <td>1.227625e-05</td>\n      <td>0</td>\n      <td>1</td>\n      <td>2015-09-30</td>\n      <td>100002.0</td>\n      <td>TRAINING</td>\n      <td>27 days</td>\n      <td>27.0</td>\n      <td>0</td>\n      <td>0</td>\n      <td>0</td>\n      <td>0</td>\n      <td>1</td>\n      <td>TRUE_NEGATIVE</td>\n    </tr>\n    <tr>\n      <th>1211</th>\n      <td>2016-03-26</td>\n      <td>100002</td>\n      <td>0</td>\n      <td>0</td>\n      <td>2015-10-27</td>\n      <td>9.459928e-05</td>\n      <td>0</td>\n      <td>1</td>\n      <td>2015-09-30</td>\n      <td>100002.0</td>\n      <td>TRAINING</td>\n      <td>27 days</td>\n      <td>27.0</td>\n      <td>0</td>\n      <td>0</td>\n      <td>0</td>\n      <td>0</td>\n      <td>1</td>\n      <td>TRUE_NEGATIVE</td>\n    </tr>\n    <tr>\n      <th>1212</th>\n      <td>2016-03-27</td>\n      <td>100002</td>\n      <td>0</td>\n      <td>0</td>\n      <td>2015-10-27</td>\n      <td>5.634523e-05</td>\n      <td>0</td>\n      <td>1</td>\n      <td>2015-09-30</td>\n      <td>100002.0</td>\n      <td>TRAINING</td>\n      <td>27 days</td>\n      <td>27.0</td>\n      <td>0</td>\n      <td>0</td>\n      <td>0</td>\n      <td>0</td>\n      <td>1</td>\n      <td>TRUE_NEGATIVE</td>\n    </tr>\n    <tr>\n      <th>1213</th>\n      <td>2016-03-28</td>\n      <td>100002</td>\n      <td>0</td>\n      <td>0</td>\n      <td>2015-10-27</td>\n      <td>1.585201e-05</td>\n      <td>0</td>\n      <td>1</td>\n      <td>2015-09-30</td>\n      <td>100002.0</td>\n      <td>TRAINING</td>\n      <td>27 days</td>\n      <td>27.0</td>\n      <td>0</td>\n      <td>0</td>\n      <td>0</td>\n      <td>0</td>\n      <td>1</td>\n      <td>TRUE_NEGATIVE</td>\n    </tr>\n    <tr>\n      <th>1214</th>\n      <td>2016-03-29</td>\n      <td>100002</td>\n      <td>0</td>\n      <td>0</td>\n      <td>2015-10-27</td>\n      <td>1.427653e-05</td>\n      <td>0</td>\n      <td>1</td>\n      <td>2015-09-30</td>\n      <td>100002.0</td>\n      <td>TRAINING</td>\n      <td>27 days</td>\n      <td>27.0</td>\n      <td>0</td>\n      <td>0</td>\n      <td>0</td>\n      <td>0</td>\n      <td>1</td>\n      <td>TRUE_NEGATIVE</td>\n    </tr>\n    <tr>\n      <th>1215</th>\n      <td>2016-03-30</td>\n      <td>100002</td>\n      <td>0</td>\n      <td>0</td>\n      <td>2015-10-27</td>\n      <td>4.121523e-05</td>\n      <td>0</td>\n      <td>1</td>\n      <td>2015-09-30</td>\n      <td>100002.0</td>\n      <td>TRAINING</td>\n      <td>27 days</td>\n      <td>27.0</td>\n      <td>0</td>\n      <td>0</td>\n      <td>0</td>\n      <td>0</td>\n      <td>1</td>\n      <td>TRUE_NEGATIVE</td>\n    </tr>\n    <tr>\n      <th>1216</th>\n      <td>2016-03-31</td>\n      <td>100002</td>\n      <td>0</td>\n      <td>0</td>\n      <td>2015-10-27</td>\n      <td>3.861622e-05</td>\n      <td>0</td>\n      <td>1</td>\n      <td>2015-09-30</td>\n      <td>100002.0</td>\n      <td>TRAINING</td>\n      <td>27 days</td>\n      <td>27.0</td>\n      <td>0</td>\n      <td>0</td>\n      <td>0</td>\n      <td>0</td>\n      <td>1</td>\n      <td>TRUE_NEGATIVE</td>\n    </tr>\n    <tr>\n      <th>1217</th>\n      <td>2016-04-01</td>\n      <td>100002</td>\n      <td>0</td>\n      <td>0</td>\n      <td>2015-10-27</td>\n      <td>2.965583e-05</td>\n      <td>0</td>\n      <td>1</td>\n      <td>2015-09-30</td>\n      <td>100002.0</td>\n      <td>TRAINING</td>\n      <td>27 days</td>\n      <td>27.0</td>\n      <td>0</td>\n      <td>0</td>\n      <td>0</td>\n      <td>0</td>\n      <td>1</td>\n      <td>TRUE_NEGATIVE</td>\n    </tr>\n    <tr>\n      <th>1218</th>\n      <td>2016-04-02</td>\n      <td>100002</td>\n      <td>0</td>\n      <td>0</td>\n      <td>2015-10-27</td>\n      <td>1.480148e-05</td>\n      <td>0</td>\n      <td>1</td>\n      <td>2015-09-30</td>\n      <td>100002.0</td>\n      <td>TRAINING</td>\n      <td>27 days</td>\n      <td>27.0</td>\n      <td>0</td>\n      <td>0</td>\n      <td>0</td>\n      <td>0</td>\n      <td>1</td>\n      <td>TRUE_NEGATIVE</td>\n    </tr>\n    <tr>\n      <th>1219</th>\n      <td>2016-04-03</td>\n      <td>100002</td>\n      <td>0</td>\n      <td>0</td>\n      <td>2015-10-27</td>\n      <td>3.744531e-05</td>\n      <td>0</td>\n      <td>1</td>\n      <td>2015-09-30</td>\n      <td>100002.0</td>\n      <td>TRAINING</td>\n      <td>27 days</td>\n      <td>27.0</td>\n      <td>0</td>\n      <td>0</td>\n      <td>0</td>\n      <td>0</td>\n      <td>1</td>\n      <td>TRUE_NEGATIVE</td>\n    </tr>\n    <tr>\n      <th>1220</th>\n      <td>2016-04-04</td>\n      <td>100002</td>\n      <td>0</td>\n      <td>0</td>\n      <td>2015-10-27</td>\n      <td>1.529622e-04</td>\n      <td>0</td>\n      <td>1</td>\n      <td>2015-09-30</td>\n      <td>100002.0</td>\n      <td>TRAINING</td>\n      <td>27 days</td>\n      <td>27.0</td>\n      <td>0</td>\n      <td>0</td>\n      <td>0</td>\n      <td>0</td>\n      <td>1</td>\n      <td>TRUE_NEGATIVE</td>\n    </tr>\n    <tr>\n      <th>1221</th>\n      <td>2016-04-05</td>\n      <td>100002</td>\n      <td>0</td>\n      <td>0</td>\n      <td>2015-10-27</td>\n      <td>1.623038e-05</td>\n      <td>0</td>\n      <td>1</td>\n      <td>2015-09-30</td>\n      <td>100002.0</td>\n      <td>TRAINING</td>\n      <td>27 days</td>\n      <td>27.0</td>\n      <td>0</td>\n      <td>0</td>\n      <td>0</td>\n      <td>0</td>\n      <td>1</td>\n      <td>TRUE_NEGATIVE</td>\n    </tr>\n    <tr>\n      <th>1222</th>\n      <td>2016-04-06</td>\n      <td>100002</td>\n      <td>0</td>\n      <td>0</td>\n      <td>2015-10-27</td>\n      <td>2.188897e-04</td>\n      <td>0</td>\n      <td>1</td>\n      <td>2015-09-30</td>\n      <td>100002.0</td>\n      <td>TRAINING</td>\n      <td>27 days</td>\n      <td>27.0</td>\n      <td>0</td>\n      <td>0</td>\n      <td>0</td>\n      <td>0</td>\n      <td>1</td>\n      <td>TRUE_NEGATIVE</td>\n    </tr>\n    <tr>\n      <th>1223</th>\n      <td>2016-04-07</td>\n      <td>100002</td>\n      <td>0</td>\n      <td>0</td>\n      <td>2015-10-27</td>\n      <td>7.160935e-05</td>\n      <td>0</td>\n      <td>1</td>\n      <td>2015-09-30</td>\n      <td>100002.0</td>\n      <td>TRAINING</td>\n      <td>27 days</td>\n      <td>27.0</td>\n      <td>0</td>\n      <td>0</td>\n      <td>0</td>\n      <td>0</td>\n      <td>1</td>\n      <td>TRUE_NEGATIVE</td>\n    </tr>\n    <tr>\n      <th>1224</th>\n      <td>2016-04-08</td>\n      <td>100002</td>\n      <td>0</td>\n      <td>0</td>\n      <td>2015-10-27</td>\n      <td>3.171378e-05</td>\n      <td>0</td>\n      <td>1</td>\n      <td>2015-09-30</td>\n      <td>100002.0</td>\n      <td>TRAINING</td>\n      <td>27 days</td>\n      <td>27.0</td>\n      <td>0</td>\n      <td>0</td>\n      <td>0</td>\n      <td>0</td>\n      <td>1</td>\n      <td>TRUE_NEGATIVE</td>\n    </tr>\n    <tr>\n      <th>1225</th>\n      <td>2016-04-09</td>\n      <td>100002</td>\n      <td>0</td>\n      <td>0</td>\n      <td>2015-10-27</td>\n      <td>6.749131e-04</td>\n      <td>0</td>\n      <td>1</td>\n      <td>2015-09-30</td>\n      <td>100002.0</td>\n      <td>TRAINING</td>\n      <td>27 days</td>\n      <td>27.0</td>\n      <td>0</td>\n      <td>0</td>\n      <td>0</td>\n      <td>0</td>\n      <td>1</td>\n      <td>TRUE_NEGATIVE</td>\n    </tr>\n    <tr>\n      <th>1226</th>\n      <td>2016-04-10</td>\n      <td>100002</td>\n      <td>0</td>\n      <td>0</td>\n      <td>2015-10-27</td>\n      <td>2.315578e-03</td>\n      <td>0</td>\n      <td>1</td>\n      <td>2015-09-30</td>\n      <td>100002.0</td>\n      <td>TRAINING</td>\n      <td>27 days</td>\n      <td>27.0</td>\n      <td>0</td>\n      <td>0</td>\n      <td>0</td>\n      <td>0</td>\n      <td>1</td>\n      <td>TRUE_NEGATIVE</td>\n    </tr>\n    <tr>\n      <th>1227</th>\n      <td>2016-04-11</td>\n      <td>100002</td>\n      <td>0</td>\n      <td>0</td>\n      <td>2015-10-27</td>\n      <td>1.560340e-04</td>\n      <td>0</td>\n      <td>1</td>\n      <td>2015-09-30</td>\n      <td>100002.0</td>\n      <td>TRAINING</td>\n      <td>27 days</td>\n      <td>27.0</td>\n      <td>0</td>\n      <td>0</td>\n      <td>0</td>\n      <td>0</td>\n      <td>1</td>\n      <td>TRUE_NEGATIVE</td>\n    </tr>\n    <tr>\n      <th>1228</th>\n      <td>2016-04-12</td>\n      <td>100002</td>\n      <td>0</td>\n      <td>0</td>\n      <td>2015-10-27</td>\n      <td>3.763590e-04</td>\n      <td>0</td>\n      <td>1</td>\n      <td>2015-09-30</td>\n      <td>100002.0</td>\n      <td>TRAINING</td>\n      <td>27 days</td>\n      <td>27.0</td>\n      <td>0</td>\n      <td>0</td>\n      <td>0</td>\n      <td>0</td>\n      <td>1</td>\n      <td>TRUE_NEGATIVE</td>\n    </tr>\n    <tr>\n      <th>1229</th>\n      <td>2016-04-13</td>\n      <td>100002</td>\n      <td>0</td>\n      <td>0</td>\n      <td>2015-10-27</td>\n      <td>1.295889e-03</td>\n      <td>0</td>\n      <td>1</td>\n      <td>2015-09-30</td>\n      <td>100002.0</td>\n      <td>TRAINING</td>\n      <td>27 days</td>\n      <td>27.0</td>\n      <td>0</td>\n      <td>0</td>\n      <td>0</td>\n      <td>0</td>\n      <td>1</td>\n      <td>TRUE_NEGATIVE</td>\n    </tr>\n    <tr>\n      <th>1230</th>\n      <td>2016-04-14</td>\n      <td>100002</td>\n      <td>0</td>\n      <td>0</td>\n      <td>2015-10-27</td>\n      <td>1.775200e-04</td>\n      <td>0</td>\n      <td>1</td>\n      <td>2015-09-30</td>\n      <td>100002.0</td>\n      <td>TRAINING</td>\n      <td>27 days</td>\n      <td>27.0</td>\n      <td>0</td>\n      <td>0</td>\n      <td>0</td>\n      <td>0</td>\n      <td>1</td>\n      <td>TRUE_NEGATIVE</td>\n    </tr>\n    <tr>\n      <th>1231</th>\n      <td>2016-04-15</td>\n      <td>100002</td>\n      <td>0</td>\n      <td>0</td>\n      <td>2015-10-27</td>\n      <td>4.106375e-04</td>\n      <td>0</td>\n      <td>1</td>\n      <td>2015-09-30</td>\n      <td>100002.0</td>\n      <td>TRAINING</td>\n      <td>27 days</td>\n      <td>27.0</td>\n      <td>0</td>\n      <td>0</td>\n      <td>0</td>\n      <td>0</td>\n      <td>1</td>\n      <td>TRUE_NEGATIVE</td>\n    </tr>\n    <tr>\n      <th>1232</th>\n      <td>2016-04-16</td>\n      <td>100002</td>\n      <td>0</td>\n      <td>0</td>\n      <td>2015-10-27</td>\n      <td>6.502074e-04</td>\n      <td>0</td>\n      <td>1</td>\n      <td>2015-09-30</td>\n      <td>100002.0</td>\n      <td>TRAINING</td>\n      <td>27 days</td>\n      <td>27.0</td>\n      <td>0</td>\n      <td>0</td>\n      <td>0</td>\n      <td>0</td>\n      <td>1</td>\n      <td>TRUE_NEGATIVE</td>\n    </tr>\n    <tr>\n      <th>1233</th>\n      <td>2016-04-17</td>\n      <td>100002</td>\n      <td>0</td>\n      <td>0</td>\n      <td>2015-10-27</td>\n      <td>2.293304e-03</td>\n      <td>0</td>\n      <td>1</td>\n      <td>2015-09-30</td>\n      <td>100002.0</td>\n      <td>TRAINING</td>\n      <td>27 days</td>\n      <td>27.0</td>\n      <td>0</td>\n      <td>0</td>\n      <td>0</td>\n      <td>0</td>\n      <td>1</td>\n      <td>TRUE_NEGATIVE</td>\n    </tr>\n    <tr>\n      <th>1234</th>\n      <td>2016-04-18</td>\n      <td>100002</td>\n      <td>0</td>\n      <td>0</td>\n      <td>2015-10-27</td>\n      <td>2.949450e-04</td>\n      <td>0</td>\n      <td>1</td>\n      <td>2015-09-30</td>\n      <td>100002.0</td>\n      <td>TRAINING</td>\n      <td>27 days</td>\n      <td>27.0</td>\n      <td>0</td>\n      <td>0</td>\n      <td>0</td>\n      <td>0</td>\n      <td>1</td>\n      <td>TRUE_NEGATIVE</td>\n    </tr>\n    <tr>\n      <th>1235</th>\n      <td>2016-04-19</td>\n      <td>100002</td>\n      <td>0</td>\n      <td>0</td>\n      <td>2015-10-27</td>\n      <td>9.852777e-04</td>\n      <td>0</td>\n      <td>1</td>\n      <td>2015-09-30</td>\n      <td>100002.0</td>\n      <td>TRAINING</td>\n      <td>27 days</td>\n      <td>27.0</td>\n      <td>0</td>\n      <td>0</td>\n      <td>0</td>\n      <td>0</td>\n      <td>1</td>\n      <td>TRUE_NEGATIVE</td>\n    </tr>\n    <tr>\n      <th>1236</th>\n      <td>2016-04-20</td>\n      <td>100002</td>\n      <td>0</td>\n      <td>0</td>\n      <td>2015-10-27</td>\n      <td>3.524590e-03</td>\n      <td>0</td>\n      <td>1</td>\n      <td>2015-09-30</td>\n      <td>100002.0</td>\n      <td>TRAINING</td>\n      <td>27 days</td>\n      <td>27.0</td>\n      <td>0</td>\n      <td>0</td>\n      <td>0</td>\n      <td>0</td>\n      <td>1</td>\n      <td>TRUE_NEGATIVE</td>\n    </tr>\n    <tr>\n      <th>1237</th>\n      <td>2016-04-21</td>\n      <td>100002</td>\n      <td>0</td>\n      <td>0</td>\n      <td>2015-10-27</td>\n      <td>1.139253e-02</td>\n      <td>0</td>\n      <td>1</td>\n      <td>2015-09-30</td>\n      <td>100002.0</td>\n      <td>TRAINING</td>\n      <td>27 days</td>\n      <td>27.0</td>\n      <td>0</td>\n      <td>0</td>\n      <td>0</td>\n      <td>0</td>\n      <td>1</td>\n      <td>TRUE_NEGATIVE</td>\n    </tr>\n    <tr>\n      <th>1238</th>\n      <td>2016-04-22</td>\n      <td>100002</td>\n      <td>0</td>\n      <td>0</td>\n      <td>2015-10-27</td>\n      <td>8.732204e-04</td>\n      <td>0</td>\n      <td>1</td>\n      <td>2015-09-30</td>\n      <td>100002.0</td>\n      <td>TRAINING</td>\n      <td>27 days</td>\n      <td>27.0</td>\n      <td>0</td>\n      <td>0</td>\n      <td>0</td>\n      <td>0</td>\n      <td>1</td>\n      <td>TRUE_NEGATIVE</td>\n    </tr>\n    <tr>\n      <th>1239</th>\n      <td>2016-04-23</td>\n      <td>100002</td>\n      <td>0</td>\n      <td>0</td>\n      <td>2015-10-27</td>\n      <td>1.521145e-02</td>\n      <td>0</td>\n      <td>1</td>\n      <td>2015-09-30</td>\n      <td>100002.0</td>\n      <td>TRAINING</td>\n      <td>27 days</td>\n      <td>27.0</td>\n      <td>0</td>\n      <td>0</td>\n      <td>0</td>\n      <td>0</td>\n      <td>1</td>\n      <td>TRUE_NEGATIVE</td>\n    </tr>\n    <tr>\n      <th>1240</th>\n      <td>2016-04-24</td>\n      <td>100002</td>\n      <td>0</td>\n      <td>0</td>\n      <td>2015-10-27</td>\n      <td>1.435199e-03</td>\n      <td>0</td>\n      <td>1</td>\n      <td>2015-09-30</td>\n      <td>100002.0</td>\n      <td>TRAINING</td>\n      <td>27 days</td>\n      <td>27.0</td>\n      <td>0</td>\n      <td>0</td>\n      <td>0</td>\n      <td>0</td>\n      <td>1</td>\n      <td>TRUE_NEGATIVE</td>\n    </tr>\n    <tr>\n      <th>1241</th>\n      <td>2016-04-25</td>\n      <td>100002</td>\n      <td>0</td>\n      <td>0</td>\n      <td>2015-10-27</td>\n      <td>1.856023e-03</td>\n      <td>0</td>\n      <td>1</td>\n      <td>2015-09-30</td>\n      <td>100002.0</td>\n      <td>TRAINING</td>\n      <td>27 days</td>\n      <td>27.0</td>\n      <td>0</td>\n      <td>0</td>\n      <td>0</td>\n      <td>0</td>\n      <td>1</td>\n      <td>TRUE_NEGATIVE</td>\n    </tr>\n    <tr>\n      <th>1242</th>\n      <td>2016-04-26</td>\n      <td>100002</td>\n      <td>0</td>\n      <td>0</td>\n      <td>2015-10-27</td>\n      <td>1.275040e-04</td>\n      <td>0</td>\n      <td>1</td>\n      <td>2015-09-30</td>\n      <td>100002.0</td>\n      <td>TRAINING</td>\n      <td>27 days</td>\n      <td>27.0</td>\n      <td>0</td>\n      <td>0</td>\n      <td>0</td>\n      <td>0</td>\n      <td>1</td>\n      <td>TRUE_NEGATIVE</td>\n    </tr>\n    <tr>\n      <th>1243</th>\n      <td>2016-04-27</td>\n      <td>100002</td>\n      <td>0</td>\n      <td>0</td>\n      <td>2015-10-27</td>\n      <td>1.486229e-03</td>\n      <td>0</td>\n      <td>1</td>\n      <td>2015-09-30</td>\n      <td>100002.0</td>\n      <td>TRAINING</td>\n      <td>27 days</td>\n      <td>27.0</td>\n      <td>0</td>\n      <td>0</td>\n      <td>0</td>\n      <td>0</td>\n      <td>1</td>\n      <td>TRUE_NEGATIVE</td>\n    </tr>\n    <tr>\n      <th>1244</th>\n      <td>2016-04-28</td>\n      <td>100002</td>\n      <td>0</td>\n      <td>0</td>\n      <td>2015-10-27</td>\n      <td>2.589150e-04</td>\n      <td>0</td>\n      <td>1</td>\n      <td>2015-09-30</td>\n      <td>100002.0</td>\n      <td>TRAINING</td>\n      <td>27 days</td>\n      <td>27.0</td>\n      <td>0</td>\n      <td>0</td>\n      <td>0</td>\n      <td>0</td>\n      <td>1</td>\n      <td>TRUE_NEGATIVE</td>\n    </tr>\n    <tr>\n      <th>1245</th>\n      <td>2016-04-29</td>\n      <td>100002</td>\n      <td>0</td>\n      <td>0</td>\n      <td>2015-10-27</td>\n      <td>3.890746e-04</td>\n      <td>0</td>\n      <td>1</td>\n      <td>2015-09-30</td>\n      <td>100002.0</td>\n      <td>TRAINING</td>\n      <td>27 days</td>\n      <td>27.0</td>\n      <td>0</td>\n      <td>0</td>\n      <td>0</td>\n      <td>0</td>\n      <td>1</td>\n      <td>TRUE_NEGATIVE</td>\n    </tr>\n    <tr>\n      <th>1246</th>\n      <td>2016-04-30</td>\n      <td>100002</td>\n      <td>0</td>\n      <td>0</td>\n      <td>2015-10-27</td>\n      <td>7.023963e-04</td>\n      <td>0</td>\n      <td>1</td>\n      <td>2015-09-30</td>\n      <td>100002.0</td>\n      <td>TRAINING</td>\n      <td>27 days</td>\n      <td>27.0</td>\n      <td>0</td>\n      <td>0</td>\n      <td>0</td>\n      <td>0</td>\n      <td>1</td>\n      <td>TRUE_NEGATIVE</td>\n    </tr>\n    <tr>\n      <th>1247</th>\n      <td>2016-05-01</td>\n      <td>100002</td>\n      <td>0</td>\n      <td>0</td>\n      <td>2015-10-27</td>\n      <td>5.890754e-04</td>\n      <td>0</td>\n      <td>1</td>\n      <td>2015-09-30</td>\n      <td>100002.0</td>\n      <td>TRAINING</td>\n      <td>27 days</td>\n      <td>27.0</td>\n      <td>0</td>\n      <td>0</td>\n      <td>0</td>\n      <td>0</td>\n      <td>1</td>\n      <td>TRUE_NEGATIVE</td>\n    </tr>\n    <tr>\n      <th>1248</th>\n      <td>2016-05-02</td>\n      <td>100002</td>\n      <td>0</td>\n      <td>0</td>\n      <td>2015-10-27</td>\n      <td>2.787085e-04</td>\n      <td>0</td>\n      <td>1</td>\n      <td>2015-09-30</td>\n      <td>100002.0</td>\n      <td>TRAINING</td>\n      <td>27 days</td>\n      <td>27.0</td>\n      <td>0</td>\n      <td>0</td>\n      <td>0</td>\n      <td>0</td>\n      <td>1</td>\n      <td>TRUE_NEGATIVE</td>\n    </tr>\n    <tr>\n      <th>1249</th>\n      <td>2016-05-03</td>\n      <td>100002</td>\n      <td>0</td>\n      <td>0</td>\n      <td>2015-10-27</td>\n      <td>4.399923e-03</td>\n      <td>0</td>\n      <td>1</td>\n      <td>2015-09-30</td>\n      <td>100002.0</td>\n      <td>TRAINING</td>\n      <td>27 days</td>\n      <td>27.0</td>\n      <td>0</td>\n      <td>0</td>\n      <td>0</td>\n      <td>0</td>\n      <td>1</td>\n      <td>TRUE_NEGATIVE</td>\n    </tr>\n    <tr>\n      <th>1250</th>\n      <td>2016-05-04</td>\n      <td>100002</td>\n      <td>0</td>\n      <td>0</td>\n      <td>2015-10-27</td>\n      <td>4.616388e-05</td>\n      <td>0</td>\n      <td>1</td>\n      <td>2015-09-30</td>\n      <td>100002.0</td>\n      <td>TRAINING</td>\n      <td>27 days</td>\n      <td>27.0</td>\n      <td>0</td>\n      <td>0</td>\n      <td>0</td>\n      <td>0</td>\n      <td>1</td>\n      <td>TRUE_NEGATIVE</td>\n    </tr>\n    <tr>\n      <th>1251</th>\n      <td>2016-05-05</td>\n      <td>100002</td>\n      <td>0</td>\n      <td>0</td>\n      <td>2015-10-27</td>\n      <td>9.339114e-05</td>\n      <td>0</td>\n      <td>1</td>\n      <td>2015-09-30</td>\n      <td>100002.0</td>\n      <td>TRAINING</td>\n      <td>27 days</td>\n      <td>27.0</td>\n      <td>0</td>\n      <td>0</td>\n      <td>0</td>\n      <td>0</td>\n      <td>1</td>\n      <td>TRUE_NEGATIVE</td>\n    </tr>\n    <tr>\n      <th>1252</th>\n      <td>2016-05-06</td>\n      <td>100002</td>\n      <td>0</td>\n      <td>0</td>\n      <td>2015-10-27</td>\n      <td>2.974822e-04</td>\n      <td>0</td>\n      <td>1</td>\n      <td>2015-09-30</td>\n      <td>100002.0</td>\n      <td>TRAINING</td>\n      <td>27 days</td>\n      <td>27.0</td>\n      <td>0</td>\n      <td>0</td>\n      <td>0</td>\n      <td>0</td>\n      <td>1</td>\n      <td>TRUE_NEGATIVE</td>\n    </tr>\n    <tr>\n      <th>1253</th>\n      <td>2016-05-07</td>\n      <td>100002</td>\n      <td>0</td>\n      <td>0</td>\n      <td>2015-10-27</td>\n      <td>5.757076e-04</td>\n      <td>0</td>\n      <td>1</td>\n      <td>2015-09-30</td>\n      <td>100002.0</td>\n      <td>TRAINING</td>\n      <td>27 days</td>\n      <td>27.0</td>\n      <td>0</td>\n      <td>0</td>\n      <td>0</td>\n      <td>0</td>\n      <td>1</td>\n      <td>TRUE_NEGATIVE</td>\n    </tr>\n    <tr>\n      <th>1254</th>\n      <td>2016-05-08</td>\n      <td>100002</td>\n      <td>0</td>\n      <td>0</td>\n      <td>2015-10-27</td>\n      <td>1.808771e-03</td>\n      <td>0</td>\n      <td>1</td>\n      <td>2015-09-30</td>\n      <td>100002.0</td>\n      <td>TRAINING</td>\n      <td>27 days</td>\n      <td>27.0</td>\n      <td>0</td>\n      <td>0</td>\n      <td>0</td>\n      <td>0</td>\n      <td>1</td>\n      <td>TRUE_NEGATIVE</td>\n    </tr>\n    <tr>\n      <th>1255</th>\n      <td>2016-05-09</td>\n      <td>100002</td>\n      <td>0</td>\n      <td>0</td>\n      <td>2015-10-27</td>\n      <td>9.210440e-05</td>\n      <td>0</td>\n      <td>1</td>\n      <td>2015-09-30</td>\n      <td>100002.0</td>\n      <td>TRAINING</td>\n      <td>27 days</td>\n      <td>27.0</td>\n      <td>0</td>\n      <td>0</td>\n      <td>0</td>\n      <td>0</td>\n      <td>1</td>\n      <td>TRUE_NEGATIVE</td>\n    </tr>\n    <tr>\n      <th>1256</th>\n      <td>2016-05-10</td>\n      <td>100002</td>\n      <td>0</td>\n      <td>0</td>\n      <td>2015-10-27</td>\n      <td>5.573516e-05</td>\n      <td>0</td>\n      <td>1</td>\n      <td>2015-09-30</td>\n      <td>100002.0</td>\n      <td>TRAINING</td>\n      <td>27 days</td>\n      <td>27.0</td>\n      <td>0</td>\n      <td>0</td>\n      <td>0</td>\n      <td>0</td>\n      <td>1</td>\n      <td>TRUE_NEGATIVE</td>\n    </tr>\n    <tr>\n      <th>1257</th>\n      <td>2016-05-11</td>\n      <td>100002</td>\n      <td>0</td>\n      <td>0</td>\n      <td>2015-10-27</td>\n      <td>7.170612e-04</td>\n      <td>0</td>\n      <td>1</td>\n      <td>2015-09-30</td>\n      <td>100002.0</td>\n      <td>TRAINING</td>\n      <td>27 days</td>\n      <td>27.0</td>\n      <td>0</td>\n      <td>0</td>\n      <td>0</td>\n      <td>0</td>\n      <td>1</td>\n      <td>TRUE_NEGATIVE</td>\n    </tr>\n    <tr>\n      <th>1258</th>\n      <td>2016-05-12</td>\n      <td>100002</td>\n      <td>0</td>\n      <td>0</td>\n      <td>2015-10-27</td>\n      <td>7.568565e-03</td>\n      <td>0</td>\n      <td>1</td>\n      <td>2015-09-30</td>\n      <td>100002.0</td>\n      <td>TRAINING</td>\n      <td>27 days</td>\n      <td>27.0</td>\n      <td>0</td>\n      <td>0</td>\n      <td>0</td>\n      <td>0</td>\n      <td>1</td>\n      <td>TRUE_NEGATIVE</td>\n    </tr>\n    <tr>\n      <th>1259</th>\n      <td>2016-05-13</td>\n      <td>100002</td>\n      <td>0</td>\n      <td>0</td>\n      <td>2015-10-27</td>\n      <td>9.288879e-04</td>\n      <td>0</td>\n      <td>1</td>\n      <td>2015-09-30</td>\n      <td>100002.0</td>\n      <td>TRAINING</td>\n      <td>27 days</td>\n      <td>27.0</td>\n      <td>0</td>\n      <td>0</td>\n      <td>0</td>\n      <td>0</td>\n      <td>1</td>\n      <td>TRUE_NEGATIVE</td>\n    </tr>\n    <tr>\n      <th>1260</th>\n      <td>2016-05-14</td>\n      <td>100002</td>\n      <td>0</td>\n      <td>0</td>\n      <td>2015-10-27</td>\n      <td>2.537262e-03</td>\n      <td>0</td>\n      <td>1</td>\n      <td>2015-09-30</td>\n      <td>100002.0</td>\n      <td>TRAINING</td>\n      <td>27 days</td>\n      <td>27.0</td>\n      <td>0</td>\n      <td>0</td>\n      <td>0</td>\n      <td>0</td>\n      <td>1</td>\n      <td>TRUE_NEGATIVE</td>\n    </tr>\n    <tr>\n      <th>1261</th>\n      <td>2016-05-15</td>\n      <td>100002</td>\n      <td>0</td>\n      <td>0</td>\n      <td>2015-10-27</td>\n      <td>5.006181e-03</td>\n      <td>0</td>\n      <td>1</td>\n      <td>2015-09-30</td>\n      <td>100002.0</td>\n      <td>TRAINING</td>\n      <td>27 days</td>\n      <td>27.0</td>\n      <td>0</td>\n      <td>0</td>\n      <td>0</td>\n      <td>0</td>\n      <td>1</td>\n      <td>TRUE_NEGATIVE</td>\n    </tr>\n    <tr>\n      <th>1262</th>\n      <td>2016-05-16</td>\n      <td>100002</td>\n      <td>0</td>\n      <td>0</td>\n      <td>2015-10-27</td>\n      <td>9.099803e-03</td>\n      <td>0</td>\n      <td>1</td>\n      <td>2015-09-30</td>\n      <td>100002.0</td>\n      <td>TRAINING</td>\n      <td>27 days</td>\n      <td>27.0</td>\n      <td>0</td>\n      <td>0</td>\n      <td>0</td>\n      <td>0</td>\n      <td>1</td>\n      <td>TRUE_NEGATIVE</td>\n    </tr>\n    <tr>\n      <th>1263</th>\n      <td>2016-05-17</td>\n      <td>100002</td>\n      <td>0</td>\n      <td>0</td>\n      <td>2015-10-27</td>\n      <td>1.815825e-03</td>\n      <td>0</td>\n      <td>1</td>\n      <td>2015-09-30</td>\n      <td>100002.0</td>\n      <td>TRAINING</td>\n      <td>27 days</td>\n      <td>27.0</td>\n      <td>0</td>\n      <td>0</td>\n      <td>0</td>\n      <td>0</td>\n      <td>1</td>\n      <td>TRUE_NEGATIVE</td>\n    </tr>\n    <tr>\n      <th>1264</th>\n      <td>2016-05-18</td>\n      <td>100002</td>\n      <td>0</td>\n      <td>0</td>\n      <td>2015-10-27</td>\n      <td>3.315677e-03</td>\n      <td>0</td>\n      <td>1</td>\n      <td>2015-09-30</td>\n      <td>100002.0</td>\n      <td>TRAINING</td>\n      <td>27 days</td>\n      <td>27.0</td>\n      <td>0</td>\n      <td>0</td>\n      <td>0</td>\n      <td>0</td>\n      <td>1</td>\n      <td>TRUE_NEGATIVE</td>\n    </tr>\n    <tr>\n      <th>1265</th>\n      <td>2016-05-19</td>\n      <td>100002</td>\n      <td>0</td>\n      <td>0</td>\n      <td>2015-10-27</td>\n      <td>1.332034e-04</td>\n      <td>0</td>\n      <td>1</td>\n      <td>2015-09-30</td>\n      <td>100002.0</td>\n      <td>TRAINING</td>\n      <td>27 days</td>\n      <td>27.0</td>\n      <td>0</td>\n      <td>0</td>\n      <td>0</td>\n      <td>0</td>\n      <td>1</td>\n      <td>TRUE_NEGATIVE</td>\n    </tr>\n    <tr>\n      <th>1266</th>\n      <td>2016-05-20</td>\n      <td>100002</td>\n      <td>0</td>\n      <td>0</td>\n      <td>2015-10-27</td>\n      <td>6.340520e-05</td>\n      <td>0</td>\n      <td>1</td>\n      <td>2015-09-30</td>\n      <td>100002.0</td>\n      <td>TRAINING</td>\n      <td>27 days</td>\n      <td>27.0</td>\n      <td>0</td>\n      <td>0</td>\n      <td>0</td>\n      <td>0</td>\n      <td>1</td>\n      <td>TRUE_NEGATIVE</td>\n    </tr>\n    <tr>\n      <th>1267</th>\n      <td>2016-05-21</td>\n      <td>100002</td>\n      <td>0</td>\n      <td>0</td>\n      <td>2015-10-27</td>\n      <td>3.002085e-04</td>\n      <td>0</td>\n      <td>1</td>\n      <td>2015-09-30</td>\n      <td>100002.0</td>\n      <td>TRAINING</td>\n      <td>27 days</td>\n      <td>27.0</td>\n      <td>0</td>\n      <td>0</td>\n      <td>0</td>\n      <td>0</td>\n      <td>1</td>\n      <td>TRUE_NEGATIVE</td>\n    </tr>\n    <tr>\n      <th>1268</th>\n      <td>2016-05-22</td>\n      <td>100002</td>\n      <td>0</td>\n      <td>0</td>\n      <td>2015-10-27</td>\n      <td>7.113700e-05</td>\n      <td>0</td>\n      <td>1</td>\n      <td>2015-09-30</td>\n      <td>100002.0</td>\n      <td>TRAINING</td>\n      <td>27 days</td>\n      <td>27.0</td>\n      <td>0</td>\n      <td>0</td>\n      <td>0</td>\n      <td>0</td>\n      <td>1</td>\n      <td>TRUE_NEGATIVE</td>\n    </tr>\n    <tr>\n      <th>1269</th>\n      <td>2016-05-23</td>\n      <td>100002</td>\n      <td>0</td>\n      <td>0</td>\n      <td>2015-10-27</td>\n      <td>7.999659e-04</td>\n      <td>0</td>\n      <td>1</td>\n      <td>2015-09-30</td>\n      <td>100002.0</td>\n      <td>TRAINING</td>\n      <td>27 days</td>\n      <td>27.0</td>\n      <td>0</td>\n      <td>0</td>\n      <td>0</td>\n      <td>0</td>\n      <td>1</td>\n      <td>TRUE_NEGATIVE</td>\n    </tr>\n    <tr>\n      <th>1270</th>\n      <td>2016-05-24</td>\n      <td>100002</td>\n      <td>0</td>\n      <td>0</td>\n      <td>2015-10-27</td>\n      <td>5.679130e-05</td>\n      <td>0</td>\n      <td>1</td>\n      <td>2015-09-30</td>\n      <td>100002.0</td>\n      <td>TRAINING</td>\n      <td>27 days</td>\n      <td>27.0</td>\n      <td>0</td>\n      <td>0</td>\n      <td>0</td>\n      <td>0</td>\n      <td>1</td>\n      <td>TRUE_NEGATIVE</td>\n    </tr>\n    <tr>\n      <th>1271</th>\n      <td>2016-05-25</td>\n      <td>100002</td>\n      <td>0</td>\n      <td>0</td>\n      <td>2015-10-27</td>\n      <td>8.865826e-04</td>\n      <td>0</td>\n      <td>1</td>\n      <td>2015-09-30</td>\n      <td>100002.0</td>\n      <td>TRAINING</td>\n      <td>27 days</td>\n      <td>27.0</td>\n      <td>0</td>\n      <td>0</td>\n      <td>0</td>\n      <td>0</td>\n      <td>1</td>\n      <td>TRUE_NEGATIVE</td>\n    </tr>\n    <tr>\n      <th>1272</th>\n      <td>2016-05-26</td>\n      <td>100002</td>\n      <td>0</td>\n      <td>0</td>\n      <td>2015-10-27</td>\n      <td>1.378339e-05</td>\n      <td>0</td>\n      <td>1</td>\n      <td>2015-09-30</td>\n      <td>100002.0</td>\n      <td>TRAINING</td>\n      <td>27 days</td>\n      <td>27.0</td>\n      <td>0</td>\n      <td>0</td>\n      <td>0</td>\n      <td>0</td>\n      <td>1</td>\n      <td>TRUE_NEGATIVE</td>\n    </tr>\n    <tr>\n      <th>1273</th>\n      <td>2016-05-27</td>\n      <td>100002</td>\n      <td>0</td>\n      <td>0</td>\n      <td>2015-10-27</td>\n      <td>1.099517e-04</td>\n      <td>0</td>\n      <td>1</td>\n      <td>2015-09-30</td>\n      <td>100002.0</td>\n      <td>TRAINING</td>\n      <td>27 days</td>\n      <td>27.0</td>\n      <td>0</td>\n      <td>0</td>\n      <td>0</td>\n      <td>0</td>\n      <td>1</td>\n      <td>TRUE_NEGATIVE</td>\n    </tr>\n    <tr>\n      <th>1274</th>\n      <td>2016-05-28</td>\n      <td>100002</td>\n      <td>0</td>\n      <td>0</td>\n      <td>2015-10-27</td>\n      <td>1.073093e-05</td>\n      <td>0</td>\n      <td>1</td>\n      <td>2015-09-30</td>\n      <td>100002.0</td>\n      <td>TRAINING</td>\n      <td>27 days</td>\n      <td>27.0</td>\n      <td>0</td>\n      <td>0</td>\n      <td>0</td>\n      <td>0</td>\n      <td>1</td>\n      <td>TRUE_NEGATIVE</td>\n    </tr>\n    <tr>\n      <th>1275</th>\n      <td>2016-05-29</td>\n      <td>100002</td>\n      <td>0</td>\n      <td>0</td>\n      <td>2015-10-27</td>\n      <td>9.348513e-05</td>\n      <td>0</td>\n      <td>1</td>\n      <td>2015-09-30</td>\n      <td>100002.0</td>\n      <td>TRAINING</td>\n      <td>27 days</td>\n      <td>27.0</td>\n      <td>0</td>\n      <td>0</td>\n      <td>0</td>\n      <td>0</td>\n      <td>1</td>\n      <td>TRUE_NEGATIVE</td>\n    </tr>\n    <tr>\n      <th>1276</th>\n      <td>2016-05-30</td>\n      <td>100002</td>\n      <td>0</td>\n      <td>0</td>\n      <td>2015-10-27</td>\n      <td>4.951566e-04</td>\n      <td>0</td>\n      <td>1</td>\n      <td>2015-09-30</td>\n      <td>100002.0</td>\n      <td>TRAINING</td>\n      <td>27 days</td>\n      <td>27.0</td>\n      <td>0</td>\n      <td>0</td>\n      <td>0</td>\n      <td>0</td>\n      <td>1</td>\n      <td>TRUE_NEGATIVE</td>\n    </tr>\n    <tr>\n      <th>1277</th>\n      <td>2016-05-31</td>\n      <td>100002</td>\n      <td>0</td>\n      <td>0</td>\n      <td>2015-10-27</td>\n      <td>1.678691e-05</td>\n      <td>0</td>\n      <td>1</td>\n      <td>2015-09-30</td>\n      <td>100002.0</td>\n      <td>TRAINING</td>\n      <td>27 days</td>\n      <td>27.0</td>\n      <td>0</td>\n      <td>0</td>\n      <td>0</td>\n      <td>0</td>\n      <td>1</td>\n      <td>TRUE_NEGATIVE</td>\n    </tr>\n    <tr>\n      <th>1278</th>\n      <td>2016-06-01</td>\n      <td>100002</td>\n      <td>0</td>\n      <td>0</td>\n      <td>2015-10-27</td>\n      <td>9.607512e-06</td>\n      <td>0</td>\n      <td>1</td>\n      <td>2015-09-30</td>\n      <td>100002.0</td>\n      <td>TRAINING</td>\n      <td>27 days</td>\n      <td>27.0</td>\n      <td>0</td>\n      <td>0</td>\n      <td>0</td>\n      <td>0</td>\n      <td>1</td>\n      <td>TRUE_NEGATIVE</td>\n    </tr>\n    <tr>\n      <th>1279</th>\n      <td>2016-06-02</td>\n      <td>100002</td>\n      <td>0</td>\n      <td>0</td>\n      <td>2015-10-27</td>\n      <td>1.386983e-05</td>\n      <td>0</td>\n      <td>1</td>\n      <td>2015-09-30</td>\n      <td>100002.0</td>\n      <td>TRAINING</td>\n      <td>27 days</td>\n      <td>27.0</td>\n      <td>0</td>\n      <td>0</td>\n      <td>0</td>\n      <td>0</td>\n      <td>1</td>\n      <td>TRUE_NEGATIVE</td>\n    </tr>\n    <tr>\n      <th>1280</th>\n      <td>2016-06-03</td>\n      <td>100002</td>\n      <td>0</td>\n      <td>0</td>\n      <td>2015-10-27</td>\n      <td>1.263821e-05</td>\n      <td>0</td>\n      <td>1</td>\n      <td>2015-09-30</td>\n      <td>100002.0</td>\n      <td>TRAINING</td>\n      <td>27 days</td>\n      <td>27.0</td>\n      <td>0</td>\n      <td>0</td>\n      <td>0</td>\n      <td>0</td>\n      <td>1</td>\n      <td>TRUE_NEGATIVE</td>\n    </tr>\n    <tr>\n      <th>1281</th>\n      <td>2016-06-04</td>\n      <td>100002</td>\n      <td>0</td>\n      <td>0</td>\n      <td>2015-10-27</td>\n      <td>4.830302e-06</td>\n      <td>0</td>\n      <td>1</td>\n      <td>2015-09-30</td>\n      <td>100002.0</td>\n      <td>TRAINING</td>\n      <td>27 days</td>\n      <td>27.0</td>\n      <td>0</td>\n      <td>0</td>\n      <td>0</td>\n      <td>0</td>\n      <td>1</td>\n      <td>TRUE_NEGATIVE</td>\n    </tr>\n    <tr>\n      <th>1282</th>\n      <td>2016-06-05</td>\n      <td>100002</td>\n      <td>0</td>\n      <td>0</td>\n      <td>2015-10-27</td>\n      <td>3.307942e-04</td>\n      <td>0</td>\n      <td>1</td>\n      <td>2015-09-30</td>\n      <td>100002.0</td>\n      <td>TRAINING</td>\n      <td>27 days</td>\n      <td>27.0</td>\n      <td>0</td>\n      <td>0</td>\n      <td>0</td>\n      <td>0</td>\n      <td>1</td>\n      <td>TRUE_NEGATIVE</td>\n    </tr>\n    <tr>\n      <th>1283</th>\n      <td>2016-06-06</td>\n      <td>100002</td>\n      <td>0</td>\n      <td>0</td>\n      <td>2015-10-27</td>\n      <td>4.812501e-03</td>\n      <td>0</td>\n      <td>1</td>\n      <td>2015-09-30</td>\n      <td>100002.0</td>\n      <td>TRAINING</td>\n      <td>27 days</td>\n      <td>27.0</td>\n      <td>0</td>\n      <td>0</td>\n      <td>0</td>\n      <td>0</td>\n      <td>1</td>\n      <td>TRUE_NEGATIVE</td>\n    </tr>\n    <tr>\n      <th>1284</th>\n      <td>2016-06-07</td>\n      <td>100002</td>\n      <td>0</td>\n      <td>0</td>\n      <td>2015-10-27</td>\n      <td>1.688743e-03</td>\n      <td>0</td>\n      <td>1</td>\n      <td>2015-09-30</td>\n      <td>100002.0</td>\n      <td>TRAINING</td>\n      <td>27 days</td>\n      <td>27.0</td>\n      <td>0</td>\n      <td>0</td>\n      <td>0</td>\n      <td>0</td>\n      <td>1</td>\n      <td>TRUE_NEGATIVE</td>\n    </tr>\n    <tr>\n      <th>1285</th>\n      <td>2016-06-08</td>\n      <td>100002</td>\n      <td>0</td>\n      <td>0</td>\n      <td>2015-10-27</td>\n      <td>3.324596e-03</td>\n      <td>0</td>\n      <td>1</td>\n      <td>2015-09-30</td>\n      <td>100002.0</td>\n      <td>TRAINING</td>\n      <td>27 days</td>\n      <td>27.0</td>\n      <td>0</td>\n      <td>0</td>\n      <td>0</td>\n      <td>0</td>\n      <td>1</td>\n      <td>TRUE_NEGATIVE</td>\n    </tr>\n    <tr>\n      <th>1286</th>\n      <td>2016-06-09</td>\n      <td>100002</td>\n      <td>0</td>\n      <td>0</td>\n      <td>2015-10-27</td>\n      <td>3.889148e-04</td>\n      <td>0</td>\n      <td>1</td>\n      <td>2015-09-30</td>\n      <td>100002.0</td>\n      <td>TRAINING</td>\n      <td>27 days</td>\n      <td>27.0</td>\n      <td>0</td>\n      <td>0</td>\n      <td>0</td>\n      <td>0</td>\n      <td>1</td>\n      <td>TRUE_NEGATIVE</td>\n    </tr>\n    <tr>\n      <th>1287</th>\n      <td>2016-06-10</td>\n      <td>100002</td>\n      <td>0</td>\n      <td>0</td>\n      <td>2015-10-27</td>\n      <td>3.569436e-04</td>\n      <td>0</td>\n      <td>1</td>\n      <td>2015-09-30</td>\n      <td>100002.0</td>\n      <td>TRAINING</td>\n      <td>27 days</td>\n      <td>27.0</td>\n      <td>0</td>\n      <td>0</td>\n      <td>0</td>\n      <td>0</td>\n      <td>1</td>\n      <td>TRUE_NEGATIVE</td>\n    </tr>\n    <tr>\n      <th>1288</th>\n      <td>2016-06-11</td>\n      <td>100002</td>\n      <td>0</td>\n      <td>0</td>\n      <td>2015-10-27</td>\n      <td>2.331882e-05</td>\n      <td>0</td>\n      <td>1</td>\n      <td>2015-09-30</td>\n      <td>100002.0</td>\n      <td>TRAINING</td>\n      <td>27 days</td>\n      <td>27.0</td>\n      <td>0</td>\n      <td>0</td>\n      <td>0</td>\n      <td>0</td>\n      <td>1</td>\n      <td>TRUE_NEGATIVE</td>\n    </tr>\n    <tr>\n      <th>1289</th>\n      <td>2016-06-12</td>\n      <td>100002</td>\n      <td>0</td>\n      <td>0</td>\n      <td>2015-10-27</td>\n      <td>6.526517e-05</td>\n      <td>0</td>\n      <td>1</td>\n      <td>2015-09-30</td>\n      <td>100002.0</td>\n      <td>TRAINING</td>\n      <td>27 days</td>\n      <td>27.0</td>\n      <td>0</td>\n      <td>0</td>\n      <td>0</td>\n      <td>0</td>\n      <td>1</td>\n      <td>TRUE_NEGATIVE</td>\n    </tr>\n    <tr>\n      <th>1290</th>\n      <td>2016-06-13</td>\n      <td>100002</td>\n      <td>0</td>\n      <td>0</td>\n      <td>2015-10-27</td>\n      <td>2.606191e-06</td>\n      <td>0</td>\n      <td>1</td>\n      <td>2015-09-30</td>\n      <td>100002.0</td>\n      <td>TRAINING</td>\n      <td>27 days</td>\n      <td>27.0</td>\n      <td>0</td>\n      <td>0</td>\n      <td>0</td>\n      <td>0</td>\n      <td>1</td>\n      <td>TRUE_NEGATIVE</td>\n    </tr>\n    <tr>\n      <th>1291</th>\n      <td>2016-06-14</td>\n      <td>100002</td>\n      <td>0</td>\n      <td>0</td>\n      <td>2015-10-27</td>\n      <td>3.989005e-06</td>\n      <td>0</td>\n      <td>1</td>\n      <td>2015-09-30</td>\n      <td>100002.0</td>\n      <td>TRAINING</td>\n      <td>27 days</td>\n      <td>27.0</td>\n      <td>0</td>\n      <td>0</td>\n      <td>0</td>\n      <td>0</td>\n      <td>1</td>\n      <td>TRUE_NEGATIVE</td>\n    </tr>\n    <tr>\n      <th>1292</th>\n      <td>2016-06-15</td>\n      <td>100002</td>\n      <td>0</td>\n      <td>0</td>\n      <td>2015-10-27</td>\n      <td>5.880957e-06</td>\n      <td>0</td>\n      <td>1</td>\n      <td>2015-09-30</td>\n      <td>100002.0</td>\n      <td>TRAINING</td>\n      <td>27 days</td>\n      <td>27.0</td>\n      <td>0</td>\n      <td>0</td>\n      <td>0</td>\n      <td>0</td>\n      <td>1</td>\n      <td>TRUE_NEGATIVE</td>\n    </tr>\n    <tr>\n      <th>1293</th>\n      <td>2016-06-16</td>\n      <td>100002</td>\n      <td>0</td>\n      <td>0</td>\n      <td>2015-10-27</td>\n      <td>2.433692e-06</td>\n      <td>0</td>\n      <td>1</td>\n      <td>2015-09-30</td>\n      <td>100002.0</td>\n      <td>TRAINING</td>\n      <td>27 days</td>\n      <td>27.0</td>\n      <td>0</td>\n      <td>0</td>\n      <td>0</td>\n      <td>0</td>\n      <td>1</td>\n      <td>TRUE_NEGATIVE</td>\n    </tr>\n    <tr>\n      <th>1294</th>\n      <td>2016-06-17</td>\n      <td>100002</td>\n      <td>0</td>\n      <td>0</td>\n      <td>2015-10-27</td>\n      <td>1.310065e-06</td>\n      <td>0</td>\n      <td>1</td>\n      <td>2015-09-30</td>\n      <td>100002.0</td>\n      <td>TRAINING</td>\n      <td>27 days</td>\n      <td>27.0</td>\n      <td>0</td>\n      <td>0</td>\n      <td>0</td>\n      <td>0</td>\n      <td>1</td>\n      <td>TRUE_NEGATIVE</td>\n    </tr>\n    <tr>\n      <th>1295</th>\n      <td>2016-06-18</td>\n      <td>100002</td>\n      <td>0</td>\n      <td>0</td>\n      <td>2015-10-27</td>\n      <td>1.051402e-05</td>\n      <td>0</td>\n      <td>1</td>\n      <td>2015-09-30</td>\n      <td>100002.0</td>\n      <td>TRAINING</td>\n      <td>27 days</td>\n      <td>27.0</td>\n      <td>0</td>\n      <td>0</td>\n      <td>0</td>\n      <td>0</td>\n      <td>1</td>\n      <td>TRUE_NEGATIVE</td>\n    </tr>\n    <tr>\n      <th>1296</th>\n      <td>2016-06-19</td>\n      <td>100002</td>\n      <td>0</td>\n      <td>0</td>\n      <td>2015-10-27</td>\n      <td>1.734359e-06</td>\n      <td>0</td>\n      <td>1</td>\n      <td>2015-09-30</td>\n      <td>100002.0</td>\n      <td>TRAINING</td>\n      <td>27 days</td>\n      <td>27.0</td>\n      <td>0</td>\n      <td>0</td>\n      <td>0</td>\n      <td>0</td>\n      <td>1</td>\n      <td>TRUE_NEGATIVE</td>\n    </tr>\n    <tr>\n      <th>1297</th>\n      <td>2016-06-20</td>\n      <td>100002</td>\n      <td>0</td>\n      <td>0</td>\n      <td>2015-10-27</td>\n      <td>4.569721e-06</td>\n      <td>0</td>\n      <td>1</td>\n      <td>2015-09-30</td>\n      <td>100002.0</td>\n      <td>TRAINING</td>\n      <td>27 days</td>\n      <td>27.0</td>\n      <td>0</td>\n      <td>0</td>\n      <td>0</td>\n      <td>0</td>\n      <td>1</td>\n      <td>TRUE_NEGATIVE</td>\n    </tr>\n    <tr>\n      <th>1298</th>\n      <td>2016-06-21</td>\n      <td>100002</td>\n      <td>0</td>\n      <td>0</td>\n      <td>2015-10-27</td>\n      <td>2.740542e-06</td>\n      <td>0</td>\n      <td>1</td>\n      <td>2015-09-30</td>\n      <td>100002.0</td>\n      <td>TRAINING</td>\n      <td>27 days</td>\n      <td>27.0</td>\n      <td>0</td>\n      <td>0</td>\n      <td>0</td>\n      <td>0</td>\n      <td>1</td>\n      <td>TRUE_NEGATIVE</td>\n    </tr>\n    <tr>\n      <th>1299</th>\n      <td>2016-06-22</td>\n      <td>100002</td>\n      <td>0</td>\n      <td>0</td>\n      <td>2015-10-27</td>\n      <td>1.343559e-05</td>\n      <td>0</td>\n      <td>1</td>\n      <td>2015-09-30</td>\n      <td>100002.0</td>\n      <td>TRAINING</td>\n      <td>27 days</td>\n      <td>27.0</td>\n      <td>0</td>\n      <td>0</td>\n      <td>0</td>\n      <td>0</td>\n      <td>1</td>\n      <td>TRUE_NEGATIVE</td>\n    </tr>\n    <tr>\n      <th>1300</th>\n      <td>2016-06-23</td>\n      <td>100002</td>\n      <td>0</td>\n      <td>0</td>\n      <td>2015-10-27</td>\n      <td>7.921598e-06</td>\n      <td>0</td>\n      <td>1</td>\n      <td>2015-09-30</td>\n      <td>100002.0</td>\n      <td>TRAINING</td>\n      <td>27 days</td>\n      <td>27.0</td>\n      <td>0</td>\n      <td>0</td>\n      <td>0</td>\n      <td>0</td>\n      <td>1</td>\n      <td>TRUE_NEGATIVE</td>\n    </tr>\n    <tr>\n      <th>1301</th>\n      <td>2016-06-24</td>\n      <td>100002</td>\n      <td>0</td>\n      <td>0</td>\n      <td>2015-10-27</td>\n      <td>1.427573e-06</td>\n      <td>0</td>\n      <td>1</td>\n      <td>2015-09-30</td>\n      <td>100002.0</td>\n      <td>TRAINING</td>\n      <td>27 days</td>\n      <td>27.0</td>\n      <td>0</td>\n      <td>0</td>\n      <td>0</td>\n      <td>0</td>\n      <td>1</td>\n      <td>TRUE_NEGATIVE</td>\n    </tr>\n    <tr>\n      <th>1302</th>\n      <td>2016-06-25</td>\n      <td>100002</td>\n      <td>0</td>\n      <td>0</td>\n      <td>2015-10-27</td>\n      <td>2.522442e-06</td>\n      <td>0</td>\n      <td>1</td>\n      <td>2015-09-30</td>\n      <td>100002.0</td>\n      <td>TRAINING</td>\n      <td>27 days</td>\n      <td>27.0</td>\n      <td>0</td>\n      <td>0</td>\n      <td>0</td>\n      <td>0</td>\n      <td>1</td>\n      <td>TRUE_NEGATIVE</td>\n    </tr>\n    <tr>\n      <th>1303</th>\n      <td>2016-06-26</td>\n      <td>100002</td>\n      <td>0</td>\n      <td>0</td>\n      <td>2015-10-27</td>\n      <td>5.050178e-06</td>\n      <td>0</td>\n      <td>1</td>\n      <td>2015-09-30</td>\n      <td>100002.0</td>\n      <td>TRAINING</td>\n      <td>27 days</td>\n      <td>27.0</td>\n      <td>0</td>\n      <td>0</td>\n      <td>0</td>\n      <td>0</td>\n      <td>1</td>\n      <td>TRUE_NEGATIVE</td>\n    </tr>\n    <tr>\n      <th>1304</th>\n      <td>2016-06-27</td>\n      <td>100002</td>\n      <td>0</td>\n      <td>0</td>\n      <td>2015-10-27</td>\n      <td>7.796829e-07</td>\n      <td>0</td>\n      <td>1</td>\n      <td>2015-09-30</td>\n      <td>100002.0</td>\n      <td>TRAINING</td>\n      <td>27 days</td>\n      <td>27.0</td>\n      <td>0</td>\n      <td>0</td>\n      <td>0</td>\n      <td>0</td>\n      <td>1</td>\n      <td>TRUE_NEGATIVE</td>\n    </tr>\n    <tr>\n      <th>1305</th>\n      <td>2016-06-28</td>\n      <td>100002</td>\n      <td>0</td>\n      <td>0</td>\n      <td>2015-10-27</td>\n      <td>4.303823e-04</td>\n      <td>0</td>\n      <td>1</td>\n      <td>2015-09-30</td>\n      <td>100002.0</td>\n      <td>TRAINING</td>\n      <td>27 days</td>\n      <td>27.0</td>\n      <td>0</td>\n      <td>0</td>\n      <td>0</td>\n      <td>0</td>\n      <td>1</td>\n      <td>TRUE_NEGATIVE</td>\n    </tr>\n    <tr>\n      <th>1306</th>\n      <td>2016-06-29</td>\n      <td>100002</td>\n      <td>0</td>\n      <td>0</td>\n      <td>2015-10-27</td>\n      <td>1.386973e-06</td>\n      <td>0</td>\n      <td>1</td>\n      <td>2015-09-30</td>\n      <td>100002.0</td>\n      <td>TRAINING</td>\n      <td>27 days</td>\n      <td>27.0</td>\n      <td>0</td>\n      <td>0</td>\n      <td>0</td>\n      <td>0</td>\n      <td>1</td>\n      <td>TRUE_NEGATIVE</td>\n    </tr>\n    <tr>\n      <th>1307</th>\n      <td>2016-06-30</td>\n      <td>100002</td>\n      <td>0</td>\n      <td>0</td>\n      <td>2015-10-27</td>\n      <td>1.562174e-05</td>\n      <td>0</td>\n      <td>1</td>\n      <td>2015-09-30</td>\n      <td>100002.0</td>\n      <td>TRAINING</td>\n      <td>27 days</td>\n      <td>27.0</td>\n      <td>0</td>\n      <td>0</td>\n      <td>0</td>\n      <td>0</td>\n      <td>1</td>\n      <td>TRUE_NEGATIVE</td>\n    </tr>\n    <tr>\n      <th>1308</th>\n      <td>2016-07-01</td>\n      <td>100002</td>\n      <td>0</td>\n      <td>0</td>\n      <td>2015-10-27</td>\n      <td>2.771292e-07</td>\n      <td>0</td>\n      <td>1</td>\n      <td>2015-09-30</td>\n      <td>100002.0</td>\n      <td>TRAINING</td>\n      <td>27 days</td>\n      <td>27.0</td>\n      <td>0</td>\n      <td>0</td>\n      <td>0</td>\n      <td>0</td>\n      <td>1</td>\n      <td>TRUE_NEGATIVE</td>\n    </tr>\n    <tr>\n      <th>1309</th>\n      <td>2016-07-02</td>\n      <td>100002</td>\n      <td>0</td>\n      <td>0</td>\n      <td>2015-10-27</td>\n      <td>1.215679e-05</td>\n      <td>0</td>\n      <td>1</td>\n      <td>2015-09-30</td>\n      <td>100002.0</td>\n      <td>TRAINING</td>\n      <td>27 days</td>\n      <td>27.0</td>\n      <td>0</td>\n      <td>0</td>\n      <td>0</td>\n      <td>0</td>\n      <td>1</td>\n      <td>TRUE_NEGATIVE</td>\n    </tr>\n    <tr>\n      <th>1310</th>\n      <td>2016-07-03</td>\n      <td>100002</td>\n      <td>0</td>\n      <td>0</td>\n      <td>2015-10-27</td>\n      <td>2.023222e-05</td>\n      <td>0</td>\n      <td>1</td>\n      <td>2015-09-30</td>\n      <td>100002.0</td>\n      <td>TRAINING</td>\n      <td>27 days</td>\n      <td>27.0</td>\n      <td>0</td>\n      <td>0</td>\n      <td>0</td>\n      <td>0</td>\n      <td>1</td>\n      <td>TRUE_NEGATIVE</td>\n    </tr>\n    <tr>\n      <th>1311</th>\n      <td>2016-07-04</td>\n      <td>100002</td>\n      <td>0</td>\n      <td>0</td>\n      <td>2015-10-27</td>\n      <td>1.055273e-06</td>\n      <td>0</td>\n      <td>1</td>\n      <td>2015-09-30</td>\n      <td>100002.0</td>\n      <td>TRAINING</td>\n      <td>27 days</td>\n      <td>27.0</td>\n      <td>0</td>\n      <td>0</td>\n      <td>0</td>\n      <td>0</td>\n      <td>1</td>\n      <td>TRUE_NEGATIVE</td>\n    </tr>\n    <tr>\n      <th>1312</th>\n      <td>2016-07-05</td>\n      <td>100002</td>\n      <td>0</td>\n      <td>0</td>\n      <td>2015-10-27</td>\n      <td>6.674875e-06</td>\n      <td>0</td>\n      <td>1</td>\n      <td>2015-09-30</td>\n      <td>100002.0</td>\n      <td>TRAINING</td>\n      <td>27 days</td>\n      <td>27.0</td>\n      <td>0</td>\n      <td>0</td>\n      <td>0</td>\n      <td>0</td>\n      <td>1</td>\n      <td>TRUE_NEGATIVE</td>\n    </tr>\n    <tr>\n      <th>1313</th>\n      <td>2016-07-06</td>\n      <td>100002</td>\n      <td>0</td>\n      <td>0</td>\n      <td>2015-10-27</td>\n      <td>5.661016e-06</td>\n      <td>0</td>\n      <td>1</td>\n      <td>2015-09-30</td>\n      <td>100002.0</td>\n      <td>TRAINING</td>\n      <td>27 days</td>\n      <td>27.0</td>\n      <td>0</td>\n      <td>0</td>\n      <td>0</td>\n      <td>0</td>\n      <td>1</td>\n      <td>TRUE_NEGATIVE</td>\n    </tr>\n    <tr>\n      <th>1314</th>\n      <td>2016-07-07</td>\n      <td>100002</td>\n      <td>0</td>\n      <td>0</td>\n      <td>2015-10-27</td>\n      <td>1.451125e-05</td>\n      <td>0</td>\n      <td>1</td>\n      <td>2015-09-30</td>\n      <td>100002.0</td>\n      <td>TRAINING</td>\n      <td>27 days</td>\n      <td>27.0</td>\n      <td>0</td>\n      <td>0</td>\n      <td>0</td>\n      <td>0</td>\n      <td>1</td>\n      <td>TRUE_NEGATIVE</td>\n    </tr>\n    <tr>\n      <th>1315</th>\n      <td>2016-07-08</td>\n      <td>100002</td>\n      <td>0</td>\n      <td>0</td>\n      <td>2015-10-27</td>\n      <td>2.432435e-05</td>\n      <td>0</td>\n      <td>1</td>\n      <td>2015-09-30</td>\n      <td>100002.0</td>\n      <td>TRAINING</td>\n      <td>27 days</td>\n      <td>27.0</td>\n      <td>0</td>\n      <td>0</td>\n      <td>0</td>\n      <td>0</td>\n      <td>1</td>\n      <td>TRUE_NEGATIVE</td>\n    </tr>\n    <tr>\n      <th>1316</th>\n      <td>2016-07-09</td>\n      <td>100002</td>\n      <td>0</td>\n      <td>0</td>\n      <td>2015-10-27</td>\n      <td>7.583502e-06</td>\n      <td>0</td>\n      <td>1</td>\n      <td>2015-09-30</td>\n      <td>100002.0</td>\n      <td>TRAINING</td>\n      <td>27 days</td>\n      <td>27.0</td>\n      <td>0</td>\n      <td>0</td>\n      <td>0</td>\n      <td>0</td>\n      <td>1</td>\n      <td>TRUE_NEGATIVE</td>\n    </tr>\n    <tr>\n      <th>1317</th>\n      <td>2016-07-10</td>\n      <td>100002</td>\n      <td>0</td>\n      <td>0</td>\n      <td>2015-10-27</td>\n      <td>8.433473e-06</td>\n      <td>0</td>\n      <td>1</td>\n      <td>2015-09-30</td>\n      <td>100002.0</td>\n      <td>TRAINING</td>\n      <td>27 days</td>\n      <td>27.0</td>\n      <td>0</td>\n      <td>0</td>\n      <td>0</td>\n      <td>0</td>\n      <td>1</td>\n      <td>TRUE_NEGATIVE</td>\n    </tr>\n    <tr>\n      <th>1318</th>\n      <td>2016-07-11</td>\n      <td>100002</td>\n      <td>0</td>\n      <td>0</td>\n      <td>2015-10-27</td>\n      <td>2.502036e-05</td>\n      <td>0</td>\n      <td>1</td>\n      <td>2015-09-30</td>\n      <td>100002.0</td>\n      <td>TRAINING</td>\n      <td>27 days</td>\n      <td>27.0</td>\n      <td>0</td>\n      <td>0</td>\n      <td>0</td>\n      <td>0</td>\n      <td>1</td>\n      <td>TRUE_NEGATIVE</td>\n    </tr>\n    <tr>\n      <th>1319</th>\n      <td>2016-07-12</td>\n      <td>100002</td>\n      <td>0</td>\n      <td>0</td>\n      <td>2015-10-27</td>\n      <td>7.907490e-05</td>\n      <td>0</td>\n      <td>1</td>\n      <td>2015-09-30</td>\n      <td>100002.0</td>\n      <td>TRAINING</td>\n      <td>27 days</td>\n      <td>27.0</td>\n      <td>0</td>\n      <td>0</td>\n      <td>0</td>\n      <td>0</td>\n      <td>1</td>\n      <td>TRUE_NEGATIVE</td>\n    </tr>\n    <tr>\n      <th>1320</th>\n      <td>2016-07-13</td>\n      <td>100002</td>\n      <td>0</td>\n      <td>0</td>\n      <td>2015-10-27</td>\n      <td>3.028593e-04</td>\n      <td>0</td>\n      <td>1</td>\n      <td>2015-09-30</td>\n      <td>100002.0</td>\n      <td>TRAINING</td>\n      <td>27 days</td>\n      <td>27.0</td>\n      <td>0</td>\n      <td>0</td>\n      <td>0</td>\n      <td>0</td>\n      <td>1</td>\n      <td>TRUE_NEGATIVE</td>\n    </tr>\n    <tr>\n      <th>1321</th>\n      <td>2016-07-14</td>\n      <td>100002</td>\n      <td>0</td>\n      <td>0</td>\n      <td>2015-10-27</td>\n      <td>1.115968e-04</td>\n      <td>0</td>\n      <td>1</td>\n      <td>2015-09-30</td>\n      <td>100002.0</td>\n      <td>TRAINING</td>\n      <td>27 days</td>\n      <td>27.0</td>\n      <td>0</td>\n      <td>0</td>\n      <td>0</td>\n      <td>0</td>\n      <td>1</td>\n      <td>TRUE_NEGATIVE</td>\n    </tr>\n    <tr>\n      <th>1322</th>\n      <td>2016-07-15</td>\n      <td>100002</td>\n      <td>0</td>\n      <td>0</td>\n      <td>2015-10-27</td>\n      <td>2.426631e-05</td>\n      <td>0</td>\n      <td>1</td>\n      <td>2015-09-30</td>\n      <td>100002.0</td>\n      <td>TRAINING</td>\n      <td>27 days</td>\n      <td>27.0</td>\n      <td>0</td>\n      <td>0</td>\n      <td>0</td>\n      <td>0</td>\n      <td>1</td>\n      <td>TRUE_NEGATIVE</td>\n    </tr>\n    <tr>\n      <th>1323</th>\n      <td>2016-07-16</td>\n      <td>100002</td>\n      <td>0</td>\n      <td>0</td>\n      <td>2015-10-27</td>\n      <td>3.424785e-04</td>\n      <td>0</td>\n      <td>1</td>\n      <td>2015-09-30</td>\n      <td>100002.0</td>\n      <td>TRAINING</td>\n      <td>27 days</td>\n      <td>27.0</td>\n      <td>0</td>\n      <td>0</td>\n      <td>0</td>\n      <td>0</td>\n      <td>1</td>\n      <td>TRUE_NEGATIVE</td>\n    </tr>\n    <tr>\n      <th>1324</th>\n      <td>2016-07-17</td>\n      <td>100002</td>\n      <td>0</td>\n      <td>0</td>\n      <td>2015-10-27</td>\n      <td>6.887096e-05</td>\n      <td>0</td>\n      <td>1</td>\n      <td>2015-09-30</td>\n      <td>100002.0</td>\n      <td>TRAINING</td>\n      <td>27 days</td>\n      <td>27.0</td>\n      <td>0</td>\n      <td>0</td>\n      <td>0</td>\n      <td>0</td>\n      <td>1</td>\n      <td>TRUE_NEGATIVE</td>\n    </tr>\n    <tr>\n      <th>1325</th>\n      <td>2016-07-18</td>\n      <td>100002</td>\n      <td>0</td>\n      <td>0</td>\n      <td>2015-10-27</td>\n      <td>1.921430e-04</td>\n      <td>0</td>\n      <td>1</td>\n      <td>2015-09-30</td>\n      <td>100002.0</td>\n      <td>TRAINING</td>\n      <td>27 days</td>\n      <td>27.0</td>\n      <td>0</td>\n      <td>0</td>\n      <td>0</td>\n      <td>0</td>\n      <td>1</td>\n      <td>TRUE_NEGATIVE</td>\n    </tr>\n    <tr>\n      <th>1326</th>\n      <td>2016-07-19</td>\n      <td>100002</td>\n      <td>0</td>\n      <td>0</td>\n      <td>2015-10-27</td>\n      <td>6.991703e-05</td>\n      <td>0</td>\n      <td>1</td>\n      <td>2015-09-30</td>\n      <td>100002.0</td>\n      <td>TRAINING</td>\n      <td>27 days</td>\n      <td>27.0</td>\n      <td>0</td>\n      <td>0</td>\n      <td>0</td>\n      <td>0</td>\n      <td>1</td>\n      <td>TRUE_NEGATIVE</td>\n    </tr>\n    <tr>\n      <th>1327</th>\n      <td>2016-07-20</td>\n      <td>100002</td>\n      <td>0</td>\n      <td>0</td>\n      <td>2015-10-27</td>\n      <td>4.079725e-04</td>\n      <td>0</td>\n      <td>1</td>\n      <td>2015-09-30</td>\n      <td>100002.0</td>\n      <td>TRAINING</td>\n      <td>27 days</td>\n      <td>27.0</td>\n      <td>0</td>\n      <td>0</td>\n      <td>0</td>\n      <td>0</td>\n      <td>1</td>\n      <td>TRUE_NEGATIVE</td>\n    </tr>\n    <tr>\n      <th>1328</th>\n      <td>2016-07-21</td>\n      <td>100002</td>\n      <td>0</td>\n      <td>0</td>\n      <td>2015-10-27</td>\n      <td>5.433976e-05</td>\n      <td>0</td>\n      <td>1</td>\n      <td>2015-09-30</td>\n      <td>100002.0</td>\n      <td>TRAINING</td>\n      <td>27 days</td>\n      <td>27.0</td>\n      <td>0</td>\n      <td>0</td>\n      <td>0</td>\n      <td>0</td>\n      <td>1</td>\n      <td>TRUE_NEGATIVE</td>\n    </tr>\n    <tr>\n      <th>1329</th>\n      <td>2016-07-22</td>\n      <td>100002</td>\n      <td>0</td>\n      <td>0</td>\n      <td>2015-10-27</td>\n      <td>1.200150e-04</td>\n      <td>0</td>\n      <td>1</td>\n      <td>2015-09-30</td>\n      <td>100002.0</td>\n      <td>TRAINING</td>\n      <td>27 days</td>\n      <td>27.0</td>\n      <td>0</td>\n      <td>0</td>\n      <td>0</td>\n      <td>0</td>\n      <td>1</td>\n      <td>TRUE_NEGATIVE</td>\n    </tr>\n    <tr>\n      <th>1330</th>\n      <td>2016-07-23</td>\n      <td>100002</td>\n      <td>0</td>\n      <td>0</td>\n      <td>2015-10-27</td>\n      <td>3.701607e-04</td>\n      <td>0</td>\n      <td>1</td>\n      <td>2015-09-30</td>\n      <td>100002.0</td>\n      <td>TRAINING</td>\n      <td>27 days</td>\n      <td>27.0</td>\n      <td>0</td>\n      <td>0</td>\n      <td>0</td>\n      <td>0</td>\n      <td>1</td>\n      <td>TRUE_NEGATIVE</td>\n    </tr>\n    <tr>\n      <th>1331</th>\n      <td>2016-07-24</td>\n      <td>100002</td>\n      <td>0</td>\n      <td>0</td>\n      <td>2015-10-27</td>\n      <td>1.986485e-05</td>\n      <td>0</td>\n      <td>1</td>\n      <td>2015-09-30</td>\n      <td>100002.0</td>\n      <td>TRAINING</td>\n      <td>27 days</td>\n      <td>27.0</td>\n      <td>0</td>\n      <td>0</td>\n      <td>0</td>\n      <td>0</td>\n      <td>1</td>\n      <td>TRUE_NEGATIVE</td>\n    </tr>\n    <tr>\n      <th>1332</th>\n      <td>2016-07-25</td>\n      <td>100002</td>\n      <td>0</td>\n      <td>0</td>\n      <td>2015-10-27</td>\n      <td>2.113817e-05</td>\n      <td>0</td>\n      <td>1</td>\n      <td>2015-09-30</td>\n      <td>100002.0</td>\n      <td>TRAINING</td>\n      <td>27 days</td>\n      <td>27.0</td>\n      <td>0</td>\n      <td>0</td>\n      <td>0</td>\n      <td>0</td>\n      <td>1</td>\n      <td>TRUE_NEGATIVE</td>\n    </tr>\n    <tr>\n      <th>1333</th>\n      <td>2016-07-26</td>\n      <td>100002</td>\n      <td>0</td>\n      <td>0</td>\n      <td>2015-10-27</td>\n      <td>4.215827e-05</td>\n      <td>0</td>\n      <td>1</td>\n      <td>2015-09-30</td>\n      <td>100002.0</td>\n      <td>TRAINING</td>\n      <td>27 days</td>\n      <td>27.0</td>\n      <td>0</td>\n      <td>0</td>\n      <td>0</td>\n      <td>0</td>\n      <td>1</td>\n      <td>TRUE_NEGATIVE</td>\n    </tr>\n    <tr>\n      <th>1334</th>\n      <td>2016-07-27</td>\n      <td>100002</td>\n      <td>0</td>\n      <td>0</td>\n      <td>2015-10-27</td>\n      <td>2.301935e-04</td>\n      <td>0</td>\n      <td>1</td>\n      <td>2015-09-30</td>\n      <td>100002.0</td>\n      <td>TRAINING</td>\n      <td>27 days</td>\n      <td>27.0</td>\n      <td>0</td>\n      <td>0</td>\n      <td>0</td>\n      <td>0</td>\n      <td>1</td>\n      <td>TRUE_NEGATIVE</td>\n    </tr>\n    <tr>\n      <th>1335</th>\n      <td>2016-07-28</td>\n      <td>100002</td>\n      <td>0</td>\n      <td>0</td>\n      <td>2015-10-27</td>\n      <td>2.449448e-04</td>\n      <td>0</td>\n      <td>1</td>\n      <td>2015-09-30</td>\n      <td>100002.0</td>\n      <td>TRAINING</td>\n      <td>27 days</td>\n      <td>27.0</td>\n      <td>0</td>\n      <td>0</td>\n      <td>0</td>\n      <td>0</td>\n      <td>1</td>\n      <td>TRUE_NEGATIVE</td>\n    </tr>\n    <tr>\n      <th>1336</th>\n      <td>2016-07-29</td>\n      <td>100002</td>\n      <td>0</td>\n      <td>0</td>\n      <td>2015-10-27</td>\n      <td>6.133389e-05</td>\n      <td>0</td>\n      <td>1</td>\n      <td>2015-09-30</td>\n      <td>100002.0</td>\n      <td>TRAINING</td>\n      <td>27 days</td>\n      <td>27.0</td>\n      <td>0</td>\n      <td>0</td>\n      <td>0</td>\n      <td>0</td>\n      <td>1</td>\n      <td>TRUE_NEGATIVE</td>\n    </tr>\n    <tr>\n      <th>1337</th>\n      <td>2016-07-30</td>\n      <td>100002</td>\n      <td>0</td>\n      <td>0</td>\n      <td>2015-10-27</td>\n      <td>1.432733e-04</td>\n      <td>0</td>\n      <td>1</td>\n      <td>2015-09-30</td>\n      <td>100002.0</td>\n      <td>TRAINING</td>\n      <td>27 days</td>\n      <td>27.0</td>\n      <td>0</td>\n      <td>0</td>\n      <td>0</td>\n      <td>0</td>\n      <td>1</td>\n      <td>TRUE_NEGATIVE</td>\n    </tr>\n    <tr>\n      <th>1338</th>\n      <td>2016-07-31</td>\n      <td>100002</td>\n      <td>0</td>\n      <td>0</td>\n      <td>2015-10-27</td>\n      <td>4.298292e-05</td>\n      <td>0</td>\n      <td>1</td>\n      <td>2015-09-30</td>\n      <td>100002.0</td>\n      <td>TRAINING</td>\n      <td>27 days</td>\n      <td>27.0</td>\n      <td>0</td>\n      <td>0</td>\n      <td>0</td>\n      <td>0</td>\n      <td>1</td>\n      <td>TRUE_NEGATIVE</td>\n    </tr>\n    <tr>\n      <th>1339</th>\n      <td>2016-08-01</td>\n      <td>100002</td>\n      <td>0</td>\n      <td>0</td>\n      <td>2015-10-27</td>\n      <td>1.431687e-05</td>\n      <td>0</td>\n      <td>1</td>\n      <td>2015-09-30</td>\n      <td>100002.0</td>\n      <td>TRAINING</td>\n      <td>27 days</td>\n      <td>27.0</td>\n      <td>0</td>\n      <td>0</td>\n      <td>0</td>\n      <td>0</td>\n      <td>1</td>\n      <td>TRUE_NEGATIVE</td>\n    </tr>\n    <tr>\n      <th>1340</th>\n      <td>2016-08-02</td>\n      <td>100002</td>\n      <td>0</td>\n      <td>0</td>\n      <td>2015-10-27</td>\n      <td>7.718078e-06</td>\n      <td>0</td>\n      <td>1</td>\n      <td>2015-09-30</td>\n      <td>100002.0</td>\n      <td>TRAINING</td>\n      <td>27 days</td>\n      <td>27.0</td>\n      <td>0</td>\n      <td>0</td>\n      <td>0</td>\n      <td>0</td>\n      <td>1</td>\n      <td>TRUE_NEGATIVE</td>\n    </tr>\n    <tr>\n      <th>1341</th>\n      <td>2016-08-03</td>\n      <td>100002</td>\n      <td>0</td>\n      <td>0</td>\n      <td>2015-10-27</td>\n      <td>3.222050e-05</td>\n      <td>0</td>\n      <td>1</td>\n      <td>2015-09-30</td>\n      <td>100002.0</td>\n      <td>TRAINING</td>\n      <td>27 days</td>\n      <td>27.0</td>\n      <td>0</td>\n      <td>0</td>\n      <td>0</td>\n      <td>0</td>\n      <td>1</td>\n      <td>TRUE_NEGATIVE</td>\n    </tr>\n    <tr>\n      <th>1342</th>\n      <td>2016-08-04</td>\n      <td>100002</td>\n      <td>0</td>\n      <td>0</td>\n      <td>2015-10-27</td>\n      <td>2.817794e-05</td>\n      <td>0</td>\n      <td>1</td>\n      <td>2015-09-30</td>\n      <td>100002.0</td>\n      <td>TRAINING</td>\n      <td>27 days</td>\n      <td>27.0</td>\n      <td>0</td>\n      <td>0</td>\n      <td>0</td>\n      <td>0</td>\n      <td>1</td>\n      <td>TRUE_NEGATIVE</td>\n    </tr>\n    <tr>\n      <th>1343</th>\n      <td>2016-08-05</td>\n      <td>100002</td>\n      <td>0</td>\n      <td>0</td>\n      <td>2015-10-27</td>\n      <td>1.158159e-05</td>\n      <td>0</td>\n      <td>1</td>\n      <td>2015-09-30</td>\n      <td>100002.0</td>\n      <td>TRAINING</td>\n      <td>27 days</td>\n      <td>27.0</td>\n      <td>0</td>\n      <td>0</td>\n      <td>0</td>\n      <td>0</td>\n      <td>1</td>\n      <td>TRUE_NEGATIVE</td>\n    </tr>\n    <tr>\n      <th>1344</th>\n      <td>2016-08-06</td>\n      <td>100002</td>\n      <td>0</td>\n      <td>0</td>\n      <td>2015-10-27</td>\n      <td>1.264222e-05</td>\n      <td>0</td>\n      <td>1</td>\n      <td>2015-09-30</td>\n      <td>100002.0</td>\n      <td>TRAINING</td>\n      <td>27 days</td>\n      <td>27.0</td>\n      <td>0</td>\n      <td>0</td>\n      <td>0</td>\n      <td>0</td>\n      <td>1</td>\n      <td>TRUE_NEGATIVE</td>\n    </tr>\n    <tr>\n      <th>1345</th>\n      <td>2016-08-07</td>\n      <td>100002</td>\n      <td>0</td>\n      <td>0</td>\n      <td>2015-10-27</td>\n      <td>6.009188e-06</td>\n      <td>0</td>\n      <td>1</td>\n      <td>2015-09-30</td>\n      <td>100002.0</td>\n      <td>TRAINING</td>\n      <td>27 days</td>\n      <td>27.0</td>\n      <td>0</td>\n      <td>0</td>\n      <td>0</td>\n      <td>0</td>\n      <td>1</td>\n      <td>TRUE_NEGATIVE</td>\n    </tr>\n    <tr>\n      <th>1346</th>\n      <td>2016-08-08</td>\n      <td>100002</td>\n      <td>0</td>\n      <td>0</td>\n      <td>2015-10-27</td>\n      <td>2.581169e-06</td>\n      <td>0</td>\n      <td>1</td>\n      <td>2015-09-30</td>\n      <td>100002.0</td>\n      <td>TRAINING</td>\n      <td>27 days</td>\n      <td>27.0</td>\n      <td>0</td>\n      <td>0</td>\n      <td>0</td>\n      <td>0</td>\n      <td>1</td>\n      <td>TRUE_NEGATIVE</td>\n    </tr>\n    <tr>\n      <th>1347</th>\n      <td>2016-08-09</td>\n      <td>100002</td>\n      <td>0</td>\n      <td>0</td>\n      <td>2015-10-27</td>\n      <td>7.634686e-05</td>\n      <td>0</td>\n      <td>1</td>\n      <td>2015-09-30</td>\n      <td>100002.0</td>\n      <td>TRAINING</td>\n      <td>27 days</td>\n      <td>27.0</td>\n      <td>0</td>\n      <td>0</td>\n      <td>0</td>\n      <td>0</td>\n      <td>1</td>\n      <td>TRUE_NEGATIVE</td>\n    </tr>\n    <tr>\n      <th>1348</th>\n      <td>2016-08-10</td>\n      <td>100002</td>\n      <td>0</td>\n      <td>0</td>\n      <td>2015-10-27</td>\n      <td>3.081233e-05</td>\n      <td>0</td>\n      <td>1</td>\n      <td>2015-09-30</td>\n      <td>100002.0</td>\n      <td>TRAINING</td>\n      <td>27 days</td>\n      <td>27.0</td>\n      <td>0</td>\n      <td>0</td>\n      <td>0</td>\n      <td>0</td>\n      <td>1</td>\n      <td>TRUE_NEGATIVE</td>\n    </tr>\n    <tr>\n      <th>1349</th>\n      <td>2016-08-11</td>\n      <td>100002</td>\n      <td>0</td>\n      <td>0</td>\n      <td>2015-10-27</td>\n      <td>3.296563e-05</td>\n      <td>0</td>\n      <td>1</td>\n      <td>2015-09-30</td>\n      <td>100002.0</td>\n      <td>TRAINING</td>\n      <td>27 days</td>\n      <td>27.0</td>\n      <td>0</td>\n      <td>0</td>\n      <td>0</td>\n      <td>0</td>\n      <td>1</td>\n      <td>TRUE_NEGATIVE</td>\n    </tr>\n    <tr>\n      <th>1350</th>\n      <td>2016-08-12</td>\n      <td>100002</td>\n      <td>0</td>\n      <td>0</td>\n      <td>2015-10-27</td>\n      <td>4.487879e-05</td>\n      <td>0</td>\n      <td>1</td>\n      <td>2015-09-30</td>\n      <td>100002.0</td>\n      <td>TRAINING</td>\n      <td>27 days</td>\n      <td>27.0</td>\n      <td>0</td>\n      <td>0</td>\n      <td>0</td>\n      <td>0</td>\n      <td>1</td>\n      <td>TRUE_NEGATIVE</td>\n    </tr>\n    <tr>\n      <th>1351</th>\n      <td>2016-08-13</td>\n      <td>100002</td>\n      <td>0</td>\n      <td>0</td>\n      <td>2015-10-27</td>\n      <td>1.432728e-05</td>\n      <td>0</td>\n      <td>1</td>\n      <td>2015-09-30</td>\n      <td>100002.0</td>\n      <td>TRAINING</td>\n      <td>27 days</td>\n      <td>27.0</td>\n      <td>0</td>\n      <td>0</td>\n      <td>0</td>\n      <td>0</td>\n      <td>1</td>\n      <td>TRUE_NEGATIVE</td>\n    </tr>\n    <tr>\n      <th>1352</th>\n      <td>2016-08-14</td>\n      <td>100002</td>\n      <td>0</td>\n      <td>0</td>\n      <td>2015-10-27</td>\n      <td>1.008199e-04</td>\n      <td>0</td>\n      <td>1</td>\n      <td>2015-09-30</td>\n      <td>100002.0</td>\n      <td>TRAINING</td>\n      <td>27 days</td>\n      <td>27.0</td>\n      <td>0</td>\n      <td>0</td>\n      <td>0</td>\n      <td>0</td>\n      <td>1</td>\n      <td>TRUE_NEGATIVE</td>\n    </tr>\n    <tr>\n      <th>1353</th>\n      <td>2016-08-15</td>\n      <td>100002</td>\n      <td>0</td>\n      <td>0</td>\n      <td>2015-10-27</td>\n      <td>8.104488e-06</td>\n      <td>0</td>\n      <td>1</td>\n      <td>2015-09-30</td>\n      <td>100002.0</td>\n      <td>TRAINING</td>\n      <td>27 days</td>\n      <td>27.0</td>\n      <td>0</td>\n      <td>0</td>\n      <td>0</td>\n      <td>0</td>\n      <td>1</td>\n      <td>TRUE_NEGATIVE</td>\n    </tr>\n    <tr>\n      <th>1354</th>\n      <td>2016-08-16</td>\n      <td>100002</td>\n      <td>0</td>\n      <td>0</td>\n      <td>2015-10-27</td>\n      <td>1.158692e-06</td>\n      <td>0</td>\n      <td>1</td>\n      <td>2015-09-30</td>\n      <td>100002.0</td>\n      <td>TRAINING</td>\n      <td>27 days</td>\n      <td>27.0</td>\n      <td>0</td>\n      <td>0</td>\n      <td>0</td>\n      <td>0</td>\n      <td>1</td>\n      <td>TRUE_NEGATIVE</td>\n    </tr>\n    <tr>\n      <th>1355</th>\n      <td>2016-08-17</td>\n      <td>100002</td>\n      <td>0</td>\n      <td>0</td>\n      <td>2015-10-27</td>\n      <td>1.527684e-07</td>\n      <td>0</td>\n      <td>1</td>\n      <td>2015-09-30</td>\n      <td>100002.0</td>\n      <td>TRAINING</td>\n      <td>27 days</td>\n      <td>27.0</td>\n      <td>0</td>\n      <td>0</td>\n      <td>0</td>\n      <td>0</td>\n      <td>1</td>\n      <td>TRUE_NEGATIVE</td>\n    </tr>\n    <tr>\n      <th>1356</th>\n      <td>2016-08-18</td>\n      <td>100002</td>\n      <td>0</td>\n      <td>0</td>\n      <td>2015-10-27</td>\n      <td>1.865607e-07</td>\n      <td>0</td>\n      <td>1</td>\n      <td>2015-09-30</td>\n      <td>100002.0</td>\n      <td>TRAINING</td>\n      <td>27 days</td>\n      <td>27.0</td>\n      <td>0</td>\n      <td>0</td>\n      <td>0</td>\n      <td>0</td>\n      <td>1</td>\n      <td>TRUE_NEGATIVE</td>\n    </tr>\n    <tr>\n      <th>1357</th>\n      <td>2016-08-19</td>\n      <td>100002</td>\n      <td>0</td>\n      <td>0</td>\n      <td>2015-10-27</td>\n      <td>4.331259e-07</td>\n      <td>0</td>\n      <td>1</td>\n      <td>2015-09-30</td>\n      <td>100002.0</td>\n      <td>TRAINING</td>\n      <td>27 days</td>\n      <td>27.0</td>\n      <td>0</td>\n      <td>0</td>\n      <td>0</td>\n      <td>0</td>\n      <td>1</td>\n      <td>TRUE_NEGATIVE</td>\n    </tr>\n    <tr>\n      <th>1358</th>\n      <td>2016-08-20</td>\n      <td>100002</td>\n      <td>0</td>\n      <td>0</td>\n      <td>2015-10-27</td>\n      <td>4.951852e-07</td>\n      <td>0</td>\n      <td>1</td>\n      <td>2015-09-30</td>\n      <td>100002.0</td>\n      <td>TRAINING</td>\n      <td>27 days</td>\n      <td>27.0</td>\n      <td>0</td>\n      <td>0</td>\n      <td>0</td>\n      <td>0</td>\n      <td>1</td>\n      <td>TRUE_NEGATIVE</td>\n    </tr>\n    <tr>\n      <th>1359</th>\n      <td>2016-08-21</td>\n      <td>100002</td>\n      <td>0</td>\n      <td>0</td>\n      <td>2015-10-27</td>\n      <td>1.176362e-06</td>\n      <td>0</td>\n      <td>1</td>\n      <td>2015-09-30</td>\n      <td>100002.0</td>\n      <td>TRAINING</td>\n      <td>27 days</td>\n      <td>27.0</td>\n      <td>0</td>\n      <td>0</td>\n      <td>0</td>\n      <td>0</td>\n      <td>1</td>\n      <td>TRUE_NEGATIVE</td>\n    </tr>\n    <tr>\n      <th>1360</th>\n      <td>2016-08-22</td>\n      <td>100002</td>\n      <td>0</td>\n      <td>0</td>\n      <td>2015-10-27</td>\n      <td>7.625540e-07</td>\n      <td>0</td>\n      <td>1</td>\n      <td>2015-09-30</td>\n      <td>100002.0</td>\n      <td>TRAINING</td>\n      <td>27 days</td>\n      <td>27.0</td>\n      <td>0</td>\n      <td>0</td>\n      <td>0</td>\n      <td>0</td>\n      <td>1</td>\n      <td>TRUE_NEGATIVE</td>\n    </tr>\n    <tr>\n      <th>1361</th>\n      <td>2016-08-23</td>\n      <td>100002</td>\n      <td>0</td>\n      <td>0</td>\n      <td>2015-10-27</td>\n      <td>1.368963e-06</td>\n      <td>0</td>\n      <td>1</td>\n      <td>2015-09-30</td>\n      <td>100002.0</td>\n      <td>TRAINING</td>\n      <td>27 days</td>\n      <td>27.0</td>\n      <td>0</td>\n      <td>0</td>\n      <td>0</td>\n      <td>0</td>\n      <td>1</td>\n      <td>TRUE_NEGATIVE</td>\n    </tr>\n    <tr>\n      <th>1362</th>\n      <td>2016-08-24</td>\n      <td>100002</td>\n      <td>0</td>\n      <td>0</td>\n      <td>2015-10-27</td>\n      <td>1.332212e-06</td>\n      <td>0</td>\n      <td>1</td>\n      <td>2015-09-30</td>\n      <td>100002.0</td>\n      <td>TRAINING</td>\n      <td>27 days</td>\n      <td>27.0</td>\n      <td>0</td>\n      <td>0</td>\n      <td>0</td>\n      <td>0</td>\n      <td>1</td>\n      <td>TRUE_NEGATIVE</td>\n    </tr>\n    <tr>\n      <th>1363</th>\n      <td>2016-08-25</td>\n      <td>100002</td>\n      <td>0</td>\n      <td>0</td>\n      <td>2015-10-27</td>\n      <td>2.824413e-07</td>\n      <td>0</td>\n      <td>1</td>\n      <td>2015-09-30</td>\n      <td>100002.0</td>\n      <td>TRAINING</td>\n      <td>27 days</td>\n      <td>27.0</td>\n      <td>0</td>\n      <td>0</td>\n      <td>0</td>\n      <td>0</td>\n      <td>1</td>\n      <td>TRUE_NEGATIVE</td>\n    </tr>\n    <tr>\n      <th>1364</th>\n      <td>2016-08-26</td>\n      <td>100002</td>\n      <td>0</td>\n      <td>0</td>\n      <td>2015-10-27</td>\n      <td>3.114442e-07</td>\n      <td>0</td>\n      <td>1</td>\n      <td>2015-09-30</td>\n      <td>100002.0</td>\n      <td>TRAINING</td>\n      <td>27 days</td>\n      <td>27.0</td>\n      <td>0</td>\n      <td>0</td>\n      <td>0</td>\n      <td>0</td>\n      <td>1</td>\n      <td>TRUE_NEGATIVE</td>\n    </tr>\n    <tr>\n      <th>1365</th>\n      <td>2016-08-27</td>\n      <td>100002</td>\n      <td>0</td>\n      <td>0</td>\n      <td>2015-10-27</td>\n      <td>3.418261e-06</td>\n      <td>0</td>\n      <td>1</td>\n      <td>2015-09-30</td>\n      <td>100002.0</td>\n      <td>TRAINING</td>\n      <td>27 days</td>\n      <td>27.0</td>\n      <td>0</td>\n      <td>0</td>\n      <td>0</td>\n      <td>0</td>\n      <td>1</td>\n      <td>TRUE_NEGATIVE</td>\n    </tr>\n    <tr>\n      <th>1366</th>\n      <td>2016-08-28</td>\n      <td>100002</td>\n      <td>0</td>\n      <td>0</td>\n      <td>2015-10-27</td>\n      <td>5.004153e-06</td>\n      <td>0</td>\n      <td>1</td>\n      <td>2015-09-30</td>\n      <td>100002.0</td>\n      <td>TRAINING</td>\n      <td>27 days</td>\n      <td>27.0</td>\n      <td>0</td>\n      <td>0</td>\n      <td>0</td>\n      <td>0</td>\n      <td>1</td>\n      <td>TRUE_NEGATIVE</td>\n    </tr>\n    <tr>\n      <th>1367</th>\n      <td>2016-08-29</td>\n      <td>100002</td>\n      <td>0</td>\n      <td>0</td>\n      <td>2015-10-27</td>\n      <td>3.828784e-06</td>\n      <td>0</td>\n      <td>1</td>\n      <td>2015-09-30</td>\n      <td>100002.0</td>\n      <td>TRAINING</td>\n      <td>27 days</td>\n      <td>27.0</td>\n      <td>0</td>\n      <td>0</td>\n      <td>0</td>\n      <td>0</td>\n      <td>1</td>\n      <td>TRUE_NEGATIVE</td>\n    </tr>\n    <tr>\n      <th>1368</th>\n      <td>2016-08-30</td>\n      <td>100002</td>\n      <td>0</td>\n      <td>0</td>\n      <td>2015-10-27</td>\n      <td>1.588246e-06</td>\n      <td>0</td>\n      <td>1</td>\n      <td>2015-09-30</td>\n      <td>100002.0</td>\n      <td>TRAINING</td>\n      <td>27 days</td>\n      <td>27.0</td>\n      <td>0</td>\n      <td>0</td>\n      <td>0</td>\n      <td>0</td>\n      <td>1</td>\n      <td>TRUE_NEGATIVE</td>\n    </tr>\n    <tr>\n      <th>1369</th>\n      <td>2016-08-31</td>\n      <td>100002</td>\n      <td>0</td>\n      <td>0</td>\n      <td>2015-10-27</td>\n      <td>2.144607e-06</td>\n      <td>0</td>\n      <td>1</td>\n      <td>2015-09-30</td>\n      <td>100002.0</td>\n      <td>TRAINING</td>\n      <td>27 days</td>\n      <td>27.0</td>\n      <td>0</td>\n      <td>0</td>\n      <td>0</td>\n      <td>0</td>\n      <td>1</td>\n      <td>TRUE_NEGATIVE</td>\n    </tr>\n    <tr>\n      <th>1370</th>\n      <td>2016-09-01</td>\n      <td>100002</td>\n      <td>0</td>\n      <td>0</td>\n      <td>2015-10-27</td>\n      <td>5.311131e-06</td>\n      <td>0</td>\n      <td>1</td>\n      <td>2015-09-30</td>\n      <td>100002.0</td>\n      <td>TRAINING</td>\n      <td>27 days</td>\n      <td>27.0</td>\n      <td>0</td>\n      <td>0</td>\n      <td>0</td>\n      <td>0</td>\n      <td>1</td>\n      <td>TRUE_NEGATIVE</td>\n    </tr>\n    <tr>\n      <th>1371</th>\n      <td>2016-09-02</td>\n      <td>100002</td>\n      <td>0</td>\n      <td>0</td>\n      <td>2015-10-27</td>\n      <td>3.273910e-06</td>\n      <td>0</td>\n      <td>1</td>\n      <td>2015-09-30</td>\n      <td>100002.0</td>\n      <td>TRAINING</td>\n      <td>27 days</td>\n      <td>27.0</td>\n      <td>0</td>\n      <td>0</td>\n      <td>0</td>\n      <td>0</td>\n      <td>1</td>\n      <td>TRUE_NEGATIVE</td>\n    </tr>\n    <tr>\n      <th>1372</th>\n      <td>2016-09-03</td>\n      <td>100002</td>\n      <td>0</td>\n      <td>0</td>\n      <td>2015-10-27</td>\n      <td>3.139883e-06</td>\n      <td>0</td>\n      <td>1</td>\n      <td>2015-09-30</td>\n      <td>100002.0</td>\n      <td>TRAINING</td>\n      <td>27 days</td>\n      <td>27.0</td>\n      <td>0</td>\n      <td>0</td>\n      <td>0</td>\n      <td>0</td>\n      <td>1</td>\n      <td>TRUE_NEGATIVE</td>\n    </tr>\n    <tr>\n      <th>1373</th>\n      <td>2016-09-04</td>\n      <td>100002</td>\n      <td>0</td>\n      <td>0</td>\n      <td>2015-10-27</td>\n      <td>3.188926e-07</td>\n      <td>0</td>\n      <td>1</td>\n      <td>2015-09-30</td>\n      <td>100002.0</td>\n      <td>TRAINING</td>\n      <td>27 days</td>\n      <td>27.0</td>\n      <td>0</td>\n      <td>0</td>\n      <td>0</td>\n      <td>0</td>\n      <td>1</td>\n      <td>TRUE_NEGATIVE</td>\n    </tr>\n    <tr>\n      <th>1374</th>\n      <td>2016-09-05</td>\n      <td>100002</td>\n      <td>0</td>\n      <td>0</td>\n      <td>2015-10-27</td>\n      <td>5.245033e-07</td>\n      <td>0</td>\n      <td>1</td>\n      <td>2015-09-30</td>\n      <td>100002.0</td>\n      <td>TRAINING</td>\n      <td>27 days</td>\n      <td>27.0</td>\n      <td>0</td>\n      <td>0</td>\n      <td>0</td>\n      <td>0</td>\n      <td>1</td>\n      <td>TRUE_NEGATIVE</td>\n    </tr>\n    <tr>\n      <th>1375</th>\n      <td>2016-09-06</td>\n      <td>100002</td>\n      <td>0</td>\n      <td>0</td>\n      <td>2015-10-27</td>\n      <td>1.976091e-07</td>\n      <td>0</td>\n      <td>1</td>\n      <td>2015-09-30</td>\n      <td>100002.0</td>\n      <td>TRAINING</td>\n      <td>27 days</td>\n      <td>27.0</td>\n      <td>0</td>\n      <td>0</td>\n      <td>0</td>\n      <td>0</td>\n      <td>1</td>\n      <td>TRUE_NEGATIVE</td>\n    </tr>\n    <tr>\n      <th>1376</th>\n      <td>2016-09-07</td>\n      <td>100002</td>\n      <td>0</td>\n      <td>0</td>\n      <td>2015-10-27</td>\n      <td>5.113023e-07</td>\n      <td>0</td>\n      <td>1</td>\n      <td>2015-09-30</td>\n      <td>100002.0</td>\n      <td>TRAINING</td>\n      <td>27 days</td>\n      <td>27.0</td>\n      <td>0</td>\n      <td>0</td>\n      <td>0</td>\n      <td>0</td>\n      <td>1</td>\n      <td>TRUE_NEGATIVE</td>\n    </tr>\n    <tr>\n      <th>1377</th>\n      <td>2016-09-08</td>\n      <td>100002</td>\n      <td>0</td>\n      <td>0</td>\n      <td>2015-10-27</td>\n      <td>2.382558e-07</td>\n      <td>0</td>\n      <td>1</td>\n      <td>2015-09-30</td>\n      <td>100002.0</td>\n      <td>TRAINING</td>\n      <td>27 days</td>\n      <td>27.0</td>\n      <td>0</td>\n      <td>0</td>\n      <td>0</td>\n      <td>0</td>\n      <td>1</td>\n      <td>TRUE_NEGATIVE</td>\n    </tr>\n    <tr>\n      <th>1378</th>\n      <td>2016-09-09</td>\n      <td>100002</td>\n      <td>0</td>\n      <td>0</td>\n      <td>2015-10-27</td>\n      <td>5.063673e-07</td>\n      <td>0</td>\n      <td>1</td>\n      <td>2015-09-30</td>\n      <td>100002.0</td>\n      <td>TRAINING</td>\n      <td>27 days</td>\n      <td>27.0</td>\n      <td>0</td>\n      <td>0</td>\n      <td>0</td>\n      <td>0</td>\n      <td>1</td>\n      <td>TRUE_NEGATIVE</td>\n    </tr>\n    <tr>\n      <th>1379</th>\n      <td>2016-09-10</td>\n      <td>100002</td>\n      <td>0</td>\n      <td>0</td>\n      <td>2015-10-27</td>\n      <td>4.084389e-07</td>\n      <td>0</td>\n      <td>1</td>\n      <td>2015-09-30</td>\n      <td>100002.0</td>\n      <td>TRAINING</td>\n      <td>27 days</td>\n      <td>27.0</td>\n      <td>0</td>\n      <td>0</td>\n      <td>0</td>\n      <td>0</td>\n      <td>1</td>\n      <td>TRUE_NEGATIVE</td>\n    </tr>\n    <tr>\n      <th>1380</th>\n      <td>2016-09-11</td>\n      <td>100002</td>\n      <td>0</td>\n      <td>0</td>\n      <td>2015-10-27</td>\n      <td>1.202838e-07</td>\n      <td>0</td>\n      <td>1</td>\n      <td>2015-09-30</td>\n      <td>100002.0</td>\n      <td>TRAINING</td>\n      <td>27 days</td>\n      <td>27.0</td>\n      <td>0</td>\n      <td>0</td>\n      <td>0</td>\n      <td>0</td>\n      <td>1</td>\n      <td>TRUE_NEGATIVE</td>\n    </tr>\n    <tr>\n      <th>1381</th>\n      <td>2016-09-12</td>\n      <td>100002</td>\n      <td>0</td>\n      <td>0</td>\n      <td>2015-10-27</td>\n      <td>1.663178e-07</td>\n      <td>0</td>\n      <td>1</td>\n      <td>2015-09-30</td>\n      <td>100002.0</td>\n      <td>TRAINING</td>\n      <td>27 days</td>\n      <td>27.0</td>\n      <td>0</td>\n      <td>0</td>\n      <td>0</td>\n      <td>0</td>\n      <td>1</td>\n      <td>TRUE_NEGATIVE</td>\n    </tr>\n    <tr>\n      <th>1382</th>\n      <td>2016-09-13</td>\n      <td>100002</td>\n      <td>0</td>\n      <td>0</td>\n      <td>2015-10-27</td>\n      <td>4.188782e-07</td>\n      <td>0</td>\n      <td>1</td>\n      <td>2015-09-30</td>\n      <td>100002.0</td>\n      <td>TRAINING</td>\n      <td>27 days</td>\n      <td>27.0</td>\n      <td>0</td>\n      <td>0</td>\n      <td>0</td>\n      <td>0</td>\n      <td>1</td>\n      <td>TRUE_NEGATIVE</td>\n    </tr>\n    <tr>\n      <th>1383</th>\n      <td>2016-09-14</td>\n      <td>100002</td>\n      <td>0</td>\n      <td>0</td>\n      <td>2015-10-27</td>\n      <td>8.575579e-07</td>\n      <td>0</td>\n      <td>1</td>\n      <td>2015-09-30</td>\n      <td>100002.0</td>\n      <td>TRAINING</td>\n      <td>27 days</td>\n      <td>27.0</td>\n      <td>0</td>\n      <td>0</td>\n      <td>0</td>\n      <td>0</td>\n      <td>1</td>\n      <td>TRUE_NEGATIVE</td>\n    </tr>\n    <tr>\n      <th>1384</th>\n      <td>2016-09-15</td>\n      <td>100002</td>\n      <td>0</td>\n      <td>0</td>\n      <td>2015-10-27</td>\n      <td>5.127800e-07</td>\n      <td>0</td>\n      <td>1</td>\n      <td>2015-09-30</td>\n      <td>100002.0</td>\n      <td>TRAINING</td>\n      <td>27 days</td>\n      <td>27.0</td>\n      <td>0</td>\n      <td>0</td>\n      <td>0</td>\n      <td>0</td>\n      <td>1</td>\n      <td>TRUE_NEGATIVE</td>\n    </tr>\n    <tr>\n      <th>1385</th>\n      <td>2016-09-16</td>\n      <td>100002</td>\n      <td>0</td>\n      <td>0</td>\n      <td>2015-10-27</td>\n      <td>3.090359e-07</td>\n      <td>0</td>\n      <td>1</td>\n      <td>2015-09-30</td>\n      <td>100002.0</td>\n      <td>TRAINING</td>\n      <td>27 days</td>\n      <td>27.0</td>\n      <td>0</td>\n      <td>0</td>\n      <td>0</td>\n      <td>0</td>\n      <td>1</td>\n      <td>TRUE_NEGATIVE</td>\n    </tr>\n    <tr>\n      <th>1386</th>\n      <td>2016-09-17</td>\n      <td>100002</td>\n      <td>0</td>\n      <td>0</td>\n      <td>2015-10-27</td>\n      <td>1.864700e-07</td>\n      <td>0</td>\n      <td>1</td>\n      <td>2015-09-30</td>\n      <td>100002.0</td>\n      <td>TRAINING</td>\n      <td>27 days</td>\n      <td>27.0</td>\n      <td>0</td>\n      <td>0</td>\n      <td>0</td>\n      <td>0</td>\n      <td>1</td>\n      <td>TRUE_NEGATIVE</td>\n    </tr>\n    <tr>\n      <th>1387</th>\n      <td>2016-09-18</td>\n      <td>100002</td>\n      <td>0</td>\n      <td>0</td>\n      <td>2015-10-27</td>\n      <td>3.652410e-07</td>\n      <td>0</td>\n      <td>1</td>\n      <td>2015-09-30</td>\n      <td>100002.0</td>\n      <td>TRAINING</td>\n      <td>27 days</td>\n      <td>27.0</td>\n      <td>0</td>\n      <td>0</td>\n      <td>0</td>\n      <td>0</td>\n      <td>1</td>\n      <td>TRUE_NEGATIVE</td>\n    </tr>\n    <tr>\n      <th>1388</th>\n      <td>2016-09-19</td>\n      <td>100002</td>\n      <td>0</td>\n      <td>0</td>\n      <td>2015-10-27</td>\n      <td>3.295617e-07</td>\n      <td>0</td>\n      <td>1</td>\n      <td>2015-09-30</td>\n      <td>100002.0</td>\n      <td>TRAINING</td>\n      <td>27 days</td>\n      <td>27.0</td>\n      <td>0</td>\n      <td>0</td>\n      <td>0</td>\n      <td>0</td>\n      <td>1</td>\n      <td>TRUE_NEGATIVE</td>\n    </tr>\n    <tr>\n      <th>1389</th>\n      <td>2016-09-20</td>\n      <td>100002</td>\n      <td>0</td>\n      <td>0</td>\n      <td>2015-10-27</td>\n      <td>5.386284e-07</td>\n      <td>0</td>\n      <td>1</td>\n      <td>2015-09-30</td>\n      <td>100002.0</td>\n      <td>TRAINING</td>\n      <td>27 days</td>\n      <td>27.0</td>\n      <td>0</td>\n      <td>0</td>\n      <td>0</td>\n      <td>0</td>\n      <td>1</td>\n      <td>TRUE_NEGATIVE</td>\n    </tr>\n    <tr>\n      <th>1390</th>\n      <td>2016-09-21</td>\n      <td>100002</td>\n      <td>0</td>\n      <td>0</td>\n      <td>2015-10-27</td>\n      <td>4.872269e-07</td>\n      <td>0</td>\n      <td>1</td>\n      <td>2015-09-30</td>\n      <td>100002.0</td>\n      <td>TRAINING</td>\n      <td>27 days</td>\n      <td>27.0</td>\n      <td>0</td>\n      <td>0</td>\n      <td>0</td>\n      <td>0</td>\n      <td>1</td>\n      <td>TRUE_NEGATIVE</td>\n    </tr>\n    <tr>\n      <th>1391</th>\n      <td>2016-09-22</td>\n      <td>100002</td>\n      <td>0</td>\n      <td>0</td>\n      <td>2015-10-27</td>\n      <td>7.635131e-07</td>\n      <td>0</td>\n      <td>1</td>\n      <td>2015-09-30</td>\n      <td>100002.0</td>\n      <td>TRAINING</td>\n      <td>27 days</td>\n      <td>27.0</td>\n      <td>0</td>\n      <td>0</td>\n      <td>0</td>\n      <td>0</td>\n      <td>1</td>\n      <td>TRUE_NEGATIVE</td>\n    </tr>\n    <tr>\n      <th>1392</th>\n      <td>2016-09-23</td>\n      <td>100002</td>\n      <td>0</td>\n      <td>0</td>\n      <td>2015-10-27</td>\n      <td>4.182068e-07</td>\n      <td>0</td>\n      <td>1</td>\n      <td>2015-09-30</td>\n      <td>100002.0</td>\n      <td>TRAINING</td>\n      <td>27 days</td>\n      <td>27.0</td>\n      <td>0</td>\n      <td>0</td>\n      <td>0</td>\n      <td>0</td>\n      <td>1</td>\n      <td>TRUE_NEGATIVE</td>\n    </tr>\n    <tr>\n      <th>1393</th>\n      <td>2016-09-24</td>\n      <td>100002</td>\n      <td>0</td>\n      <td>0</td>\n      <td>2015-10-27</td>\n      <td>4.671841e-07</td>\n      <td>0</td>\n      <td>1</td>\n      <td>2015-09-30</td>\n      <td>100002.0</td>\n      <td>TRAINING</td>\n      <td>27 days</td>\n      <td>27.0</td>\n      <td>0</td>\n      <td>0</td>\n      <td>0</td>\n      <td>0</td>\n      <td>1</td>\n      <td>TRUE_NEGATIVE</td>\n    </tr>\n    <tr>\n      <th>1394</th>\n      <td>2016-09-25</td>\n      <td>100002</td>\n      <td>0</td>\n      <td>0</td>\n      <td>2015-10-27</td>\n      <td>1.317500e-06</td>\n      <td>0</td>\n      <td>1</td>\n      <td>2015-09-30</td>\n      <td>100002.0</td>\n      <td>TRAINING</td>\n      <td>27 days</td>\n      <td>27.0</td>\n      <td>0</td>\n      <td>0</td>\n      <td>0</td>\n      <td>0</td>\n      <td>1</td>\n      <td>TRUE_NEGATIVE</td>\n    </tr>\n    <tr>\n      <th>1395</th>\n      <td>2016-09-26</td>\n      <td>100002</td>\n      <td>0</td>\n      <td>0</td>\n      <td>2015-10-27</td>\n      <td>2.114016e-07</td>\n      <td>0</td>\n      <td>1</td>\n      <td>2015-09-30</td>\n      <td>100002.0</td>\n      <td>TRAINING</td>\n      <td>27 days</td>\n      <td>27.0</td>\n      <td>0</td>\n      <td>0</td>\n      <td>0</td>\n      <td>0</td>\n      <td>1</td>\n      <td>TRUE_NEGATIVE</td>\n    </tr>\n    <tr>\n      <th>1396</th>\n      <td>2016-09-27</td>\n      <td>100002</td>\n      <td>0</td>\n      <td>0</td>\n      <td>2015-10-27</td>\n      <td>1.291048e-06</td>\n      <td>0</td>\n      <td>1</td>\n      <td>2015-09-30</td>\n      <td>100002.0</td>\n      <td>TRAINING</td>\n      <td>27 days</td>\n      <td>27.0</td>\n      <td>0</td>\n      <td>0</td>\n      <td>0</td>\n      <td>0</td>\n      <td>1</td>\n      <td>TRUE_NEGATIVE</td>\n    </tr>\n    <tr>\n      <th>1397</th>\n      <td>2016-09-28</td>\n      <td>100002</td>\n      <td>0</td>\n      <td>0</td>\n      <td>2015-10-27</td>\n      <td>1.257507e-06</td>\n      <td>0</td>\n      <td>1</td>\n      <td>2015-09-30</td>\n      <td>100002.0</td>\n      <td>TRAINING</td>\n      <td>27 days</td>\n      <td>27.0</td>\n      <td>0</td>\n      <td>0</td>\n      <td>0</td>\n      <td>0</td>\n      <td>1</td>\n      <td>TRUE_NEGATIVE</td>\n    </tr>\n    <tr>\n      <th>1398</th>\n      <td>2016-09-29</td>\n      <td>100002</td>\n      <td>0</td>\n      <td>0</td>\n      <td>2015-10-27</td>\n      <td>2.631932e-07</td>\n      <td>0</td>\n      <td>1</td>\n      <td>2015-09-30</td>\n      <td>100002.0</td>\n      <td>TRAINING</td>\n      <td>27 days</td>\n      <td>27.0</td>\n      <td>0</td>\n      <td>0</td>\n      <td>0</td>\n      <td>0</td>\n      <td>1</td>\n      <td>TRUE_NEGATIVE</td>\n    </tr>\n    <tr>\n      <th>1399</th>\n      <td>2016-09-30</td>\n      <td>100002</td>\n      <td>0</td>\n      <td>0</td>\n      <td>2015-10-27</td>\n      <td>2.399900e-07</td>\n      <td>0</td>\n      <td>1</td>\n      <td>2015-09-30</td>\n      <td>100002.0</td>\n      <td>TRAINING</td>\n      <td>27 days</td>\n      <td>27.0</td>\n      <td>0</td>\n      <td>0</td>\n      <td>0</td>\n      <td>0</td>\n      <td>1</td>\n      <td>TRUE_NEGATIVE</td>\n    </tr>\n    <tr>\n      <th>1400</th>\n      <td>2016-10-01</td>\n      <td>100002</td>\n      <td>0</td>\n      <td>0</td>\n      <td>2015-10-27</td>\n      <td>4.814422e-07</td>\n      <td>0</td>\n      <td>1</td>\n      <td>2015-09-30</td>\n      <td>100002.0</td>\n      <td>TRAINING</td>\n      <td>27 days</td>\n      <td>27.0</td>\n      <td>0</td>\n      <td>0</td>\n      <td>0</td>\n      <td>0</td>\n      <td>1</td>\n      <td>TRUE_NEGATIVE</td>\n    </tr>\n    <tr>\n      <th>1401</th>\n      <td>2016-10-02</td>\n      <td>100002</td>\n      <td>0</td>\n      <td>0</td>\n      <td>2015-10-27</td>\n      <td>1.060775e-06</td>\n      <td>0</td>\n      <td>1</td>\n      <td>2015-09-30</td>\n      <td>100002.0</td>\n      <td>TRAINING</td>\n      <td>27 days</td>\n      <td>27.0</td>\n      <td>0</td>\n      <td>0</td>\n      <td>0</td>\n      <td>0</td>\n      <td>1</td>\n      <td>TRUE_NEGATIVE</td>\n    </tr>\n    <tr>\n      <th>1402</th>\n      <td>2016-10-03</td>\n      <td>100002</td>\n      <td>0</td>\n      <td>0</td>\n      <td>2015-10-27</td>\n      <td>1.339834e-06</td>\n      <td>0</td>\n      <td>1</td>\n      <td>2015-09-30</td>\n      <td>100002.0</td>\n      <td>TRAINING</td>\n      <td>27 days</td>\n      <td>27.0</td>\n      <td>0</td>\n      <td>0</td>\n      <td>0</td>\n      <td>0</td>\n      <td>1</td>\n      <td>TRUE_NEGATIVE</td>\n    </tr>\n    <tr>\n      <th>1403</th>\n      <td>2016-10-04</td>\n      <td>100002</td>\n      <td>0</td>\n      <td>0</td>\n      <td>2015-10-27</td>\n      <td>5.466965e-07</td>\n      <td>0</td>\n      <td>1</td>\n      <td>2015-09-30</td>\n      <td>100002.0</td>\n      <td>TRAINING</td>\n      <td>27 days</td>\n      <td>27.0</td>\n      <td>0</td>\n      <td>0</td>\n      <td>0</td>\n      <td>0</td>\n      <td>1</td>\n      <td>TRUE_NEGATIVE</td>\n    </tr>\n    <tr>\n      <th>1404</th>\n      <td>2016-10-05</td>\n      <td>100002</td>\n      <td>0</td>\n      <td>0</td>\n      <td>2015-10-27</td>\n      <td>3.548771e-07</td>\n      <td>0</td>\n      <td>1</td>\n      <td>2015-09-30</td>\n      <td>100002.0</td>\n      <td>TRAINING</td>\n      <td>27 days</td>\n      <td>27.0</td>\n      <td>0</td>\n      <td>0</td>\n      <td>0</td>\n      <td>0</td>\n      <td>1</td>\n      <td>TRUE_NEGATIVE</td>\n    </tr>\n    <tr>\n      <th>1405</th>\n      <td>2016-10-06</td>\n      <td>100002</td>\n      <td>0</td>\n      <td>0</td>\n      <td>2015-10-27</td>\n      <td>3.657708e-07</td>\n      <td>0</td>\n      <td>1</td>\n      <td>2015-09-30</td>\n      <td>100002.0</td>\n      <td>TRAINING</td>\n      <td>27 days</td>\n      <td>27.0</td>\n      <td>0</td>\n      <td>0</td>\n      <td>0</td>\n      <td>0</td>\n      <td>1</td>\n      <td>TRUE_NEGATIVE</td>\n    </tr>\n    <tr>\n      <th>1406</th>\n      <td>2016-10-07</td>\n      <td>100002</td>\n      <td>0</td>\n      <td>0</td>\n      <td>2015-10-27</td>\n      <td>1.364089e-06</td>\n      <td>0</td>\n      <td>1</td>\n      <td>2015-09-30</td>\n      <td>100002.0</td>\n      <td>TRAINING</td>\n      <td>27 days</td>\n      <td>27.0</td>\n      <td>0</td>\n      <td>0</td>\n      <td>0</td>\n      <td>0</td>\n      <td>1</td>\n      <td>TRUE_NEGATIVE</td>\n    </tr>\n    <tr>\n      <th>1407</th>\n      <td>2016-10-08</td>\n      <td>100002</td>\n      <td>0</td>\n      <td>0</td>\n      <td>2015-10-27</td>\n      <td>1.019839e-06</td>\n      <td>0</td>\n      <td>1</td>\n      <td>2015-09-30</td>\n      <td>100002.0</td>\n      <td>TRAINING</td>\n      <td>27 days</td>\n      <td>27.0</td>\n      <td>0</td>\n      <td>0</td>\n      <td>0</td>\n      <td>0</td>\n      <td>1</td>\n      <td>TRUE_NEGATIVE</td>\n    </tr>\n    <tr>\n      <th>1408</th>\n      <td>2016-10-09</td>\n      <td>100002</td>\n      <td>0</td>\n      <td>0</td>\n      <td>2015-10-27</td>\n      <td>1.052055e-06</td>\n      <td>0</td>\n      <td>1</td>\n      <td>2015-09-30</td>\n      <td>100002.0</td>\n      <td>TRAINING</td>\n      <td>27 days</td>\n      <td>27.0</td>\n      <td>0</td>\n      <td>0</td>\n      <td>0</td>\n      <td>0</td>\n      <td>1</td>\n      <td>TRUE_NEGATIVE</td>\n    </tr>\n    <tr>\n      <th>1409</th>\n      <td>2016-10-10</td>\n      <td>100002</td>\n      <td>0</td>\n      <td>0</td>\n      <td>2015-10-27</td>\n      <td>5.808364e-07</td>\n      <td>0</td>\n      <td>1</td>\n      <td>2015-09-30</td>\n      <td>100002.0</td>\n      <td>TRAINING</td>\n      <td>27 days</td>\n      <td>27.0</td>\n      <td>0</td>\n      <td>0</td>\n      <td>0</td>\n      <td>0</td>\n      <td>1</td>\n      <td>TRUE_NEGATIVE</td>\n    </tr>\n    <tr>\n      <th>1410</th>\n      <td>2016-10-11</td>\n      <td>100002</td>\n      <td>0</td>\n      <td>0</td>\n      <td>2015-10-27</td>\n      <td>1.675242e-06</td>\n      <td>0</td>\n      <td>1</td>\n      <td>2015-09-30</td>\n      <td>100002.0</td>\n      <td>TRAINING</td>\n      <td>27 days</td>\n      <td>27.0</td>\n      <td>0</td>\n      <td>0</td>\n      <td>0</td>\n      <td>0</td>\n      <td>1</td>\n      <td>TRUE_NEGATIVE</td>\n    </tr>\n    <tr>\n      <th>1411</th>\n      <td>2016-10-12</td>\n      <td>100002</td>\n      <td>0</td>\n      <td>0</td>\n      <td>2015-10-27</td>\n      <td>2.716905e-07</td>\n      <td>0</td>\n      <td>1</td>\n      <td>2015-09-30</td>\n      <td>100002.0</td>\n      <td>TRAINING</td>\n      <td>27 days</td>\n      <td>27.0</td>\n      <td>0</td>\n      <td>0</td>\n      <td>0</td>\n      <td>0</td>\n      <td>1</td>\n      <td>TRUE_NEGATIVE</td>\n    </tr>\n    <tr>\n      <th>1412</th>\n      <td>2016-10-13</td>\n      <td>100002</td>\n      <td>0</td>\n      <td>0</td>\n      <td>2015-10-27</td>\n      <td>9.383814e-07</td>\n      <td>0</td>\n      <td>1</td>\n      <td>2015-09-30</td>\n      <td>100002.0</td>\n      <td>TRAINING</td>\n      <td>27 days</td>\n      <td>27.0</td>\n      <td>0</td>\n      <td>0</td>\n      <td>0</td>\n      <td>0</td>\n      <td>1</td>\n      <td>TRUE_NEGATIVE</td>\n    </tr>\n    <tr>\n      <th>1413</th>\n      <td>2016-10-14</td>\n      <td>100002</td>\n      <td>0</td>\n      <td>0</td>\n      <td>2015-10-27</td>\n      <td>1.286172e-06</td>\n      <td>0</td>\n      <td>1</td>\n      <td>2015-09-30</td>\n      <td>100002.0</td>\n      <td>TRAINING</td>\n      <td>27 days</td>\n      <td>27.0</td>\n      <td>0</td>\n      <td>0</td>\n      <td>0</td>\n      <td>0</td>\n      <td>1</td>\n      <td>TRUE_NEGATIVE</td>\n    </tr>\n    <tr>\n      <th>1414</th>\n      <td>2016-10-15</td>\n      <td>100002</td>\n      <td>0</td>\n      <td>0</td>\n      <td>2015-10-27</td>\n      <td>4.015253e-07</td>\n      <td>0</td>\n      <td>1</td>\n      <td>2015-09-30</td>\n      <td>100002.0</td>\n      <td>TRAINING</td>\n      <td>27 days</td>\n      <td>27.0</td>\n      <td>0</td>\n      <td>0</td>\n      <td>0</td>\n      <td>0</td>\n      <td>1</td>\n      <td>TRUE_NEGATIVE</td>\n    </tr>\n    <tr>\n      <th>1415</th>\n      <td>2016-10-16</td>\n      <td>100002</td>\n      <td>0</td>\n      <td>0</td>\n      <td>2015-10-27</td>\n      <td>1.425888e-06</td>\n      <td>0</td>\n      <td>1</td>\n      <td>2015-09-30</td>\n      <td>100002.0</td>\n      <td>TRAINING</td>\n      <td>27 days</td>\n      <td>27.0</td>\n      <td>0</td>\n      <td>0</td>\n      <td>0</td>\n      <td>0</td>\n      <td>1</td>\n      <td>TRUE_NEGATIVE</td>\n    </tr>\n    <tr>\n      <th>1416</th>\n      <td>2016-10-17</td>\n      <td>100002</td>\n      <td>0</td>\n      <td>0</td>\n      <td>2015-10-27</td>\n      <td>1.912271e-06</td>\n      <td>0</td>\n      <td>1</td>\n      <td>2015-09-30</td>\n      <td>100002.0</td>\n      <td>TRAINING</td>\n      <td>27 days</td>\n      <td>27.0</td>\n      <td>0</td>\n      <td>0</td>\n      <td>0</td>\n      <td>0</td>\n      <td>1</td>\n      <td>TRUE_NEGATIVE</td>\n    </tr>\n    <tr>\n      <th>1417</th>\n      <td>2016-10-18</td>\n      <td>100002</td>\n      <td>0</td>\n      <td>0</td>\n      <td>2015-10-27</td>\n      <td>2.156683e-06</td>\n      <td>0</td>\n      <td>1</td>\n      <td>2015-09-30</td>\n      <td>100002.0</td>\n      <td>TRAINING</td>\n      <td>27 days</td>\n      <td>27.0</td>\n      <td>0</td>\n      <td>0</td>\n      <td>0</td>\n      <td>0</td>\n      <td>1</td>\n      <td>TRUE_NEGATIVE</td>\n    </tr>\n    <tr>\n      <th>1418</th>\n      <td>2016-10-19</td>\n      <td>100002</td>\n      <td>0</td>\n      <td>0</td>\n      <td>2015-10-27</td>\n      <td>1.233836e-06</td>\n      <td>0</td>\n      <td>1</td>\n      <td>2015-09-30</td>\n      <td>100002.0</td>\n      <td>TRAINING</td>\n      <td>27 days</td>\n      <td>27.0</td>\n      <td>0</td>\n      <td>0</td>\n      <td>0</td>\n      <td>0</td>\n      <td>1</td>\n      <td>TRUE_NEGATIVE</td>\n    </tr>\n    <tr>\n      <th>1419</th>\n      <td>2016-10-20</td>\n      <td>100002</td>\n      <td>0</td>\n      <td>0</td>\n      <td>2015-10-27</td>\n      <td>6.252544e-07</td>\n      <td>0</td>\n      <td>1</td>\n      <td>2015-09-30</td>\n      <td>100002.0</td>\n      <td>TRAINING</td>\n      <td>27 days</td>\n      <td>27.0</td>\n      <td>0</td>\n      <td>0</td>\n      <td>0</td>\n      <td>0</td>\n      <td>1</td>\n      <td>TRUE_NEGATIVE</td>\n    </tr>\n    <tr>\n      <th>1420</th>\n      <td>2016-10-21</td>\n      <td>100002</td>\n      <td>0</td>\n      <td>0</td>\n      <td>2015-10-27</td>\n      <td>2.833388e-06</td>\n      <td>0</td>\n      <td>1</td>\n      <td>2015-09-30</td>\n      <td>100002.0</td>\n      <td>TRAINING</td>\n      <td>27 days</td>\n      <td>27.0</td>\n      <td>0</td>\n      <td>0</td>\n      <td>0</td>\n      <td>0</td>\n      <td>1</td>\n      <td>TRUE_NEGATIVE</td>\n    </tr>\n    <tr>\n      <th>1421</th>\n      <td>2016-10-22</td>\n      <td>100002</td>\n      <td>0</td>\n      <td>0</td>\n      <td>2015-10-27</td>\n      <td>5.035016e-07</td>\n      <td>0</td>\n      <td>1</td>\n      <td>2015-09-30</td>\n      <td>100002.0</td>\n      <td>TRAINING</td>\n      <td>27 days</td>\n      <td>27.0</td>\n      <td>0</td>\n      <td>0</td>\n      <td>0</td>\n      <td>0</td>\n      <td>1</td>\n      <td>TRUE_NEGATIVE</td>\n    </tr>\n    <tr>\n      <th>1422</th>\n      <td>2016-10-23</td>\n      <td>100002</td>\n      <td>0</td>\n      <td>0</td>\n      <td>2015-10-27</td>\n      <td>3.753476e-06</td>\n      <td>0</td>\n      <td>1</td>\n      <td>2015-09-30</td>\n      <td>100002.0</td>\n      <td>TRAINING</td>\n      <td>27 days</td>\n      <td>27.0</td>\n      <td>0</td>\n      <td>0</td>\n      <td>0</td>\n      <td>0</td>\n      <td>1</td>\n      <td>TRUE_NEGATIVE</td>\n    </tr>\n    <tr>\n      <th>1423</th>\n      <td>2016-10-24</td>\n      <td>100002</td>\n      <td>0</td>\n      <td>0</td>\n      <td>2015-10-27</td>\n      <td>1.487680e-06</td>\n      <td>0</td>\n      <td>1</td>\n      <td>2015-09-30</td>\n      <td>100002.0</td>\n      <td>TRAINING</td>\n      <td>27 days</td>\n      <td>27.0</td>\n      <td>0</td>\n      <td>0</td>\n      <td>0</td>\n      <td>0</td>\n      <td>1</td>\n      <td>TRUE_NEGATIVE</td>\n    </tr>\n    <tr>\n      <th>1424</th>\n      <td>2016-10-25</td>\n      <td>100002</td>\n      <td>0</td>\n      <td>0</td>\n      <td>2015-10-27</td>\n      <td>1.190216e-06</td>\n      <td>0</td>\n      <td>1</td>\n      <td>2015-09-30</td>\n      <td>100002.0</td>\n      <td>TRAINING</td>\n      <td>27 days</td>\n      <td>27.0</td>\n      <td>0</td>\n      <td>0</td>\n      <td>0</td>\n      <td>0</td>\n      <td>1</td>\n      <td>TRUE_NEGATIVE</td>\n    </tr>\n    <tr>\n      <th>1425</th>\n      <td>2016-10-26</td>\n      <td>100002</td>\n      <td>0</td>\n      <td>0</td>\n      <td>2015-10-27</td>\n      <td>2.623699e-06</td>\n      <td>0</td>\n      <td>1</td>\n      <td>2015-09-30</td>\n      <td>100002.0</td>\n      <td>TRAINING</td>\n      <td>27 days</td>\n      <td>27.0</td>\n      <td>0</td>\n      <td>0</td>\n      <td>0</td>\n      <td>0</td>\n      <td>1</td>\n      <td>TRUE_NEGATIVE</td>\n    </tr>\n    <tr>\n      <th>1426</th>\n      <td>2016-10-27</td>\n      <td>100002</td>\n      <td>0</td>\n      <td>0</td>\n      <td>2015-10-27</td>\n      <td>2.593805e-06</td>\n      <td>0</td>\n      <td>1</td>\n      <td>2015-09-30</td>\n      <td>100002.0</td>\n      <td>TRAINING</td>\n      <td>27 days</td>\n      <td>27.0</td>\n      <td>0</td>\n      <td>0</td>\n      <td>0</td>\n      <td>0</td>\n      <td>1</td>\n      <td>TRUE_NEGATIVE</td>\n    </tr>\n    <tr>\n      <th>1427</th>\n      <td>2016-10-28</td>\n      <td>100002</td>\n      <td>0</td>\n      <td>0</td>\n      <td>2015-10-27</td>\n      <td>5.334565e-07</td>\n      <td>0</td>\n      <td>1</td>\n      <td>2015-09-30</td>\n      <td>100002.0</td>\n      <td>TRAINING</td>\n      <td>27 days</td>\n      <td>27.0</td>\n      <td>0</td>\n      <td>0</td>\n      <td>0</td>\n      <td>0</td>\n      <td>1</td>\n      <td>TRUE_NEGATIVE</td>\n    </tr>\n    <tr>\n      <th>1428</th>\n      <td>2016-10-29</td>\n      <td>100002</td>\n      <td>0</td>\n      <td>0</td>\n      <td>2015-10-27</td>\n      <td>1.746273e-06</td>\n      <td>0</td>\n      <td>1</td>\n      <td>2015-09-30</td>\n      <td>100002.0</td>\n      <td>TRAINING</td>\n      <td>27 days</td>\n      <td>27.0</td>\n      <td>0</td>\n      <td>0</td>\n      <td>0</td>\n      <td>0</td>\n      <td>1</td>\n      <td>TRUE_NEGATIVE</td>\n    </tr>\n    <tr>\n      <th>1429</th>\n      <td>2016-10-30</td>\n      <td>100002</td>\n      <td>0</td>\n      <td>0</td>\n      <td>2015-10-27</td>\n      <td>2.588562e-06</td>\n      <td>0</td>\n      <td>1</td>\n      <td>2015-09-30</td>\n      <td>100002.0</td>\n      <td>TRAINING</td>\n      <td>27 days</td>\n      <td>27.0</td>\n      <td>0</td>\n      <td>0</td>\n      <td>0</td>\n      <td>0</td>\n      <td>1</td>\n      <td>TRUE_NEGATIVE</td>\n    </tr>\n    <tr>\n      <th>1430</th>\n      <td>2016-10-31</td>\n      <td>100002</td>\n      <td>0</td>\n      <td>0</td>\n      <td>2015-10-27</td>\n      <td>3.599380e-06</td>\n      <td>0</td>\n      <td>1</td>\n      <td>2015-09-30</td>\n      <td>100002.0</td>\n      <td>TRAINING</td>\n      <td>27 days</td>\n      <td>27.0</td>\n      <td>0</td>\n      <td>0</td>\n      <td>0</td>\n      <td>0</td>\n      <td>1</td>\n      <td>TRUE_NEGATIVE</td>\n    </tr>\n    <tr>\n      <th>1431</th>\n      <td>2016-11-01</td>\n      <td>100002</td>\n      <td>0</td>\n      <td>0</td>\n      <td>2015-10-27</td>\n      <td>5.589675e-07</td>\n      <td>0</td>\n      <td>1</td>\n      <td>2015-09-30</td>\n      <td>100002.0</td>\n      <td>TRAINING</td>\n      <td>27 days</td>\n      <td>27.0</td>\n      <td>0</td>\n      <td>0</td>\n      <td>0</td>\n      <td>0</td>\n      <td>1</td>\n      <td>TRUE_NEGATIVE</td>\n    </tr>\n    <tr>\n      <th>1432</th>\n      <td>2016-11-02</td>\n      <td>100002</td>\n      <td>0</td>\n      <td>0</td>\n      <td>2015-10-27</td>\n      <td>1.102035e-07</td>\n      <td>0</td>\n      <td>1</td>\n      <td>2015-09-30</td>\n      <td>100002.0</td>\n      <td>TRAINING</td>\n      <td>27 days</td>\n      <td>27.0</td>\n      <td>0</td>\n      <td>0</td>\n      <td>0</td>\n      <td>0</td>\n      <td>1</td>\n      <td>TRUE_NEGATIVE</td>\n    </tr>\n    <tr>\n      <th>1433</th>\n      <td>2016-11-03</td>\n      <td>100002</td>\n      <td>0</td>\n      <td>0</td>\n      <td>2015-10-27</td>\n      <td>3.333417e-06</td>\n      <td>0</td>\n      <td>1</td>\n      <td>2015-09-30</td>\n      <td>100002.0</td>\n      <td>TRAINING</td>\n      <td>27 days</td>\n      <td>27.0</td>\n      <td>0</td>\n      <td>0</td>\n      <td>0</td>\n      <td>0</td>\n      <td>1</td>\n      <td>TRUE_NEGATIVE</td>\n    </tr>\n    <tr>\n      <th>1434</th>\n      <td>2016-11-04</td>\n      <td>100002</td>\n      <td>0</td>\n      <td>0</td>\n      <td>2015-10-27</td>\n      <td>6.960066e-07</td>\n      <td>0</td>\n      <td>1</td>\n      <td>2015-09-30</td>\n      <td>100002.0</td>\n      <td>TRAINING</td>\n      <td>27 days</td>\n      <td>27.0</td>\n      <td>0</td>\n      <td>0</td>\n      <td>0</td>\n      <td>0</td>\n      <td>1</td>\n      <td>TRUE_NEGATIVE</td>\n    </tr>\n    <tr>\n      <th>1435</th>\n      <td>2016-11-05</td>\n      <td>100002</td>\n      <td>0</td>\n      <td>0</td>\n      <td>2015-10-27</td>\n      <td>2.692669e-06</td>\n      <td>0</td>\n      <td>1</td>\n      <td>2015-09-30</td>\n      <td>100002.0</td>\n      <td>TRAINING</td>\n      <td>27 days</td>\n      <td>27.0</td>\n      <td>0</td>\n      <td>0</td>\n      <td>0</td>\n      <td>0</td>\n      <td>1</td>\n      <td>TRUE_NEGATIVE</td>\n    </tr>\n    <tr>\n      <th>1436</th>\n      <td>2016-11-06</td>\n      <td>100002</td>\n      <td>0</td>\n      <td>0</td>\n      <td>2015-10-27</td>\n      <td>1.789163e-06</td>\n      <td>0</td>\n      <td>1</td>\n      <td>2015-09-30</td>\n      <td>100002.0</td>\n      <td>TRAINING</td>\n      <td>27 days</td>\n      <td>27.0</td>\n      <td>0</td>\n      <td>0</td>\n      <td>0</td>\n      <td>0</td>\n      <td>1</td>\n      <td>TRUE_NEGATIVE</td>\n    </tr>\n    <tr>\n      <th>1437</th>\n      <td>2016-11-07</td>\n      <td>100002</td>\n      <td>0</td>\n      <td>0</td>\n      <td>2015-10-27</td>\n      <td>5.642173e-06</td>\n      <td>0</td>\n      <td>1</td>\n      <td>2015-09-30</td>\n      <td>100002.0</td>\n      <td>TRAINING</td>\n      <td>27 days</td>\n      <td>27.0</td>\n      <td>0</td>\n      <td>0</td>\n      <td>0</td>\n      <td>0</td>\n      <td>1</td>\n      <td>TRUE_NEGATIVE</td>\n    </tr>\n    <tr>\n      <th>1438</th>\n      <td>2016-11-08</td>\n      <td>100002</td>\n      <td>0</td>\n      <td>0</td>\n      <td>2015-10-27</td>\n      <td>2.487879e-06</td>\n      <td>0</td>\n      <td>1</td>\n      <td>2015-09-30</td>\n      <td>100002.0</td>\n      <td>TRAINING</td>\n      <td>27 days</td>\n      <td>27.0</td>\n      <td>0</td>\n      <td>0</td>\n      <td>0</td>\n      <td>0</td>\n      <td>1</td>\n      <td>TRUE_NEGATIVE</td>\n    </tr>\n    <tr>\n      <th>1439</th>\n      <td>2016-11-09</td>\n      <td>100002</td>\n      <td>0</td>\n      <td>0</td>\n      <td>2015-10-27</td>\n      <td>5.071012e-06</td>\n      <td>0</td>\n      <td>1</td>\n      <td>2015-09-30</td>\n      <td>100002.0</td>\n      <td>TRAINING</td>\n      <td>27 days</td>\n      <td>27.0</td>\n      <td>0</td>\n      <td>0</td>\n      <td>0</td>\n      <td>0</td>\n      <td>1</td>\n      <td>TRUE_NEGATIVE</td>\n    </tr>\n    <tr>\n      <th>1440</th>\n      <td>2016-11-10</td>\n      <td>100002</td>\n      <td>0</td>\n      <td>0</td>\n      <td>2015-10-27</td>\n      <td>8.902670e-06</td>\n      <td>0</td>\n      <td>1</td>\n      <td>2015-09-30</td>\n      <td>100002.0</td>\n      <td>TRAINING</td>\n      <td>27 days</td>\n      <td>27.0</td>\n      <td>0</td>\n      <td>0</td>\n      <td>0</td>\n      <td>0</td>\n      <td>1</td>\n      <td>TRUE_NEGATIVE</td>\n    </tr>\n    <tr>\n      <th>1441</th>\n      <td>2016-11-11</td>\n      <td>100002</td>\n      <td>0</td>\n      <td>0</td>\n      <td>2015-10-27</td>\n      <td>1.024843e-06</td>\n      <td>0</td>\n      <td>1</td>\n      <td>2015-09-30</td>\n      <td>100002.0</td>\n      <td>TRAINING</td>\n      <td>27 days</td>\n      <td>27.0</td>\n      <td>0</td>\n      <td>0</td>\n      <td>0</td>\n      <td>0</td>\n      <td>1</td>\n      <td>TRUE_NEGATIVE</td>\n    </tr>\n    <tr>\n      <th>1442</th>\n      <td>2016-11-12</td>\n      <td>100002</td>\n      <td>0</td>\n      <td>0</td>\n      <td>2015-10-27</td>\n      <td>1.205360e-06</td>\n      <td>0</td>\n      <td>1</td>\n      <td>2015-09-30</td>\n      <td>100002.0</td>\n      <td>TRAINING</td>\n      <td>27 days</td>\n      <td>27.0</td>\n      <td>0</td>\n      <td>0</td>\n      <td>0</td>\n      <td>0</td>\n      <td>1</td>\n      <td>TRUE_NEGATIVE</td>\n    </tr>\n    <tr>\n      <th>1443</th>\n      <td>2016-11-13</td>\n      <td>100002</td>\n      <td>0</td>\n      <td>0</td>\n      <td>2015-10-27</td>\n      <td>1.014449e-05</td>\n      <td>0</td>\n      <td>1</td>\n      <td>2015-09-30</td>\n      <td>100002.0</td>\n      <td>TRAINING</td>\n      <td>27 days</td>\n      <td>27.0</td>\n      <td>0</td>\n      <td>0</td>\n      <td>0</td>\n      <td>0</td>\n      <td>1</td>\n      <td>TRUE_NEGATIVE</td>\n    </tr>\n    <tr>\n      <th>1444</th>\n      <td>2016-11-14</td>\n      <td>100002</td>\n      <td>0</td>\n      <td>0</td>\n      <td>2015-10-27</td>\n      <td>2.220367e-05</td>\n      <td>0</td>\n      <td>1</td>\n      <td>2015-09-30</td>\n      <td>100002.0</td>\n      <td>TRAINING</td>\n      <td>27 days</td>\n      <td>27.0</td>\n      <td>0</td>\n      <td>0</td>\n      <td>0</td>\n      <td>0</td>\n      <td>1</td>\n      <td>TRUE_NEGATIVE</td>\n    </tr>\n    <tr>\n      <th>1445</th>\n      <td>2016-11-15</td>\n      <td>100002</td>\n      <td>0</td>\n      <td>0</td>\n      <td>2015-10-27</td>\n      <td>1.491319e-05</td>\n      <td>0</td>\n      <td>1</td>\n      <td>2015-09-30</td>\n      <td>100002.0</td>\n      <td>TRAINING</td>\n      <td>27 days</td>\n      <td>27.0</td>\n      <td>0</td>\n      <td>0</td>\n      <td>0</td>\n      <td>0</td>\n      <td>1</td>\n      <td>TRUE_NEGATIVE</td>\n    </tr>\n    <tr>\n      <th>1446</th>\n      <td>2016-11-16</td>\n      <td>100002</td>\n      <td>0</td>\n      <td>0</td>\n      <td>2015-10-27</td>\n      <td>5.201123e-06</td>\n      <td>0</td>\n      <td>1</td>\n      <td>2015-09-30</td>\n      <td>100002.0</td>\n      <td>TRAINING</td>\n      <td>27 days</td>\n      <td>27.0</td>\n      <td>0</td>\n      <td>0</td>\n      <td>0</td>\n      <td>0</td>\n      <td>1</td>\n      <td>TRUE_NEGATIVE</td>\n    </tr>\n    <tr>\n      <th>1447</th>\n      <td>2016-11-17</td>\n      <td>100002</td>\n      <td>0</td>\n      <td>0</td>\n      <td>2015-10-27</td>\n      <td>5.570450e-06</td>\n      <td>0</td>\n      <td>1</td>\n      <td>2015-09-30</td>\n      <td>100002.0</td>\n      <td>TRAINING</td>\n      <td>27 days</td>\n      <td>27.0</td>\n      <td>0</td>\n      <td>0</td>\n      <td>0</td>\n      <td>0</td>\n      <td>1</td>\n      <td>TRUE_NEGATIVE</td>\n    </tr>\n    <tr>\n      <th>1448</th>\n      <td>2016-11-18</td>\n      <td>100002</td>\n      <td>0</td>\n      <td>0</td>\n      <td>2015-10-27</td>\n      <td>3.657813e-06</td>\n      <td>0</td>\n      <td>1</td>\n      <td>2015-09-30</td>\n      <td>100002.0</td>\n      <td>TRAINING</td>\n      <td>27 days</td>\n      <td>27.0</td>\n      <td>0</td>\n      <td>0</td>\n      <td>0</td>\n      <td>0</td>\n      <td>1</td>\n      <td>TRUE_NEGATIVE</td>\n    </tr>\n    <tr>\n      <th>1449</th>\n      <td>2016-11-19</td>\n      <td>100002</td>\n      <td>0</td>\n      <td>0</td>\n      <td>2015-10-27</td>\n      <td>6.866559e-06</td>\n      <td>0</td>\n      <td>1</td>\n      <td>2015-09-30</td>\n      <td>100002.0</td>\n      <td>TRAINING</td>\n      <td>27 days</td>\n      <td>27.0</td>\n      <td>0</td>\n      <td>0</td>\n      <td>0</td>\n      <td>0</td>\n      <td>1</td>\n      <td>TRUE_NEGATIVE</td>\n    </tr>\n    <tr>\n      <th>1450</th>\n      <td>2016-11-20</td>\n      <td>100002</td>\n      <td>0</td>\n      <td>0</td>\n      <td>2015-10-27</td>\n      <td>1.048248e-05</td>\n      <td>0</td>\n      <td>1</td>\n      <td>2015-09-30</td>\n      <td>100002.0</td>\n      <td>TRAINING</td>\n      <td>27 days</td>\n      <td>27.0</td>\n      <td>0</td>\n      <td>0</td>\n      <td>0</td>\n      <td>0</td>\n      <td>1</td>\n      <td>TRUE_NEGATIVE</td>\n    </tr>\n    <tr>\n      <th>1451</th>\n      <td>2016-11-21</td>\n      <td>100002</td>\n      <td>0</td>\n      <td>0</td>\n      <td>2015-10-27</td>\n      <td>2.320447e-05</td>\n      <td>0</td>\n      <td>1</td>\n      <td>2015-09-30</td>\n      <td>100002.0</td>\n      <td>TRAINING</td>\n      <td>27 days</td>\n      <td>27.0</td>\n      <td>0</td>\n      <td>0</td>\n      <td>0</td>\n      <td>0</td>\n      <td>1</td>\n      <td>TRUE_NEGATIVE</td>\n    </tr>\n    <tr>\n      <th>1452</th>\n      <td>2016-11-22</td>\n      <td>100002</td>\n      <td>0</td>\n      <td>0</td>\n      <td>2015-10-27</td>\n      <td>1.191536e-04</td>\n      <td>0</td>\n      <td>1</td>\n      <td>2015-09-30</td>\n      <td>100002.0</td>\n      <td>TRAINING</td>\n      <td>27 days</td>\n      <td>27.0</td>\n      <td>0</td>\n      <td>0</td>\n      <td>0</td>\n      <td>0</td>\n      <td>1</td>\n      <td>TRUE_NEGATIVE</td>\n    </tr>\n    <tr>\n      <th>1453</th>\n      <td>2016-11-23</td>\n      <td>100002</td>\n      <td>0</td>\n      <td>0</td>\n      <td>2015-10-27</td>\n      <td>1.129983e-04</td>\n      <td>0</td>\n      <td>1</td>\n      <td>2015-09-30</td>\n      <td>100002.0</td>\n      <td>TRAINING</td>\n      <td>27 days</td>\n      <td>27.0</td>\n      <td>0</td>\n      <td>0</td>\n      <td>0</td>\n      <td>0</td>\n      <td>1</td>\n      <td>TRUE_NEGATIVE</td>\n    </tr>\n    <tr>\n      <th>1454</th>\n      <td>2016-11-24</td>\n      <td>100002</td>\n      <td>0</td>\n      <td>0</td>\n      <td>2015-10-27</td>\n      <td>6.768991e-05</td>\n      <td>0</td>\n      <td>1</td>\n      <td>2015-09-30</td>\n      <td>100002.0</td>\n      <td>TRAINING</td>\n      <td>27 days</td>\n      <td>27.0</td>\n      <td>0</td>\n      <td>0</td>\n      <td>0</td>\n      <td>0</td>\n      <td>1</td>\n      <td>TRUE_NEGATIVE</td>\n    </tr>\n    <tr>\n      <th>1455</th>\n      <td>2016-11-25</td>\n      <td>100002</td>\n      <td>0</td>\n      <td>0</td>\n      <td>2015-10-27</td>\n      <td>6.330232e-05</td>\n      <td>0</td>\n      <td>1</td>\n      <td>2015-09-30</td>\n      <td>100002.0</td>\n      <td>TRAINING</td>\n      <td>27 days</td>\n      <td>27.0</td>\n      <td>0</td>\n      <td>0</td>\n      <td>0</td>\n      <td>0</td>\n      <td>1</td>\n      <td>TRUE_NEGATIVE</td>\n    </tr>\n    <tr>\n      <th>1456</th>\n      <td>2016-11-26</td>\n      <td>100002</td>\n      <td>0</td>\n      <td>0</td>\n      <td>2015-10-27</td>\n      <td>4.431281e-06</td>\n      <td>0</td>\n      <td>1</td>\n      <td>2015-09-30</td>\n      <td>100002.0</td>\n      <td>TRAINING</td>\n      <td>27 days</td>\n      <td>27.0</td>\n      <td>0</td>\n      <td>0</td>\n      <td>0</td>\n      <td>0</td>\n      <td>1</td>\n      <td>TRUE_NEGATIVE</td>\n    </tr>\n    <tr>\n      <th>1457</th>\n      <td>2016-11-27</td>\n      <td>100002</td>\n      <td>0</td>\n      <td>0</td>\n      <td>2015-10-27</td>\n      <td>1.403233e-04</td>\n      <td>0</td>\n      <td>1</td>\n      <td>2015-09-30</td>\n      <td>100002.0</td>\n      <td>TRAINING</td>\n      <td>27 days</td>\n      <td>27.0</td>\n      <td>0</td>\n      <td>0</td>\n      <td>0</td>\n      <td>0</td>\n      <td>1</td>\n      <td>TRUE_NEGATIVE</td>\n    </tr>\n    <tr>\n      <th>1458</th>\n      <td>2016-11-28</td>\n      <td>100002</td>\n      <td>0</td>\n      <td>0</td>\n      <td>2015-10-27</td>\n      <td>1.550319e-03</td>\n      <td>0</td>\n      <td>1</td>\n      <td>2015-09-30</td>\n      <td>100002.0</td>\n      <td>TRAINING</td>\n      <td>27 days</td>\n      <td>27.0</td>\n      <td>0</td>\n      <td>0</td>\n      <td>0</td>\n      <td>0</td>\n      <td>1</td>\n      <td>TRUE_NEGATIVE</td>\n    </tr>\n    <tr>\n      <th>1459</th>\n      <td>2016-11-29</td>\n      <td>100002</td>\n      <td>0</td>\n      <td>0</td>\n      <td>2015-10-27</td>\n      <td>1.519948e-04</td>\n      <td>0</td>\n      <td>1</td>\n      <td>2015-09-30</td>\n      <td>100002.0</td>\n      <td>TRAINING</td>\n      <td>27 days</td>\n      <td>27.0</td>\n      <td>0</td>\n      <td>0</td>\n      <td>0</td>\n      <td>0</td>\n      <td>1</td>\n      <td>TRUE_NEGATIVE</td>\n    </tr>\n    <tr>\n      <th>1460</th>\n      <td>2016-11-30</td>\n      <td>100002</td>\n      <td>0</td>\n      <td>0</td>\n      <td>2015-10-27</td>\n      <td>1.883596e-03</td>\n      <td>0</td>\n      <td>1</td>\n      <td>2015-09-30</td>\n      <td>100002.0</td>\n      <td>TRAINING</td>\n      <td>27 days</td>\n      <td>27.0</td>\n      <td>0</td>\n      <td>0</td>\n      <td>0</td>\n      <td>0</td>\n      <td>1</td>\n      <td>TRUE_NEGATIVE</td>\n    </tr>\n    <tr>\n      <th>1461</th>\n      <td>2016-12-01</td>\n      <td>100002</td>\n      <td>0</td>\n      <td>0</td>\n      <td>2015-10-27</td>\n      <td>2.634133e-04</td>\n      <td>0</td>\n      <td>1</td>\n      <td>2015-09-30</td>\n      <td>100002.0</td>\n      <td>TRAINING</td>\n      <td>27 days</td>\n      <td>27.0</td>\n      <td>0</td>\n      <td>0</td>\n      <td>0</td>\n      <td>0</td>\n      <td>1</td>\n      <td>TRUE_NEGATIVE</td>\n    </tr>\n  </tbody>\n</table>\n</div>"
          },
          "metadata": {}
        }
      ]
    },
    {
      "metadata": {
        "id": "8cMPdbP8TtoT"
      },
      "cell_type": "markdown",
      "source": [
        "From examining the data above, you can see the failure signal occurred on 09/30/2015.  The failure associated with this machine is 10/27/2015.  The time between the signal is 27 days, within the 90-day window.  Therefore, the signal is a True Positive (line 1060)"
      ]
    },
    {
      "metadata": {
        "id": "X6KR4q57TtoT",
        "outputId": "061768a2-fc67-4bdb-da7e-a8ebe94f0635"
      },
      "cell_type": "code",
      "source": [
        "table = pd.pivot_table(df, values=['bootie'], index=['MODELING_GROUP'],columns=['CATEGORY'], aggfunc=np.sum)\n",
        "table"
      ],
      "execution_count": null,
      "outputs": [
        {
          "output_type": "execute_result",
          "execution_count": 110,
          "data": {
            "text/plain": "                       bootie                                           \nCATEGORY       FALSE_NEGATIVE FALSE_POSITIVE TRUE_NEGATIVE TRUE_POSITIVE\nMODELING_GROUP                                                          \nTESTING                 126.0          113.0      108657.0          23.0\nTRAINING                  NaN            NaN      106580.0         146.0",
            "text/html": "<div>\n<style scoped>\n    .dataframe tbody tr th:only-of-type {\n        vertical-align: middle;\n    }\n\n    .dataframe tbody tr th {\n        vertical-align: top;\n    }\n\n    .dataframe thead tr th {\n        text-align: left;\n    }\n\n    .dataframe thead tr:last-of-type th {\n        text-align: right;\n    }\n</style>\n<table border=\"1\" class=\"dataframe\">\n  <thead>\n    <tr>\n      <th></th>\n      <th colspan=\"4\" halign=\"left\">bootie</th>\n    </tr>\n    <tr>\n      <th>CATEGORY</th>\n      <th>FALSE_NEGATIVE</th>\n      <th>FALSE_POSITIVE</th>\n      <th>TRUE_NEGATIVE</th>\n      <th>TRUE_POSITIVE</th>\n    </tr>\n    <tr>\n      <th>MODELING_GROUP</th>\n      <th></th>\n      <th></th>\n      <th></th>\n      <th></th>\n    </tr>\n  </thead>\n  <tbody>\n    <tr>\n      <th>TESTING</th>\n      <td>126.0</td>\n      <td>113.0</td>\n      <td>108657.0</td>\n      <td>23.0</td>\n    </tr>\n    <tr>\n      <th>TRAINING</th>\n      <td>NaN</td>\n      <td>NaN</td>\n      <td>106580.0</td>\n      <td>146.0</td>\n    </tr>\n  </tbody>\n</table>\n</div>"
          },
          "metadata": {}
        }
      ]
    },
    {
      "metadata": {
        "id": "V6_HirY1TtoT"
      },
      "cell_type": "markdown",
      "source": [
        "So, in the testing data set, we have 126 false negatives, 113 false positives, 108,657 true negatives, and 23 true positives.  These metrics incorporate the failure window and should give a more realistic view of how the model will perform in production.\n",
        "\n",
        "Is this good?  I still honestly have no idea.  To fully understand if the model is good, we must examine it in the context of the problem.  We need to evaluate the model relative to the current costs and how much a model will lower these costs."
      ]
    },
    {
      "metadata": {
        "id": "AvTAMwmkTtoT"
      },
      "cell_type": "markdown",
      "source": [
        "#### 7.34 Incorporating the Economics of the Problem.<a id=\"7.34\"></a>"
      ]
    },
    {
      "metadata": {
        "id": "Tzw5toVNTtoT"
      },
      "cell_type": "markdown",
      "source": [
        "Using the costs associated with these metrics, what do the results mean from an economic perspective?\n",
        "\n",
        "\n",
        "Remember this?\n"
      ]
    },
    {
      "metadata": {
        "id": "wGnBBw9WTtoU",
        "outputId": "830e6a0a-c89c-45c9-f2e7-943405f04bb4"
      },
      "cell_type": "code",
      "source": [
        "from IPython.display import Image\n",
        "from IPython.core.display import HTML\n",
        "Image(url= \"https://cdn-images-1.medium.com/max/1600/1*fUKUEUeqgIYU9xlxj4pwhw.png\")"
      ],
      "execution_count": null,
      "outputs": [
        {
          "output_type": "execute_result",
          "execution_count": 111,
          "data": {
            "text/html": "<img src=\"https://cdn-images-1.medium.com/max/1600/1*fUKUEUeqgIYU9xlxj4pwhw.png\"/>",
            "text/plain": "<IPython.core.display.Image object>"
          },
          "metadata": {}
        }
      ]
    },
    {
      "metadata": {
        "id": "Tc7DWtSWTtoU"
      },
      "cell_type": "markdown",
      "source": [
        "\n",
        "\n",
        "A false positive is “Unnecessary Maintenance.” A true positive is a “Timely and Appropriate Maintenance.” A false negative is “Machine Runs to Failure.”\n",
        "\n",
        "A false positive costs $1,500.\n",
        "\n",
        "A false negative costs $30,000.\n",
        "\n",
        "A true positive costs $7,500.\n",
        "\n",
        "A true negative has no cost because no action is taken.\n",
        "\n",
        "Now we can calculate the total cost.\n"
      ]
    },
    {
      "metadata": {
        "id": "MOZFLVR1TtoU"
      },
      "cell_type": "code",
      "source": [
        "df['TOTAL_COST']=df.FALSE_NEGATIVE*30000+df.FALSE_POSITIVE*1500+df.TRUE_POSITIVE*7500"
      ],
      "execution_count": null,
      "outputs": []
    },
    {
      "metadata": {
        "id": "MVW7g1cDTtoU"
      },
      "cell_type": "markdown",
      "source": [
        "Aggregate the costs by modeling group."
      ]
    },
    {
      "metadata": {
        "id": "-achbPM5TtoU",
        "outputId": "68cebc16-ad80-4f18-977c-1a17f264c1d0"
      },
      "cell_type": "code",
      "source": [
        "table = pd.pivot_table(df, values=['TOTAL_COST'],index=['MODELING_GROUP'], aggfunc=np.sum)\n",
        "table"
      ],
      "execution_count": null,
      "outputs": [
        {
          "output_type": "execute_result",
          "execution_count": 113,
          "data": {
            "text/plain": "                TOTAL_COST\nMODELING_GROUP            \nTESTING            4122000\nTRAINING           1095000",
            "text/html": "<div>\n<style scoped>\n    .dataframe tbody tr th:only-of-type {\n        vertical-align: middle;\n    }\n\n    .dataframe tbody tr th {\n        vertical-align: top;\n    }\n\n    .dataframe thead th {\n        text-align: right;\n    }\n</style>\n<table border=\"1\" class=\"dataframe\">\n  <thead>\n    <tr style=\"text-align: right;\">\n      <th></th>\n      <th>TOTAL_COST</th>\n    </tr>\n    <tr>\n      <th>MODELING_GROUP</th>\n      <th></th>\n    </tr>\n  </thead>\n  <tbody>\n    <tr>\n      <th>TESTING</th>\n      <td>4122000</td>\n    </tr>\n    <tr>\n      <th>TRAINING</th>\n      <td>1095000</td>\n    </tr>\n  </tbody>\n</table>\n</div>"
          },
          "metadata": {}
        }
      ]
    },
    {
      "metadata": {
        "id": "d_On9hOgTtoV"
      },
      "cell_type": "markdown",
      "source": [
        "Calculate the number of machines in each modeling group."
      ]
    },
    {
      "metadata": {
        "id": "qq8QDdMfTtoV",
        "outputId": "3c1d91a0-70f2-49f6-b4f8-20595be8e738"
      },
      "cell_type": "code",
      "source": [
        "wells=df[['ID','MODELING_GROUP']]\n",
        "wells=wells.drop_duplicates(subset='ID')\n",
        "wells = wells.groupby(['MODELING_GROUP'])['ID'].count()\n",
        "wells=pd.DataFrame(wells)\n",
        "wells=wells.rename(columns={\"ID\": \"WELLS\"})\n",
        "wells\n"
      ],
      "execution_count": null,
      "outputs": [
        {
          "output_type": "execute_result",
          "execution_count": 114,
          "data": {
            "text/plain": "                WELLS\nMODELING_GROUP       \nTESTING           149\nTRAINING          146",
            "text/html": "<div>\n<style scoped>\n    .dataframe tbody tr th:only-of-type {\n        vertical-align: middle;\n    }\n\n    .dataframe tbody tr th {\n        vertical-align: top;\n    }\n\n    .dataframe thead th {\n        text-align: right;\n    }\n</style>\n<table border=\"1\" class=\"dataframe\">\n  <thead>\n    <tr style=\"text-align: right;\">\n      <th></th>\n      <th>WELLS</th>\n    </tr>\n    <tr>\n      <th>MODELING_GROUP</th>\n      <th></th>\n    </tr>\n  </thead>\n  <tbody>\n    <tr>\n      <th>TESTING</th>\n      <td>149</td>\n    </tr>\n    <tr>\n      <th>TRAINING</th>\n      <td>146</td>\n    </tr>\n  </tbody>\n</table>\n</div>"
          },
          "metadata": {}
        }
      ]
    },
    {
      "metadata": {
        "id": "yVpl3nnJTtoV"
      },
      "cell_type": "markdown",
      "source": [
        "Merge the total costs and total machines into one data frame."
      ]
    },
    {
      "metadata": {
        "id": "I8lVvAZYTtoV"
      },
      "cell_type": "code",
      "source": [
        "tc = df.groupby(['MODELING_GROUP'])['TOTAL_COST'].sum()\n",
        "tc=pd.DataFrame(tc)"
      ],
      "execution_count": null,
      "outputs": []
    },
    {
      "metadata": {
        "id": "W-LvZpgwTtoV"
      },
      "cell_type": "code",
      "source": [
        "ac =tc.merge(wells, on=['MODELING_GROUP'], how='inner')"
      ],
      "execution_count": null,
      "outputs": []
    },
    {
      "metadata": {
        "id": "8xbXvoiSTtoV"
      },
      "cell_type": "markdown",
      "source": [
        "Calculate the average cost per machine.\n"
      ]
    },
    {
      "metadata": {
        "id": "XVwfwJdCTtoV",
        "outputId": "036eb232-ace2-40fe-ba54-5d214ace24a7"
      },
      "cell_type": "code",
      "source": [
        "ac['AVERAGE_COST']=ac.TOTAL_COST/ac.WELLS\n",
        "ac['LIFT']=27948-ac.AVERAGE_COST\n",
        "ac"
      ],
      "execution_count": null,
      "outputs": [
        {
          "output_type": "execute_result",
          "execution_count": 117,
          "data": {
            "text/plain": "                TOTAL_COST  WELLS  AVERAGE_COST         LIFT\nMODELING_GROUP                                              \nTESTING            4122000    149   27664.42953    283.57047\nTRAINING           1095000    146    7500.00000  20448.00000",
            "text/html": "<div>\n<style scoped>\n    .dataframe tbody tr th:only-of-type {\n        vertical-align: middle;\n    }\n\n    .dataframe tbody tr th {\n        vertical-align: top;\n    }\n\n    .dataframe thead th {\n        text-align: right;\n    }\n</style>\n<table border=\"1\" class=\"dataframe\">\n  <thead>\n    <tr style=\"text-align: right;\">\n      <th></th>\n      <th>TOTAL_COST</th>\n      <th>WELLS</th>\n      <th>AVERAGE_COST</th>\n      <th>LIFT</th>\n    </tr>\n    <tr>\n      <th>MODELING_GROUP</th>\n      <th></th>\n      <th></th>\n      <th></th>\n      <th></th>\n    </tr>\n  </thead>\n  <tbody>\n    <tr>\n      <th>TESTING</th>\n      <td>4122000</td>\n      <td>149</td>\n      <td>27664.42953</td>\n      <td>283.57047</td>\n    </tr>\n    <tr>\n      <th>TRAINING</th>\n      <td>1095000</td>\n      <td>146</td>\n      <td>7500.00000</td>\n      <td>20448.00000</td>\n    </tr>\n  </tbody>\n</table>\n</div>"
          },
          "metadata": {}
        }
      ]
    },
    {
      "metadata": {
        "id": "Kye8oO0kTtoW"
      },
      "cell_type": "markdown",
      "source": [
        "Is this good?  Not really.   By using predictive maintenance we lowered the cost of operating each machine by 283 dollars.  Multiplied by 419 machines, this is a total savings of 118,577 dollars."
      ]
    },
    {
      "metadata": {
        "id": "I4Ny75BRTtoW"
      },
      "cell_type": "markdown",
      "source": [
        "I think we can do better, though.  Let's tweak our parameters."
      ]
    },
    {
      "metadata": {
        "id": "dCV2GUYwTtoW"
      },
      "cell_type": "markdown",
      "source": [
        "#### 7.4 Fine-Tuning  the solution.<a id=\"7.4\"></a>"
      ]
    },
    {
      "metadata": {
        "id": "EuQCKUJgTtoW"
      },
      "cell_type": "markdown",
      "source": [
        "First, we will define the forecast window and change the cut-off from .50 to 0.015.  If the probability is less than 0.015, we expect a non-failure.  If the likelihood is more than 0.015, we expect a failure.  The forecast window doesn't change.\n"
      ]
    },
    {
      "metadata": {
        "id": "7_OLUdNYTtoW"
      },
      "cell_type": "code",
      "source": [
        "forecast_window=90\n",
        "cutoff=0.02"
      ],
      "execution_count": null,
      "outputs": []
    },
    {
      "metadata": {
        "id": "7kxrLv3FTtoW"
      },
      "cell_type": "markdown",
      "source": [
        "Now, clean up the data so that only one failure signal occurs every 90 days.  Associate a machine with each signal and find the date of each signal."
      ]
    },
    {
      "metadata": {
        "id": "6zzfrcfOTtoW"
      },
      "cell_type": "code",
      "source": [
        "df=df_train_test"
      ],
      "execution_count": null,
      "outputs": []
    },
    {
      "metadata": {
        "id": "K8JgVe01TtoX"
      },
      "cell_type": "code",
      "source": [
        "df['P_FAIL']= xgb0.predict_proba(df[features])[:,1];\n",
        "df['Y_FAIL'] = np.where(((df.P_FAIL <= cutoff)), 0, 1)\n",
        "#sort the data by id and date.\n",
        "xx=df\n",
        "xx=xx.sort_values(by=['ID','DATE'], ascending=[True, True])\n",
        "#create a unique list of machines\n",
        "aa=xx\n",
        "\n",
        "pd_id=aa.drop_duplicates(subset='ID')\n",
        "pd_id=pd_id[['ID']]\n",
        "\n",
        "\n",
        "#label each machine with a sequential number\n",
        "pd_id=pd_id.reset_index(drop=True)\n",
        "pd_id=pd_id.reset_index(drop=False)\n",
        "pd_id=pd_id.rename(columns={\"index\": \"SCOOBYDOO\"})\n",
        "pd_id['SCOOBYDOO']=pd_id['SCOOBYDOO']+1\n",
        "pd_id.head()\n",
        "\n",
        "#grab the max number of machines +1\n",
        "\n",
        "column = pd_id[\"SCOOBYDOO\"]\n",
        "max_value = column.max()+1\n",
        "max_value\n",
        "\n",
        "#append sequential number to main file.  Now each machine has a sequencial id.\n",
        "xx=xx.sort_values(by=['ID'], ascending=[True])\n",
        "pd_id=pd_id.sort_values(by=['ID'], ascending=[True])\n",
        "xx =xx.merge(pd_id, on=['ID'], how='inner')\n",
        "xx.head()\n",
        "\n",
        "#sort data\n",
        "xx=xx.sort_values(by=['ID','DATE'], ascending=[True,True])\n",
        "\n",
        "#reset index\n",
        "xx=xx.reset_index(drop=True)\n",
        "\n",
        "#create a null dataframe for the next step\n",
        "df_fred=xx\n",
        "df_fred['Y_FAIL_sumxx']=0\n",
        "df_fred=df_fred[df_fred['SCOOBYDOO'] == max_value+1]\n",
        "df_fred.shape\n",
        "\n",
        "\n",
        "#sum the number of signals occuring over the last 90 days for each machine individually\n",
        "\n",
        "for x in range(max_value):\n",
        "        dffx=xx[xx['SCOOBYDOO'] ==x]\n",
        "        dff=dffx.copy()\n",
        "        dff['Y_FAIL_sumxx'] =(dff['Y_FAIL'].rolling(min_periods=1, window=(forecast_window)).sum())\n",
        "        df_fred= pd.concat([df_fred,dff])\n",
        "\n",
        "\n",
        "xx=df_fred\n",
        "\n",
        "# if a signal has occured in the last 90 days, the signal is 0.\n",
        "xx['Y_FAILZ']=np.where((xx.Y_FAIL_sumxx>1), 0, xx.Y_FAIL)\n",
        "\n",
        "\n",
        "#sort the data by id and date.\n",
        "\n",
        "xx=xx.sort_values(by=['ID','DATE'], ascending=[True, True])\n",
        "\n",
        "\n",
        "#create signal id with the cumsum function.\n",
        "xx['SIGNAL_ID'] = xx['Y_FAILZ'].cumsum()\n",
        "\n",
        "\n",
        "df_signals=xx[xx['Y_FAILZ'] == 1]\n",
        "df_signal_date=df_signals[['SIGNAL_ID','DATE','ID']]\n",
        "df_signal_date=df_signal_date.rename(index=str, columns={\"DATE\": \"SIGNAL_DATE\"})\n",
        "df_signal_date=df_signal_date.rename(index=str, columns={\"ID\": \"ID_OF_SIGNAL\"})\n",
        "\n",
        "\n",
        "\n",
        "xx =xx.merge(df_signal_date, on=['SIGNAL_ID'], how='outer')\n",
        "\n",
        "\n",
        "xx=xx[['DATE', 'ID', 'EQUIPMENT_FAILURE', 'FAILURE_TARGET','FAILURE_DATE',\n",
        "       'P_FAIL', 'Y_FAILZ','SIGNAL_ID',\n",
        "       'SIGNAL_DATE','ID_OF_SIGNAL','MODELING_GROUP']]\n",
        "\n",
        "\n",
        "\n",
        "xx['C'] = xx['FAILURE_DATE'] - xx['SIGNAL_DATE']\n",
        "xx['WARNING'] = xx['C'] / np.timedelta64(1, 'D')\n",
        "\n",
        "\n",
        "\n",
        "\n",
        "df=xx\n"
      ],
      "execution_count": null,
      "outputs": []
    },
    {
      "metadata": {
        "id": "piaSSFI_TtoX"
      },
      "cell_type": "markdown",
      "source": [
        "Use Heuristics to define false positives, false negatives, true positives and true negatives."
      ]
    },
    {
      "metadata": {
        "id": "XDDjLaDxTtoX"
      },
      "cell_type": "code",
      "source": [
        "# define a true positive\n",
        "df['TRUE_POSITIVE'] = np.where(((df.EQUIPMENT_FAILURE == 1) & (df.WARNING<=forecast_window) &(df.WARNING>=0) & (df.ID_OF_SIGNAL==df.ID)), 1, 0)\n",
        "\n",
        "\n",
        "# define a false negative\n",
        "df['FALSE_NEGATIVE'] = np.where((df.TRUE_POSITIVE==0) & (df.EQUIPMENT_FAILURE==1), 1, 0)\n",
        "\n",
        "# define a false positive\n",
        "df['BAD_S']=np.where((df.WARNING<0) | (df.WARNING>=forecast_window), 1, 0)\n",
        "\n",
        "df['FALSE_POSITIVE'] = np.where(((df.Y_FAILZ == 1) & (df.BAD_S==1) & (df.ID_OF_SIGNAL==df.ID)), 1, 0)\n",
        "\n",
        "df['bootie']=1\n",
        "\n",
        "df['CATEGORY']=np.where((df.FALSE_POSITIVE==1),'FALSE_POSITIVE',\n",
        "                                      (np.where((df.FALSE_NEGATIVE==1),'FALSE_NEGATIVE',\n",
        "                                                (np.where((df.TRUE_POSITIVE==1),'TRUE_POSITIVE','TRUE_NEGATIVE')))))"
      ],
      "execution_count": null,
      "outputs": []
    },
    {
      "metadata": {
        "id": "wECRJf8qTtoX"
      },
      "cell_type": "markdown",
      "source": [
        "Now we can examine a cross-tabulation."
      ]
    },
    {
      "metadata": {
        "id": "zCqyoJJ-TtoX",
        "outputId": "fc4e26aa-25ea-4b47-e1d0-345c5d20ff6f"
      },
      "cell_type": "code",
      "source": [
        "table = pd.pivot_table(df, values=['bootie'], index=['MODELING_GROUP'],columns=['CATEGORY'], aggfunc=np.sum)\n",
        "table"
      ],
      "execution_count": null,
      "outputs": [
        {
          "output_type": "execute_result",
          "execution_count": 122,
          "data": {
            "text/plain": "                       bootie                                           \nCATEGORY       FALSE_NEGATIVE FALSE_POSITIVE TRUE_NEGATIVE TRUE_POSITIVE\nMODELING_GROUP                                                          \nTESTING                    99            262        108508            50\nTRAINING                    6             42        106538           140",
            "text/html": "<div>\n<style scoped>\n    .dataframe tbody tr th:only-of-type {\n        vertical-align: middle;\n    }\n\n    .dataframe tbody tr th {\n        vertical-align: top;\n    }\n\n    .dataframe thead tr th {\n        text-align: left;\n    }\n\n    .dataframe thead tr:last-of-type th {\n        text-align: right;\n    }\n</style>\n<table border=\"1\" class=\"dataframe\">\n  <thead>\n    <tr>\n      <th></th>\n      <th colspan=\"4\" halign=\"left\">bootie</th>\n    </tr>\n    <tr>\n      <th>CATEGORY</th>\n      <th>FALSE_NEGATIVE</th>\n      <th>FALSE_POSITIVE</th>\n      <th>TRUE_NEGATIVE</th>\n      <th>TRUE_POSITIVE</th>\n    </tr>\n    <tr>\n      <th>MODELING_GROUP</th>\n      <th></th>\n      <th></th>\n      <th></th>\n      <th></th>\n    </tr>\n  </thead>\n  <tbody>\n    <tr>\n      <th>TESTING</th>\n      <td>99</td>\n      <td>262</td>\n      <td>108508</td>\n      <td>50</td>\n    </tr>\n    <tr>\n      <th>TRAINING</th>\n      <td>6</td>\n      <td>42</td>\n      <td>106538</td>\n      <td>140</td>\n    </tr>\n  </tbody>\n</table>\n</div>"
          },
          "metadata": {}
        }
      ]
    },
    {
      "metadata": {
        "id": "n7IZ9pBsTtoX"
      },
      "cell_type": "markdown",
      "source": [
        "Again, I have no idea if these results are good.  To gauge the model's effectiveness, we need to incorporate the economics."
      ]
    },
    {
      "metadata": {
        "id": "HYhY2Wg3TtoX",
        "outputId": "26a054f3-a6ce-4227-8779-d220f4087184"
      },
      "cell_type": "code",
      "source": [
        "\n",
        "#Now we can calculate the total cost.\n",
        "df['TOTAL_COST']=df.FALSE_NEGATIVE*30000+df.FALSE_POSITIVE*1500+df.TRUE_POSITIVE*7500\n",
        "#Aggregate the costs by modeling group.\n",
        "table = pd.pivot_table(df, values=['TOTAL_COST'],index=['MODELING_GROUP'], aggfunc=np.sum)\n",
        "\n",
        "#Calculate the number of machines in each modeling group.\n",
        "wells=df[['ID','MODELING_GROUP']]\n",
        "wells=wells.drop_duplicates(subset='ID')\n",
        "wells = wells.groupby(['MODELING_GROUP'])['ID'].count()\n",
        "wells=pd.DataFrame(wells)\n",
        "wells=wells.rename(columns={\"ID\": \"WELLS\"})\n",
        "\n",
        "tc = df.groupby(['MODELING_GROUP'])['TOTAL_COST'].sum()\n",
        "tc=pd.DataFrame(tc)\n",
        "#Merge the total costs and total machines into one data frame.\n",
        "ac =tc.merge(wells, on=['MODELING_GROUP'], how='inner')\n",
        "#Calculate the average cost per machine.\n",
        "\n",
        "ac['AVERAGE_COST']=ac.TOTAL_COST/ac.WELLS\n",
        "ac['LIFT']=27948-ac.AVERAGE_COST\n",
        "ac"
      ],
      "execution_count": null,
      "outputs": [
        {
          "output_type": "execute_result",
          "execution_count": 123,
          "data": {
            "text/plain": "                TOTAL_COST  WELLS  AVERAGE_COST          LIFT\nMODELING_GROUP                                               \nTESTING            3738000    149  25087.248322   2860.751678\nTRAINING           1293000    146   8856.164384  19091.835616",
            "text/html": "<div>\n<style scoped>\n    .dataframe tbody tr th:only-of-type {\n        vertical-align: middle;\n    }\n\n    .dataframe tbody tr th {\n        vertical-align: top;\n    }\n\n    .dataframe thead th {\n        text-align: right;\n    }\n</style>\n<table border=\"1\" class=\"dataframe\">\n  <thead>\n    <tr style=\"text-align: right;\">\n      <th></th>\n      <th>TOTAL_COST</th>\n      <th>WELLS</th>\n      <th>AVERAGE_COST</th>\n      <th>LIFT</th>\n    </tr>\n    <tr>\n      <th>MODELING_GROUP</th>\n      <th></th>\n      <th></th>\n      <th></th>\n      <th></th>\n    </tr>\n  </thead>\n  <tbody>\n    <tr>\n      <th>TESTING</th>\n      <td>3738000</td>\n      <td>149</td>\n      <td>25087.248322</td>\n      <td>2860.751678</td>\n    </tr>\n    <tr>\n      <th>TRAINING</th>\n      <td>1293000</td>\n      <td>146</td>\n      <td>8856.164384</td>\n      <td>19091.835616</td>\n    </tr>\n  </tbody>\n</table>\n</div>"
          },
          "metadata": {}
        }
      ]
    },
    {
      "metadata": {
        "id": "5BY9JfI9TtoY"
      },
      "cell_type": "markdown",
      "source": [
        "Ok.  These metrics look much better, but let's not get too excited until we affirm the results on the validation data set."
      ]
    },
    {
      "metadata": {
        "id": "3zFzZjZJTtoY"
      },
      "cell_type": "markdown",
      "source": [
        "#### 7.5 Validating the solution.<a id=\"7.3\"></a>"
      ]
    },
    {
      "metadata": {
        "id": "qQUMPIeZTtoY"
      },
      "cell_type": "code",
      "source": [
        "df=df_total"
      ],
      "execution_count": null,
      "outputs": []
    },
    {
      "metadata": {
        "id": "cBuSzqTjTtoY",
        "outputId": "f56d00dd-c01c-41ab-9b1b-4b4febd046e6"
      },
      "cell_type": "code",
      "source": [
        "df['P_FAIL']= xgb0.predict_proba(df[features])[:,1];\n",
        "df['Y_FAIL'] = np.where(((df.P_FAIL <= cutoff)), 0, 1)\n",
        "#sort the data by id and date.\n",
        "xx=df\n",
        "xx=xx.sort_values(by=['ID','DATE'], ascending=[True, True])\n",
        "#create a unique list of machines\n",
        "aa=xx\n",
        "\n",
        "pd_id=aa.drop_duplicates(subset='ID')\n",
        "pd_id=pd_id[['ID']]\n",
        "\n",
        "\n",
        "#label each machine with a sequential number\n",
        "pd_id=pd_id.reset_index(drop=True)\n",
        "pd_id=pd_id.reset_index(drop=False)\n",
        "pd_id=pd_id.rename(columns={\"index\": \"SCOOBYDOO\"})\n",
        "pd_id['SCOOBYDOO']=pd_id['SCOOBYDOO']+1\n",
        "pd_id.head()\n",
        "\n",
        "#grab the max number of machines +1\n",
        "\n",
        "column = pd_id[\"SCOOBYDOO\"]\n",
        "max_value = column.max()+1\n",
        "max_value\n",
        "\n",
        "#append sequential number to main file.  Now each machine has a sequencial id.\n",
        "xx=xx.sort_values(by=['ID'], ascending=[True])\n",
        "pd_id=pd_id.sort_values(by=['ID'], ascending=[True])\n",
        "xx =xx.merge(pd_id, on=['ID'], how='inner')\n",
        "xx.head()\n",
        "\n",
        "#sort data\n",
        "xx=xx.sort_values(by=['ID','DATE'], ascending=[True,True])\n",
        "\n",
        "#reset index\n",
        "xx=xx.reset_index(drop=True)\n",
        "\n",
        "#create a null dataframe for the next step\n",
        "df_fred=xx\n",
        "df_fred['Y_FAIL_sumxx']=0\n",
        "df_fred=df_fred[df_fred['SCOOBYDOO'] == max_value+1]\n",
        "df_fred.shape\n",
        "\n",
        "\n",
        "#sum the number of signals occuring over the last 90 days for each machine individually\n",
        "\n",
        "for x in range(max_value):\n",
        "        dffx=xx[xx['SCOOBYDOO'] ==x]\n",
        "        dff=dffx.copy()\n",
        "        dff['Y_FAIL_sumxx'] =(dff['Y_FAIL'].rolling(min_periods=1, window=(forecast_window)).sum())\n",
        "        df_fred= pd.concat([df_fred,dff])\n",
        "\n",
        "\n",
        "xx=df_fred\n",
        "\n",
        "# if a signal has occured in the last 90 days, the signal is 0.\n",
        "xx['Y_FAILZ']=np.where((xx.Y_FAIL_sumxx>1), 0, xx.Y_FAIL)\n",
        "\n",
        "\n",
        "#sort the data by id and date.\n",
        "\n",
        "xx=xx.sort_values(by=['ID','DATE'], ascending=[True, True])\n",
        "\n",
        "\n",
        "#create signal id with the cumsum function.\n",
        "xx['SIGNAL_ID'] = xx['Y_FAILZ'].cumsum()\n",
        "\n",
        "\n",
        "df_signals=xx[xx['Y_FAILZ'] == 1]\n",
        "df_signal_date=df_signals[['SIGNAL_ID','DATE','ID']]\n",
        "df_signal_date=df_signal_date.rename(index=str, columns={\"DATE\": \"SIGNAL_DATE\"})\n",
        "df_signal_date=df_signal_date.rename(index=str, columns={\"ID\": \"ID_OF_SIGNAL\"})\n",
        "\n",
        "\n",
        "\n",
        "xx =xx.merge(df_signal_date, on=['SIGNAL_ID'], how='outer')\n",
        "\n",
        "\n",
        "xx=xx[['DATE', 'ID', 'EQUIPMENT_FAILURE', 'FAILURE_TARGET','FAILURE_DATE',\n",
        "       'P_FAIL', 'Y_FAILZ','SIGNAL_ID',\n",
        "       'SIGNAL_DATE','ID_OF_SIGNAL','MODELING_GROUP']]\n",
        "\n",
        "\n",
        "\n",
        "xx['C'] = xx['FAILURE_DATE'] - xx['SIGNAL_DATE']\n",
        "xx['WARNING'] = xx['C'] / np.timedelta64(1, 'D')\n",
        "\n",
        "\n",
        "\n",
        "\n",
        "df=xx\n",
        "\n",
        "\n",
        "\n",
        "\n",
        "\n",
        "\n",
        "# define a true positive\n",
        "df['TRUE_POSITIVE'] = np.where(((df.EQUIPMENT_FAILURE == 1) & (df.WARNING<=forecast_window) &(df.WARNING>=0) & (df.ID_OF_SIGNAL==df.ID)), 1, 0)\n",
        "\n",
        "\n",
        "# define a false negative\n",
        "df['FALSE_NEGATIVE'] = np.where((df.TRUE_POSITIVE==0) & (df.EQUIPMENT_FAILURE==1), 1, 0)\n",
        "\n",
        "# define a false positive\n",
        "df['BAD_S']=np.where((df.WARNING<0) | (df.WARNING>=forecast_window), 1, 0)\n",
        "\n",
        "df['FALSE_POSITIVE'] = np.where(((df.Y_FAILZ == 1) & (df.BAD_S==1) & (df.ID_OF_SIGNAL==df.ID)), 1, 0)\n",
        "\n",
        "df['bootie']=1\n",
        "\n",
        "df['CATEGORY']=np.where((df.FALSE_POSITIVE==1),'FALSE_POSITIVE',\n",
        "                                      (np.where((df.FALSE_NEGATIVE==1),'FALSE_NEGATIVE',\n",
        "                                                (np.where((df.TRUE_POSITIVE==1),'TRUE_POSITIVE','TRUE_NEGATIVE')))))\n",
        "\n",
        "\n",
        "\n",
        "\n",
        "#Now we can calculate the total cost.\n",
        "df['TOTAL_COST']=df.FALSE_NEGATIVE*30000+df.FALSE_POSITIVE*1500+df.TRUE_POSITIVE*7500\n",
        "#Aggregate the costs by modeling group.\n",
        "table = pd.pivot_table(df, values=['TOTAL_COST'],index=['MODELING_GROUP'], aggfunc=np.sum)\n",
        "\n",
        "#Calculate the number of machines in each modeling group.\n",
        "wells=df[['ID','MODELING_GROUP']]\n",
        "wells=wells.drop_duplicates(subset='ID')\n",
        "wells = wells.groupby(['MODELING_GROUP'])['ID'].count()\n",
        "wells=pd.DataFrame(wells)\n",
        "wells=wells.rename(columns={\"ID\": \"WELLS\"})\n",
        "\n",
        "tc = df.groupby(['MODELING_GROUP'])['TOTAL_COST'].sum()\n",
        "tc=pd.DataFrame(tc)\n",
        "#Merge the total costs and total machines into one data frame.\n",
        "ac =tc.merge(wells, on=['MODELING_GROUP'], how='inner')\n",
        "#Calculate the average cost per machine.\n",
        "\n",
        "ac['AVERAGE_COST']=ac.TOTAL_COST/ac.WELLS\n",
        "ac['LIFT']=27948-ac.AVERAGE_COST\n",
        "ac"
      ],
      "execution_count": null,
      "outputs": [
        {
          "output_type": "execute_result",
          "execution_count": 248,
          "data": {
            "text/plain": "                TOTAL_COST  WELLS  AVERAGE_COST          LIFT\nMODELING_GROUP                                               \nTESTING            3738000    149  25087.248322   2860.751678\nTRAINING           1293000    146   8856.164384  19091.835616\nVALIDATION         3072000    126  24380.952381   3567.047619",
            "text/html": "<div>\n<style scoped>\n    .dataframe tbody tr th:only-of-type {\n        vertical-align: middle;\n    }\n\n    .dataframe tbody tr th {\n        vertical-align: top;\n    }\n\n    .dataframe thead th {\n        text-align: right;\n    }\n</style>\n<table border=\"1\" class=\"dataframe\">\n  <thead>\n    <tr style=\"text-align: right;\">\n      <th></th>\n      <th>TOTAL_COST</th>\n      <th>WELLS</th>\n      <th>AVERAGE_COST</th>\n      <th>LIFT</th>\n    </tr>\n    <tr>\n      <th>MODELING_GROUP</th>\n      <th></th>\n      <th></th>\n      <th></th>\n      <th></th>\n    </tr>\n  </thead>\n  <tbody>\n    <tr>\n      <th>TESTING</th>\n      <td>3738000</td>\n      <td>149</td>\n      <td>25087.248322</td>\n      <td>2860.751678</td>\n    </tr>\n    <tr>\n      <th>TRAINING</th>\n      <td>1293000</td>\n      <td>146</td>\n      <td>8856.164384</td>\n      <td>19091.835616</td>\n    </tr>\n    <tr>\n      <th>VALIDATION</th>\n      <td>3072000</td>\n      <td>126</td>\n      <td>24380.952381</td>\n      <td>3567.047619</td>\n    </tr>\n  </tbody>\n</table>\n</div>"
          },
          "metadata": {}
        }
      ]
    },
    {
      "metadata": {
        "id": "edj7Q2GHTtoY"
      },
      "cell_type": "markdown",
      "source": [
        "###  8.0 Conclusions <a id=\"conc\"></a>"
      ]
    },
    {
      "metadata": {
        "id": "rF5IISAzTtoZ"
      },
      "cell_type": "markdown",
      "source": [
        "Now we have everything we need to examine the effectiveness of the model.  \n",
        "\n",
        "Maintenance currently costs the firm about 27,948 dollars per machine in the current data set.  In the Validation data set, the cost per machine is 24,380.  A predictive maintenance solution will lower the cost per machine by about 3,567 dollars per machine in the validation set.  To be conservative, we should probably take the lower of the testing and validation data sets, so let's use 2,860 as a lift over the BAU metric.  The lift multiplied by 421 machines equates to 1.204 million in savings or about a 10% reduction in total expenses.\n",
        "\n",
        "Not too shabby.\n",
        "\n"
      ]
    },
    {
      "metadata": {
        "id": "CnRu5-r6TtoZ"
      },
      "cell_type": "markdown",
      "source": [
        "### Author\n",
        "\n",
        "\n"
      ]
    },
    {
      "metadata": {
        "id": "ur4p-hO1TtoZ"
      },
      "cell_type": "markdown",
      "source": [
        "\n",
        "**Shad Griffin**, is a Certified Thought Leader and Data Scientist at IBM"
      ]
    },
    {
      "metadata": {
        "id": "hIX0OG54TtoZ"
      },
      "cell_type": "markdown",
      "source": [
        "<hr>\n",
        "Copyright &copy; IBM Corp. 2020. This notebook and its source code are released under the terms of the MIT License.\n",
        "\n"
      ]
    }
  ],
  "metadata": {
    "kernelspec": {
      "name": "python3",
      "display_name": "Python 3.9",
      "language": "python"
    },
    "language_info": {
      "name": "python",
      "version": "3.9.12",
      "mimetype": "text/x-python",
      "codemirror_mode": {
        "name": "ipython",
        "version": 3
      },
      "pygments_lexer": "ipython3",
      "nbconvert_exporter": "python",
      "file_extension": ".py"
    },
    "colab": {
      "provenance": [],
      "include_colab_link": true
    }
  },
  "nbformat": 4,
  "nbformat_minor": 0
}